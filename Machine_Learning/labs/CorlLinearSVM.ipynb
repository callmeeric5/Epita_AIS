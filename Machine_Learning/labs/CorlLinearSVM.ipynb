{
 "cells": [
  {
   "cell_type": "markdown",
   "metadata": {},
   "source": [
    "# <center> Support Vector Machine<br> <small>Réda DEHAK<br> 14 January 2020</small> </center>\n",
    "\n",
    "The goal of this lab is :\n",
    "    - Test SVM Methods on classification problems\n",
    "    \n",
    "We will use the [Wine dataset](https://archive.ics.uci.edu/ml/datasets/Wine) from UCI. These data are the results of a chemical analysis of wines grown in the same region in Italy but derived from three different cultivars. The analysis determined the quantities of thirteen constituents found in each of the three types of wines."
   ]
  },
  {
   "cell_type": "markdown",
   "metadata": {},
   "source": [
    "# Part 1: Own implementation of SVM class\n",
    "\n",
    "We will try first to implement our own SVM class to perform an SVM classifier using the <A href=https://cvxopt.org/userguide/coneprog.html#quadratic-programming> cvxopt.solvers.qp </A> solver \n",
    "\n",
    "1- Try first to implement myOwnHardSVM"
   ]
  },
  {
   "cell_type": "markdown",
   "metadata": {},
   "source": [
    "- SVM training consists of solving the double problem defined by:\n",
    "\\begin{align}\n",
    "\\text{Maximize:} & Q(\\alpha) = \\sum_i \\alpha_i - \\frac{1}{2} \\sum_i\\sum_j \\alpha_i \\alpha_j y_i y_j G[i,j]\\\\\n",
    "\\text{Subject to:} & \\sum_i \\alpha_i y_i =0\\\\\n",
    "& \\alpha_i \\ge 0\n",
    "\\end{align}\n",
    "\n",
    "Where $G$ represents the Gram Matrix and is defined by:\n",
    "$$G[i, j]= \\left< x_i, x_j\\right>$$"
   ]
  },
  {
   "cell_type": "code",
   "execution_count": 52,
   "metadata": {},
   "outputs": [],
   "source": [
    "from cvxopt.solvers import qp\n",
    "from cvxopt import matrix\n",
    "import numpy as np\n",
    "\n",
    "EPS=1E-5\n",
    "\n",
    "class myOwnHardSVM:\n",
    "    def init(self):\n",
    "        self.W = None\n",
    "        self.b = None\n",
    "        self.alphas = None\n",
    "        self.SVs = None\n",
    "    \n",
    "    def fit(self, DataTrain, labels):\n",
    "        DataTrain = np.asarray(DataTrain)\n",
    "        labels = np.asarray(labels)\n",
    "        labels = labels.reshape((1, -1))\n",
    "        \n",
    "        N = len(DataTrain)\n",
    "        q = matrix(-np.ones((N, 1)), size = (N, 1), tc='d')\n",
    "        P = matrix((labels.T @ labels) *(DataTrain @ DataTrain.T), size = (N, N), tc = 'd')\n",
    "        A = matrix(labels, size = (1, N), tc = 'd')\n",
    "        b = matrix(np.zeros((1,1)), size = (1,1), tc = 'd')\n",
    "        G = matrix(-np.eye(N), size = (N, N), tc = 'd')\n",
    "        h = matrix(np.zeros((N,1)), size = (N,1), tc = 'd')\n",
    "        res = qp(P, q, G, h, A, b)\n",
    "        if res['status'] == 'optimal':\n",
    "            id = np.where(np.array(res['x']) > EPS)[0]\n",
    "            self.alphas = np.array(res['x'])[id].reshape(-1, 1) * labels[0, id].reshape(-1,1)\n",
    "            self.SVs = DataTrain[id, :]\n",
    "            # w = sum y_i alpha_i sv_i\n",
    "            self.W = self.SVs.T @ self.alphas\n",
    "            # b = 1/Nsv sum (y_i - w.T sv_i)\n",
    "            self.b = 1 / len(id) * np.sum(labels[0,id]-self.W.T @ self.SVs.T)\n",
    "        else:\n",
    "            print('The solution is not optimal')\n",
    "\n",
    "        return self\n",
    "    \n",
    "    def decision_function(self, data):\n",
    "        return self.W.T @ data.T + self.b\n",
    "    \n",
    "    def predict(self, data):\n",
    "        return np.sign(self.decision_function(data))"
   ]
  },
  {
   "cell_type": "markdown",
   "metadata": {},
   "source": [
    "- Test your myOwnHardSVM class on this simple dataset $\\left\\{\\left(1; -1\\right), \\left(2; +1\\right), \\left(3; +1\\right)\\right\\}$. Did you obtain a coherent results"
   ]
  },
  {
   "cell_type": "code",
   "execution_count": 53,
   "metadata": {},
   "outputs": [
    {
     "name": "stdout",
     "output_type": "stream",
     "text": [
      "     pcost       dcost       gap    pres   dres\n",
      " 0: -1.1111e+00 -2.4444e+00  5e+00  2e+00  2e+00\n",
      " 1: -2.0801e+00 -2.0579e+00  1e-01  1e-01  1e-01\n",
      " 2: -2.0000e+00 -2.0008e+00  2e-03  9e-04  9e-04\n",
      " 3: -2.0000e+00 -2.0000e+00  2e-05  9e-06  9e-06\n",
      " 4: -2.0000e+00 -2.0000e+00  2e-07  9e-08  9e-08\n",
      "Optimal solution found.\n",
      "<__main__.myOwnHardSVM object at 0x11894ac60>\n"
     ]
    }
   ],
   "source": [
    "mySVM = myOwnHardSVM().fit(np.array([[1], [2], [3]]), np.array([-1, 1, 1]))\n",
    "print(mySVM)"
   ]
  },
  {
   "cell_type": "code",
   "execution_count": 54,
   "metadata": {},
   "outputs": [
    {
     "name": "stdout",
     "output_type": "stream",
     "text": [
      "[[-1.99999986]\n",
      " [ 1.99999986]] [[1]\n",
      " [2]]\n"
     ]
    }
   ],
   "source": [
    "print(mySVM.alphas, mySVM.SVs)"
   ]
  },
  {
   "cell_type": "code",
   "execution_count": 55,
   "metadata": {},
   "outputs": [
    {
     "name": "stdout",
     "output_type": "stream",
     "text": [
      "[[1.99999986]] -2.999999795062309\n"
     ]
    }
   ],
   "source": [
    "print(mySVM.W, mySVM.b)"
   ]
  },
  {
   "cell_type": "markdown",
   "metadata": {},
   "source": [
    "- Generate a tiny 2D linearly separable 2 classes problem and test your myOwnHardSVM. Plot the boundary and check your result. Try to adapt the function plot_boundary to show the margin and the support vector."
   ]
  },
  {
   "cell_type": "code",
   "execution_count": 63,
   "metadata": {},
   "outputs": [],
   "source": [
    "import matplotlib.pyplot as plt\n",
    "from matplotlib import cm\n",
    "from matplotlib.colors import LinearSegmentedColormap\n",
    "\n",
    "%matplotlib inline\n",
    "\n",
    "MARKERS = ['+', 'x', '.']\n",
    "COLORS = ['red', 'green', 'blue']\n",
    "\n",
    "def plot_points(xy, labels):\n",
    "    \n",
    "    for i, label in enumerate(set(labels)):\n",
    "        points = np.array([xy[j,:] for j in range(len(xy)) if labels[j] == label])\n",
    "        marker = MARKERS[i % len(MARKERS)]\n",
    "        color = COLORS[i % len(COLORS)]\n",
    "        plt.scatter(points[:,0], points[:,1], marker=marker, color=color)\n",
    "\n",
    "def plot_boundary(X, pred):\n",
    "    \n",
    "    x_min, x_max = X[:,0].min() - .1, X[:,0].max() + .1\n",
    "    y_min, y_max = X[:,1].min() - .1, X[:,1].max() + .1\n",
    "    \n",
    "    xs, ys = np.meshgrid(\n",
    "        np.linspace(x_min, x_max, 200),\n",
    "        np.linspace(y_min, y_max, 200)\n",
    "    )\n",
    "\n",
    "    xys = np.column_stack([xs.ravel(), ys.ravel()])\n",
    "    zs = pred(xys).reshape(xs.shape)\n",
    "    plt.contour(xs, ys, zs, colors='black', levels=[0])\n",
    "    plt.contour(xs, ys, zs, colors='black', linestyles='dashed', levels=[-1, +1])"
   ]
  },
  {
   "cell_type": "code",
   "execution_count": 64,
   "metadata": {},
   "outputs": [
    {
     "name": "stdout",
     "output_type": "stream",
     "text": [
      "     pcost       dcost       gap    pres   dres\n",
      " 0: -6.1287e-01 -1.3237e+00  9e+00  3e+00  1e+00\n",
      " 1: -1.4733e-01 -1.1348e+00  1e+00  4e-16  4e-16\n",
      " 2: -4.0193e-01 -4.8819e-01  9e-02  2e-16  6e-16\n",
      " 3: -4.4316e-01 -4.4506e-01  2e-03  6e-17  4e-16\n",
      " 4: -4.4443e-01 -4.4445e-01  2e-05  6e-17  6e-16\n",
      " 5: -4.4444e-01 -4.4444e-01  2e-07  1e-16  4e-16\n",
      "Optimal solution found.\n"
     ]
    }
   ],
   "source": [
    "Data = np.array([[1, 2], [2, 3], [1, 3], [2, 0], [3, 0], [3, 1]])\n",
    "Labels = np.array([1, 1, 1, -1, -1, -1])\n",
    "mySVM2= myOwnHardSVM().fit(Data, Labels)"
   ]
  },
  {
   "cell_type": "code",
   "execution_count": 67,
   "metadata": {},
   "outputs": [
    {
     "data": {
      "text/plain": [
       "<matplotlib.collections.PathCollection at 0x1287bc2f0>"
      ]
     },
     "execution_count": 67,
     "metadata": {},
     "output_type": "execute_result"
    },
    {
     "data": {
      "image/png": "[encoded data removed]",
      "text/plain": [
       "<Figure size 640x480 with 1 Axes>"
      ]
     },
     "metadata": {},
     "output_type": "display_data"
    }
   ],
   "source": [
    "plot_points(Data, Labels)\n",
    "plot_boundary(Data, lambda x:mySVM2.decision_function(x))\n",
    "plt.scatter(mySVM2.SVs[:,0], mySVM2.SVs[:,1], marker='o', color='red')"
   ]
  },
  {
   "cell_type": "markdown",
   "metadata": {},
   "source": [
    "- Try now your myOwnHardSVM with a training dataset which is not linearly separable, what did you remark?"
   ]
  },
  {
   "cell_type": "code",
   "execution_count": null,
   "metadata": {},
   "outputs": [],
   "source": []
  },
  {
   "cell_type": "markdown",
   "metadata": {},
   "source": [
    "2- We try now to implement the sof margin SVM class"
   ]
  },
  {
   "cell_type": "code",
   "execution_count": null,
   "metadata": {},
   "outputs": [],
   "source": [
    "class myOwnSoftSVM(myOwnHardSVM):\n",
    "    \n",
    "    def init(self, C=1.):\n",
    "        pass\n",
    "    \n",
    "    ..."
   ]
  },
  {
   "cell_type": "markdown",
   "metadata": {},
   "source": [
    "- Test your myOwnSoftSVM class on your previous training dataset which is not linearly separable."
   ]
  },
  {
   "cell_type": "code",
   "execution_count": null,
   "metadata": {},
   "outputs": [],
   "source": []
  },
  {
   "cell_type": "markdown",
   "metadata": {},
   "source": [
    "# Part 2: Wine dataset and sklearn.svm.svc class\n",
    "\n",
    "## Loading and Plotting Data\n",
    " \n",
    "First, we will use only two features from the data set: alcohol and ash (We can plot the solution in 2D space). The labels are supplied as an array of data with values from 1 to 3, but at first, we want a simple binary regression problem with a yes or no answer.  \n",
    "\n",
    "We filter the data set, reducing it to only include wines with labels 1 or 2.  "
   ]
  },
  {
   "cell_type": "code",
   "execution_count": null,
   "metadata": {},
   "outputs": [],
   "source": [
    "import pandas as pd\n",
    "import numpy as np\n",
    "from sklearn.preprocessing import label_binarize\n",
    "\n",
    "data = pd.read_csv('data.txt')\n",
    "\n",
    "reduced = data[data['class'] <= 2]\n",
    "X = reduced[['alcohol', 'ash']].to_numpy()\n",
    "y = label_binarize(reduced['class'].values, classes=[1, 2])[:,0]"
   ]
  },
  {
   "cell_type": "code",
   "execution_count": null,
   "metadata": {},
   "outputs": [],
   "source": [
    "from sklearn.model_selection import train_test_split\n",
    "\n",
    "Xtrain, Xtest, ytrain, ytest = train_test_split(X, y, test_size=0.25, random_state = 42)\n",
    "print('train:', len(Xtrain), 'test:', len(Xtest))"
   ]
  },
  {
   "cell_type": "code",
   "execution_count": null,
   "metadata": {},
   "outputs": [],
   "source": [
    "plot_points(Xtrain, ytrain)"
   ]
  },
  {
   "cell_type": "markdown",
   "metadata": {},
   "source": [
    "We can see that we can plot line that could divide the two colored points with a small amount of error.\n",
    "\n",
    "# Linear SVM\n",
    "\n",
    "- Using SVC class of sklearn.svm train a linear SVM"
   ]
  },
  {
   "cell_type": "code",
   "execution_count": null,
   "metadata": {},
   "outputs": [],
   "source": [
    "from sklearn.svm import SVC\n",
    "\n",
    "..."
   ]
  },
  {
   "cell_type": "markdown",
   "metadata": {},
   "source": [
    "- print the dual parameters $\\alpha$"
   ]
  },
  {
   "cell_type": "code",
   "execution_count": null,
   "metadata": {},
   "outputs": [],
   "source": [
    "..."
   ]
  },
  {
   "cell_type": "markdown",
   "metadata": {},
   "source": [
    "- Plot the linear separator, show the margin and the support vector. "
   ]
  },
  {
   "cell_type": "code",
   "execution_count": null,
   "metadata": {},
   "outputs": [],
   "source": []
  },
  {
   "cell_type": "markdown",
   "metadata": {},
   "source": [
    "- Which training examples are misclassified? compute the slack variables $\\zeta_i$ for these samples"
   ]
  },
  {
   "cell_type": "markdown",
   "metadata": {},
   "source": [
    "- Compute the confusion matrix, the accuray, the precision and the recall on the test data? "
   ]
  },
  {
   "cell_type": "code",
   "execution_count": null,
   "metadata": {},
   "outputs": [],
   "source": []
  },
  {
   "cell_type": "markdown",
   "metadata": {},
   "source": [
    "- Compute the accuray, the precision, the recall and the confusion matrix of your classifieur? what did you conclude? "
   ]
  },
  {
   "cell_type": "code",
   "execution_count": null,
   "metadata": {},
   "outputs": [],
   "source": [
    "from sklearn.metrics import confusion_matrix, plot_confusion_matrix, accuracy_score, precision_score, recall_score\n",
    "\n",
    "..."
   ]
  },
  {
   "cell_type": "markdown",
   "metadata": {},
   "source": [
    "# Multiclass SVM\n",
    "\n",
    "The next step is something more interesting: we use a similar set of two features from the data set (this time alcohol and flavanoids), but with all three labels instead of two."
   ]
  },
  {
   "cell_type": "code",
   "execution_count": null,
   "metadata": {},
   "outputs": [],
   "source": [
    "X = data[['alcohol', 'flavanoids']].to_numpy()\n",
    "y = data['class'].to_numpy()\n",
    "Xtrain, Xtest, ytrain, ytest = train_test_split(X, y, test_size=0.25, random_state = 42)\n",
    "\n",
    "plot_points(Xtrain, ytrain)"
   ]
  },
  {
   "cell_type": "markdown",
   "metadata": {},
   "source": [
    "The plotted data points again suggest some obvious linear boundaries between the three classes.\n",
    "\n",
    "\n",
    "- Train and Test a linear SVM using the method one against rest"
   ]
  },
  {
   "cell_type": "code",
   "execution_count": null,
   "metadata": {},
   "outputs": [],
   "source": [
    "..."
   ]
  },
  {
   "cell_type": "markdown",
   "metadata": {},
   "source": [
    "- Train and Test a linear SVM using the method one against one"
   ]
  },
  {
   "cell_type": "code",
   "execution_count": null,
   "metadata": {},
   "outputs": [],
   "source": [
    "..."
   ]
  },
  {
   "cell_type": "markdown",
   "metadata": {},
   "source": [
    "- compare the result of the two methods?"
   ]
  },
  {
   "cell_type": "code",
   "execution_count": null,
   "metadata": {},
   "outputs": [],
   "source": [
    "..."
   ]
  },
  {
   "cell_type": "markdown",
   "metadata": {},
   "source": [
    "# Practice\n",
    "\n",
    "Next, we want to include all the features from the data set.  "
   ]
  },
  {
   "cell_type": "code",
   "execution_count": null,
   "metadata": {},
   "outputs": [],
   "source": [
    "X = data.drop('class', 1).to_numpy()\n",
    "y = data['class'].to_numpy()\n",
    "Xtrain, Xtest, ytrain, ytest = train_test_split(X, y, test_size=0.25, random_state = 42)"
   ]
  },
  {
   "cell_type": "markdown",
   "metadata": {},
   "source": [
    "Because we are now significantly increasing the number of features, since we have few training example we need to prevent overfitting.\n",
    "\n",
    "- Train and test a SVM classifier solution in this case"
   ]
  },
  {
   "cell_type": "code",
   "execution_count": null,
   "metadata": {},
   "outputs": [],
   "source": [
    "..."
   ]
  },
  {
   "cell_type": "markdown",
   "metadata": {},
   "source": [
    "- Conclude, What is your remarks about overfitting and generalisation compared to the previous results?"
   ]
  },
  {
   "cell_type": "code",
   "execution_count": null,
   "metadata": {},
   "outputs": [],
   "source": []
  }
 ],
 "metadata": {
  "kernelspec": {
   "display_name": "Py312Sys",
   "language": "python",
   "name": "py312sys"
  },
  "language_info": {
   "codemirror_mode": {
    "name": "ipython",
    "version": 3
   },
   "file_extension": ".py",
   "mimetype": "text/x-python",
   "name": "python",
   "nbconvert_exporter": "python",
   "pygments_lexer": "ipython3",
   "version": "3.12.3"
  }
 },
 "nbformat": 4,
 "nbformat_minor": 4
}
