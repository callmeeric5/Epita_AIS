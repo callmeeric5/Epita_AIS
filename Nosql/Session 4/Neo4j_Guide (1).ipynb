{
  "nbformat": 4,
  "nbformat_minor": 0,
  "metadata": {
    "colab": {
      "provenance": []
    },
    "kernelspec": {
      "name": "python3",
      "display_name": "Python 3"
    },
    "language_info": {
      "name": "python"
    }
  },
  "cells": [
    {
      "cell_type": "markdown",
      "source": [
        "# Guide to neo4j with python"
      ],
      "metadata": {
        "id": "-MbN5Gi0Cxqp"
      }
    },
    {
      "cell_type": "markdown",
      "source": [
        "At the hearth of Neo4j lies Cypher, the query language you use to interact with a Neo4j database. While this guide does not require you to be a seasoned Cypher querier, it is going to be easier to focus on the Python-specific bits if you already know some Cypher. For this reason, although this guide does also provide a gentle introduction to Cypher along the way, consider checking out [Getting started → Cypher](https://neo4j.com/docs/getting-started/cypher-intro/?utm_medium=PaidSearch&utm_source=google&utm_campaign=GDB&utm_content=EMEA-X-Awareness-GDB-Text&gclid=CjwKCAiAvdCrBhBREiwAX6-6UoIDTEMkwSDABQLQeIr12PK5XynwqS6mGynXPS62O190iHmgFyBKshoCqEUQAvD_BwE) for a more detailed walkthrough of graph databases modelling and querying if this is your first approach. You may then apply that knowledge while following this guide to develop your Python application.\n"
      ],
      "metadata": {
        "id": "ZM6LnEwkCxkJ"
      }
    },
    {
      "cell_type": "markdown",
      "source": [
        "## Installation"
      ],
      "metadata": {
        "id": "wRje9w8GDJyS"
      }
    },
    {
      "cell_type": "code",
      "execution_count": null,
      "metadata": {
        "id": "CHjG-9jTCuCs"
      },
      "outputs": [],
      "source": [
        "!pip install neo4j"
      ]
    },
    {
      "cell_type": "markdown",
      "source": [
        "## Connecting to the datbase"
      ],
      "metadata": {
        "id": "g0OwJBMsDSlI"
      }
    },
    {
      "cell_type": "code",
      "source": [
        "from neo4j import GraphDatabase\n",
        "\n",
        "# URI examples: \"neo4j://localhost\", \"neo4j+s://xxx.databases.neo4j.io\"\n",
        "URI = \"<URI for Neo4j database>\"\n",
        "AUTH = (\"<Username>\", \"<Password>\")\n",
        "\n",
        "driver = GraphDatabase.driver(URI, auth=AUTH)\n",
        "driver.verify_connectivity()"
      ],
      "metadata": {
        "id": "Lt5Iiq-7DWC5"
      },
      "execution_count": null,
      "outputs": []
    },
    {
      "cell_type": "markdown",
      "source": [
        "## Write to the database"
      ],
      "metadata": {
        "id": "URHfbnxcFh0B"
      }
    },
    {
      "cell_type": "markdown",
      "source": [
        "Execute a Cypher statement with the method Driver.execute_query(). Do not hardcode or concatenate parameters: use placeholders and specify the parameters as keyword arguments."
      ],
      "metadata": {
        "id": "oJ5OCCx6Fms5"
      }
    },
    {
      "cell_type": "markdown",
      "source": [
        "### Insert"
      ],
      "metadata": {
        "id": "Ux8OQjNbKJje"
      }
    },
    {
      "cell_type": "markdown",
      "source": [
        "#### Insert nodes"
      ],
      "metadata": {
        "id": "eoW2Q9XZGdUA"
      }
    },
    {
      "cell_type": "code",
      "source": [
        "summary = driver.execute_query(\n",
        "    \"\"\"CREATE (:Person {name: $name, age: $age}),\n",
        "    (:Person {name:$name_2, age: $age_2})\n",
        "    \"\"\",\n",
        "    name=\"Alice\",\n",
        "    age=42,\n",
        "    name_2=\"Bob\",\n",
        "    age_2=41,\n",
        "    database_=\"neo4j\",\n",
        ").summary\n",
        "print(\"Created {nodes_created} nodes in {time} ms.\".format(\n",
        "    nodes_created=summary.counters.nodes_created,\n",
        "    time=summary.result_available_after\n",
        "))"
      ],
      "metadata": {
        "id": "qY-feZjZFni2"
      },
      "execution_count": null,
      "outputs": []
    },
    {
      "cell_type": "markdown",
      "source": [
        "#### Insert Relationships"
      ],
      "metadata": {
        "id": "hKpBPvaLGhIQ"
      }
    },
    {
      "cell_type": "code",
      "source": [
        "summary = driver.execute_query(\n",
        "    \"\"\"MATCH (alice:Person {name: $name}), (bob:Person {name:$name_2})\n",
        "    CREATE (bob)-[:SENT_MESSAGE {date: $date}]->(alice)\n",
        "    \"\"\",\n",
        "    name=\"Alice\",\n",
        "    name_2=\"Bob\",\n",
        "    date=\"2023-12-09\",\n",
        "    database_=\"neo4j\",\n",
        ").summary\n",
        "\n",
        "print(\"Created {relationships_created} relationshpis in {time} ms.\".format(\n",
        "    relationships_created=summary.counters.relationships_created,\n",
        "    time=summary.result_available_after\n",
        "))"
      ],
      "metadata": {
        "id": "CIVyrns2HEGr"
      },
      "execution_count": null,
      "outputs": []
    },
    {
      "cell_type": "code",
      "source": [
        "summary = driver.execute_query(\n",
        "    \"\"\"CREATE (person1:Person {name: $name, age: $age}),\n",
        "    (person2:Person {name:$name_2, age: $age_2}),\n",
        "    (person1)-[:SENT_MESSAGE {date: $date}]->(person2),\n",
        "    (person1)<-[:SENT_MESSAGE {date: $date_2}]-(person2)\n",
        "    \"\"\",\n",
        "    name=\"Jim\",\n",
        "    age=50,\n",
        "    name_2=\"Jane\",\n",
        "    age_2=44,\n",
        "    date=\"2023-12-08\",\n",
        "    date_2=\"2023-12-09\",\n",
        "    database_=\"neo4j\",\n",
        ").summary\n",
        "\n",
        "print(\"Created {nodes_created} nodes and {relationships_created} relatoinships in {time} ms.\".format(\n",
        "    relationships_created=summary.counters.relationships_created,\n",
        "    nodes_created=summary.counters.nodes_created,\n",
        "    time=summary.result_available_after\n",
        "))"
      ],
      "metadata": {
        "id": "mDrZXIPUJKA-"
      },
      "execution_count": null,
      "outputs": []
    },
    {
      "cell_type": "markdown",
      "source": [
        "### Update"
      ],
      "metadata": {
        "id": "lovGcxG0KRsH"
      }
    },
    {
      "cell_type": "code",
      "source": [
        "records, summary, keys = driver.execute_query(\"\"\"\n",
        "    MATCH (p:Person {name: $name})\n",
        "    SET p.age = $age\n",
        "    \"\"\", name=\"Alice\", age=42,\n",
        "    database_=\"neo4j\",\n",
        ")\n",
        "print(f\"Query counters: {summary.counters}.\")"
      ],
      "metadata": {
        "id": "az61jFKVKTcx"
      },
      "execution_count": null,
      "outputs": []
    },
    {
      "cell_type": "code",
      "source": [
        "records, summary, keys = driver.execute_query(\"\"\"\n",
        "    MATCH (p:Person {name: $name})\n",
        "    MERGE (p)-[:KNOWS]->(:Person {name: $friend})\n",
        "    \"\"\", name=\"Alice\", friend=\"Bob\",\n",
        "    database_=\"neo4j\",\n",
        ")\n",
        "print(f\"Query counters: {summary.counters}.\")"
      ],
      "metadata": {
        "id": "m-TD6KOMKsC4"
      },
      "execution_count": null,
      "outputs": []
    },
    {
      "cell_type": "markdown",
      "source": [
        "## Query the database"
      ],
      "metadata": {
        "id": "lKDgjvT4Efp4"
      }
    },
    {
      "cell_type": "markdown",
      "source": [
        "Execute a Cypher statement with the method Driver.execute_query(). Do not hardcode or concatenate parameters: use placeholders and specify the parameters as keyword arguments."
      ],
      "metadata": {
        "id": "73FzzPzvElDT"
      }
    },
    {
      "cell_type": "code",
      "source": [
        "# Get the name of all 42 year-olds\n",
        "records, summary, keys = driver.execute_query(\n",
        "    \"MATCH (p:Person {age: $age}) RETURN p.name AS name\",\n",
        "    age=42,\n",
        "    database_=\"neo4j\",\n",
        ")\n",
        "\n",
        "# Loop through results and do something with them\n",
        "for person in records:\n",
        "    print(person)\n",
        "\n",
        "# Summary information\n",
        "print(\"The query `{query}` returned {records_count} records in {time} ms.\".format(\n",
        "    query=summary.query, records_count=len(records),\n",
        "    time=summary.result_available_after,\n",
        "))"
      ],
      "metadata": {
        "id": "9tHCibk5EhtY"
      },
      "execution_count": null,
      "outputs": []
    },
    {
      "cell_type": "markdown",
      "source": [
        "## Delete from the database"
      ],
      "metadata": {
        "id": "N3vpeM02K7OK"
      }
    },
    {
      "cell_type": "markdown",
      "source": [
        "To remove a node and any relationship attached to it, use the Cypher clause DETACH DELETE:"
      ],
      "metadata": {
        "id": "pPnvrDduLFOP"
      }
    },
    {
      "cell_type": "code",
      "source": [
        "records, summary, keys = driver.execute_query(\"\"\"\n",
        "    MATCH (p:Person {name: $name})\n",
        "    DETACH DELETE p\n",
        "    \"\"\", name=\"Alice\",\n",
        "    database_=\"neo4j\",\n",
        ")\n",
        "print(f\"Query counters: {summary.counters}.\")"
      ],
      "metadata": {
        "id": "WY9xxPC3K9Nw"
      },
      "execution_count": null,
      "outputs": []
    },
    {
      "cell_type": "markdown",
      "source": [
        "## Query Parameters"
      ],
      "metadata": {
        "id": "ZHVrzBZULT-k"
      }
    },
    {
      "cell_type": "markdown",
      "source": [
        "Do not hardcode or concatenate parameters directly into queries. Instead, always use placeholders and specify the Cypher parameters, as shown in the previous examples. This is for:\n",
        "\n",
        "1. performance benefits: Neo4j compiles and caches queries, but can only do so if the query structure is unchanged;\n",
        "\n",
        "2. security reasons: see protecting against Cypher injection.\n",
        "\n",
        "Query parameters can be passed either as several keyword arguments, or grouped together in a dictionary as value to the parameters_ keyword argument. In case of mix, keyword-argument parameters take precedence over dictionary ones."
      ],
      "metadata": {
        "id": "UAwpaGDrLZBQ"
      }
    },
    {
      "cell_type": "markdown",
      "source": [
        "Pass query parameters as keyword arguments:"
      ],
      "metadata": {
        "id": "df5ZfUwiLkP9"
      }
    },
    {
      "cell_type": "code",
      "source": [
        "driver.execute_query(\n",
        "    \"MERGE (:Person {name: $name})\",\n",
        "    name=\"Alice\", age=42,\n",
        "    database_=\"neo4j\",\n",
        ")"
      ],
      "metadata": {
        "id": "LQbTNzGSLWbX"
      },
      "execution_count": null,
      "outputs": []
    },
    {
      "cell_type": "markdown",
      "source": [
        "Pass query parameters in a dictionary:"
      ],
      "metadata": {
        "id": "rphhIs-dLlVH"
      }
    },
    {
      "cell_type": "code",
      "source": [
        "parameters = {\n",
        "    \"name\": \"Alice\",\n",
        "    \"age\": 42\n",
        "}\n",
        "driver.execute_query(\n",
        "    \"MERGE (:Person {name: $name})\",\n",
        "    parameters_=parameters,\n",
        "    database_=\"neo4j\",\n",
        ")"
      ],
      "metadata": {
        "id": "BHs2TjnrLhu-"
      },
      "execution_count": null,
      "outputs": []
    },
    {
      "cell_type": "markdown",
      "source": [
        "## Transform Query Result"
      ],
      "metadata": {
        "id": "nFJlqSzDL2aA"
      }
    },
    {
      "cell_type": "markdown",
      "source": [
        "You can transform a query’s result into a different data structure using the result_transformer_ argument. The driver provides built-in methods to transform the result into a pandas dataframe or into a graph, but you can also craft your own transformer.\n",
        "\n",
        "For more information, see [Manipulate query results](https://neo4j.com/docs/python-manual/current/transformers/)."
      ],
      "metadata": {
        "id": "n1w8G06JMCA2"
      }
    },
    {
      "cell_type": "markdown",
      "source": [
        "### Result as a list"
      ],
      "metadata": {
        "id": "27TsqLPCPN3P"
      }
    },
    {
      "cell_type": "markdown",
      "source": [
        "By default, Driver.execute_query() returns an EagerResult object.\n",
        "\n",
        "The EagerResult object has the following:\n",
        "1. The result records as a list, so it is easy to loop through them.\n",
        "2. A summary of execution, with metadata and information about the result.\n",
        "3. The keys available in the returned rows."
      ],
      "metadata": {
        "id": "yukSYQreO3DT"
      }
    },
    {
      "cell_type": "code",
      "source": [
        "records, summary, keys = driver.execute_query(\n",
        "    \"MATCH (a:Person) RETURN a.name AS name, a.age AS age\",\n",
        "    database_=\"neo4j\",\n",
        ")\n",
        "for person in records:\n",
        "    print(person)\n",
        "    # person[\"name\"] or person[\"age\"] are also valid\n",
        "\n",
        "# Some summary information\n",
        "print(\"Query `{query}` returned {records_count} records in {time} ms.\".format(\n",
        "    query=summary.query, records_count=len(records),\n",
        "    time=summary.result_available_after\n",
        "))\n",
        "\n",
        "print(f\"Available keys are {keys}\")  # ['name', 'age']"
      ],
      "metadata": {
        "id": "Fl7LuLc3NFnN"
      },
      "execution_count": null,
      "outputs": []
    },
    {
      "cell_type": "markdown",
      "source": [
        "### Transform to pandas DataFrame"
      ],
      "metadata": {
        "id": "1g_Ifxn2PQxo"
      }
    },
    {
      "cell_type": "code",
      "source": [
        "import neo4j\n",
        "\n",
        "pandas_df = driver.execute_query(\n",
        "    \"UNWIND range(1, 10) AS n RETURN n, n+1 AS m\",\n",
        "    database_=\"neo4j\",\n",
        "    result_transformer_=neo4j.Result.to_df\n",
        ")\n",
        "print(type(pandas_df))\n",
        "\n",
        "pandas_df"
      ],
      "metadata": {
        "id": "-1e926ZZPUWA"
      },
      "execution_count": null,
      "outputs": []
    },
    {
      "cell_type": "markdown",
      "source": [
        "### Transform to graph"
      ],
      "metadata": {
        "id": "yBNfM4laPjx1"
      }
    },
    {
      "cell_type": "markdown",
      "source": [
        "The driver can transform the result into a collection of graph objects. To achieve this, use the .execute_query() keyword argument result_transformer_ and set it to neo4j.Result.graph. To make the most out of this method, your query should return a graph-like result instead of a single column. The graph transformer exposes the properties nodes and relationships, which are set views into Node and Relationship objects.\n",
        "\n",
        "You can use the graph format for further processing or to visualize the query result. An example implementation that uses the pyvis library to draw the graph is below."
      ],
      "metadata": {
        "id": "KA0PlRqcPmln"
      }
    },
    {
      "cell_type": "code",
      "source": [
        "!pip install pyvis==0.3.1"
      ],
      "metadata": {
        "id": "2hEO_su5PvWD"
      },
      "execution_count": null,
      "outputs": []
    },
    {
      "cell_type": "code",
      "source": [
        "import pyvis\n",
        "from neo4j import GraphDatabase\n",
        "import neo4j\n",
        "from IPython.core.display import display, HTML\n",
        "\n",
        "URI = \"<URI for Neo4j database>\"\n",
        "AUTH = (\"<Username>\", \"<Password>\")\n",
        "\n",
        "def main():\n",
        "    with GraphDatabase.driver(URI, auth=AUTH) as driver:\n",
        "        # Create some friends\n",
        "        input_list = [(\"Arthur\", \"Guinevre\"),\n",
        "                      (\"Arthur\", \"Lancelot\"),\n",
        "                      (\"Arthur\", \"Merlin\")]\n",
        "        driver.execute_query(\"\"\"\n",
        "            UNWIND $pairs AS pair\n",
        "            MERGE (a:Person {name: pair[0]})\n",
        "            MERGE (a)-[:KNOWS]->(friend:Person {name: pair[1]})\n",
        "            \"\"\", pairs=input_list,\n",
        "            database_=\"neo4j\",\n",
        "        )\n",
        "\n",
        "        # Create a film\n",
        "        driver.execute_query(\"\"\"\n",
        "            MERGE (film:Film {title: $title})\n",
        "            MERGE (liker:Person {name: $person_name})\n",
        "            MERGE (liker)-[:LIKES]->(film)\n",
        "            \"\"\", title=\"Wall-E\", person_name=\"Arthur\",\n",
        "            database_=\"neo4j\",\n",
        "        )\n",
        "\n",
        "        # Query to get a graphy result\n",
        "        graph_result = driver.execute_query(\"\"\"\n",
        "            MATCH (a:Person {name: $name})-[r]-(b)\n",
        "            RETURN a, r, b\n",
        "            \"\"\", name=\"Arthur\",\n",
        "            result_transformer_=neo4j.Result.graph,\n",
        "        )\n",
        "\n",
        "        # Draw graph\n",
        "        nodes_text_properties = {  # what property to use as text for each node\n",
        "            \"Person\": \"name\",\n",
        "            \"Film\": \"title\",\n",
        "        }\n",
        "        visualize_result(graph_result, nodes_text_properties)\n",
        "\n",
        "\n",
        "def visualize_result(query_graph, nodes_text_properties):\n",
        "    visual_graph = pyvis.network.Network(notebook=True, cdn_resources='in_line')\n",
        "\n",
        "    for node in query_graph.nodes:\n",
        "        node_label = list(node.labels)[0]\n",
        "        node_text = node[nodes_text_properties[node_label]]\n",
        "        visual_graph.add_node(node.element_id, node_text, group=node_label)\n",
        "\n",
        "    for relationship in query_graph.relationships:\n",
        "        visual_graph.add_edge(\n",
        "            relationship.start_node.element_id,\n",
        "            relationship.end_node.element_id,\n",
        "            title=relationship.type\n",
        "        )\n",
        "\n",
        "    visual_graph.show('network.html')\n",
        "    display(HTML('network.html'))\n",
        "\n",
        "main()"
      ],
      "metadata": {
        "id": "3w1I_btEPjid"
      },
      "execution_count": null,
      "outputs": []
    },
    {
      "cell_type": "markdown",
      "source": [
        "## Full example"
      ],
      "metadata": {
        "id": "zlvtbMalND1G"
      }
    },
    {
      "cell_type": "code",
      "source": [
        "from neo4j import GraphDatabase\n",
        "\n",
        "\n",
        "URI = \"<URI for Neo4j database>\"\n",
        "AUTH = (\"<Username>\", \"<Password>\")\n",
        "\n",
        "people = [{\"name\": \"Alice\", \"age\": 42, \"friends\": [\"Bob\", \"Peter\", \"Anna\"]},\n",
        "          {\"name\": \"Bob\", \"age\": 19},\n",
        "          {\"name\": \"Peter\", \"age\": 50},\n",
        "          {\"name\": \"Anna\", \"age\": 30}]\n",
        "\n",
        "with GraphDatabase.driver(URI, auth=AUTH) as driver:\n",
        "    try:\n",
        "        records, summary, keys = driver.execute_query(\"\"\"\n",
        "            MATCH (p:Person)\n",
        "            DETACH DELETE p\n",
        "            \"\"\",\n",
        "            database_=\"neo4j\",\n",
        "        )\n",
        "        print(f\"Query counters: {summary.counters}.\")\n",
        "\n",
        "        # Create some nodes\n",
        "        for person in people:\n",
        "            records, summary, keys = driver.execute_query(\n",
        "                \"MERGE (p:Person {name: $person.name, age: $person.age})\",\n",
        "                person=person,\n",
        "                database_=\"neo4j\",\n",
        "            )\n",
        "\n",
        "        # Create some relationships\n",
        "        for person in people:\n",
        "            if person.get(\"friends\"):\n",
        "                records, summary, keys = driver.execute_query(\"\"\"\n",
        "                    MATCH (p:Person {name: $person.name})\n",
        "                    UNWIND $person.friends AS friend_name\n",
        "                    MATCH (friend:Person {name: friend_name})\n",
        "                    MERGE (p)-[:KNOWS]->(friend)\n",
        "                    \"\"\", person=person,\n",
        "                    database_=\"neo4j\",\n",
        "                )\n",
        "\n",
        "        # Retrieve Alice's friends who are under 40\n",
        "        records, summary, keys = driver.execute_query(\"\"\"\n",
        "            MATCH (p:Person {name: $name})-[:KNOWS]-(friend:Person)\n",
        "            WHERE friend.age < $age\n",
        "            RETURN friend\n",
        "            \"\"\", name=\"Alice\", age=40,\n",
        "            routing_=\"r\",\n",
        "            database_=\"neo4j\",\n",
        "        )\n",
        "        # Loop through results and do something with them\n",
        "        for record in records:\n",
        "            print(record)\n",
        "        # Summary information\n",
        "        print(\"The query `{query}` returned {records_count} records in {time} ms.\".format(\n",
        "            query=summary.query, records_count=len(records),\n",
        "            time=summary.result_available_after\n",
        "        ))\n",
        "\n",
        "    except Exception as e:\n",
        "        print(e)\n",
        "        # further logging/processing"
      ],
      "metadata": {
        "id": "huzHAg9JL12B"
      },
      "execution_count": null,
      "outputs": []
    }
  ]
}