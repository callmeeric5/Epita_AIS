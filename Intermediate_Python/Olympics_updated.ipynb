{
 "cells": [
  {
   "cell_type": "markdown",
   "id": "e6a432ca-d4c0-40b9-b7b2-fd25522b6c5b",
   "metadata": {
    "editable": true,
    "id": "e6a432ca-d4c0-40b9-b7b2-fd25522b6c5b",
    "slideshow": {
     "slide_type": ""
    },
    "tags": []
   },
   "source": [
    "# Olympics Data Exploration"
   ]
  },
  {
   "cell_type": "markdown",
   "id": "c495cbc4-6f6f-4330-83a9-c588d7bc9b61",
   "metadata": {
    "id": "c495cbc4-6f6f-4330-83a9-c588d7bc9b61"
   },
   "source": [
    "Date: 28/02\n",
    "\n",
    "Writers:\n",
    "* Zihang WANG\n",
    "* Liyang  FANG\n",
    "* Duytan Le"
   ]
  },
  {
   "cell_type": "markdown",
   "id": "3923f1c4-7fa6-4368-afdd-77448eb51d27",
   "metadata": {
    "id": "3923f1c4-7fa6-4368-afdd-77448eb51d27"
   },
   "source": [
    "## Data Pre-Processing"
   ]
  },
  {
   "cell_type": "code",
   "execution_count": 1,
   "id": "bfe2bdcb-ab34-4922-a479-2e43657bc136",
   "metadata": {
    "ExecuteTime": {
     "end_time": "2024-02-29T09:19:02.504504Z",
     "start_time": "2024-02-29T09:19:02.495165Z"
    },
    "id": "bfe2bdcb-ab34-4922-a479-2e43657bc136"
   },
   "outputs": [],
   "source": [
    "# Data Processing\n",
    "import pandas as pd\n",
    "import numpy as np\n",
    "\n",
    "# Data Visualization\n",
    "import matplotlib.pyplot as plt\n",
    "import seaborn as sns\n",
    "\n",
    "# Model Building\n",
    "from sklearn.preprocessing import StandardScaler\n",
    "from sklearn.model_selection import train_test_split\n",
    "\n",
    "import warnings\n",
    "warnings.filterwarnings('ignore')"
   ]
  },
  {
   "cell_type": "markdown",
   "id": "a220ef59-7516-41bd-b4cb-a54b9d1e7667",
   "metadata": {
    "id": "a220ef59-7516-41bd-b4cb-a54b9d1e7667"
   },
   "source": [
    "### 120 years data processing"
   ]
  },
  {
   "cell_type": "code",
   "execution_count": 2,
   "id": "77868b3b-bdfb-4b34-8e32-8615f504e70c",
   "metadata": {
    "ExecuteTime": {
     "end_time": "2024-02-29T09:19:03.852507Z",
     "start_time": "2024-02-29T09:19:03.403851Z"
    },
    "colab": {
     "base_uri": "https://localhost:8080/",
     "height": 347
    },
    "id": "77868b3b-bdfb-4b34-8e32-8615f504e70c",
    "outputId": "9a021209-c2a4-4127-c75a-8c2d70e49257"
   },
   "outputs": [],
   "source": [
    "\n",
    "# Import data\n",
    "athlete_df = pd.read_csv('DataSet/athlete_events.csv')\n",
    "regions_df = pd.read_csv('DataSet/noc_regions.csv')"
   ]
  },
  {
   "cell_type": "code",
   "execution_count": 3,
   "id": "12995515-a7c6-4811-921d-04c4a0d4c431",
   "metadata": {
    "ExecuteTime": {
     "end_time": "2024-02-29T09:19:03.915780Z",
     "start_time": "2024-02-29T09:19:03.895758Z"
    },
    "id": "12995515-a7c6-4811-921d-04c4a0d4c431",
    "outputId": "af9ddb7e-5172-4985-8040-575b41eacf84"
   },
   "outputs": [
    {
     "data": {
      "text/html": [
       "<div>\n",
       "<style scoped>\n",
       "    .dataframe tbody tr th:only-of-type {\n",
       "        vertical-align: middle;\n",
       "    }\n",
       "\n",
       "    .dataframe tbody tr th {\n",
       "        vertical-align: top;\n",
       "    }\n",
       "\n",
       "    .dataframe thead th {\n",
       "        text-align: right;\n",
       "    }\n",
       "</style>\n",
       "<table border=\"1\" class=\"dataframe\">\n",
       "  <thead>\n",
       "    <tr style=\"text-align: right;\">\n",
       "      <th></th>\n",
       "      <th>ID</th>\n",
       "      <th>Name</th>\n",
       "      <th>Sex</th>\n",
       "      <th>Age</th>\n",
       "      <th>Height</th>\n",
       "      <th>Weight</th>\n",
       "      <th>Team</th>\n",
       "      <th>NOC</th>\n",
       "      <th>Games</th>\n",
       "      <th>Year</th>\n",
       "      <th>Season</th>\n",
       "      <th>City</th>\n",
       "      <th>Sport</th>\n",
       "      <th>Event</th>\n",
       "      <th>Medal</th>\n",
       "    </tr>\n",
       "  </thead>\n",
       "  <tbody>\n",
       "    <tr>\n",
       "      <th>0</th>\n",
       "      <td>1</td>\n",
       "      <td>A Dijiang</td>\n",
       "      <td>M</td>\n",
       "      <td>24.0</td>\n",
       "      <td>180.0</td>\n",
       "      <td>80.0</td>\n",
       "      <td>China</td>\n",
       "      <td>CHN</td>\n",
       "      <td>1992 Summer</td>\n",
       "      <td>1992</td>\n",
       "      <td>Summer</td>\n",
       "      <td>Barcelona</td>\n",
       "      <td>Basketball</td>\n",
       "      <td>Basketball Men's Basketball</td>\n",
       "      <td>NaN</td>\n",
       "    </tr>\n",
       "    <tr>\n",
       "      <th>1</th>\n",
       "      <td>2</td>\n",
       "      <td>A Lamusi</td>\n",
       "      <td>M</td>\n",
       "      <td>23.0</td>\n",
       "      <td>170.0</td>\n",
       "      <td>60.0</td>\n",
       "      <td>China</td>\n",
       "      <td>CHN</td>\n",
       "      <td>2012 Summer</td>\n",
       "      <td>2012</td>\n",
       "      <td>Summer</td>\n",
       "      <td>London</td>\n",
       "      <td>Judo</td>\n",
       "      <td>Judo Men's Extra-Lightweight</td>\n",
       "      <td>NaN</td>\n",
       "    </tr>\n",
       "    <tr>\n",
       "      <th>2</th>\n",
       "      <td>3</td>\n",
       "      <td>Gunnar Nielsen Aaby</td>\n",
       "      <td>M</td>\n",
       "      <td>24.0</td>\n",
       "      <td>NaN</td>\n",
       "      <td>NaN</td>\n",
       "      <td>Denmark</td>\n",
       "      <td>DEN</td>\n",
       "      <td>1920 Summer</td>\n",
       "      <td>1920</td>\n",
       "      <td>Summer</td>\n",
       "      <td>Antwerpen</td>\n",
       "      <td>Football</td>\n",
       "      <td>Football Men's Football</td>\n",
       "      <td>NaN</td>\n",
       "    </tr>\n",
       "    <tr>\n",
       "      <th>3</th>\n",
       "      <td>4</td>\n",
       "      <td>Edgar Lindenau Aabye</td>\n",
       "      <td>M</td>\n",
       "      <td>34.0</td>\n",
       "      <td>NaN</td>\n",
       "      <td>NaN</td>\n",
       "      <td>Denmark/Sweden</td>\n",
       "      <td>DEN</td>\n",
       "      <td>1900 Summer</td>\n",
       "      <td>1900</td>\n",
       "      <td>Summer</td>\n",
       "      <td>Paris</td>\n",
       "      <td>Tug-Of-War</td>\n",
       "      <td>Tug-Of-War Men's Tug-Of-War</td>\n",
       "      <td>Gold</td>\n",
       "    </tr>\n",
       "    <tr>\n",
       "      <th>4</th>\n",
       "      <td>5</td>\n",
       "      <td>Christine Jacoba Aaftink</td>\n",
       "      <td>F</td>\n",
       "      <td>21.0</td>\n",
       "      <td>185.0</td>\n",
       "      <td>82.0</td>\n",
       "      <td>Netherlands</td>\n",
       "      <td>NED</td>\n",
       "      <td>1988 Winter</td>\n",
       "      <td>1988</td>\n",
       "      <td>Winter</td>\n",
       "      <td>Calgary</td>\n",
       "      <td>Speed Skating</td>\n",
       "      <td>Speed Skating Women's 500 metres</td>\n",
       "      <td>NaN</td>\n",
       "    </tr>\n",
       "  </tbody>\n",
       "</table>\n",
       "</div>"
      ],
      "text/plain": [
       "   ID                      Name Sex   Age  Height  Weight            Team  \\\n",
       "0   1                 A Dijiang   M  24.0   180.0    80.0           China   \n",
       "1   2                  A Lamusi   M  23.0   170.0    60.0           China   \n",
       "2   3       Gunnar Nielsen Aaby   M  24.0     NaN     NaN         Denmark   \n",
       "3   4      Edgar Lindenau Aabye   M  34.0     NaN     NaN  Denmark/Sweden   \n",
       "4   5  Christine Jacoba Aaftink   F  21.0   185.0    82.0     Netherlands   \n",
       "\n",
       "   NOC        Games  Year  Season       City          Sport  \\\n",
       "0  CHN  1992 Summer  1992  Summer  Barcelona     Basketball   \n",
       "1  CHN  2012 Summer  2012  Summer     London           Judo   \n",
       "2  DEN  1920 Summer  1920  Summer  Antwerpen       Football   \n",
       "3  DEN  1900 Summer  1900  Summer      Paris     Tug-Of-War   \n",
       "4  NED  1988 Winter  1988  Winter    Calgary  Speed Skating   \n",
       "\n",
       "                              Event Medal  \n",
       "0       Basketball Men's Basketball   NaN  \n",
       "1      Judo Men's Extra-Lightweight   NaN  \n",
       "2           Football Men's Football   NaN  \n",
       "3       Tug-Of-War Men's Tug-Of-War  Gold  \n",
       "4  Speed Skating Women's 500 metres   NaN  "
      ]
     },
     "execution_count": 3,
     "metadata": {},
     "output_type": "execute_result"
    }
   ],
   "source": [
    "athlete_df.head()"
   ]
  },
  {
   "cell_type": "code",
   "execution_count": 4,
   "id": "96b3622f-232e-4247-beb6-59c1c6870152",
   "metadata": {
    "ExecuteTime": {
     "end_time": "2024-02-29T09:19:05.515041Z",
     "start_time": "2024-02-29T09:19:05.502453Z"
    },
    "id": "96b3622f-232e-4247-beb6-59c1c6870152",
    "outputId": "d2946d87-2000-46b6-87f6-5adab2ad1cfb"
   },
   "outputs": [
    {
     "data": {
      "text/html": [
       "<div>\n",
       "<style scoped>\n",
       "    .dataframe tbody tr th:only-of-type {\n",
       "        vertical-align: middle;\n",
       "    }\n",
       "\n",
       "    .dataframe tbody tr th {\n",
       "        vertical-align: top;\n",
       "    }\n",
       "\n",
       "    .dataframe thead th {\n",
       "        text-align: right;\n",
       "    }\n",
       "</style>\n",
       "<table border=\"1\" class=\"dataframe\">\n",
       "  <thead>\n",
       "    <tr style=\"text-align: right;\">\n",
       "      <th></th>\n",
       "      <th>NOC</th>\n",
       "      <th>region</th>\n",
       "      <th>notes</th>\n",
       "    </tr>\n",
       "  </thead>\n",
       "  <tbody>\n",
       "    <tr>\n",
       "      <th>0</th>\n",
       "      <td>AFG</td>\n",
       "      <td>Afghanistan</td>\n",
       "      <td>NaN</td>\n",
       "    </tr>\n",
       "    <tr>\n",
       "      <th>1</th>\n",
       "      <td>AHO</td>\n",
       "      <td>Curacao</td>\n",
       "      <td>Netherlands Antilles</td>\n",
       "    </tr>\n",
       "    <tr>\n",
       "      <th>2</th>\n",
       "      <td>ALB</td>\n",
       "      <td>Albania</td>\n",
       "      <td>NaN</td>\n",
       "    </tr>\n",
       "    <tr>\n",
       "      <th>3</th>\n",
       "      <td>ALG</td>\n",
       "      <td>Algeria</td>\n",
       "      <td>NaN</td>\n",
       "    </tr>\n",
       "    <tr>\n",
       "      <th>4</th>\n",
       "      <td>AND</td>\n",
       "      <td>Andorra</td>\n",
       "      <td>NaN</td>\n",
       "    </tr>\n",
       "  </tbody>\n",
       "</table>\n",
       "</div>"
      ],
      "text/plain": [
       "   NOC       region                 notes\n",
       "0  AFG  Afghanistan                   NaN\n",
       "1  AHO      Curacao  Netherlands Antilles\n",
       "2  ALB      Albania                   NaN\n",
       "3  ALG      Algeria                   NaN\n",
       "4  AND      Andorra                   NaN"
      ]
     },
     "execution_count": 4,
     "metadata": {},
     "output_type": "execute_result"
    }
   ],
   "source": [
    "regions_df.head()"
   ]
  },
  {
   "cell_type": "code",
   "execution_count": 5,
   "id": "666ba78c-8d3b-4c4f-8173-d8d5bbfeb1e0",
   "metadata": {
    "ExecuteTime": {
     "end_time": "2024-02-29T09:19:06.385375Z",
     "start_time": "2024-02-29T09:19:06.337209Z"
    },
    "id": "666ba78c-8d3b-4c4f-8173-d8d5bbfeb1e0"
   },
   "outputs": [],
   "source": [
    "# Merge datasets\n",
    "olympics = athlete_df.merge(regions_df,on='NOC',how='left')"
   ]
  },
  {
   "cell_type": "code",
   "execution_count": 6,
   "id": "4478f7bc-c661-4a40-aa6a-8b2d14ba5862",
   "metadata": {
    "ExecuteTime": {
     "end_time": "2024-02-29T09:19:07.288920Z",
     "start_time": "2024-02-29T09:19:07.272197Z"
    },
    "id": "4478f7bc-c661-4a40-aa6a-8b2d14ba5862",
    "outputId": "5935b1cc-199f-486e-eab3-5bdf79694e64"
   },
   "outputs": [
    {
     "data": {
      "text/html": [
       "<div>\n",
       "<style scoped>\n",
       "    .dataframe tbody tr th:only-of-type {\n",
       "        vertical-align: middle;\n",
       "    }\n",
       "\n",
       "    .dataframe tbody tr th {\n",
       "        vertical-align: top;\n",
       "    }\n",
       "\n",
       "    .dataframe thead th {\n",
       "        text-align: right;\n",
       "    }\n",
       "</style>\n",
       "<table border=\"1\" class=\"dataframe\">\n",
       "  <thead>\n",
       "    <tr style=\"text-align: right;\">\n",
       "      <th></th>\n",
       "      <th>NOC</th>\n",
       "      <th>Team</th>\n",
       "    </tr>\n",
       "  </thead>\n",
       "  <tbody>\n",
       "    <tr>\n",
       "      <th>578</th>\n",
       "      <td>SGP</td>\n",
       "      <td>Singapore</td>\n",
       "    </tr>\n",
       "    <tr>\n",
       "      <th>6267</th>\n",
       "      <td>ROT</td>\n",
       "      <td>Refugee Olympic Athletes</td>\n",
       "    </tr>\n",
       "    <tr>\n",
       "      <th>44376</th>\n",
       "      <td>SGP</td>\n",
       "      <td>June Climene</td>\n",
       "    </tr>\n",
       "    <tr>\n",
       "      <th>61080</th>\n",
       "      <td>UNK</td>\n",
       "      <td>Unknown</td>\n",
       "    </tr>\n",
       "    <tr>\n",
       "      <th>64674</th>\n",
       "      <td>TUV</td>\n",
       "      <td>Tuvalu</td>\n",
       "    </tr>\n",
       "    <tr>\n",
       "      <th>80986</th>\n",
       "      <td>SGP</td>\n",
       "      <td>Rika II</td>\n",
       "    </tr>\n",
       "    <tr>\n",
       "      <th>108582</th>\n",
       "      <td>SGP</td>\n",
       "      <td>Singapore-2</td>\n",
       "    </tr>\n",
       "    <tr>\n",
       "      <th>235895</th>\n",
       "      <td>SGP</td>\n",
       "      <td>Singapore-1</td>\n",
       "    </tr>\n",
       "  </tbody>\n",
       "</table>\n",
       "</div>"
      ],
      "text/plain": [
       "        NOC                      Team\n",
       "578     SGP                 Singapore\n",
       "6267    ROT  Refugee Olympic Athletes\n",
       "44376   SGP              June Climene\n",
       "61080   UNK                   Unknown\n",
       "64674   TUV                    Tuvalu\n",
       "80986   SGP                   Rika II\n",
       "108582  SGP               Singapore-2\n",
       "235895  SGP               Singapore-1"
      ]
     },
     "execution_count": 6,
     "metadata": {},
     "output_type": "execute_result"
    }
   ],
   "source": [
    "olympics.loc[olympics['region'].isnull(),['NOC', 'Team']].drop_duplicates()"
   ]
  },
  {
   "cell_type": "code",
   "execution_count": 7,
   "id": "1075a4b9-9ca2-4e88-b928-4077838b595f",
   "metadata": {
    "ExecuteTime": {
     "end_time": "2024-02-29T09:19:08.375384Z",
     "start_time": "2024-02-29T09:19:08.313083Z"
    },
    "id": "1075a4b9-9ca2-4e88-b928-4077838b595f"
   },
   "outputs": [],
   "source": [
    "# Reassign the NOC to country\n",
    "olympics['region'] = np.where(olympics['NOC']=='SGP', 'Singapore', olympics['region'])\n",
    "olympics['region'] = np.where(olympics['NOC']=='ROT', 'Refugee Olympic Athletes', olympics['region'])\n",
    "olympics['region'] = np.where(olympics['NOC']=='UNK', 'Unknown', olympics['region'])\n",
    "olympics['region'] = np.where(olympics['NOC']=='TUV', 'Tuvalu', olympics['region'])"
   ]
  },
  {
   "cell_type": "code",
   "execution_count": 8,
   "id": "cc0443c7-a4ec-4514-b02d-bea877c0d88c",
   "metadata": {
    "ExecuteTime": {
     "end_time": "2024-02-29T09:19:11.511074Z",
     "start_time": "2024-02-29T09:19:11.496320Z"
    },
    "id": "cc0443c7-a4ec-4514-b02d-bea877c0d88c",
    "outputId": "34d91035-d742-430d-f112-71910943ecbc"
   },
   "outputs": [
    {
     "data": {
      "text/html": [
       "<div>\n",
       "<style scoped>\n",
       "    .dataframe tbody tr th:only-of-type {\n",
       "        vertical-align: middle;\n",
       "    }\n",
       "\n",
       "    .dataframe tbody tr th {\n",
       "        vertical-align: top;\n",
       "    }\n",
       "\n",
       "    .dataframe thead th {\n",
       "        text-align: right;\n",
       "    }\n",
       "</style>\n",
       "<table border=\"1\" class=\"dataframe\">\n",
       "  <thead>\n",
       "    <tr style=\"text-align: right;\">\n",
       "      <th></th>\n",
       "      <th>NOC</th>\n",
       "      <th>Team</th>\n",
       "    </tr>\n",
       "  </thead>\n",
       "  <tbody>\n",
       "  </tbody>\n",
       "</table>\n",
       "</div>"
      ],
      "text/plain": [
       "Empty DataFrame\n",
       "Columns: [NOC, Team]\n",
       "Index: []"
      ]
     },
     "execution_count": 8,
     "metadata": {},
     "output_type": "execute_result"
    }
   ],
   "source": [
    "# Check missing values in region\n",
    "olympics.loc[olympics['region'].isnull(),['NOC', 'Team']].drop_duplicates()"
   ]
  },
  {
   "cell_type": "code",
   "execution_count": 9,
   "id": "2c30cb65-a5c6-4072-a34d-15d9ddb8f19b",
   "metadata": {
    "ExecuteTime": {
     "end_time": "2024-02-29T09:19:12.785733Z",
     "start_time": "2024-02-29T09:19:12.707599Z"
    },
    "id": "2c30cb65-a5c6-4072-a34d-15d9ddb8f19b",
    "outputId": "c6077316-21da-4da3-adc6-f5ec2157a708"
   },
   "outputs": [
    {
     "data": {
      "text/plain": [
       "ID             0\n",
       "Name           0\n",
       "Sex            0\n",
       "Age         9474\n",
       "Height     60171\n",
       "Weight     62875\n",
       "Team           0\n",
       "NOC            0\n",
       "Games          0\n",
       "Year           0\n",
       "Season         0\n",
       "City           0\n",
       "Sport          0\n",
       "Event          0\n",
       "Medal     231333\n",
       "region         0\n",
       "notes     266077\n",
       "dtype: int64"
      ]
     },
     "execution_count": 9,
     "metadata": {},
     "output_type": "execute_result"
    }
   ],
   "source": [
    "# Check missing values\n",
    "olympics.isnull().sum()"
   ]
  },
  {
   "cell_type": "code",
   "execution_count": 10,
   "id": "7414622f75231460",
   "metadata": {
    "ExecuteTime": {
     "end_time": "2024-02-29T09:19:14.104009Z",
     "start_time": "2024-02-29T09:19:14.099219Z"
    },
    "id": "7414622f75231460",
    "outputId": "cf3eeeea-be07-4b8f-8803-8809e32041f1"
   },
   "outputs": [
    {
     "data": {
      "text/plain": [
       "Index(['ID', 'Name', 'Sex', 'Age', 'Height', 'Weight', 'Team', 'NOC', 'Games',\n",
       "       'Year', 'Season', 'City', 'Sport', 'Event', 'Medal', 'region', 'notes'],\n",
       "      dtype='object')"
      ]
     },
     "execution_count": 10,
     "metadata": {},
     "output_type": "execute_result"
    }
   ],
   "source": [
    "olympics.columns"
   ]
  },
  {
   "cell_type": "code",
   "execution_count": 11,
   "id": "6de3f888-985c-47b8-9c33-7b8143d1cd36",
   "metadata": {
    "ExecuteTime": {
     "end_time": "2024-02-29T09:19:54.297609Z",
     "start_time": "2024-02-29T09:19:54.158605Z"
    },
    "id": "6de3f888-985c-47b8-9c33-7b8143d1cd36"
   },
   "outputs": [],
   "source": [
    "# Feature selection\n",
    "olympics.drop(olympics.columns[[0,6,7,8,11,13,16]], axis=1, inplace=True)\n",
    "\n",
    "olympics = olympics.rename(columns={'region': 'Country'})\n",
    "olympics['Sex'] = olympics['Sex'].replace({'M':'Male','F':'Female'})"
   ]
  },
  {
   "cell_type": "code",
   "execution_count": 12,
   "id": "1ded2fa9-59cd-4c0d-81e5-45ed4f7187bf",
   "metadata": {
    "ExecuteTime": {
     "end_time": "2024-02-29T09:19:55.497947Z",
     "start_time": "2024-02-29T09:19:55.489564Z"
    },
    "id": "1ded2fa9-59cd-4c0d-81e5-45ed4f7187bf",
    "outputId": "4f192b71-95be-49d1-8255-ff12d9da5717"
   },
   "outputs": [
    {
     "data": {
      "text/html": [
       "<div>\n",
       "<style scoped>\n",
       "    .dataframe tbody tr th:only-of-type {\n",
       "        vertical-align: middle;\n",
       "    }\n",
       "\n",
       "    .dataframe tbody tr th {\n",
       "        vertical-align: top;\n",
       "    }\n",
       "\n",
       "    .dataframe thead th {\n",
       "        text-align: right;\n",
       "    }\n",
       "</style>\n",
       "<table border=\"1\" class=\"dataframe\">\n",
       "  <thead>\n",
       "    <tr style=\"text-align: right;\">\n",
       "      <th></th>\n",
       "      <th>Name</th>\n",
       "      <th>Sex</th>\n",
       "      <th>Age</th>\n",
       "      <th>Height</th>\n",
       "      <th>Weight</th>\n",
       "      <th>Year</th>\n",
       "      <th>Season</th>\n",
       "      <th>Sport</th>\n",
       "      <th>Medal</th>\n",
       "      <th>Country</th>\n",
       "    </tr>\n",
       "  </thead>\n",
       "  <tbody>\n",
       "    <tr>\n",
       "      <th>0</th>\n",
       "      <td>A Dijiang</td>\n",
       "      <td>Male</td>\n",
       "      <td>24.0</td>\n",
       "      <td>180.0</td>\n",
       "      <td>80.0</td>\n",
       "      <td>1992</td>\n",
       "      <td>Summer</td>\n",
       "      <td>Basketball</td>\n",
       "      <td>NaN</td>\n",
       "      <td>China</td>\n",
       "    </tr>\n",
       "    <tr>\n",
       "      <th>1</th>\n",
       "      <td>A Lamusi</td>\n",
       "      <td>Male</td>\n",
       "      <td>23.0</td>\n",
       "      <td>170.0</td>\n",
       "      <td>60.0</td>\n",
       "      <td>2012</td>\n",
       "      <td>Summer</td>\n",
       "      <td>Judo</td>\n",
       "      <td>NaN</td>\n",
       "      <td>China</td>\n",
       "    </tr>\n",
       "    <tr>\n",
       "      <th>2</th>\n",
       "      <td>Gunnar Nielsen Aaby</td>\n",
       "      <td>Male</td>\n",
       "      <td>24.0</td>\n",
       "      <td>NaN</td>\n",
       "      <td>NaN</td>\n",
       "      <td>1920</td>\n",
       "      <td>Summer</td>\n",
       "      <td>Football</td>\n",
       "      <td>NaN</td>\n",
       "      <td>Denmark</td>\n",
       "    </tr>\n",
       "    <tr>\n",
       "      <th>3</th>\n",
       "      <td>Edgar Lindenau Aabye</td>\n",
       "      <td>Male</td>\n",
       "      <td>34.0</td>\n",
       "      <td>NaN</td>\n",
       "      <td>NaN</td>\n",
       "      <td>1900</td>\n",
       "      <td>Summer</td>\n",
       "      <td>Tug-Of-War</td>\n",
       "      <td>Gold</td>\n",
       "      <td>Denmark</td>\n",
       "    </tr>\n",
       "    <tr>\n",
       "      <th>4</th>\n",
       "      <td>Christine Jacoba Aaftink</td>\n",
       "      <td>Female</td>\n",
       "      <td>21.0</td>\n",
       "      <td>185.0</td>\n",
       "      <td>82.0</td>\n",
       "      <td>1988</td>\n",
       "      <td>Winter</td>\n",
       "      <td>Speed Skating</td>\n",
       "      <td>NaN</td>\n",
       "      <td>Netherlands</td>\n",
       "    </tr>\n",
       "  </tbody>\n",
       "</table>\n",
       "</div>"
      ],
      "text/plain": [
       "                       Name     Sex   Age  Height  Weight  Year  Season  \\\n",
       "0                 A Dijiang    Male  24.0   180.0    80.0  1992  Summer   \n",
       "1                  A Lamusi    Male  23.0   170.0    60.0  2012  Summer   \n",
       "2       Gunnar Nielsen Aaby    Male  24.0     NaN     NaN  1920  Summer   \n",
       "3      Edgar Lindenau Aabye    Male  34.0     NaN     NaN  1900  Summer   \n",
       "4  Christine Jacoba Aaftink  Female  21.0   185.0    82.0  1988  Winter   \n",
       "\n",
       "           Sport Medal      Country  \n",
       "0     Basketball   NaN        China  \n",
       "1           Judo   NaN        China  \n",
       "2       Football   NaN      Denmark  \n",
       "3     Tug-Of-War  Gold      Denmark  \n",
       "4  Speed Skating   NaN  Netherlands  "
      ]
     },
     "execution_count": 12,
     "metadata": {},
     "output_type": "execute_result"
    }
   ],
   "source": [
    "olympics.head()"
   ]
  },
  {
   "cell_type": "markdown",
   "id": "9087740c-115c-4b34-8770-4b9db82a926b",
   "metadata": {
    "id": "9087740c-115c-4b34-8770-4b9db82a926b"
   },
   "source": [
    "### Totkyo2020 data processing"
   ]
  },
  {
   "cell_type": "code",
   "execution_count": 13,
   "id": "9dc36fba-a7ec-4261-877c-106ea75785e4",
   "metadata": {
    "ExecuteTime": {
     "end_time": "2024-02-29T09:20:11.133356Z",
     "start_time": "2024-02-29T09:20:11.067266Z"
    },
    "id": "9dc36fba-a7ec-4261-877c-106ea75785e4"
   },
   "outputs": [],
   "source": [
    "# Import data\n",
    "tokyo_athlete_df = pd.read_csv('DataSet/tokyo_athletes.csv')\n",
    "tokyo_medal_df = pd.read_csv('DataSet/tokyo_medals.csv')"
   ]
  },
  {
   "cell_type": "code",
   "execution_count": 14,
   "id": "d5dec801-b089-4361-bbc8-6ad8b1632c0a",
   "metadata": {
    "ExecuteTime": {
     "end_time": "2024-02-29T09:20:12.132993Z",
     "start_time": "2024-02-29T09:20:12.124528Z"
    },
    "id": "d5dec801-b089-4361-bbc8-6ad8b1632c0a",
    "outputId": "02904b3a-3f7f-435a-a7cd-dfc5913f64fa"
   },
   "outputs": [
    {
     "data": {
      "text/html": [
       "<div>\n",
       "<style scoped>\n",
       "    .dataframe tbody tr th:only-of-type {\n",
       "        vertical-align: middle;\n",
       "    }\n",
       "\n",
       "    .dataframe tbody tr th {\n",
       "        vertical-align: top;\n",
       "    }\n",
       "\n",
       "    .dataframe thead th {\n",
       "        text-align: right;\n",
       "    }\n",
       "</style>\n",
       "<table border=\"1\" class=\"dataframe\">\n",
       "  <thead>\n",
       "    <tr style=\"text-align: right;\">\n",
       "      <th></th>\n",
       "      <th>name</th>\n",
       "      <th>short_name</th>\n",
       "      <th>gender</th>\n",
       "      <th>birth_date</th>\n",
       "      <th>birth_place</th>\n",
       "      <th>birth_country</th>\n",
       "      <th>country</th>\n",
       "      <th>country_code</th>\n",
       "      <th>discipline</th>\n",
       "      <th>discipline_code</th>\n",
       "      <th>residence_place</th>\n",
       "      <th>residence_country</th>\n",
       "      <th>height_m/ft</th>\n",
       "      <th>url</th>\n",
       "    </tr>\n",
       "  </thead>\n",
       "  <tbody>\n",
       "    <tr>\n",
       "      <th>0</th>\n",
       "      <td>AALERUD Katrine</td>\n",
       "      <td>AALERUD K</td>\n",
       "      <td>Female</td>\n",
       "      <td>1994-12-04</td>\n",
       "      <td>VESTBY</td>\n",
       "      <td>Norway</td>\n",
       "      <td>Norway</td>\n",
       "      <td>NOR</td>\n",
       "      <td>Cycling Road</td>\n",
       "      <td>CRD</td>\n",
       "      <td>NaN</td>\n",
       "      <td>NaN</td>\n",
       "      <td>NaN</td>\n",
       "      <td>../../../en/results/cycling-road/athlete-profi...</td>\n",
       "    </tr>\n",
       "    <tr>\n",
       "      <th>1</th>\n",
       "      <td>ABAD Nestor</td>\n",
       "      <td>ABAD N</td>\n",
       "      <td>Male</td>\n",
       "      <td>1993-03-29</td>\n",
       "      <td>ALCOI</td>\n",
       "      <td>Spain</td>\n",
       "      <td>Spain</td>\n",
       "      <td>ESP</td>\n",
       "      <td>Artistic Gymnastics</td>\n",
       "      <td>GAR</td>\n",
       "      <td>MADRID</td>\n",
       "      <td>Spain</td>\n",
       "      <td>1.65/5'4''</td>\n",
       "      <td>../../../en/results/artistic-gymnastics/athlet...</td>\n",
       "    </tr>\n",
       "    <tr>\n",
       "      <th>2</th>\n",
       "      <td>ABAGNALE Giovanni</td>\n",
       "      <td>ABAGNALE G</td>\n",
       "      <td>Male</td>\n",
       "      <td>1995-01-11</td>\n",
       "      <td>GRAGNANO</td>\n",
       "      <td>Italy</td>\n",
       "      <td>Italy</td>\n",
       "      <td>ITA</td>\n",
       "      <td>Rowing</td>\n",
       "      <td>ROW</td>\n",
       "      <td>SABAUDIA</td>\n",
       "      <td>Italy</td>\n",
       "      <td>1.98/6'5''</td>\n",
       "      <td>../../../en/results/rowing/athlete-profile-n13...</td>\n",
       "    </tr>\n",
       "    <tr>\n",
       "      <th>3</th>\n",
       "      <td>ABALDE Alberto</td>\n",
       "      <td>ABALDE A</td>\n",
       "      <td>Male</td>\n",
       "      <td>1995-12-15</td>\n",
       "      <td>FERROL</td>\n",
       "      <td>Spain</td>\n",
       "      <td>Spain</td>\n",
       "      <td>ESP</td>\n",
       "      <td>Basketball</td>\n",
       "      <td>BKB</td>\n",
       "      <td>NaN</td>\n",
       "      <td>NaN</td>\n",
       "      <td>2.00/6'6''</td>\n",
       "      <td>../../../en/results/basketball/athlete-profile...</td>\n",
       "    </tr>\n",
       "    <tr>\n",
       "      <th>4</th>\n",
       "      <td>ABALDE Tamara</td>\n",
       "      <td>ABALDE T</td>\n",
       "      <td>Female</td>\n",
       "      <td>1989-02-06</td>\n",
       "      <td>VIGO</td>\n",
       "      <td>Spain</td>\n",
       "      <td>Spain</td>\n",
       "      <td>ESP</td>\n",
       "      <td>Basketball</td>\n",
       "      <td>BKB</td>\n",
       "      <td>NaN</td>\n",
       "      <td>NaN</td>\n",
       "      <td>1.92/6'3''</td>\n",
       "      <td>../../../en/results/basketball/athlete-profile...</td>\n",
       "    </tr>\n",
       "  </tbody>\n",
       "</table>\n",
       "</div>"
      ],
      "text/plain": [
       "                name  short_name  gender  birth_date birth_place  \\\n",
       "0    AALERUD Katrine   AALERUD K  Female  1994-12-04      VESTBY   \n",
       "1        ABAD Nestor      ABAD N    Male  1993-03-29       ALCOI   \n",
       "2  ABAGNALE Giovanni  ABAGNALE G    Male  1995-01-11    GRAGNANO   \n",
       "3     ABALDE Alberto    ABALDE A    Male  1995-12-15      FERROL   \n",
       "4      ABALDE Tamara    ABALDE T  Female  1989-02-06        VIGO   \n",
       "\n",
       "  birth_country country country_code           discipline discipline_code  \\\n",
       "0        Norway  Norway          NOR         Cycling Road             CRD   \n",
       "1         Spain   Spain          ESP  Artistic Gymnastics             GAR   \n",
       "2         Italy   Italy          ITA               Rowing             ROW   \n",
       "3         Spain   Spain          ESP           Basketball             BKB   \n",
       "4         Spain   Spain          ESP           Basketball             BKB   \n",
       "\n",
       "  residence_place residence_country height_m/ft  \\\n",
       "0             NaN               NaN         NaN   \n",
       "1          MADRID             Spain  1.65/5'4''   \n",
       "2        SABAUDIA             Italy  1.98/6'5''   \n",
       "3             NaN               NaN  2.00/6'6''   \n",
       "4             NaN               NaN  1.92/6'3''   \n",
       "\n",
       "                                                 url  \n",
       "0  ../../../en/results/cycling-road/athlete-profi...  \n",
       "1  ../../../en/results/artistic-gymnastics/athlet...  \n",
       "2  ../../../en/results/rowing/athlete-profile-n13...  \n",
       "3  ../../../en/results/basketball/athlete-profile...  \n",
       "4  ../../../en/results/basketball/athlete-profile...  "
      ]
     },
     "execution_count": 14,
     "metadata": {},
     "output_type": "execute_result"
    }
   ],
   "source": [
    "tokyo_athlete_df.head()"
   ]
  },
  {
   "cell_type": "code",
   "execution_count": 15,
   "id": "3cbf6b18-9f77-4bbe-a9c8-22b5b476c4b4",
   "metadata": {
    "ExecuteTime": {
     "end_time": "2024-02-29T09:20:14.750834Z",
     "start_time": "2024-02-29T09:20:14.740223Z"
    },
    "id": "3cbf6b18-9f77-4bbe-a9c8-22b5b476c4b4",
    "outputId": "38070c0e-bc15-4188-8a1e-ebb6b3e89418"
   },
   "outputs": [
    {
     "data": {
      "text/html": [
       "<div>\n",
       "<style scoped>\n",
       "    .dataframe tbody tr th:only-of-type {\n",
       "        vertical-align: middle;\n",
       "    }\n",
       "\n",
       "    .dataframe tbody tr th {\n",
       "        vertical-align: top;\n",
       "    }\n",
       "\n",
       "    .dataframe thead th {\n",
       "        text-align: right;\n",
       "    }\n",
       "</style>\n",
       "<table border=\"1\" class=\"dataframe\">\n",
       "  <thead>\n",
       "    <tr style=\"text-align: right;\">\n",
       "      <th></th>\n",
       "      <th>medal_type</th>\n",
       "      <th>medal_code</th>\n",
       "      <th>medal_date</th>\n",
       "      <th>athlete_short_name</th>\n",
       "      <th>athlete_name</th>\n",
       "      <th>athlete_sex</th>\n",
       "      <th>athlete_link</th>\n",
       "      <th>country_code</th>\n",
       "      <th>discipline_code</th>\n",
       "      <th>event</th>\n",
       "      <th>country</th>\n",
       "      <th>discipline</th>\n",
       "    </tr>\n",
       "  </thead>\n",
       "  <tbody>\n",
       "    <tr>\n",
       "      <th>0</th>\n",
       "      <td>Gold Medal</td>\n",
       "      <td>1</td>\n",
       "      <td>2021-07-24 00:00:00.0</td>\n",
       "      <td>KIM JD</td>\n",
       "      <td>KIM Je Deok</td>\n",
       "      <td>X</td>\n",
       "      <td>../../../en/results/archery/athlete-profile-n1...</td>\n",
       "      <td>KOR</td>\n",
       "      <td>ARC</td>\n",
       "      <td>Mixed Team</td>\n",
       "      <td>Republic of Korea</td>\n",
       "      <td>Archery</td>\n",
       "    </tr>\n",
       "    <tr>\n",
       "      <th>1</th>\n",
       "      <td>Gold Medal</td>\n",
       "      <td>1</td>\n",
       "      <td>2021-07-24 00:00:00.0</td>\n",
       "      <td>AN S</td>\n",
       "      <td>AN San</td>\n",
       "      <td>X</td>\n",
       "      <td>../../../en/results/archery/athlete-profile-n1...</td>\n",
       "      <td>KOR</td>\n",
       "      <td>ARC</td>\n",
       "      <td>Mixed Team</td>\n",
       "      <td>Republic of Korea</td>\n",
       "      <td>Archery</td>\n",
       "    </tr>\n",
       "    <tr>\n",
       "      <th>2</th>\n",
       "      <td>Silver Medal</td>\n",
       "      <td>2</td>\n",
       "      <td>2021-07-24 00:00:00.0</td>\n",
       "      <td>SCHLOESSER G</td>\n",
       "      <td>SCHLOESSER Gabriela</td>\n",
       "      <td>X</td>\n",
       "      <td>../../../en/results/archery/athlete-profile-n1...</td>\n",
       "      <td>NED</td>\n",
       "      <td>ARC</td>\n",
       "      <td>Mixed Team</td>\n",
       "      <td>Netherlands</td>\n",
       "      <td>Archery</td>\n",
       "    </tr>\n",
       "    <tr>\n",
       "      <th>3</th>\n",
       "      <td>Silver Medal</td>\n",
       "      <td>2</td>\n",
       "      <td>2021-07-24 00:00:00.0</td>\n",
       "      <td>WIJLER S</td>\n",
       "      <td>WIJLER Steve</td>\n",
       "      <td>X</td>\n",
       "      <td>../../../en/results/archery/athlete-profile-n1...</td>\n",
       "      <td>NED</td>\n",
       "      <td>ARC</td>\n",
       "      <td>Mixed Team</td>\n",
       "      <td>Netherlands</td>\n",
       "      <td>Archery</td>\n",
       "    </tr>\n",
       "    <tr>\n",
       "      <th>4</th>\n",
       "      <td>Bronze Medal</td>\n",
       "      <td>3</td>\n",
       "      <td>2021-07-24 00:00:00.0</td>\n",
       "      <td>ALVAREZ L</td>\n",
       "      <td>ALVAREZ Luis</td>\n",
       "      <td>X</td>\n",
       "      <td>../../../en/results/archery/athlete-profile-n1...</td>\n",
       "      <td>MEX</td>\n",
       "      <td>ARC</td>\n",
       "      <td>Mixed Team</td>\n",
       "      <td>Mexico</td>\n",
       "      <td>Archery</td>\n",
       "    </tr>\n",
       "  </tbody>\n",
       "</table>\n",
       "</div>"
      ],
      "text/plain": [
       "     medal_type  medal_code             medal_date athlete_short_name  \\\n",
       "0    Gold Medal           1  2021-07-24 00:00:00.0             KIM JD   \n",
       "1    Gold Medal           1  2021-07-24 00:00:00.0               AN S   \n",
       "2  Silver Medal           2  2021-07-24 00:00:00.0       SCHLOESSER G   \n",
       "3  Silver Medal           2  2021-07-24 00:00:00.0           WIJLER S   \n",
       "4  Bronze Medal           3  2021-07-24 00:00:00.0          ALVAREZ L   \n",
       "\n",
       "          athlete_name athlete_sex  \\\n",
       "0          KIM Je Deok           X   \n",
       "1               AN San           X   \n",
       "2  SCHLOESSER Gabriela           X   \n",
       "3         WIJLER Steve           X   \n",
       "4         ALVAREZ Luis           X   \n",
       "\n",
       "                                        athlete_link country_code  \\\n",
       "0  ../../../en/results/archery/athlete-profile-n1...          KOR   \n",
       "1  ../../../en/results/archery/athlete-profile-n1...          KOR   \n",
       "2  ../../../en/results/archery/athlete-profile-n1...          NED   \n",
       "3  ../../../en/results/archery/athlete-profile-n1...          NED   \n",
       "4  ../../../en/results/archery/athlete-profile-n1...          MEX   \n",
       "\n",
       "  discipline_code       event            country discipline  \n",
       "0             ARC  Mixed Team  Republic of Korea    Archery  \n",
       "1             ARC  Mixed Team  Republic of Korea    Archery  \n",
       "2             ARC  Mixed Team        Netherlands    Archery  \n",
       "3             ARC  Mixed Team        Netherlands    Archery  \n",
       "4             ARC  Mixed Team             Mexico    Archery  "
      ]
     },
     "execution_count": 15,
     "metadata": {},
     "output_type": "execute_result"
    }
   ],
   "source": [
    "tokyo_medal_df.head()"
   ]
  },
  {
   "cell_type": "code",
   "execution_count": 16,
   "id": "df2e3546-9b3f-4887-b154-52a090a7a5e1",
   "metadata": {
    "ExecuteTime": {
     "end_time": "2024-02-29T09:20:15.432776Z",
     "start_time": "2024-02-29T09:20:15.423693Z"
    },
    "id": "df2e3546-9b3f-4887-b154-52a090a7a5e1",
    "outputId": "37613e64-046f-43b6-df6a-8e52687d5f2f"
   },
   "outputs": [
    {
     "data": {
      "text/plain": [
       "Index(['medal_type', 'medal_code', 'medal_date', 'athlete_short_name',\n",
       "       'athlete_name', 'athlete_sex', 'athlete_link', 'country_code_x',\n",
       "       'discipline_code_x', 'event', 'country_x', 'discipline_x', 'name',\n",
       "       'short_name', 'gender', 'birth_date', 'birth_place', 'birth_country',\n",
       "       'country_y', 'country_code_y', 'discipline_y', 'discipline_code_y',\n",
       "       'residence_place', 'residence_country', 'height_m/ft', 'url', 'NOC',\n",
       "       'region', 'notes'],\n",
       "      dtype='object')"
      ]
     },
     "execution_count": 16,
     "metadata": {},
     "output_type": "execute_result"
    }
   ],
   "source": [
    "tokyo = tokyo_medal_df.merge(tokyo_athlete_df, left_on='athlete_name', right_on='name', how='left')\n",
    "tokyo['country_code_x'] = tokyo['country_code_x'].replace({'ROC':'CHN'})\n",
    "tokyo = tokyo.merge(regions_df, left_on='country_code_x',right_on='NOC',how='left')\n",
    "tokyo.columns"
   ]
  },
  {
   "cell_type": "code",
   "execution_count": 17,
   "id": "506139cd-4376-4436-9a69-78765d2a88e8",
   "metadata": {
    "ExecuteTime": {
     "end_time": "2024-02-29T09:20:15.983935Z",
     "start_time": "2024-02-29T09:20:15.973127Z"
    },
    "id": "506139cd-4376-4436-9a69-78765d2a88e8"
   },
   "outputs": [],
   "source": [
    "tokyo = tokyo[['medal_type', 'athlete_name', 'athlete_sex', 'gender', 'discipline_x', 'discipline_y', 'discipline_code_y', 'country_code_x', 'country_x', 'NOC', 'region']]"
   ]
  },
  {
   "cell_type": "code",
   "execution_count": 18,
   "id": "eedcf2b4-27dd-4ffd-a257-ab5a712340fd",
   "metadata": {
    "ExecuteTime": {
     "end_time": "2024-02-29T09:20:16.433866Z",
     "start_time": "2024-02-29T09:20:16.423825Z"
    },
    "id": "eedcf2b4-27dd-4ffd-a257-ab5a712340fd",
    "outputId": "b7b73f4e-ce00-46bf-92e9-9793f8eb259a"
   },
   "outputs": [
    {
     "name": "stdout",
     "output_type": "stream",
     "text": [
      "        medal_type       athlete_name athlete_sex gender         discipline_x  \\\n",
      "136   Silver Medal    TANIGAWA Wataru           M    NaN  Artistic Gymnastics   \n",
      "137   Silver Medal    KITAZONO Takeru           M    NaN  Artistic Gymnastics   \n",
      "298   Bronze Medal      FRY Charlotte           O    NaN           Equestrian   \n",
      "404   Bronze Medal   HAUSDING Patrick           M    NaN               Diving   \n",
      "465     Gold Medal       STEPHAN Lucy           W    NaN               Rowing   \n",
      "673   Bronze Medal     SMULDERS Merel           W    NaN   Cycling BMX Racing   \n",
      "695     Gold Medal       BOSWORTH Sam           M    NaN               Rowing   \n",
      "824   Silver Medal  LEMBACH Charlotte           W    NaN              Fencing   \n",
      "1021  Bronze Medal      PALMER Krysta           W    NaN               Diving   \n",
      "1361  Bronze Medal       XAMMAR Jordi           M    NaN              Sailing   \n",
      "1458  Silver Medal      ZALEWSKI Aran           M    NaN               Hockey   \n",
      "1474  Bronze Medal     LAKRA Birendra           M    NaN               Hockey   \n",
      "1475  Bronze Medal     KUMAR Surender           M    NaN               Hockey   \n",
      "1479  Bronze Medal     SINGH Manpreet           M    NaN               Hockey   \n",
      "1485  Bronze Medal     SINGH Shamsher           M    NaN               Hockey   \n",
      "1488  Bronze Medal     SINGH Dilpreet           M    NaN               Hockey   \n",
      "1670    Gold Medal       SANDERS Pien           W    NaN               Hockey   \n",
      "2090  Silver Medal       HANSEN Johan           M    NaN             Handball   \n",
      "2097  Silver Medal       OLSEN Morten           M    NaN             Handball   \n",
      "2142    Gold Medal         PATRY Jean           M    NaN           Volleyball   \n",
      "\n",
      "     discipline_y discipline_code_y country_code_x                 country_x  \\\n",
      "136           NaN               GAR            JPN                     Japan   \n",
      "137           NaN               GAR            JPN                     Japan   \n",
      "298           NaN               EQU            GBR             Great Britain   \n",
      "404           NaN               DIV            GER                   Germany   \n",
      "465           NaN               ROW            AUS                 Australia   \n",
      "673           NaN               BMX            NED               Netherlands   \n",
      "695           NaN               ROW            NZL               New Zealand   \n",
      "824           NaN               FEN            FRA                    France   \n",
      "1021          NaN               DIV            USA  United States of America   \n",
      "1361          NaN               SAL            ESP                     Spain   \n",
      "1458          NaN               HOC            AUS                 Australia   \n",
      "1474          NaN               HOC            IND                     India   \n",
      "1475          NaN               HOC            IND                     India   \n",
      "1479          NaN               HOC            IND                     India   \n",
      "1485          NaN               HOC            IND                     India   \n",
      "1488          NaN               HOC            IND                     India   \n",
      "1670          NaN               HOC            NED               Netherlands   \n",
      "2090          NaN               HBL            DEN                   Denmark   \n",
      "2097          NaN               HBL            DEN                   Denmark   \n",
      "2142          NaN               VVO            FRA                    France   \n",
      "\n",
      "      NOC       region  \n",
      "136   JPN        Japan  \n",
      "137   JPN        Japan  \n",
      "298   GBR           UK  \n",
      "404   GER      Germany  \n",
      "465   AUS    Australia  \n",
      "673   NED  Netherlands  \n",
      "695   NZL  New Zealand  \n",
      "824   FRA       France  \n",
      "1021  USA          USA  \n",
      "1361  ESP        Spain  \n",
      "1458  AUS    Australia  \n",
      "1474  IND        India  \n",
      "1475  IND        India  \n",
      "1479  IND        India  \n",
      "1485  IND        India  \n",
      "1488  IND        India  \n",
      "1670  NED  Netherlands  \n",
      "2090  DEN      Denmark  \n",
      "2097  DEN      Denmark  \n",
      "2142  FRA       France  \n"
     ]
    }
   ],
   "source": [
    "# Check missing data\n",
    "null_rows = tokyo[tokyo.isnull().any(axis=1)]\n",
    "print(null_rows)"
   ]
  },
  {
   "cell_type": "code",
   "execution_count": 19,
   "id": "e3239879-c29b-4258-9888-50142c397721",
   "metadata": {
    "ExecuteTime": {
     "end_time": "2024-02-29T09:20:17.011486Z",
     "start_time": "2024-02-29T09:20:17.003048Z"
    },
    "id": "e3239879-c29b-4258-9888-50142c397721"
   },
   "outputs": [],
   "source": [
    "# Reassign gender enumerations\n",
    "null_rows['athlete_sex'] = null_rows['athlete_sex'].replace({'W': 'Female', **{value: 'Male' for value in \\\n",
    "                                                                     null_rows['athlete_sex'].unique() if value != 'W'}})\n",
    "null_rows['gender'] = null_rows['athlete_sex']\n",
    "null_rows['discipline_y'] = null_rows['discipline_x']\n",
    "tokyo.loc[null_rows.index] = null_rows"
   ]
  },
  {
   "cell_type": "code",
   "execution_count": 20,
   "id": "d0749a16-5a8f-46ca-8051-72bb6ac98730",
   "metadata": {
    "ExecuteTime": {
     "end_time": "2024-02-29T09:20:17.527286Z",
     "start_time": "2024-02-29T09:20:17.523385Z"
    },
    "id": "d0749a16-5a8f-46ca-8051-72bb6ac98730",
    "scrolled": true
   },
   "outputs": [],
   "source": [
    "tokyo.drop(columns=['athlete_sex','discipline_x','discipline_code_y'],inplace = True)"
   ]
  },
  {
   "cell_type": "code",
   "execution_count": 21,
   "id": "495f9eee-9201-4db6-a29a-91c0ec8a87d6",
   "metadata": {
    "ExecuteTime": {
     "end_time": "2024-02-29T09:20:17.937107Z",
     "start_time": "2024-02-29T09:20:17.925313Z"
    },
    "id": "495f9eee-9201-4db6-a29a-91c0ec8a87d6"
   },
   "outputs": [],
   "source": [
    "tokyo = tokyo[['athlete_name', 'gender', 'discipline_y', 'medal_type', 'region']]\n",
    "tokyo.columns = ['Name', 'Sex', 'Sport', 'Medal', 'Country']\n"
   ]
  },
  {
   "cell_type": "code",
   "execution_count": 22,
   "id": "f3e4e784-d9e7-4e7c-a831-66235dbb8071",
   "metadata": {
    "ExecuteTime": {
     "end_time": "2024-02-29T09:20:27.754669Z",
     "start_time": "2024-02-29T09:20:27.749814Z"
    },
    "id": "f3e4e784-d9e7-4e7c-a831-66235dbb8071"
   },
   "outputs": [],
   "source": [
    "tokyo.insert(2,'Year', 2020,)\n",
    "tokyo.insert(3,'Season', 'Summer')"
   ]
  },
  {
   "cell_type": "code",
   "execution_count": 23,
   "id": "e096d951-f1fc-43f1-95e3-5fa320c7e577",
   "metadata": {
    "ExecuteTime": {
     "end_time": "2024-02-29T09:20:28.477667Z",
     "start_time": "2024-02-29T09:20:28.471732Z"
    },
    "id": "e096d951-f1fc-43f1-95e3-5fa320c7e577",
    "outputId": "587b4d1c-9225-4dc2-9bba-17e403f45889"
   },
   "outputs": [
    {
     "data": {
      "text/html": [
       "<div>\n",
       "<style scoped>\n",
       "    .dataframe tbody tr th:only-of-type {\n",
       "        vertical-align: middle;\n",
       "    }\n",
       "\n",
       "    .dataframe tbody tr th {\n",
       "        vertical-align: top;\n",
       "    }\n",
       "\n",
       "    .dataframe thead th {\n",
       "        text-align: right;\n",
       "    }\n",
       "</style>\n",
       "<table border=\"1\" class=\"dataframe\">\n",
       "  <thead>\n",
       "    <tr style=\"text-align: right;\">\n",
       "      <th></th>\n",
       "      <th>Name</th>\n",
       "      <th>Sex</th>\n",
       "      <th>Year</th>\n",
       "      <th>Season</th>\n",
       "      <th>Sport</th>\n",
       "      <th>Medal</th>\n",
       "      <th>Country</th>\n",
       "    </tr>\n",
       "  </thead>\n",
       "  <tbody>\n",
       "    <tr>\n",
       "      <th>0</th>\n",
       "      <td>KIM Je Deok</td>\n",
       "      <td>Male</td>\n",
       "      <td>2020</td>\n",
       "      <td>Summer</td>\n",
       "      <td>Archery</td>\n",
       "      <td>Gold Medal</td>\n",
       "      <td>South Korea</td>\n",
       "    </tr>\n",
       "    <tr>\n",
       "      <th>1</th>\n",
       "      <td>AN San</td>\n",
       "      <td>Female</td>\n",
       "      <td>2020</td>\n",
       "      <td>Summer</td>\n",
       "      <td>Archery</td>\n",
       "      <td>Gold Medal</td>\n",
       "      <td>South Korea</td>\n",
       "    </tr>\n",
       "    <tr>\n",
       "      <th>2</th>\n",
       "      <td>SCHLOESSER Gabriela</td>\n",
       "      <td>Female</td>\n",
       "      <td>2020</td>\n",
       "      <td>Summer</td>\n",
       "      <td>Archery</td>\n",
       "      <td>Silver Medal</td>\n",
       "      <td>Netherlands</td>\n",
       "    </tr>\n",
       "    <tr>\n",
       "      <th>3</th>\n",
       "      <td>WIJLER Steve</td>\n",
       "      <td>Male</td>\n",
       "      <td>2020</td>\n",
       "      <td>Summer</td>\n",
       "      <td>Archery</td>\n",
       "      <td>Silver Medal</td>\n",
       "      <td>Netherlands</td>\n",
       "    </tr>\n",
       "    <tr>\n",
       "      <th>4</th>\n",
       "      <td>ALVAREZ Luis</td>\n",
       "      <td>Male</td>\n",
       "      <td>2020</td>\n",
       "      <td>Summer</td>\n",
       "      <td>Archery</td>\n",
       "      <td>Bronze Medal</td>\n",
       "      <td>Mexico</td>\n",
       "    </tr>\n",
       "    <tr>\n",
       "      <th>...</th>\n",
       "      <td>...</td>\n",
       "      <td>...</td>\n",
       "      <td>...</td>\n",
       "      <td>...</td>\n",
       "      <td>...</td>\n",
       "      <td>...</td>\n",
       "      <td>...</td>\n",
       "    </tr>\n",
       "    <tr>\n",
       "      <th>2403</th>\n",
       "      <td>HARAI Balazs</td>\n",
       "      <td>Male</td>\n",
       "      <td>2020</td>\n",
       "      <td>Summer</td>\n",
       "      <td>Water Polo</td>\n",
       "      <td>Bronze Medal</td>\n",
       "      <td>Hungary</td>\n",
       "    </tr>\n",
       "    <tr>\n",
       "      <th>2404</th>\n",
       "      <td>HOSNYANSZKY Norbert</td>\n",
       "      <td>Male</td>\n",
       "      <td>2020</td>\n",
       "      <td>Summer</td>\n",
       "      <td>Water Polo</td>\n",
       "      <td>Bronze Medal</td>\n",
       "      <td>Hungary</td>\n",
       "    </tr>\n",
       "    <tr>\n",
       "      <th>2405</th>\n",
       "      <td>JANSIK Szilard</td>\n",
       "      <td>Male</td>\n",
       "      <td>2020</td>\n",
       "      <td>Summer</td>\n",
       "      <td>Water Polo</td>\n",
       "      <td>Bronze Medal</td>\n",
       "      <td>Hungary</td>\n",
       "    </tr>\n",
       "    <tr>\n",
       "      <th>2406</th>\n",
       "      <td>MANHERCZ Krisztian</td>\n",
       "      <td>Male</td>\n",
       "      <td>2020</td>\n",
       "      <td>Summer</td>\n",
       "      <td>Water Polo</td>\n",
       "      <td>Bronze Medal</td>\n",
       "      <td>Hungary</td>\n",
       "    </tr>\n",
       "    <tr>\n",
       "      <th>2407</th>\n",
       "      <td>MEZEI Tamas</td>\n",
       "      <td>Male</td>\n",
       "      <td>2020</td>\n",
       "      <td>Summer</td>\n",
       "      <td>Water Polo</td>\n",
       "      <td>Bronze Medal</td>\n",
       "      <td>Hungary</td>\n",
       "    </tr>\n",
       "  </tbody>\n",
       "</table>\n",
       "<p>2408 rows × 7 columns</p>\n",
       "</div>"
      ],
      "text/plain": [
       "                     Name     Sex  Year  Season       Sport         Medal  \\\n",
       "0             KIM Je Deok    Male  2020  Summer     Archery    Gold Medal   \n",
       "1                  AN San  Female  2020  Summer     Archery    Gold Medal   \n",
       "2     SCHLOESSER Gabriela  Female  2020  Summer     Archery  Silver Medal   \n",
       "3            WIJLER Steve    Male  2020  Summer     Archery  Silver Medal   \n",
       "4            ALVAREZ Luis    Male  2020  Summer     Archery  Bronze Medal   \n",
       "...                   ...     ...   ...     ...         ...           ...   \n",
       "2403         HARAI Balazs    Male  2020  Summer  Water Polo  Bronze Medal   \n",
       "2404  HOSNYANSZKY Norbert    Male  2020  Summer  Water Polo  Bronze Medal   \n",
       "2405       JANSIK Szilard    Male  2020  Summer  Water Polo  Bronze Medal   \n",
       "2406   MANHERCZ Krisztian    Male  2020  Summer  Water Polo  Bronze Medal   \n",
       "2407          MEZEI Tamas    Male  2020  Summer  Water Polo  Bronze Medal   \n",
       "\n",
       "          Country  \n",
       "0     South Korea  \n",
       "1     South Korea  \n",
       "2     Netherlands  \n",
       "3     Netherlands  \n",
       "4          Mexico  \n",
       "...           ...  \n",
       "2403      Hungary  \n",
       "2404      Hungary  \n",
       "2405      Hungary  \n",
       "2406      Hungary  \n",
       "2407      Hungary  \n",
       "\n",
       "[2408 rows x 7 columns]"
      ]
     },
     "execution_count": 23,
     "metadata": {},
     "output_type": "execute_result"
    }
   ],
   "source": [
    "tokyo.head(-5)"
   ]
  },
  {
   "cell_type": "code",
   "execution_count": 24,
   "id": "dd4c4fb0-7863-42ec-9faf-cd7311f7e4c4",
   "metadata": {
    "ExecuteTime": {
     "end_time": "2024-02-29T09:20:32.533601Z",
     "start_time": "2024-02-29T09:20:32.489128Z"
    },
    "id": "dd4c4fb0-7863-42ec-9faf-cd7311f7e4c4",
    "outputId": "6374df8a-33c3-4636-ca57-b1f925abc7d0"
   },
   "outputs": [
    {
     "data": {
      "text/html": [
       "<div>\n",
       "<style scoped>\n",
       "    .dataframe tbody tr th:only-of-type {\n",
       "        vertical-align: middle;\n",
       "    }\n",
       "\n",
       "    .dataframe tbody tr th {\n",
       "        vertical-align: top;\n",
       "    }\n",
       "\n",
       "    .dataframe thead th {\n",
       "        text-align: right;\n",
       "    }\n",
       "</style>\n",
       "<table border=\"1\" class=\"dataframe\">\n",
       "  <thead>\n",
       "    <tr style=\"text-align: right;\">\n",
       "      <th></th>\n",
       "      <th>Name</th>\n",
       "      <th>Sex</th>\n",
       "      <th>Year</th>\n",
       "      <th>Season</th>\n",
       "      <th>Sport</th>\n",
       "      <th>Medal</th>\n",
       "      <th>Country</th>\n",
       "    </tr>\n",
       "  </thead>\n",
       "  <tbody>\n",
       "  </tbody>\n",
       "</table>\n",
       "</div>"
      ],
      "text/plain": [
       "Empty DataFrame\n",
       "Columns: [Name, Sex, Year, Season, Sport, Medal, Country]\n",
       "Index: []"
      ]
     },
     "execution_count": 24,
     "metadata": {},
     "output_type": "execute_result"
    }
   ],
   "source": [
    "null_rows = tokyo[tokyo.isnull().any(axis=1)]\n",
    "null_rows"
   ]
  },
  {
   "cell_type": "code",
   "execution_count": 25,
   "id": "f5d75a7c-6e1c-4876-800d-790e40e841a2",
   "metadata": {
    "ExecuteTime": {
     "end_time": "2024-02-29T09:20:35.468438Z",
     "start_time": "2024-02-29T09:20:35.465796Z"
    },
    "id": "f5d75a7c-6e1c-4876-800d-790e40e841a2"
   },
   "outputs": [],
   "source": [
    "tokyo['Medal'] = tokyo['Medal'].replace({'Gold Medal': 'Gold', 'Silver Medal': 'Silver', 'Bronze Medal': 'Bronze'})"
   ]
  },
  {
   "cell_type": "code",
   "execution_count": 26,
   "id": "a0d61dd2-8b0d-4283-b45e-085a3665d6f8",
   "metadata": {
    "ExecuteTime": {
     "end_time": "2024-02-29T09:20:36.999761Z",
     "start_time": "2024-02-29T09:20:36.989809Z"
    },
    "id": "a0d61dd2-8b0d-4283-b45e-085a3665d6f8",
    "outputId": "56464353-9f61-4e83-f4a6-a8c97936ce88"
   },
   "outputs": [
    {
     "data": {
      "text/html": [
       "<div>\n",
       "<style scoped>\n",
       "    .dataframe tbody tr th:only-of-type {\n",
       "        vertical-align: middle;\n",
       "    }\n",
       "\n",
       "    .dataframe tbody tr th {\n",
       "        vertical-align: top;\n",
       "    }\n",
       "\n",
       "    .dataframe thead th {\n",
       "        text-align: right;\n",
       "    }\n",
       "</style>\n",
       "<table border=\"1\" class=\"dataframe\">\n",
       "  <thead>\n",
       "    <tr style=\"text-align: right;\">\n",
       "      <th></th>\n",
       "      <th>Name</th>\n",
       "      <th>Sex</th>\n",
       "      <th>Year</th>\n",
       "      <th>Season</th>\n",
       "      <th>Sport</th>\n",
       "      <th>Medal</th>\n",
       "      <th>Country</th>\n",
       "    </tr>\n",
       "  </thead>\n",
       "  <tbody>\n",
       "    <tr>\n",
       "      <th>0</th>\n",
       "      <td>KIM Je Deok</td>\n",
       "      <td>Male</td>\n",
       "      <td>2020</td>\n",
       "      <td>Summer</td>\n",
       "      <td>Archery</td>\n",
       "      <td>Gold</td>\n",
       "      <td>South Korea</td>\n",
       "    </tr>\n",
       "    <tr>\n",
       "      <th>1</th>\n",
       "      <td>AN San</td>\n",
       "      <td>Female</td>\n",
       "      <td>2020</td>\n",
       "      <td>Summer</td>\n",
       "      <td>Archery</td>\n",
       "      <td>Gold</td>\n",
       "      <td>South Korea</td>\n",
       "    </tr>\n",
       "    <tr>\n",
       "      <th>2</th>\n",
       "      <td>SCHLOESSER Gabriela</td>\n",
       "      <td>Female</td>\n",
       "      <td>2020</td>\n",
       "      <td>Summer</td>\n",
       "      <td>Archery</td>\n",
       "      <td>Silver</td>\n",
       "      <td>Netherlands</td>\n",
       "    </tr>\n",
       "    <tr>\n",
       "      <th>3</th>\n",
       "      <td>WIJLER Steve</td>\n",
       "      <td>Male</td>\n",
       "      <td>2020</td>\n",
       "      <td>Summer</td>\n",
       "      <td>Archery</td>\n",
       "      <td>Silver</td>\n",
       "      <td>Netherlands</td>\n",
       "    </tr>\n",
       "    <tr>\n",
       "      <th>4</th>\n",
       "      <td>ALVAREZ Luis</td>\n",
       "      <td>Male</td>\n",
       "      <td>2020</td>\n",
       "      <td>Summer</td>\n",
       "      <td>Archery</td>\n",
       "      <td>Bronze</td>\n",
       "      <td>Mexico</td>\n",
       "    </tr>\n",
       "  </tbody>\n",
       "</table>\n",
       "</div>"
      ],
      "text/plain": [
       "                  Name     Sex  Year  Season    Sport   Medal      Country\n",
       "0          KIM Je Deok    Male  2020  Summer  Archery    Gold  South Korea\n",
       "1               AN San  Female  2020  Summer  Archery    Gold  South Korea\n",
       "2  SCHLOESSER Gabriela  Female  2020  Summer  Archery  Silver  Netherlands\n",
       "3         WIJLER Steve    Male  2020  Summer  Archery  Silver  Netherlands\n",
       "4         ALVAREZ Luis    Male  2020  Summer  Archery  Bronze       Mexico"
      ]
     },
     "execution_count": 26,
     "metadata": {},
     "output_type": "execute_result"
    }
   ],
   "source": [
    "tokyo.head()"
   ]
  },
  {
   "cell_type": "markdown",
   "id": "e8c10c5c-a9ca-4804-805e-d1d4e1c330fb",
   "metadata": {
    "id": "e8c10c5c-a9ca-4804-805e-d1d4e1c330fb"
   },
   "source": [
    "### Merging data"
   ]
  },
  {
   "cell_type": "code",
   "execution_count": 27,
   "id": "0c47aad4-9c81-4cc5-a8fc-1777b8ee47e5",
   "metadata": {
    "ExecuteTime": {
     "end_time": "2024-02-29T09:20:40.232619Z",
     "start_time": "2024-02-29T09:20:40.123199Z"
    },
    "id": "0c47aad4-9c81-4cc5-a8fc-1777b8ee47e5",
    "outputId": "aa97963b-07e3-4011-871e-1daa59e1501f"
   },
   "outputs": [
    {
     "data": {
      "text/html": [
       "<div>\n",
       "<style scoped>\n",
       "    .dataframe tbody tr th:only-of-type {\n",
       "        vertical-align: middle;\n",
       "    }\n",
       "\n",
       "    .dataframe tbody tr th {\n",
       "        vertical-align: top;\n",
       "    }\n",
       "\n",
       "    .dataframe thead th {\n",
       "        text-align: right;\n",
       "    }\n",
       "</style>\n",
       "<table border=\"1\" class=\"dataframe\">\n",
       "  <thead>\n",
       "    <tr style=\"text-align: right;\">\n",
       "      <th></th>\n",
       "      <th>Name</th>\n",
       "      <th>Sex</th>\n",
       "      <th>Age</th>\n",
       "      <th>Height</th>\n",
       "      <th>Weight</th>\n",
       "      <th>Year</th>\n",
       "      <th>Season</th>\n",
       "      <th>Sport</th>\n",
       "      <th>Medal</th>\n",
       "      <th>Country</th>\n",
       "    </tr>\n",
       "  </thead>\n",
       "  <tbody>\n",
       "    <tr>\n",
       "      <th>0</th>\n",
       "      <td>Juhamatti Tapio Aaltonen</td>\n",
       "      <td>Male</td>\n",
       "      <td>28.0</td>\n",
       "      <td>184.0</td>\n",
       "      <td>85.0</td>\n",
       "      <td>2014</td>\n",
       "      <td>Winter</td>\n",
       "      <td>Ice Hockey</td>\n",
       "      <td>Bronze</td>\n",
       "      <td>Finland</td>\n",
       "    </tr>\n",
       "    <tr>\n",
       "      <th>1</th>\n",
       "      <td>Paavo Johannes Aaltonen</td>\n",
       "      <td>Male</td>\n",
       "      <td>28.0</td>\n",
       "      <td>175.0</td>\n",
       "      <td>64.0</td>\n",
       "      <td>1948</td>\n",
       "      <td>Summer</td>\n",
       "      <td>Gymnastics</td>\n",
       "      <td>Bronze</td>\n",
       "      <td>Finland</td>\n",
       "    </tr>\n",
       "    <tr>\n",
       "      <th>2</th>\n",
       "      <td>Paavo Johannes Aaltonen</td>\n",
       "      <td>Male</td>\n",
       "      <td>28.0</td>\n",
       "      <td>175.0</td>\n",
       "      <td>64.0</td>\n",
       "      <td>1948</td>\n",
       "      <td>Summer</td>\n",
       "      <td>Gymnastics</td>\n",
       "      <td>Gold</td>\n",
       "      <td>Finland</td>\n",
       "    </tr>\n",
       "    <tr>\n",
       "      <th>3</th>\n",
       "      <td>Paavo Johannes Aaltonen</td>\n",
       "      <td>Male</td>\n",
       "      <td>28.0</td>\n",
       "      <td>175.0</td>\n",
       "      <td>64.0</td>\n",
       "      <td>1948</td>\n",
       "      <td>Summer</td>\n",
       "      <td>Gymnastics</td>\n",
       "      <td>Gold</td>\n",
       "      <td>Finland</td>\n",
       "    </tr>\n",
       "    <tr>\n",
       "      <th>4</th>\n",
       "      <td>Paavo Johannes Aaltonen</td>\n",
       "      <td>Male</td>\n",
       "      <td>28.0</td>\n",
       "      <td>175.0</td>\n",
       "      <td>64.0</td>\n",
       "      <td>1948</td>\n",
       "      <td>Summer</td>\n",
       "      <td>Gymnastics</td>\n",
       "      <td>Gold</td>\n",
       "      <td>Finland</td>\n",
       "    </tr>\n",
       "    <tr>\n",
       "      <th>...</th>\n",
       "      <td>...</td>\n",
       "      <td>...</td>\n",
       "      <td>...</td>\n",
       "      <td>...</td>\n",
       "      <td>...</td>\n",
       "      <td>...</td>\n",
       "      <td>...</td>\n",
       "      <td>...</td>\n",
       "      <td>...</td>\n",
       "      <td>...</td>\n",
       "    </tr>\n",
       "    <tr>\n",
       "      <th>32584</th>\n",
       "      <td>HARAI Balazs</td>\n",
       "      <td>Male</td>\n",
       "      <td>NaN</td>\n",
       "      <td>NaN</td>\n",
       "      <td>NaN</td>\n",
       "      <td>2020</td>\n",
       "      <td>Summer</td>\n",
       "      <td>Water Polo</td>\n",
       "      <td>Bronze</td>\n",
       "      <td>Hungary</td>\n",
       "    </tr>\n",
       "    <tr>\n",
       "      <th>32585</th>\n",
       "      <td>HOSNYANSZKY Norbert</td>\n",
       "      <td>Male</td>\n",
       "      <td>NaN</td>\n",
       "      <td>NaN</td>\n",
       "      <td>NaN</td>\n",
       "      <td>2020</td>\n",
       "      <td>Summer</td>\n",
       "      <td>Water Polo</td>\n",
       "      <td>Bronze</td>\n",
       "      <td>Hungary</td>\n",
       "    </tr>\n",
       "    <tr>\n",
       "      <th>32586</th>\n",
       "      <td>JANSIK Szilard</td>\n",
       "      <td>Male</td>\n",
       "      <td>NaN</td>\n",
       "      <td>NaN</td>\n",
       "      <td>NaN</td>\n",
       "      <td>2020</td>\n",
       "      <td>Summer</td>\n",
       "      <td>Water Polo</td>\n",
       "      <td>Bronze</td>\n",
       "      <td>Hungary</td>\n",
       "    </tr>\n",
       "    <tr>\n",
       "      <th>32587</th>\n",
       "      <td>MANHERCZ Krisztian</td>\n",
       "      <td>Male</td>\n",
       "      <td>NaN</td>\n",
       "      <td>NaN</td>\n",
       "      <td>NaN</td>\n",
       "      <td>2020</td>\n",
       "      <td>Summer</td>\n",
       "      <td>Water Polo</td>\n",
       "      <td>Bronze</td>\n",
       "      <td>Hungary</td>\n",
       "    </tr>\n",
       "    <tr>\n",
       "      <th>32588</th>\n",
       "      <td>MEZEI Tamas</td>\n",
       "      <td>Male</td>\n",
       "      <td>NaN</td>\n",
       "      <td>NaN</td>\n",
       "      <td>NaN</td>\n",
       "      <td>2020</td>\n",
       "      <td>Summer</td>\n",
       "      <td>Water Polo</td>\n",
       "      <td>Bronze</td>\n",
       "      <td>Hungary</td>\n",
       "    </tr>\n",
       "  </tbody>\n",
       "</table>\n",
       "<p>32589 rows × 10 columns</p>\n",
       "</div>"
      ],
      "text/plain": [
       "                           Name   Sex   Age  Height  Weight  Year  Season  \\\n",
       "0      Juhamatti Tapio Aaltonen  Male  28.0   184.0    85.0  2014  Winter   \n",
       "1       Paavo Johannes Aaltonen  Male  28.0   175.0    64.0  1948  Summer   \n",
       "2       Paavo Johannes Aaltonen  Male  28.0   175.0    64.0  1948  Summer   \n",
       "3       Paavo Johannes Aaltonen  Male  28.0   175.0    64.0  1948  Summer   \n",
       "4       Paavo Johannes Aaltonen  Male  28.0   175.0    64.0  1948  Summer   \n",
       "...                         ...   ...   ...     ...     ...   ...     ...   \n",
       "32584              HARAI Balazs  Male   NaN     NaN     NaN  2020  Summer   \n",
       "32585       HOSNYANSZKY Norbert  Male   NaN     NaN     NaN  2020  Summer   \n",
       "32586            JANSIK Szilard  Male   NaN     NaN     NaN  2020  Summer   \n",
       "32587        MANHERCZ Krisztian  Male   NaN     NaN     NaN  2020  Summer   \n",
       "32588               MEZEI Tamas  Male   NaN     NaN     NaN  2020  Summer   \n",
       "\n",
       "            Sport   Medal  Country  \n",
       "0      Ice Hockey  Bronze  Finland  \n",
       "1      Gymnastics  Bronze  Finland  \n",
       "2      Gymnastics    Gold  Finland  \n",
       "3      Gymnastics    Gold  Finland  \n",
       "4      Gymnastics    Gold  Finland  \n",
       "...           ...     ...      ...  \n",
       "32584  Water Polo  Bronze  Hungary  \n",
       "32585  Water Polo  Bronze  Hungary  \n",
       "32586  Water Polo  Bronze  Hungary  \n",
       "32587  Water Polo  Bronze  Hungary  \n",
       "32588  Water Polo  Bronze  Hungary  \n",
       "\n",
       "[32589 rows x 10 columns]"
      ]
     },
     "execution_count": 27,
     "metadata": {},
     "output_type": "execute_result"
    }
   ],
   "source": [
    "# Merging 120year data to Tokyo data\n",
    "olympics_notna = olympics.dropna().reset_index(drop=True)\n",
    "olympics_merged = pd.concat([olympics_notna, tokyo], ignore_index=True)\n",
    "olympics_merged.head(-5)"
   ]
  },
  {
   "cell_type": "markdown",
   "id": "cBt_PzgWiLMO",
   "metadata": {
    "id": "cBt_PzgWiLMO"
   },
   "source": [
    "\n",
    "## Information about the dataset"
   ]
  },
  {
   "cell_type": "code",
   "execution_count": 28,
   "id": "T0HFRnsaiSR3",
   "metadata": {
    "ExecuteTime": {
     "end_time": "2024-02-29T09:20:44.991871Z",
     "start_time": "2024-02-29T09:20:44.966786Z"
    },
    "id": "T0HFRnsaiSR3",
    "outputId": "4deaadbe-76ee-4f8d-ba28-146a16ca063a"
   },
   "outputs": [
    {
     "data": {
      "text/html": [
       "<div>\n",
       "<style scoped>\n",
       "    .dataframe tbody tr th:only-of-type {\n",
       "        vertical-align: middle;\n",
       "    }\n",
       "\n",
       "    .dataframe tbody tr th {\n",
       "        vertical-align: top;\n",
       "    }\n",
       "\n",
       "    .dataframe thead th {\n",
       "        text-align: right;\n",
       "    }\n",
       "</style>\n",
       "<table border=\"1\" class=\"dataframe\">\n",
       "  <thead>\n",
       "    <tr style=\"text-align: right;\">\n",
       "      <th></th>\n",
       "      <th>Age</th>\n",
       "      <th>Height</th>\n",
       "      <th>Weight</th>\n",
       "      <th>Year</th>\n",
       "    </tr>\n",
       "  </thead>\n",
       "  <tbody>\n",
       "    <tr>\n",
       "      <th>count</th>\n",
       "      <td>30181.000000</td>\n",
       "      <td>30181.000000</td>\n",
       "      <td>30181.000000</td>\n",
       "      <td>32594.000000</td>\n",
       "    </tr>\n",
       "    <tr>\n",
       "      <th>mean</th>\n",
       "      <td>25.429012</td>\n",
       "      <td>177.642358</td>\n",
       "      <td>73.753554</td>\n",
       "      <td>1990.374547</td>\n",
       "    </tr>\n",
       "    <tr>\n",
       "      <th>std</th>\n",
       "      <td>5.049684</td>\n",
       "      <td>10.924188</td>\n",
       "      <td>15.004992</td>\n",
       "      <td>23.411308</td>\n",
       "    </tr>\n",
       "    <tr>\n",
       "      <th>min</th>\n",
       "      <td>13.000000</td>\n",
       "      <td>136.000000</td>\n",
       "      <td>28.000000</td>\n",
       "      <td>1896.000000</td>\n",
       "    </tr>\n",
       "    <tr>\n",
       "      <th>25%</th>\n",
       "      <td>22.000000</td>\n",
       "      <td>170.000000</td>\n",
       "      <td>63.000000</td>\n",
       "      <td>1976.000000</td>\n",
       "    </tr>\n",
       "    <tr>\n",
       "      <th>50%</th>\n",
       "      <td>25.000000</td>\n",
       "      <td>178.000000</td>\n",
       "      <td>73.000000</td>\n",
       "      <td>1996.000000</td>\n",
       "    </tr>\n",
       "    <tr>\n",
       "      <th>75%</th>\n",
       "      <td>28.000000</td>\n",
       "      <td>185.000000</td>\n",
       "      <td>83.000000</td>\n",
       "      <td>2008.000000</td>\n",
       "    </tr>\n",
       "    <tr>\n",
       "      <th>max</th>\n",
       "      <td>66.000000</td>\n",
       "      <td>223.000000</td>\n",
       "      <td>182.000000</td>\n",
       "      <td>2020.000000</td>\n",
       "    </tr>\n",
       "  </tbody>\n",
       "</table>\n",
       "</div>"
      ],
      "text/plain": [
       "                Age        Height        Weight          Year\n",
       "count  30181.000000  30181.000000  30181.000000  32594.000000\n",
       "mean      25.429012    177.642358     73.753554   1990.374547\n",
       "std        5.049684     10.924188     15.004992     23.411308\n",
       "min       13.000000    136.000000     28.000000   1896.000000\n",
       "25%       22.000000    170.000000     63.000000   1976.000000\n",
       "50%       25.000000    178.000000     73.000000   1996.000000\n",
       "75%       28.000000    185.000000     83.000000   2008.000000\n",
       "max       66.000000    223.000000    182.000000   2020.000000"
      ]
     },
     "execution_count": 28,
     "metadata": {},
     "output_type": "execute_result"
    }
   ],
   "source": [
    "olympics_merged.describe()"
   ]
  },
  {
   "cell_type": "code",
   "execution_count": 29,
   "id": "cacbcf3e07390bc7",
   "metadata": {
    "ExecuteTime": {
     "end_time": "2024-02-29T09:20:47.128033Z",
     "start_time": "2024-02-29T09:20:47.099331Z"
    },
    "id": "cacbcf3e07390bc7",
    "outputId": "c8595c77-0f2f-412a-bf43-6e0c74fdc19a"
   },
   "outputs": [
    {
     "name": "stdout",
     "output_type": "stream",
     "text": [
      "<class 'pandas.core.frame.DataFrame'>\n",
      "RangeIndex: 32594 entries, 0 to 32593\n",
      "Data columns (total 10 columns):\n",
      " #   Column   Non-Null Count  Dtype  \n",
      "---  ------   --------------  -----  \n",
      " 0   Name     32594 non-null  object \n",
      " 1   Sex      32594 non-null  object \n",
      " 2   Age      30181 non-null  float64\n",
      " 3   Height   30181 non-null  float64\n",
      " 4   Weight   30181 non-null  float64\n",
      " 5   Year     32594 non-null  int64  \n",
      " 6   Season   32594 non-null  object \n",
      " 7   Sport    32594 non-null  object \n",
      " 8   Medal    32594 non-null  object \n",
      " 9   Country  32594 non-null  object \n",
      "dtypes: float64(3), int64(1), object(6)\n",
      "memory usage: 2.5+ MB\n"
     ]
    }
   ],
   "source": [
    "olympics_merged.info()"
   ]
  },
  {
   "cell_type": "markdown",
   "id": "3d988ab8-a780-47cf-9504-23f0618dc133",
   "metadata": {
    "id": "3d988ab8-a780-47cf-9504-23f0618dc133"
   },
   "source": [
    "## Data Visualization and Insights"
   ]
  },
  {
   "cell_type": "markdown",
   "id": "6643cf26-9abe-4bfb-ba8a-a5a8c330148d",
   "metadata": {
    "id": "6643cf26-9abe-4bfb-ba8a-a5a8c330148d"
   },
   "source": [
    "### Main participated countries of the Olympics"
   ]
  },
  {
   "cell_type": "code",
   "execution_count": 30,
   "id": "e3d410ef-ff02-4b50-b68c-8588420b87aa",
   "metadata": {
    "ExecuteTime": {
     "end_time": "2024-02-29T09:20:49.420033Z",
     "start_time": "2024-02-29T09:20:49.417292Z"
    },
    "id": "e3d410ef-ff02-4b50-b68c-8588420b87aa"
   },
   "outputs": [],
   "source": [
    "sns.set_theme()"
   ]
  },
  {
   "cell_type": "code",
   "execution_count": 31,
   "id": "5fc80a2a-c996-49b6-ac02-99e1528cbfe5",
   "metadata": {
    "ExecuteTime": {
     "end_time": "2024-02-29T09:20:50.035379Z",
     "start_time": "2024-02-29T09:20:50.029338Z"
    },
    "id": "5fc80a2a-c996-49b6-ac02-99e1528cbfe5"
   },
   "outputs": [],
   "source": [
    "# Select Top 10 participated countries\n",
    "olympics_top10 = olympics['Country'].value_counts().nlargest(10)"
   ]
  },
  {
   "cell_type": "code",
   "execution_count": 32,
   "id": "43bebfae-7a0c-4899-bd5c-cfb47940cd6c",
   "metadata": {
    "ExecuteTime": {
     "end_time": "2024-02-29T09:20:50.642515Z",
     "start_time": "2024-02-29T09:20:50.526188Z"
    },
    "id": "43bebfae-7a0c-4899-bd5c-cfb47940cd6c",
    "outputId": "b6a997dd-5acd-4e29-fefa-29d634dd1ae1"
   },
   "outputs": [
    {
     "data": {
      "image/png": "[encoded data removed]",
      "text/plain": [
       "<Figure size 800x400 with 1 Axes>"
      ]
     },
     "metadata": {},
     "output_type": "display_data"
    }
   ],
   "source": [
    "plt.figure(figsize=(8,4))\n",
    "sns.barplot(x = olympics_top10.index,y = olympics_top10)\n",
    "plt.xlabel('Countries')\n",
    "plt.ylabel('Counts')\n",
    "plt.title('Top 10 participated countries')\n",
    "plt.show()"
   ]
  },
  {
   "cell_type": "markdown",
   "id": "23d09d62-ea57-447b-893a-bc06bd3d2069",
   "metadata": {
    "id": "23d09d62-ea57-447b-893a-bc06bd3d2069"
   },
   "source": [
    "### Genders analysis"
   ]
  },
  {
   "cell_type": "code",
   "execution_count": 33,
   "id": "55f4f5de-15c9-4e35-af4a-7e7efd88bfc7",
   "metadata": {
    "ExecuteTime": {
     "end_time": "2024-02-29T09:20:51.955488Z",
     "start_time": "2024-02-29T09:20:51.954028Z"
    },
    "id": "55f4f5de-15c9-4e35-af4a-7e7efd88bfc7"
   },
   "outputs": [],
   "source": [
    "gender_counts = olympics['Sex'].value_counts()\n",
    "gender_medal_counts = olympics_merged['Sex'].value_counts()"
   ]
  },
  {
   "cell_type": "code",
   "execution_count": 34,
   "id": "b6039f8a-0b8d-466d-8886-c2c92dcb3379",
   "metadata": {
    "ExecuteTime": {
     "end_time": "2024-02-29T09:20:52.502033Z",
     "start_time": "2024-02-29T09:20:52.431083Z"
    },
    "id": "b6039f8a-0b8d-466d-8886-c2c92dcb3379",
    "outputId": "0cb67e3d-5f03-4ae1-d263-e04953d893e7"
   },
   "outputs": [
    {
     "data": {
      "image/png": "[encoded data removed]",
      "text/plain": [
       "<Figure size 1200x600 with 2 Axes>"
      ]
     },
     "metadata": {},
     "output_type": "display_data"
    }
   ],
   "source": [
    "fig, axes = plt.subplots(1, 2, figsize=(12, 6))\n",
    "axes[0].pie(gender_counts,labels = gender_counts.index, autopct = '%1.1f%%')\n",
    "axes[0].set_title('Gender Distribution of participation in 120 years')\n",
    "axes[1].pie(gender_medal_counts,labels = gender_counts.index, autopct = '%1.1f%%')\n",
    "axes[1].set_title('Gender Distribution of medals')\n",
    "sns.set_style(\"whitegrid\")\n",
    "plt.show()"
   ]
  },
  {
   "cell_type": "code",
   "execution_count": 35,
   "id": "fab7cbc2-a7ef-4f7a-9340-dace2478ccc6",
   "metadata": {
    "ExecuteTime": {
     "end_time": "2024-02-29T09:20:53.177941Z",
     "start_time": "2024-02-29T09:20:53.018604Z"
    },
    "id": "fab7cbc2-a7ef-4f7a-9340-dace2478ccc6",
    "outputId": "ae491bab-d377-4d80-9fc6-84a6dc75252f"
   },
   "outputs": [
    {
     "data": {
      "image/png": "[encoded data removed]",
      "text/plain": [
       "<Figure size 1800x600 with 1 Axes>"
      ]
     },
     "metadata": {},
     "output_type": "display_data"
    }
   ],
   "source": [
    "fig, ax = plt.subplots(1, 1, figsize=(18, 6))\n",
    "summer_data = olympics_merged[olympics_merged['Season'] == 'Summer'].reset_index()\n",
    "for i, sex in enumerate(summer_data['Sex'].value_counts().index):\n",
    "    sex_data = summer_data[summer_data['Sex'] == sex]\n",
    "    sex_distribution = sex_data['Year'].value_counts().sort_index()\n",
    "    ax.plot(sex_distribution.index, sex_distribution.values, label=sex)\n",
    "\n",
    "ax.set_ylim(0, 1500)\n",
    "ax.legend(loc='upper left')\n",
    "ax.grid()\n",
    "ax.set_title('Medals won in Summer Olympics')\n",
    "\n",
    "plt.show()\n"
   ]
  },
  {
   "cell_type": "code",
   "execution_count": 36,
   "id": "d443f773-6e28-4e8a-980a-17d50d74b388",
   "metadata": {
    "ExecuteTime": {
     "end_time": "2024-02-29T09:20:53.750089Z",
     "start_time": "2024-02-29T09:20:53.592796Z"
    },
    "id": "d443f773-6e28-4e8a-980a-17d50d74b388",
    "outputId": "ab1f8b89-d973-41be-d10a-b914ffcefb18"
   },
   "outputs": [
    {
     "data": {
      "image/png": "[encoded data removed]",
      "text/plain": [
       "<Figure size 1800x600 with 1 Axes>"
      ]
     },
     "metadata": {},
     "output_type": "display_data"
    }
   ],
   "source": [
    "fig, ax = plt.subplots(1, 1, figsize=(18, 6))\n",
    "summer_data = olympics_merged[olympics_merged['Season'] == 'Winter'].reset_index()\n",
    "for i, sex in enumerate(summer_data['Sex'].value_counts().index):\n",
    "    sex_data = summer_data[summer_data['Sex'] == sex]\n",
    "    sex_distribution = sex_data['Year'].value_counts().sort_index()\n",
    "    ax.plot(sex_distribution.index, sex_distribution.values, label=sex)\n",
    "\n",
    "ax.set_ylim(0, 400)\n",
    "ax.legend(loc='upper left')\n",
    "ax.grid()\n",
    "ax.set_title('Medals won in Winter Olympics')\n",
    "\n",
    "plt.show()"
   ]
  },
  {
   "cell_type": "code",
   "execution_count": 37,
   "id": "dc431a87-b730-4dde-a5b0-d9bae8504f7a",
   "metadata": {
    "ExecuteTime": {
     "end_time": "2024-02-29T09:20:54.746367Z",
     "start_time": "2024-02-29T09:20:54.041567Z"
    },
    "colab": {
     "base_uri": "https://localhost:8080/",
     "height": 216
    },
    "id": "dc431a87-b730-4dde-a5b0-d9bae8504f7a",
    "outputId": "eca5f0bf-83f7-4a0f-eded-b1f00de6f90b"
   },
   "outputs": [
    {
     "data": {
      "image/png": "[encoded data removed]",
      "text/plain": [
       "<Figure size 1800x1000 with 1 Axes>"
      ]
     },
     "metadata": {},
     "output_type": "display_data"
    }
   ],
   "source": [
    "# Group by country\n",
    "medal_for_country = summer_data.groupby(['Country', 'Medal']).size().reset_index(name='Count')\n",
    "pivot_df = medal_for_country.pivot(index='Country', columns='Medal', values='Count').sort_values(by='Gold', ascending=False).head(20)\n",
    "pivot_df.plot(kind='bar', stacked=False, figsize=(18, 10))\n",
    "plt.xticks(rotation=90)\n",
    "\n",
    "plt.xlabel('Country')\n",
    "plt.ylabel('Count of Medals')\n",
    "plt.title('Distribution of Medals by Country')\n",
    "\n",
    "plt.show()"
   ]
  },
  {
   "cell_type": "code",
   "execution_count": 38,
   "id": "cd2ac8bba6de29b3",
   "metadata": {
    "ExecuteTime": {
     "end_time": "2024-02-29T09:20:54.772313Z",
     "start_time": "2024-02-29T09:20:54.745735Z"
    },
    "id": "cd2ac8bba6de29b3",
    "outputId": "24b08650-7c20-4cde-d148-b6896f511461"
   },
   "outputs": [
    {
     "data": {
      "text/html": [
       "<div>\n",
       "<style scoped>\n",
       "    .dataframe tbody tr th:only-of-type {\n",
       "        vertical-align: middle;\n",
       "    }\n",
       "\n",
       "    .dataframe tbody tr th {\n",
       "        vertical-align: top;\n",
       "    }\n",
       "\n",
       "    .dataframe thead th {\n",
       "        text-align: right;\n",
       "    }\n",
       "</style>\n",
       "<table border=\"1\" class=\"dataframe\">\n",
       "  <thead>\n",
       "    <tr style=\"text-align: right;\">\n",
       "      <th></th>\n",
       "      <th>Country</th>\n",
       "      <th>Sport</th>\n",
       "      <th>Medal_Count</th>\n",
       "    </tr>\n",
       "  </thead>\n",
       "  <tbody>\n",
       "    <tr>\n",
       "      <th>30</th>\n",
       "      <td>Canada</td>\n",
       "      <td>Ice Hockey</td>\n",
       "      <td>273</td>\n",
       "    </tr>\n",
       "    <tr>\n",
       "      <th>197</th>\n",
       "      <td>USA</td>\n",
       "      <td>Ice Hockey</td>\n",
       "      <td>226</td>\n",
       "    </tr>\n",
       "    <tr>\n",
       "      <th>143</th>\n",
       "      <td>Russia</td>\n",
       "      <td>Ice Hockey</td>\n",
       "      <td>218</td>\n",
       "    </tr>\n",
       "    <tr>\n",
       "      <th>169</th>\n",
       "      <td>Sweden</td>\n",
       "      <td>Ice Hockey</td>\n",
       "      <td>189</td>\n",
       "    </tr>\n",
       "    <tr>\n",
       "      <th>59</th>\n",
       "      <td>Finland</td>\n",
       "      <td>Ice Hockey</td>\n",
       "      <td>174</td>\n",
       "    </tr>\n",
       "    <tr>\n",
       "      <th>47</th>\n",
       "      <td>Czech Republic</td>\n",
       "      <td>Ice Hockey</td>\n",
       "      <td>159</td>\n",
       "    </tr>\n",
       "    <tr>\n",
       "      <th>123</th>\n",
       "      <td>Norway</td>\n",
       "      <td>Cross Country Skiing</td>\n",
       "      <td>127</td>\n",
       "    </tr>\n",
       "    <tr>\n",
       "      <th>74</th>\n",
       "      <td>Germany</td>\n",
       "      <td>Biathlon</td>\n",
       "      <td>110</td>\n",
       "    </tr>\n",
       "    <tr>\n",
       "      <th>117</th>\n",
       "      <td>Netherlands</td>\n",
       "      <td>Speed Skating</td>\n",
       "      <td>108</td>\n",
       "    </tr>\n",
       "    <tr>\n",
       "      <th>4</th>\n",
       "      <td>Austria</td>\n",
       "      <td>Alpine Skiing</td>\n",
       "      <td>83</td>\n",
       "    </tr>\n",
       "  </tbody>\n",
       "</table>\n",
       "</div>"
      ],
      "text/plain": [
       "            Country                 Sport  Medal_Count\n",
       "30           Canada            Ice Hockey          273\n",
       "197             USA            Ice Hockey          226\n",
       "143          Russia            Ice Hockey          218\n",
       "169          Sweden            Ice Hockey          189\n",
       "59          Finland            Ice Hockey          174\n",
       "47   Czech Republic            Ice Hockey          159\n",
       "123          Norway  Cross Country Skiing          127\n",
       "74          Germany              Biathlon          110\n",
       "117     Netherlands         Speed Skating          108\n",
       "4           Austria         Alpine Skiing           83"
      ]
     },
     "execution_count": 38,
     "metadata": {},
     "output_type": "execute_result"
    }
   ],
   "source": [
    "# Group by sport\n",
    "medals_by_sport = summer_data.groupby(['Country', 'Sport']).size().reset_index(name='Medal_Count')\n",
    "idx = medals_by_sport.groupby('Country')['Medal_Count'].idxmax()\n",
    "country_best_sports = medals_by_sport.loc[idx].sort_values(by='Medal_Count',ascending = False).head(10)\n",
    "country_best_sports"
   ]
  },
  {
   "cell_type": "code",
   "execution_count": 39,
   "id": "5615c24ba2c86f01",
   "metadata": {
    "ExecuteTime": {
     "end_time": "2024-02-29T09:20:55.921553Z",
     "start_time": "2024-02-29T09:20:55.775583Z"
    },
    "id": "5615c24ba2c86f01",
    "outputId": "6d963590-c4b4-4ceb-b0e4-21988480f6be"
   },
   "outputs": [
    {
     "data": {
      "image/png": "[encoded data removed]",
      "text/plain": [
       "<Figure size 1800x600 with 1 Axes>"
      ]
     },
     "metadata": {},
     "output_type": "display_data"
    }
   ],
   "source": [
    "unique_sports = country_best_sports['Sport'].unique()\n",
    "fig, ax = plt.subplots(1, 1, figsize=(18, 6))\n",
    "for sport in unique_sports:\n",
    "    sport_data = country_best_sports[country_best_sports['Sport'] == sport]\n",
    "    ax.bar(sport_data['Country'], sport_data['Medal_Count'], label=sport)\n",
    "\n",
    "ax.legend()\n",
    "ax.set_xlabel('Country')\n",
    "ax.set_ylabel('Count of Medals')\n",
    "ax.set_title('Medal Counts for Best Sport of Each Country')\n",
    "\n",
    "plt.show()"
   ]
  },
  {
   "cell_type": "markdown",
   "id": "1c0a38aedea79845",
   "metadata": {
    "collapsed": false,
    "id": "1c0a38aedea79845",
    "jupyter": {
     "outputs_hidden": false
    }
   },
   "source": [
    "### Medals by Country\n",
    "\n",
    "Next, we find out about the top 5 gold medal countries"
   ]
  },
  {
   "cell_type": "code",
   "execution_count": 40,
   "id": "71bea1613a934f02",
   "metadata": {
    "ExecuteTime": {
     "end_time": "2024-02-29T09:20:57.745371Z",
     "start_time": "2024-02-29T09:20:57.729528Z"
    },
    "id": "71bea1613a934f02",
    "outputId": "a6b23b0f-9dfa-4f73-b5cc-a146a3150ddd"
   },
   "outputs": [
    {
     "data": {
      "text/html": [
       "<div>\n",
       "<style scoped>\n",
       "    .dataframe tbody tr th:only-of-type {\n",
       "        vertical-align: middle;\n",
       "    }\n",
       "\n",
       "    .dataframe tbody tr th {\n",
       "        vertical-align: top;\n",
       "    }\n",
       "\n",
       "    .dataframe thead th {\n",
       "        text-align: right;\n",
       "    }\n",
       "</style>\n",
       "<table border=\"1\" class=\"dataframe\">\n",
       "  <thead>\n",
       "    <tr style=\"text-align: right;\">\n",
       "      <th></th>\n",
       "      <th>Name</th>\n",
       "      <th>Sex</th>\n",
       "      <th>Age</th>\n",
       "      <th>Height</th>\n",
       "      <th>Weight</th>\n",
       "      <th>Year</th>\n",
       "      <th>Season</th>\n",
       "      <th>Sport</th>\n",
       "      <th>Medal</th>\n",
       "      <th>Country</th>\n",
       "    </tr>\n",
       "  </thead>\n",
       "  <tbody>\n",
       "    <tr>\n",
       "      <th>2</th>\n",
       "      <td>Paavo Johannes Aaltonen</td>\n",
       "      <td>Male</td>\n",
       "      <td>28.0</td>\n",
       "      <td>175.0</td>\n",
       "      <td>64.0</td>\n",
       "      <td>1948</td>\n",
       "      <td>Summer</td>\n",
       "      <td>Gymnastics</td>\n",
       "      <td>Gold</td>\n",
       "      <td>Finland</td>\n",
       "    </tr>\n",
       "    <tr>\n",
       "      <th>3</th>\n",
       "      <td>Paavo Johannes Aaltonen</td>\n",
       "      <td>Male</td>\n",
       "      <td>28.0</td>\n",
       "      <td>175.0</td>\n",
       "      <td>64.0</td>\n",
       "      <td>1948</td>\n",
       "      <td>Summer</td>\n",
       "      <td>Gymnastics</td>\n",
       "      <td>Gold</td>\n",
       "      <td>Finland</td>\n",
       "    </tr>\n",
       "    <tr>\n",
       "      <th>4</th>\n",
       "      <td>Paavo Johannes Aaltonen</td>\n",
       "      <td>Male</td>\n",
       "      <td>28.0</td>\n",
       "      <td>175.0</td>\n",
       "      <td>64.0</td>\n",
       "      <td>1948</td>\n",
       "      <td>Summer</td>\n",
       "      <td>Gymnastics</td>\n",
       "      <td>Gold</td>\n",
       "      <td>Finland</td>\n",
       "    </tr>\n",
       "    <tr>\n",
       "      <th>6</th>\n",
       "      <td>Kjetil Andr Aamodt</td>\n",
       "      <td>Male</td>\n",
       "      <td>20.0</td>\n",
       "      <td>176.0</td>\n",
       "      <td>85.0</td>\n",
       "      <td>1992</td>\n",
       "      <td>Winter</td>\n",
       "      <td>Alpine Skiing</td>\n",
       "      <td>Gold</td>\n",
       "      <td>Norway</td>\n",
       "    </tr>\n",
       "    <tr>\n",
       "      <th>11</th>\n",
       "      <td>Kjetil Andr Aamodt</td>\n",
       "      <td>Male</td>\n",
       "      <td>30.0</td>\n",
       "      <td>176.0</td>\n",
       "      <td>85.0</td>\n",
       "      <td>2002</td>\n",
       "      <td>Winter</td>\n",
       "      <td>Alpine Skiing</td>\n",
       "      <td>Gold</td>\n",
       "      <td>Norway</td>\n",
       "    </tr>\n",
       "  </tbody>\n",
       "</table>\n",
       "</div>"
      ],
      "text/plain": [
       "                       Name   Sex   Age  Height  Weight  Year  Season  \\\n",
       "2   Paavo Johannes Aaltonen  Male  28.0   175.0    64.0  1948  Summer   \n",
       "3   Paavo Johannes Aaltonen  Male  28.0   175.0    64.0  1948  Summer   \n",
       "4   Paavo Johannes Aaltonen  Male  28.0   175.0    64.0  1948  Summer   \n",
       "6        Kjetil Andr Aamodt  Male  20.0   176.0    85.0  1992  Winter   \n",
       "11       Kjetil Andr Aamodt  Male  30.0   176.0    85.0  2002  Winter   \n",
       "\n",
       "            Sport Medal  Country  \n",
       "2      Gymnastics  Gold  Finland  \n",
       "3      Gymnastics  Gold  Finland  \n",
       "4      Gymnastics  Gold  Finland  \n",
       "6   Alpine Skiing  Gold   Norway  \n",
       "11  Alpine Skiing  Gold   Norway  "
      ]
     },
     "execution_count": 40,
     "metadata": {},
     "output_type": "execute_result"
    }
   ],
   "source": [
    "goldMedals = olympics_merged[(olympics_merged.Medal == 'Gold')]\n",
    "goldMedals.head()"
   ]
  },
  {
   "cell_type": "code",
   "execution_count": 41,
   "id": "e3b042019e8ebc8d",
   "metadata": {
    "ExecuteTime": {
     "end_time": "2024-02-29T09:20:58.539185Z",
     "start_time": "2024-02-29T09:20:58.532626Z"
    },
    "id": "e3b042019e8ebc8d",
    "outputId": "35f75b2c-ef41-4e07-cac0-bca4c4302bc2"
   },
   "outputs": [
    {
     "data": {
      "text/html": [
       "<div>\n",
       "<style scoped>\n",
       "    .dataframe tbody tr th:only-of-type {\n",
       "        vertical-align: middle;\n",
       "    }\n",
       "\n",
       "    .dataframe tbody tr th {\n",
       "        vertical-align: top;\n",
       "    }\n",
       "\n",
       "    .dataframe thead th {\n",
       "        text-align: right;\n",
       "    }\n",
       "</style>\n",
       "<table border=\"1\" class=\"dataframe\">\n",
       "  <thead>\n",
       "    <tr style=\"text-align: right;\">\n",
       "      <th></th>\n",
       "      <th>Country</th>\n",
       "      <th>Medal</th>\n",
       "    </tr>\n",
       "  </thead>\n",
       "  <tbody>\n",
       "    <tr>\n",
       "      <th>0</th>\n",
       "      <td>USA</td>\n",
       "      <td>2227</td>\n",
       "    </tr>\n",
       "    <tr>\n",
       "      <th>1</th>\n",
       "      <td>Russia</td>\n",
       "      <td>1465</td>\n",
       "    </tr>\n",
       "    <tr>\n",
       "      <th>2</th>\n",
       "      <td>Germany</td>\n",
       "      <td>1123</td>\n",
       "    </tr>\n",
       "    <tr>\n",
       "      <th>3</th>\n",
       "      <td>China</td>\n",
       "      <td>450</td>\n",
       "    </tr>\n",
       "    <tr>\n",
       "      <th>4</th>\n",
       "      <td>Canada</td>\n",
       "      <td>398</td>\n",
       "    </tr>\n",
       "    <tr>\n",
       "      <th>5</th>\n",
       "      <td>UK</td>\n",
       "      <td>369</td>\n",
       "    </tr>\n",
       "    <tr>\n",
       "      <th>6</th>\n",
       "      <td>Australia</td>\n",
       "      <td>355</td>\n",
       "    </tr>\n",
       "    <tr>\n",
       "      <th>7</th>\n",
       "      <td>France</td>\n",
       "      <td>350</td>\n",
       "    </tr>\n",
       "    <tr>\n",
       "      <th>8</th>\n",
       "      <td>Italy</td>\n",
       "      <td>334</td>\n",
       "    </tr>\n",
       "    <tr>\n",
       "      <th>9</th>\n",
       "      <td>Hungary</td>\n",
       "      <td>298</td>\n",
       "    </tr>\n",
       "  </tbody>\n",
       "</table>\n",
       "</div>"
      ],
      "text/plain": [
       "     Country  Medal\n",
       "0        USA   2227\n",
       "1     Russia   1465\n",
       "2    Germany   1123\n",
       "3      China    450\n",
       "4     Canada    398\n",
       "5         UK    369\n",
       "6  Australia    355\n",
       "7     France    350\n",
       "8      Italy    334\n",
       "9    Hungary    298"
      ]
     },
     "execution_count": 41,
     "metadata": {},
     "output_type": "execute_result"
    }
   ],
   "source": [
    "goldMedals.Country.value_counts().reset_index(name='Medal').head(10)"
   ]
  },
  {
   "cell_type": "markdown",
   "id": "e16fae5cfc3e766",
   "metadata": {
    "collapsed": false,
    "id": "e16fae5cfc3e766",
    "jupyter": {
     "outputs_hidden": false
    }
   },
   "source": [
    "Let's see it on diagram"
   ]
  },
  {
   "cell_type": "code",
   "execution_count": 42,
   "id": "38465e1729d58e45",
   "metadata": {
    "ExecuteTime": {
     "end_time": "2024-02-29T09:21:00.173742Z",
     "start_time": "2024-02-29T09:20:59.896164Z"
    },
    "id": "38465e1729d58e45",
    "outputId": "b3bfa425-a4cc-4cac-eab0-28919879eb52"
   },
   "outputs": [
    {
     "data": {
      "image/png": "[encoded data removed]",
      "text/plain": [
       "<Figure size 900x900 with 1 Axes>"
      ]
     },
     "metadata": {},
     "output_type": "display_data"
    }
   ],
   "source": [
    "totalGoldMedals = goldMedals.Country.value_counts().reset_index(name='Medal').head(10)\n",
    "\n",
    "g = sns.catplot(x=\"Country\", y=\"Medal\", data=totalGoldMedals,\n",
    "                height=9, kind=\"bar\", palette=\"muted\")\n",
    "g.despine(left=True)\n",
    "g.set_xlabels(\"Top 10 countries\")\n",
    "g.set_ylabels(\"Number of Medals\")\n",
    "plt.title('Medals per Country')\n",
    "plt.savefig(\"./medals_per_country.png\")"
   ]
  },
  {
   "cell_type": "markdown",
   "id": "4d72e4321e3ac903",
   "metadata": {
    "collapsed": false,
    "id": "4d72e4321e3ac903",
    "jupyter": {
     "outputs_hidden": false
    }
   },
   "source": [
    "### Conclusion\n",
    "- U.S. Dominance: With 2750 medals, the USA demonstrates a significant lead, indicating robust sports infrastructure, investment, and a large pool of athletes.\n",
    "- Russia's Strong Performance: Russia's 1599 medals reflect its historical strength in the Olympics, influenced by state-sponsored sports programs, particularly during the Soviet era.\n",
    "- Germany's Consistency: Germany's tally of 1322 medals highlights consistent Olympic performance, including the contributions of both East and West Germany before reunification.\n",
    "- UK and Italy's Contribution: The UK (717 medals) and Italy (594 medals) show substantial Olympic achievements, potentially linked to strong traditions in specific sports."
   ]
  },
  {
   "cell_type": "markdown",
   "id": "78aba091adf9ad74",
   "metadata": {
    "collapsed": false,
    "id": "78aba091adf9ad74",
    "jupyter": {
     "outputs_hidden": false
    }
   },
   "source": [
    "## 8. Which sports bring the greatest number of gold medals for France\n",
    "\n",
    "So next, we want to know what are the sports that France dominates?\n",
    "\n",
    "![France flag](https://franceintheus.org/local/cache-vignettes/L360xH238/frenchflag-467ab.jpg?1692281446)"
   ]
  },
  {
   "cell_type": "code",
   "execution_count": 43,
   "id": "606d582549281e40",
   "metadata": {
    "ExecuteTime": {
     "end_time": "2024-02-29T09:21:03.729549Z",
     "start_time": "2024-02-29T09:21:03.725398Z"
    },
    "id": "606d582549281e40"
   },
   "outputs": [],
   "source": [
    "goldMedalsFrance = goldMedals.loc[goldMedals['Country'] == 'France']"
   ]
  },
  {
   "cell_type": "code",
   "execution_count": 44,
   "id": "c953daff3bcc5bd6",
   "metadata": {
    "ExecuteTime": {
     "end_time": "2024-02-29T09:21:04.511175Z",
     "start_time": "2024-02-29T09:21:04.499475Z"
    },
    "id": "c953daff3bcc5bd6",
    "outputId": "736b5227-5d32-47b9-c28d-19be5dccba33"
   },
   "outputs": [
    {
     "data": {
      "text/html": [
       "<div>\n",
       "<style scoped>\n",
       "    .dataframe tbody tr th:only-of-type {\n",
       "        vertical-align: middle;\n",
       "    }\n",
       "\n",
       "    .dataframe tbody tr th {\n",
       "        vertical-align: top;\n",
       "    }\n",
       "\n",
       "    .dataframe thead th {\n",
       "        text-align: right;\n",
       "    }\n",
       "</style>\n",
       "<table border=\"1\" class=\"dataframe\">\n",
       "  <thead>\n",
       "    <tr style=\"text-align: right;\">\n",
       "      <th></th>\n",
       "      <th>Sport</th>\n",
       "      <th>Medal</th>\n",
       "    </tr>\n",
       "  </thead>\n",
       "  <tbody>\n",
       "    <tr>\n",
       "      <th>0</th>\n",
       "      <td>Fencing</td>\n",
       "      <td>72</td>\n",
       "    </tr>\n",
       "    <tr>\n",
       "      <th>1</th>\n",
       "      <td>Handball</td>\n",
       "      <td>62</td>\n",
       "    </tr>\n",
       "    <tr>\n",
       "      <th>2</th>\n",
       "      <td>Cycling</td>\n",
       "      <td>33</td>\n",
       "    </tr>\n",
       "    <tr>\n",
       "      <th>3</th>\n",
       "      <td>Judo</td>\n",
       "      <td>26</td>\n",
       "    </tr>\n",
       "    <tr>\n",
       "      <th>4</th>\n",
       "      <td>Equestrianism</td>\n",
       "      <td>21</td>\n",
       "    </tr>\n",
       "    <tr>\n",
       "      <th>5</th>\n",
       "      <td>Football</td>\n",
       "      <td>16</td>\n",
       "    </tr>\n",
       "    <tr>\n",
       "      <th>6</th>\n",
       "      <td>Rowing</td>\n",
       "      <td>14</td>\n",
       "    </tr>\n",
       "    <tr>\n",
       "      <th>7</th>\n",
       "      <td>Athletics</td>\n",
       "      <td>13</td>\n",
       "    </tr>\n",
       "    <tr>\n",
       "      <th>8</th>\n",
       "      <td>Alpine Skiing</td>\n",
       "      <td>12</td>\n",
       "    </tr>\n",
       "    <tr>\n",
       "      <th>9</th>\n",
       "      <td>Volleyball</td>\n",
       "      <td>12</td>\n",
       "    </tr>\n",
       "    <tr>\n",
       "      <th>10</th>\n",
       "      <td>Swimming</td>\n",
       "      <td>12</td>\n",
       "    </tr>\n",
       "    <tr>\n",
       "      <th>11</th>\n",
       "      <td>Sailing</td>\n",
       "      <td>11</td>\n",
       "    </tr>\n",
       "    <tr>\n",
       "      <th>12</th>\n",
       "      <td>Canoeing</td>\n",
       "      <td>9</td>\n",
       "    </tr>\n",
       "    <tr>\n",
       "      <th>13</th>\n",
       "      <td>Biathlon</td>\n",
       "      <td>8</td>\n",
       "    </tr>\n",
       "    <tr>\n",
       "      <th>14</th>\n",
       "      <td>Weightlifting</td>\n",
       "      <td>6</td>\n",
       "    </tr>\n",
       "    <tr>\n",
       "      <th>15</th>\n",
       "      <td>Boxing</td>\n",
       "      <td>4</td>\n",
       "    </tr>\n",
       "    <tr>\n",
       "      <th>16</th>\n",
       "      <td>Shooting</td>\n",
       "      <td>4</td>\n",
       "    </tr>\n",
       "    <tr>\n",
       "      <th>17</th>\n",
       "      <td>Snowboarding</td>\n",
       "      <td>3</td>\n",
       "    </tr>\n",
       "    <tr>\n",
       "      <th>18</th>\n",
       "      <td>Figure Skating</td>\n",
       "      <td>2</td>\n",
       "    </tr>\n",
       "    <tr>\n",
       "      <th>19</th>\n",
       "      <td>Freestyle Skiing</td>\n",
       "      <td>2</td>\n",
       "    </tr>\n",
       "  </tbody>\n",
       "</table>\n",
       "</div>"
      ],
      "text/plain": [
       "               Sport  Medal\n",
       "0            Fencing     72\n",
       "1           Handball     62\n",
       "2            Cycling     33\n",
       "3               Judo     26\n",
       "4      Equestrianism     21\n",
       "5           Football     16\n",
       "6             Rowing     14\n",
       "7          Athletics     13\n",
       "8      Alpine Skiing     12\n",
       "9         Volleyball     12\n",
       "10          Swimming     12\n",
       "11           Sailing     11\n",
       "12          Canoeing      9\n",
       "13          Biathlon      8\n",
       "14     Weightlifting      6\n",
       "15            Boxing      4\n",
       "16          Shooting      4\n",
       "17      Snowboarding      3\n",
       "18    Figure Skating      2\n",
       "19  Freestyle Skiing      2"
      ]
     },
     "execution_count": 44,
     "metadata": {},
     "output_type": "execute_result"
    }
   ],
   "source": [
    "goldMedalsFrance.Sport.value_counts().reset_index(name='Medal').head(20)"
   ]
  },
  {
   "cell_type": "code",
   "execution_count": 45,
   "id": "e7aeb87dcfae4079",
   "metadata": {
    "ExecuteTime": {
     "end_time": "2024-02-29T09:21:05.890155Z",
     "start_time": "2024-02-29T09:21:05.595495Z"
    },
    "id": "e7aeb87dcfae4079",
    "outputId": "433171ce-e590-4b38-dd4e-ac835b943b61"
   },
   "outputs": [
    {
     "data": {
      "image/png": "[encoded data removed]",
      "text/plain": [
       "<Figure size 1000x1000 with 1 Axes>"
      ]
     },
     "metadata": {},
     "output_type": "display_data"
    }
   ],
   "source": [
    "goldMedalsBySportFrance = goldMedalsFrance.Sport.value_counts().reset_index(name='Medal').head(10)\n",
    "\n",
    "g = sns.catplot(x=\"Sport\", y=\"Medal\", data=goldMedalsBySportFrance,\n",
    "                height=10, kind=\"bar\", palette=\"muted\")\n",
    "g.despine(left=True)\n",
    "g.set_xlabels(\"Top 10 sports that France has gold medals\")\n",
    "g.set_ylabels(\"Number of Medals\")\n",
    "plt.title('Medals per Sport')\n",
    "\n",
    "plt.savefig(\"./France_Gold_Medals_by_Sport.png\")"
   ]
  },
  {
   "cell_type": "markdown",
   "id": "9b68bca0df81d6b9",
   "metadata": {
    "collapsed": false,
    "id": "9b68bca0df81d6b9",
    "jupyter": {
     "outputs_hidden": false
    }
   },
   "source": [
    "### Conclusion\n",
    "\n",
    "- Fencing Dominance (134 Gold Medals):\n",
    "    - France's prowess in fencing is clear, with a significantly higher number of gold medals in this sport than any other.\n",
    "    - This dominance could be attributed to a strong historical tradition in fencing, excellent training programs, and cultural affinity for the sport.\n",
    "- Cycling Success (69 Gold Medals):\n",
    "    - Cycling is another strong area for France, with a considerable number of gold medals.\n",
    "    - France has a rich history in cycling, exemplified by events like the Tour de France, which likely contributes to their Olympic success.\n",
    "- Handball Achievement (62 Gold Medals):\n",
    "    - France's impressive performance in handball, with a high medal count, suggests a strong national program and interest in this sport.\n",
    "    - This could reflect effective player development and coaching strategies.\n",
    "- Equestrianism (32 Gold Medals):\n",
    "    - A notable number of gold medals in equestrianism indicates France's strength in horse riding and related sports.\n",
    "    - This could be due to a combination of factors like breeding, training facilities, and investment in equestrian sports.\n",
    "- Sailing Excellence (30 Gold Medals):\n",
    "    - France's geographical location and access to varied water bodies may contribute to its success in sailing, where they have won a significant number of gold medals.\n",
    "- Judo (26 Gold Medals):\n",
    "    - The medal count in Judo suggests that France has developed a strong competitive edge in this martial art.\n",
    "    - This might be due to focused training programs and the popularity of judo in France.\n",
    "- Rowing (22 Gold Medals):\n",
    "    - A solid performance in rowing indicates good infrastructure and training for water sports in France.\n",
    "    - This sport requires significant team coordination, suggesting strong team dynamics in French rowing teams.\n",
    "- Football (16 Gold Medals):\n",
    "    - While not as dominant as in some other sports, France's gold medal count in football is still notable, reflecting the country's passion and investment in the sport.\n",
    "- Rugby and Alpine Skiing (15 Gold Medals each):\n",
    "    - A tie in gold medal counts for rugby and alpine skiing shows France's versatility in both team sports and winter sports.\n",
    "    - Rugby's popularity in France and the country's mountainous regions favorable for skiing contribute to these achievements."
   ]
  },
  {
   "cell_type": "markdown",
   "id": "52e8bab593f4a0e7",
   "metadata": {
    "collapsed": false,
    "id": "52e8bab593f4a0e7",
    "jupyter": {
     "outputs_hidden": false
    }
   },
   "source": [
    "## 9. What is the average height and weight of an Olympic medal winner?"
   ]
  },
  {
   "cell_type": "code",
   "execution_count": 46,
   "id": "3332916209affc7d",
   "metadata": {
    "ExecuteTime": {
     "end_time": "2024-02-29T09:23:20.769804Z",
     "start_time": "2024-02-29T09:23:20.768972Z"
    },
    "id": "3332916209affc7d",
    "outputId": "79c1025b-03f9-4f0d-83a5-bc5f6875ab7b"
   },
   "outputs": [
    {
     "data": {
      "text/html": [
       "<div>\n",
       "<style scoped>\n",
       "    .dataframe tbody tr th:only-of-type {\n",
       "        vertical-align: middle;\n",
       "    }\n",
       "\n",
       "    .dataframe tbody tr th {\n",
       "        vertical-align: top;\n",
       "    }\n",
       "\n",
       "    .dataframe thead th {\n",
       "        text-align: right;\n",
       "    }\n",
       "</style>\n",
       "<table border=\"1\" class=\"dataframe\">\n",
       "  <thead>\n",
       "    <tr style=\"text-align: right;\">\n",
       "      <th></th>\n",
       "      <th>Name</th>\n",
       "      <th>Sex</th>\n",
       "      <th>Age</th>\n",
       "      <th>Height</th>\n",
       "      <th>Weight</th>\n",
       "      <th>Year</th>\n",
       "      <th>Season</th>\n",
       "      <th>Sport</th>\n",
       "      <th>Medal</th>\n",
       "      <th>Country</th>\n",
       "    </tr>\n",
       "  </thead>\n",
       "  <tbody>\n",
       "    <tr>\n",
       "      <th>2</th>\n",
       "      <td>Paavo Johannes Aaltonen</td>\n",
       "      <td>Male</td>\n",
       "      <td>28.0</td>\n",
       "      <td>175.0</td>\n",
       "      <td>64.0</td>\n",
       "      <td>1948</td>\n",
       "      <td>Summer</td>\n",
       "      <td>Gymnastics</td>\n",
       "      <td>Gold</td>\n",
       "      <td>Finland</td>\n",
       "    </tr>\n",
       "    <tr>\n",
       "      <th>3</th>\n",
       "      <td>Paavo Johannes Aaltonen</td>\n",
       "      <td>Male</td>\n",
       "      <td>28.0</td>\n",
       "      <td>175.0</td>\n",
       "      <td>64.0</td>\n",
       "      <td>1948</td>\n",
       "      <td>Summer</td>\n",
       "      <td>Gymnastics</td>\n",
       "      <td>Gold</td>\n",
       "      <td>Finland</td>\n",
       "    </tr>\n",
       "    <tr>\n",
       "      <th>4</th>\n",
       "      <td>Paavo Johannes Aaltonen</td>\n",
       "      <td>Male</td>\n",
       "      <td>28.0</td>\n",
       "      <td>175.0</td>\n",
       "      <td>64.0</td>\n",
       "      <td>1948</td>\n",
       "      <td>Summer</td>\n",
       "      <td>Gymnastics</td>\n",
       "      <td>Gold</td>\n",
       "      <td>Finland</td>\n",
       "    </tr>\n",
       "    <tr>\n",
       "      <th>6</th>\n",
       "      <td>Kjetil Andr Aamodt</td>\n",
       "      <td>Male</td>\n",
       "      <td>20.0</td>\n",
       "      <td>176.0</td>\n",
       "      <td>85.0</td>\n",
       "      <td>1992</td>\n",
       "      <td>Winter</td>\n",
       "      <td>Alpine Skiing</td>\n",
       "      <td>Gold</td>\n",
       "      <td>Norway</td>\n",
       "    </tr>\n",
       "    <tr>\n",
       "      <th>11</th>\n",
       "      <td>Kjetil Andr Aamodt</td>\n",
       "      <td>Male</td>\n",
       "      <td>30.0</td>\n",
       "      <td>176.0</td>\n",
       "      <td>85.0</td>\n",
       "      <td>2002</td>\n",
       "      <td>Winter</td>\n",
       "      <td>Alpine Skiing</td>\n",
       "      <td>Gold</td>\n",
       "      <td>Norway</td>\n",
       "    </tr>\n",
       "  </tbody>\n",
       "</table>\n",
       "</div>"
      ],
      "text/plain": [
       "                       Name   Sex   Age  Height  Weight  Year  Season  \\\n",
       "2   Paavo Johannes Aaltonen  Male  28.0   175.0    64.0  1948  Summer   \n",
       "3   Paavo Johannes Aaltonen  Male  28.0   175.0    64.0  1948  Summer   \n",
       "4   Paavo Johannes Aaltonen  Male  28.0   175.0    64.0  1948  Summer   \n",
       "6        Kjetil Andr Aamodt  Male  20.0   176.0    85.0  1992  Winter   \n",
       "11       Kjetil Andr Aamodt  Male  30.0   176.0    85.0  2002  Winter   \n",
       "\n",
       "            Sport Medal  Country  \n",
       "2      Gymnastics  Gold  Finland  \n",
       "3      Gymnastics  Gold  Finland  \n",
       "4      Gymnastics  Gold  Finland  \n",
       "6   Alpine Skiing  Gold   Norway  \n",
       "11  Alpine Skiing  Gold   Norway  "
      ]
     },
     "execution_count": 46,
     "metadata": {},
     "output_type": "execute_result"
    }
   ],
   "source": [
    "goldMedals.head()"
   ]
  },
  {
   "cell_type": "code",
   "execution_count": 47,
   "id": "fe388c2a8e3b107f",
   "metadata": {
    "ExecuteTime": {
     "end_time": "2024-02-29T09:35:04.948506Z",
     "start_time": "2024-02-29T09:35:04.892085Z"
    },
    "id": "fe388c2a8e3b107f",
    "outputId": "100137a8-1efd-45c2-bb79-bb6ddfc53e9e"
   },
   "outputs": [
    {
     "name": "stdout",
     "output_type": "stream",
     "text": [
      "<class 'pandas.core.frame.DataFrame'>\n",
      "Index: 10952 entries, 2 to 32567\n",
      "Data columns (total 10 columns):\n",
      " #   Column   Non-Null Count  Dtype  \n",
      "---  ------   --------------  -----  \n",
      " 0   Name     10952 non-null  object \n",
      " 1   Sex      10952 non-null  object \n",
      " 2   Age      10167 non-null  float64\n",
      " 3   Height   10167 non-null  float64\n",
      " 4   Weight   10167 non-null  float64\n",
      " 5   Year     10952 non-null  int64  \n",
      " 6   Season   10952 non-null  object \n",
      " 7   Sport    10952 non-null  object \n",
      " 8   Medal    10952 non-null  object \n",
      " 9   Country  10952 non-null  object \n",
      "dtypes: float64(3), int64(1), object(6)\n",
      "memory usage: 941.2+ KB\n"
     ]
    }
   ],
   "source": [
    "goldMedals.info()"
   ]
  },
  {
   "cell_type": "code",
   "execution_count": 48,
   "id": "54302937aa0bb0c6",
   "metadata": {
    "ExecuteTime": {
     "end_time": "2024-02-29T09:35:17.098334Z",
     "start_time": "2024-02-29T09:35:17.066875Z"
    },
    "id": "54302937aa0bb0c6"
   },
   "outputs": [],
   "source": [
    "notNullMedals = goldMedals[(goldMedals['Height'].notnull()) & (goldMedals['Weight'].notnull())]"
   ]
  },
  {
   "cell_type": "code",
   "execution_count": 49,
   "id": "2997b4f4209b8aa9",
   "metadata": {
    "ExecuteTime": {
     "end_time": "2024-02-29T09:35:29.036653Z",
     "start_time": "2024-02-29T09:35:28.979206Z"
    },
    "id": "2997b4f4209b8aa9",
    "outputId": "58d12262-900e-43af-94e1-851aa92603d4"
   },
   "outputs": [
    {
     "data": {
      "text/html": [
       "<div>\n",
       "<style scoped>\n",
       "    .dataframe tbody tr th:only-of-type {\n",
       "        vertical-align: middle;\n",
       "    }\n",
       "\n",
       "    .dataframe tbody tr th {\n",
       "        vertical-align: top;\n",
       "    }\n",
       "\n",
       "    .dataframe thead th {\n",
       "        text-align: right;\n",
       "    }\n",
       "</style>\n",
       "<table border=\"1\" class=\"dataframe\">\n",
       "  <thead>\n",
       "    <tr style=\"text-align: right;\">\n",
       "      <th></th>\n",
       "      <th>Name</th>\n",
       "      <th>Sex</th>\n",
       "      <th>Age</th>\n",
       "      <th>Height</th>\n",
       "      <th>Weight</th>\n",
       "      <th>Year</th>\n",
       "      <th>Season</th>\n",
       "      <th>Sport</th>\n",
       "      <th>Medal</th>\n",
       "      <th>Country</th>\n",
       "    </tr>\n",
       "  </thead>\n",
       "  <tbody>\n",
       "    <tr>\n",
       "      <th>2</th>\n",
       "      <td>Paavo Johannes Aaltonen</td>\n",
       "      <td>Male</td>\n",
       "      <td>28.0</td>\n",
       "      <td>175.0</td>\n",
       "      <td>64.0</td>\n",
       "      <td>1948</td>\n",
       "      <td>Summer</td>\n",
       "      <td>Gymnastics</td>\n",
       "      <td>Gold</td>\n",
       "      <td>Finland</td>\n",
       "    </tr>\n",
       "    <tr>\n",
       "      <th>3</th>\n",
       "      <td>Paavo Johannes Aaltonen</td>\n",
       "      <td>Male</td>\n",
       "      <td>28.0</td>\n",
       "      <td>175.0</td>\n",
       "      <td>64.0</td>\n",
       "      <td>1948</td>\n",
       "      <td>Summer</td>\n",
       "      <td>Gymnastics</td>\n",
       "      <td>Gold</td>\n",
       "      <td>Finland</td>\n",
       "    </tr>\n",
       "    <tr>\n",
       "      <th>4</th>\n",
       "      <td>Paavo Johannes Aaltonen</td>\n",
       "      <td>Male</td>\n",
       "      <td>28.0</td>\n",
       "      <td>175.0</td>\n",
       "      <td>64.0</td>\n",
       "      <td>1948</td>\n",
       "      <td>Summer</td>\n",
       "      <td>Gymnastics</td>\n",
       "      <td>Gold</td>\n",
       "      <td>Finland</td>\n",
       "    </tr>\n",
       "    <tr>\n",
       "      <th>6</th>\n",
       "      <td>Kjetil Andr Aamodt</td>\n",
       "      <td>Male</td>\n",
       "      <td>20.0</td>\n",
       "      <td>176.0</td>\n",
       "      <td>85.0</td>\n",
       "      <td>1992</td>\n",
       "      <td>Winter</td>\n",
       "      <td>Alpine Skiing</td>\n",
       "      <td>Gold</td>\n",
       "      <td>Norway</td>\n",
       "    </tr>\n",
       "    <tr>\n",
       "      <th>11</th>\n",
       "      <td>Kjetil Andr Aamodt</td>\n",
       "      <td>Male</td>\n",
       "      <td>30.0</td>\n",
       "      <td>176.0</td>\n",
       "      <td>85.0</td>\n",
       "      <td>2002</td>\n",
       "      <td>Winter</td>\n",
       "      <td>Alpine Skiing</td>\n",
       "      <td>Gold</td>\n",
       "      <td>Norway</td>\n",
       "    </tr>\n",
       "  </tbody>\n",
       "</table>\n",
       "</div>"
      ],
      "text/plain": [
       "                       Name   Sex   Age  Height  Weight  Year  Season  \\\n",
       "2   Paavo Johannes Aaltonen  Male  28.0   175.0    64.0  1948  Summer   \n",
       "3   Paavo Johannes Aaltonen  Male  28.0   175.0    64.0  1948  Summer   \n",
       "4   Paavo Johannes Aaltonen  Male  28.0   175.0    64.0  1948  Summer   \n",
       "6        Kjetil Andr Aamodt  Male  20.0   176.0    85.0  1992  Winter   \n",
       "11       Kjetil Andr Aamodt  Male  30.0   176.0    85.0  2002  Winter   \n",
       "\n",
       "            Sport Medal  Country  \n",
       "2      Gymnastics  Gold  Finland  \n",
       "3      Gymnastics  Gold  Finland  \n",
       "4      Gymnastics  Gold  Finland  \n",
       "6   Alpine Skiing  Gold   Norway  \n",
       "11  Alpine Skiing  Gold   Norway  "
      ]
     },
     "execution_count": 49,
     "metadata": {},
     "output_type": "execute_result"
    }
   ],
   "source": [
    "notNullMedals.head()"
   ]
  },
  {
   "cell_type": "code",
   "execution_count": 50,
   "id": "c18a194ca68a31cb",
   "metadata": {
    "ExecuteTime": {
     "end_time": "2024-02-29T09:35:36.889097Z",
     "start_time": "2024-02-29T09:35:36.853499Z"
    },
    "id": "c18a194ca68a31cb",
    "outputId": "b638806b-f983-49b9-c5c4-8a17658aae51"
   },
   "outputs": [
    {
     "name": "stdout",
     "output_type": "stream",
     "text": [
      "<class 'pandas.core.frame.DataFrame'>\n",
      "Index: 10167 entries, 2 to 30175\n",
      "Data columns (total 10 columns):\n",
      " #   Column   Non-Null Count  Dtype  \n",
      "---  ------   --------------  -----  \n",
      " 0   Name     10167 non-null  object \n",
      " 1   Sex      10167 non-null  object \n",
      " 2   Age      10167 non-null  float64\n",
      " 3   Height   10167 non-null  float64\n",
      " 4   Weight   10167 non-null  float64\n",
      " 5   Year     10167 non-null  int64  \n",
      " 6   Season   10167 non-null  object \n",
      " 7   Sport    10167 non-null  object \n",
      " 8   Medal    10167 non-null  object \n",
      " 9   Country  10167 non-null  object \n",
      "dtypes: float64(3), int64(1), object(6)\n",
      "memory usage: 873.7+ KB\n"
     ]
    }
   ],
   "source": [
    "notNullMedals.info()"
   ]
  },
  {
   "cell_type": "code",
   "execution_count": 51,
   "id": "a346df4d824b2e17",
   "metadata": {
    "ExecuteTime": {
     "end_time": "2024-02-29T09:42:05.036710Z",
     "start_time": "2024-02-29T09:42:04.737975Z"
    },
    "id": "a346df4d824b2e17",
    "outputId": "d3ad0b15-6726-4bea-fb3e-f787076e2b83"
   },
   "outputs": [
    {
     "data": {
      "image/png": "[encoded data removed]",
      "text/plain": [
       "<Figure size 1200x1000 with 1 Axes>"
      ]
     },
     "metadata": {},
     "output_type": "display_data"
    }
   ],
   "source": [
    "plt.figure(figsize=(12, 10))\n",
    "ax = sns.scatterplot(x=\"Height\", y=\"Weight\", data=notNullMedals)\n",
    "plt.title('Height vs Weight of Olympic Medalists')\n",
    "plt.savefig(\"./height_weight_of_medalists.png\")"
   ]
  },
  {
   "cell_type": "markdown",
   "id": "bea50d7920586dcf",
   "metadata": {
    "collapsed": false,
    "id": "bea50d7920586dcf",
    "jupyter": {
     "outputs_hidden": false
    }
   },
   "source": [
    "Most of the data demonstrates a direct correlation between height and weight (as weight increases, so does height).\n",
    "\n",
    "However, there are some exceptions that pique my curiosity!\n",
    "\n",
    "For instance, I'm interested in finding out who the athlete is that weighs over 160 kilograms and which sport they play."
   ]
  },
  {
   "cell_type": "code",
   "execution_count": 52,
   "id": "fcd947910ab4bd6",
   "metadata": {
    "ExecuteTime": {
     "end_time": "2024-02-29T09:47:29.454205Z",
     "start_time": "2024-02-29T09:47:29.399475Z"
    },
    "id": "fcd947910ab4bd6",
    "outputId": "1be7ae55-68ff-4e7c-c6a5-c5400c7ee938"
   },
   "outputs": [
    {
     "data": {
      "text/html": [
       "<div>\n",
       "<style scoped>\n",
       "    .dataframe tbody tr th:only-of-type {\n",
       "        vertical-align: middle;\n",
       "    }\n",
       "\n",
       "    .dataframe tbody tr th {\n",
       "        vertical-align: top;\n",
       "    }\n",
       "\n",
       "    .dataframe thead th {\n",
       "        text-align: right;\n",
       "    }\n",
       "</style>\n",
       "<table border=\"1\" class=\"dataframe\">\n",
       "  <thead>\n",
       "    <tr style=\"text-align: right;\">\n",
       "      <th></th>\n",
       "      <th>Name</th>\n",
       "      <th>Sex</th>\n",
       "      <th>Age</th>\n",
       "      <th>Height</th>\n",
       "      <th>Weight</th>\n",
       "      <th>Year</th>\n",
       "      <th>Season</th>\n",
       "      <th>Sport</th>\n",
       "      <th>Medal</th>\n",
       "      <th>Country</th>\n",
       "    </tr>\n",
       "  </thead>\n",
       "  <tbody>\n",
       "    <tr>\n",
       "      <th>3884</th>\n",
       "      <td>Andrey Ivanovich Chemerkin</td>\n",
       "      <td>Male</td>\n",
       "      <td>24.0</td>\n",
       "      <td>183.0</td>\n",
       "      <td>170.0</td>\n",
       "      <td>1996</td>\n",
       "      <td>Summer</td>\n",
       "      <td>Weightlifting</td>\n",
       "      <td>Gold</td>\n",
       "      <td>Russia</td>\n",
       "    </tr>\n",
       "    <tr>\n",
       "      <th>29824</th>\n",
       "      <td>Leonid Ivanovych Zhabotynskiy</td>\n",
       "      <td>Male</td>\n",
       "      <td>26.0</td>\n",
       "      <td>189.0</td>\n",
       "      <td>163.0</td>\n",
       "      <td>1964</td>\n",
       "      <td>Summer</td>\n",
       "      <td>Weightlifting</td>\n",
       "      <td>Gold</td>\n",
       "      <td>Russia</td>\n",
       "    </tr>\n",
       "    <tr>\n",
       "      <th>29825</th>\n",
       "      <td>Leonid Ivanovych Zhabotynskiy</td>\n",
       "      <td>Male</td>\n",
       "      <td>30.0</td>\n",
       "      <td>189.0</td>\n",
       "      <td>163.0</td>\n",
       "      <td>1968</td>\n",
       "      <td>Summer</td>\n",
       "      <td>Weightlifting</td>\n",
       "      <td>Gold</td>\n",
       "      <td>Russia</td>\n",
       "    </tr>\n",
       "  </tbody>\n",
       "</table>\n",
       "</div>"
      ],
      "text/plain": [
       "                                Name   Sex   Age  Height  Weight  Year  \\\n",
       "3884      Andrey Ivanovich Chemerkin  Male  24.0   183.0   170.0  1996   \n",
       "29824  Leonid Ivanovych Zhabotynskiy  Male  26.0   189.0   163.0  1964   \n",
       "29825  Leonid Ivanovych Zhabotynskiy  Male  30.0   189.0   163.0  1968   \n",
       "\n",
       "       Season          Sport Medal Country  \n",
       "3884   Summer  Weightlifting  Gold  Russia  \n",
       "29824  Summer  Weightlifting  Gold  Russia  \n",
       "29825  Summer  Weightlifting  Gold  Russia  "
      ]
     },
     "execution_count": 52,
     "metadata": {},
     "output_type": "execute_result"
    }
   ],
   "source": [
    "notNullMedals.loc[notNullMedals['Weight'] > 160]"
   ]
  },
  {
   "cell_type": "markdown",
   "id": "5506da281ebeb04a",
   "metadata": {
    "collapsed": false,
    "id": "5506da281ebeb04a",
    "jupyter": {
     "outputs_hidden": false
    }
   },
   "source": [
    "Voila! That's Weight-lifting\n",
    "\n",
    "![><](https://upload.wikimedia.org/wikipedia/commons/thumb/5/5f/Lasha_Talakhadze_Rio_2016.jpg/1200px-Lasha_Talakhadze_Rio_2016.jpg)\n",
    "\n",
    "So. How about medalists taller than 210cm?"
   ]
  },
  {
   "cell_type": "code",
   "execution_count": 53,
   "id": "8f28fa30b74411c6",
   "metadata": {
    "ExecuteTime": {
     "end_time": "2024-02-29T09:49:46.977051Z",
     "start_time": "2024-02-29T09:49:46.943564Z"
    },
    "id": "8f28fa30b74411c6",
    "outputId": "8fec09e4-7f1c-499c-b8c7-31612bb177d9"
   },
   "outputs": [
    {
     "data": {
      "text/html": [
       "<div>\n",
       "<style scoped>\n",
       "    .dataframe tbody tr th:only-of-type {\n",
       "        vertical-align: middle;\n",
       "    }\n",
       "\n",
       "    .dataframe tbody tr th {\n",
       "        vertical-align: top;\n",
       "    }\n",
       "\n",
       "    .dataframe thead th {\n",
       "        text-align: right;\n",
       "    }\n",
       "</style>\n",
       "<table border=\"1\" class=\"dataframe\">\n",
       "  <thead>\n",
       "    <tr style=\"text-align: right;\">\n",
       "      <th></th>\n",
       "      <th>Name</th>\n",
       "      <th>Sex</th>\n",
       "      <th>Age</th>\n",
       "      <th>Height</th>\n",
       "      <th>Weight</th>\n",
       "      <th>Year</th>\n",
       "      <th>Season</th>\n",
       "      <th>Sport</th>\n",
       "      <th>Medal</th>\n",
       "      <th>Country</th>\n",
       "    </tr>\n",
       "  </thead>\n",
       "  <tbody>\n",
       "    <tr>\n",
       "      <th>1843</th>\n",
       "      <td>Walter Jones \"Walt\" Bellamy, Jr.</td>\n",
       "      <td>Male</td>\n",
       "      <td>23.0</td>\n",
       "      <td>211.0</td>\n",
       "      <td>98.0</td>\n",
       "      <td>1960</td>\n",
       "      <td>Summer</td>\n",
       "      <td>Basketball</td>\n",
       "      <td>Gold</td>\n",
       "      <td>USA</td>\n",
       "    </tr>\n",
       "    <tr>\n",
       "      <th>2178</th>\n",
       "      <td>Oleksandr Mykhailovych Bielostienniy</td>\n",
       "      <td>Male</td>\n",
       "      <td>29.0</td>\n",
       "      <td>214.0</td>\n",
       "      <td>117.0</td>\n",
       "      <td>1988</td>\n",
       "      <td>Summer</td>\n",
       "      <td>Basketball</td>\n",
       "      <td>Gold</td>\n",
       "      <td>Russia</td>\n",
       "    </tr>\n",
       "    <tr>\n",
       "      <th>3810</th>\n",
       "      <td>Tyson Cleotis Chandler</td>\n",
       "      <td>Male</td>\n",
       "      <td>29.0</td>\n",
       "      <td>216.0</td>\n",
       "      <td>107.0</td>\n",
       "      <td>2012</td>\n",
       "      <td>Summer</td>\n",
       "      <td>Basketball</td>\n",
       "      <td>Gold</td>\n",
       "      <td>USA</td>\n",
       "    </tr>\n",
       "    <tr>\n",
       "      <th>4536</th>\n",
       "      <td>Melvin Grant \"Mel\" Counts</td>\n",
       "      <td>Male</td>\n",
       "      <td>22.0</td>\n",
       "      <td>213.0</td>\n",
       "      <td>102.0</td>\n",
       "      <td>1964</td>\n",
       "      <td>Summer</td>\n",
       "      <td>Basketball</td>\n",
       "      <td>Gold</td>\n",
       "      <td>USA</td>\n",
       "    </tr>\n",
       "    <tr>\n",
       "      <th>6638</th>\n",
       "      <td>Patrick Aloysius Ewing</td>\n",
       "      <td>Male</td>\n",
       "      <td>21.0</td>\n",
       "      <td>213.0</td>\n",
       "      <td>109.0</td>\n",
       "      <td>1984</td>\n",
       "      <td>Summer</td>\n",
       "      <td>Basketball</td>\n",
       "      <td>Gold</td>\n",
       "      <td>USA</td>\n",
       "    </tr>\n",
       "    <tr>\n",
       "      <th>6639</th>\n",
       "      <td>Patrick Aloysius Ewing</td>\n",
       "      <td>Male</td>\n",
       "      <td>29.0</td>\n",
       "      <td>213.0</td>\n",
       "      <td>109.0</td>\n",
       "      <td>1992</td>\n",
       "      <td>Summer</td>\n",
       "      <td>Basketball</td>\n",
       "      <td>Gold</td>\n",
       "      <td>USA</td>\n",
       "    </tr>\n",
       "    <tr>\n",
       "      <th>7422</th>\n",
       "      <td>Marcus Ross \"Marc\" Freiberger</td>\n",
       "      <td>Male</td>\n",
       "      <td>23.0</td>\n",
       "      <td>211.0</td>\n",
       "      <td>98.0</td>\n",
       "      <td>1952</td>\n",
       "      <td>Summer</td>\n",
       "      <td>Basketball</td>\n",
       "      <td>Gold</td>\n",
       "      <td>USA</td>\n",
       "    </tr>\n",
       "    <tr>\n",
       "      <th>10111</th>\n",
       "      <td>Valeriy Hryhorovych Hoborov</td>\n",
       "      <td>Male</td>\n",
       "      <td>23.0</td>\n",
       "      <td>211.0</td>\n",
       "      <td>115.0</td>\n",
       "      <td>1988</td>\n",
       "      <td>Summer</td>\n",
       "      <td>Basketball</td>\n",
       "      <td>Gold</td>\n",
       "      <td>Russia</td>\n",
       "    </tr>\n",
       "    <tr>\n",
       "      <th>10433</th>\n",
       "      <td>Dwight David Howard</td>\n",
       "      <td>Male</td>\n",
       "      <td>22.0</td>\n",
       "      <td>211.0</td>\n",
       "      <td>120.0</td>\n",
       "      <td>2008</td>\n",
       "      <td>Summer</td>\n",
       "      <td>Basketball</td>\n",
       "      <td>Gold</td>\n",
       "      <td>USA</td>\n",
       "    </tr>\n",
       "    <tr>\n",
       "      <th>10801</th>\n",
       "      <td>Darrall Tucker Imhoff</td>\n",
       "      <td>Male</td>\n",
       "      <td>21.0</td>\n",
       "      <td>211.0</td>\n",
       "      <td>98.0</td>\n",
       "      <td>1960</td>\n",
       "      <td>Summer</td>\n",
       "      <td>Basketball</td>\n",
       "      <td>Gold</td>\n",
       "      <td>USA</td>\n",
       "    </tr>\n",
       "    <tr>\n",
       "      <th>11680</th>\n",
       "      <td>Hyland DeAndre Jordan, Jr.</td>\n",
       "      <td>Male</td>\n",
       "      <td>28.0</td>\n",
       "      <td>211.0</td>\n",
       "      <td>120.0</td>\n",
       "      <td>2016</td>\n",
       "      <td>Summer</td>\n",
       "      <td>Basketball</td>\n",
       "      <td>Gold</td>\n",
       "      <td>USA</td>\n",
       "    </tr>\n",
       "    <tr>\n",
       "      <th>12917</th>\n",
       "      <td>Joseph William \"Joe\" Kleine</td>\n",
       "      <td>Male</td>\n",
       "      <td>22.0</td>\n",
       "      <td>211.0</td>\n",
       "      <td>122.0</td>\n",
       "      <td>1984</td>\n",
       "      <td>Summer</td>\n",
       "      <td>Basketball</td>\n",
       "      <td>Gold</td>\n",
       "      <td>USA</td>\n",
       "    </tr>\n",
       "    <tr>\n",
       "      <th>13253</th>\n",
       "      <td>Jon Francis Koncak</td>\n",
       "      <td>Male</td>\n",
       "      <td>21.0</td>\n",
       "      <td>213.0</td>\n",
       "      <td>113.0</td>\n",
       "      <td>1984</td>\n",
       "      <td>Summer</td>\n",
       "      <td>Basketball</td>\n",
       "      <td>Gold</td>\n",
       "      <td>USA</td>\n",
       "    </tr>\n",
       "    <tr>\n",
       "      <th>13555</th>\n",
       "      <td>Serhiy Ivanovych Kovalenko</td>\n",
       "      <td>Male</td>\n",
       "      <td>25.0</td>\n",
       "      <td>216.0</td>\n",
       "      <td>111.0</td>\n",
       "      <td>1972</td>\n",
       "      <td>Summer</td>\n",
       "      <td>Basketball</td>\n",
       "      <td>Gold</td>\n",
       "      <td>Russia</td>\n",
       "    </tr>\n",
       "    <tr>\n",
       "      <th>14027</th>\n",
       "      <td>Robert Albert \"Bob\" Kurland</td>\n",
       "      <td>Male</td>\n",
       "      <td>23.0</td>\n",
       "      <td>213.0</td>\n",
       "      <td>100.0</td>\n",
       "      <td>1948</td>\n",
       "      <td>Summer</td>\n",
       "      <td>Basketball</td>\n",
       "      <td>Gold</td>\n",
       "      <td>USA</td>\n",
       "    </tr>\n",
       "    <tr>\n",
       "      <th>14028</th>\n",
       "      <td>Robert Albert \"Bob\" Kurland</td>\n",
       "      <td>Male</td>\n",
       "      <td>27.0</td>\n",
       "      <td>213.0</td>\n",
       "      <td>100.0</td>\n",
       "      <td>1952</td>\n",
       "      <td>Summer</td>\n",
       "      <td>Basketball</td>\n",
       "      <td>Gold</td>\n",
       "      <td>USA</td>\n",
       "    </tr>\n",
       "    <tr>\n",
       "      <th>14183</th>\n",
       "      <td>Christian Donald Laettner</td>\n",
       "      <td>Male</td>\n",
       "      <td>22.0</td>\n",
       "      <td>211.0</td>\n",
       "      <td>107.0</td>\n",
       "      <td>1992</td>\n",
       "      <td>Summer</td>\n",
       "      <td>Basketball</td>\n",
       "      <td>Gold</td>\n",
       "      <td>USA</td>\n",
       "    </tr>\n",
       "    <tr>\n",
       "      <th>18098</th>\n",
       "      <td>Dmitry Aleksandrovich Musersky</td>\n",
       "      <td>Male</td>\n",
       "      <td>23.0</td>\n",
       "      <td>219.0</td>\n",
       "      <td>104.0</td>\n",
       "      <td>2012</td>\n",
       "      <td>Summer</td>\n",
       "      <td>Volleyball</td>\n",
       "      <td>Gold</td>\n",
       "      <td>Russia</td>\n",
       "    </tr>\n",
       "    <tr>\n",
       "      <th>19219</th>\n",
       "      <td>Hakeem Abdul Olajuwon</td>\n",
       "      <td>Male</td>\n",
       "      <td>33.0</td>\n",
       "      <td>213.0</td>\n",
       "      <td>113.0</td>\n",
       "      <td>1996</td>\n",
       "      <td>Summer</td>\n",
       "      <td>Basketball</td>\n",
       "      <td>Gold</td>\n",
       "      <td>USA</td>\n",
       "    </tr>\n",
       "    <tr>\n",
       "      <th>19323</th>\n",
       "      <td>Shaquille Rashuan O'Neal</td>\n",
       "      <td>Male</td>\n",
       "      <td>24.0</td>\n",
       "      <td>216.0</td>\n",
       "      <td>137.0</td>\n",
       "      <td>1996</td>\n",
       "      <td>Summer</td>\n",
       "      <td>Basketball</td>\n",
       "      <td>Gold</td>\n",
       "      <td>USA</td>\n",
       "    </tr>\n",
       "    <tr>\n",
       "      <th>19707</th>\n",
       "      <td>Viktor Aleksandrovich Pankrashkin</td>\n",
       "      <td>Male</td>\n",
       "      <td>31.0</td>\n",
       "      <td>220.0</td>\n",
       "      <td>112.0</td>\n",
       "      <td>1988</td>\n",
       "      <td>Summer</td>\n",
       "      <td>Basketball</td>\n",
       "      <td>Gold</td>\n",
       "      <td>Russia</td>\n",
       "    </tr>\n",
       "    <tr>\n",
       "      <th>21972</th>\n",
       "      <td>David Maurice Robinson</td>\n",
       "      <td>Male</td>\n",
       "      <td>26.0</td>\n",
       "      <td>216.0</td>\n",
       "      <td>107.0</td>\n",
       "      <td>1992</td>\n",
       "      <td>Summer</td>\n",
       "      <td>Basketball</td>\n",
       "      <td>Gold</td>\n",
       "      <td>USA</td>\n",
       "    </tr>\n",
       "    <tr>\n",
       "      <th>21973</th>\n",
       "      <td>David Maurice Robinson</td>\n",
       "      <td>Male</td>\n",
       "      <td>30.0</td>\n",
       "      <td>216.0</td>\n",
       "      <td>107.0</td>\n",
       "      <td>1996</td>\n",
       "      <td>Summer</td>\n",
       "      <td>Basketball</td>\n",
       "      <td>Gold</td>\n",
       "      <td>USA</td>\n",
       "    </tr>\n",
       "    <tr>\n",
       "      <th>22619</th>\n",
       "      <td>Arvydas Romas Sabonis</td>\n",
       "      <td>Male</td>\n",
       "      <td>23.0</td>\n",
       "      <td>223.0</td>\n",
       "      <td>122.0</td>\n",
       "      <td>1988</td>\n",
       "      <td>Summer</td>\n",
       "      <td>Basketball</td>\n",
       "      <td>Gold</td>\n",
       "      <td>Russia</td>\n",
       "    </tr>\n",
       "  </tbody>\n",
       "</table>\n",
       "</div>"
      ],
      "text/plain": [
       "                                       Name   Sex   Age  Height  Weight  Year  \\\n",
       "1843       Walter Jones \"Walt\" Bellamy, Jr.  Male  23.0   211.0    98.0  1960   \n",
       "2178   Oleksandr Mykhailovych Bielostienniy  Male  29.0   214.0   117.0  1988   \n",
       "3810                 Tyson Cleotis Chandler  Male  29.0   216.0   107.0  2012   \n",
       "4536              Melvin Grant \"Mel\" Counts  Male  22.0   213.0   102.0  1964   \n",
       "6638                 Patrick Aloysius Ewing  Male  21.0   213.0   109.0  1984   \n",
       "6639                 Patrick Aloysius Ewing  Male  29.0   213.0   109.0  1992   \n",
       "7422          Marcus Ross \"Marc\" Freiberger  Male  23.0   211.0    98.0  1952   \n",
       "10111           Valeriy Hryhorovych Hoborov  Male  23.0   211.0   115.0  1988   \n",
       "10433                   Dwight David Howard  Male  22.0   211.0   120.0  2008   \n",
       "10801                 Darrall Tucker Imhoff  Male  21.0   211.0    98.0  1960   \n",
       "11680            Hyland DeAndre Jordan, Jr.  Male  28.0   211.0   120.0  2016   \n",
       "12917           Joseph William \"Joe\" Kleine  Male  22.0   211.0   122.0  1984   \n",
       "13253                    Jon Francis Koncak  Male  21.0   213.0   113.0  1984   \n",
       "13555            Serhiy Ivanovych Kovalenko  Male  25.0   216.0   111.0  1972   \n",
       "14027           Robert Albert \"Bob\" Kurland  Male  23.0   213.0   100.0  1948   \n",
       "14028           Robert Albert \"Bob\" Kurland  Male  27.0   213.0   100.0  1952   \n",
       "14183             Christian Donald Laettner  Male  22.0   211.0   107.0  1992   \n",
       "18098        Dmitry Aleksandrovich Musersky  Male  23.0   219.0   104.0  2012   \n",
       "19219                 Hakeem Abdul Olajuwon  Male  33.0   213.0   113.0  1996   \n",
       "19323              Shaquille Rashuan O'Neal  Male  24.0   216.0   137.0  1996   \n",
       "19707     Viktor Aleksandrovich Pankrashkin  Male  31.0   220.0   112.0  1988   \n",
       "21972                David Maurice Robinson  Male  26.0   216.0   107.0  1992   \n",
       "21973                David Maurice Robinson  Male  30.0   216.0   107.0  1996   \n",
       "22619                 Arvydas Romas Sabonis  Male  23.0   223.0   122.0  1988   \n",
       "\n",
       "       Season       Sport Medal Country  \n",
       "1843   Summer  Basketball  Gold     USA  \n",
       "2178   Summer  Basketball  Gold  Russia  \n",
       "3810   Summer  Basketball  Gold     USA  \n",
       "4536   Summer  Basketball  Gold     USA  \n",
       "6638   Summer  Basketball  Gold     USA  \n",
       "6639   Summer  Basketball  Gold     USA  \n",
       "7422   Summer  Basketball  Gold     USA  \n",
       "10111  Summer  Basketball  Gold  Russia  \n",
       "10433  Summer  Basketball  Gold     USA  \n",
       "10801  Summer  Basketball  Gold     USA  \n",
       "11680  Summer  Basketball  Gold     USA  \n",
       "12917  Summer  Basketball  Gold     USA  \n",
       "13253  Summer  Basketball  Gold     USA  \n",
       "13555  Summer  Basketball  Gold  Russia  \n",
       "14027  Summer  Basketball  Gold     USA  \n",
       "14028  Summer  Basketball  Gold     USA  \n",
       "14183  Summer  Basketball  Gold     USA  \n",
       "18098  Summer  Volleyball  Gold  Russia  \n",
       "19219  Summer  Basketball  Gold     USA  \n",
       "19323  Summer  Basketball  Gold     USA  \n",
       "19707  Summer  Basketball  Gold  Russia  \n",
       "21972  Summer  Basketball  Gold     USA  \n",
       "21973  Summer  Basketball  Gold     USA  \n",
       "22619  Summer  Basketball  Gold  Russia  "
      ]
     },
     "execution_count": 53,
     "metadata": {},
     "output_type": "execute_result"
    }
   ],
   "source": [
    "notNullMedals.loc[notNullMedals['Height'] > 210]"
   ]
  },
  {
   "cell_type": "markdown",
   "id": "fbca20e6f6a65f00",
   "metadata": {
    "collapsed": false,
    "id": "fbca20e6f6a65f00",
    "jupyter": {
     "outputs_hidden": false
    }
   },
   "source": [
    "Most of them come from Basketball. That's make sense!\n",
    "\n",
    "![](https://nbcsports.brightspotcdn.com/dims4/default/c22bf50/2147483647/strip/true/crop/3313x1864+0+68/resize/1440x810!/quality/90/?url=https%3A%2F%2Fnbc-sports-production-nbc-sports.s3.us-east-1.amazonaws.com%2Fbrightspot%2F8e%2F3a%2F91379ba04b83b97abd3b395470a8%2Fhttps-delivery-gettyimages.com%2Fdownloads%2F1627092720)"
   ]
  },
  {
   "cell_type": "code",
   "execution_count": null,
   "id": "ca7496f9d37cb4",
   "metadata": {
    "id": "ca7496f9d37cb4"
   },
   "outputs": [],
   "source": []
  }
 ],
 "metadata": {
  "colab": {
   "provenance": []
  },
  "kernelspec": {
   "display_name": "Python 3 (ipykernel)",
   "language": "python",
   "name": "python3"
  },
  "language_info": {
   "codemirror_mode": {
    "name": "ipython",
    "version": 3
   },
   "file_extension": ".py",
   "mimetype": "text/x-python",
   "name": "python",
   "nbconvert_exporter": "python",
   "pygments_lexer": "ipython3",
   "version": "3.11.5"
  }
 },
 "nbformat": 4,
 "nbformat_minor": 5
}
