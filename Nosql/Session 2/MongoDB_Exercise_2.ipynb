{
  "cells": [
    {
      "cell_type": "markdown",
      "metadata": {
        "id": "XnER8VGpwux-"
      },
      "source": [
        "## MongoDB Exercise"
      ]
    },
    {
      "cell_type": "markdown",
      "metadata": {
        "id": "vL-JKT1Bx2DB"
      },
      "source": [
        "### MongoDB Updates"
      ]
    },
    {
      "cell_type": "markdown",
      "metadata": {
        "id": "W8x2yx88x5ZV"
      },
      "source": [
        "### Exercise 1 💻\n",
        "\n",
        "Insert the data from `iris.json` into a new collection.\n",
        "To load the data, you can use the following:\n",
        "\n",
        "```python\n",
        "import json\n",
        "\n",
        "with open('iris.json') as file:\n",
        "  data = json.load(file)\n",
        "```"
      ]
    },
    {
      "cell_type": "code",
      "execution_count": null,
      "metadata": {
        "colab": {
          "base_uri": "https://localhost:8080/"
        },
        "id": "kfEuPnbMv4o_",
        "outputId": "fdf74516-4251-4b2c-bf17-2c62d55ebae0"
      },
      "outputs": [],
      "source": [
        "# Install the dependencies\n"
      ]
    },
    {
      "cell_type": "code",
      "execution_count": null,
      "metadata": {
        "id": "XnT269vgv-DU"
      },
      "outputs": [],
      "source": [
        "# Import the required libraries\n"
      ]
    },
    {
      "cell_type": "code",
      "execution_count": null,
      "metadata": {
        "colab": {
          "base_uri": "https://localhost:8080/"
        },
        "id": "tGLnoes7wNii",
        "outputId": "43d0b246-3c59-4992-e932-a4743b91a423"
      },
      "outputs": [],
      "source": [
        "# Get the colab otebook IP\n"
      ]
    },
    {
      "cell_type": "code",
      "execution_count": null,
      "metadata": {
        "colab": {
          "base_uri": "https://localhost:8080/"
        },
        "id": "ibAu0HEny8Tf",
        "outputId": "9fa6347c-dbf8-4337-8518-3227c5988984"
      },
      "outputs": [],
      "source": [
        "# Write the Solution\n",
        "\n",
        "# Hint:\n",
        "# 1. Connect to the Atlas cluster\n",
        "# 2. Get the database object\n",
        "# 3. Get the collection object\n",
        "# 4. Insert the data into the collection\n"
      ]
    },
    {
      "cell_type": "markdown",
      "metadata": {
        "id": "4Hwq9nLJ0xoa"
      },
      "source": [
        "### Exercise 2 💻\n",
        "\n",
        "Update all plants, add a new field called `price`, with a value of `2`."
      ]
    },
    {
      "cell_type": "code",
      "execution_count": null,
      "metadata": {
        "colab": {
          "base_uri": "https://localhost:8080/"
        },
        "id": "-2x76kI43eXZ",
        "outputId": "3cdc902f-6d7e-4ad3-e933-229fbfcf7cdb"
      },
      "outputs": [],
      "source": [
        "# Write the Solution\n"
      ]
    },
    {
      "cell_type": "markdown",
      "metadata": {
        "id": "NEOLi_HA51eC"
      },
      "source": [
        "### Exercise 3 💻\n",
        "\n",
        "Update `setosa` plants, increment their price by `1`."
      ]
    },
    {
      "cell_type": "code",
      "execution_count": null,
      "metadata": {
        "colab": {
          "base_uri": "https://localhost:8080/"
        },
        "id": "jXBjXEwD6Uuq",
        "outputId": "4a9f30b4-eed9-43fd-f75d-2fa9161194bf"
      },
      "outputs": [],
      "source": [
        "# Write the Solution\n",
        "\n",
        "# Hint\n",
        "# 1. Use the `species` field\n"
      ]
    },
    {
      "cell_type": "markdown",
      "metadata": {
        "id": "dKAeEUmX7lR7"
      },
      "source": [
        "### Exercise 4 💻\n",
        "\n",
        "We want to add a promotion on `versicolor` plants, we want to decrease their price by 10%."
      ]
    },
    {
      "cell_type": "code",
      "execution_count": null,
      "metadata": {
        "colab": {
          "base_uri": "https://localhost:8080/"
        },
        "id": "5yAG_Xfg8E99",
        "outputId": "aed2f480-e65c-440e-8736-d242ae37b1ff"
      },
      "outputs": [],
      "source": [
        "# Write the Solution\n"
      ]
    },
    {
      "cell_type": "markdown",
      "metadata": {
        "id": "G7QCYCdh8I8K"
      },
      "source": [
        "### Exercise 5 💻\n",
        "\n",
        "Load the `menu.json` dataset."
      ]
    },
    {
      "cell_type": "code",
      "execution_count": null,
      "metadata": {
        "colab": {
          "base_uri": "https://localhost:8080/"
        },
        "id": "5K63M8BT8ojK",
        "outputId": "15c907bf-fe01-4f5a-bfb5-72e86755e6e6"
      },
      "outputs": [],
      "source": [
        "# Write the Solution\n"
      ]
    },
    {
      "cell_type": "markdown",
      "metadata": {
        "id": "iyAu80Re8q62"
      },
      "source": [
        "### Exercise 6 💻\n",
        "\n",
        "Update the `Hamburger`, add `Pickles` to the ingredients list."
      ]
    },
    {
      "cell_type": "code",
      "execution_count": null,
      "metadata": {
        "colab": {
          "base_uri": "https://localhost:8080/"
        },
        "id": "jMmBGptO9M_l",
        "outputId": "c44fa8ec-01d5-48ae-c282-09521f41f581"
      },
      "outputs": [],
      "source": [
        "# Write the Solution\n"
      ]
    },
    {
      "cell_type": "markdown",
      "metadata": {
        "id": "Y7MKtf0z9Owi"
      },
      "source": [
        "Exercise 7 💻\n",
        "\n",
        "Update the `Chicken Tenders`, add `Dipping Sauce` to the ingredients list if it doesn't exist already (Using a single query)."
      ]
    },
    {
      "cell_type": "code",
      "execution_count": null,
      "metadata": {
        "colab": {
          "base_uri": "https://localhost:8080/"
        },
        "id": "cRDYOkljBI55",
        "outputId": "f28d8a03-3508-416f-94c4-36e6ad69f528"
      },
      "outputs": [],
      "source": [
        "# Write the Solution\n"
      ]
    },
    {
      "cell_type": "markdown",
      "metadata": {},
      "source": [
        "### Exercise 8 💻\n",
        "\n",
        "Cleanup the database, remove all items that we added."
      ]
    },
    {
      "cell_type": "code",
      "execution_count": null,
      "metadata": {},
      "outputs": [],
      "source": [
        "# Write the solution\n"
      ]
    }
  ],
  "metadata": {
    "colab": {
      "provenance": []
    },
    "kernelspec": {
      "display_name": "Python 3",
      "name": "python3"
    },
    "language_info": {
      "name": "python"
    }
  },
  "nbformat": 4,
  "nbformat_minor": 0
}
