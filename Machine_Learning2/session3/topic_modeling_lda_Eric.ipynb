{
 "cells": [
  {
   "cell_type": "markdown",
   "metadata": {},
   "source": [
    "# Topic modeling : LDA"
   ]
  },
  {
   "cell_type": "markdown",
   "metadata": {},
   "source": [
    "## Dataset : Grand Débat National (Great national debate)\n",
    "\n",
    "The aim of this exercise is to be familiar with the text-mining and topic models such as LDA. One of the contexts where topic modeling is very useful is in open-ended questions. It allows us to explore the variation of topics addressed in people's responses. For this we will use the french \"Grand Débat National\" dataset. This dataset presents a complete set of responses from the [Grand Débat National](https://granddebat.fr/), the public debate organized by President Macron. The purpose of the debate was to better understand the needs and opinions of the French people following the Yellow Vests protests. The results of this debate are now available as [open data](https://granddebat.fr/pages/donnees-ouvertes)."
   ]
  },
  {
   "cell_type": "markdown",
   "metadata": {},
   "source": [
    "## 1. Import data"
   ]
  },
  {
   "cell_type": "markdown",
   "metadata": {},
   "source": [
    "**Question 1 :** Download one of the ecological transition csv files and load the content into a pandas dataframe. Name this variable `raw_data`"
   ]
  },
  {
   "cell_type": "code",
   "execution_count": 3,
   "metadata": {},
   "outputs": [],
   "source": [
    "%load_ext lab_black"
   ]
  },
  {
   "cell_type": "code",
   "execution_count": 4,
   "metadata": {},
   "outputs": [
    {
     "name": "stderr",
     "output_type": "stream",
     "text": [
      "/var/folders/_c/p1x36y5n3dv4rpm9sgpjv0z00000gn/T/ipykernel_76053/2905575155.py:7: DtypeWarning: Columns (6) have mixed types. Specify dtype option on import or set low_memory=False.\n",
      "  raw_data = pd.read_csv(path)\n"
     ]
    }
   ],
   "source": [
    "import pandas as pd\n",
    "\n",
    "path = \"https://raw.githubusercontent.com/curiousML/DSA/master/text_mining/data/LA_TRANSITION_ECOLOGIQUE.csv\"\n",
    "# \"/chemin/menant/a/LA_TRANSITION_ECOLOGIQUE.csv\"\n",
    "\n",
    "# our dataframe\n",
    "raw_data = pd.read_csv(path)"
   ]
  },
  {
   "cell_type": "markdown",
   "metadata": {},
   "source": [
    "We will focus on the last question: ``Y a-t-il d'autres points sur la transition écologique sur lesquels vous souhaiteriez vous exprimer ?`` We hope that our LDA model will help us to analyze the topics on which their responses are focused. Let's take a look on the data :"
   ]
  },
  {
   "cell_type": "code",
   "execution_count": 5,
   "metadata": {},
   "outputs": [
    {
     "data": {
      "text/plain": [
       "0               Multiplier les centrales géothermiques\n",
       "1    Les problèmes auxquels se trouve confronté l’e...\n",
       "2                                                  NaN\n",
       "3                                                  NaN\n",
       "4      Une vrai politique écologique et non économique\n",
       "5    Les bonnes idées ne grandissent que par le par...\n",
       "6    Pédagogie dans ce sens là dés la petite école ...\n",
       "7                                                  NaN\n",
       "8    faire de l'écologie incitative et non punitive...\n",
       "9    Développer le ferroutage pour les poids lourds...\n",
       "Name: Y a-t-il d'autres points sur la transition écologique sur lesquels vous souhaiteriez vous exprimer ?, dtype: object"
      ]
     },
     "execution_count": 5,
     "metadata": {},
     "output_type": "execute_result"
    }
   ],
   "source": [
    "question = \"Y a-t-il d'autres points sur la transition écologique sur lesquels vous souhaiteriez vous exprimer ?\"\n",
    "raw_data[question].head(10)"
   ]
  },
  {
   "cell_type": "markdown",
   "metadata": {},
   "source": [
    "As we note, there is a lot of missing data (like any open-ended question, people decide whether or not to write a comment). A cleanup step is necessary."
   ]
  },
  {
   "cell_type": "markdown",
   "metadata": {},
   "source": [
    "## 2. Clean and vectorize documents"
   ]
  },
  {
   "cell_type": "markdown",
   "metadata": {},
   "source": [
    "Before training our LDA model, we need to tokenize our text. We will tokenize with the [spaCy]  (https://spacy.io/) library because we will only perform some basic preprocessing. We will just initialize a blank template for the French language."
   ]
  },
  {
   "cell_type": "code",
   "execution_count": 5,
   "metadata": {},
   "outputs": [
    {
     "name": "stdout",
     "output_type": "stream",
     "text": [
      "Collecting fr-core-news-sm==3.7.0\n",
      "  Downloading https://github.com/explosion/spacy-models/releases/download/fr_core_news_sm-3.7.0/fr_core_news_sm-3.7.0-py3-none-any.whl (16.3 MB)\n",
      "\u001b[2K     \u001b[90m━━━━━━━━━━━━━━━━━━━━━━━━━━━━━━━━━━━━━━━━\u001b[0m \u001b[32m16.3/16.3 MB\u001b[0m \u001b[31m11.2 MB/s\u001b[0m eta \u001b[36m0:00:00\u001b[0m00:01\u001b[0m00:01\u001b[0m\n",
      "\u001b[?25hRequirement already satisfied: spacy<3.8.0,>=3.7.0 in /Users/ericwindsor/miniconda3/envs/ml/lib/python3.9/site-packages (from fr-core-news-sm==3.7.0) (3.7.2)\n",
      "Requirement already satisfied: spacy-legacy<3.1.0,>=3.0.11 in /Users/ericwindsor/miniconda3/envs/ml/lib/python3.9/site-packages (from spacy<3.8.0,>=3.7.0->fr-core-news-sm==3.7.0) (3.0.12)\n",
      "Requirement already satisfied: spacy-loggers<2.0.0,>=1.0.0 in /Users/ericwindsor/miniconda3/envs/ml/lib/python3.9/site-packages (from spacy<3.8.0,>=3.7.0->fr-core-news-sm==3.7.0) (1.0.4)\n",
      "Requirement already satisfied: murmurhash<1.1.0,>=0.28.0 in /Users/ericwindsor/miniconda3/envs/ml/lib/python3.9/site-packages (from spacy<3.8.0,>=3.7.0->fr-core-news-sm==3.7.0) (1.0.7)\n",
      "Requirement already satisfied: cymem<2.1.0,>=2.0.2 in /Users/ericwindsor/miniconda3/envs/ml/lib/python3.9/site-packages (from spacy<3.8.0,>=3.7.0->fr-core-news-sm==3.7.0) (2.0.6)\n",
      "Requirement already satisfied: preshed<3.1.0,>=3.0.2 in /Users/ericwindsor/miniconda3/envs/ml/lib/python3.9/site-packages (from spacy<3.8.0,>=3.7.0->fr-core-news-sm==3.7.0) (3.0.6)\n",
      "Requirement already satisfied: thinc<8.3.0,>=8.1.8 in /Users/ericwindsor/miniconda3/envs/ml/lib/python3.9/site-packages (from spacy<3.8.0,>=3.7.0->fr-core-news-sm==3.7.0) (8.2.2)\n",
      "Requirement already satisfied: wasabi<1.2.0,>=0.9.1 in /Users/ericwindsor/miniconda3/envs/ml/lib/python3.9/site-packages (from spacy<3.8.0,>=3.7.0->fr-core-news-sm==3.7.0) (0.9.1)\n",
      "Requirement already satisfied: srsly<3.0.0,>=2.4.3 in /Users/ericwindsor/miniconda3/envs/ml/lib/python3.9/site-packages (from spacy<3.8.0,>=3.7.0->fr-core-news-sm==3.7.0) (2.4.8)\n",
      "Requirement already satisfied: catalogue<2.1.0,>=2.0.6 in /Users/ericwindsor/miniconda3/envs/ml/lib/python3.9/site-packages (from spacy<3.8.0,>=3.7.0->fr-core-news-sm==3.7.0) (2.0.10)\n",
      "Requirement already satisfied: weasel<0.4.0,>=0.1.0 in /Users/ericwindsor/miniconda3/envs/ml/lib/python3.9/site-packages (from spacy<3.8.0,>=3.7.0->fr-core-news-sm==3.7.0) (0.3.4)\n",
      "Requirement already satisfied: typer<0.10.0,>=0.3.0 in /Users/ericwindsor/miniconda3/envs/ml/lib/python3.9/site-packages (from spacy<3.8.0,>=3.7.0->fr-core-news-sm==3.7.0) (0.9.0)\n",
      "Requirement already satisfied: smart-open<7.0.0,>=5.2.1 in /Users/ericwindsor/miniconda3/envs/ml/lib/python3.9/site-packages (from spacy<3.8.0,>=3.7.0->fr-core-news-sm==3.7.0) (5.2.1)\n",
      "Requirement already satisfied: tqdm<5.0.0,>=4.38.0 in /Users/ericwindsor/miniconda3/envs/ml/lib/python3.9/site-packages (from spacy<3.8.0,>=3.7.0->fr-core-news-sm==3.7.0) (4.66.2)\n",
      "Requirement already satisfied: requests<3.0.0,>=2.13.0 in /Users/ericwindsor/miniconda3/envs/ml/lib/python3.9/site-packages (from spacy<3.8.0,>=3.7.0->fr-core-news-sm==3.7.0) (2.32.3)\n",
      "Requirement already satisfied: pydantic!=1.8,!=1.8.1,<3.0.0,>=1.7.4 in /Users/ericwindsor/miniconda3/envs/ml/lib/python3.9/site-packages (from spacy<3.8.0,>=3.7.0->fr-core-news-sm==3.7.0) (2.5.3)\n",
      "Requirement already satisfied: jinja2 in /Users/ericwindsor/miniconda3/envs/ml/lib/python3.9/site-packages (from spacy<3.8.0,>=3.7.0->fr-core-news-sm==3.7.0) (3.1.3)\n",
      "Requirement already satisfied: setuptools in /Users/ericwindsor/miniconda3/envs/ml/lib/python3.9/site-packages (from spacy<3.8.0,>=3.7.0->fr-core-news-sm==3.7.0) (68.2.2)\n",
      "Requirement already satisfied: packaging>=20.0 in /Users/ericwindsor/miniconda3/envs/ml/lib/python3.9/site-packages (from spacy<3.8.0,>=3.7.0->fr-core-news-sm==3.7.0) (23.2)\n",
      "Requirement already satisfied: langcodes<4.0.0,>=3.2.0 in /Users/ericwindsor/miniconda3/envs/ml/lib/python3.9/site-packages (from spacy<3.8.0,>=3.7.0->fr-core-news-sm==3.7.0) (3.3.0)\n",
      "Requirement already satisfied: numpy>=1.19.0 in /Users/ericwindsor/miniconda3/envs/ml/lib/python3.9/site-packages (from spacy<3.8.0,>=3.7.0->fr-core-news-sm==3.7.0) (1.26.3)\n",
      "Requirement already satisfied: annotated-types>=0.4.0 in /Users/ericwindsor/miniconda3/envs/ml/lib/python3.9/site-packages (from pydantic!=1.8,!=1.8.1,<3.0.0,>=1.7.4->spacy<3.8.0,>=3.7.0->fr-core-news-sm==3.7.0) (0.6.0)\n",
      "Requirement already satisfied: pydantic-core==2.14.6 in /Users/ericwindsor/miniconda3/envs/ml/lib/python3.9/site-packages (from pydantic!=1.8,!=1.8.1,<3.0.0,>=1.7.4->spacy<3.8.0,>=3.7.0->fr-core-news-sm==3.7.0) (2.14.6)\n",
      "Requirement already satisfied: typing-extensions>=4.6.1 in /Users/ericwindsor/miniconda3/envs/ml/lib/python3.9/site-packages (from pydantic!=1.8,!=1.8.1,<3.0.0,>=1.7.4->spacy<3.8.0,>=3.7.0->fr-core-news-sm==3.7.0) (4.11.0)\n",
      "Requirement already satisfied: charset-normalizer<4,>=2 in /Users/ericwindsor/miniconda3/envs/ml/lib/python3.9/site-packages (from requests<3.0.0,>=2.13.0->spacy<3.8.0,>=3.7.0->fr-core-news-sm==3.7.0) (3.3.2)\n",
      "Requirement already satisfied: idna<4,>=2.5 in /Users/ericwindsor/miniconda3/envs/ml/lib/python3.9/site-packages (from requests<3.0.0,>=2.13.0->spacy<3.8.0,>=3.7.0->fr-core-news-sm==3.7.0) (3.6)\n",
      "Requirement already satisfied: urllib3<3,>=1.21.1 in /Users/ericwindsor/miniconda3/envs/ml/lib/python3.9/site-packages (from requests<3.0.0,>=2.13.0->spacy<3.8.0,>=3.7.0->fr-core-news-sm==3.7.0) (1.26.18)\n",
      "Requirement already satisfied: certifi>=2017.4.17 in /Users/ericwindsor/miniconda3/envs/ml/lib/python3.9/site-packages (from requests<3.0.0,>=2.13.0->spacy<3.8.0,>=3.7.0->fr-core-news-sm==3.7.0) (2024.6.2)\n",
      "Requirement already satisfied: blis<0.8.0,>=0.7.8 in /Users/ericwindsor/miniconda3/envs/ml/lib/python3.9/site-packages (from thinc<8.3.0,>=8.1.8->spacy<3.8.0,>=3.7.0->fr-core-news-sm==3.7.0) (0.7.9)\n",
      "Requirement already satisfied: confection<1.0.0,>=0.0.1 in /Users/ericwindsor/miniconda3/envs/ml/lib/python3.9/site-packages (from thinc<8.3.0,>=8.1.8->spacy<3.8.0,>=3.7.0->fr-core-news-sm==3.7.0) (0.1.4)\n",
      "Requirement already satisfied: click<9.0.0,>=7.1.1 in /Users/ericwindsor/miniconda3/envs/ml/lib/python3.9/site-packages (from typer<0.10.0,>=0.3.0->spacy<3.8.0,>=3.7.0->fr-core-news-sm==3.7.0) (8.1.7)\n",
      "Requirement already satisfied: cloudpathlib<0.17.0,>=0.7.0 in /Users/ericwindsor/miniconda3/envs/ml/lib/python3.9/site-packages (from weasel<0.4.0,>=0.1.0->spacy<3.8.0,>=3.7.0->fr-core-news-sm==3.7.0) (0.16.0)\n",
      "Requirement already satisfied: MarkupSafe>=2.0 in /Users/ericwindsor/miniconda3/envs/ml/lib/python3.9/site-packages (from jinja2->spacy<3.8.0,>=3.7.0->fr-core-news-sm==3.7.0) (2.1.5)\n",
      "\u001b[33mDEPRECATION: nb-black 1.0.7 has a non-standard dependency specifier black>='19.3'; python_version >= \"3.6\". pip 24.1 will enforce this behaviour change. A possible replacement is to upgrade to a newer version of nb-black or contact the author to suggest that they release a version with a conforming dependency specifiers. Discussion can be found at https://github.com/pypa/pip/issues/12063\u001b[0m\u001b[33m\n",
      "\u001b[0mInstalling collected packages: fr-core-news-sm\n",
      "Successfully installed fr-core-news-sm-3.7.0\n",
      "\u001b[38;5;2m✔ Download and installation successful\u001b[0m\n",
      "You can now load the package via spacy.load('fr_core_news_sm')\n"
     ]
    }
   ],
   "source": [
    "!python -m spacy download fr_core_news_sm"
   ]
  },
  {
   "cell_type": "code",
   "execution_count": 6,
   "metadata": {},
   "outputs": [],
   "source": [
    "import spacy\n",
    "\n",
    "nlp = spacy.load(\"fr_core_news_sm\")\n",
    "\n",
    "# nlp = spacy.blank(\"fr\")"
   ]
  },
  {
   "cell_type": "markdown",
   "metadata": {},
   "source": [
    "Let's remove all the rows from the dataframe that don't have an answer for our question (the `NaNs above). This new dataframe will be called ``texts``."
   ]
  },
  {
   "cell_type": "code",
   "execution_count": 7,
   "metadata": {},
   "outputs": [],
   "source": [
    "texts = raw_data.dropna(subset=[question])[question]\n",
    "# assert texts[question].isnull().sum() == 0"
   ]
  },
  {
   "cell_type": "code",
   "execution_count": 8,
   "metadata": {},
   "outputs": [
    {
     "data": {
      "text/plain": [
       "0               Multiplier les centrales géothermiques\n",
       "1    Les problèmes auxquels se trouve confronté l’e...\n",
       "4      Une vrai politique écologique et non économique\n",
       "5    Les bonnes idées ne grandissent que par le par...\n",
       "6    Pédagogie dans ce sens là dés la petite école ...\n",
       "Name: Y a-t-il d'autres points sur la transition écologique sur lesquels vous souhaiteriez vous exprimer ?, dtype: object"
      ]
     },
     "execution_count": 8,
     "metadata": {},
     "output_type": "execute_result"
    }
   ],
   "source": [
    "texts.head()"
   ]
  },
  {
   "cell_type": "markdown",
   "metadata": {},
   "source": [
    "First preprocessing with spacy :"
   ]
  },
  {
   "cell_type": "code",
   "execution_count": 9,
   "metadata": {},
   "outputs": [],
   "source": [
    "spacy_docs = list(nlp.pipe(texts))"
   ]
  },
  {
   "cell_type": "markdown",
   "metadata": {},
   "source": [
    "We now have a list of spaCy documents. We will transform each spaCy document into a list of tokens. Instead of the original tokens, we will work with lemmas instead. This will allow our model to generalize better"
   ]
  },
  {
   "cell_type": "markdown",
   "metadata": {},
   "source": [
    "Here is the full list of preprocessing used: \n",
    " \n",
    "- remove all **words less than 3 characters**,\n",
    "- remove all **stop-words**, and\n",
    "- lemmatize** the remaining words and,\n",
    "- put these words in **minuscule**."
   ]
  },
  {
   "cell_type": "code",
   "execution_count": 10,
   "metadata": {},
   "outputs": [
    {
     "name": "stdout",
     "output_type": "stream",
     "text": [
      "[['multiplier', 'centrale', 'géothermique'], ['problème', 'trouver', 'confronté', 'ensemble', 'planète', 'dénoncer', 'parfaire', 'désordre', 'gilet', 'jaune', 'france', 'il', 'surpopulation', 'mondial', 'population', 'passer', 'd’1,5', 'milliard', 'habitant', '1900', 'milliard', '2020', 'monter', 'bientôt', 'milliard', '2040', 'progrès', 'communication', 'village', 'mondial', 'individu', 'fond', 'asie', 'fond', 'afrique', 'passer', 'quartier', 'campagne', 'pays', 'aspirer', 'vivre', 'blâmer', 'lotir', 'concitoyen', 'logement', 'nourriture', 'bien', 'consommation', 'déplacemer', 'etc.', 'mère', 'problème', 'bien', 'solution', 'problème', 'stabilisation', 'croissance', 'démographique', 'partage', 'richesse', 'partage', 'terre', 'partage', 'protection', 'biodiversité', 'règlement', 'conflit', 'lutte', 'contre', 'déforestation', 'lutte', 'contre', 'dérèglement', 'climatique', 'règlement', 'conflit', 'stabilisation', 'migration', 'concurrence', 'commercial', 'mondial', 'etc.', 'français', 'européen', 'mondial', 'france', 'jouer', 'rôle', 'moteur', 'autour', 'dérouler', 'grand', 'débat', 'paraître', 'anecdotique'], ['vrai', 'politique', 'écologique', 'économique']]\n"
     ]
    }
   ],
   "source": [
    "docs = [\n",
    "    [t.lemma_.lower() for t in doc if len(t.orth_) > 3 and not t.is_stop]\n",
    "    for doc in spacy_docs\n",
    "]\n",
    "print(docs[:3])"
   ]
  },
  {
   "cell_type": "markdown",
   "metadata": {},
   "source": [
    "In order to preserve some word order in our modeling, we will take into account frequent bigrams. For this, we will use the [Gensim](https://radimrehurek.com/gensim/)library. We would like to point out that the Gensim library is an excellent NLP library for topics modeling. \n",
    "\n",
    "Here is the chosen process: \n",
    "\n",
    "- We first identify the frequent bigrams in the corpus, \n",
    "- then we add them to the list of tokens for the documents in which they appear. This means that the bigrams will not be in their correct position in the text, but this is not a problem: topic models are bag-of-words models that ignore the position of words anyway."
   ]
  },
  {
   "cell_type": "code",
   "execution_count": 11,
   "metadata": {},
   "outputs": [],
   "source": [
    "import re\n",
    "from gensim.models import Phrases\n",
    "\n",
    "bigram = Phrases(docs, min_count=10)\n",
    "\n",
    "for idx in range(len(docs)):\n",
    "    for token in bigram[docs[idx]]:\n",
    "        if (\n",
    "            \"_\" in token\n",
    "        ):  # les bigrammes peuvent être reconnus par \"_\" qui concatène les mots\n",
    "            docs[idx].append(token)"
   ]
  },
  {
   "cell_type": "markdown",
   "metadata": {},
   "source": [
    "Let's move on to the last steps of the Gensim specific preprocessing. First, we will create a dictionary representation of the documents. This dictionary will map each word to a unique identifier and will help us create word-sack representations of each document. These bag-of-words representations contain the identifiers of the words in the document as well as their frequency. In addition, we can remove the least frequent and most frequent words from the vocabulary. This will improve the quality of our model and speed up its training. The minimum frequency of a word is expressed as an absolute number, the maximum frequency is the proportion of documents in which a word can appear."
   ]
  },
  {
   "cell_type": "code",
   "execution_count": 12,
   "metadata": {},
   "outputs": [
    {
     "name": "stdout",
     "output_type": "stream",
     "text": [
      "Number of unique words in original documents : 32371\n",
      "Number of unique words after removing rare and common words : 12457\n",
      "Example representation of document 3 : [(86, 1), (87, 1), (88, 1), (89, 1)]\n"
     ]
    }
   ],
   "source": [
    "from gensim.corpora import Dictionary\n",
    "\n",
    "dictionary = Dictionary(docs)\n",
    "print(\"Number of unique words in original documents :\", len(dictionary))\n",
    "\n",
    "dictionary.filter_extremes(no_below=3, no_above=0.25)\n",
    "print(\"Number of unique words after removing rare and common words :\", len(dictionary))\n",
    "\n",
    "print(\"Example representation of document 3 :\", dictionary.doc2bow(docs[2]))"
   ]
  },
  {
   "cell_type": "markdown",
   "metadata": {},
   "source": [
    "Next, we create bag-of-words representations for each document in the corpus see method [doc2bow](https://radimrehurek.com/gensim/corpora/dictionary.html) :"
   ]
  },
  {
   "cell_type": "code",
   "execution_count": 13,
   "metadata": {},
   "outputs": [],
   "source": [
    "corpus = [dictionary.doc2bow(doc) for doc in docs]"
   ]
  },
  {
   "cell_type": "markdown",
   "metadata": {},
   "source": [
    "## 3. Topic Modeling with LDA"
   ]
  },
  {
   "cell_type": "markdown",
   "metadata": {},
   "source": [
    "Now it's time to train our LDA! To do this, we use the following parameters: \n",
    "\n",
    "- **corpus**: the bag-of-words representations of our documents\n",
    "- **id2token**: the mapping of indexes to words\n",
    "- **num_topics** : the number of topics the model should identify (let's set <font color = \"red\"><b>10</b></font>)\n",
    "- **chunksize**: the number of documents the model sees on each update (let's set to <font color = \"red\"><b>1,000</b></font>)\n",
    "- **passes**: the number of times we show the total corpus to the model during training (let's set to <font color = \"red\"><b>5</b></font>)\n",
    "- **random_state**: we use a seed to ensure reproducibility (let's set to <font color = \"red\"><b>1</b></font>)\n",
    "\n",
    "On a corpus of this size, training usually takes one or two minutes."
   ]
  },
  {
   "cell_type": "markdown",
   "metadata": {},
   "source": [
    "**Question 2 :**"
   ]
  },
  {
   "cell_type": "code",
   "execution_count": 14,
   "metadata": {},
   "outputs": [],
   "source": [
    "from gensim.models import LdaModel\n",
    "\n",
    "model = LdaModel(\n",
    "    corpus, num_topics=10, id2word=dictionary, chunksize=1000, passes=5, random_state=1\n",
    ")"
   ]
  },
  {
   "cell_type": "markdown",
   "metadata": {},
   "source": [
    "## 4. Results and visualization"
   ]
  },
  {
   "cell_type": "markdown",
   "metadata": {},
   "source": [
    "**Question 3 :** Let's see what the model has learned. To do this, let's display the ten most characteristic words for each topic."
   ]
  },
  {
   "cell_type": "code",
   "execution_count": 15,
   "metadata": {},
   "outputs": [
    {
     "name": "stdout",
     "output_type": "stream",
     "text": [
      "***********\n",
      "* topic 1 *\n",
      "***********\n",
      "1 : 0.080*\"produit\" + 0.021*\"emballage\" + 0.019*\"plastique\" + 0.018*\"déchet\" + 0.015*\"interdir\" + 0.012*\"local\" + 0.011*\"interdire\" + 0.011*\"taxer\" + 0.011*\"pesticide\" + 0.011*\"consommation\"\n",
      "\n",
      "***********\n",
      "* topic 2 *\n",
      "***********\n",
      "2 : 0.031*\"taxer\" + 0.029*\"taxe\" + 0.025*\"transport\" + 0.017*\"pollueur\" + 0.015*\"camion\" + 0.014*\"avion\" + 0.013*\"route\" + 0.011*\"carburant\" + 0.011*\"vitesse\" + 0.011*\"lourd\"\n",
      "\n",
      "***********\n",
      "* topic 3 *\n",
      "***********\n",
      "3 : 0.028*\"ville\" + 0.026*\"transport\" + 0.017*\"grand\" + 0.013*\"centre\" + 0.013*\"zone\" + 0.012*\"commun\" + 0.010*\"petit\" + 0.009*\"local\" + 0.009*\"urbain\" + 0.008*\"commerce\"\n",
      "\n",
      "***********\n",
      "* topic 4 *\n",
      "***********\n",
      "4 : 0.051*\"écologique\" + 0.047*\"transition\" + 0.029*\"transition_écologique\" + 0.022*\"falloir\" + 0.018*\"faire\" + 0.013*\"citoyen\" + 0.012*\"politique\" + 0.010*\"entreprise\" + 0.009*\"solution\" + 0.009*\"terme\"\n",
      "\n",
      "***********\n",
      "* topic 5 *\n",
      "***********\n",
      "5 : 0.018*\"énergie\" + 0.016*\"solaire\" + 0.015*\"panneau\" + 0.014*\"investissement\" + 0.014*\"public\" + 0.014*\"aide\" + 0.010*\"construction\" + 0.010*\"place\" + 0.009*\"éolien\" + 0.009*\"chauffage\"\n",
      "\n",
      "***********\n",
      "* topic 6 *\n",
      "***********\n",
      "6 : 0.036*\"animal\" + 0.025*\"agriculture\" + 0.017*\"contre\" + 0.017*\"agricole\" + 0.016*\"biodiversité\" + 0.013*\"chasse\" + 0.012*\"environnement\" + 0.012*\"agriculteur\" + 0.011*\"pollution\" + 0.011*\"terre\"\n",
      "\n",
      "***********\n",
      "* topic 7 *\n",
      "***********\n",
      "7 : 0.012*\"pouvoir\" + 0.011*\"bien\" + 0.011*\"faire\" + 0.006*\"voir\" + 0.006*\"être\" + 0.006*\"français\" + 0.006*\"temps\" + 0.006*\"économie\" + 0.005*\"france\" + 0.005*\"devoir\"\n",
      "\n",
      "***********\n",
      "* topic 8 *\n",
      "***********\n",
      "8 : 0.045*\"énergie\" + 0.037*\"nucléaire\" + 0.013*\"falloir\" + 0.013*\"france\" + 0.012*\"renouvelable\" + 0.012*\"centrale\" + 0.010*\"production\" + 0.009*\"éolien\" + 0.009*\"développer\" + 0.009*\"fossile\"\n",
      "\n",
      "***********\n",
      "* topic 9 *\n",
      "***********\n",
      "9 : 0.040*\"voiture\" + 0.039*\"électrique\" + 0.035*\"véhicule\" + 0.015*\"voiture_électrique\" + 0.014*\"diesel\" + 0.013*\"batterie\" + 0.011*\"écologique\" + 0.011*\"hydrogène\" + 0.009*\"automobile\" + 0.009*\"moteur\"\n",
      "\n",
      "***********\n",
      "* topic 10 *\n",
      "***********\n",
      "10 : 0.038*\"falloir\" + 0.034*\"faire\" + 0.021*\"planète\" + 0.018*\"écologie\" + 0.017*\"enfant\" + 0.015*\"niveau\" + 0.015*\"trop\" + 0.015*\"arrêter\" + 0.014*\"changer\" + 0.014*\"exemple\"\n",
      "\n"
     ]
    }
   ],
   "source": [
    "for topic, words in model.print_topics():\n",
    "    print(\"***********\")\n",
    "    print(\"* topic\", topic + 1, \"*\")\n",
    "    print(\"***********\")\n",
    "    print(topic + 1, \":\", words)\n",
    "    print()"
   ]
  },
  {
   "cell_type": "markdown",
   "metadata": {},
   "source": [
    "Another way to observe topics is to **visualize** them. This can be done with the library [pyLDAvis](https://github.com/bmabey/pyLDAvis). PyLDAvis will show us how popular the topics are in our corpus, how similar the topics are, and which words are most important for that topic. Note that it is important to set ``sort_topics = False`` on the call to pyLDAvis. If you don't, the topics will be sorted differently than in Gensim. This may take a few minutes to load."
   ]
  },
  {
   "cell_type": "markdown",
   "metadata": {},
   "source": [
    "**Question 5 :**"
   ]
  },
  {
   "cell_type": "code",
   "execution_count": 17,
   "metadata": {},
   "outputs": [
    {
     "name": "stdout",
     "output_type": "stream",
     "text": [
      "Requirement already satisfied: pyLDAvis in /Users/ericwindsor/miniconda3/envs/ml/lib/python3.9/site-packages (3.4.1)\n",
      "Requirement already satisfied: numpy>=1.24.2 in /Users/ericwindsor/miniconda3/envs/ml/lib/python3.9/site-packages (from pyLDAvis) (1.26.3)\n",
      "Requirement already satisfied: scipy in /Users/ericwindsor/miniconda3/envs/ml/lib/python3.9/site-packages (from pyLDAvis) (1.11.4)\n",
      "Requirement already satisfied: pandas>=2.0.0 in /Users/ericwindsor/miniconda3/envs/ml/lib/python3.9/site-packages (from pyLDAvis) (2.1.4)\n",
      "Requirement already satisfied: joblib>=1.2.0 in /Users/ericwindsor/miniconda3/envs/ml/lib/python3.9/site-packages (from pyLDAvis) (1.2.0)\n",
      "Requirement already satisfied: jinja2 in /Users/ericwindsor/miniconda3/envs/ml/lib/python3.9/site-packages (from pyLDAvis) (3.1.3)\n",
      "Requirement already satisfied: numexpr in /Users/ericwindsor/miniconda3/envs/ml/lib/python3.9/site-packages (from pyLDAvis) (2.8.7)\n",
      "Requirement already satisfied: funcy in /Users/ericwindsor/miniconda3/envs/ml/lib/python3.9/site-packages (from pyLDAvis) (2.0)\n",
      "Requirement already satisfied: scikit-learn>=1.0.0 in /Users/ericwindsor/miniconda3/envs/ml/lib/python3.9/site-packages (from pyLDAvis) (1.3.0)\n",
      "Requirement already satisfied: gensim in /Users/ericwindsor/miniconda3/envs/ml/lib/python3.9/site-packages (from pyLDAvis) (4.3.2)\n",
      "Requirement already satisfied: setuptools in /Users/ericwindsor/miniconda3/envs/ml/lib/python3.9/site-packages (from pyLDAvis) (68.2.2)\n",
      "Requirement already satisfied: python-dateutil>=2.8.2 in /Users/ericwindsor/miniconda3/envs/ml/lib/python3.9/site-packages (from pandas>=2.0.0->pyLDAvis) (2.9.0.post0)\n",
      "Requirement already satisfied: pytz>=2020.1 in /Users/ericwindsor/miniconda3/envs/ml/lib/python3.9/site-packages (from pandas>=2.0.0->pyLDAvis) (2024.1)\n",
      "Requirement already satisfied: tzdata>=2022.1 in /Users/ericwindsor/miniconda3/envs/ml/lib/python3.9/site-packages (from pandas>=2.0.0->pyLDAvis) (2024.1)\n",
      "Requirement already satisfied: threadpoolctl>=2.0.0 in /Users/ericwindsor/miniconda3/envs/ml/lib/python3.9/site-packages (from scikit-learn>=1.0.0->pyLDAvis) (2.2.0)\n",
      "Requirement already satisfied: smart-open>=1.8.1 in /Users/ericwindsor/miniconda3/envs/ml/lib/python3.9/site-packages (from gensim->pyLDAvis) (5.2.1)\n",
      "Requirement already satisfied: MarkupSafe>=2.0 in /Users/ericwindsor/miniconda3/envs/ml/lib/python3.9/site-packages (from jinja2->pyLDAvis) (2.1.5)\n",
      "Requirement already satisfied: six>=1.5 in /Users/ericwindsor/miniconda3/envs/ml/lib/python3.9/site-packages (from python-dateutil>=2.8.2->pandas>=2.0.0->pyLDAvis) (1.16.0)\n",
      "\u001b[33mDEPRECATION: nb-black 1.0.7 has a non-standard dependency specifier black>='19.3'; python_version >= \"3.6\". pip 24.1 will enforce this behaviour change. A possible replacement is to upgrade to a newer version of nb-black or contact the author to suggest that they release a version with a conforming dependency specifiers. Discussion can be found at https://github.com/pypa/pip/issues/12063\u001b[0m\u001b[33m\n",
      "\u001b[0m"
     ]
    }
   ],
   "source": [
    "! pip install pyLDAvis"
   ]
  },
  {
   "cell_type": "code",
   "execution_count": 32,
   "metadata": {},
   "outputs": [
    {
     "data": {
      "text/html": [
       "\n",
       "<link rel=\"stylesheet\" type=\"text/css\" href=\"https://cdn.jsdelivr.net/gh/bmabey/pyLDAvis@3.4.0/pyLDAvis/js/ldavis.v1.0.0.css\">\n",
       "\n",
       "\n",
       "<div id=\"ldavis_el7605358262108328951595354\" style=\"background-color:white;\"></div>\n",
       "<script type=\"text/javascript\">\n",
       "\n",
       "var ldavis_el7605358262108328951595354_data = {\"mdsDat\": {\"x\": [-0.2516553414750852, -0.11023383609113498, -0.10133065469291856, 0.19278155362466562, -0.02678844423128201, -0.21294036305531266, 0.16891445510946484, 0.13325989584710882, 0.04837669946730332, 0.1596160354971901], \"y\": [0.05500881014161009, -0.12211956843605185, -0.14103616797645155, 0.04443004959202898, -0.17174745548125747, 0.25556756853059653, 0.018891704894360352, -0.04458924523708729, -0.11903259512125416, 0.22462689909350625], \"topics\": [1, 2, 3, 4, 5, 6, 7, 8, 9, 10], \"cluster\": [1, 1, 1, 1, 1, 1, 1, 1, 1, 1], \"Freq\": [7.438675723486532, 8.644464827817217, 8.068317974755649, 13.075055410601705, 9.433054245720525, 6.689579935528002, 18.94806116272571, 11.489400361445973, 10.37712303134635, 5.836267326572346]}, \"tinfo\": {\"Term\": [\"produit\", \"transition\", \"\\u00e9cologique\", \"\\u00e9nergie\", \"\\u00e9lectrique\", \"nucl\\u00e9aire\", \"voiture\", \"v\\u00e9hicule\", \"transition_\\u00e9cologique\", \"transport\", \"taxer\", \"animal\", \"taxe\", \"ville\", \"falloir\", \"faire\", \"agriculture\", \"d\\u00e9chet\", \"emballage\", \"plan\\u00e8te\", \"\\u00e9cologie\", \"plastique\", \"solaire\", \"voiture_\\u00e9lectrique\", \"pollueur\", \"diesel\", \"panneau\", \"changer\", \"camion\", \"contre\", \"emballage\", \"plastique\", \"produit\", \"consigne\", \"programmer\", \"circuit_court\", \"bouteille\", \"verre\", \"obsolescence\", \"produit_chimique\", \"obsolescence_programmer\", \"faune\", \"huile_palme\", \"trafic\", \"abeille\", \"produit_alimentaire\", \"produit_importer\", \"emballage_plastique\", \"limiter_emballage\", \"\\u00e9lectrom\\u00e9nager\", \"mutation\", \"phytosanitaire\", \"\\u00e9puisement\", \"porteur\", \"vrac\", \"antibiotique\", \"tampon\", \"produit_phytosanitaire\", \"ruine\", \"saison\", \"circuit\", \"recyclable\", \"importer\", \"jeter\", \"producteur\", \"interdir\", \"importation\", \"nocif\", \"chimique\", \"huile\", \"glyphosate\", \"d\\u00e9chet\", \"recyclage\", \"interdire\", \"pesticide\", \"court\", \"alimentaire\", \"vente\", \"local\", \"norme\", \"interdiction\", \"favoriser\", \"consommation\", \"taxer\", \"industriel\", \"produire\", \"utilisation\", \"production\", \"limiter\", \"r\\u00e9duire\", \"agriculture\", \"falloir\", \"camion\", \"avion\", \"vitesse\", \"lourd\", \"routier\", \"bateau\", \"a\\u00e9rien\", \"ferroutage\", \"payeur\", \"limitation\", \"poids_lourd\", \"k\\u00e9ros\\u00e8ne\", \"gros_pollueur\", \"traverser\", \"taxe_carbon\", \"transport_routier\", \"conducteur\", \"m\\u00e9nager\", \"taxer_carburant\", \"fluvial\", \"radar\", \"entreprise_polluer\", \"electriqu\", \"limitation_vitesse\", \"principe_pollueur\", \"transport_a\\u00e9rien\", \"d\\u00e9passement\", \"vignette\", \"croisi\\u00e8re\", \"traverser_france\", \"maritime\", \"fret\", \"pollueur\", \"poids\", \"faire_payer\", \"route\", \"taxer\", \"taxe\", \"marchandise\", \"carburant\", \"transport\", \"gros\", \"\\u00e9tranger\", \"payer\", \"polluer\", \"carbon\", \"pollution\", \"entreprise\", \"france\", \"faire\", \"falloir\", \"particulier\", \"ville\", \"centre\", \"urbain\", \"transport_commun\", \"rural\", \"grand_distribution\", \"b\\u00e9tonner\", \"t\\u00e9l\\u00e9travail\", \"faire_course\", \"zone_rural\", \"centre_commercial\", \"grand_ville\", \"centre_ville\", \"zone_commercial\", \"village\", \"barrage\", \"commer\\u00e7ant\", \"remboursement\", \"localement\", \"rechercher\", \"cyclable\", \"m\\u00e9tropole\", \"ramassage\", \"b\\u00e2ti\", \"agglom\\u00e9ration\", \"d\\u00e9loyal\", \"denr\\u00e9e_alimentaire\", \"gare\", \"p\\u00e9riph\\u00e9rie\", \"repas\", \"v\\u00e9lo\", \"ligne\", \"commun\", \"commerce\", \"zone\", \"parking\", \"commercial\", \"proximit\\u00e9\", \"habiter\", \"commune\", \"transport\", \"campagne\", \"d\\u00e9placement\", \"petit\", \"grand\", \"espace\", \"territoire\", \"service\", \"train\", \"local\", \"r\\u00e9gion\", \"personne\", \"voie\", \"d\\u00e9velopper\", \"travail\", \"public\", \"voiture\", \"favoriser\", \"moyen\", \"falloir\", \"faire\", \"transition\", \"transition_\\u00e9cologique\", \"mentalit\\u00e9\", \"reparation\", \"changer_mentalit\\u00e9\", \"retarder\", \"science\", \"d\\u00e9mographie\", \"financement_transition\", \"trouver_moyen\", \"changer_habitude\", \"exp\\u00e9rimentation\", \"syst\\u00e8me_\\u00e9conomique\", \"populaire\", \"classe_moyen\", \"tabou\", \"regretter\", \"investir_massivement\", \"joue\", \"concret\", \"montr_exemple\", \"abusif\", \"contre_productif\", \"r\\u00e9compenser\", \"appel_offre\", \"surpopulation_mondial\", \"mod\\u00e8le_\\u00e9conomique\", \"d\\u00e9connecter\", \"d\\u00e9localisation\", \"c\\u0153ur\", \"questionnaire\", \"ecologiqu\", \"p\\u00e9dagogie\", \"court_terme\", \"comportement\", \"\\u00e9cologique\", \"crit\\u00e8re\", \"courage\", \"informer\", \"long_terme\", \"financer_transition\", \"terme\", \"action\", \"citoyen\", \"r\\u00f4le\", \"\\u00e9conomique\", \"question\", \"politique\", \"sujet\", \"urgence\", \"volont\\u00e9\", \"changer\", \"choix\", \"priorit\\u00e9\", \"financier\", \"falloir\", \"changement\", \"faire\", \"solution\", \"etat\", \"entreprise\", \"\\u00e9cologie\", \"prendre\", \"environnement\", \"long\", \"\\u00e9tat\", \"mettre\", \"pouvoir\", \"taxe\", \"moyen\", \"devoir\", \"panneau\", \"b\\u00e2timent\", \"isolation\", \"panneau_solaire\", \"cout\", \"mise_place\", \"d\\u00e9pense_public\", \"recours\", \"\\u00e9clairage\", \"chaleur\", \"eolien\", \"toit\", \"r\\u00e9novation\", \"cr\\u00e9dit_imp\\u00f4t\", \"developper\", \"\\u00e9quipement\", \"m\\u00e9thanisation\", \"pompe_chaleur\", \"isoler\", \"implantation\", \"hydrolien\", \"consomme\", \"allumer\", \"b\\u00e2timent_public\", \"parc_\\u00e9olien\", \"panneau_photovolta\\u00efque\", \"toiture\", \"compteur\", \"\\u00e9clairage_public\", \"\\u00e9crire\", \"photovolta\\u00efque\", \"installation\", \"solaire\", \"construction\", \"cr\\u00e9dit\", \"valider\", \"r\\u00e9cup\\u00e9ration\", \"investissement\", \"aide\", \"chauffage\", \"propri\\u00e9taire\", \"habitation\", \"logement\", \"subvention\", \"public\", \"installer\", \"mise\", \"\\u00e9olien\", \"energie\", \"\\u00e9olienne\", \"\\u00e9nergie\", \"place\", \"d\\u00e9pense\", \"imp\\u00f4t\", \"plan\", \"\\u00e9nerg\\u00e9tique\", \"nouveau\", \"mettre\", \"permettre\", \"production\", \"particulier\", \"projet\", \"entreprise\", \"d\\u00e9velopper\", \"animal\", \"chasse\", \"esp\\u00e8ce\", \"\\u00e9levage\", \"lutter\", \"biologique\", \"intensif\", \"lutter_contre\", \"arbre\", \"agriculture_biologique\", \"lutte_contre\", \"al\\u00e9atoire\", \"co\\u00fbt_environnemental\", \"d\\u00e9forestation\", \"p\\u00eache\", \"chasseur\", \"chimie\", \"fermeture\", \"agriculture_intensif\", \"passer_\\u00e9levage\", \"industriel_mise\", \"pollution_visuel\", \"place_pratique\", \"esp\\u00e8ce_animal\", \"pr\\u00e9dateur\", \"production_respectueux\", \"retenue\", \"fruit_l\\u00e9gume\", \"haie\", \"\\n\\n  \", \"sol\", \"biodiversit\\u00e9\", \"agricole\", \"nourrir\", \"for\\u00eat\", \"agriculture\", \"respectueux\", \"prot\\u00e9ger\", \"lutte\", \"pluie\", \"terre_agricole\", \"culture\", \"agriculteur\", \"contre\", \"fruit\", \"terre\", \"pratique\", \"protection\", \"naturel\", \"nature\", \"pesticide\", \"environnement\", \"pollution\", \"sant\\u00e9\", \"industriel\", \"aider\", \"production\", \"interdire\", \"passer\", \"d\\u00e9sordre\", \"r\\u00e9parateur\", \"ministre\", \"net\", \"second\", \"confort\", \"\\u00e9volution\", \"adopter\", \"faible_revenir\", \"majorit\\u00e9_fran\\u00e7ais\", \"jaune\", \"tenter\", \"r\\u00e9union\", \"num\\u00e9rique\", \"salaire\", \"gilet\", \"sant\\u00e9_public\", \"soleil\", \"m\\u00e9got\", \"exportation\", \"mandat\", \"aberrant\", \"centime\", \"conclusion\", \"lib\\u00e9ral\", \"hydrocarbure\", \"minimiser\", \"chaud\", \"direction\", \"lever\", \"perdre\", \"marge\", \"mois\", \"valeur\", \"pr\\u00e9sident\", \"pouvoir_achat\", \"main\", \"bien\", \"cadre\", \"pouvoir\", \"droit\", \"sens\", \"pourtant\", \"savoir\", \"humain\", \"voir\", \"fois\", \"ressource\", \"sanitaire\", \"travail\", \"temps\", \"\\u00eatre\", \"\\u00e9conomie\", \"euro\", \"monde\", \"majorit\\u00e9\", \"fran\\u00e7ais\", \"co\\u00fbt\", \"faire\", \"environnemental\", \"social\", \"syst\\u00e8me\", \"soci\\u00e9t\\u00e9\", \"prendre\", \"devoir\", \"ann\\u00e9e\", \"argent\", \"beaucoup\", \"france\", \"pays\", \"permettre\", \"payer\", \"grand\", \"\\u00e9tat\", \"public\", \"sant\\u00e9\", \"conscience\", \"charbon\", \"r\\u00e9chauffement\", \"r\\u00e9chauffement_climatique\", \"traitement_d\\u00e9chet\", \"centrale_nucl\\u00e9aire\", \"nucl\\u00e9aire\", \"d\\u00e9pendant\", \"r\\u00e9acteur\", \"satisfaisant\", \"para\\u00eetre\", \"\\n     \", \"aspect\", \"centrale\", \"prendre_conscience\", \"fusion\", \"stockage_\\u00e9nergie\", \"facteur\", \"sp\\u00e9cialiste\", \"civilisation\", \"atmosph\\u00e8re\", \"d\\u00e9sastre\", \"\\u00e9chec\", \"expression\", \"indicateur\", \"succ\\u00e8s\", \"b\\u00eate\", \"biomass\", \"taper\", \"prise_conscience\", \"\\u00e9nergie_fossile\", \"traiter\", \"source_\\u00e9nergie\", \"ind\\u00e9pendance\", \"\\u00e9nergie\", \"fossile\", \"\\u00e9nergie_renouvelable\", \"renouvelable\", \"central\", \"climatique\", \"risque\", \"marin\", \"source\", \"\\u00e9mission\", \"annoncer\", \"serre\", \"\\u00e9olien\", \"recherche\", \"\\u00e9nerg\\u00e9tique\", \"d\\u00e9chet\", \"france\", \"production\", \"\\u00e9lectricit\\u00e9\", \"produire\", \"d\\u00e9velopper\", \"abandonner\", \"falloir\", \"solution\", \"p\\u00e9trole\", \"d\\u00e9veloppement\", \"probl\\u00e8me\", \"pays\", \"arr\\u00eater\", \"r\\u00e9duire\", \"\\u00e9lectrique\", \"voiture_\\u00e9lectrique\", \"batterie\", \"hydrog\\u00e8ne\", \"moteur\", \"constructeur\", \"v\\u00e9hicule_\\u00e9lectrique\", \"combustible\", \"hybride\", \"diesel\", \"pile\", \"borne\", \"pile_combustible\", \"constructeur_automobile\", \"recharge\", \"voiture_hybride\", \"produit_issu\", \"brut\", \"particule\", \"s\\u00e9cheresse\", \"ajout\", \"substitution\", \"elec\", \"voiture_hydrog\\u00e8ne\", \"acheter_v\\u00e9hicule\", \"l\\u00e9ger\", \"d\\u00e9pendance\", \"urbanisation\", \"style\", \"\\u00e9thanol\", \"rare\", \"essence\", \"v\\u00e9hicule\", \"automobile\", \"voiture\", \"autonomie\", \"minute\", \"prime\", \"acheter\", \"fabrication\", \"prix\", \"p\\u00e9trole\", \"polluant\", \"solution\", \"\\u00e9lectricit\\u00e9\", \"utiliser\", \"\\u00e9cologique\", \"carburant\", \"polluer\", \"moyen\", \"pollution\", \"faire\", \"falloir\", \"sauver\", \"hulot\", \"tard\", \"\\u00e9duquer\", \"montrer_exemple\", \"nicolas\", \"condamner\", \"nicolas_hulot\", \"sauver_plan\\u00e8te\", \"niveau_mondial\", \"faire_effort\", \"d\\u00e9cemment\", \"vivre_d\\u00e9cemment\", \"surpopulation\", \"excellent\", \"mode_consommation\", \"d\\u00e9mographique\", \"applique\", \"recr\\u00e9er\", \"mensonge\", \"atteinte\", \"changer_mod\\u00e8le\", \"productivit\\u00e9\", \"falloir_absolument\", \"utopique\", \".......\", \"contenter\", \"trop_tard\", \"\\u00e9cologie_punitif\", \"enrayer\", \"acte\", \"enfant\", \"montrer\", \"plan\\u00e8te\", \"\\u00e9cologie\", \"absolument\", \"niveau\", \"trop\", \"rien\", \"mondial\", \"vite\", \"falloir\", \"faire\", \"changer\", \"arr\\u00eater\", \"exemple\", \"donner\", \"pays\", \"effort\", \"vivre\", \"respect\", \"croissance\", \"aller\", \"environnement\", \"france\", \"probl\\u00e8me\", \"monde\", \"agir\", \"chose\", \"fran\\u00e7ais\", \"vouloir\"], \"Freq\": [4552.0, 4727.0, 6110.0, 5336.0, 3106.0, 3268.0, 4015.0, 3024.0, 2909.0, 3342.0, 2939.0, 1831.0, 2839.0, 1711.0, 7418.0, 6757.0, 1681.0, 1825.0, 1202.0, 1430.0, 1511.0, 1058.0, 1417.0, 1171.0, 1196.0, 1145.0, 1084.0, 1688.0, 1019.0, 1441.0, 1201.4048221648895, 1057.4239535911988, 4547.635379926599, 360.59445248826995, 298.23384920616735, 371.6650775642221, 265.1065608704049, 264.61655216687967, 205.49145730017966, 189.62252583513254, 167.3024287514681, 166.0328812817836, 155.91296184977185, 147.27779084634406, 144.4889081305888, 132.10975067426983, 130.85533742860275, 130.7449599054132, 126.31879066474362, 116.11571936802494, 115.25341406858682, 113.99221101741236, 112.73149959599088, 108.57999193975024, 104.41408086047632, 101.03966046527533, 98.47866807096273, 94.71676370666894, 93.7157789550183, 93.36120760479399, 509.84120720801246, 319.36175742614336, 499.0863147317991, 333.03549560767703, 430.3385108481293, 851.7050710247482, 348.74187035926553, 224.50453377031866, 386.43802014967764, 178.22789017738464, 432.2212402053968, 1027.5224473741043, 527.7708114263249, 646.1572756123351, 607.9812420338509, 517.4025791071859, 392.20858416810046, 302.2928773196851, 659.7655340256879, 333.8713724860698, 368.8772445444259, 593.6177340215942, 606.3885742308422, 640.7543443508171, 492.78909566231806, 469.08191173613477, 406.8131767813866, 472.95717662036253, 383.02175143266544, 395.00598403714383, 395.0286521549435, 464.90289938830847, 1018.2156535172493, 954.2296726701785, 731.1463764795262, 717.0307800591686, 670.7392158923883, 485.95330499888394, 474.690734232131, 456.36854320253235, 446.04636778754934, 445.9661048234677, 423.9690497408259, 366.07937917637804, 354.5228402853106, 347.0666610683395, 336.137155352614, 231.1664159362196, 229.8388652750193, 221.20767826375092, 217.85229107235628, 212.0904355419474, 198.25880139736142, 188.27438513519135, 183.37476198537482, 183.06879610748373, 179.85736651788463, 171.48114335096335, 162.88502313296732, 154.46508614316895, 153.54856276955795, 149.74932046032433, 382.1577277880297, 250.79555916720997, 1115.9548820751543, 699.1373581689734, 267.9494284093308, 880.9819201779098, 2054.7221216995313, 1950.96060760887, 313.8170101852388, 759.5140070945058, 1689.1612863592034, 651.126393929777, 463.42461200679026, 702.7880723036204, 704.9535973391468, 387.6751503208602, 701.0180871080162, 663.6219075891793, 510.21455390129256, 526.9358400463092, 424.67103413349224, 378.7008306455245, 1710.8737633876249, 794.9313317235872, 555.4520401906153, 512.0882785720926, 488.0237218683273, 331.48644384523215, 196.2849572145456, 193.9066625635965, 191.26101117191132, 188.1033307637379, 177.9887976580842, 177.28873546837707, 174.61819457794508, 170.5320364238181, 165.14032533832335, 143.7101066177221, 134.34150905123178, 133.1030439117958, 125.41384617736303, 123.93114112173625, 114.42802208373332, 111.99919180605839, 109.63446603934213, 105.91040181182962, 105.67736721426976, 103.89459021110017, 102.93312343061777, 102.67016234542176, 102.15243338871677, 101.8994598093873, 331.6966858879177, 414.69337847031613, 712.8637798384696, 512.9124711918552, 784.9528765838668, 245.56322468812834, 470.0909461111716, 294.606403856235, 161.9587642703796, 372.2904350929337, 1629.0029639268796, 397.3515517615753, 368.182558076843, 612.2123186968454, 1021.9748669620506, 310.63965111667875, 369.47885851359854, 467.6475381102874, 346.7031944861048, 557.9620892118846, 297.48957917892506, 358.0162571197137, 289.28281822561917, 487.1840219522985, 378.7895775468132, 395.4433472496662, 439.7645258807804, 367.3540418614671, 364.25771327504526, 377.97152443282124, 343.7158781570776, 4726.719909798235, 2908.636998852158, 202.53746375383488, 203.35230474247336, 159.03975284097203, 154.74679103687555, 146.5085568952153, 143.92990478264184, 127.28989142715126, 121.97404015131869, 114.12818572904337, 112.89234317368765, 106.20451164515138, 100.18492026012524, 99.1127161979019, 97.91989399569681, 96.5052028467802, 95.8371320287643, 95.63742720536436, 259.25185860113385, 94.73625356991737, 94.05340472342368, 89.1665133125364, 88.98326225612593, 87.9337127772664, 85.38972568052563, 85.24807030759033, 93.50038765932106, 83.30783369630477, 82.75634056165006, 188.56744485683095, 124.65549035531042, 100.01872436814921, 252.08752177663905, 580.8079786855185, 5116.934785223211, 158.23751200462712, 245.8280136827422, 262.5253057657583, 336.5674207050823, 124.26050652660068, 929.4756094042918, 542.8290410562781, 1298.0723136215088, 147.13127767483257, 846.1338347046124, 638.2167949010191, 1188.8553613028485, 511.4460437615073, 297.8602666745194, 270.715661664227, 823.5134434130316, 447.9617353926494, 504.0872278486927, 519.1013310982602, 2164.6320812126896, 445.45015953102524, 1812.6291820074734, 932.3167277105172, 526.8387354608965, 973.638874607998, 625.7591562854728, 693.8054905075434, 700.7325614429734, 387.0488623670253, 541.2554116563962, 617.8302389500705, 632.9403789489079, 602.3579525907804, 507.0628256301847, 500.33249924141086, 1083.3724065754182, 639.5527474737003, 459.0814099309304, 379.22116921533257, 350.4464681114305, 357.152225538933, 326.26389336439337, 262.13158516511993, 251.13728310109425, 244.3063826732599, 206.22290929558315, 204.27871918513634, 188.60430143507742, 185.9721196932116, 154.59447114198736, 153.63567052964288, 141.05070269743004, 140.81361004122036, 126.31992079597536, 114.38123307002718, 112.65496903939616, 104.75185241617794, 103.93512879034189, 103.06555596287116, 99.97851555748603, 98.64930716591783, 98.30863917336242, 97.37507104290793, 96.02490157790325, 94.64136120780131, 544.4408994708584, 405.59080618898497, 1169.6920615564275, 713.5767446151851, 258.53374496775155, 189.77739700880875, 126.12307373775849, 1011.8805205848513, 979.1397956697057, 651.8614807095162, 210.44560515799873, 221.84446941913862, 481.1966229864752, 320.76302696526415, 994.4930068740091, 317.1074427175205, 445.39359308057846, 670.2582262970078, 309.4466084696586, 413.1649990866777, 1283.7522481532053, 693.3731005783081, 458.0264815662104, 454.18986373888345, 409.27752875160854, 463.44074031464544, 453.1230731589711, 568.4275791698469, 485.0725344016268, 534.4819295268529, 414.7271719487707, 396.31613778388834, 414.6220295868385, 391.50577362706406, 1830.6421378835244, 664.9361963574829, 530.3718891160198, 509.94956821081297, 442.6866767370572, 362.4304872918522, 313.49390357130085, 295.346762463106, 263.32301294379295, 209.91761112485196, 186.409929225825, 176.1727911630941, 173.5005745437709, 171.75921432119904, 154.21546116194398, 147.79964866771522, 144.10191390949277, 123.3390760052971, 120.97776621113753, 114.21626270449539, 113.02852191836061, 112.43745361801395, 111.97117105021597, 111.73163693217799, 111.7498594967798, 111.44489143529294, 111.19980092870425, 108.1769463187741, 100.39311511569086, 100.08690433504428, 355.7121324283426, 799.023634019845, 851.2792577331363, 370.02746849973636, 205.78972824824524, 1285.307240927883, 283.11126029619294, 343.94339079813506, 205.91607932896628, 173.96392955200992, 134.9736995600353, 337.43842515341834, 635.1230291373213, 855.3052854355359, 215.77153532054234, 542.1453148415218, 337.5610241782148, 386.08918346723175, 371.34374707434444, 383.90367063728326, 458.46858870605024, 640.539659579459, 548.9574233062549, 405.75564434197815, 409.95259372573145, 384.51463439340824, 359.3315041841659, 303.3591464485754, 305.1067680638367, 312.18624765049174, 307.56151515893936, 302.8680755666058, 242.29376322851806, 237.51763819420978, 186.81958236600906, 189.01025581333252, 181.82494844369893, 177.86488099901467, 174.52859279935433, 151.99824831040806, 143.72914565620948, 135.65232980807664, 135.54700148412036, 135.20500596695575, 134.8744249669037, 131.06448084513335, 130.91528828343692, 125.83248588943458, 124.24528416966271, 122.58515307776848, 121.573737170061, 120.42087940315899, 143.5623194001746, 109.42899557506922, 107.81240718522183, 107.31012612494153, 104.38298363355419, 103.10151158932767, 101.51843906477518, 191.61198726015763, 427.4125571603603, 228.43481331489647, 342.2320997431711, 225.1493277547793, 214.20469275067506, 228.030406027367, 1639.789254717412, 183.74328115878774, 1780.8417511102548, 322.81895918622155, 573.3287378336794, 278.45522420797806, 575.3198899218376, 572.9072214626796, 930.8225461828018, 473.54267385420616, 557.0406196029535, 354.65732200031766, 709.6840377434563, 832.7366275661088, 899.9931623743166, 803.5206760207972, 429.40753383097575, 747.2237022420358, 304.33837367746213, 890.5964001978128, 669.8331069896303, 1563.3273899307392, 529.6138618845381, 425.4021806223283, 534.5279765000706, 456.84698374781135, 736.8175887554343, 749.5634667134683, 450.83128784699437, 463.61520855442654, 541.3499485362624, 784.3603979022402, 593.4936965333156, 556.9863308395776, 517.7118289692027, 635.8888884595201, 529.8797549799752, 551.0795170782745, 479.693651667251, 352.4835146956027, 315.44773175852794, 335.2444445271662, 255.8609843234733, 204.55156331670338, 363.58458330325703, 3250.966018298628, 176.6498341665715, 171.26014788462683, 156.09660723109033, 152.89713228175273, 149.77183725906195, 144.35807764637812, 1055.513800504665, 128.5806773204299, 126.34847618842615, 125.97424158823134, 124.74299230914784, 123.05615575889765, 119.97997197274462, 116.28067269818388, 112.67057609374909, 105.52656379170281, 104.87036543104315, 104.17372674794402, 99.86111165712212, 98.78978687060885, 94.89346800943609, 94.67795731370559, 94.34339342819005, 637.0939049406061, 273.35991511750166, 95.79536621289982, 164.76332440172743, 3983.3787791113264, 749.7762611638047, 740.6121413670298, 1088.5706497528681, 343.1560738706759, 703.3323414627866, 452.9353054393992, 173.63018063576462, 468.0392374065488, 333.17366605750584, 195.42095737252617, 177.30049135135772, 796.8893907273483, 636.8246037931558, 557.772711135432, 745.8635342651844, 1109.2393178523798, 875.752637130891, 558.1452833828648, 625.1868620407198, 791.5683021504298, 293.382769430398, 1187.55854392239, 675.5058286444187, 352.1467343397378, 438.95770982146223, 441.13186200547307, 484.202929520935, 488.13470164626114, 352.07486323637164, 3105.214556211946, 1170.390895087099, 1017.8065985294598, 854.4633710109188, 745.8127599038804, 550.047268387703, 479.8977528604743, 478.8763780675483, 454.67727292777124, 1142.610953947775, 344.69262051829594, 267.02092487343674, 258.7371530510232, 227.06471035067992, 189.74929333071032, 181.789495023428, 180.45639906080515, 169.80544073553872, 172.3625293245868, 163.69741483557556, 160.4844272401813, 145.12303524979677, 142.26829437181533, 138.78507861013543, 133.69831628664954, 133.03807983880318, 129.40014346087426, 128.36032527353495, 119.04281509631234, 111.6689606491292, 210.97610180620532, 577.2067329595991, 2818.6435776521926, 749.4535415692892, 3205.646864912719, 280.7062015692233, 227.1056936120345, 392.0209656332807, 450.1500961660371, 266.2524562849077, 562.3137383110505, 384.13705401617733, 489.93040333906305, 699.0004961831218, 449.007198866806, 512.9927280842888, 875.3896355698135, 389.7955615664753, 410.1881354600962, 433.43463464440794, 439.3868277636348, 470.6200025636703, 450.85999075823844, 359.17170813719054, 282.0524304147588, 247.5614076779328, 247.33036887055664, 238.4257108133577, 226.0580977450318, 222.30945608661057, 220.81488666234046, 203.81238199909566, 174.01040872219707, 172.0309934873751, 156.0056968688473, 155.0391118971705, 154.73665142797077, 122.04634903393375, 116.90945208162873, 127.09023415339833, 115.85052247698836, 112.81042623784911, 111.71501956493832, 110.62333461634091, 109.83931221098351, 109.69373753784026, 104.90546294621865, 103.32890091207517, 102.6143923938933, 100.59102536717988, 97.85288919733269, 93.86648460777583, 89.56347282662914, 194.07841534489407, 752.4360789846996, 428.42472016085253, 936.1036117002749, 819.0771702902292, 185.4424720381205, 684.7515287716756, 671.8098110592649, 532.2484853066312, 387.0251762985646, 286.34509017281533, 1695.0424708852906, 1504.6689956068803, 618.9123283182068, 661.5077862598631, 609.5210730507791, 371.4417223735222, 493.15457571898185, 287.47326261468123, 320.3069191572711, 248.88365188399484, 281.85454310126664, 296.55468693926895, 361.6453099808411, 369.5775242174441, 295.5031382332669, 295.66729025298287, 271.3606149372687, 261.93149607682636, 282.4350278441743, 268.6892925800951], \"Total\": [4552.0, 4727.0, 6110.0, 5336.0, 3106.0, 3268.0, 4015.0, 3024.0, 2909.0, 3342.0, 2939.0, 1831.0, 2839.0, 1711.0, 7418.0, 6757.0, 1681.0, 1825.0, 1202.0, 1430.0, 1511.0, 1058.0, 1417.0, 1171.0, 1196.0, 1145.0, 1084.0, 1688.0, 1019.0, 1441.0, 1202.3487623736246, 1058.3678663540236, 4552.726150479551, 361.53835801630277, 299.17957385188424, 372.9789785224429, 266.0504777104969, 265.56047407852253, 206.43547357593363, 190.56646685069094, 168.2463480682297, 166.97694479649854, 156.85692221163413, 148.22202283868933, 145.43304814337222, 133.05365781234804, 131.79926821475397, 131.68886253387086, 127.26287030408058, 117.05979651553358, 116.19841459969228, 114.93613055945146, 113.67639853772737, 109.52578163336017, 105.35804921056275, 101.98464942041983, 99.42379325476064, 95.66067269164952, 94.66782923479192, 94.31220611615774, 536.0750681615837, 338.574728786516, 552.7246354583551, 366.90270370463884, 516.4970457147999, 1115.0330257731025, 440.6467231945077, 261.0719614795799, 511.4195177131103, 200.37821932401803, 608.5570557608809, 1825.4954309712475, 785.5512034051932, 1024.302811361191, 1067.28684797799, 863.7269698143476, 591.0629161135544, 459.8141648184987, 1708.6303160159023, 549.183665921464, 717.087050869936, 1743.7334408207707, 1979.643763130693, 2939.004333639277, 1664.4414792443902, 1594.6896353232887, 1088.8793176100946, 2512.2363111790914, 1166.824333587592, 1627.0367501388998, 1681.1732189694271, 7418.883585732126, 1019.1539026408981, 955.1679161338607, 732.0846055508305, 717.9691151331077, 671.6774583954726, 486.89152923045924, 475.62895046788503, 457.30681438105375, 446.9846170332595, 446.9044165894619, 424.90727425787895, 367.0175994898392, 355.4610734154356, 348.0049315228062, 337.08650211915113, 232.10463595590633, 230.7770447948551, 222.1462243448845, 218.7906356515886, 213.0286878696711, 199.1969899148176, 189.21263720907942, 184.31334900527688, 184.00700479092876, 180.7956498294952, 172.41935351892624, 163.82354713936834, 155.40330519471792, 154.48676530374792, 150.68753268320933, 386.617854333689, 253.73490060803368, 1196.4725907710374, 757.4527688686816, 279.2879816600063, 1085.6114758307854, 2939.004333639277, 2839.7566174238846, 348.8757011760778, 1150.1467274883676, 3342.434842974661, 1021.7932532578892, 709.6703249283688, 1409.2938074310575, 1513.5840370531012, 580.4314624554383, 2329.2293744144617, 2921.072327029612, 3585.9799999000693, 6757.740196698027, 7418.883585732126, 1280.924902445574, 1711.8119654278817, 795.8696011331344, 556.3903532918545, 513.0264401478693, 488.9619676118423, 332.4248721408882, 197.22355856875234, 194.84485171618712, 192.20157536622392, 189.04157030486633, 178.92697329479208, 178.22690130294686, 175.5563277412419, 171.47022557227214, 166.07850050707836, 144.64854111760584, 135.2798172311138, 134.04290004868932, 126.35214527195406, 124.86961303389394, 115.36617358676125, 112.93737543478495, 110.57264493322504, 106.84905309916742, 106.61695834067696, 104.83373327833412, 103.87199515990869, 103.60832485847331, 103.09058759933457, 102.83773929096657, 342.2927192503955, 437.96004293478154, 799.8134137122437, 609.4717601188348, 1000.1009477405548, 273.532939404619, 600.979661131849, 353.7982741148836, 176.39242825040577, 487.43159775976034, 3342.434842974661, 562.1252246198147, 577.12337141226, 1335.3309934530605, 3095.077860642104, 486.1015579061488, 646.7084100495063, 1001.0694757395408, 601.5409948487385, 1708.6303160159023, 566.2516664958198, 901.3106442033641, 539.0991315120812, 2565.570692592817, 1319.2462298723897, 2200.0134876820625, 4015.118910758958, 1743.7334408207707, 2164.2428826529135, 7418.883585732126, 6757.740196698027, 4727.76141096304, 2909.5916228899446, 203.49220888213938, 204.4037409255479, 159.99479576016606, 155.70229189413465, 147.463437646641, 144.88504467176602, 128.24450640136027, 122.92894104439614, 115.0845059479679, 113.84819864389897, 107.15957317107353, 101.14039300280737, 100.06737921974451, 98.87544367185215, 97.46019958480808, 96.7919894376045, 96.59269650126915, 261.85945310344823, 95.69101364669335, 95.00878014773855, 90.12181720919993, 89.93806611440826, 88.88879582034197, 86.3452363609025, 86.20522121200055, 94.57095266277183, 84.26481549464562, 83.71134032289208, 191.3826785602412, 126.3269025274961, 101.19041889390436, 257.7828698987222, 616.7625496146998, 6110.5657227604, 163.50171484981854, 263.3930872768513, 293.30499733055626, 386.8338078970016, 129.86233568067686, 1326.3341562114103, 715.7398097217206, 2024.9024610871286, 159.45643312029947, 1281.3573004735774, 936.5190492968998, 2081.7987507735174, 839.3482272865549, 413.6707073139044, 365.17599492562516, 1688.3136495270987, 736.2769778313241, 877.5258479259248, 926.6363200232796, 7418.883585732126, 776.8155057253008, 6757.740196698027, 2462.721519818379, 1076.427371558024, 2921.072327029612, 1511.1562403826767, 2084.614057657896, 2236.175106915107, 756.786152476942, 1765.1919868098, 2513.909353879367, 3156.8777896836814, 2839.7566174238846, 2164.2428826529135, 2272.251028677326, 1084.3220462711195, 640.5023324523904, 460.0309454126835, 380.1706915538218, 351.3963281285722, 358.12595451069063, 327.214144604966, 263.10477963662964, 252.08686945192534, 245.25596647924226, 207.17262942160056, 205.22830740455242, 189.55385463240282, 186.92171735760562, 155.54412897286352, 154.58528536989732, 142.00137432338755, 141.7631550909667, 127.26947386452169, 115.33083664177425, 113.60473114572682, 105.7016517038263, 104.88486500311203, 104.01506613640574, 100.92805899008368, 99.59883078658436, 99.25814044350926, 98.3252704629737, 96.97445643252146, 95.59126755607089, 553.7570876960003, 417.90999154101553, 1417.4366703508695, 856.7736159721974, 287.67814171739315, 208.56224076328803, 132.19059239189303, 1618.6251698522315, 1564.4211567699617, 959.0829834075857, 248.4648064615694, 272.0092040824327, 757.2325787004586, 446.3426370387068, 2200.0134876820625, 446.5442100413377, 726.613410496921, 1468.1306151374467, 465.4846632331452, 755.9364982832806, 5336.987316726424, 1904.40825015677, 1005.8248424581252, 995.6503278398249, 825.3066500958734, 1138.0652076906517, 1147.0439795971154, 2513.909353879367, 1777.3875807897248, 2512.2363111790914, 1280.924902445574, 1219.1088965444576, 2921.072327029612, 2565.570692592817, 1831.5870048594659, 665.8813270750193, 531.3168503824247, 510.89442736103814, 443.63173268293053, 363.37537698106127, 314.438775838791, 296.2916640735957, 264.26799463359674, 210.86249675696573, 187.35486080491833, 177.11816476073918, 174.45241054379844, 172.704371282049, 155.19004633609418, 148.74453569368103, 145.04775750021508, 124.28422407687434, 121.92264049640406, 115.16123219875146, 113.9734085173457, 113.38381155673576, 112.91611734035139, 112.67655764435384, 112.69540883470472, 112.38990448918598, 112.14503649442725, 109.12192112590031, 101.33798000068253, 101.05323132335447, 363.4201857299486, 843.6547730258825, 957.6151317042024, 405.55536083477324, 220.009803964316, 1681.1732189694271, 316.8495252088991, 396.49670876999227, 224.64962119492515, 187.0455023525796, 140.03021754320395, 420.5694383725424, 931.8471680973796, 1441.7883281321938, 252.71157004958678, 975.6530097741834, 544.1566796267053, 697.7973584698116, 662.4358183440869, 718.9248172160471, 1067.28684797799, 2236.175106915107, 2329.2293744144617, 1150.2519734011391, 1664.4414792443902, 1432.8651215178127, 2512.2363111790914, 1024.302811361191, 1903.0945605026714, 313.1327063916919, 308.5075791474524, 303.81635890444056, 243.23958899507267, 238.4629846866898, 187.76486302572235, 189.97197886961106, 182.77063107359464, 178.8105740176467, 175.47447417440634, 152.94341486460073, 144.6744457557836, 136.59819819624204, 136.49231492381745, 136.1501413858952, 135.81954823496437, 132.00993083085802, 131.86056891251522, 126.77834264895516, 125.19059960571823, 123.53590791579323, 122.51983476058302, 121.36803707256381, 144.74360501902686, 110.37415252964118, 108.76088553108225, 108.25556472411901, 105.33056569507663, 104.04676059167923, 102.46414794141026, 195.61789469237618, 445.32417511465064, 239.74577446408705, 380.2418630889103, 243.68463425235188, 233.7681782640311, 251.19588821187807, 2677.3458071603523, 199.4341010532128, 3156.8777896836814, 405.52055758174436, 826.3492226237614, 338.60291855053373, 841.0901599866282, 886.198659539999, 1704.2886412285116, 703.2274855020917, 894.4952739345648, 490.7803769338528, 1319.2462298723897, 1677.0386977498365, 1880.167676692505, 1642.3848880791536, 668.6372665838031, 1557.315871091794, 412.5914190343864, 2428.3443669897197, 1523.731336076327, 6757.740196698027, 1062.3571590608437, 732.5914345366468, 1095.7273666218914, 833.9814256090991, 2084.614057657896, 2272.251028677326, 825.8978314311709, 885.7334220587416, 1313.2469063142973, 3585.9799999000693, 1996.4159970366218, 1777.3875807897248, 1409.2938074310575, 3095.077860642104, 1765.1919868098, 2200.0134876820625, 1150.2519734011391, 353.4361794718651, 316.44188179425043, 336.40327639464306, 256.8140368481632, 205.5043300140958, 365.30658151381084, 3268.18511401174, 177.60292235718308, 172.21267685675662, 157.05063421344366, 153.85055595043968, 150.72574678854875, 145.3108935992172, 1062.637520251491, 129.5333166749535, 127.30100827212856, 126.92689048255926, 125.69578607819551, 124.00961888267408, 120.93362789780565, 117.25821084936082, 113.62336405942496, 106.47961606513111, 105.82342599908222, 105.12675853859488, 100.81599760856638, 99.74349726862619, 95.84611402336206, 95.63105981000315, 95.29601103671685, 646.0502180226274, 277.07751856977706, 96.76738061081637, 171.00671087324207, 5336.987316726424, 905.1421601431404, 895.476824856997, 1374.9031974569352, 387.94649426283104, 867.0991009935203, 574.084070390875, 188.26729262456792, 632.21497743365, 423.5747620960238, 219.06729651964633, 194.43267519712032, 1468.1306151374467, 1139.6131328028853, 1138.0652076906517, 1825.4954309712475, 3585.9799999000693, 2512.2363111790914, 1312.7965984165105, 1594.6896353232887, 2565.570692592817, 464.1208663264882, 7418.883585732126, 2462.721519818379, 737.135431253777, 1328.796655409647, 1419.7863717301311, 1996.4159970366218, 2357.360847572827, 1627.0367501388998, 3106.1652614997793, 1171.3415404695318, 1018.7572744665055, 855.4140962865274, 746.7652306097657, 550.9981239667451, 480.8484217073138, 479.82711340650155, 455.62794387990766, 1145.0994268513457, 345.6433310753051, 267.9716241631171, 259.68783919867707, 228.01543917163232, 190.6999486864256, 182.740211910193, 181.40759710223625, 170.76132256709022, 173.36080162302156, 164.64837255353518, 161.43606317132802, 146.07412280263657, 143.22120491964102, 139.73573145170033, 134.64901910205228, 133.98900276213286, 130.3515104789587, 129.31210604989084, 119.99390481288555, 112.62090648291903, 214.13421698567274, 595.4783871707677, 3024.4520726440755, 815.0854808303146, 4015.118910758958, 333.82790698554425, 267.9299789918289, 558.4288753737728, 765.0330128764957, 376.9801966965631, 1435.949912704532, 737.135431253777, 1191.3794243596883, 2462.721519818379, 1312.7965984165105, 1797.969607546498, 6110.5657227604, 1150.1467274883676, 1513.5840370531012, 2164.2428826529135, 2329.2293744144617, 6757.740196698027, 7418.883585732126, 360.1649017961379, 283.0010794509753, 248.51015679308358, 248.27900942565066, 239.37429992991653, 227.00670462976535, 223.2585095562687, 221.76347946308056, 204.7609738401736, 174.95906134509508, 172.9796000867157, 156.95474163126093, 155.98819741511477, 155.70228389869374, 122.99532690340219, 117.85890724583749, 128.1247308293452, 116.79999144738251, 113.76042715500762, 112.66867341243787, 111.57209518765566, 110.78807901267575, 110.64245944367048, 105.85405596060171, 104.27777662164493, 103.56357731028828, 101.5398889974773, 98.80144529262219, 94.81505093518986, 90.51218480065988, 203.95054569384425, 900.2035192173081, 537.6055395556687, 1430.1390503519463, 1511.1562403826767, 232.86552348082088, 1518.0061417883549, 1546.5816374511028, 1143.382972965671, 750.0588488341346, 478.6954508031162, 7418.883585732126, 6757.740196698027, 1688.3136495270987, 2357.360847572827, 2442.905833942464, 1048.6229344199692, 1996.4159970366218, 621.8573220388148, 805.497535142709, 456.8736374001899, 647.116683667364, 1020.1647987630979, 2236.175106915107, 3585.9799999000693, 1419.7863717301311, 1557.315871091794, 892.4776736307526, 738.3616122526042, 2428.3443669897197, 1257.2605183521478], \"Category\": [\"Default\", \"Default\", \"Default\", \"Default\", \"Default\", \"Default\", \"Default\", \"Default\", \"Default\", \"Default\", \"Default\", \"Default\", \"Default\", \"Default\", \"Default\", \"Default\", \"Default\", \"Default\", \"Default\", \"Default\", \"Default\", \"Default\", \"Default\", \"Default\", \"Default\", \"Default\", \"Default\", \"Default\", \"Default\", \"Default\", \"Topic1\", \"Topic1\", \"Topic1\", \"Topic1\", \"Topic1\", \"Topic1\", \"Topic1\", \"Topic1\", \"Topic1\", \"Topic1\", \"Topic1\", \"Topic1\", \"Topic1\", \"Topic1\", \"Topic1\", \"Topic1\", \"Topic1\", \"Topic1\", \"Topic1\", \"Topic1\", \"Topic1\", \"Topic1\", \"Topic1\", \"Topic1\", \"Topic1\", \"Topic1\", \"Topic1\", \"Topic1\", \"Topic1\", \"Topic1\", \"Topic1\", \"Topic1\", \"Topic1\", \"Topic1\", \"Topic1\", \"Topic1\", \"Topic1\", \"Topic1\", \"Topic1\", \"Topic1\", \"Topic1\", \"Topic1\", \"Topic1\", \"Topic1\", \"Topic1\", \"Topic1\", \"Topic1\", \"Topic1\", \"Topic1\", \"Topic1\", \"Topic1\", \"Topic1\", \"Topic1\", \"Topic1\", \"Topic1\", \"Topic1\", \"Topic1\", \"Topic1\", \"Topic1\", \"Topic1\", \"Topic1\", \"Topic1\", \"Topic2\", \"Topic2\", \"Topic2\", \"Topic2\", \"Topic2\", \"Topic2\", \"Topic2\", \"Topic2\", \"Topic2\", \"Topic2\", \"Topic2\", \"Topic2\", \"Topic2\", \"Topic2\", \"Topic2\", \"Topic2\", \"Topic2\", \"Topic2\", \"Topic2\", \"Topic2\", \"Topic2\", \"Topic2\", \"Topic2\", \"Topic2\", \"Topic2\", \"Topic2\", \"Topic2\", \"Topic2\", \"Topic2\", \"Topic2\", \"Topic2\", \"Topic2\", \"Topic2\", \"Topic2\", \"Topic2\", \"Topic2\", \"Topic2\", \"Topic2\", \"Topic2\", \"Topic2\", \"Topic2\", \"Topic2\", \"Topic2\", \"Topic2\", \"Topic2\", \"Topic2\", \"Topic2\", \"Topic2\", \"Topic2\", \"Topic2\", \"Topic2\", \"Topic2\", \"Topic3\", \"Topic3\", \"Topic3\", \"Topic3\", \"Topic3\", \"Topic3\", \"Topic3\", \"Topic3\", \"Topic3\", \"Topic3\", \"Topic3\", \"Topic3\", \"Topic3\", \"Topic3\", \"Topic3\", \"Topic3\", \"Topic3\", \"Topic3\", \"Topic3\", \"Topic3\", \"Topic3\", \"Topic3\", \"Topic3\", \"Topic3\", \"Topic3\", \"Topic3\", \"Topic3\", \"Topic3\", \"Topic3\", \"Topic3\", \"Topic3\", \"Topic3\", \"Topic3\", \"Topic3\", \"Topic3\", \"Topic3\", \"Topic3\", \"Topic3\", \"Topic3\", \"Topic3\", \"Topic3\", \"Topic3\", \"Topic3\", \"Topic3\", \"Topic3\", \"Topic3\", \"Topic3\", \"Topic3\", \"Topic3\", \"Topic3\", \"Topic3\", \"Topic3\", \"Topic3\", \"Topic3\", \"Topic3\", \"Topic3\", \"Topic3\", \"Topic3\", \"Topic3\", \"Topic3\", \"Topic3\", \"Topic4\", \"Topic4\", \"Topic4\", \"Topic4\", \"Topic4\", \"Topic4\", \"Topic4\", \"Topic4\", \"Topic4\", \"Topic4\", \"Topic4\", \"Topic4\", \"Topic4\", \"Topic4\", \"Topic4\", \"Topic4\", \"Topic4\", \"Topic4\", \"Topic4\", \"Topic4\", \"Topic4\", \"Topic4\", \"Topic4\", \"Topic4\", \"Topic4\", \"Topic4\", \"Topic4\", \"Topic4\", \"Topic4\", \"Topic4\", \"Topic4\", \"Topic4\", \"Topic4\", \"Topic4\", \"Topic4\", \"Topic4\", \"Topic4\", \"Topic4\", \"Topic4\", \"Topic4\", \"Topic4\", \"Topic4\", \"Topic4\", \"Topic4\", \"Topic4\", \"Topic4\", \"Topic4\", \"Topic4\", \"Topic4\", \"Topic4\", \"Topic4\", \"Topic4\", \"Topic4\", \"Topic4\", \"Topic4\", \"Topic4\", \"Topic4\", \"Topic4\", \"Topic4\", \"Topic4\", \"Topic4\", \"Topic4\", \"Topic4\", \"Topic4\", \"Topic4\", \"Topic4\", \"Topic4\", \"Topic4\", \"Topic4\", \"Topic4\", \"Topic4\", \"Topic5\", \"Topic5\", \"Topic5\", \"Topic5\", \"Topic5\", \"Topic5\", \"Topic5\", \"Topic5\", \"Topic5\", \"Topic5\", \"Topic5\", \"Topic5\", \"Topic5\", \"Topic5\", \"Topic5\", \"Topic5\", \"Topic5\", \"Topic5\", \"Topic5\", \"Topic5\", \"Topic5\", \"Topic5\", \"Topic5\", \"Topic5\", \"Topic5\", \"Topic5\", \"Topic5\", \"Topic5\", \"Topic5\", \"Topic5\", \"Topic5\", \"Topic5\", \"Topic5\", \"Topic5\", \"Topic5\", \"Topic5\", \"Topic5\", \"Topic5\", \"Topic5\", \"Topic5\", \"Topic5\", \"Topic5\", \"Topic5\", \"Topic5\", \"Topic5\", \"Topic5\", \"Topic5\", \"Topic5\", \"Topic5\", \"Topic5\", \"Topic5\", \"Topic5\", \"Topic5\", \"Topic5\", \"Topic5\", \"Topic5\", \"Topic5\", \"Topic5\", \"Topic5\", \"Topic5\", \"Topic5\", \"Topic5\", \"Topic5\", \"Topic5\", \"Topic6\", \"Topic6\", \"Topic6\", \"Topic6\", \"Topic6\", \"Topic6\", \"Topic6\", \"Topic6\", \"Topic6\", \"Topic6\", \"Topic6\", \"Topic6\", \"Topic6\", \"Topic6\", \"Topic6\", \"Topic6\", \"Topic6\", \"Topic6\", \"Topic6\", \"Topic6\", \"Topic6\", \"Topic6\", \"Topic6\", \"Topic6\", \"Topic6\", \"Topic6\", \"Topic6\", \"Topic6\", \"Topic6\", \"Topic6\", \"Topic6\", \"Topic6\", \"Topic6\", \"Topic6\", \"Topic6\", \"Topic6\", \"Topic6\", \"Topic6\", \"Topic6\", \"Topic6\", \"Topic6\", \"Topic6\", \"Topic6\", \"Topic6\", \"Topic6\", \"Topic6\", \"Topic6\", \"Topic6\", \"Topic6\", \"Topic6\", \"Topic6\", \"Topic6\", \"Topic6\", \"Topic6\", \"Topic6\", \"Topic6\", \"Topic6\", \"Topic6\", \"Topic6\", \"Topic7\", \"Topic7\", \"Topic7\", \"Topic7\", \"Topic7\", \"Topic7\", \"Topic7\", \"Topic7\", \"Topic7\", \"Topic7\", \"Topic7\", \"Topic7\", \"Topic7\", \"Topic7\", \"Topic7\", \"Topic7\", \"Topic7\", \"Topic7\", \"Topic7\", \"Topic7\", \"Topic7\", \"Topic7\", \"Topic7\", \"Topic7\", \"Topic7\", \"Topic7\", \"Topic7\", \"Topic7\", \"Topic7\", \"Topic7\", \"Topic7\", \"Topic7\", \"Topic7\", \"Topic7\", \"Topic7\", \"Topic7\", \"Topic7\", \"Topic7\", \"Topic7\", \"Topic7\", \"Topic7\", \"Topic7\", \"Topic7\", \"Topic7\", \"Topic7\", \"Topic7\", \"Topic7\", \"Topic7\", \"Topic7\", \"Topic7\", \"Topic7\", \"Topic7\", \"Topic7\", \"Topic7\", \"Topic7\", \"Topic7\", \"Topic7\", \"Topic7\", \"Topic7\", \"Topic7\", \"Topic7\", \"Topic7\", \"Topic7\", \"Topic7\", \"Topic7\", \"Topic7\", \"Topic7\", \"Topic7\", \"Topic7\", \"Topic7\", \"Topic7\", \"Topic7\", \"Topic7\", \"Topic7\", \"Topic7\", \"Topic7\", \"Topic8\", \"Topic8\", \"Topic8\", \"Topic8\", \"Topic8\", \"Topic8\", \"Topic8\", \"Topic8\", \"Topic8\", \"Topic8\", \"Topic8\", \"Topic8\", \"Topic8\", \"Topic8\", \"Topic8\", \"Topic8\", \"Topic8\", \"Topic8\", \"Topic8\", \"Topic8\", \"Topic8\", \"Topic8\", \"Topic8\", \"Topic8\", \"Topic8\", \"Topic8\", \"Topic8\", \"Topic8\", \"Topic8\", \"Topic8\", \"Topic8\", \"Topic8\", \"Topic8\", \"Topic8\", \"Topic8\", \"Topic8\", \"Topic8\", \"Topic8\", \"Topic8\", \"Topic8\", \"Topic8\", \"Topic8\", \"Topic8\", \"Topic8\", \"Topic8\", \"Topic8\", \"Topic8\", \"Topic8\", \"Topic8\", \"Topic8\", \"Topic8\", \"Topic8\", \"Topic8\", \"Topic8\", \"Topic8\", \"Topic8\", \"Topic8\", \"Topic8\", \"Topic8\", \"Topic8\", \"Topic8\", \"Topic8\", \"Topic8\", \"Topic8\", \"Topic9\", \"Topic9\", \"Topic9\", \"Topic9\", \"Topic9\", \"Topic9\", \"Topic9\", \"Topic9\", \"Topic9\", \"Topic9\", \"Topic9\", \"Topic9\", \"Topic9\", \"Topic9\", \"Topic9\", \"Topic9\", \"Topic9\", \"Topic9\", \"Topic9\", \"Topic9\", \"Topic9\", \"Topic9\", \"Topic9\", \"Topic9\", \"Topic9\", \"Topic9\", \"Topic9\", \"Topic9\", \"Topic9\", \"Topic9\", \"Topic9\", \"Topic9\", \"Topic9\", \"Topic9\", \"Topic9\", \"Topic9\", \"Topic9\", \"Topic9\", \"Topic9\", \"Topic9\", \"Topic9\", \"Topic9\", \"Topic9\", \"Topic9\", \"Topic9\", \"Topic9\", \"Topic9\", \"Topic9\", \"Topic9\", \"Topic9\", \"Topic9\", \"Topic9\", \"Topic9\", \"Topic10\", \"Topic10\", \"Topic10\", \"Topic10\", \"Topic10\", \"Topic10\", \"Topic10\", \"Topic10\", \"Topic10\", \"Topic10\", \"Topic10\", \"Topic10\", \"Topic10\", \"Topic10\", \"Topic10\", \"Topic10\", \"Topic10\", \"Topic10\", \"Topic10\", \"Topic10\", \"Topic10\", \"Topic10\", \"Topic10\", \"Topic10\", \"Topic10\", \"Topic10\", \"Topic10\", \"Topic10\", \"Topic10\", \"Topic10\", \"Topic10\", \"Topic10\", \"Topic10\", \"Topic10\", \"Topic10\", \"Topic10\", \"Topic10\", \"Topic10\", \"Topic10\", \"Topic10\", \"Topic10\", \"Topic10\", \"Topic10\", \"Topic10\", \"Topic10\", \"Topic10\", \"Topic10\", \"Topic10\", \"Topic10\", \"Topic10\", \"Topic10\", \"Topic10\", \"Topic10\", \"Topic10\", \"Topic10\", \"Topic10\", \"Topic10\", \"Topic10\", \"Topic10\", \"Topic10\", \"Topic10\"], \"logprob\": [30.0, 29.0, 28.0, 27.0, 26.0, 25.0, 24.0, 23.0, 22.0, 21.0, 20.0, 19.0, 18.0, 17.0, 16.0, 15.0, 14.0, 13.0, 12.0, 11.0, 10.0, 9.0, 8.0, 7.0, 6.0, 5.0, 4.0, 3.0, 2.0, 1.0, -3.8608, -3.9884, -2.5296, -5.0643, -5.2541, -5.034, -5.3719, -5.3737, -5.6266, -5.707, -5.8322, -5.8398, -5.9027, -5.9597, -5.9788, -6.0684, -6.0779, -6.0788, -6.1132, -6.1974, -6.2049, -6.2159, -6.227, -6.2645, -6.3036, -6.3365, -6.3622, -6.4011, -6.4117, -6.4155, -4.7179, -5.1857, -4.7392, -5.1438, -4.8874, -4.2048, -5.0977, -5.5381, -4.995, -5.7689, -4.8831, -4.0171, -4.6833, -4.481, -4.5419, -4.7032, -4.9802, -5.2406, -4.4601, -5.1413, -5.0415, -4.5658, -4.5445, -4.4894, -4.7519, -4.8012, -4.9437, -4.793, -5.0039, -4.9731, -4.973, -4.8102, -4.1764, -4.2413, -4.5076, -4.5271, -4.5939, -4.9161, -4.9396, -4.9789, -5.0018, -5.002, -5.0526, -5.1994, -5.2315, -5.2527, -5.2847, -5.6591, -5.6649, -5.7031, -5.7184, -5.7452, -5.8127, -5.8643, -5.8907, -5.8924, -5.9101, -5.9578, -6.0092, -6.0623, -6.0682, -6.0933, -5.1564, -5.5776, -4.0848, -4.5524, -5.5114, -4.3212, -3.4743, -3.5262, -5.3534, -4.4696, -3.6702, -4.6235, -4.9636, -4.5472, -4.5441, -5.1421, -4.5497, -4.6045, -4.8674, -4.8352, -5.0509, -5.1655, -3.5885, -4.355, -4.7135, -4.7948, -4.8429, -5.2297, -5.7537, -5.7659, -5.7796, -5.7963, -5.8515, -5.8555, -5.8707, -5.8943, -5.9265, -6.0655, -6.1329, -6.1421, -6.2016, -6.2135, -6.2933, -6.3148, -6.3361, -6.3707, -6.3729, -6.3899, -6.3992, -6.4017, -6.4068, -6.4093, -5.229, -5.0057, -4.464, -4.7932, -4.3676, -5.5297, -4.8803, -5.3476, -5.9459, -5.1136, -3.6375, -5.0484, -5.1247, -4.6162, -4.1038, -5.2946, -5.1212, -4.8855, -5.1848, -4.709, -5.3379, -5.1527, -5.3659, -4.8446, -5.0963, -5.0533, -4.947, -5.1269, -5.1354, -5.0984, -5.1934, -3.055, -3.5406, -6.2051, -6.2011, -6.4469, -6.4742, -6.5289, -6.5467, -6.6696, -6.7122, -6.7787, -6.7896, -6.8507, -6.909, -6.9198, -6.9319, -6.9464, -6.9534, -6.9555, -5.9582, -6.9649, -6.9722, -7.0255, -7.0276, -7.0394, -7.0688, -7.0705, -6.9781, -7.0935, -7.1001, -6.2766, -6.6905, -6.9107, -5.9862, -5.1516, -2.9757, -6.4519, -6.0114, -5.9457, -5.6972, -6.6936, -4.6814, -5.2192, -4.3474, -6.5247, -4.7753, -5.0573, -4.4353, -5.2788, -5.8194, -5.915, -4.8024, -5.4113, -5.2933, -5.2639, -3.836, -5.4169, -4.0135, -4.6783, -5.2491, -4.635, -5.0771, -4.9738, -4.9639, -5.5575, -5.2221, -5.0898, -5.0656, -5.1152, -5.2874, -5.3007, -4.2017, -4.7288, -5.0603, -5.2514, -5.3303, -5.3114, -5.4018, -5.6207, -5.6635, -5.6911, -5.8606, -5.87, -5.9499, -5.9639, -6.1487, -6.155, -6.2404, -6.2421, -6.3507, -6.45, -6.4652, -6.5379, -6.5458, -6.5542, -6.5846, -6.598, -6.6014, -6.611, -6.6249, -6.6394, -4.8898, -5.1842, -4.125, -4.6192, -5.6345, -5.9437, -6.3523, -4.27, -4.3029, -4.7097, -5.8403, -5.7876, -5.0133, -5.4188, -4.2873, -5.4303, -5.0906, -4.6819, -5.4547, -5.1657, -4.032, -4.648, -5.0626, -5.071, -5.1751, -5.0509, -5.0734, -4.8467, -5.0052, -4.9082, -5.1619, -5.2073, -5.1622, -5.2195, -3.3334, -4.3462, -4.5723, -4.6116, -4.753, -4.953, -5.0981, -5.1577, -5.2725, -5.4992, -5.6179, -5.6744, -5.6897, -5.6998, -5.8075, -5.85, -5.8753, -6.0309, -6.0503, -6.1078, -6.1182, -6.1235, -6.1276, -6.1298, -6.1296, -6.1323, -6.1345, -6.1621, -6.2368, -6.2398, -4.9717, -4.1625, -4.0991, -4.9323, -5.519, -3.6871, -5.2, -5.0054, -5.5184, -5.687, -5.9408, -5.0245, -4.392, -4.0944, -5.4716, -4.5503, -5.0241, -4.8898, -4.9287, -4.8955, -4.718, -4.3836, -4.5378, -4.8401, -4.8298, -4.8939, -4.9616, -5.1309, -5.1252, -6.1434, -6.1583, -6.1737, -6.3969, -6.4168, -6.6569, -6.6452, -6.684, -6.706, -6.7249, -6.8631, -6.9191, -6.9769, -6.9777, -6.9802, -6.9827, -7.0113, -7.0125, -7.0521, -7.0648, -7.0782, -7.0865, -7.096, -6.9202, -7.1917, -7.2066, -7.2113, -7.2389, -7.2513, -7.2668, -6.6315, -5.8293, -6.4558, -6.0515, -6.4703, -6.5201, -6.4575, -4.4847, -6.6735, -4.4022, -6.1099, -5.5356, -6.2578, -5.5321, -5.5363, -5.0509, -5.7268, -5.5644, -6.0159, -5.3222, -5.1623, -5.0846, -5.198, -5.8246, -5.2707, -6.1689, -5.0951, -5.38, -4.5324, -5.6149, -5.834, -5.6056, -5.7627, -5.2847, -5.2675, -5.7759, -5.748, -5.593, -5.2221, -5.501, -5.5645, -5.6376, -5.432, -5.6144, -5.5751, -5.7139, -5.5217, -5.6327, -5.5719, -5.8421, -6.0659, -5.4907, -3.3, -6.2126, -6.2436, -6.3363, -6.357, -6.3776, -6.4144, -4.425, -6.5302, -6.5477, -6.5507, -6.5605, -6.5741, -6.5994, -6.6307, -6.6623, -6.7278, -6.734, -6.7407, -6.783, -6.7937, -6.834, -6.8363, -6.8398, -4.9298, -5.7759, -6.8245, -6.2822, -3.0969, -4.767, -4.7793, -4.3941, -5.5486, -4.8309, -5.271, -6.2298, -5.2382, -5.5781, -6.1116, -6.2089, -4.706, -4.9302, -5.0628, -4.7722, -4.3753, -4.6117, -5.0621, -4.9487, -4.7127, -5.7053, -4.3071, -4.8713, -5.5227, -5.3023, -5.2974, -5.2042, -5.1961, -5.5229, -3.2441, -4.2198, -4.3595, -4.5344, -4.6704, -4.9749, -5.1113, -5.1135, -5.1653, -4.2438, -5.4423, -5.6976, -5.7291, -5.8597, -6.0392, -6.0821, -6.0894, -6.1503, -6.1353, -6.1869, -6.2067, -6.3073, -6.3272, -6.352, -6.3893, -6.3943, -6.422, -6.4301, -6.5054, -6.5694, -5.9332, -4.9267, -3.3409, -4.6656, -3.2122, -5.6476, -5.8595, -5.3136, -5.1753, -5.7005, -4.9529, -5.3339, -5.0907, -4.7353, -5.1779, -5.0447, -4.5102, -5.3193, -5.2683, -5.2132, -5.1995, -5.1309, -5.1738, -4.8256, -5.0673, -5.1977, -5.1987, -5.2353, -5.2886, -5.3053, -5.3121, -5.3922, -5.5503, -5.5617, -5.6595, -5.6657, -5.6677, -5.905, -5.948, -5.8645, -5.9571, -5.9837, -5.9935, -6.0033, -6.0104, -6.0117, -6.0563, -6.0715, -6.0784, -6.0983, -6.1259, -6.1675, -6.2145, -5.4411, -4.0861, -4.6493, -3.8677, -4.0012, -5.4867, -4.1803, -4.1994, -4.4323, -4.7509, -5.0522, -3.2739, -3.3931, -4.2814, -4.2149, -4.2967, -4.792, -4.5086, -5.0483, -4.9401, -5.1924, -5.068, -5.0172, -4.8187, -4.797, -5.0207, -5.0202, -5.106, -5.1413, -5.066, -5.1159], \"loglift\": [30.0, 29.0, 28.0, 27.0, 26.0, 25.0, 24.0, 23.0, 22.0, 21.0, 20.0, 19.0, 18.0, 17.0, 16.0, 15.0, 14.0, 13.0, 12.0, 11.0, 10.0, 9.0, 8.0, 7.0, 6.0, 5.0, 4.0, 3.0, 2.0, 1.0, 2.5977, 2.5976, 2.5974, 2.5959, 2.5953, 2.5949, 2.5949, 2.5949, 2.5939, 2.5935, 2.5929, 2.5928, 2.5924, 2.5921, 2.592, 2.5914, 2.5913, 2.5913, 2.591, 2.5904, 2.5903, 2.5902, 2.5901, 2.5898, 2.5895, 2.5892, 2.5889, 2.5886, 2.5884, 2.5883, 2.5483, 2.5401, 2.4964, 2.5016, 2.416, 2.3291, 2.3646, 2.4476, 2.3183, 2.4813, 2.2563, 2.0238, 2.2008, 2.1378, 2.0357, 2.086, 2.1883, 2.1791, 1.6469, 2.1008, 1.9337, 1.5209, 1.4153, 1.0753, 1.3813, 1.3748, 1.6139, 0.9286, 1.4845, 1.1829, 1.1502, -0.1715, 2.4473, 2.4473, 2.447, 2.4469, 2.4469, 2.4463, 2.4463, 2.4462, 2.4461, 2.4461, 2.446, 2.4457, 2.4456, 2.4456, 2.4454, 2.4442, 2.4442, 2.444, 2.444, 2.4438, 2.4435, 2.4433, 2.4431, 2.4431, 2.443, 2.4428, 2.4425, 2.4422, 2.4422, 2.442, 2.4366, 2.4366, 2.3786, 2.3681, 2.4068, 2.2394, 2.0903, 2.0729, 2.3423, 2.0333, 1.7658, 1.9976, 2.0221, 1.7525, 1.6841, 2.0446, 1.2475, 0.9663, 0.4983, -0.1031, -0.4122, 1.2297, 2.5167, 2.516, 2.5155, 2.5154, 2.5153, 2.5144, 2.5125, 2.5124, 2.5123, 2.5122, 2.512, 2.5119, 2.5119, 2.5117, 2.5116, 2.5107, 2.5103, 2.5102, 2.5098, 2.5097, 2.5091, 2.5089, 2.5087, 2.5084, 2.5084, 2.5082, 2.5081, 2.5081, 2.5081, 2.5081, 2.4858, 2.4626, 2.4021, 2.3447, 2.275, 2.4094, 2.2716, 2.3341, 2.4319, 2.2477, 1.7985, 2.1703, 2.0677, 1.7374, 1.4091, 2.0694, 1.9574, 1.7561, 1.9662, 1.3981, 1.8736, 1.594, 1.8947, 0.8559, 1.2694, 0.801, 0.3056, 0.9598, 0.7353, -0.4597, -0.4614, 2.0342, 2.0341, 2.0298, 2.0293, 2.0285, 2.0283, 2.028, 2.0278, 2.027, 2.0267, 2.0261, 2.026, 2.0255, 2.025, 2.0249, 2.0248, 2.0246, 2.0245, 2.0245, 2.0245, 2.0244, 2.0244, 2.0238, 2.0238, 2.0237, 2.0233, 2.0233, 2.0231, 2.023, 2.023, 2.0196, 2.0211, 2.0228, 2.0121, 1.9744, 1.857, 2.0017, 1.9654, 1.9236, 1.8953, 1.9904, 1.6789, 1.7579, 1.5898, 1.954, 1.6195, 1.651, 1.4742, 1.5391, 1.706, 1.7352, 1.3166, 1.5376, 1.4801, 1.455, 0.8027, 1.4783, 0.7186, 1.0631, 1.32, 0.9358, 1.1528, 0.9343, 0.8741, 1.3639, 0.8523, 0.6311, 0.4275, 0.4838, 0.5833, 0.5212, 2.3601, 2.3595, 2.3589, 2.3584, 2.3582, 2.3582, 2.358, 2.3572, 2.3572, 2.3571, 2.3564, 2.3563, 2.3559, 2.3559, 2.3548, 2.3548, 2.3542, 2.3542, 2.3535, 2.3527, 2.3526, 2.3519, 2.3519, 2.3518, 2.3515, 2.3514, 2.3513, 2.3512, 2.3511, 2.351, 2.344, 2.331, 2.1688, 2.1781, 2.2541, 2.2666, 2.314, 1.8912, 1.8924, 1.9748, 2.1949, 2.1571, 1.9076, 2.0306, 1.567, 2.0187, 1.8715, 1.5769, 1.9527, 1.7568, 0.9361, 1.3506, 1.5743, 1.5761, 1.6596, 1.4625, 1.4322, 0.8742, 1.0623, 0.8133, 1.2332, 1.2373, 0.4086, 0.481, 2.7041, 2.7032, 2.7028, 2.7028, 2.7025, 2.702, 2.7016, 2.7014, 2.701, 2.7001, 2.6996, 2.6993, 2.6991, 2.6991, 2.6983, 2.6982, 2.6981, 2.697, 2.6968, 2.6964, 2.6963, 2.6962, 2.6962, 2.6962, 2.6962, 2.6962, 2.6962, 2.6959, 2.6953, 2.695, 2.6832, 2.6503, 2.5869, 2.6129, 2.6378, 2.4361, 2.592, 2.5624, 2.6175, 2.6321, 2.6678, 2.4844, 2.3213, 2.1824, 2.5466, 2.117, 2.2271, 2.1128, 2.1258, 2.0773, 1.8596, 1.4544, 1.2593, 1.6626, 1.3034, 1.3892, 0.7599, 1.4878, 0.874, 1.6604, 1.6604, 1.6603, 1.6596, 1.6595, 1.6584, 1.6584, 1.6583, 1.6582, 1.6581, 1.6573, 1.6569, 1.6565, 1.6565, 1.6565, 1.6565, 1.6563, 1.6563, 1.656, 1.6559, 1.6557, 1.6557, 1.6556, 1.6553, 1.6549, 1.6547, 1.6547, 1.6544, 1.6543, 1.6542, 1.6428, 1.6224, 1.6151, 1.5582, 1.5844, 1.5761, 1.5667, 1.1732, 1.5815, 1.091, 1.4354, 1.2979, 1.4679, 1.2837, 1.2273, 1.0586, 1.268, 1.1898, 1.3386, 1.0435, 0.9634, 0.9267, 0.9486, 1.2206, 0.9291, 1.3592, 0.6604, 0.8416, 0.1996, 0.9674, 1.1199, 0.9457, 1.0616, 0.6235, 0.5544, 1.0581, 1.0161, 0.7773, 0.1436, 0.4504, 0.5031, 0.662, 0.0809, 0.4601, 0.2791, 0.7889, 2.161, 2.1606, 2.1603, 2.16, 2.1591, 2.159, 2.1585, 2.1584, 2.1582, 2.1577, 2.1575, 2.1574, 2.1572, 2.157, 2.1564, 2.1562, 2.1562, 2.1561, 2.156, 2.1558, 2.1554, 2.1553, 2.1548, 2.1547, 2.1546, 2.1542, 2.1541, 2.1538, 2.1537, 2.1537, 2.1498, 2.1502, 2.1536, 2.1266, 1.8712, 1.9754, 1.9739, 1.9302, 2.0411, 1.9544, 1.9267, 2.0828, 1.8631, 1.9237, 2.0495, 2.0715, 1.5527, 1.5818, 1.4506, 1.2687, 0.9904, 1.1099, 1.3084, 1.2274, 0.9878, 1.7051, 0.3316, 0.8702, 1.425, 1.0561, 0.9948, 0.7471, 0.589, 0.6331, 2.2653, 2.2648, 2.2646, 2.2645, 2.2643, 2.2638, 2.2636, 2.2636, 2.2635, 2.2634, 2.2628, 2.262, 2.2619, 2.2614, 2.2606, 2.2604, 2.2603, 2.26, 2.2598, 2.2598, 2.2597, 2.259, 2.2589, 2.2587, 2.2585, 2.2584, 2.2582, 2.2582, 2.2576, 2.2571, 2.2507, 2.2344, 2.1951, 2.1816, 2.0404, 2.0922, 2.1003, 1.9118, 1.7352, 1.9178, 1.328, 1.6138, 1.377, 1.0062, 1.1927, 1.0114, 0.3225, 1.1835, 0.9599, 0.6575, 0.5977, -0.3988, -0.5351, 2.8383, 2.8377, 2.8373, 2.8373, 2.8371, 2.8369, 2.8368, 2.8368, 2.8364, 2.8356, 2.8356, 2.835, 2.835, 2.8349, 2.8333, 2.833, 2.833, 2.8329, 2.8327, 2.8326, 2.8325, 2.8325, 2.8325, 2.8321, 2.8319, 2.8319, 2.8317, 2.8314, 2.831, 2.8305, 2.7915, 2.6618, 2.6141, 2.4173, 2.2286, 2.6134, 2.045, 2.0073, 2.0764, 2.1794, 2.3272, 1.3648, 1.339, 1.8376, 1.5703, 1.4528, 1.8032, 1.4428, 2.0695, 1.9189, 2.2337, 2.0099, 1.6056, 1.0192, 0.5687, 1.2715, 1.1796, 1.6505, 1.8047, 0.6896, 1.2979]}, \"token.table\": {\"Topic\": [6, 8, 10, 1, 2, 3, 5, 6, 7, 8, 9, 1, 7, 4, 9, 10, 4, 1, 3, 7, 9, 9, 4, 10, 4, 5, 7, 8, 7, 3, 4, 6, 7, 8, 10, 1, 3, 5, 6, 1, 6, 1, 6, 6, 6, 1, 3, 4, 5, 6, 7, 9, 10, 1, 3, 4, 5, 6, 7, 9, 10, 9, 1, 6, 1, 2, 3, 4, 7, 8, 9, 10, 5, 6, 6, 7, 8, 2, 3, 4, 7, 8, 9, 1, 4, 10, 6, 4, 5, 7, 8, 1, 2, 3, 4, 6, 8, 9, 10, 8, 8, 10, 2, 9, 3, 5, 9, 2, 2, 3, 2, 9, 1, 2, 3, 4, 5, 6, 7, 8, 9, 10, 2, 3, 4, 5, 6, 7, 8, 9, 10, 1, 6, 10, 6, 8, 9, 1, 9, 3, 5, 5, 3, 8, 6, 7, 8, 2, 3, 5, 6, 10, 1, 2, 5, 9, 2, 9, 7, 5, 8, 9, 8, 9, 8, 9, 3, 3, 3, 5, 4, 7, 8, 9, 3, 4, 7, 9, 10, 4, 4, 10, 8, 6, 6, 7, 4, 5, 8, 9, 6, 1, 6, 3, 4, 7, 8, 9, 3, 4, 6, 7, 8, 9, 10, 1, 3, 5, 1, 2, 3, 4, 5, 7, 8, 10, 8, 4, 7, 8, 9, 1, 3, 5, 3, 5, 6, 3, 3, 4, 7, 3, 5, 3, 4, 7, 5, 7, 4, 7, 10, 2, 7, 8, 1, 1, 2, 3, 4, 5, 6, 7, 8, 9, 10, 5, 9, 9, 3, 5, 6, 9, 10, 2, 4, 5, 6, 7, 8, 9, 4, 4, 8, 1, 3, 4, 5, 7, 8, 9, 4, 8, 5, 2, 3, 4, 5, 7, 8, 9, 6, 4, 8, 2, 4, 7, 10, 5, 7, 5, 1, 6, 7, 3, 4, 3, 5, 1, 2, 3, 4, 5, 6, 7, 8, 9, 10, 2, 9, 7, 1, 3, 4, 5, 6, 7, 8, 9, 10, 2, 4, 5, 6, 7, 10, 1, 3, 8, 4, 6, 4, 3, 4, 10, 2, 9, 8, 4, 5, 7, 5, 2, 3, 9, 8, 7, 2, 3, 4, 5, 6, 7, 8, 9, 10, 1, 2, 3, 5, 6, 8, 9, 10, 4, 9, 2, 4, 7, 8, 10, 9, 2, 1, 1, 5, 8, 9, 4, 7, 10, 10, 1, 2, 3, 4, 5, 7, 2, 1, 4, 6, 7, 8, 9, 10, 1, 4, 5, 6, 7, 8, 5, 3, 6, 6, 6, 2, 9, 1, 4, 5, 7, 8, 9, 5, 7, 9, 10, 1, 2, 3, 4, 5, 7, 8, 9, 10, 7, 8, 4, 1, 5, 9, 8, 7, 1, 2, 3, 4, 5, 6, 7, 8, 9, 10, 3, 10, 2, 4, 1, 2, 3, 4, 5, 6, 7, 8, 9, 10, 10, 1, 1, 2, 3, 5, 6, 7, 8, 9, 10, 6, 2, 4, 2, 4, 4, 5, 7, 8, 9, 2, 2, 3, 4, 5, 7, 8, 9, 10, 3, 6, 8, 9, 1, 2, 3, 4, 5, 6, 7, 8, 9, 10, 1, 2, 4, 5, 7, 8, 9, 10, 2, 3, 6, 7, 6, 8, 3, 7, 1, 6, 1, 2, 3, 4, 5, 6, 7, 8, 9, 10, 3, 3, 1, 2, 4, 7, 8, 9, 10, 2, 3, 5, 9, 3, 5, 6, 1, 9, 1, 10, 4, 6, 7, 8, 9, 7, 9, 5, 5, 1, 2, 6, 9, 1, 2, 9, 2, 4, 5, 7, 8, 1, 2, 3, 4, 5, 6, 7, 8, 9, 10, 6, 8, 9, 4, 7, 8, 10, 5, 9, 3, 5, 9, 6, 1, 2, 6, 7, 9, 1, 2, 3, 6, 9, 1, 2, 3, 6, 9, 4, 4, 5, 7, 8, 5, 5, 7, 1, 3, 10, 4, 2, 7, 7, 2, 3, 2, 2, 1, 2, 3, 5, 6, 7, 8, 9, 10, 1, 1, 3, 5, 6, 7, 10, 3, 3, 5, 2, 3, 4, 5, 7, 8, 9, 4, 8, 9, 2, 6, 7, 6, 6, 6, 9, 4, 7, 8, 9, 4, 7, 9, 10, 7, 7, 2, 3, 3, 7, 2, 8, 2, 5, 10, 4, 1, 2, 3, 4, 5, 6, 7, 8, 9, 10, 7, 7, 2, 7, 9, 2, 4, 5, 6, 7, 8, 9, 5, 10, 4, 7, 9, 2, 3, 4, 6, 7, 8, 9, 10, 4, 7, 8, 10, 4, 4, 7, 10, 10, 9, 2, 3, 4, 5, 7, 8, 9, 10, 1, 7, 2, 5, 3, 1, 3, 6, 7, 10, 1, 6, 7, 8, 9, 7, 10, 10, 1, 2, 3, 4, 5, 7, 8, 9, 10, 10, 1, 6, 9, 1, 2, 4, 5, 7, 8, 9, 4, 6, 7, 3, 4, 5, 7, 8, 9, 8, 9, 7, 1, 1, 5, 5, 5, 8, 5, 3, 5, 9, 1, 2, 3, 4, 5, 6, 7, 8, 9, 10, 2, 3, 4, 6, 7, 8, 9, 10, 6, 2, 3, 4, 5, 7, 2, 1, 2, 4, 5, 6, 7, 8, 9, 10, 7, 8, 2, 3, 4, 5, 6, 7, 8, 9, 10, 2, 3, 4, 7, 9, 1, 6, 1, 2, 3, 4, 5, 6, 7, 8, 9, 10, 5, 8, 9, 1, 9, 9, 1, 2, 3, 4, 5, 6, 7, 8, 9, 6, 3, 4, 5, 6, 7, 8, 1, 4, 6, 7, 9, 10, 1, 2, 6, 2, 7, 2, 2, 4, 6, 7, 8, 10, 1, 2, 3, 8, 9, 1, 2, 4, 6, 7, 8, 9, 10, 1, 2, 4, 10, 1, 2, 3, 6, 7, 8, 9, 10, 6, 5, 4, 1, 4, 7, 8, 9, 3, 4, 5, 6, 7, 8, 9, 10, 5, 7, 1, 3, 4, 6, 7, 10, 2, 3, 4, 7, 8, 9, 10, 8, 5, 7, 9, 2, 4, 5, 6, 7, 8, 10, 8, 1, 2, 3, 5, 6, 7, 8, 9, 4, 6, 7, 8, 9, 10, 1, 3, 5, 6, 7, 8, 9, 1, 5, 6, 8, 9, 10, 6, 10, 1, 5, 6, 7, 8, 9, 10, 1, 2, 6, 9, 1, 1, 1, 9, 1, 1, 3, 4, 5, 6, 7, 8, 5, 6, 9, 4, 6, 10, 4, 6, 7, 10, 3, 5, 6, 6, 4, 7, 3, 4, 5, 7, 8, 4, 3, 8, 9, 6, 4, 7, 8, 4, 7, 8, 2, 3, 1, 9, 9, 4, 5, 6, 8, 9, 3, 5, 10, 1, 9, 1, 5, 9, 4, 3, 5, 8, 4, 3, 4, 6, 7, 10, 4, 6, 10, 1, 4, 5, 6, 7, 8, 9, 10, 4, 6, 2, 4, 7, 8, 9, 10, 3, 7, 8, 9, 2, 3, 2, 1, 3, 8, 8, 8, 4, 2, 5, 1, 2, 3, 4, 5, 7, 8, 9, 3, 5, 7, 9, 10, 5, 7, 7, 4, 8, 1, 7, 5, 7, 8, 1, 6, 7, 7, 8, 10, 10, 4, 6, 7, 8, 9, 4, 7, 4, 6, 7, 8, 6, 8, 9, 2, 3, 5, 7, 3, 4, 5, 7, 2, 4, 5, 7, 8, 10, 1, 6, 8, 5, 8, 9, 7, 3, 4, 5, 8, 9, 4, 5, 8, 9, 10, 8, 8, 8, 9, 9, 4, 5, 6, 7, 9, 8, 4, 7, 8, 10, 4, 1, 4, 5, 7, 9, 4, 9, 4, 1, 8, 10, 1, 2, 4, 5, 7, 9, 2, 1, 2, 4, 2, 2, 3, 4, 7, 8, 9, 10, 7, 3, 4, 5, 7, 8, 9, 6, 7, 8, 9, 10, 3, 6, 2, 3, 4, 5, 6, 7, 5, 5, 1, 2, 3, 7, 8, 3, 8, 4, 4, 2, 3, 8, 9, 2, 3, 2, 3, 5, 7, 2, 2, 1, 2, 3, 4, 5, 6, 7, 8, 9, 10, 10, 4, 3, 3, 9, 1, 4, 7, 8, 1, 2, 3, 5, 6, 7, 8, 9, 1, 2, 3, 4, 5, 6, 7, 8, 9, 10, 10, 7, 10, 5, 6, 1, 2, 5, 6, 7, 9, 1, 2, 3, 3, 4, 7, 8, 9, 10, 2, 4, 6, 7, 10, 10, 2, 3, 6, 7, 9, 2, 3, 4, 5, 6, 7, 8, 9, 10, 2, 3, 9, 9, 9, 9, 4, 8, 3, 4, 7, 8, 9, 10, 1, 2, 9, 9, 3, 9, 3, 5, 6, 3, 3, 8, 5, 5, 4, 7, 8, 10, 10, 2, 4, 5, 7, 8, 9, 4, 5, 7, 8, 4, 7, 8, 5, 10, 5, 8, 9, 9, 1, 6, 2, 5, 7, 8, 9, 5, 8, 9, 8, 9, 5, 8, 4, 5, 8, 9, 5, 8, 5, 8, 9, 1, 5, 2, 3, 4, 5, 7, 8, 9, 10, 9, 1, 2, 5, 7, 9, 7, 1, 2, 3, 4, 5, 6, 7, 8, 9, 10], \"Freq\": [0.9895774602201063, 0.9951849846226545, 0.9945581513798066, 0.03016455629502257, 0.034473778622882936, 0.04740144560646404, 0.008618444655720734, 0.032319167458952754, 0.04740144560646404, 0.6313010710315439, 0.16805967078655432, 0.9901463377020092, 0.9957571379230241, 0.1417126911134096, 0.06012053562387074, 0.7944499350297205, 0.9893822429235498, 0.23789823045111055, 0.014378464477814374, 0.1581631092559581, 0.5882099104560425, 0.9951799195688134, 0.044128344787614085, 0.9512109876441258, 0.7586555793384167, 0.011177246104433394, 0.22494207785172204, 0.004191467289162523, 0.9957836164975306, 0.9942133188727297, 0.26443238522697315, 0.006722857251533216, 0.4044919113005818, 0.01904809554601078, 0.30364905252758356, 0.09293921644869245, 0.013575391166662943, 0.00417704343589629, 0.8886659909869357, 0.31764865541670834, 0.6814422168567897, 0.23495496808005198, 0.7643471746401691, 0.9959096720837949, 0.9924325745189937, 0.004474498423719097, 0.001278428121062599, 0.06839590447684905, 0.6257905652601423, 0.09396446689810103, 0.08629389817172545, 0.11889381525882171, 0.0006392140605312995, 0.07886297063348209, 0.020239169454610448, 0.2973064202642776, 0.25752598375004326, 0.26869242206982835, 0.0006979023949865671, 0.030009802984422386, 0.0467594604641, 0.9911044462859333, 0.6632119683257025, 0.3349897186951253, 0.011762805396294245, 0.014703506745367806, 0.17938278229348723, 0.1293908593592367, 0.21467119848236996, 0.003920935132098081, 0.15585717150089873, 0.2911294335582825, 0.9915634633930666, 0.9936868995777499, 0.9996795102509963, 0.1049905684938113, 0.8901374285344872, 0.0012108035182355828, 0.009686428145884662, 0.0012108035182355828, 0.5460723867242478, 0.30754409363183804, 0.1343991905241497, 0.9903451212901588, 0.9900010365520266, 0.9931507576544396, 0.9952018607650359, 0.3725725955253775, 0.04854733820482192, 0.5238596494659853, 0.054192377530964, 0.08696165468730466, 0.0895068738488843, 0.07593237165379284, 0.08271962275133857, 0.08823426426809448, 0.20701115847514473, 0.08908267065528769, 0.28082251416095455, 0.9909786970078597, 0.9892697420483653, 0.9948724169184647, 0.0797462370864287, 0.9189220242728475, 0.011982221726517346, 0.14378666071820814, 0.8417510762878435, 0.9987772661600821, 0.9986776446907483, 0.995516435128934, 0.9981689366585031, 0.999256668408182, 0.006853242872095557, 0.059394771558161495, 0.07005537158142125, 0.1340189717209798, 0.015229428604656793, 0.009137657162794076, 0.4119560437559663, 0.06624801443025705, 0.1439181003140067, 0.08223891446514668, 0.004108546595132149, 0.02353076686302958, 0.13109998680830764, 0.002241025415526627, 0.03398888546882051, 0.6125469469106113, 0.07992990648711636, 0.07992990648711636, 0.032494868525136084, 0.0011853189621785273, 0.9470698507806433, 0.05096871537367667, 0.9962149967549041, 0.991172161417459, 0.9963741528001276, 0.9960515849490787, 0.9955415983218852, 0.9920537143330657, 0.999215721119286, 0.9902411624189656, 0.9937960830966053, 0.9925459073625239, 0.05014187617458566, 0.9226105216123761, 0.02507093808729283, 0.9988677837195069, 0.7062483279744388, 0.06404266953924383, 0.18145423036119082, 0.046253039111676095, 0.08614281484411894, 0.668468243190363, 0.03790283853141233, 0.20501989932900308, 0.6607852562078316, 0.3390871709487557, 0.9887281931424343, 0.007733025157761887, 0.8841425430374424, 0.10568467715607913, 0.9937537305760481, 0.0056463280146366365, 0.9964233288423208, 0.0027374267275887933, 0.9989073572707183, 0.9948192646546095, 0.9968310584505853, 0.994878956474445, 0.572851593100617, 0.2729090735670355, 0.1480402993406089, 0.005149227803151613, 0.0005923070042584224, 0.48806097150894007, 0.07463068253656123, 0.07048453350675227, 0.3666380356359635, 0.9905764382526157, 0.9937823242597387, 0.9928866082009998, 0.9954434546208775, 0.9986764502334213, 0.9949945341507247, 0.9873677152847683, 0.09175431273667198, 0.6798160443671606, 0.008341301157879271, 0.22000181803906577, 0.992776465363737, 0.7547619647487397, 0.24246239282083867, 0.22681681626375466, 0.6084666687794137, 0.019014583399356678, 0.12087842303876746, 0.02308913698493311, 0.0013543499328861174, 0.21263293946312042, 0.009480449530202823, 0.39140713060408794, 0.014897849261747292, 0.014897849261747292, 0.35483968241616276, 0.9513592970271766, 0.02798115579491696, 0.01865410386327797, 0.9973752447756677, 0.0898808725346148, 0.012346273699809725, 0.6410185304941209, 0.001481552843977167, 0.18321870170517632, 0.000987701895984778, 0.0716083874588964, 0.9922798322184248, 0.9893333948778594, 0.187983126511416, 0.810749312500156, 0.9982762262002464, 0.15587268552274988, 0.8417125018228494, 0.0016407651107657884, 0.7820564162102096, 0.18303448038962353, 0.03327899643447701, 0.9905394813704741, 0.8914579172793452, 0.06626545528163436, 0.04125962309988554, 0.7631840071708832, 0.23387896993946422, 0.009728217129506785, 0.9420156920405736, 0.047019716125949455, 0.9865215680899372, 0.9948626053708617, 0.9890801990550305, 0.00763768493478788, 0.9943629940073951, 0.996632919900912, 0.9959264847884901, 0.9959365238895147, 0.9985109242093795, 0.3061156816626673, 0.025257069444114464, 0.02172107972193844, 0.07223521861016736, 0.16871722388668461, 0.03586503861064254, 0.11264652972075051, 0.04849357333269977, 0.10557455027639846, 0.10355398472086931, 0.9933619608348949, 0.9981885165786784, 0.995546620986187, 0.06769582876824036, 0.8333589955262692, 0.03384791438412018, 0.0641943203836762, 0.9946829861367023, 0.10056954767267705, 0.011097329398364364, 0.0006935830873977727, 0.5930135397250957, 0.25801290851197145, 0.03537273745728641, 0.0013871661747955454, 0.9875522127278475, 0.9339652856623017, 0.06454231648885825, 0.5985687816499764, 0.03589097143355758, 0.317229876541767, 0.027786558529205866, 0.005788866360251222, 0.013893279264602933, 0.0011577732720502445, 0.9775668961207773, 0.019396168573824944, 0.9960263439973644, 0.034783034741857614, 0.041345871485604334, 0.07612890622746195, 0.13191301854930906, 0.43971006183103023, 0.19557253496365226, 0.08072289194808466, 0.9974066821869174, 0.9663507208173808, 0.0244645752105666, 0.9968491456029204, 0.3616040289270034, 0.20089112718166857, 0.43577921434792716, 0.9003117110455833, 0.0973309957887117, 0.9950689659252261, 0.18070737687002078, 0.8012945526999606, 0.014266371858159536, 0.9881579362105322, 0.9915024616718798, 0.991605098577665, 0.9965017710635774, 0.08229724517226973, 0.017603688806902617, 0.10078111841951749, 0.22004611008628272, 0.08713825959416796, 0.03476728539363267, 0.3300691651294241, 0.048410144218982196, 0.019804149907765446, 0.05897235750312377, 0.001746573225959387, 0.9981665986357897, 0.9899395177156247, 0.003814526526842123, 0.0743832672734214, 0.09250226827592148, 0.04958884484894759, 0.08296595195881618, 0.29085764767171185, 0.020026264265921145, 0.02956258058302645, 0.3537973353646069, 0.034523527200413004, 0.0764449530866288, 0.02219369605740836, 0.06904705440082601, 0.7965070918381001, 0.9939170895932284, 0.5631347975782425, 0.027937621280632652, 0.4086561857912149, 0.9939627058129807, 0.9959215202439857, 0.9849899927126051, 0.9920470896889596, 0.9938914007738268, 0.9912215945971955, 0.9949729623503529, 0.9896318003988389, 0.9966052227678409, 0.1153282312221567, 0.45534767154954975, 0.4285040315237029, 0.996289449508878, 0.22352239813876928, 0.6376452908144736, 0.13688580971288972, 0.9945137686726214, 0.9963826634248962, 0.01204096950038413, 0.1008431195657171, 0.11890457381629328, 0.2129746480380443, 0.09407007422175101, 0.006020484750192065, 0.33037410066678957, 0.12191481619138932, 0.0022576817813220245, 0.08536112477129766, 0.10952728794856001, 0.18982131398914137, 0.15279251557236842, 0.026504824129900642, 0.30870324574825453, 0.1274570219187869, 0.0003897768254397153, 0.9894962790906134, 0.007915970232724907, 0.008040429569289388, 0.42131850943076393, 0.043418319674162695, 0.0643234365543151, 0.46152065727721087, 0.9914732953103821, 0.9928743685014412, 0.9988782270038171, 0.9947690144738423, 0.6638242339796113, 0.31794817679282356, 0.015038089442903817, 0.0011108599096229495, 0.16218554680495065, 0.8353666520364581, 0.9943412613253354, 0.12255773220242171, 0.2273137826324246, 0.08387330835081933, 0.3334391931987674, 0.14207111414526538, 0.09072010903251886, 0.9935911404916393, 0.057240597842349264, 0.31348171162099087, 0.2866501813823897, 0.1784296760866981, 0.0013415765119300608, 0.0013415765119300608, 0.161883565772894, 0.06494990824083881, 0.3633429649415041, 0.013178242251764396, 0.007530424143865369, 0.4988905995310807, 0.05083036297109124, 0.9943398439027665, 0.6397840018032703, 0.36000707496968587, 0.9975215346897489, 0.9939955776205971, 0.028548475253266987, 0.9689688365373559, 0.08082291689970308, 0.4895824966223394, 0.1783678166062413, 0.1783678166062413, 0.045520953196384495, 0.026940972299901028, 0.06730106479094963, 0.6416034843403866, 0.2886467889922951, 0.9919076039028386, 0.11052411282028937, 0.029063748186076092, 0.12689805546033225, 0.10888671855628508, 0.09251277591624221, 0.1465467866283837, 0.02333286826206109, 0.1129802042162958, 0.24970262526065376, 0.9904897044229521, 0.9922188684470549, 0.9925497403208634, 0.25200262727982736, 0.03978988851786748, 0.7056073563835167, 0.9944645234346785, 0.9954668563528759, 0.03299919699620332, 0.07798464940358364, 0.050904590882035625, 0.2682849513637517, 0.021160920046892715, 0.0025156338517285048, 0.23129033589715606, 0.02264070466555654, 0.06969785553906621, 0.22270758510890584, 0.9937483583891837, 0.9943369039688806, 0.9595830024875619, 0.035805335913715, 0.06267789413683215, 0.05728624732936273, 0.05095106233058614, 0.2918228834542831, 0.03315862786593701, 0.012265996486992961, 0.04259400977900852, 0.16013191018184217, 0.06079081775421786, 0.22847103346651723, 0.9919317596963919, 0.9941492234290836, 0.34064839619087983, 0.10207982242757005, 0.21046794848830452, 0.19555741262809767, 0.10380026887297854, 0.001720446445408484, 0.0005734821484694947, 0.041290714689803616, 0.003440892890816968, 0.9896670387057331, 0.9971423684494567, 0.9902958307043157, 0.03850231072614217, 0.9548573060083259, 0.5600902843814295, 0.27950555617493306, 0.14460905222950204, 0.01079172031563448, 0.003237516094690344, 0.995171129860686, 0.01848619439372202, 0.03555037383408081, 0.03555037383408081, 0.02417425420717495, 0.6740350878941721, 0.1052291065488792, 0.07821082243497778, 0.028440299067264647, 0.05908827591205211, 0.9363219106063642, 0.8285991229061676, 0.17124381873394132, 0.07278345110883867, 0.1422205366494549, 0.01561637265170485, 0.016452964043760464, 0.045454798968355185, 0.0039040931629262124, 0.2186292171238679, 0.30925995126322636, 0.07222572351413492, 0.10317960502019276, 0.020590160390629504, 0.11654030781096299, 0.09800916345939643, 0.06053507154845074, 0.36691665816101776, 0.11901112705783853, 0.10253899874533492, 0.1161285046031504, 0.9892214251903071, 0.007882242431795276, 0.8547293658047264, 0.14245489430078773, 0.989718645764989, 0.9897800630977924, 0.9941286102318103, 0.993965903689014, 0.7098759202781225, 0.28756547696451723, 0.06171088696307472, 0.038125050584517366, 0.3302017092998029, 0.13828408178113077, 0.10048212484563475, 0.02067799353736535, 0.20548756077756816, 0.06720347899643739, 0.0019385618941280016, 0.03521720774332536, 0.9957137017705332, 0.9931160711768119, 0.13016331784922472, 0.6371151873672578, 0.13603534722588148, 0.007829372502209005, 0.06263498001767204, 0.01370140187886576, 0.012722730316089633, 0.9987028863357515, 0.12499577032583156, 0.816148853303959, 0.05882153897686191, 0.9184067684017913, 0.0793684861581795, 0.9867968554270223, 0.888320100859706, 0.10480180965198779, 0.9945369181063112, 0.9964626302736463, 0.06319124882119326, 0.2640491468599861, 0.6465818852597095, 0.025953548622990086, 0.9986218056018241, 0.9930040517106234, 0.9983468868555403, 0.9946768841435741, 0.988460704174826, 0.7920176904298605, 0.10212262484052642, 0.061273574904315856, 0.04311844159933338, 0.9028003602303647, 0.04342125981067886, 0.05246735560457029, 0.04318785300185993, 0.1456334577969695, 0.45598337820568385, 0.35454214208503615, 0.9892819054419791, 0.29619545423958565, 0.028838502644016453, 0.0012016042768340188, 0.17303101586409872, 0.059479411703283934, 0.24632887675097387, 0.07630187157896019, 0.1021363635308916, 0.0036048128305020567, 0.013217647045174207, 0.9914593366118593, 0.964874414328134, 0.02923861861600406, 0.8966775281486173, 0.010228260777360654, 0.006818840518240436, 0.08523550647800546, 0.9715010605582838, 0.02632145730576631, 0.18587185352222232, 0.709896115259572, 0.10301331640990635, 0.9954243053040995, 0.5145818761506664, 0.050203109868357694, 0.32632021414432505, 0.0013945308296766028, 0.10877340471477501, 0.7641029281704639, 0.040357549023087885, 0.012555681918294008, 0.18205738781526312, 0.0008968344227352863, 0.6306728760624348, 0.01952547603908467, 0.0410034996820778, 0.29581096199213275, 0.011715285623450802, 0.9918176138107478, 0.2483589205749838, 0.625221959258417, 0.06981233339545564, 0.05622055167244658, 0.9977589650805803, 0.9900253075150366, 0.9938316084714343, 0.907597563707432, 0.02180414567465302, 0.06813795523329069, 0.993863961533972, 0.9972273823074052, 0.9954701429647796, 0.9875500513648596, 0.05023289305704108, 0.9475750281214567, 0.997976263926045, 0.9945273562162869, 0.3282413547396667, 0.16026405570840124, 0.16712027199539167, 0.07113324397752568, 0.09684405505373979, 0.07970351433626371, 0.055706757331797224, 0.005999189251116624, 0.03599513550669974, 0.9900766790732985, 0.3862743121279474, 0.32657737298090095, 0.15802130950688756, 0.04213901586850335, 0.08193697529986763, 0.0058526410928476874, 0.9892985966400193, 0.36316451211323647, 0.6352077466416973, 0.08588952082071882, 0.12949496985277606, 0.5113729931941259, 0.033034431084891853, 0.05946197595280534, 0.117602574662215, 0.06474748492638803, 0.8711751483979127, 0.12408429413382732, 0.002585089461121403, 0.9986501994129259, 0.9169835181749844, 0.08012477343276563, 0.9927684779615669, 0.9985759975304065, 0.9956405655972999, 0.9926187766029679, 0.047771482588434215, 0.90765816918025, 0.007961913764739035, 0.03184765505895614, 0.0072711158342097576, 0.7368064045332554, 0.05332151611753822, 0.19874383280173338, 0.9972960501711791, 0.9956619259546906, 0.900034020545111, 0.09745591305265532, 0.03817443774666685, 0.9588520539898087, 0.07436235898881287, 0.9242178902895313, 0.9880557654491989, 0.01034613366962512, 0.9940651345916703, 0.997581190528899, 0.11575596373470673, 0.12848514187735488, 0.1010378515072698, 0.24583225287989263, 0.2259429120320049, 0.017502619946141225, 0.09904891742248101, 0.027845077187042856, 0.028242864004000612, 0.009944670423943877, 0.9884018458790667, 0.9973129856885115, 0.11570187149884192, 0.03359086591901862, 0.8472362848463586, 0.001376247651851228, 0.04954491546664421, 0.6124302050737965, 0.23258585316285754, 0.08532735441477614, 0.005504990607404912, 0.013762476518512281, 0.9968559818228505, 0.9927124112558933, 0.9860191622380203, 0.9510073764997826, 0.04171084984648169, 0.01669539268342014, 0.0006421304878238516, 0.16117475244378673, 0.03339078536684028, 0.4796714744044171, 0.012842609756477032, 0.1059515304909355, 0.19007062439586006, 0.10932475515415618, 0.11732412748250907, 0.25731314322868465, 0.5159595151787615, 0.992778698643065, 0.0018600998807164462, 0.19903068723665976, 0.796122748946639, 0.9942587824577706, 0.9989752728456026, 0.02310276743925818, 0.16818814695779957, 0.23426206183407797, 0.10119012138395084, 0.10442450882544699, 0.1132035604523651, 0.20006996602397586, 0.054984586505434474, 0.9896864806303867, 0.9938606024286785, 0.994840225854548, 0.9929481363954473, 0.9917000423360622, 0.033383184757673566, 0.023646422536685443, 0.5341309561227771, 0.1307508069675548, 0.27680224028237665, 0.03924908539063161, 0.5600542569201665, 0.34569386747902464, 0.02566286352464375, 0.027172443731975734, 0.9949038353493609, 0.9955653088246569, 0.9965572353710852, 0.0052700709040447245, 0.014492694986122993, 0.0013175177260111811, 0.11133024784794482, 0.1277992194230846, 0.1403156378201908, 0.1396568789571852, 0.007905106356067088, 0.45124982115882956, 0.9945183671098726, 0.8618313461348038, 0.10341976153617646, 0.034473253845392154, 0.6081754078384474, 0.040059458001334855, 0.00182088445460613, 0.25492382364485816, 0.00182088445460613, 0.00182088445460613, 0.09286510718491262, 0.007397263825646299, 0.9123292051630436, 0.07890414747356053, 0.051436563069467485, 0.08282158460337985, 0.39492818763506393, 0.12815550459680883, 0.22231056919854592, 0.12030924921333074, 0.9947416950349409, 0.00489568351908922, 0.9963930941892792, 0.993046381268355, 0.9925921240933903, 0.9987807623430088, 0.9939875721245413, 0.9969206159763736, 0.9944715445115865, 0.990804747466957, 0.8993432401064817, 0.09870840440193092, 0.9921504653284849, 0.10148916595485086, 0.29587995305298825, 0.046841153517623475, 0.11710288379405868, 0.32398464516356235, 0.003122743567841565, 0.042937724057821515, 0.02498194854273252, 0.03356949335429682, 0.010929602487445476, 0.013136499109848045, 0.055698756225755715, 0.22542232472499246, 0.16026528914014615, 0.21018398575756872, 0.060953355869694935, 0.15501068949620694, 0.11927941191742025, 0.9899164660139503, 0.49883139789102543, 0.013481929672730417, 0.11920864131677421, 0.0014191504918663596, 0.36755997739338714, 0.9977972015238586, 0.015527825886996909, 0.11069837164601022, 0.03806821830360532, 0.0005008976092579648, 0.007513464138869472, 0.29703228228997314, 0.24243444288085497, 0.04107360395915311, 0.24694252136417666, 0.9815052978764259, 0.015336020279319155, 0.003375740927217514, 0.1339043901129614, 0.12659028477065679, 0.2728723916167491, 0.03657052671152307, 0.31338128274335925, 0.051761360884001885, 0.059638089714176085, 0.001687870463608757, 0.061022246163100084, 0.3971993477525424, 0.039941833852210964, 0.48152099699609885, 0.019970916926105482, 0.5696687831878338, 0.4291254978618879, 0.01422868194713844, 0.021717461919316564, 0.4583133342973013, 0.07114340973569219, 0.003744389986089063, 0.06590126375516751, 0.15651550141852283, 0.0052421459805246885, 0.06140799577186064, 0.14228681947138438, 0.9823802025964194, 0.0018058459606551827, 0.01264092172458628, 0.9918552107601427, 0.99813874298311, 0.9973512845237592, 0.07981481911112674, 0.0635367967924101, 0.12392300861990731, 0.21423977761407703, 0.3638925634474397, 0.11184576625440787, 0.03203094714328113, 0.004200779953217197, 0.006301169929825795, 0.9918867442316491, 0.003635012512805391, 0.22779411746913783, 0.4955733725791349, 0.0387734668032575, 0.02665675842723953, 0.20598404239230547, 0.000699232707304865, 0.12446342190026596, 0.003496163536524325, 0.2153636738498984, 0.000699232707304865, 0.6544818140373536, 0.9987075700259724, 0.0641555121565023, 0.9302549262692833, 0.9228298168927607, 0.07525221682816503, 0.9978647711798685, 0.1013546578033061, 0.5711407020290568, 0.0014410614853550632, 0.16283994784512215, 0.12489199539743881, 0.03794795244768333, 0.21739505879010845, 0.2996526486025819, 0.015947900065683633, 0.055397968649216825, 0.4112879490623673, 0.05549741404748511, 0.46578186789853576, 0.07465723556387878, 0.041623060535613834, 0.015195720513001875, 0.011892303010175381, 0.27088023523177257, 0.064086299554834, 0.003343160579568562, 0.9327418016996287, 0.0008357901448921405, 0.06268426086691054, 0.02404228652409026, 0.30095790809620127, 0.04550861377774228, 0.23570027324509915, 0.09273453373577671, 0.0978864522766532, 0.18847435328706472, 0.014597102532483372, 0.9877953339393312, 0.994616689431912, 0.9887246532374487, 0.995199471526072, 0.014766559075756433, 0.8210206846120577, 0.08859935445453859, 0.07087948356363087, 0.05036621959823531, 0.20051457236278586, 0.04593145812417686, 0.0022173807370292273, 0.5641650132355792, 0.02945948693481688, 0.08109278123992604, 0.02629180016763227, 0.08127710170432315, 0.9154368297223766, 0.12496400861356402, 0.042267238207529007, 0.18193289489327702, 0.621144631049774, 0.020214766099253004, 0.009188530045115, 0.023025844915355184, 0.0829889827157593, 0.3329153410678437, 0.3535426604711827, 0.1180074551911953, 0.020147614300935784, 0.06907753474606555, 0.9958827837606306, 0.16295718938081602, 0.1343053758633099, 0.7019694311788998, 0.9955991760297023, 0.5743420563522187, 0.08546756790955636, 0.14928335194869177, 0.002279135144254836, 0.04786183802935156, 0.14016681137167242, 0.9864001543966252, 0.08356837445255083, 0.06476549020072689, 0.14276263968977435, 0.09053240565693006, 0.0027856124817516943, 0.22215259541969762, 0.0006964031204379236, 0.3913785536861131, 0.11128434752297522, 0.007747644447802073, 0.2218643637325139, 0.31061010922551946, 0.1394576000604373, 0.20848206877721942, 0.8325313834175114, 0.001936119496319794, 0.058083584889593816, 0.001936119496319794, 0.005808358488959382, 0.07938089934911155, 0.01936119496319794, 0.18827846643853438, 0.21255962172976187, 0.142900569664765, 0.34869331205107, 0.10588175913879523, 0.0011941551782570891, 0.9876331909391407, 0.9941933734399897, 0.29410111510815734, 0.07211434592204284, 0.011287462839971923, 0.020693681873281862, 0.3919257930545807, 0.2088180625394806, 0.0006270812688873291, 0.9989619075860618, 0.00043929723288745027, 0.00021964861644372513, 0.00021964861644372513, 0.9920809556860581, 0.9970274578730854, 0.9939357158383335, 0.9922406937486583, 0.9930935809558948, 0.9960573048597622, 0.022967595494845047, 0.22803541241310438, 0.3248274219985228, 0.06644197268151603, 0.20260700311524024, 0.15421099832253102, 0.8451901216540346, 0.05232129324524976, 0.0965931567604611, 0.425624998998687, 0.5531691906178222, 0.020063131265931376, 0.032787157402462325, 0.8675986266497723, 0.01765462321671048, 0.08322893802163513, 0.8338084767033348, 0.05652938825107355, 0.11023230708959342, 0.9938293064296461, 0.07386596227220378, 0.9233245284025472, 0.17954435380129083, 0.11681746563780188, 0.45181541184426094, 0.2504530099861044, 0.00045454266785136915, 0.9882358536814391, 0.9894210749523208, 0.4775241903666076, 0.5209354803999355, 0.9923316838663937, 0.6812461534861296, 0.20501451640961896, 0.11211731366151037, 0.9875501869962009, 0.005225133264530163, 0.005225133264530163, 0.99399092368148, 0.9948210976270772, 0.009339936550793355, 0.9853633061086989, 0.9963295811496176, 0.06493431662900949, 0.06230184433323884, 0.02720221372296344, 0.5589616174686358, 0.28606198947374456, 0.9930358314343627, 0.9958009898635994, 0.9933155388563065, 0.9421849089071895, 0.053164038747114145, 0.6721395088076183, 0.0012729914939538225, 0.32588582245217856, 0.995278076724975, 0.992219654690323, 0.20728732068348163, 0.7920557621905666, 0.993132508636135, 0.9918537756980802, 0.002188789017660191, 0.27359862720752387, 0.17729191043047549, 0.5450084653973876, 0.05365322857527367, 0.89316845216485, 0.05049715630613993, 0.03465641563833209, 0.10061540024031898, 0.06707693349354599, 0.013415386698709196, 0.6226975325984185, 0.13638976477021017, 0.011179488915590997, 0.014533335590268296, 0.9954895211522503, 0.9897896819135268, 0.016617354332921712, 0.09358194282224333, 0.33497087944784293, 0.08483596685754768, 0.005247585578817383, 0.46528592132180796, 0.022644766978377796, 0.17244861006610782, 0.789083033938857, 0.015677146369646167, 0.811524214338097, 0.18699139104498716, 0.9989913932840757, 0.9929455524628583, 0.9980326330562259, 0.9929582602228215, 0.9958285888006726, 0.9968302478394337, 0.9895698656315896, 0.03782417424363278, 0.9531691909395461, 0.24277263556971218, 0.17086276629969618, 0.1481220384108877, 0.005531528405385847, 0.13521513879832073, 0.0633052695283047, 0.21634422207731313, 0.01782381375068773, 0.5245017676291334, 0.42383981222556233, 0.0035319984352130194, 0.012361994523245568, 0.033553985134523685, 0.9970781146420004, 0.9983547271387786, 0.9956207460702912, 0.9218819029339387, 0.06898436008349201, 0.9860865717154195, 0.9915524040284664, 0.2241328406144196, 0.7233378038010815, 0.052976853236135546, 0.22951492899367762, 0.352966140800883, 0.4172998708975957, 0.9923495844251897, 0.9933102198618583, 0.9967656432086288, 0.9962835992332818, 0.008322532271821236, 0.03923479499572868, 0.6836365794710301, 0.12008225135056355, 0.14742771452940476, 0.9968572708324384, 0.998058463088944, 0.23839799760989733, 0.03872454783511023, 0.6934114346724425, 0.029043410876332672, 0.041145347570254925, 0.9103408149918902, 0.041145347570254925, 0.1008920983485049, 0.46750002007029995, 0.012986111668619443, 0.4185523683962728, 0.03822048508894945, 0.3262391405806757, 0.05460069298421351, 0.5801323629572684, 0.038370159115508805, 0.2949705982004739, 0.0359720241707895, 0.54797383486836, 0.0011990674723596502, 0.08153658812045621, 0.016509814907360424, 0.9795823511700519, 0.002751635817893404, 0.8254337032993372, 0.17284722846866463, 0.0014109977834176704, 0.99347364477787, 0.05887795223013825, 0.3784431136447507, 0.004060548429664707, 0.2744930738453342, 0.28383233523356305, 0.01739914489949652, 0.14235664008678972, 0.7402545284513066, 0.07276006048880364, 0.026889587571949168, 0.9920698420689648, 0.9918585437825651, 0.9926974459152403, 0.9917170391743196, 0.9926467276884638, 0.03360646901115835, 0.7191784368387887, 0.21956226420623456, 0.0067212938022316706, 0.02016388140669501, 0.9919060701880409, 0.6088057178031588, 0.2740221430425177, 0.11556586032662702, 0.9954895722714596, 0.9844202596738546, 0.16427444041571845, 0.06570977616628738, 0.2728780982461101, 0.4882601423467188, 0.009126357800873248, 0.9891790053211359, 0.9960620773623233, 0.9911459950080469, 0.9856795520654462, 0.9934010999014659, 0.9979471390639846, 0.002112857124158395, 0.6870307082055047, 0.2119899981238923, 0.06303357087072545, 0.01619857128521436, 0.019367856971451953, 0.9967767854472942, 0.21810107343607413, 0.6992163898769614, 0.0826810621606334, 0.9963863368775635, 0.09361739845994875, 0.016696096540627803, 0.09063595264912236, 0.49670887208367714, 0.0864619285139654, 0.1174689649465599, 0.0977914225951057, 0.9953381832412747, 0.02186477658302691, 0.7004268084700689, 0.04523746879246947, 0.04900725785850859, 0.11610950323400497, 0.06710224537549637, 0.5555253707723885, 0.14964336555861388, 0.01639927293793029, 0.08302131924827208, 0.19474136613792217, 0.028565263056638958, 0.9640776281615648, 0.1314348146384754, 0.5705817247246756, 0.04484246617077396, 0.10205526783693385, 0.09587010008924088, 0.0541202177923134, 0.9940149221124202, 0.9873245616139131, 0.9917554570145135, 0.3806889338565921, 0.576851790603657, 0.04155992727692053, 0.9975458910570827, 0.01082729488659147, 0.9852838346798237, 0.9998389489449965, 0.9997966646297404, 0.5053202468703455, 0.4873692611911147, 0.00029918309465384575, 0.0068812111770384515, 0.9917680150751148, 0.9979992451313554, 0.9952407846083859, 0.28728526291612794, 0.17434198013379795, 0.5381861125869415, 0.9971123066606878, 0.9954373618642046, 0.026510078102033763, 0.020690792665001963, 0.1435423741134511, 0.11121301057438554, 0.009698809061719669, 0.0019397618123439338, 0.09634150334641538, 0.07047801251516293, 0.08470293247235178, 0.4345066459650412, 0.9918883242016497, 0.9924432681474036, 0.9956639772170232, 0.9975011189830512, 0.9898531847483436, 0.0555997792286196, 0.7203797482664627, 0.014504290233552939, 0.21031220838651762, 0.37377879570097444, 0.0009183754194127136, 0.0541841497453501, 0.10561317323246205, 0.06795978103654081, 0.009183754194127135, 0.09275591736068407, 0.2957168850508938, 0.15350648800823083, 0.13793336603638132, 0.12903443919532448, 0.03281479272639717, 0.1585121343563253, 0.021134951247510043, 0.011679841478887128, 0.06507340252522828, 0.28532184184138554, 0.005561829275660538, 0.9877464147871013, 0.8994275307346462, 0.09730648724322195, 0.9109990346509768, 0.08630517170377675, 0.6567870742285804, 0.006524374909555435, 0.13701187310066412, 0.05219499927644348, 0.0021747916365184783, 0.14353624801021955, 0.9978894672467078, 0.9909699141021512, 0.9935060799333723, 0.9995256690312486, 0.004178021739384745, 0.04595823913323219, 0.3446867934992414, 0.004178021739384745, 0.5974571087320185, 0.9985184696651087, 0.0744881236531281, 0.031036718188803374, 0.496587491020854, 0.3972699928166832, 0.9936649218883851, 0.17065506995337887, 0.536079513223114, 0.04451871390088144, 0.15767044506562178, 0.0908923742142996, 0.02816424333227962, 0.07803842423319145, 0.17426625561848014, 0.00821457097191489, 0.012321856457872335, 0.5462689696323402, 0.09036028069106378, 0.052221201178601795, 0.01114834631902735, 0.09190263307301395, 0.10958579553421718, 0.7984819556425007, 0.9959493758792576, 0.9947348366516073, 0.9988546974360749, 0.7421079253996259, 0.2574101291054053, 0.013521461743093127, 0.11214859445741947, 0.3507626252178864, 0.08192415056109364, 0.2274787093249785, 0.21395724758188536, 0.9871101522784592, 0.06778087239477472, 0.9320696550286338, 0.9982355734800973, 0.9699300666606755, 0.02921476104399625, 0.7849207640223573, 0.05499444843468746, 0.15998384999181806, 0.9972576838299314, 0.9944902578666344, 0.9954957006528109, 0.9956885122406877, 0.9899514112440576, 0.4142523342533233, 0.04102818645959432, 0.0026469797715867305, 0.5419691082323831, 0.9914037810753592, 0.0004909529061811275, 0.8374020069762764, 0.017183351716339463, 0.00065460387490817, 0.000981905812362255, 0.14319459763616219, 0.2252821507830192, 0.22771763349418697, 0.4895320249447228, 0.057233843712442715, 0.6602373902168633, 0.30904728903768075, 0.030436475435529162, 0.9938146279342507, 0.9948484995626113, 0.23232845085665949, 0.42504680517382293, 0.34201794896603316, 0.9996248552792015, 0.9909465371794581, 0.9982492912172517, 0.04957802465870082, 0.004721716634161982, 0.002360858317080991, 0.7861658195879702, 0.15817750724442642, 0.24058516983465006, 0.7463011927191676, 0.012928642304198485, 0.9859914635578524, 0.01238293831783802, 0.17197541658835558, 0.8274921018959188, 0.09929132288412387, 0.40683081854291464, 0.4903058245074436, 0.003514737093243323, 0.45636266493718913, 0.5428672297834921, 0.5463421873899676, 0.4193473932266822, 0.03307156098002225, 0.9940497891697117, 0.996213835175212, 0.005098595544989721, 0.0005665106161099689, 0.30648224331549323, 0.1971456944062692, 0.30025062653828355, 0.033424126350488165, 0.06344918900431652, 0.09347425165814488, 0.9944867564796843, 0.17331991444395695, 0.6524156129069273, 0.016909259945751896, 0.1197739246157426, 0.03522762488698312, 0.9948835671692497, 0.0005318674565021503, 0.011169216586545157, 0.010637349130043007, 0.17392065827620318, 0.003191204739012902, 0.03084831247712472, 0.4786807108519353, 0.1531778274726193, 0.06276035986725374, 0.0749933113668032], \"Term\": [\"\\n\\n  \", \"\\n     \", \".......\", \"abandonner\", \"abandonner\", \"abandonner\", \"abandonner\", \"abandonner\", \"abandonner\", \"abandonner\", \"abandonner\", \"abeille\", \"aberrant\", \"absolument\", \"absolument\", \"absolument\", \"abusif\", \"acheter\", \"acheter\", \"acheter\", \"acheter\", \"acheter_v\\u00e9hicule\", \"acte\", \"acte\", \"action\", \"action\", \"action\", \"action\", \"adopter\", \"agglom\\u00e9ration\", \"agir\", \"agir\", \"agir\", \"agir\", \"agir\", \"agricole\", \"agricole\", \"agricole\", \"agricole\", \"agriculteur\", \"agriculteur\", \"agriculture\", \"agriculture\", \"agriculture_biologique\", \"agriculture_intensif\", \"aide\", \"aide\", \"aide\", \"aide\", \"aide\", \"aide\", \"aide\", \"aide\", \"aider\", \"aider\", \"aider\", \"aider\", \"aider\", \"aider\", \"aider\", \"aider\", \"ajout\", \"alimentaire\", \"alimentaire\", \"aller\", \"aller\", \"aller\", \"aller\", \"aller\", \"aller\", \"aller\", \"aller\", \"allumer\", \"al\\u00e9atoire\", \"animal\", \"annoncer\", \"annoncer\", \"ann\\u00e9e\", \"ann\\u00e9e\", \"ann\\u00e9e\", \"ann\\u00e9e\", \"ann\\u00e9e\", \"ann\\u00e9e\", \"antibiotique\", \"appel_offre\", \"applique\", \"arbre\", \"argent\", \"argent\", \"argent\", \"argent\", \"arr\\u00eater\", \"arr\\u00eater\", \"arr\\u00eater\", \"arr\\u00eater\", \"arr\\u00eater\", \"arr\\u00eater\", \"arr\\u00eater\", \"arr\\u00eater\", \"aspect\", \"atmosph\\u00e8re\", \"atteinte\", \"automobile\", \"automobile\", \"autonomie\", \"autonomie\", \"autonomie\", \"avion\", \"a\\u00e9rien\", \"barrage\", \"bateau\", \"batterie\", \"beaucoup\", \"beaucoup\", \"beaucoup\", \"beaucoup\", \"beaucoup\", \"beaucoup\", \"beaucoup\", \"beaucoup\", \"beaucoup\", \"beaucoup\", \"bien\", \"bien\", \"bien\", \"bien\", \"bien\", \"bien\", \"bien\", \"bien\", \"bien\", \"biodiversit\\u00e9\", \"biodiversit\\u00e9\", \"biodiversit\\u00e9\", \"biologique\", \"biomass\", \"borne\", \"bouteille\", \"brut\", \"b\\u00e2ti\", \"b\\u00e2timent\", \"b\\u00e2timent_public\", \"b\\u00e9tonner\", \"b\\u00eate\", \"cadre\", \"cadre\", \"cadre\", \"camion\", \"campagne\", \"campagne\", \"campagne\", \"campagne\", \"carbon\", \"carbon\", \"carbon\", \"carbon\", \"carburant\", \"carburant\", \"centime\", \"central\", \"central\", \"central\", \"centrale\", \"centrale\", \"centrale_nucl\\u00e9aire\", \"centrale_nucl\\u00e9aire\", \"centre\", \"centre_commercial\", \"centre_ville\", \"chaleur\", \"changement\", \"changement\", \"changement\", \"changement\", \"changer\", \"changer\", \"changer\", \"changer\", \"changer\", \"changer_habitude\", \"changer_mentalit\\u00e9\", \"changer_mod\\u00e8le\", \"charbon\", \"chasse\", \"chasseur\", \"chaud\", \"chauffage\", \"chauffage\", \"chauffage\", \"chauffage\", \"chimie\", \"chimique\", \"chimique\", \"choix\", \"choix\", \"choix\", \"choix\", \"choix\", \"chose\", \"chose\", \"chose\", \"chose\", \"chose\", \"chose\", \"chose\", \"circuit\", \"circuit\", \"circuit\", \"circuit_court\", \"citoyen\", \"citoyen\", \"citoyen\", \"citoyen\", \"citoyen\", \"citoyen\", \"citoyen\", \"civilisation\", \"classe_moyen\", \"climatique\", \"climatique\", \"combustible\", \"commerce\", \"commerce\", \"commerce\", \"commercial\", \"commercial\", \"commercial\", \"commer\\u00e7ant\", \"commun\", \"commun\", \"commun\", \"commune\", \"commune\", \"comportement\", \"comportement\", \"comportement\", \"compteur\", \"conclusion\", \"concret\", \"concret\", \"condamner\", \"conducteur\", \"confort\", \"conscience\", \"consigne\", \"consommation\", \"consommation\", \"consommation\", \"consommation\", \"consommation\", \"consommation\", \"consommation\", \"consommation\", \"consommation\", \"consommation\", \"consomme\", \"constructeur\", \"constructeur_automobile\", \"construction\", \"construction\", \"construction\", \"construction\", \"contenter\", \"contre\", \"contre\", \"contre\", \"contre\", \"contre\", \"contre\", \"contre\", \"contre_productif\", \"courage\", \"courage\", \"court\", \"court\", \"court\", \"court\", \"court\", \"court\", \"court\", \"court_terme\", \"court_terme\", \"cout\", \"co\\u00fbt\", \"co\\u00fbt\", \"co\\u00fbt\", \"co\\u00fbt\", \"co\\u00fbt\", \"co\\u00fbt\", \"co\\u00fbt\", \"co\\u00fbt_environnemental\", \"crit\\u00e8re\", \"crit\\u00e8re\", \"croisi\\u00e8re\", \"croissance\", \"croissance\", \"croissance\", \"cr\\u00e9dit\", \"cr\\u00e9dit\", \"cr\\u00e9dit_imp\\u00f4t\", \"culture\", \"culture\", \"culture\", \"cyclable\", \"c\\u0153ur\", \"denr\\u00e9e_alimentaire\", \"developper\", \"devoir\", \"devoir\", \"devoir\", \"devoir\", \"devoir\", \"devoir\", \"devoir\", \"devoir\", \"devoir\", \"devoir\", \"diesel\", \"diesel\", \"direction\", \"donner\", \"donner\", \"donner\", \"donner\", \"donner\", \"donner\", \"donner\", \"donner\", \"donner\", \"droit\", \"droit\", \"droit\", \"droit\", \"droit\", \"d\\u00e9cemment\", \"d\\u00e9chet\", \"d\\u00e9chet\", \"d\\u00e9chet\", \"d\\u00e9connecter\", \"d\\u00e9forestation\", \"d\\u00e9localisation\", \"d\\u00e9loyal\", \"d\\u00e9mographie\", \"d\\u00e9mographique\", \"d\\u00e9passement\", \"d\\u00e9pendance\", \"d\\u00e9pendant\", \"d\\u00e9pense\", \"d\\u00e9pense\", \"d\\u00e9pense\", \"d\\u00e9pense_public\", \"d\\u00e9placement\", \"d\\u00e9placement\", \"d\\u00e9placement\", \"d\\u00e9sastre\", \"d\\u00e9sordre\", \"d\\u00e9veloppement\", \"d\\u00e9veloppement\", \"d\\u00e9veloppement\", \"d\\u00e9veloppement\", \"d\\u00e9veloppement\", \"d\\u00e9veloppement\", \"d\\u00e9veloppement\", \"d\\u00e9veloppement\", \"d\\u00e9veloppement\", \"d\\u00e9velopper\", \"d\\u00e9velopper\", \"d\\u00e9velopper\", \"d\\u00e9velopper\", \"d\\u00e9velopper\", \"d\\u00e9velopper\", \"d\\u00e9velopper\", \"d\\u00e9velopper\", \"ecologiqu\", \"ecologiqu\", \"effort\", \"effort\", \"effort\", \"effort\", \"effort\", \"elec\", \"electriqu\", \"emballage\", \"emballage_plastique\", \"energie\", \"energie\", \"energie\", \"enfant\", \"enfant\", \"enfant\", \"enrayer\", \"entreprise\", \"entreprise\", \"entreprise\", \"entreprise\", \"entreprise\", \"entreprise\", \"entreprise_polluer\", \"environnement\", \"environnement\", \"environnement\", \"environnement\", \"environnement\", \"environnement\", \"environnement\", \"environnemental\", \"environnemental\", \"environnemental\", \"environnemental\", \"environnemental\", \"environnemental\", \"eolien\", \"espace\", \"espace\", \"esp\\u00e8ce\", \"esp\\u00e8ce_animal\", \"essence\", \"essence\", \"etat\", \"etat\", \"etat\", \"etat\", \"etat\", \"etat\", \"euro\", \"euro\", \"euro\", \"excellent\", \"exemple\", \"exemple\", \"exemple\", \"exemple\", \"exemple\", \"exemple\", \"exemple\", \"exemple\", \"exemple\", \"exportation\", \"expression\", \"exp\\u00e9rimentation\", \"fabrication\", \"fabrication\", \"fabrication\", \"facteur\", \"faible_revenir\", \"faire\", \"faire\", \"faire\", \"faire\", \"faire\", \"faire\", \"faire\", \"faire\", \"faire\", \"faire\", \"faire_course\", \"faire_effort\", \"faire_payer\", \"faire_payer\", \"falloir\", \"falloir\", \"falloir\", \"falloir\", \"falloir\", \"falloir\", \"falloir\", \"falloir\", \"falloir\", \"falloir\", \"falloir_absolument\", \"faune\", \"favoriser\", \"favoriser\", \"favoriser\", \"favoriser\", \"favoriser\", \"favoriser\", \"favoriser\", \"favoriser\", \"favoriser\", \"fermeture\", \"ferroutage\", \"financement_transition\", \"financer_transition\", \"financer_transition\", \"financier\", \"financier\", \"financier\", \"financier\", \"financier\", \"fluvial\", \"fois\", \"fois\", \"fois\", \"fois\", \"fois\", \"fois\", \"fois\", \"fois\", \"for\\u00eat\", \"for\\u00eat\", \"fossile\", \"fossile\", \"france\", \"france\", \"france\", \"france\", \"france\", \"france\", \"france\", \"france\", \"france\", \"france\", \"fran\\u00e7ais\", \"fran\\u00e7ais\", \"fran\\u00e7ais\", \"fran\\u00e7ais\", \"fran\\u00e7ais\", \"fran\\u00e7ais\", \"fran\\u00e7ais\", \"fran\\u00e7ais\", \"fret\", \"fret\", \"fruit\", \"fruit\", \"fruit_l\\u00e9gume\", \"fusion\", \"gare\", \"gilet\", \"glyphosate\", \"glyphosate\", \"grand\", \"grand\", \"grand\", \"grand\", \"grand\", \"grand\", \"grand\", \"grand\", \"grand\", \"grand\", \"grand_distribution\", \"grand_ville\", \"gros\", \"gros\", \"gros\", \"gros\", \"gros\", \"gros\", \"gros\", \"gros_pollueur\", \"habitation\", \"habitation\", \"habitation\", \"habiter\", \"habiter\", \"haie\", \"huile\", \"huile\", \"huile_palme\", \"hulot\", \"humain\", \"humain\", \"humain\", \"humain\", \"hybride\", \"hydrocarbure\", \"hydrog\\u00e8ne\", \"hydrolien\", \"implantation\", \"importation\", \"importation\", \"importation\", \"importation\", \"importer\", \"importer\", \"importer\", \"imp\\u00f4t\", \"imp\\u00f4t\", \"imp\\u00f4t\", \"imp\\u00f4t\", \"indicateur\", \"industriel\", \"industriel\", \"industriel\", \"industriel\", \"industriel\", \"industriel\", \"industriel\", \"industriel\", \"industriel\", \"industriel\", \"industriel_mise\", \"ind\\u00e9pendance\", \"ind\\u00e9pendance\", \"informer\", \"informer\", \"informer\", \"informer\", \"installation\", \"installation\", \"installer\", \"installer\", \"installer\", \"intensif\", \"interdiction\", \"interdiction\", \"interdiction\", \"interdiction\", \"interdiction\", \"interdir\", \"interdir\", \"interdir\", \"interdir\", \"interdir\", \"interdire\", \"interdire\", \"interdire\", \"interdire\", \"interdire\", \"investir_massivement\", \"investissement\", \"investissement\", \"investissement\", \"investissement\", \"isolation\", \"isoler\", \"jaune\", \"jeter\", \"jeter\", \"jeter\", \"joue\", \"k\\u00e9ros\\u00e8ne\", \"lever\", \"lib\\u00e9ral\", \"ligne\", \"ligne\", \"limitation\", \"limitation_vitesse\", \"limiter\", \"limiter\", \"limiter\", \"limiter\", \"limiter\", \"limiter\", \"limiter\", \"limiter\", \"limiter\", \"limiter_emballage\", \"local\", \"local\", \"local\", \"local\", \"local\", \"local\", \"localement\", \"logement\", \"logement\", \"long\", \"long\", \"long\", \"long\", \"long\", \"long\", \"long\", \"long_terme\", \"long_terme\", \"long_terme\", \"lourd\", \"lutte\", \"lutte\", \"lutte_contre\", \"lutter\", \"lutter_contre\", \"l\\u00e9ger\", \"main\", \"main\", \"main\", \"main\", \"majorit\\u00e9\", \"majorit\\u00e9\", \"majorit\\u00e9\", \"majorit\\u00e9\", \"majorit\\u00e9_fran\\u00e7ais\", \"mandat\", \"marchandise\", \"marchandise\", \"marge\", \"marge\", \"marin\", \"marin\", \"maritime\", \"maritime\", \"mensonge\", \"mentalit\\u00e9\", \"mettre\", \"mettre\", \"mettre\", \"mettre\", \"mettre\", \"mettre\", \"mettre\", \"mettre\", \"mettre\", \"mettre\", \"minimiser\", \"ministre\", \"minute\", \"minute\", \"minute\", \"mise\", \"mise\", \"mise\", \"mise\", \"mise\", \"mise\", \"mise\", \"mise_place\", \"mode_consommation\", \"mod\\u00e8le_\\u00e9conomique\", \"mois\", \"mois\", \"monde\", \"monde\", \"monde\", \"monde\", \"monde\", \"monde\", \"monde\", \"monde\", \"mondial\", \"mondial\", \"mondial\", \"mondial\", \"montr_exemple\", \"montrer\", \"montrer\", \"montrer\", \"montrer_exemple\", \"moteur\", \"moyen\", \"moyen\", \"moyen\", \"moyen\", \"moyen\", \"moyen\", \"moyen\", \"moyen\", \"mutation\", \"m\\u00e9got\", \"m\\u00e9nager\", \"m\\u00e9thanisation\", \"m\\u00e9tropole\", \"nature\", \"nature\", \"nature\", \"nature\", \"nature\", \"naturel\", \"naturel\", \"naturel\", \"naturel\", \"naturel\", \"net\", \"nicolas\", \"nicolas_hulot\", \"niveau\", \"niveau\", \"niveau\", \"niveau\", \"niveau\", \"niveau\", \"niveau\", \"niveau\", \"niveau\", \"niveau_mondial\", \"nocif\", \"nocif\", \"nocif\", \"norme\", \"norme\", \"norme\", \"norme\", \"norme\", \"norme\", \"norme\", \"nourrir\", \"nourrir\", \"nourrir\", \"nouveau\", \"nouveau\", \"nouveau\", \"nouveau\", \"nouveau\", \"nouveau\", \"nucl\\u00e9aire\", \"nucl\\u00e9aire\", \"num\\u00e9rique\", \"obsolescence\", \"obsolescence_programmer\", \"panneau\", \"panneau_photovolta\\u00efque\", \"panneau_solaire\", \"para\\u00eetre\", \"parc_\\u00e9olien\", \"parking\", \"parking\", \"particule\", \"particulier\", \"particulier\", \"particulier\", \"particulier\", \"particulier\", \"particulier\", \"particulier\", \"particulier\", \"particulier\", \"particulier\", \"passer\", \"passer\", \"passer\", \"passer\", \"passer\", \"passer\", \"passer\", \"passer\", \"passer_\\u00e9levage\", \"payer\", \"payer\", \"payer\", \"payer\", \"payer\", \"payeur\", \"pays\", \"pays\", \"pays\", \"pays\", \"pays\", \"pays\", \"pays\", \"pays\", \"pays\", \"perdre\", \"perdre\", \"permettre\", \"permettre\", \"permettre\", \"permettre\", \"permettre\", \"permettre\", \"permettre\", \"permettre\", \"permettre\", \"personne\", \"personne\", \"personne\", \"personne\", \"personne\", \"pesticide\", \"pesticide\", \"petit\", \"petit\", \"petit\", \"petit\", \"petit\", \"petit\", \"petit\", \"petit\", \"petit\", \"petit\", \"photovolta\\u00efque\", \"photovolta\\u00efque\", \"photovolta\\u00efque\", \"phytosanitaire\", \"pile\", \"pile_combustible\", \"place\", \"place\", \"place\", \"place\", \"place\", \"place\", \"place\", \"place\", \"place\", \"place_pratique\", \"plan\", \"plan\", \"plan\", \"plan\", \"plan\", \"plan\", \"plan\\u00e8te\", \"plan\\u00e8te\", \"plan\\u00e8te\", \"plan\\u00e8te\", \"plan\\u00e8te\", \"plan\\u00e8te\", \"plastique\", \"pluie\", \"pluie\", \"poids\", \"poids\", \"poids_lourd\", \"politique\", \"politique\", \"politique\", \"politique\", \"politique\", \"politique\", \"polluant\", \"polluant\", \"polluant\", \"polluant\", \"polluant\", \"polluer\", \"polluer\", \"polluer\", \"polluer\", \"polluer\", \"polluer\", \"polluer\", \"polluer\", \"pollueur\", \"pollueur\", \"pollueur\", \"pollueur\", \"pollution\", \"pollution\", \"pollution\", \"pollution\", \"pollution\", \"pollution\", \"pollution\", \"pollution\", \"pollution_visuel\", \"pompe_chaleur\", \"populaire\", \"porteur\", \"pourtant\", \"pourtant\", \"pourtant\", \"pourtant\", \"pouvoir\", \"pouvoir\", \"pouvoir\", \"pouvoir\", \"pouvoir\", \"pouvoir\", \"pouvoir\", \"pouvoir\", \"pouvoir_achat\", \"pouvoir_achat\", \"pratique\", \"pratique\", \"pratique\", \"pratique\", \"pratique\", \"pratique\", \"prendre\", \"prendre\", \"prendre\", \"prendre\", \"prendre\", \"prendre\", \"prendre\", \"prendre_conscience\", \"prime\", \"prime\", \"prime\", \"principe_pollueur\", \"priorit\\u00e9\", \"priorit\\u00e9\", \"priorit\\u00e9\", \"priorit\\u00e9\", \"priorit\\u00e9\", \"priorit\\u00e9\", \"prise_conscience\", \"prix\", \"prix\", \"prix\", \"prix\", \"prix\", \"prix\", \"prix\", \"prix\", \"probl\\u00e8me\", \"probl\\u00e8me\", \"probl\\u00e8me\", \"probl\\u00e8me\", \"probl\\u00e8me\", \"probl\\u00e8me\", \"producteur\", \"producteur\", \"producteur\", \"producteur\", \"producteur\", \"producteur\", \"producteur\", \"production\", \"production\", \"production\", \"production\", \"production\", \"production\", \"production_respectueux\", \"productivit\\u00e9\", \"produire\", \"produire\", \"produire\", \"produire\", \"produire\", \"produire\", \"produire\", \"produit\", \"produit\", \"produit\", \"produit\", \"produit_alimentaire\", \"produit_chimique\", \"produit_importer\", \"produit_issu\", \"produit_phytosanitaire\", \"programmer\", \"projet\", \"projet\", \"projet\", \"projet\", \"projet\", \"projet\", \"propri\\u00e9taire\", \"propri\\u00e9taire\", \"propri\\u00e9taire\", \"protection\", \"protection\", \"protection\", \"prot\\u00e9ger\", \"prot\\u00e9ger\", \"prot\\u00e9ger\", \"prot\\u00e9ger\", \"proximit\\u00e9\", \"proximit\\u00e9\", \"proximit\\u00e9\", \"pr\\u00e9dateur\", \"pr\\u00e9sident\", \"pr\\u00e9sident\", \"public\", \"public\", \"public\", \"public\", \"public\", \"p\\u00e9dagogie\", \"p\\u00e9riph\\u00e9rie\", \"p\\u00e9trole\", \"p\\u00e9trole\", \"p\\u00eache\", \"question\", \"question\", \"question\", \"questionnaire\", \"questionnaire\", \"questionnaire\", \"radar\", \"ramassage\", \"rare\", \"rare\", \"recharge\", \"recherche\", \"recherche\", \"recherche\", \"recherche\", \"recherche\", \"rechercher\", \"recours\", \"recr\\u00e9er\", \"recyclable\", \"recyclable\", \"recyclage\", \"recyclage\", \"recyclage\", \"regretter\", \"remboursement\", \"renouvelable\", \"renouvelable\", \"reparation\", \"repas\", \"respect\", \"respect\", \"respect\", \"respect\", \"respectueux\", \"respectueux\", \"respectueux\", \"ressource\", \"ressource\", \"ressource\", \"ressource\", \"ressource\", \"ressource\", \"ressource\", \"ressource\", \"retarder\", \"retenue\", \"rien\", \"rien\", \"rien\", \"rien\", \"rien\", \"rien\", \"risque\", \"risque\", \"risque\", \"risque\", \"route\", \"route\", \"routier\", \"ruine\", \"rural\", \"r\\u00e9acteur\", \"r\\u00e9chauffement\", \"r\\u00e9chauffement_climatique\", \"r\\u00e9compenser\", \"r\\u00e9cup\\u00e9ration\", \"r\\u00e9cup\\u00e9ration\", \"r\\u00e9duire\", \"r\\u00e9duire\", \"r\\u00e9duire\", \"r\\u00e9duire\", \"r\\u00e9duire\", \"r\\u00e9duire\", \"r\\u00e9duire\", \"r\\u00e9duire\", \"r\\u00e9gion\", \"r\\u00e9gion\", \"r\\u00e9gion\", \"r\\u00e9gion\", \"r\\u00e9gion\", \"r\\u00e9novation\", \"r\\u00e9parateur\", \"r\\u00e9union\", \"r\\u00f4le\", \"r\\u00f4le\", \"saison\", \"salaire\", \"sanitaire\", \"sanitaire\", \"sanitaire\", \"sant\\u00e9\", \"sant\\u00e9\", \"sant\\u00e9\", \"sant\\u00e9_public\", \"satisfaisant\", \"sauver\", \"sauver_plan\\u00e8te\", \"savoir\", \"savoir\", \"savoir\", \"savoir\", \"savoir\", \"science\", \"second\", \"sens\", \"sens\", \"sens\", \"sens\", \"serre\", \"serre\", \"serre\", \"service\", \"service\", \"service\", \"service\", \"social\", \"social\", \"social\", \"social\", \"soci\\u00e9t\\u00e9\", \"soci\\u00e9t\\u00e9\", \"soci\\u00e9t\\u00e9\", \"soci\\u00e9t\\u00e9\", \"soci\\u00e9t\\u00e9\", \"soci\\u00e9t\\u00e9\", \"sol\", \"sol\", \"sol\", \"solaire\", \"solaire\", \"solaire\", \"soleil\", \"solution\", \"solution\", \"solution\", \"solution\", \"solution\", \"source\", \"source\", \"source\", \"source\", \"source\", \"source_\\u00e9nergie\", \"sp\\u00e9cialiste\", \"stockage_\\u00e9nergie\", \"style\", \"substitution\", \"subvention\", \"subvention\", \"subvention\", \"subvention\", \"subvention\", \"succ\\u00e8s\", \"sujet\", \"sujet\", \"sujet\", \"surpopulation\", \"surpopulation_mondial\", \"syst\\u00e8me\", \"syst\\u00e8me\", \"syst\\u00e8me\", \"syst\\u00e8me\", \"syst\\u00e8me\", \"syst\\u00e8me_\\u00e9conomique\", \"s\\u00e9cheresse\", \"tabou\", \"tampon\", \"taper\", \"tard\", \"taxe\", \"taxe\", \"taxe\", \"taxe\", \"taxe\", \"taxe\", \"taxe_carbon\", \"taxer\", \"taxer\", \"taxer\", \"taxer_carburant\", \"temps\", \"temps\", \"temps\", \"temps\", \"temps\", \"temps\", \"temps\", \"tenter\", \"terme\", \"terme\", \"terme\", \"terme\", \"terme\", \"terme\", \"terre\", \"terre\", \"terre\", \"terre\", \"terre\", \"terre_agricole\", \"terre_agricole\", \"territoire\", \"territoire\", \"territoire\", \"territoire\", \"territoire\", \"territoire\", \"toit\", \"toiture\", \"trafic\", \"train\", \"train\", \"train\", \"traitement_d\\u00e9chet\", \"traiter\", \"traiter\", \"transition\", \"transition_\\u00e9cologique\", \"transport\", \"transport\", \"transport\", \"transport\", \"transport_a\\u00e9rien\", \"transport_commun\", \"transport_routier\", \"travail\", \"travail\", \"travail\", \"traverser\", \"traverser_france\", \"trop\", \"trop\", \"trop\", \"trop\", \"trop\", \"trop\", \"trop\", \"trop\", \"trop\", \"trop\", \"trop_tard\", \"trouver_moyen\", \"t\\u00e9l\\u00e9travail\", \"urbain\", \"urbanisation\", \"urgence\", \"urgence\", \"urgence\", \"urgence\", \"utilisation\", \"utilisation\", \"utilisation\", \"utilisation\", \"utilisation\", \"utilisation\", \"utilisation\", \"utilisation\", \"utiliser\", \"utiliser\", \"utiliser\", \"utiliser\", \"utiliser\", \"utiliser\", \"utiliser\", \"utiliser\", \"utiliser\", \"utiliser\", \"utopique\", \"valeur\", \"valeur\", \"valider\", \"valider\", \"vente\", \"vente\", \"vente\", \"vente\", \"vente\", \"vente\", \"verre\", \"vignette\", \"village\", \"ville\", \"vite\", \"vite\", \"vite\", \"vite\", \"vite\", \"vitesse\", \"vivre\", \"vivre\", \"vivre\", \"vivre\", \"vivre_d\\u00e9cemment\", \"voie\", \"voie\", \"voie\", \"voie\", \"voie\", \"voir\", \"voir\", \"voir\", \"voir\", \"voir\", \"voir\", \"voir\", \"voir\", \"voir\", \"voiture\", \"voiture\", \"voiture\", \"voiture_hybride\", \"voiture_hydrog\\u00e8ne\", \"voiture_\\u00e9lectrique\", \"volont\\u00e9\", \"volont\\u00e9\", \"vouloir\", \"vouloir\", \"vouloir\", \"vouloir\", \"vouloir\", \"vouloir\", \"vrac\", \"v\\u00e9hicule\", \"v\\u00e9hicule\", \"v\\u00e9hicule_\\u00e9lectrique\", \"v\\u00e9lo\", \"v\\u00e9lo\", \"zone\", \"zone\", \"zone\", \"zone_commercial\", \"zone_rural\", \"\\u00e9chec\", \"\\u00e9clairage\", \"\\u00e9clairage_public\", \"\\u00e9cologie\", \"\\u00e9cologie\", \"\\u00e9cologie\", \"\\u00e9cologie\", \"\\u00e9cologie_punitif\", \"\\u00e9cologique\", \"\\u00e9cologique\", \"\\u00e9cologique\", \"\\u00e9cologique\", \"\\u00e9cologique\", \"\\u00e9cologique\", \"\\u00e9conomie\", \"\\u00e9conomie\", \"\\u00e9conomie\", \"\\u00e9conomie\", \"\\u00e9conomique\", \"\\u00e9conomique\", \"\\u00e9conomique\", \"\\u00e9crire\", \"\\u00e9duquer\", \"\\u00e9lectricit\\u00e9\", \"\\u00e9lectricit\\u00e9\", \"\\u00e9lectricit\\u00e9\", \"\\u00e9lectrique\", \"\\u00e9lectrom\\u00e9nager\", \"\\u00e9levage\", \"\\u00e9mission\", \"\\u00e9mission\", \"\\u00e9mission\", \"\\u00e9mission\", \"\\u00e9mission\", \"\\u00e9nergie\", \"\\u00e9nergie\", \"\\u00e9nergie\", \"\\u00e9nergie_fossile\", \"\\u00e9nergie_fossile\", \"\\u00e9nergie_renouvelable\", \"\\u00e9nergie_renouvelable\", \"\\u00e9nerg\\u00e9tique\", \"\\u00e9nerg\\u00e9tique\", \"\\u00e9nerg\\u00e9tique\", \"\\u00e9nerg\\u00e9tique\", \"\\u00e9olien\", \"\\u00e9olien\", \"\\u00e9olienne\", \"\\u00e9olienne\", \"\\u00e9olienne\", \"\\u00e9puisement\", \"\\u00e9quipement\", \"\\u00e9tat\", \"\\u00e9tat\", \"\\u00e9tat\", \"\\u00e9tat\", \"\\u00e9tat\", \"\\u00e9tat\", \"\\u00e9tat\", \"\\u00e9tat\", \"\\u00e9thanol\", \"\\u00e9tranger\", \"\\u00e9tranger\", \"\\u00e9tranger\", \"\\u00e9tranger\", \"\\u00e9tranger\", \"\\u00e9volution\", \"\\u00eatre\", \"\\u00eatre\", \"\\u00eatre\", \"\\u00eatre\", \"\\u00eatre\", \"\\u00eatre\", \"\\u00eatre\", \"\\u00eatre\", \"\\u00eatre\", \"\\u00eatre\"]}, \"R\": 30, \"lambda.step\": 0.01, \"plot.opts\": {\"xlab\": \"PC1\", \"ylab\": \"PC2\"}, \"topic.order\": [1, 2, 3, 4, 5, 6, 7, 8, 9, 10]};\n",
       "\n",
       "function LDAvis_load_lib(url, callback){\n",
       "  var s = document.createElement('script');\n",
       "  s.src = url;\n",
       "  s.async = true;\n",
       "  s.onreadystatechange = s.onload = callback;\n",
       "  s.onerror = function(){console.warn(\"failed to load library \" + url);};\n",
       "  document.getElementsByTagName(\"head\")[0].appendChild(s);\n",
       "}\n",
       "\n",
       "if(typeof(LDAvis) !== \"undefined\"){\n",
       "   // already loaded: just create the visualization\n",
       "   !function(LDAvis){\n",
       "       new LDAvis(\"#\" + \"ldavis_el7605358262108328951595354\", ldavis_el7605358262108328951595354_data);\n",
       "   }(LDAvis);\n",
       "}else if(typeof define === \"function\" && define.amd){\n",
       "   // require.js is available: use it to load d3/LDAvis\n",
       "   require.config({paths: {d3: \"https://d3js.org/d3.v5\"}});\n",
       "   require([\"d3\"], function(d3){\n",
       "      window.d3 = d3;\n",
       "      LDAvis_load_lib(\"https://cdn.jsdelivr.net/gh/bmabey/pyLDAvis@3.4.0/pyLDAvis/js/ldavis.v3.0.0.js\", function(){\n",
       "        new LDAvis(\"#\" + \"ldavis_el7605358262108328951595354\", ldavis_el7605358262108328951595354_data);\n",
       "      });\n",
       "    });\n",
       "}else{\n",
       "    // require.js not available: dynamically load d3 & LDAvis\n",
       "    LDAvis_load_lib(\"https://d3js.org/d3.v5.js\", function(){\n",
       "         LDAvis_load_lib(\"https://cdn.jsdelivr.net/gh/bmabey/pyLDAvis@3.4.0/pyLDAvis/js/ldavis.v3.0.0.js\", function(){\n",
       "                 new LDAvis(\"#\" + \"ldavis_el7605358262108328951595354\", ldavis_el7605358262108328951595354_data);\n",
       "            })\n",
       "         });\n",
       "}\n",
       "</script>"
      ],
      "text/plain": [
       "PreparedData(topic_coordinates=              x         y  topics  cluster       Freq\n",
       "topic                                                \n",
       "0     -0.251655  0.055009       1        1   7.438676\n",
       "1     -0.110234 -0.122120       2        1   8.644465\n",
       "2     -0.101331 -0.141036       3        1   8.068318\n",
       "3      0.192782  0.044430       4        1  13.075055\n",
       "4     -0.026788 -0.171747       5        1   9.433054\n",
       "5     -0.212940  0.255568       6        1   6.689580\n",
       "6      0.168914  0.018892       7        1  18.948061\n",
       "7      0.133260 -0.044589       8        1  11.489400\n",
       "8      0.048377 -0.119033       9        1  10.377123\n",
       "9      0.159616  0.224627      10        1   5.836267, topic_info=           Term         Freq        Total Category  logprob  loglift\n",
       "543     produit  4552.000000  4552.000000  Default  30.0000  30.0000\n",
       "466  transition  4727.000000  4727.000000  Default  29.0000  29.0000\n",
       "88   écologique  6110.000000  6110.000000  Default  28.0000  28.0000\n",
       "256     énergie  5336.000000  5336.000000  Default  27.0000  27.0000\n",
       "169  électrique  3106.000000  3106.000000  Default  26.0000  26.0000\n",
       "..          ...          ...          ...      ...      ...      ...\n",
       "140       monde   295.667290  1557.315871  Topic10  -5.0202   1.1796\n",
       "867        agir   271.360615   892.477674  Topic10  -5.1060   1.6505\n",
       "306       chose   261.931496   738.361612  Topic10  -5.1413   1.8047\n",
       "40     français   282.435028  2428.344367  Topic10  -5.0660   0.6896\n",
       "567     vouloir   268.689293  1257.260518  Topic10  -5.1159   1.2979\n",
       "\n",
       "[653 rows x 6 columns], token_table=      Topic      Freq        Term\n",
       "term                             \n",
       "9489      6  0.989577      \\n\\n  \n",
       "8633      8  0.995185     \\n     \n",
       "5709     10  0.994558     .......\n",
       "1505      1  0.030165  abandonner\n",
       "1505      2  0.034474  abandonner\n",
       "...     ...       ...         ...\n",
       "1258      6  0.030848        être\n",
       "1258      7  0.478681        être\n",
       "1258      8  0.153178        être\n",
       "1258      9  0.062760        être\n",
       "1258     10  0.074993        être\n",
       "\n",
       "[1466 rows x 3 columns], R=30, lambda_step=0.01, plot_opts={'xlab': 'PC1', 'ylab': 'PC2'}, topic_order=[1, 2, 3, 4, 5, 6, 7, 8, 9, 10])"
      ]
     },
     "execution_count": 32,
     "metadata": {},
     "output_type": "execute_result"
    }
   ],
   "source": [
    "import pyLDAvis.gensim_models\n",
    "import warnings\n",
    "\n",
    "pyLDAvis.enable_notebook()\n",
    "warnings.filterwarnings(\"ignore\", category=DeprecationWarning)\n",
    "\n",
    "pyLDAvis.gensim_models.prepare(model, corpus, dictionary, sort_topics=False)"
   ]
  },
  {
   "cell_type": "markdown",
   "metadata": {},
   "source": [
    "Finally, let's look at the topics that the model recognizes in some of the individual documents. Here we see how LDA tends to assign a high probability to a small number of topics for each document, making its results highly interpretable."
   ]
  },
  {
   "cell_type": "code",
   "execution_count": 33,
   "metadata": {},
   "outputs": [
    {
     "name": "stdout",
     "output_type": "stream",
     "text": [
      "***********\n",
      "* doc 1   *\n",
      "***********\n",
      "Multiplier les centrales géothermiques\n",
      "[(8, 0.7749159)]\n",
      "\n",
      "***********\n",
      "* doc 2   *\n",
      "***********\n",
      "Les problèmes auxquels se trouve confronté l’ensemble de la planète et que dénoncent, dans le plus parfait désordre, les gilets jaunes de France ne sont-ils pas dus, avant tout, à la surpopulation mondiale ? Cette population est passée d’1,5 milliards d’habitants en 1900 à 7 milliards en 2020 et montera bientôt à 10 milliards vers 2040.  Avec les progrès de la communication dans ce village mondial, chaque individu, du fin fond de l’Asie au fin fond de l’Afrique, en passant par les « quartiers » et les « campagnes » de notre pays, aspire à vivre – et on ne peu l’en blâmer – comme les moins mal lotis de nos concitoyens (logement, nourriture, biens de consommation, déplacement,etc.).  Voilà la mère de tous les problèmes. Si tel est bien le cas, la solution à tous les problèmes (stabilisation de la croissance démographique, partage des richesses, partage des terres, partage de l’eau, protection de la biodiversité, règlement des conflits, lutte contre la déforestation, lutte contre dérèglement climatique, règlement des conflits, stabilisation des migrations, concurrence commerciale mondiale, etc.) ne sera ni française, ni européenne, mais mondiale. La France se doit d’y jouer un rôle moteur.  Le reste, autour duquel se déroulera « le Grand débat », paraît assez anecdotique.\n",
      "[(6, 0.14272104), (7, 0.2526582), (8, 0.17411886), (10, 0.2550229)]\n",
      "\n",
      "***********\n",
      "* doc 3   *\n",
      "***********\n",
      "Une vrai politique écologique et non économique\n",
      "[(4, 0.81998664)]\n",
      "\n",
      "***********\n",
      "* doc 4   *\n",
      "***********\n",
      "Les bonnes idées ne grandissent que par le partage.\n",
      "\n",
      "En ces jours pénibles où s'affrontent le peuple et ceux entre lesquels ils ont remis leur sort. (tous concernés puis qu’élus).\n",
      "\n",
      "Une idée qui flotte en ce moment sur la mobilité propre dans les zones non ou mal desservies et qui est encore expérimentale dans quelques communes.\n",
      "\n",
      "L'avenir  est entre vos mains et les nôtres. Pourquoi ne pas planifier l'installation de flotte de véhicules électriques partagés en location, dans ces zones isolées.\n",
      "\n",
      "En construisant un partenariat avec : état, région, département, commune ou communauté, professionnel de la location, entreprises locales, constructeurs de véhicules, les bailleurs sociaux, pour la mise en place. Avec l'apport financier de la TICPE qui baissera au fil de la décroissance de la consommation, il faudra penser à la déconnecter du budget de fonctionnement de l'état !\n",
      "\n",
      "Avec un forfait de location pour les utilisateurs, adapté à leur ressources et peut être tout simplement basé sur leurs dépenses de mobilité actuelles. Ainsi pas d'investissements inaccessibles pour eux.\n",
      "\n",
      "Tout le monde y gagnerait, cela  pourrait prendre l'image du relais de poste comme par le passé et réglerait le problème d'autonomie actuel et engendrerait quelques emplois de service, nouveaux.\n",
      "[(3, 0.16010274), (4, 0.23865026), (5, 0.12387435), (9, 0.26449406)]\n",
      "\n",
      "***********\n",
      "* doc 5   *\n",
      "***********\n",
      "Pédagogie dans ce sens là dés la petite école pour sensibilisation via les parcs naturels . Les enfants doivent devenir des prescripteurs  pour les générations futures . Il y a urgence\n",
      "[(4, 0.47232097), (6, 0.20276517), (10, 0.2748892)]\n",
      "\n",
      "***********\n",
      "* doc 6   *\n",
      "***********\n",
      "faire de l'écologie incitative et non punitive on n'est pas des gosses à qui on distribue des bonnes ou mauvaises notes\n",
      "[(1, 0.14052285), (2, 0.1495109), (4, 0.39485985), (10, 0.24011293)]\n",
      "\n",
      "***********\n",
      "* doc 7   *\n",
      "***********\n",
      "Développer le ferroutage pour les poids lourds, Instaurer une vignette pour les poids lourds étrangers qui traversent la France\n",
      "[(2, 0.94705325)]\n",
      "\n",
      "***********\n",
      "* doc 8   *\n",
      "***********\n",
      "- Favoriser le tri des déchets en mettant en place une redevance incitatrice et non punitive,\n",
      "- Arrêt d'une écologie punitive à base de taxes qui est néfaste à la compréhension d'une écologie intelligente, adaptée et durable.\n",
      "- Revoir la politique de pose des panneaux solaire en Ferme qui en fait gâche des terrains et sert plus à récolter des taxes pour les caisses des collectivités,\n",
      "- Revoir la politique de mise en place des éoliennes qui ne sont pas adaptées, peu rentable (< 30%) et qui produisent des effets néfastes par du bruit et des infra-ondes,\n",
      "- Arrêt du rachat, à des prix exorbitants, de l'énergie produite par des panneaux solaire, par des éoliennes ou par tout autre moyen dit propre (Bio-masse, hydraulique),\n",
      "- Favoriser le développement de la bio-masse,\n",
      "- Développer le stockage intelligent de l'énergie,\n",
      "- Réaliser une grande opération pour assurer l'isolation des bâtiments énergivores,\n",
      "- Éteindre les éclairages la nuit,\n",
      "- Développer les transports en site propre.\n",
      "[(5, 0.6446853), (7, 0.14773439)]\n",
      "\n"
     ]
    }
   ],
   "source": [
    "# Nous en affichons que 8\n",
    "i = 0\n",
    "for text, doc in zip(texts[:8], docs[:8]):\n",
    "    i += 1\n",
    "    print(\"***********\")\n",
    "    print(\"* doc\", i, \"  *\")\n",
    "    print(\"***********\")\n",
    "    print(text)\n",
    "    print(\n",
    "        [\n",
    "            (topic + 1, prob)\n",
    "            for (topic, prob) in model[dictionary.doc2bow(doc)]\n",
    "            if prob > 0.1\n",
    "        ]\n",
    "    )\n",
    "    print()"
   ]
  },
  {
   "cell_type": "markdown",
   "metadata": {},
   "source": [
    "Many collections of unstructured text are not accompanied by labels. Topic models such as LDA are a useful technique for discovering the most important topics in these documents. **Gensim** facilitates learning about these topics and **pyLDAvis** presents the results in a visually appealing way. Together, they form a powerful toolkit for better understanding what's inside large document sets and for exploring subsets of related texts. While these results are often already quite revealing, it is also possible to use them as a starting point, for example, for a labeling exercise for supervised text classification. In sum, thematic models should be in every data scientist's toolbox as a very quick way to gain insight into large document collections."
   ]
  }
 ],
 "metadata": {
  "kernelspec": {
   "display_name": "Python 3.8.15 ('fair-multiclass-jmlr')",
   "language": "python",
   "name": "python3"
  },
  "language_info": {
   "codemirror_mode": {
    "name": "ipython",
    "version": 3
   },
   "file_extension": ".py",
   "mimetype": "text/x-python",
   "name": "python",
   "nbconvert_exporter": "python",
   "pygments_lexer": "ipython3",
   "version": "3.9.18"
  },
  "vscode": {
   "interpreter": {
    "hash": "f2c6d438e0ff23f23f7c9e96c527f9b5e322b93f8e1772178d8782332a0aec5a"
   }
  }
 },
 "nbformat": 4,
 "nbformat_minor": 4
}
