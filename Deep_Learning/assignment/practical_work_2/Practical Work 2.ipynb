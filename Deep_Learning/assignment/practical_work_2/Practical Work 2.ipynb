{
 "cells": [
  {
   "cell_type": "markdown",
   "id": "c0d0f46d-0007-418c-b055-4730cbcd2369",
   "metadata": {},
   "source": [
    "#  Practical Work 2\n",
    "\n",
    "Writer: E.W\n",
    "\n",
    "Date: 2024/05/26"
   ]
  },
  {
   "cell_type": "markdown",
   "id": "e57dbbbe-23f9-4dc5-9f07-16ae349439cf",
   "metadata": {},
   "source": [
    "## CNN from scratch"
   ]
  },
  {
   "cell_type": "code",
   "execution_count": 1,
   "id": "9cd56099-1d75-4a0b-a907-04ce050039fa",
   "metadata": {},
   "outputs": [],
   "source": [
    "%load_ext lab_black\n",
    "import matplotlib.pyplot as plt\n",
    "from sklearn import metrics\n",
    "from sklearn.model_selection import train_test_split\n",
    "import torch\n",
    "from torch import nn\n",
    "import torchvision\n",
    "from torchvision import datasets\n",
    "from torchvision.transforms import ToTensor\n",
    "from torch.utils.data import DataLoader"
   ]
  },
  {
   "cell_type": "code",
   "execution_count": 2,
   "id": "f5c5e542-19d8-4204-9983-e2e8bb17311f",
   "metadata": {},
   "outputs": [
    {
     "data": {
      "image/png": "[encoded data removed]",
      "text/plain": [
       "<Figure size 1000x300 with 4 Axes>"
      ]
     },
     "metadata": {},
     "output_type": "display_data"
    }
   ],
   "source": [
    "train_data = torchvision.datasets.MNIST(\n",
    "    root=\"./mnist/\",\n",
    "    train=True,\n",
    "    transform=torchvision.transforms.ToTensor(),\n",
    "    download=True,\n",
    ")\n",
    "test_data = torchvision.datasets.MNIST(\n",
    "    root=\"./mnist/\",\n",
    "    train=False,\n",
    "    transform=torchvision.transforms.ToTensor(),\n",
    "    download=True,\n",
    ")\n",
    "_, axes = plt.subplots(nrows=1, ncols=4, figsize=(10, 3))\n",
    "for ax, image, label in zip(axes, train_data.data, train_data.targets):\n",
    "    ax.set_axis_off()\n",
    "    ax.imshow(image, cmap=plt.cm.gray_r, interpolation=\"nearest\")\n",
    "    ax.set_title(\"Training: %i\" % label)"
   ]
  },
  {
   "cell_type": "code",
   "execution_count": 3,
   "id": "2dc9782d-de40-4bce-8673-ad4a335f2e66",
   "metadata": {},
   "outputs": [
    {
     "name": "stdout",
     "output_type": "stream",
     "text": [
      "Length of train dataloader: 1875 batches of 32\n",
      "Length of test dataloader: 313 batches of 32\n"
     ]
    }
   ],
   "source": [
    "BATCH_SIZE = 32\n",
    "train_loader = DataLoader(train_data, BATCH_SIZE, shuffle=True)\n",
    "test_loader = DataLoader(test_data, BATCH_SIZE, shuffle=False)\n",
    "print(f\"Length of train dataloader: {len(train_loader)} batches of {BATCH_SIZE}\")\n",
    "print(f\"Length of test dataloader: {len(test_loader)} batches of {BATCH_SIZE}\")"
   ]
  },
  {
   "cell_type": "code",
   "execution_count": 4,
   "id": "5bc422ec-3654-4af1-9994-9b6119dc3213",
   "metadata": {},
   "outputs": [
    {
     "data": {
      "text/plain": [
       "(torch.Size([32, 1, 28, 28]), torch.Size([32]))"
      ]
     },
     "execution_count": 4,
     "metadata": {},
     "output_type": "execute_result"
    }
   ],
   "source": [
    "train_features_batch, train_labels_batch = next(iter(train_loader))\n",
    "train_features_batch.shape, train_labels_batch.shape"
   ]
  },
  {
   "cell_type": "code",
   "execution_count": 5,
   "id": "6cedb771-8a07-4960-9f8f-02afe3d994bb",
   "metadata": {},
   "outputs": [],
   "source": [
    "class CNN(nn.Module):\n",
    "    def __init__(self, n_input, n_hidden, n_output):\n",
    "        super().__init__()\n",
    "        self.block1 = nn.Sequential(\n",
    "            nn.Conv2d(n_input, n_hidden, 5, 1, 2),\n",
    "            nn.ReLU(),\n",
    "            nn.Conv2d(n_hidden, n_hidden, 5, 1, 2),\n",
    "            nn.ReLU(),\n",
    "            nn.MaxPool2d(2),\n",
    "        )\n",
    "        self.block2 = nn.Sequential(\n",
    "            nn.Conv2d(n_hidden, n_hidden, 5, 1, 2),\n",
    "            nn.ReLU(),\n",
    "            nn.Conv2d(n_hidden, n_hidden, 5, 1, 2),\n",
    "            nn.ReLU(),\n",
    "            nn.MaxPool2d(2),\n",
    "        )\n",
    "        self.classifier = nn.Sequential(\n",
    "            nn.Flatten(), nn.Linear(n_hidden * 7 * 7, n_output)\n",
    "        )\n",
    "\n",
    "    def forward(self, x):\n",
    "        x = self.block1(x)\n",
    "        x = self.block2(x)\n",
    "        x = self.classifier(x)\n",
    "        return x"
   ]
  },
  {
   "cell_type": "code",
   "execution_count": 6,
   "id": "54083737-aa88-4312-aa38-860e6c3169de",
   "metadata": {},
   "outputs": [],
   "source": [
    "device = torch.device(\"mps\")\n",
    "model = CNN(1, 16, len(train_data.classes)).to(device)"
   ]
  },
  {
   "cell_type": "code",
   "execution_count": 7,
   "id": "2ee99b60-cf02-4905-b62b-8130c25427ec",
   "metadata": {},
   "outputs": [
    {
     "data": {
      "text/plain": [
       "CNN(\n",
       "  (block1): Sequential(\n",
       "    (0): Conv2d(1, 16, kernel_size=(5, 5), stride=(1, 1), padding=(2, 2))\n",
       "    (1): ReLU()\n",
       "    (2): Conv2d(16, 16, kernel_size=(5, 5), stride=(1, 1), padding=(2, 2))\n",
       "    (3): ReLU()\n",
       "    (4): MaxPool2d(kernel_size=2, stride=2, padding=0, dilation=1, ceil_mode=False)\n",
       "  )\n",
       "  (block2): Sequential(\n",
       "    (0): Conv2d(16, 16, kernel_size=(5, 5), stride=(1, 1), padding=(2, 2))\n",
       "    (1): ReLU()\n",
       "    (2): Conv2d(16, 16, kernel_size=(5, 5), stride=(1, 1), padding=(2, 2))\n",
       "    (3): ReLU()\n",
       "    (4): MaxPool2d(kernel_size=2, stride=2, padding=0, dilation=1, ceil_mode=False)\n",
       "  )\n",
       "  (classifier): Sequential(\n",
       "    (0): Flatten(start_dim=1, end_dim=-1)\n",
       "    (1): Linear(in_features=784, out_features=10, bias=True)\n",
       "  )\n",
       ")"
      ]
     },
     "execution_count": 7,
     "metadata": {},
     "output_type": "execute_result"
    }
   ],
   "source": [
    "model"
   ]
  },
  {
   "cell_type": "code",
   "execution_count": 8,
   "id": "e09371fc-15ce-4a79-ba4a-9a697c07b222",
   "metadata": {},
   "outputs": [],
   "source": [
    "optimizer = torch.optim.AdamW(model.parameters(), lr=0.01)\n",
    "loss_func = nn.CrossEntropyLoss()\n",
    "\n",
    "\n",
    "def train(model, data_loader, optimizer, loss_func, device):\n",
    "    model.train()\n",
    "    train_loss = 0\n",
    "    for batch, (X, y) in enumerate(data_loader):\n",
    "        X, y = X.to(device), y.to(device)\n",
    "        y_pred = model(X)\n",
    "        loss = loss_func(y_pred, y)\n",
    "        train_loss += loss.item()\n",
    "        optimizer.zero_grad()\n",
    "        loss.backward()\n",
    "        optimizer.step()\n",
    "    train_loss /= len(data_loader)\n",
    "    print(f\"Train loss: {train_loss:.5f}\")\n",
    "\n",
    "\n",
    "def test(model, data_loader, device):\n",
    "    model.eval()\n",
    "    test_loss, test_accuracy = 0, 0\n",
    "    with torch.inference_mode():\n",
    "        for X, y in data_loader:\n",
    "            X, y = X.to(device), y.to(device)\n",
    "            y_pred = model(X)\n",
    "            y_pred_labels = torch.argmax(y_pred, dim=1)\n",
    "            test_accuracy += torch.sum(y == y_pred_labels).item()\n",
    "            loss = loss_func(y_pred, y)\n",
    "            test_loss += loss.item()\n",
    "    test_accuracy = 100.0 * test_accuracy / len(test_loader.dataset)\n",
    "    test_loss /= len(test_loader)\n",
    "    print(f\"Test loss:{test_loss:.5f} | Test accuracy:{test_accuracy:.5f}\")"
   ]
  },
  {
   "cell_type": "code",
   "execution_count": 9,
   "id": "02c5d315-5919-4669-ab84-b3af82913cf0",
   "metadata": {},
   "outputs": [
    {
     "name": "stdout",
     "output_type": "stream",
     "text": [
      "Epoch 1\n",
      "Train loss: 0.24217\n",
      "Test loss:0.12740 | Test accuracy:95.94000\n",
      "Epoch 2\n",
      "Train loss: 0.13488\n",
      "Test loss:0.11239 | Test accuracy:96.63000\n",
      "Epoch 3\n",
      "Train loss: 0.12392\n",
      "Test loss:0.12687 | Test accuracy:96.05000\n",
      "Epoch 4\n",
      "Train loss: 0.11720\n",
      "Test loss:0.09645 | Test accuracy:96.79000\n",
      "Epoch 5\n",
      "Train loss: 0.11732\n",
      "Test loss:0.09944 | Test accuracy:96.91000\n"
     ]
    }
   ],
   "source": [
    "for i in range(5):\n",
    "    print(f\"Epoch {i+1}\")\n",
    "    train(model, train_loader, optimizer, loss_func, device)\n",
    "    test(model, test_loader, device)"
   ]
  }
 ],
 "metadata": {
  "kernelspec": {
   "display_name": "ml",
   "language": "python",
   "name": "ml"
  },
  "language_info": {
   "codemirror_mode": {
    "name": "ipython",
    "version": 3
   },
   "file_extension": ".py",
   "mimetype": "text/x-python",
   "name": "python",
   "nbconvert_exporter": "python",
   "pygments_lexer": "ipython3",
   "version": "3.9.18"
  }
 },
 "nbformat": 4,
 "nbformat_minor": 5
}
