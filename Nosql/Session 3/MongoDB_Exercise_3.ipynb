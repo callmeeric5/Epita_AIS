{
  "cells": [
    {
      "cell_type": "markdown",
      "metadata": {
        "id": "XnER8VGpwux-"
      },
      "source": [
        "## MongoDB Exercise"
      ]
    },
    {
      "cell_type": "markdown",
      "source": [
        "### Setup\n",
        "\n",
        "Import the following documents into a `universities` collection:\n",
        "\n",
        "```json\n",
        "[\n",
        "   {\n",
        "      \"country\":\"Spain\",\n",
        "      \"city\":\"Salamanca\",\n",
        "      \"name\":\"USAL\",\n",
        "      \"location\":{\n",
        "         \"type\":\"Point\",\n",
        "         \"coordinates\":[\n",
        "            -5.6722512,\n",
        "            17,\n",
        "            40.9607792\n",
        "         ]\n",
        "      },\n",
        "      \"students\":[\n",
        "         {\n",
        "            \"year\":2014,\n",
        "            \"number\":24774\n",
        "         },\n",
        "         {\n",
        "            \"year\":2015,\n",
        "            \"number\":23166\n",
        "         },\n",
        "         {\n",
        "            \"year\":2016,\n",
        "            \"number\":21913\n",
        "         },\n",
        "         {\n",
        "            \"year\":2017,\n",
        "            \"number\":21715\n",
        "         }\n",
        "      ]\n",
        "   },\n",
        "   {\n",
        "      \"country\":\"Spain\",\n",
        "      \"city\":\"Salamanca\",\n",
        "      \"name\":\"UPSA\",\n",
        "      \"location\":{\n",
        "         \"type\":\"Point\",\n",
        "         \"coordinates\":[\n",
        "            -5.6691191,\n",
        "            17,\n",
        "            40.9631732\n",
        "         ]\n",
        "      },\n",
        "      \"students\":[\n",
        "         {\n",
        "            \"year\":2014,\n",
        "            \"number\":4788\n",
        "         },\n",
        "         {\n",
        "            \"year\":2015,\n",
        "            \"number\":4821\n",
        "         },\n",
        "         {\n",
        "            \"year\":2016,\n",
        "            \"number\":6550\n",
        "         },\n",
        "         {\n",
        "            \"year\":2017,\n",
        "            \"number\":6125\n",
        "         }\n",
        "      ]\n",
        "   }\n",
        "]\n",
        "```"
      ],
      "metadata": {
        "id": "0tecb9atnehv"
      }
    },
    {
      "cell_type": "code",
      "execution_count": null,
      "metadata": {
        "id": "kfEuPnbMv4o_"
      },
      "outputs": [],
      "source": [
        "# Install the dependencies\n"
      ]
    },
    {
      "cell_type": "code",
      "execution_count": null,
      "metadata": {
        "id": "XnT269vgv-DU"
      },
      "outputs": [],
      "source": [
        "# Import the required libraries\n"
      ]
    },
    {
      "cell_type": "code",
      "execution_count": null,
      "metadata": {
        "id": "tGLnoes7wNii"
      },
      "outputs": [],
      "source": [
        "# Get the colab otebook IP\n"
      ]
    },
    {
      "cell_type": "code",
      "execution_count": null,
      "metadata": {
        "id": "ibAu0HEny8Tf"
      },
      "outputs": [],
      "source": [
        "# Write the Solution\n",
        "\n",
        "# Hint:\n",
        "# 1. Connect to the Atlas cluster\n",
        "# 2. Get the database object\n",
        "# 3. Get the collection object\n",
        "# 4. Insert the data into the collection\n"
      ]
    },
    {
      "cell_type": "markdown",
      "source": [
        "Insert the following documents into the `courses` collection:\n",
        "\n",
        "```json\n",
        "[\n",
        "   {\n",
        "      \"university\":\"USAL\",\n",
        "      \"name\":\"Computer Science\",\n",
        "      \"level\":\"Excellent\"\n",
        "   },\n",
        "   {\n",
        "      \"university\":\"USAL\",\n",
        "      \"name\":\"Electronics\",\n",
        "      \"level\":\"Intermediate\"\n",
        "   },\n",
        "   {\n",
        "      \"university\":\"USAL\",\n",
        "      \"name\":\"Communication\",\n",
        "      \"level\":\"Excellent\"\n",
        "   }\n",
        "]\n",
        "```"
      ],
      "metadata": {
        "id": "fCzrZ4NLpB5s"
      }
    },
    {
      "cell_type": "code",
      "source": [
        "# Write the Solution\n"
      ],
      "metadata": {
        "id": "92lMqTlUneSA"
      },
      "execution_count": null,
      "outputs": []
    },
    {
      "cell_type": "markdown",
      "metadata": {
        "id": "vL-JKT1Bx2DB"
      },
      "source": [
        "### MongoDB Aggregations"
      ]
    },
    {
      "cell_type": "markdown",
      "metadata": {
        "id": "W8x2yx88x5ZV"
      },
      "source": [
        "### Exercise 1 💻\n",
        "\n",
        "Use the `$match` stage to find the `universities` which specify that `Spain` is the value of the field `country`, and `Salamanca` is the value of the field `city`."
      ]
    },
    {
      "cell_type": "code",
      "source": [
        "# Write the Solution\n"
      ],
      "metadata": {
        "id": "6tjQBSNXpk_d"
      },
      "execution_count": null,
      "outputs": []
    },
    {
      "cell_type": "markdown",
      "metadata": {
        "id": "4Hwq9nLJ0xoa"
      },
      "source": [
        "### Exercise 2 💻\n",
        "\n",
        "Use the `$project` stage to the following fields from the `universities`:\n",
        "* `country`\n",
        "* `city`\n",
        "* `name`"
      ]
    },
    {
      "cell_type": "code",
      "execution_count": null,
      "metadata": {
        "id": "-2x76kI43eXZ"
      },
      "outputs": [],
      "source": [
        "# Write the Solution\n"
      ]
    },
    {
      "cell_type": "markdown",
      "metadata": {
        "id": "NEOLi_HA51eC"
      },
      "source": [
        "### Exercise 3 💻\n",
        "\n",
        "Use the [`$group`](https://www.mongodb.com/docs/manual/reference/operator/aggregation/group/) stage to get the number of courses per level in our `courses` collection"
      ]
    },
    {
      "cell_type": "code",
      "execution_count": null,
      "metadata": {
        "id": "jXBjXEwD6Uuq"
      },
      "outputs": [],
      "source": [
        "# Write the Solution\n"
      ]
    },
    {
      "cell_type": "markdown",
      "source": [
        "The `$group` stage supports certain expressions (operators) allowing users to perform arithmetic, array, boolean and other operations as part of the aggregation pipeline.\n",
        "\n",
        "| Operator | Meaning |\n",
        "| -------- | ------- |\n",
        "| `$count` | Calculates the quantity of documents in the given group. |\n",
        "| `$max` | Displays the maximum value of a document’s field in the collection. |\n",
        "| `$min` | Displays the minimum value of a document’s field in the collection. |\n",
        "| `$avg` | Displays the average value of a document’s field in the collection. |\n",
        "| `$sum` | Sums up the specified values of all documents in the collection. |\n",
        "| `$push` | Adds extra values into the array of the resulting document. |"
      ],
      "metadata": {
        "id": "yihJV53VqvhA"
      }
    },
    {
      "cell_type": "markdown",
      "metadata": {
        "id": "dKAeEUmX7lR7"
      },
      "source": [
        "### Exercise 4 💻\n",
        "\n",
        "The `$out` stage is used to store the results of an aggregation in a separate collection. Store the results of the previous aggregation pipeline in a collection called `test_out`.\n"
      ]
    },
    {
      "cell_type": "code",
      "execution_count": null,
      "metadata": {
        "id": "5yAG_Xfg8E99"
      },
      "outputs": [],
      "source": [
        "# Write the Solution\n"
      ]
    },
    {
      "cell_type": "markdown",
      "metadata": {
        "id": "G7QCYCdh8I8K"
      },
      "source": [
        "### Exercise 5 💻\n",
        "\n",
        "Use the `$unwind` stage, get all students information in seprate documents."
      ]
    },
    {
      "cell_type": "code",
      "execution_count": null,
      "metadata": {
        "id": "5K63M8BT8ojK"
      },
      "outputs": [],
      "source": [
        "# Write the Solution\n"
      ]
    },
    {
      "cell_type": "markdown",
      "metadata": {
        "id": "iyAu80Re8q62"
      },
      "source": [
        "### Exercise 6 💻\n",
        "\n",
        "Use the `$sort` stage to sort the results from the last aggregation pipeline using the `number` field."
      ]
    },
    {
      "cell_type": "code",
      "execution_count": null,
      "metadata": {
        "id": "jMmBGptO9M_l"
      },
      "outputs": [],
      "source": [
        "# Write the Solution\n"
      ]
    },
    {
      "cell_type": "markdown",
      "metadata": {
        "id": "Y7MKtf0z9Owi"
      },
      "source": [
        "Exercise 7 💻\n",
        "\n",
        "Use the `$limit` stage to get the first 2 results from the previous pipeline."
      ]
    },
    {
      "cell_type": "code",
      "execution_count": null,
      "metadata": {
        "id": "cRDYOkljBI55"
      },
      "outputs": [],
      "source": [
        "# Write the Solution\n"
      ]
    },
    {
      "cell_type": "markdown",
      "metadata": {
        "id": "KR3COxPYvsCE"
      },
      "source": [
        "### Exercise 8 💻\n",
        "\n",
        "Retrieve all the `universities`, and add a new field called `foundation_year`, with value 2000. Use the `$addFields` stage."
      ]
    },
    {
      "cell_type": "code",
      "execution_count": null,
      "metadata": {
        "id": "ngw0uSdWvsCE"
      },
      "outputs": [],
      "source": [
        "# Write the solution\n"
      ]
    },
    {
      "cell_type": "markdown",
      "source": [
        "### Exercise 9 💻\n",
        "\n",
        "Use the `$count` stage, with the `$unwind` stage, to get the number of students information in all `universities`."
      ],
      "metadata": {
        "id": "73YLO8p4KYxi"
      }
    },
    {
      "cell_type": "code",
      "source": [
        "# Write the solution\n"
      ],
      "metadata": {
        "id": "nDGpmCqDKsKP"
      },
      "execution_count": null,
      "outputs": []
    },
    {
      "cell_type": "markdown",
      "source": [
        "### Exercise 10 💻\n",
        "\n",
        "Use the `$lookup` stage to get the `courses` information for the `USAL` university.\n",
        "\n",
        "Output should be similar to:\n",
        "```json\n",
        "{\n",
        "\t\"name\" : \"USAL\",\n",
        "\t\"courses\" : [\n",
        "\t\t{\n",
        "\t\t\t\"_id\" : ObjectId(\"5b7d9ea5fbc9884f689cdbab\"),\n",
        "\t\t\t\"university\" : \"USAL\",\n",
        "\t\t\t\"name\" : \"Computer Science\",\n",
        "\t\t\t\"level\" : \"Excellent\"\n",
        "\t\t},\n",
        "\t\t{\n",
        "\t\t\t\"_id\" : ObjectId(\"5b7d9ea5fbc9884f689cdbac\"),\n",
        "\t\t\t\"university\" : \"USAL\",\n",
        "\t\t\t\"name\" : \"Electronics\",\n",
        "\t\t\t\"level\" : \"Intermediate\"\n",
        "\t\t},\n",
        "\t\t{\n",
        "\t\t\t\"_id\" : ObjectId(\"5b7d9ea5fbc9884f689cdbad\"),\n",
        "\t\t\t\"university\" : \"USAL\",\n",
        "\t\t\t\"name\" : \"Communication\",\n",
        "\t\t\t\"level\" : \"Excellent\"\n",
        "\t\t}\n",
        "\t]\n",
        "}\n",
        "```"
      ],
      "metadata": {
        "id": "Q1KIlY0WKu3w"
      }
    },
    {
      "cell_type": "code",
      "source": [
        "# Write the solution\n"
      ],
      "metadata": {
        "id": "CV4eG7GQLQDY"
      },
      "execution_count": null,
      "outputs": []
    },
    {
      "cell_type": "markdown",
      "source": [
        "### Exercise 11 💻\n",
        "\n",
        "What is the total number of students that have ever belonged to each one of the universities?\n",
        "Sort the result by number of students descending.\n",
        "\n",
        " Output should be similar to:\n",
        " ```json\n",
        "{ \"_id\" : \"USAL\", \"totalalumni\" : 91568 }\n",
        "{ \"_id\" : \"UPSA\", \"totalalumni\" : 22284 }\n",
        " ```"
      ],
      "metadata": {
        "id": "0cC2MreCLOz8"
      }
    },
    {
      "cell_type": "code",
      "source": [
        "# Write the solution\n"
      ],
      "metadata": {
        "id": "WhCXocwvLsCV"
      },
      "execution_count": null,
      "outputs": []
    }
  ],
  "metadata": {
    "colab": {
      "provenance": []
    },
    "kernelspec": {
      "display_name": "Python 3",
      "name": "python3"
    },
    "language_info": {
      "name": "python"
    }
  },
  "nbformat": 4,
  "nbformat_minor": 0
}