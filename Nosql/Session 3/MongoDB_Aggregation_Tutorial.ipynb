{
  "cells": [
    {
      "cell_type": "markdown",
      "metadata": {
        "id": "BmHxV1-0hnv4"
      },
      "source": [
        "# MongoDB Aggregation Guide"
      ]
    },
    {
      "cell_type": "markdown",
      "metadata": {
        "id": "JsSu-gG6hy2s"
      },
      "source": [
        "### Step 1\n",
        "Install [pymongo](https://www.mongodb.com/docs/drivers/pymongo/) driver"
      ]
    },
    {
      "cell_type": "code",
      "execution_count": null,
      "metadata": {
        "id": "4m4YMn7OI8Yi"
      },
      "outputs": [],
      "source": [
        "!pip install \"pymongo[srv]\""
      ]
    },
    {
      "cell_type": "markdown",
      "metadata": {
        "id": "iPdKjLNsiOJZ"
      },
      "source": [
        "### Step 2\n",
        "\n",
        "#### Connect to Atlas cluster"
      ]
    },
    {
      "cell_type": "code",
      "execution_count": null,
      "metadata": {
        "id": "DHBodADUAf45"
      },
      "outputs": [],
      "source": [
        "from pymongo.mongo_client import MongoClient\n",
        "from pymongo.server_api import ServerApi"
      ]
    },
    {
      "cell_type": "code",
      "execution_count": null,
      "metadata": {
        "id": "WB727QPVBBzG"
      },
      "outputs": [],
      "source": [
        "!curl ipecho.net/plain"
      ]
    },
    {
      "cell_type": "code",
      "execution_count": null,
      "metadata": {
        "id": "_zdor-1II7Sn"
      },
      "outputs": [],
      "source": [
        "username = \"\"\n",
        "password = \"\"\n",
        "cluster_url = \"\"\n",
        "\n",
        "uri = f\"mongodb+srv://{username}:{password}@{cluster_url}/?retryWrites=true&w=majority\"\n",
        "\n",
        "# Create a new client and connect to the server\n",
        "client = MongoClient(uri, server_api=ServerApi('1'))\n",
        "\n",
        "# Send a ping to confirm a successful connection\n",
        "try:\n",
        "    client.admin.command('ping')\n",
        "    print(\"Pinged your deployment. You successfully connected to MongoDB!\")\n",
        "except Exception as e:\n",
        "    print(e)"
      ]
    },
    {
      "cell_type": "markdown",
      "metadata": {
        "id": "M5fNFEoTiwwU"
      },
      "source": [
        "### Step 3"
      ]
    },
    {
      "cell_type": "markdown",
      "source": [
        "#### Setup\n",
        "\n",
        "To start, we’ll insert some example data which we can perform aggregations on:"
      ],
      "metadata": {
        "id": "rAoppM9hf_Vy"
      }
    },
    {
      "cell_type": "code",
      "source": [
        "db = client.aggregation_example\n",
        "db.things.insert_many(\n",
        "    [\n",
        "        {\"x\": 1, \"tags\": [\"dog\", \"cat\"]},\n",
        "        {\"x\": 2, \"tags\": [\"cat\"]},\n",
        "        {\"x\": 2, \"tags\": [\"mouse\", \"cat\", \"dog\"]},\n",
        "        {\"x\": 3, \"tags\": []},\n",
        "    ]\n",
        ")"
      ],
      "metadata": {
        "id": "lJ0q2-ITgE0D"
      },
      "execution_count": null,
      "outputs": []
    },
    {
      "cell_type": "markdown",
      "metadata": {
        "id": "2ZW2IGGji04u"
      },
      "source": [
        "#### Aggregation Framework"
      ]
    },
    {
      "cell_type": "markdown",
      "source": [
        "This example shows how to use the [aggregate()](https://pymongo.readthedocs.io/en/stable/api/pymongo/collection.html#pymongo.collection.Collection.aggregate) method to use the aggregation framework. We’ll perform a simple aggregation to count the number of occurrences for each tag in the tags array, across the entire collection. To achieve this we need to pass in three operations to the pipeline. First, we need to unwind the `tags` array, then group by the tags and sum them up, finally we sort by count.\n",
        "\n",
        "As python dictionaries don’t maintain order you should use [SON](https://pymongo.readthedocs.io/en/stable/api/bson/son.html#bson.son.SON) or [collections.OrderedDict](https://docs.python.org/3/library/collections.html#collections.OrderedDict) where explicit ordering is required eg “$sort”:"
      ],
      "metadata": {
        "id": "meddNiqqgZY8"
      }
    },
    {
      "cell_type": "code",
      "source": [
        "from bson.son import SON\n",
        "\n",
        "pipeline = [\n",
        "    {\"$unwind\": \"$tags\"},\n",
        "    {\"$group\": {\"_id\": \"$tags\", \"count\": {\"$sum\": 1}}},\n",
        "    {\"$sort\": SON([(\"count\", -1), (\"_id\", -1)])},\n",
        "]\n",
        "\n",
        "import pprint\n",
        "\n",
        "pprint.pprint(list(db.things.aggregate(pipeline)))"
      ],
      "metadata": {
        "id": "V9kGV6JBgwsc"
      },
      "execution_count": null,
      "outputs": []
    },
    {
      "cell_type": "markdown",
      "source": [
        "##### Different ways to iterate a curosr:"
      ],
      "metadata": {
        "id": "2KI7jYvSjTfK"
      }
    },
    {
      "cell_type": "markdown",
      "source": [
        "* Using list to transform cursor to list"
      ],
      "metadata": {
        "id": "KRDuihvijkX7"
      }
    },
    {
      "cell_type": "code",
      "source": [
        "# Get cursor object\n",
        "results = db.things.aggregate(pipeline)\n",
        "\n",
        "# Apply list method to the cursor, to transform to a list\n",
        "results_list = list(results)\n",
        "\n",
        "# Work with the list, print the length, first item, last item, ...\n",
        "print(f'Length of the list is {len(results_list)}')\n",
        "print(f'First item in the list is : {results_list[0]}')\n",
        "print(f'Last item in the list is : {results_list[-1]}')"
      ],
      "metadata": {
        "id": "b0rlGKGljjOv"
      },
      "execution_count": null,
      "outputs": []
    },
    {
      "cell_type": "markdown",
      "source": [
        "* Using `for item in cursor`"
      ],
      "metadata": {
        "id": "IYgRGZo2kPSS"
      }
    },
    {
      "cell_type": "code",
      "source": [
        "# Get cursor object\n",
        "results = db.things.aggregate(pipeline)\n",
        "\n",
        "# Iterate the cursor, find the result with count = 2\n",
        "for item in results:\n",
        "  if item['count'] == 2:\n",
        "    print(item)\n",
        "    break"
      ],
      "metadata": {
        "id": "Euuqg_cHjOcZ"
      },
      "execution_count": null,
      "outputs": []
    },
    {
      "cell_type": "markdown",
      "source": [
        "* Use `.alive` and `next()`"
      ],
      "metadata": {
        "id": "_lAldphtkk7w"
      }
    },
    {
      "cell_type": "code",
      "source": [
        "# Get cursor object\n",
        "results = db.things.aggregate(pipeline)\n",
        "\n",
        "# Iterate the cursor, find the result with count = 2\n",
        "while results.alive:\n",
        "  item = results.next()\n",
        "  if item['count'] == 2:\n",
        "    print(item)\n",
        "    break"
      ],
      "metadata": {
        "id": "Pk4YollwkqMq"
      },
      "execution_count": null,
      "outputs": []
    }
  ],
  "metadata": {
    "colab": {
      "provenance": []
    },
    "kernelspec": {
      "display_name": "Python 3",
      "name": "python3"
    },
    "language_info": {
      "name": "python"
    }
  },
  "nbformat": 4,
  "nbformat_minor": 0
}