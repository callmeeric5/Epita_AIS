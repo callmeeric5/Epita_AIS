{
  "cells": [
    {
      "cell_type": "markdown",
      "metadata": {
        "id": "u1AUhqWeUXq2"
      },
      "source": [
        "# Welcome to Redis"
      ]
    },
    {
      "cell_type": "markdown",
      "metadata": {},
      "source": [
        "The open-source, in-memory data store used by millions of developers as a cache, vector database, document database, streaming engine, and message broker."
      ]
    },
    {
      "cell_type": "markdown",
      "metadata": {},
      "source": [
        "## Install Redis"
      ]
    },
    {
      "cell_type": "markdown",
      "metadata": {},
      "source": [
        "To install redis locally, we will use docker."
      ]
    },
    {
      "cell_type": "markdown",
      "metadata": {},
      "source": [
        "### Redis Stack"
      ]
    },
    {
      "cell_type": "markdown",
      "metadata": {},
      "source": [
        "Run the following command to run the redis database with docker:\n",
        "\n",
        "```\n",
        "docker run -d --name redis-stack -p 6379:6379 -p 8001:8001 redis/redis-stack:latest\n",
        "```"
      ]
    },
    {
      "cell_type": "markdown",
      "metadata": {},
      "source": [
        "Navigate to [`http://localhost:8001`](http://localhost:8001) to use redinsight, a GUI of your Redis database."
      ]
    },
    {
      "cell_type": "markdown",
      "metadata": {},
      "source": [
        "### Redis CLI"
      ]
    },
    {
      "cell_type": "markdown",
      "metadata": {},
      "source": [
        "You can then connect to the server using `redis-cli`, just as you connect to any Redis instance.\n",
        "\n",
        "If you don’t have `redis-cli` installed locally, you can run it from the Docker container:\n",
        "\n",
        "```\n",
        "docker exec -it redis-stack redis-cli\n",
        "```"
      ]
    },
    {
      "cell_type": "markdown",
      "metadata": {},
      "source": [
        "Check the [documentation](https://redis.io/docs/install/install-stack/docker/) for more information"
      ]
    },
    {
      "cell_type": "markdown",
      "metadata": {},
      "source": [
        "## Redis Data Types"
      ]
    },
    {
      "cell_type": "markdown",
      "metadata": {},
      "source": [
        "Redis is a data structure server. At its core, Redis provides a collection of native data types that help you solve a wide variety of problems, from caching to queuing to event processing."
      ]
    },
    {
      "cell_type": "markdown",
      "metadata": {},
      "source": [
        "### Strings"
      ]
    },
    {
      "cell_type": "markdown",
      "metadata": {},
      "source": [
        "Redis strings store sequences of bytes, including text, serialized objects, and binary arrays. As such, strings are the simplest type of value you can associate with a Redis key. They're often used for caching, but they support additional functionality that lets you implement counters and perform bitwise operations, too.\n",
        "\n",
        "the SET and the GET commands are the way we set and retrieve a string value. Note that SET will replace any existing value already stored into the key, in the case that the key already exists, even if the key is associated with a non-string value.\n",
        "\n",
        "- SET\n",
        "    ```\n",
        "    SET bike:1 Deimos\n",
        "    ```\n",
        "- GET\n",
        "    ```\n",
        "    GET bike:1\n",
        "    ```"
      ]
    },
    {
      "cell_type": "markdown",
      "metadata": {},
      "source": [
        "#### Increment"
      ]
    },
    {
      "cell_type": "markdown",
      "metadata": {},
      "source": [
        "The INCR command parses the string value as an integer, increments it by one, and finally sets the obtained value as the new value. There are other similar commands like INCRBY, DECR and DECRBY. Internally it's always the same command, acting in a slightly different way.\n",
        "\n",
        "```\n",
        "SET total_crashes 0\n",
        "INCR total_crashes\n",
        "INCRBY total_crashes 10\n",
        "GET total_crashes\n",
        "```"
      ]
    },
    {
      "cell_type": "markdown",
      "metadata": {},
      "source": [
        "### Lists"
      ]
    },
    {
      "cell_type": "markdown",
      "metadata": {},
      "source": [
        "Redis lists are linked lists of string values. Redis lists are frequently used to:\n",
        "- Implement stacks and queues.\n",
        "- Build queue management for background worker systems."
      ]
    },
    {
      "cell_type": "markdown",
      "metadata": {},
      "source": [
        "#### Basic Commands"
      ]
    },
    {
      "cell_type": "markdown",
      "metadata": {},
      "source": [
        "##### LPUSH"
      ]
    },
    {
      "cell_type": "markdown",
      "metadata": {},
      "source": [
        "Adds a new element to the head of a list\n",
        "\n",
        "```\n",
        "LPUSH bikes:repairs bike:1\n",
        "```"
      ]
    },
    {
      "cell_type": "markdown",
      "metadata": {},
      "source": [
        "##### RPUSH"
      ]
    },
    {
      "cell_type": "markdown",
      "metadata": {},
      "source": [
        "Adds a new element to the tail of a list\n",
        "\n",
        "```\n",
        "RPUSH bikes:repairs bike:2\n",
        "```"
      ]
    },
    {
      "cell_type": "markdown",
      "metadata": {},
      "source": [
        "##### LPOP"
      ]
    },
    {
      "cell_type": "markdown",
      "metadata": {},
      "source": [
        "Removes and returns an element from the head of a list\n",
        "\n",
        "```\n",
        "LPOP bikes:repairs\n",
        "```"
      ]
    },
    {
      "cell_type": "markdown",
      "metadata": {},
      "source": [
        "##### RPOP"
      ]
    },
    {
      "cell_type": "markdown",
      "metadata": {},
      "source": [
        "Removes and returns an element from the tail of a list\n",
        "\n",
        "```\n",
        "RPOP bikes:repairs\n",
        "```"
      ]
    },
    {
      "cell_type": "markdown",
      "metadata": {},
      "source": [
        "##### LLEN"
      ]
    },
    {
      "cell_type": "markdown",
      "metadata": {},
      "source": [
        "Returns the length of a list.\n",
        "\n",
        "```\n",
        "LLEN bikes:repairs\n",
        "```"
      ]
    },
    {
      "cell_type": "markdown",
      "metadata": {},
      "source": [
        "##### LMOVE"
      ]
    },
    {
      "cell_type": "markdown",
      "metadata": {},
      "source": [
        "Atomically moves elements from one list to another.\n",
        "\n",
        "```\n",
        "LPUSH bikes:repairs bike:1\n",
        "LPUSH bikes:repairs bike:2\n",
        "LMOVE bikes:repairs bikes:finished LEFT LEFT\n",
        "```"
      ]
    },
    {
      "cell_type": "markdown",
      "metadata": {},
      "source": [
        "##### LTRIM"
      ]
    },
    {
      "cell_type": "markdown",
      "metadata": {},
      "source": [
        "Reduces a list to the specified range of elements.\n",
        "\n",
        "```\n",
        "RPUSH bikes:repairs bike:1 bike:2 bike:3 bike:4 bike:5\n",
        "LTRIM bikes:repairs 0 2\n",
        "```"
      ]
    },
    {
      "cell_type": "markdown",
      "metadata": {},
      "source": [
        "##### LRANGE"
      ]
    },
    {
      "cell_type": "markdown",
      "metadata": {},
      "source": [
        "Extracts ranges of elements from lists\n",
        "\n",
        "```\n",
        "LRANGE bikes:repais 0 -1\n",
        "```"
      ]
    },
    {
      "cell_type": "markdown",
      "metadata": {},
      "source": [
        "#### Use Cases"
      ]
    },
    {
      "cell_type": "markdown",
      "metadata": {},
      "source": [
        "##### Queue (First In, First Out)"
      ]
    },
    {
      "cell_type": "markdown",
      "metadata": {},
      "source": [
        "```\n",
        "LPUSH bikes:repairs bike:1\n",
        "LPUSH bikes:repairs bike:2\n",
        "RPOP bikes:repairs\n",
        "RPOP bikes:repairs\n",
        "```"
      ]
    },
    {
      "cell_type": "markdown",
      "metadata": {},
      "source": [
        "##### Stack (First In, Last Out)"
      ]
    },
    {
      "cell_type": "markdown",
      "metadata": {},
      "source": [
        "```\n",
        "LPUSH bikes:repairs bike:1\n",
        "LPUSH bikes:repairs bike:2\n",
        "LPOP bikes:repairs\n",
        "LPOP bikes:repairs\n",
        "```"
      ]
    },
    {
      "cell_type": "markdown",
      "metadata": {},
      "source": [
        "### Sets"
      ]
    },
    {
      "cell_type": "markdown",
      "metadata": {},
      "source": [
        "A Redis set is an unordered collection of unique strings (members). You can use Redis sets to efficiently:\n",
        "- Track unique items (e.g., track all unique IP addresses accessing a given blog post).\n",
        "- Represent relations (e.g., the set of all users with a given role).\n",
        "- Perform common set operations such as intersection, unions, and differences."
      ]
    },
    {
      "cell_type": "markdown",
      "metadata": {},
      "source": [
        "#### Basic Commands"
      ]
    },
    {
      "cell_type": "markdown",
      "metadata": {},
      "source": [
        "##### SADD"
      ]
    },
    {
      "cell_type": "markdown",
      "metadata": {},
      "source": [
        "Adds a new member to a set.\n",
        "\n",
        "```\n",
        "SADD bikes:racing:france bike:1\n",
        "```"
      ]
    },
    {
      "cell_type": "markdown",
      "metadata": {},
      "source": [
        "##### SREM"
      ]
    },
    {
      "cell_type": "markdown",
      "metadata": {},
      "source": [
        "Removes the specified member from the set.\n",
        "\n",
        "```\n",
        "SREM bikes:racing:france bike:1\n",
        "```"
      ]
    },
    {
      "cell_type": "markdown",
      "metadata": {},
      "source": [
        "##### SISMEMBER"
      ]
    },
    {
      "cell_type": "markdown",
      "metadata": {},
      "source": [
        "Tests a string for set membership.\n",
        "\n",
        "```\n",
        "SADD bikes:racing:france bike:1\n",
        "SADD bikes:racing:usa bike:1 bike:4\n",
        "SISMEMBER bikes:racing:usa bike:1\n",
        "SISMEMBER bikes:racing:france bike:4\n",
        "```"
      ]
    },
    {
      "cell_type": "markdown",
      "metadata": {},
      "source": [
        "##### SINTER"
      ]
    },
    {
      "cell_type": "markdown",
      "metadata": {},
      "source": [
        "Returns the set of members that two or more sets have in common (i.e., the intersection).\n",
        "\n",
        "```\n",
        "SINTER bikes:racing:france bikes:racing:usa\n",
        "```"
      ]
    },
    {
      "cell_type": "markdown",
      "metadata": {},
      "source": [
        "##### SCARD"
      ]
    },
    {
      "cell_type": "markdown",
      "metadata": {},
      "source": [
        "Returns the size (a.k.a. cardinality) of a set.\n",
        "\n",
        "```\n",
        "SCARD bikes:racing:france\n",
        "```"
      ]
    }
  ],
  "metadata": {
    "colab": {
      "provenance": []
    },
    "kernelspec": {
      "display_name": "Python 3",
      "name": "python3"
    },
    "language_info": {
      "name": "python"
    }
  },
  "nbformat": 4,
  "nbformat_minor": 0
}
