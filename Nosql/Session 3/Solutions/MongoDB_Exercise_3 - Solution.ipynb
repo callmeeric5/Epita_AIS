{
  "cells": [
    {
      "cell_type": "markdown",
      "metadata": {
        "id": "XnER8VGpwux-"
      },
      "source": [
        "## MongoDB Exercise"
      ]
    },
    {
      "cell_type": "markdown",
      "source": [
        "### Setup\n",
        "\n",
        "Import the following documents into a `universities` collection:\n",
        "\n",
        "```json\n",
        "[\n",
        "   {\n",
        "      \"country\":\"Spain\",\n",
        "      \"city\":\"Salamanca\",\n",
        "      \"name\":\"USAL\",\n",
        "      \"location\":{\n",
        "         \"type\":\"Point\",\n",
        "         \"coordinates\":[\n",
        "            -5.6722512,\n",
        "            17,\n",
        "            40.9607792\n",
        "         ]\n",
        "      },\n",
        "      \"students\":[\n",
        "         {\n",
        "            \"year\":2014,\n",
        "            \"number\":24774\n",
        "         },\n",
        "         {\n",
        "            \"year\":2015,\n",
        "            \"number\":23166\n",
        "         },\n",
        "         {\n",
        "            \"year\":2016,\n",
        "            \"number\":21913\n",
        "         },\n",
        "         {\n",
        "            \"year\":2017,\n",
        "            \"number\":21715\n",
        "         }\n",
        "      ]\n",
        "   },\n",
        "   {\n",
        "      \"country\":\"Spain\",\n",
        "      \"city\":\"Salamanca\",\n",
        "      \"name\":\"UPSA\",\n",
        "      \"location\":{\n",
        "         \"type\":\"Point\",\n",
        "         \"coordinates\":[\n",
        "            -5.6691191,\n",
        "            17,\n",
        "            40.9631732\n",
        "         ]\n",
        "      },\n",
        "      \"students\":[\n",
        "         {\n",
        "            \"year\":2014,\n",
        "            \"number\":4788\n",
        "         },\n",
        "         {\n",
        "            \"year\":2015,\n",
        "            \"number\":4821\n",
        "         },\n",
        "         {\n",
        "            \"year\":2016,\n",
        "            \"number\":6550\n",
        "         },\n",
        "         {\n",
        "            \"year\":2017,\n",
        "            \"number\":6125\n",
        "         }\n",
        "      ]\n",
        "   }\n",
        "]\n",
        "```"
      ],
      "metadata": {
        "id": "0tecb9atnehv"
      }
    },
    {
      "cell_type": "code",
      "execution_count": 1,
      "metadata": {
        "id": "kfEuPnbMv4o_",
        "colab": {
          "base_uri": "https://localhost:8080/"
        },
        "outputId": "e56ddf83-e659-4be3-a9e1-fad4c7bf32a5"
      },
      "outputs": [
        {
          "output_type": "stream",
          "name": "stdout",
          "text": [
            "Collecting pymongo[srv]\n",
            "  Downloading pymongo-4.6.1-cp310-cp310-manylinux_2_17_x86_64.manylinux2014_x86_64.whl (677 kB)\n",
            "\u001b[?25l     \u001b[90m━━━━━━━━━━━━━━━━━━━━━━━━━━━━━━━━━━━━━━━━\u001b[0m \u001b[32m0.0/677.1 kB\u001b[0m \u001b[31m?\u001b[0m eta \u001b[36m-:--:--\u001b[0m\r\u001b[2K     \u001b[91m━━━━━━━━━━━━\u001b[0m\u001b[90m╺\u001b[0m\u001b[90m━━━━━━━━━━━━━━━━━━━━━━━━━━━\u001b[0m \u001b[32m204.8/677.1 kB\u001b[0m \u001b[31m6.1 MB/s\u001b[0m eta \u001b[36m0:00:01\u001b[0m\r\u001b[2K     \u001b[91m━━━━━━━━━━━━━━━━━━━━━━━━━━━━━━━━━━━━━━━\u001b[0m\u001b[91m╸\u001b[0m \u001b[32m675.8/677.1 kB\u001b[0m \u001b[31m10.0 MB/s\u001b[0m eta \u001b[36m0:00:01\u001b[0m\r\u001b[2K     \u001b[90m━━━━━━━━━━━━━━━━━━━━━━━━━━━━━━━━━━━━━━━━\u001b[0m \u001b[32m677.1/677.1 kB\u001b[0m \u001b[31m8.2 MB/s\u001b[0m eta \u001b[36m0:00:00\u001b[0m\n",
            "\u001b[?25hCollecting dnspython<3.0.0,>=1.16.0 (from pymongo[srv])\n",
            "  Downloading dnspython-2.6.1-py3-none-any.whl (307 kB)\n",
            "\u001b[2K     \u001b[90m━━━━━━━━━━━━━━━━━━━━━━━━━━━━━━━━━━━━━━━━\u001b[0m \u001b[32m307.7/307.7 kB\u001b[0m \u001b[31m11.8 MB/s\u001b[0m eta \u001b[36m0:00:00\u001b[0m\n",
            "\u001b[?25hInstalling collected packages: dnspython, pymongo\n",
            "Successfully installed dnspython-2.6.1 pymongo-4.6.1\n"
          ]
        }
      ],
      "source": [
        "# Install the dependencies\n",
        "!pip install \"pymongo[srv]\""
      ]
    },
    {
      "cell_type": "code",
      "execution_count": 8,
      "metadata": {
        "id": "XnT269vgv-DU"
      },
      "outputs": [],
      "source": [
        "# Import the required libraries\n",
        "from pymongo.mongo_client import MongoClient\n",
        "from pymongo.server_api import ServerApi\n",
        "import pprint"
      ]
    },
    {
      "cell_type": "code",
      "execution_count": 3,
      "metadata": {
        "id": "tGLnoes7wNii",
        "colab": {
          "base_uri": "https://localhost:8080/"
        },
        "outputId": "7d1102bd-1fc5-4645-f891-5d4ed6d45cad"
      },
      "outputs": [
        {
          "output_type": "stream",
          "name": "stdout",
          "text": [
            "34.32.204.211"
          ]
        }
      ],
      "source": [
        "# Get the colab otebook IP\n",
        "!curl ipecho.net/plain"
      ]
    },
    {
      "cell_type": "code",
      "execution_count": 5,
      "metadata": {
        "id": "ibAu0HEny8Tf",
        "colab": {
          "base_uri": "https://localhost:8080/"
        },
        "outputId": "5d62d495-43d3-42f3-a241-80842f787829"
      },
      "outputs": [
        {
          "output_type": "stream",
          "name": "stdout",
          "text": [
            "Pinged your deployment. You successfully connected to MongoDB!\n"
          ]
        }
      ],
      "source": [
        "# Write the Solution\n",
        "\n",
        "# Hint:\n",
        "# 1. Connect to the Atlas cluster\n",
        "# 2. Get the database object\n",
        "# 3. Get the collection object\n",
        "# 4. Insert the data into the collection\n",
        "username = \"\"\n",
        "password = \"\"\n",
        "cluster_url = \"\"\n",
        "\n",
        "uri = f\"mongodb+srv://{username}:{password}@{cluster_url}/?retryWrites=true&w=majority\"\n",
        "\n",
        "# Create a new client and connect to the server\n",
        "client = MongoClient(uri, server_api=ServerApi('1'))\n",
        "\n",
        "# Send a ping to confirm a successful connection\n",
        "try:\n",
        "    client.admin.command('ping')\n",
        "    print(\"Pinged your deployment. You successfully connected to MongoDB!\")\n",
        "except Exception as e:\n",
        "    print(e)"
      ]
    },
    {
      "cell_type": "code",
      "source": [
        "universities = client['aggregate']['universities']\n",
        "\n",
        "universities.insert_many([\n",
        "   {\n",
        "      \"country\":\"Spain\",\n",
        "      \"city\":\"Salamanca\",\n",
        "      \"name\":\"USAL\",\n",
        "      \"location\":{\n",
        "         \"type\":\"Point\",\n",
        "         \"coordinates\":[\n",
        "            -5.6722512,\n",
        "            17,\n",
        "            40.9607792\n",
        "         ]\n",
        "      },\n",
        "      \"students\":[\n",
        "         {\n",
        "            \"year\":2014,\n",
        "            \"number\":24774\n",
        "         },\n",
        "         {\n",
        "            \"year\":2015,\n",
        "            \"number\":23166\n",
        "         },\n",
        "         {\n",
        "            \"year\":2016,\n",
        "            \"number\":21913\n",
        "         },\n",
        "         {\n",
        "            \"year\":2017,\n",
        "            \"number\":21715\n",
        "         }\n",
        "      ]\n",
        "   },\n",
        "   {\n",
        "      \"country\":\"Spain\",\n",
        "      \"city\":\"Salamanca\",\n",
        "      \"name\":\"UPSA\",\n",
        "      \"location\":{\n",
        "         \"type\":\"Point\",\n",
        "         \"coordinates\":[\n",
        "            -5.6691191,\n",
        "            17,\n",
        "            40.9631732\n",
        "         ]\n",
        "      },\n",
        "      \"students\":[\n",
        "         {\n",
        "            \"year\":2014,\n",
        "            \"number\":4788\n",
        "         },\n",
        "         {\n",
        "            \"year\":2015,\n",
        "            \"number\":4821\n",
        "         },\n",
        "         {\n",
        "            \"year\":2016,\n",
        "            \"number\":6550\n",
        "         },\n",
        "         {\n",
        "            \"year\":2017,\n",
        "            \"number\":6125\n",
        "         }\n",
        "      ]\n",
        "   }\n",
        "])"
      ],
      "metadata": {
        "colab": {
          "base_uri": "https://localhost:8080/"
        },
        "id": "M-QOXsicNYgp",
        "outputId": "fda73222-3fb5-4ce4-bc81-d8daaa77b06b"
      },
      "execution_count": 6,
      "outputs": [
        {
          "output_type": "execute_result",
          "data": {
            "text/plain": [
              "InsertManyResult([ObjectId('65d488d69bebdd92d8508718'), ObjectId('65d488d69bebdd92d8508719')], acknowledged=True)"
            ]
          },
          "metadata": {},
          "execution_count": 6
        }
      ]
    },
    {
      "cell_type": "markdown",
      "source": [
        "Insert the following documents into the `courses` collection:\n",
        "\n",
        "```json\n",
        "[\n",
        "   {\n",
        "      \"university\":\"USAL\",\n",
        "      \"name\":\"Computer Science\",\n",
        "      \"level\":\"Excellent\"\n",
        "   },\n",
        "   {\n",
        "      \"university\":\"USAL\",\n",
        "      \"name\":\"Electronics\",\n",
        "      \"level\":\"Intermediate\"\n",
        "   },\n",
        "   {\n",
        "      \"university\":\"USAL\",\n",
        "      \"name\":\"Communication\",\n",
        "      \"level\":\"Excellent\"\n",
        "   }\n",
        "]\n",
        "```"
      ],
      "metadata": {
        "id": "fCzrZ4NLpB5s"
      }
    },
    {
      "cell_type": "code",
      "source": [
        "# Write the Solution\n",
        "courses = client['aggregate']['courses']\n",
        "\n",
        "courses.insert_many([\n",
        "   {\n",
        "      \"university\":\"USAL\",\n",
        "      \"name\":\"Computer Science\",\n",
        "      \"level\":\"Excellent\"\n",
        "   },\n",
        "   {\n",
        "      \"university\":\"USAL\",\n",
        "      \"name\":\"Electronics\",\n",
        "      \"level\":\"Intermediate\"\n",
        "   },\n",
        "   {\n",
        "      \"university\":\"USAL\",\n",
        "      \"name\":\"Communication\",\n",
        "      \"level\":\"Excellent\"\n",
        "   }\n",
        "])"
      ],
      "metadata": {
        "id": "92lMqTlUneSA",
        "colab": {
          "base_uri": "https://localhost:8080/"
        },
        "outputId": "0a9b1540-6704-40e8-d973-ea33e015cf0b"
      },
      "execution_count": 7,
      "outputs": [
        {
          "output_type": "execute_result",
          "data": {
            "text/plain": [
              "InsertManyResult([ObjectId('65d48a7e9bebdd92d850871a'), ObjectId('65d48a7e9bebdd92d850871b'), ObjectId('65d48a7e9bebdd92d850871c')], acknowledged=True)"
            ]
          },
          "metadata": {},
          "execution_count": 7
        }
      ]
    },
    {
      "cell_type": "markdown",
      "metadata": {
        "id": "vL-JKT1Bx2DB"
      },
      "source": [
        "### MongoDB Aggregations"
      ]
    },
    {
      "cell_type": "markdown",
      "metadata": {
        "id": "W8x2yx88x5ZV"
      },
      "source": [
        "### Exercise 1 💻\n",
        "\n",
        "Use the `$match` stage to find the `universities` which specify that `Spain` is the value of the field `country`, and `Salamanca` is the value of the field `city`."
      ]
    },
    {
      "cell_type": "code",
      "source": [
        "# Write the Solution\n",
        "cursor = universities.aggregate([\n",
        "    {\n",
        "        \"$match\": {\n",
        "            \"country\": \"Spain\"\n",
        "        }\n",
        "    }\n",
        "])\n",
        "\n",
        "for university in cursor:\n",
        "  pprint.pprint(university)"
      ],
      "metadata": {
        "id": "6tjQBSNXpk_d",
        "colab": {
          "base_uri": "https://localhost:8080/"
        },
        "outputId": "356175e6-f0c3-40c2-89ab-60a20030e58c"
      },
      "execution_count": 9,
      "outputs": [
        {
          "output_type": "stream",
          "name": "stdout",
          "text": [
            "{'_id': ObjectId('65d488d69bebdd92d8508718'),\n",
            " 'city': 'Salamanca',\n",
            " 'country': 'Spain',\n",
            " 'location': {'coordinates': [-5.6722512, 17, 40.9607792], 'type': 'Point'},\n",
            " 'name': 'USAL',\n",
            " 'students': [{'number': 24774, 'year': 2014},\n",
            "              {'number': 23166, 'year': 2015},\n",
            "              {'number': 21913, 'year': 2016},\n",
            "              {'number': 21715, 'year': 2017}]}\n",
            "{'_id': ObjectId('65d488d69bebdd92d8508719'),\n",
            " 'city': 'Salamanca',\n",
            " 'country': 'Spain',\n",
            " 'location': {'coordinates': [-5.6691191, 17, 40.9631732], 'type': 'Point'},\n",
            " 'name': 'UPSA',\n",
            " 'students': [{'number': 4788, 'year': 2014},\n",
            "              {'number': 4821, 'year': 2015},\n",
            "              {'number': 6550, 'year': 2016},\n",
            "              {'number': 6125, 'year': 2017}]}\n"
          ]
        }
      ]
    },
    {
      "cell_type": "markdown",
      "metadata": {
        "id": "4Hwq9nLJ0xoa"
      },
      "source": [
        "### Exercise 2 💻\n",
        "\n",
        "Use the `$project` stage to the following fields from the `universities`:\n",
        "* `country`\n",
        "* `city`\n",
        "* `name`"
      ]
    },
    {
      "cell_type": "code",
      "execution_count": 10,
      "metadata": {
        "id": "-2x76kI43eXZ",
        "colab": {
          "base_uri": "https://localhost:8080/"
        },
        "outputId": "41b7b96b-7125-40b4-fab9-37115874c86d"
      },
      "outputs": [
        {
          "output_type": "stream",
          "name": "stdout",
          "text": [
            "{'_id': ObjectId('65d488d69bebdd92d8508718'),\n",
            " 'city': 'Salamanca',\n",
            " 'country': 'Spain',\n",
            " 'name': 'USAL'}\n",
            "{'_id': ObjectId('65d488d69bebdd92d8508719'),\n",
            " 'city': 'Salamanca',\n",
            " 'country': 'Spain',\n",
            " 'name': 'UPSA'}\n"
          ]
        }
      ],
      "source": [
        "# Write the Solution\n",
        "cursor = universities.aggregate([\n",
        "    {\n",
        "        \"$project\": {\n",
        "            \"country\": 1,\n",
        "            \"city\": 1,\n",
        "            \"name\": 1\n",
        "        }\n",
        "    }\n",
        "])\n",
        "\n",
        "for university in cursor:\n",
        "  pprint.pprint(university)"
      ]
    },
    {
      "cell_type": "markdown",
      "metadata": {
        "id": "NEOLi_HA51eC"
      },
      "source": [
        "### Exercise 3 💻\n",
        "\n",
        "Use the [`$group`](https://www.mongodb.com/docs/manual/reference/operator/aggregation/group/) stage to get the number of courses per level in our `courses` collection"
      ]
    },
    {
      "cell_type": "code",
      "execution_count": 11,
      "metadata": {
        "id": "jXBjXEwD6Uuq",
        "colab": {
          "base_uri": "https://localhost:8080/"
        },
        "outputId": "ebda4fd4-b8a8-4a7c-df57-0fb1cf8f8ccd"
      },
      "outputs": [
        {
          "output_type": "stream",
          "name": "stdout",
          "text": [
            "{'_id': 'Excellent', 'count': 2}\n",
            "{'_id': 'Intermediate', 'count': 1}\n"
          ]
        }
      ],
      "source": [
        "# Write the Solution\n",
        "# Write the Solution\n",
        "cursor = courses.aggregate([\n",
        "    {\n",
        "        \"$group\": {\n",
        "            \"_id\": \"$level\",\n",
        "            \"count\": {\n",
        "                \"$sum\": 1\n",
        "            }\n",
        "        }\n",
        "    }\n",
        "])\n",
        "\n",
        "for item in cursor:\n",
        "  pprint.pprint(item)"
      ]
    },
    {
      "cell_type": "markdown",
      "source": [
        "The `$group` stage supports certain expressions (operators) allowing users to perform arithmetic, array, boolean and other operations as part of the aggregation pipeline.\n",
        "\n",
        "| Operator | Meaning |\n",
        "| -------- | ------- |\n",
        "| `$count` | Calculates the quantity of documents in the given group. |\n",
        "| `$max` | Displays the maximum value of a document’s field in the collection. |\n",
        "| `$min` | Displays the minimum value of a document’s field in the collection. |\n",
        "| `$avg` | Displays the average value of a document’s field in the collection. |\n",
        "| `$sum` | Sums up the specified values of all documents in the collection. |\n",
        "| `$push` | Adds extra values into the array of the resulting document. |"
      ],
      "metadata": {
        "id": "yihJV53VqvhA"
      }
    },
    {
      "cell_type": "markdown",
      "metadata": {
        "id": "dKAeEUmX7lR7"
      },
      "source": [
        "### Exercise 4 💻\n",
        "\n",
        "The `$out` stage is used to store the results of an aggregation in a separate collection. Store the results of the previous aggregation pipeline in a collection called `test_out`.\n"
      ]
    },
    {
      "cell_type": "code",
      "execution_count": 12,
      "metadata": {
        "id": "5yAG_Xfg8E99",
        "colab": {
          "base_uri": "https://localhost:8080/"
        },
        "outputId": "63700a6d-69de-48ba-c95c-2994502e0c70"
      },
      "outputs": [
        {
          "output_type": "stream",
          "name": "stdout",
          "text": [
            "{'_id': 'Intermediate', 'count': 1}\n",
            "{'_id': 'Excellent', 'count': 2}\n"
          ]
        }
      ],
      "source": [
        "# Write the Solution\n",
        "courses.aggregate([\n",
        "    {\n",
        "        \"$group\": {\n",
        "            \"_id\": \"$level\",\n",
        "            \"count\": {\n",
        "                \"$sum\": 1\n",
        "            }\n",
        "        }\n",
        "    },{\n",
        "        \"$out\" : \"test_out\"\n",
        "    }\n",
        "])\n",
        "\n",
        "for item in client['aggregate']['test_out'].find({}):\n",
        "  print(item)"
      ]
    },
    {
      "cell_type": "markdown",
      "metadata": {
        "id": "G7QCYCdh8I8K"
      },
      "source": [
        "### Exercise 5 💻\n",
        "\n",
        "Use the `$unwind` stage, get all students information in seprate documents."
      ]
    },
    {
      "cell_type": "code",
      "execution_count": 13,
      "metadata": {
        "id": "5K63M8BT8ojK",
        "colab": {
          "base_uri": "https://localhost:8080/"
        },
        "outputId": "25f1b470-0a5c-4bc4-b307-f9ae6dd21f66"
      },
      "outputs": [
        {
          "output_type": "stream",
          "name": "stdout",
          "text": [
            "{'_id': ObjectId('65d488d69bebdd92d8508718'),\n",
            " 'city': 'Salamanca',\n",
            " 'country': 'Spain',\n",
            " 'location': {'coordinates': [-5.6722512, 17, 40.9607792], 'type': 'Point'},\n",
            " 'name': 'USAL',\n",
            " 'students': {'number': 24774, 'year': 2014}}\n",
            "{'_id': ObjectId('65d488d69bebdd92d8508718'),\n",
            " 'city': 'Salamanca',\n",
            " 'country': 'Spain',\n",
            " 'location': {'coordinates': [-5.6722512, 17, 40.9607792], 'type': 'Point'},\n",
            " 'name': 'USAL',\n",
            " 'students': {'number': 23166, 'year': 2015}}\n",
            "{'_id': ObjectId('65d488d69bebdd92d8508718'),\n",
            " 'city': 'Salamanca',\n",
            " 'country': 'Spain',\n",
            " 'location': {'coordinates': [-5.6722512, 17, 40.9607792], 'type': 'Point'},\n",
            " 'name': 'USAL',\n",
            " 'students': {'number': 21913, 'year': 2016}}\n",
            "{'_id': ObjectId('65d488d69bebdd92d8508718'),\n",
            " 'city': 'Salamanca',\n",
            " 'country': 'Spain',\n",
            " 'location': {'coordinates': [-5.6722512, 17, 40.9607792], 'type': 'Point'},\n",
            " 'name': 'USAL',\n",
            " 'students': {'number': 21715, 'year': 2017}}\n",
            "{'_id': ObjectId('65d488d69bebdd92d8508719'),\n",
            " 'city': 'Salamanca',\n",
            " 'country': 'Spain',\n",
            " 'location': {'coordinates': [-5.6691191, 17, 40.9631732], 'type': 'Point'},\n",
            " 'name': 'UPSA',\n",
            " 'students': {'number': 4788, 'year': 2014}}\n",
            "{'_id': ObjectId('65d488d69bebdd92d8508719'),\n",
            " 'city': 'Salamanca',\n",
            " 'country': 'Spain',\n",
            " 'location': {'coordinates': [-5.6691191, 17, 40.9631732], 'type': 'Point'},\n",
            " 'name': 'UPSA',\n",
            " 'students': {'number': 4821, 'year': 2015}}\n",
            "{'_id': ObjectId('65d488d69bebdd92d8508719'),\n",
            " 'city': 'Salamanca',\n",
            " 'country': 'Spain',\n",
            " 'location': {'coordinates': [-5.6691191, 17, 40.9631732], 'type': 'Point'},\n",
            " 'name': 'UPSA',\n",
            " 'students': {'number': 6550, 'year': 2016}}\n",
            "{'_id': ObjectId('65d488d69bebdd92d8508719'),\n",
            " 'city': 'Salamanca',\n",
            " 'country': 'Spain',\n",
            " 'location': {'coordinates': [-5.6691191, 17, 40.9631732], 'type': 'Point'},\n",
            " 'name': 'UPSA',\n",
            " 'students': {'number': 6125, 'year': 2017}}\n"
          ]
        }
      ],
      "source": [
        "# Write the Solution\n",
        "cursor = universities.aggregate([\n",
        "    {\n",
        "        \"$unwind\" : \"$students\"\n",
        "    }\n",
        "])\n",
        "\n",
        "for university in cursor:\n",
        "  pprint.pprint(university)"
      ]
    },
    {
      "cell_type": "markdown",
      "metadata": {
        "id": "iyAu80Re8q62"
      },
      "source": [
        "### Exercise 6 💻\n",
        "\n",
        "Use the `$sort` stage to sort the results from the last aggregation pipeline using the `number` field."
      ]
    },
    {
      "cell_type": "code",
      "execution_count": 14,
      "metadata": {
        "id": "jMmBGptO9M_l",
        "colab": {
          "base_uri": "https://localhost:8080/"
        },
        "outputId": "278b956a-8f95-4cb1-b952-eee1873b0a58"
      },
      "outputs": [
        {
          "output_type": "stream",
          "name": "stdout",
          "text": [
            "{'_id': ObjectId('65d488d69bebdd92d8508718'),\n",
            " 'city': 'Salamanca',\n",
            " 'country': 'Spain',\n",
            " 'location': {'coordinates': [-5.6722512, 17, 40.9607792], 'type': 'Point'},\n",
            " 'name': 'USAL',\n",
            " 'students': {'number': 24774, 'year': 2014}}\n",
            "{'_id': ObjectId('65d488d69bebdd92d8508718'),\n",
            " 'city': 'Salamanca',\n",
            " 'country': 'Spain',\n",
            " 'location': {'coordinates': [-5.6722512, 17, 40.9607792], 'type': 'Point'},\n",
            " 'name': 'USAL',\n",
            " 'students': {'number': 23166, 'year': 2015}}\n",
            "{'_id': ObjectId('65d488d69bebdd92d8508718'),\n",
            " 'city': 'Salamanca',\n",
            " 'country': 'Spain',\n",
            " 'location': {'coordinates': [-5.6722512, 17, 40.9607792], 'type': 'Point'},\n",
            " 'name': 'USAL',\n",
            " 'students': {'number': 21913, 'year': 2016}}\n",
            "{'_id': ObjectId('65d488d69bebdd92d8508718'),\n",
            " 'city': 'Salamanca',\n",
            " 'country': 'Spain',\n",
            " 'location': {'coordinates': [-5.6722512, 17, 40.9607792], 'type': 'Point'},\n",
            " 'name': 'USAL',\n",
            " 'students': {'number': 21715, 'year': 2017}}\n",
            "{'_id': ObjectId('65d488d69bebdd92d8508719'),\n",
            " 'city': 'Salamanca',\n",
            " 'country': 'Spain',\n",
            " 'location': {'coordinates': [-5.6691191, 17, 40.9631732], 'type': 'Point'},\n",
            " 'name': 'UPSA',\n",
            " 'students': {'number': 4788, 'year': 2014}}\n",
            "{'_id': ObjectId('65d488d69bebdd92d8508719'),\n",
            " 'city': 'Salamanca',\n",
            " 'country': 'Spain',\n",
            " 'location': {'coordinates': [-5.6691191, 17, 40.9631732], 'type': 'Point'},\n",
            " 'name': 'UPSA',\n",
            " 'students': {'number': 4821, 'year': 2015}}\n",
            "{'_id': ObjectId('65d488d69bebdd92d8508719'),\n",
            " 'city': 'Salamanca',\n",
            " 'country': 'Spain',\n",
            " 'location': {'coordinates': [-5.6691191, 17, 40.9631732], 'type': 'Point'},\n",
            " 'name': 'UPSA',\n",
            " 'students': {'number': 6550, 'year': 2016}}\n",
            "{'_id': ObjectId('65d488d69bebdd92d8508719'),\n",
            " 'city': 'Salamanca',\n",
            " 'country': 'Spain',\n",
            " 'location': {'coordinates': [-5.6691191, 17, 40.9631732], 'type': 'Point'},\n",
            " 'name': 'UPSA',\n",
            " 'students': {'number': 6125, 'year': 2017}}\n"
          ]
        }
      ],
      "source": [
        "# Write the Solution\n",
        "# Write the Solution\n",
        "cursor = universities.aggregate([\n",
        "    {\n",
        "        \"$unwind\" : \"$students\"\n",
        "    }, {\n",
        "        \"$sort\" : {\n",
        "            \"number\" : 1\n",
        "        }\n",
        "    }\n",
        "])\n",
        "\n",
        "for university in cursor:\n",
        "  pprint.pprint(university)"
      ]
    },
    {
      "cell_type": "markdown",
      "metadata": {
        "id": "Y7MKtf0z9Owi"
      },
      "source": [
        "Exercise 7 💻\n",
        "\n",
        "Use the `$limit` stage to get the first 2 results from the previous pipeline."
      ]
    },
    {
      "cell_type": "code",
      "execution_count": 15,
      "metadata": {
        "id": "cRDYOkljBI55",
        "colab": {
          "base_uri": "https://localhost:8080/"
        },
        "outputId": "00d66636-65f1-49a4-e2cb-b0daa7da9b5a"
      },
      "outputs": [
        {
          "output_type": "stream",
          "name": "stdout",
          "text": [
            "{'_id': ObjectId('65d488d69bebdd92d8508718'),\n",
            " 'city': 'Salamanca',\n",
            " 'country': 'Spain',\n",
            " 'location': {'coordinates': [-5.6722512, 17, 40.9607792], 'type': 'Point'},\n",
            " 'name': 'USAL',\n",
            " 'students': {'number': 24774, 'year': 2014}}\n",
            "{'_id': ObjectId('65d488d69bebdd92d8508718'),\n",
            " 'city': 'Salamanca',\n",
            " 'country': 'Spain',\n",
            " 'location': {'coordinates': [-5.6722512, 17, 40.9607792], 'type': 'Point'},\n",
            " 'name': 'USAL',\n",
            " 'students': {'number': 23166, 'year': 2015}}\n"
          ]
        }
      ],
      "source": [
        "# Write the Solution\n",
        "# Write the Solution\n",
        "cursor = universities.aggregate([\n",
        "    {\n",
        "        \"$unwind\" : \"$students\"\n",
        "    }, {\n",
        "        \"$sort\" : {\n",
        "            \"number\" : 1\n",
        "        }\n",
        "    }, {\n",
        "        \"$limit\" : 2\n",
        "    }\n",
        "])\n",
        "\n",
        "for university in cursor:\n",
        "  pprint.pprint(university)"
      ]
    },
    {
      "cell_type": "markdown",
      "metadata": {
        "id": "KR3COxPYvsCE"
      },
      "source": [
        "### Exercise 8 💻\n",
        "\n",
        "Retrieve all the `universities`, and add a new field called `foundation_year`, with value 2000. Use the `$addFields` stage."
      ]
    },
    {
      "cell_type": "code",
      "execution_count": 16,
      "metadata": {
        "id": "ngw0uSdWvsCE",
        "colab": {
          "base_uri": "https://localhost:8080/"
        },
        "outputId": "29677d14-1d07-42e9-fe53-7b1a72d10032"
      },
      "outputs": [
        {
          "output_type": "stream",
          "name": "stdout",
          "text": [
            "{'_id': ObjectId('65d488d69bebdd92d8508718'),\n",
            " 'city': 'Salamanca',\n",
            " 'country': 'Spain',\n",
            " 'foundation_year': 2000,\n",
            " 'location': {'coordinates': [-5.6722512, 17, 40.9607792], 'type': 'Point'},\n",
            " 'name': 'USAL',\n",
            " 'students': [{'number': 24774, 'year': 2014},\n",
            "              {'number': 23166, 'year': 2015},\n",
            "              {'number': 21913, 'year': 2016},\n",
            "              {'number': 21715, 'year': 2017}]}\n",
            "{'_id': ObjectId('65d488d69bebdd92d8508719'),\n",
            " 'city': 'Salamanca',\n",
            " 'country': 'Spain',\n",
            " 'foundation_year': 2000,\n",
            " 'location': {'coordinates': [-5.6691191, 17, 40.9631732], 'type': 'Point'},\n",
            " 'name': 'UPSA',\n",
            " 'students': [{'number': 4788, 'year': 2014},\n",
            "              {'number': 4821, 'year': 2015},\n",
            "              {'number': 6550, 'year': 2016},\n",
            "              {'number': 6125, 'year': 2017}]}\n"
          ]
        }
      ],
      "source": [
        "# Write the Solution\n",
        "cursor = universities.aggregate([\n",
        "    {\n",
        "        \"$addFields\" : {\n",
        "            \"foundation_year\" : 2000\n",
        "        }\n",
        "    }\n",
        "])\n",
        "\n",
        "for university in cursor:\n",
        "  pprint.pprint(university)"
      ]
    },
    {
      "cell_type": "markdown",
      "source": [
        "### Exercise 9 💻\n",
        "\n",
        "Use the `$count` stage, with the `$unwind` stage, to get the number of students information in all `universities`."
      ],
      "metadata": {
        "id": "73YLO8p4KYxi"
      }
    },
    {
      "cell_type": "code",
      "source": [
        "# Write the Solution\n",
        "# Write the Solution\n",
        "cursor = universities.aggregate([\n",
        "    {\n",
        "        \"$unwind\" : \"$students\"\n",
        "    }, {\n",
        "        \"$count\" : \"student_information_count\"\n",
        "    }\n",
        "])\n",
        "\n",
        "for item in cursor:\n",
        "  pprint.pprint(item)"
      ],
      "metadata": {
        "id": "nDGpmCqDKsKP",
        "colab": {
          "base_uri": "https://localhost:8080/"
        },
        "outputId": "d29372e5-e5e5-4f37-b5b7-3d758413f67c"
      },
      "execution_count": 17,
      "outputs": [
        {
          "output_type": "stream",
          "name": "stdout",
          "text": [
            "{'student_information_count': 8}\n"
          ]
        }
      ]
    },
    {
      "cell_type": "markdown",
      "source": [
        "### Exercise 10 💻\n",
        "\n",
        "Use the `$lookup` stage to get the `courses` information for the `USAL` university.\n",
        "\n",
        "Output should be similar to:\n",
        "```json\n",
        "{\n",
        "\t\"name\" : \"USAL\",\n",
        "\t\"courses\" : [\n",
        "\t\t{\n",
        "\t\t\t\"_id\" : ObjectId(\"5b7d9ea5fbc9884f689cdbab\"),\n",
        "\t\t\t\"university\" : \"USAL\",\n",
        "\t\t\t\"name\" : \"Computer Science\",\n",
        "\t\t\t\"level\" : \"Excellent\"\n",
        "\t\t},\n",
        "\t\t{\n",
        "\t\t\t\"_id\" : ObjectId(\"5b7d9ea5fbc9884f689cdbac\"),\n",
        "\t\t\t\"university\" : \"USAL\",\n",
        "\t\t\t\"name\" : \"Electronics\",\n",
        "\t\t\t\"level\" : \"Intermediate\"\n",
        "\t\t},\n",
        "\t\t{\n",
        "\t\t\t\"_id\" : ObjectId(\"5b7d9ea5fbc9884f689cdbad\"),\n",
        "\t\t\t\"university\" : \"USAL\",\n",
        "\t\t\t\"name\" : \"Communication\",\n",
        "\t\t\t\"level\" : \"Excellent\"\n",
        "\t\t}\n",
        "\t]\n",
        "}\n",
        "```"
      ],
      "metadata": {
        "id": "Q1KIlY0WKu3w"
      }
    },
    {
      "cell_type": "code",
      "source": [
        "# Write the Solution\n",
        "# Write the Solution\n",
        "cursor = universities.aggregate([\n",
        "    {\n",
        "        \"$match\" : {\n",
        "            \"name\": \"USAL\"\n",
        "        }\n",
        "    },{\n",
        "        \"$lookup\" : {\n",
        "            \"from\": \"courses\",\n",
        "            \"localField\": \"name\",\n",
        "            \"foreignField\": \"university\",\n",
        "            \"as\": \"courses\"\n",
        "        }\n",
        "    },{\n",
        "        \"$project\" : {\n",
        "            \"_id\": 0,\n",
        "            \"name\": 1,\n",
        "            \"courses\": 1\n",
        "        }\n",
        "    }\n",
        "])\n",
        "\n",
        "for university in cursor:\n",
        "  pprint.pprint(university)"
      ],
      "metadata": {
        "id": "CV4eG7GQLQDY",
        "colab": {
          "base_uri": "https://localhost:8080/"
        },
        "outputId": "2e22f7e8-1be9-4ebf-f8a7-e6720f58bda8"
      },
      "execution_count": 21,
      "outputs": [
        {
          "output_type": "stream",
          "name": "stdout",
          "text": [
            "{'courses': [{'_id': ObjectId('65d48a7e9bebdd92d850871a'),\n",
            "              'level': 'Excellent',\n",
            "              'name': 'Computer Science',\n",
            "              'university': 'USAL'},\n",
            "             {'_id': ObjectId('65d48a7e9bebdd92d850871b'),\n",
            "              'level': 'Intermediate',\n",
            "              'name': 'Electronics',\n",
            "              'university': 'USAL'},\n",
            "             {'_id': ObjectId('65d48a7e9bebdd92d850871c'),\n",
            "              'level': 'Excellent',\n",
            "              'name': 'Communication',\n",
            "              'university': 'USAL'}],\n",
            " 'name': 'USAL'}\n"
          ]
        }
      ]
    },
    {
      "cell_type": "markdown",
      "source": [
        "### Exercise 11 💻\n",
        "\n",
        "What is the total number of students that have ever belonged to each one of the universities?\n",
        "Sort the result by number of students descending.\n",
        "\n",
        " Output should be similar to:\n",
        " ```json\n",
        "{ \"_id\" : \"USAL\", \"totalalumni\" : 91568 }\n",
        "{ \"_id\" : \"UPSA\", \"totalalumni\" : 22284 }\n",
        " ```"
      ],
      "metadata": {
        "id": "0cC2MreCLOz8"
      }
    },
    {
      "cell_type": "code",
      "source": [
        "# Write the Solution\n",
        "# Write the Solution\n",
        "cursor = universities.aggregate([\n",
        "    {\n",
        "        \"$unwind\" : \"$students\"\n",
        "    }, {\n",
        "        \"$group\" : {\n",
        "            \"_id\": \"$name\",\n",
        "            \"totlaalumni\": {\n",
        "                \"$sum\": \"$students.number\"\n",
        "            }\n",
        "        }\n",
        "    }, {\n",
        "        \"$sort\" : {\n",
        "            \"totalalumni\": -1\n",
        "        }\n",
        "    }\n",
        "])\n",
        "\n",
        "for item in cursor:\n",
        "  pprint.pprint(item)"
      ],
      "metadata": {
        "id": "WhCXocwvLsCV",
        "colab": {
          "base_uri": "https://localhost:8080/"
        },
        "outputId": "df91a947-2240-4afa-f939-04cf821614d4"
      },
      "execution_count": 23,
      "outputs": [
        {
          "output_type": "stream",
          "name": "stdout",
          "text": [
            "{'_id': 'USAL', 'totlaalumni': 91568}\n",
            "{'_id': 'UPSA', 'totlaalumni': 22284}\n"
          ]
        }
      ]
    }
  ],
  "metadata": {
    "colab": {
      "provenance": []
    },
    "kernelspec": {
      "display_name": "Python 3",
      "name": "python3"
    },
    "language_info": {
      "name": "python"
    }
  },
  "nbformat": 4,
  "nbformat_minor": 0
}