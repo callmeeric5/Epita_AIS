{
  "cells": [
    {
      "cell_type": "markdown",
      "metadata": {
        "id": "XnER8VGpwux-"
      },
      "source": [
        "## MongoDB Exercise"
      ]
    },
    {
      "cell_type": "markdown",
      "metadata": {
        "id": "vL-JKT1Bx2DB"
      },
      "source": [
        "### Basic MongoDB Queries"
      ]
    },
    {
      "cell_type": "markdown",
      "metadata": {
        "id": "W8x2yx88x5ZV"
      },
      "source": [
        "### Exercise 1 💻\n",
        "\n",
        "HR has sent over new employee information.\n",
        "Insert the new data into the employee_info collection, in the employee_db database.\n",
        "\n",
        "The data is first shown in tabular format followed by JSON object format\n",
        "\n",
        "```\n",
        "{\n",
        "  \"empno\": 1,\n",
        "  \"fname\": \"charlie\",\n",
        "  \"lname\": \"rodgers\",\n",
        "  \"role\": \"manager\",\n",
        "  \"departments\": [\"sales\", \"marketing\"]\n",
        "},\n",
        "{\n",
        "  \"empno\": 2,\n",
        "  \"fname\": \"sunil\",\n",
        "  \"lname\": \"chakraborty\",\n",
        "  \"role\": \"team lead\",\n",
        "  \"departments\": [\"marketing\", \"finance\"]\n",
        "},\n",
        "{\n",
        "  \"empno\": 3,\n",
        "  \"fname\": \"sally\",\n",
        "  \"lname\": \"jones\",\n",
        "  \"role\": \"team lead\",\n",
        "  \"departments\": [\"hr\", \"admin\"]\n",
        "},\n",
        "{\n",
        "  \"empno\": 4,\n",
        "  \"fname\": \"ben\",\n",
        "  \"lname\": \"bradley\",\n",
        "  \"role\": \"manager\",\n",
        "  \"departments\": [\"legal\"]\n",
        "},\n",
        "{\n",
        "  \"empno\": 5,\n",
        "  \"fname\": \"radha\",\n",
        "  \"lname\": \"desai\",\n",
        "  \"role\": \"worker\"\n",
        "},\n",
        "{\n",
        "  \"empno\": 6,\n",
        "  \"fname\": \"shruti\",\n",
        "  \"lname\": \"patel\",\n",
        "  \"role\": \"worker\"\n",
        "},\n",
        "{\n",
        "  \"empno\": 7,\n",
        "  \"fname\": \"mahesh\",\n",
        "  \"lname\": \"iyer\",\n",
        "  \"role\": \"manager\"\n",
        "}\n",
        "```"
      ]
    },
    {
      "cell_type": "code",
      "execution_count": 1,
      "metadata": {
        "colab": {
          "base_uri": "https://localhost:8080/"
        },
        "id": "kfEuPnbMv4o_",
        "outputId": "c4520389-63b0-4685-80cf-dbec5c427902"
      },
      "outputs": [
        {
          "name": "stdout",
          "output_type": "stream",
          "text": [
            "Collecting pymongo[srv]\n",
            "  Downloading pymongo-4.6.1-cp310-cp310-manylinux_2_17_x86_64.manylinux2014_x86_64.whl (677 kB)\n",
            "\u001b[2K     \u001b[90m━━━━━━━━━━━━━━━━━━━━━━━━━━━━━━━━━━━━━━━━\u001b[0m \u001b[32m677.1/677.1 kB\u001b[0m \u001b[31m6.9 MB/s\u001b[0m eta \u001b[36m0:00:00\u001b[0m\n",
            "\u001b[?25hCollecting dnspython<3.0.0,>=1.16.0 (from pymongo[srv])\n",
            "  Downloading dnspython-2.6.1-py3-none-any.whl (307 kB)\n",
            "\u001b[2K     \u001b[90m━━━━━━━━━━━━━━━━━━━━━━━━━━━━━━━━━━━━━━━━\u001b[0m \u001b[32m307.7/307.7 kB\u001b[0m \u001b[31m9.9 MB/s\u001b[0m eta \u001b[36m0:00:00\u001b[0m\n",
            "\u001b[?25hInstalling collected packages: dnspython, pymongo\n",
            "Successfully installed dnspython-2.6.1 pymongo-4.6.1\n"
          ]
        }
      ],
      "source": [
        "# Install the dependencies\n",
        "!pip install \"pymongo[srv]\""
      ]
    },
    {
      "cell_type": "code",
      "execution_count": 2,
      "metadata": {
        "id": "XnT269vgv-DU"
      },
      "outputs": [],
      "source": [
        "# Import the required libraries\n",
        "from pymongo.mongo_client import MongoClient\n",
        "from pymongo.server_api import ServerApi"
      ]
    },
    {
      "cell_type": "code",
      "execution_count": 3,
      "metadata": {
        "colab": {
          "base_uri": "https://localhost:8080/"
        },
        "id": "tGLnoes7wNii",
        "outputId": "32369547-4933-4113-a10e-ac8abab7aec8"
      },
      "outputs": [
        {
          "name": "stdout",
          "output_type": "stream",
          "text": [
            "34.106.12.71"
          ]
        }
      ],
      "source": [
        "# Get the colab otebook IP\n",
        "!curl ipecho.net/plain"
      ]
    },
    {
      "cell_type": "code",
      "execution_count": 4,
      "metadata": {
        "colab": {
          "base_uri": "https://localhost:8080/"
        },
        "id": "ibAu0HEny8Tf",
        "outputId": "90326301-edff-42dd-fbeb-48124b51b901"
      },
      "outputs": [
        {
          "name": "stdout",
          "output_type": "stream",
          "text": [
            "Pinged your deployment. You successfully connected to MongoDB!\n"
          ]
        }
      ],
      "source": [
        "# Write the Solution\n",
        "\n",
        "# Hint:\n",
        "# 1. Connect to the Atlas cluster\n",
        "# 2. Get the database object\n",
        "# 3. Get the collection object\n",
        "# 4. Insert the data into the collection\n",
        "username = \"\"\n",
        "password = \"\"\n",
        "cluster_url = \"\"\n",
        "\n",
        "uri = f\"mongodb+srv://{username}:{password}@{cluster_url}/?retryWrites=true&w=majority\"\n",
        "\n",
        "# Create a new client and connect to the server\n",
        "client = MongoClient(uri, server_api=ServerApi('1'))\n",
        "\n",
        "# Send a ping to confirm a successful connection\n",
        "try:\n",
        "    client.admin.command('ping')\n",
        "    print(\"Pinged your deployment. You successfully connected to MongoDB!\")\n",
        "except Exception as e:\n",
        "    print(e)"
      ]
    },
    {
      "cell_type": "code",
      "execution_count": 5,
      "metadata": {
        "colab": {
          "base_uri": "https://localhost:8080/"
        },
        "id": "XXopnFXPrlYe",
        "outputId": "9a244d17-bea3-40b3-9831-2fc8fa0a0f68"
      },
      "outputs": [
        {
          "data": {
            "text/plain": [
              "InsertManyResult([ObjectId('65d47e440d5f14a7795e8ba9'), ObjectId('65d47e440d5f14a7795e8baa'), ObjectId('65d47e440d5f14a7795e8bab'), ObjectId('65d47e440d5f14a7795e8bac'), ObjectId('65d47e440d5f14a7795e8bad'), ObjectId('65d47e440d5f14a7795e8bae'), ObjectId('65d47e440d5f14a7795e8baf')], acknowledged=True)"
            ]
          },
          "execution_count": 5,
          "metadata": {},
          "output_type": "execute_result"
        }
      ],
      "source": [
        "db = client['employee_db']\n",
        "collection = db['employee_info']\n",
        "\n",
        "docs = [{\n",
        "  \"empno\": 1,\n",
        "  \"fname\": \"charlie\",\n",
        "  \"lname\": \"rodgers\",\n",
        "  \"role\": \"manager\",\n",
        "  \"departments\": [\"sales\", \"marketing\"]\n",
        "},\n",
        "{\n",
        "  \"empno\": 2,\n",
        "  \"fname\": \"sunil\",\n",
        "  \"lname\": \"chakraborty\",\n",
        "  \"role\": \"team lead\",\n",
        "  \"departments\": [\"marketing\", \"finance\"]\n",
        "},\n",
        "{\n",
        "  \"empno\": 3,\n",
        "  \"fname\": \"sally\",\n",
        "  \"lname\": \"jones\",\n",
        "  \"role\": \"team lead\",\n",
        "  \"departments\": [\"hr\", \"admin\"]\n",
        "},\n",
        "{\n",
        "  \"empno\": 4,\n",
        "  \"fname\": \"ben\",\n",
        "  \"lname\": \"bradley\",\n",
        "  \"role\": \"manager\",\n",
        "  \"departments\": [\"legal\"]\n",
        "},\n",
        "{\n",
        "  \"empno\": 5,\n",
        "  \"fname\": \"radha\",\n",
        "  \"lname\": \"desai\",\n",
        "  \"role\": \"worker\"\n",
        "},\n",
        "{\n",
        "  \"empno\": 6,\n",
        "  \"fname\": \"shruti\",\n",
        "  \"lname\": \"patel\",\n",
        "  \"role\": \"worker\"\n",
        "},\n",
        "{\n",
        "  \"empno\": 7,\n",
        "  \"fname\": \"mahesh\",\n",
        "  \"lname\": \"iyer\",\n",
        "  \"role\": \"manager\"\n",
        "}]\n",
        "\n",
        "collection.insert_many(docs)"
      ]
    },
    {
      "cell_type": "markdown",
      "metadata": {
        "id": "TVEvKwuizQRG"
      },
      "source": [
        "### Exercise 2 💻\n",
        "\n",
        "You've got some more interesting employees!\n",
        "Convert the following table to JSON and insert it into our employee_info collection."
      ]
    },
    {
      "cell_type": "markdown",
      "metadata": {
        "id": "yOl-tFe6zh9i"
      },
      "source": []
    },
    {
      "cell_type": "markdown",
      "metadata": {
        "id": "tAYXk9pH0bU2"
      },
      "source": [
        "Name | Title | Interesting Fact | Address\n",
        "--- | --- | --- | ---\n",
        "Harry Potter | Wizard | I kicked the sh*t out of Voldemort! | Hogwarts castle\n",
        "Groot | Superhero | I can only say 3 words in this order: 'I am Groot'! | Planet X\n",
        "Pikachu | Electric type pokemon | Want to see my ThuderBolt and Quick Attack?! | Pallet Town"
      ]
    },
    {
      "cell_type": "code",
      "execution_count": 6,
      "metadata": {
        "colab": {
          "base_uri": "https://localhost:8080/"
        },
        "id": "CufR4ijw3CLQ",
        "outputId": "4443b50b-281f-402f-c374-ce5c74cb523f"
      },
      "outputs": [
        {
          "data": {
            "text/plain": [
              "InsertManyResult([ObjectId('65d47e4b0d5f14a7795e8bb0'), ObjectId('65d47e4b0d5f14a7795e8bb1'), ObjectId('65d47e4b0d5f14a7795e8bb2')], acknowledged=True)"
            ]
          },
          "execution_count": 6,
          "metadata": {},
          "output_type": "execute_result"
        }
      ],
      "source": [
        "# Write the Solution\n",
        "new_employees = [\n",
        "    {\n",
        "        \"name\": \"Harry Potter\",\n",
        "        \"title\": \"wizard\",\n",
        "        \"interesting_fact\": \"I kicked the sh*t out of Voldemort! \",\n",
        "        \"address\": \"Hogwarts castle\"\n",
        "    },\n",
        "    {\n",
        "        \"name\": \"Groot\",\n",
        "        \"title\": \"Superhero\",\n",
        "        \"interesting_fact\": \"I can only say 3 words in this order: 'I am Groot'!\",\n",
        "        \"address\": \"Planet X\"\n",
        "    },\n",
        "    {\n",
        "        \"name\": \"Pikachu\",\n",
        "        \"title\": \"Electric Type Pokemon\",\n",
        "        \"interesting_fact\": \"Want to see my ThuderBolt and Quick Attack?!\",\n",
        "        \"address\": \"Pallet Town\"\n",
        "    }\n",
        "]\n",
        "\n",
        "\n",
        "# Hint:\n",
        "# 1. Use the same collection object\n",
        "# 2. Insert the data into the collection\n",
        "\n",
        "collection.insert_many(new_employees)"
      ]
    },
    {
      "cell_type": "markdown",
      "metadata": {
        "id": "4Hwq9nLJ0xoa"
      },
      "source": [
        "### Exercise 3 💻\n",
        "\n",
        "Get the number of documents in the listingsAndReviews collection, in the sample_airbnb dataset.\n",
        "\n",
        "Insert the result in the database \"results\", collection \"exercise_1\"\n",
        "\n",
        "The shape of the result is:\n",
        "```\n",
        "{\n",
        "  exercise_number: 3,\n",
        "  result : ___\n",
        "}\n",
        "```\n"
      ]
    },
    {
      "cell_type": "code",
      "execution_count": 8,
      "metadata": {
        "colab": {
          "base_uri": "https://localhost:8080/"
        },
        "id": "-2x76kI43eXZ",
        "outputId": "783e73e1-827d-4aa1-cdbd-557044a02513"
      },
      "outputs": [
        {
          "name": "stdout",
          "output_type": "stream",
          "text": [
            "{'exercise_number': 3, 'result': 5555}\n"
          ]
        },
        {
          "data": {
            "text/plain": [
              "InsertOneResult(ObjectId('65d47ee00d5f14a7795e8bb3'), acknowledged=True)"
            ]
          },
          "execution_count": 8,
          "metadata": {},
          "output_type": "execute_result"
        }
      ],
      "source": [
        "# Write the Solution\n",
        "\n",
        "# Hint:\n",
        "# 1. Use the existing database connection\n",
        "# 2. Get the database and collection objects\n",
        "# 3. Use the count_documents method\n",
        "# 4. Get the result database and collection objects\n",
        "# 5. Insert the result into the collection\n",
        "\n",
        "listingsAndReviews = client['sample_airbnb']['listingsAndReviews']\n",
        "\n",
        "count = listingsAndReviews.count_documents({})\n",
        "\n",
        "result = {\n",
        "    \"exercise_number\": 3,\n",
        "    \"result\": count\n",
        "}\n",
        "\n",
        "print(result)\n",
        "\n",
        "client['results']['exercise_1'].insert_one(result)"
      ]
    },
    {
      "cell_type": "markdown",
      "metadata": {
        "id": "NEOLi_HA51eC"
      },
      "source": [
        "### Exercise 4 💻\n",
        "\n",
        "Get the number of unique property_type in the listingsAndReviews collection, in the sample_airbnb dataset.\n",
        "\n",
        "Insert the result in the database \"results\", collection \"exercise_1\"\n",
        "\n",
        "The shape of the result is:\n",
        "```\n",
        "{\n",
        "  exercise_number: 4,\n",
        "  result : ___\n",
        "}\n",
        "```\n"
      ]
    },
    {
      "cell_type": "code",
      "execution_count": 9,
      "metadata": {
        "colab": {
          "base_uri": "https://localhost:8080/"
        },
        "id": "jXBjXEwD6Uuq",
        "outputId": "4e2873c1-be72-4208-d9fa-d21ba0fd5bf2"
      },
      "outputs": [
        {
          "name": "stdout",
          "output_type": "stream",
          "text": [
            "{'exercise_number': 4, 'result': 36}\n"
          ]
        },
        {
          "data": {
            "text/plain": [
              "InsertOneResult(ObjectId('65d47f130d5f14a7795e8bb4'), acknowledged=True)"
            ]
          },
          "execution_count": 9,
          "metadata": {},
          "output_type": "execute_result"
        }
      ],
      "source": [
        "# Write the Solution\n",
        "\n",
        "# Hint\n",
        "# 1. Use the distinct method\n",
        "# 2. Use the len method from python if necessary\n",
        "\n",
        "listingsAndReviews = client['sample_airbnb']['listingsAndReviews']\n",
        "\n",
        "count = len(listingsAndReviews.distinct('property_type'))\n",
        "\n",
        "result = {\n",
        "    \"exercise_number\": 4,\n",
        "    \"result\" : count\n",
        "}\n",
        "\n",
        "print(result)\n",
        "\n",
        "client['results']['exercise_1'].insert_one(result)"
      ]
    },
    {
      "cell_type": "markdown",
      "metadata": {
        "id": "dKAeEUmX7lR7"
      },
      "source": [
        "### Exercise 5 💻\n",
        "\n",
        "Get the number of documents if a property_type value of \"Bed and breakfast\".\n",
        "\n",
        "Insert the result in the database \"results\", collection \"exercise_1\"\n",
        "\n",
        "The shape of the result is:\n",
        "```\n",
        "{\n",
        "  exercise_number: 5,\n",
        "  result : ___\n",
        "}\n",
        "```\n"
      ]
    },
    {
      "cell_type": "code",
      "execution_count": 12,
      "metadata": {
        "colab": {
          "base_uri": "https://localhost:8080/"
        },
        "id": "5yAG_Xfg8E99",
        "outputId": "6df06fd0-0645-4f38-a67f-6c47821b9b2b"
      },
      "outputs": [
        {
          "name": "stdout",
          "output_type": "stream",
          "text": [
            "{'exercise_number': 5, 'result': 69}\n"
          ]
        },
        {
          "data": {
            "text/plain": [
              "InsertOneResult(ObjectId('65d480e60d5f14a7795e8bb5'), acknowledged=True)"
            ]
          },
          "execution_count": 12,
          "metadata": {},
          "output_type": "execute_result"
        }
      ],
      "source": [
        "# Write the Solution\n",
        "\n",
        "listingsAndReviews = client['sample_airbnb']['listingsAndReviews']\n",
        "\n",
        "count = listingsAndReviews.count_documents({'property_type' : 'Bed and breakfast'})\n",
        "\n",
        "result = {\n",
        "    \"exercise_number\": 5,\n",
        "    \"result\" : count\n",
        "}\n",
        "\n",
        "print(result)\n",
        "\n",
        "client['results']['exercise_1'].insert_one(result)"
      ]
    },
    {
      "cell_type": "markdown",
      "metadata": {
        "id": "G7QCYCdh8I8K"
      },
      "source": [
        "### Exercise 6 💻\n",
        "\n",
        "Get the number of documents with a property_type value of \"Bed and breakfast\" and a cancellation_policy value of \"flexible\".\n",
        "\n",
        "Insert the result in the database \"results\", collection \"exercise_1\"\n",
        "\n",
        "The shape of the result is:\n",
        "```\n",
        "{\n",
        "  exercise_number: 6,\n",
        "  result : ___\n",
        "}\n",
        "```\n"
      ]
    },
    {
      "cell_type": "code",
      "execution_count": 13,
      "metadata": {
        "colab": {
          "base_uri": "https://localhost:8080/"
        },
        "id": "5K63M8BT8ojK",
        "outputId": "6e5892f2-9597-497a-c8eb-b6e0fd39ff5a"
      },
      "outputs": [
        {
          "name": "stdout",
          "output_type": "stream",
          "text": [
            "{'exercise_number': 6, 'result': 37}\n"
          ]
        },
        {
          "data": {
            "text/plain": [
              "InsertOneResult(ObjectId('65d481080d5f14a7795e8bb6'), acknowledged=True)"
            ]
          },
          "execution_count": 13,
          "metadata": {},
          "output_type": "execute_result"
        }
      ],
      "source": [
        "# Write the Solution\n",
        "\n",
        "listingsAndReviews = client['sample_airbnb']['listingsAndReviews']\n",
        "\n",
        "count = listingsAndReviews.count_documents({'property_type' : 'Bed and breakfast', 'cancellation_policy' : 'flexible'})\n",
        "\n",
        "result = {\n",
        "    \"exercise_number\": 6,\n",
        "    \"result\" : count\n",
        "}\n",
        "\n",
        "print(result)\n",
        "\n",
        "client['results']['exercise_1'].insert_one(result)"
      ]
    },
    {
      "cell_type": "markdown",
      "metadata": {
        "id": "iyAu80Re8q62"
      },
      "source": [
        "### Exercise 7 💻\n",
        "\n",
        "Print one document from the listingsAndReviews collection"
      ]
    },
    {
      "cell_type": "code",
      "execution_count": 15,
      "metadata": {
        "colab": {
          "base_uri": "https://localhost:8080/"
        },
        "id": "jMmBGptO9M_l",
        "outputId": "292fadc4-9367-4152-b759-d97b129ff170"
      },
      "outputs": [
        {
          "name": "stdout",
          "output_type": "stream",
          "text": [
            "{'_id': '10009999',\n",
            " 'access': '',\n",
            " 'accommodates': 4,\n",
            " 'address': {'country': 'Brazil',\n",
            "             'country_code': 'BR',\n",
            "             'government_area': 'Jardim Botânico',\n",
            "             'location': {'coordinates': [-43.23074991429229,\n",
            "                                          -22.966253551739655],\n",
            "                          'is_location_exact': True,\n",
            "                          'type': 'Point'},\n",
            "             'market': 'Rio De Janeiro',\n",
            "             'street': 'Rio de Janeiro, Rio de Janeiro, Brazil',\n",
            "             'suburb': 'Jardim Botânico'},\n",
            " 'amenities': ['Wifi',\n",
            "               'Wheelchair accessible',\n",
            "               'Kitchen',\n",
            "               'Free parking on premises',\n",
            "               'Smoking allowed',\n",
            "               'Hot tub',\n",
            "               'Buzzer/wireless intercom',\n",
            "               'Family/kid friendly',\n",
            "               'Washer',\n",
            "               'First aid kit',\n",
            "               'Essentials',\n",
            "               'Hangers',\n",
            "               'Hair dryer',\n",
            "               'Iron',\n",
            "               'Laptop friendly workspace'],\n",
            " 'availability': {'availability_30': 0,\n",
            "                  'availability_365': 0,\n",
            "                  'availability_60': 0,\n",
            "                  'availability_90': 0},\n",
            " 'bathrooms': Decimal128('1.0'),\n",
            " 'bed_type': 'Real Bed',\n",
            " 'bedrooms': 1,\n",
            " 'beds': 2,\n",
            " 'calendar_last_scraped': datetime.datetime(2019, 2, 11, 5, 0),\n",
            " 'cancellation_policy': 'flexible',\n",
            " 'cleaning_fee': Decimal128('187.00'),\n",
            " 'description': 'One bedroom + sofa-bed in quiet and bucolic neighbourhood '\n",
            "                'right next to the Botanical Garden. Small garden, outside '\n",
            "                'shower, well equipped kitchen and bathroom with shower and '\n",
            "                'tub. Easy for transport with many restaurants and basic '\n",
            "                'facilities in the area. Lovely one bedroom + sofa-bed in the '\n",
            "                'living room, perfect for two but fits up to four '\n",
            "                'comfortably.  There´s a small outside garden with a shower '\n",
            "                'There´s a well equipped open kitchen with both 110V / 220V '\n",
            "                'wall plugs and one bathroom with shower, tub and even a sauna '\n",
            "                'machine! All newly refurbished! I´ll be happy to help you '\n",
            "                'with any doubts, tips or any other information needed during '\n",
            "                'your stay. This charming ground floor flat is located in '\n",
            "                'Horto, a quiet and bucolic neighborhood just next to the '\n",
            "                'Botanical Garden, where most of the descendants of it´s first '\n",
            "                'gardeners still live. You´ll be 30 minutes walk from '\n",
            "                'waterfalls in the rainforest with easy hiking trails! There '\n",
            "                'are nice bars and restaurants as well as basic facilities - '\n",
            "                'pharmacy, b',\n",
            " 'extra_people': Decimal128('0.00'),\n",
            " 'field2': False,\n",
            " 'guests_included': Decimal128('1'),\n",
            " 'host': {'host_about': 'I am an artist and traveling is a major part of my '\n",
            "                        'life. I love treating visitors the way I like to be '\n",
            "                        \"treated when I´m abroad and I'm usually renting my \"\n",
            "                        \"flat while I'm away. I can recommend some cool \"\n",
            "                        'parties and nights out as well as advise on some '\n",
            "                        'hidden secrets of Rio’s nature!',\n",
            "          'host_has_profile_pic': True,\n",
            "          'host_id': '1282196',\n",
            "          'host_identity_verified': False,\n",
            "          'host_is_superhost': False,\n",
            "          'host_listings_count': 1,\n",
            "          'host_location': 'Rio de Janeiro, State of Rio de Janeiro, Brazil',\n",
            "          'host_name': 'Ynaie',\n",
            "          'host_neighbourhood': 'Jardim Botânico',\n",
            "          'host_picture_url': 'https://a0.muscache.com/im/pictures/9681e3cc-4af1-4046-b294-2881dffb4ff8.jpg?aki_policy=profile_x_medium',\n",
            "          'host_thumbnail_url': 'https://a0.muscache.com/im/pictures/9681e3cc-4af1-4046-b294-2881dffb4ff8.jpg?aki_policy=profile_small',\n",
            "          'host_total_listings_count': 1,\n",
            "          'host_url': 'https://www.airbnb.com/users/show/1282196',\n",
            "          'host_verifications': ['email', 'phone', 'facebook']},\n",
            " 'house_rules': 'I just hope the guests treat the space as they´re own, with '\n",
            "                'respect to it as well as to my neighbours! Espero apenas que '\n",
            "                'os hóspedes tratem o lugar com carinho e respeito aos '\n",
            "                'vizinhos!',\n",
            " 'images': {'medium_url': '',\n",
            "            'picture_url': 'https://a0.muscache.com/im/pictures/5b408b9e-45da-4808-be65-4edc1f29c453.jpg?aki_policy=large',\n",
            "            'thumbnail_url': '',\n",
            "            'xl_picture_url': ''},\n",
            " 'interaction': 'I´ll be happy to help you with any doubts, tips or any other '\n",
            "                'information needed during your stay.',\n",
            " 'last_scraped': datetime.datetime(2019, 2, 11, 5, 0),\n",
            " 'listing_url': 'https://www.airbnb.com/rooms/10009999',\n",
            " 'maximum_nights': '1125',\n",
            " 'minimum_nights': '2',\n",
            " 'monthly_price': Decimal128('4849.00'),\n",
            " 'name': 'Horto flat with small garden',\n",
            " 'neighborhood_overview': 'This charming ground floor flat is located in '\n",
            "                          'Horto, a quiet and bucolic neighborhood just next '\n",
            "                          'to the Botanical Garden, where most of the '\n",
            "                          'descendants of it´s first gardeners still live. '\n",
            "                          'You´ll be 30 minutes walk from waterfalls in the '\n",
            "                          'rainforest with easy hiking trails! There are nice '\n",
            "                          'bars and restaurants as well as basic facilities - '\n",
            "                          'pharmacy, bakery, small market - in the area.',\n",
            " 'notes': 'There´s a table in the living room now, that does not show in the '\n",
            "          'photos.',\n",
            " 'number_of_reviews': 0,\n",
            " 'price': Decimal128('317.00'),\n",
            " 'property_type': 'Apartment',\n",
            " 'review_scores': {},\n",
            " 'reviews': [],\n",
            " 'room_type': 'Entire home/apt',\n",
            " 'space': 'Lovely one bedroom + sofa-bed in the living room, perfect for two '\n",
            "          'but fits up to four comfortably.  There´s a small outside garden '\n",
            "          'with a shower There´s a well equipped open kitchen with both 110V / '\n",
            "          '220V wall plugs and one bathroom with shower, tub and even a sauna '\n",
            "          'machine! All newly refurbished!',\n",
            " 'summary': 'One bedroom + sofa-bed in quiet and bucolic neighbourhood right '\n",
            "            'next to the Botanical Garden. Small garden, outside shower, well '\n",
            "            'equipped kitchen and bathroom with shower and tub. Easy for '\n",
            "            'transport with many restaurants and basic facilities in the area.',\n",
            " 'transit': 'Easy access to transport (bus, taxi, car) and easy free parking '\n",
            "            'around. Very close to Gávea, Leblon, Ipanema, Copacabana and '\n",
            "            'Botafogo.',\n",
            " 'weekly_price': Decimal128('1492.00')}\n"
          ]
        }
      ],
      "source": [
        "# Write the Solution\n",
        "import pprint\n",
        "\n",
        "pprint.pprint(listingsAndReviews.find_one())"
      ]
    },
    {
      "cell_type": "markdown",
      "metadata": {
        "id": "Y7MKtf0z9Owi"
      },
      "source": [
        "Exercise 8 💻\n",
        "\n",
        "The result contains a lot of information.\n",
        "\n",
        "Let's filter the output, and only show:\n",
        "- _id\n",
        "- name\n",
        "- property_type\n",
        "- room_type\n",
        "- address"
      ]
    },
    {
      "cell_type": "code",
      "execution_count": 16,
      "metadata": {
        "colab": {
          "base_uri": "https://localhost:8080/"
        },
        "id": "cRDYOkljBI55",
        "outputId": "8a1d5620-c408-4d4d-c4ca-e21c940f7fe8"
      },
      "outputs": [
        {
          "name": "stdout",
          "output_type": "stream",
          "text": [
            "{'_id': '10009999',\n",
            " 'address': {'country': 'Brazil',\n",
            "             'country_code': 'BR',\n",
            "             'government_area': 'Jardim Botânico',\n",
            "             'location': {'coordinates': [-43.23074991429229,\n",
            "                                          -22.966253551739655],\n",
            "                          'is_location_exact': True,\n",
            "                          'type': 'Point'},\n",
            "             'market': 'Rio De Janeiro',\n",
            "             'street': 'Rio de Janeiro, Rio de Janeiro, Brazil',\n",
            "             'suburb': 'Jardim Botânico'},\n",
            " 'name': 'Horto flat with small garden',\n",
            " 'property_type': 'Apartment',\n",
            " 'room_type': 'Entire home/apt'}\n"
          ]
        }
      ],
      "source": [
        "# Write the Solution\n",
        "document = listingsAndReviews.find_one({}, {\n",
        "    \"name\": 1,\n",
        "    \"property_type\": 1,\n",
        "    \"room_type\": 1,\n",
        "    \"address\": 1\n",
        "})\n",
        "\n",
        "pprint.pprint(document)"
      ]
    },
    {
      "cell_type": "markdown",
      "metadata": {
        "id": "oLM0MPFM9D5u"
      },
      "source": [
        "Exercise 9 💻\n",
        "\n",
        "Get the same details for one listing in the United States"
      ]
    },
    {
      "cell_type": "code",
      "execution_count": 17,
      "metadata": {
        "colab": {
          "base_uri": "https://localhost:8080/"
        },
        "id": "WXw0Eprl9DcZ",
        "outputId": "c81fa810-639d-4a97-81bc-e3071f560cc9"
      },
      "outputs": [
        {
          "name": "stdout",
          "output_type": "stream",
          "text": [
            "{'_id': '10021707',\n",
            " 'address': {'country': 'United States',\n",
            "             'country_code': 'US',\n",
            "             'government_area': 'Bushwick',\n",
            "             'location': {'coordinates': [-73.93615, 40.69791],\n",
            "                          'is_location_exact': True,\n",
            "                          'type': 'Point'},\n",
            "             'market': 'New York',\n",
            "             'street': 'Brooklyn, NY, United States',\n",
            "             'suburb': 'Brooklyn'},\n",
            " 'name': 'Private Room in Bushwick',\n",
            " 'property_type': 'Apartment',\n",
            " 'room_type': 'Private room'}\n"
          ]
        }
      ],
      "source": [
        "# Write the Solution\n",
        "document = listingsAndReviews.find_one({\n",
        "    \"address.country\": \"United States\"\n",
        "}, {\n",
        "    \"name\": 1,\n",
        "    \"property_type\": 1,\n",
        "    \"room_type\": 1,\n",
        "    \"address\": 1\n",
        "})\n",
        "\n",
        "pprint.pprint(document)"
      ]
    },
    {
      "cell_type": "markdown",
      "metadata": {
        "id": "UXsYTggoDXha"
      },
      "source": [
        "Exercise 10 💻\n",
        "\n",
        "Get one listing in the United States, with \"Hot Water\" and \"Iron\" in amenities.\n",
        "\n",
        "You need to show the amenities information in the result as well."
      ]
    },
    {
      "cell_type": "code",
      "execution_count": 22,
      "metadata": {
        "colab": {
          "base_uri": "https://localhost:8080/"
        },
        "id": "Qw_BI4cVEh1J",
        "outputId": "623badf8-c786-452e-e296-3aacc002f0ee"
      },
      "outputs": [
        {
          "name": "stdout",
          "output_type": "stream",
          "text": [
            "{'_id': '1001265',\n",
            " 'address': {'country': 'United States',\n",
            "             'country_code': 'US',\n",
            "             'government_area': 'Primary Urban Center',\n",
            "             'location': {'coordinates': [-157.83919, 21.28634],\n",
            "                          'is_location_exact': True,\n",
            "                          'type': 'Point'},\n",
            "             'market': 'Oahu',\n",
            "             'street': 'Honolulu, HI, United States',\n",
            "             'suburb': 'Oʻahu'},\n",
            " 'amenities': ['TV',\n",
            "               'Cable TV',\n",
            "               'Wifi',\n",
            "               'Air conditioning',\n",
            "               'Pool',\n",
            "               'Kitchen',\n",
            "               'Free parking on premises',\n",
            "               'Elevator',\n",
            "               'Hot tub',\n",
            "               'Washer',\n",
            "               'Dryer',\n",
            "               'Essentials',\n",
            "               'Shampoo',\n",
            "               'Hangers',\n",
            "               'Hair dryer',\n",
            "               'Iron',\n",
            "               'Laptop friendly workspace',\n",
            "               'Self check-in',\n",
            "               'Lockbox',\n",
            "               'Hot water',\n",
            "               'Bed linens',\n",
            "               'Extra pillows and blankets',\n",
            "               'Ethernet connection',\n",
            "               'Microwave',\n",
            "               'Coffee maker',\n",
            "               'Refrigerator',\n",
            "               'Dishes and silverware',\n",
            "               'Cooking basics',\n",
            "               'Stove',\n",
            "               'BBQ grill',\n",
            "               'Garden or backyard',\n",
            "               'Well-lit path to entrance',\n",
            "               'Disabled parking spot',\n",
            "               'Step-free access',\n",
            "               'Wide clearance to bed',\n",
            "               'Step-free access'],\n",
            " 'name': 'Ocean View Waikiki Marina w/prkg',\n",
            " 'property_type': 'Condominium',\n",
            " 'room_type': 'Entire home/apt'}\n"
          ]
        }
      ],
      "source": [
        "# Write the Solution\n",
        "document = listingsAndReviews.find_one({\n",
        "    \"address.country\": \"United States\",\n",
        "    \"amenities\": { \"$all\" : [\n",
        "        \"Hot water\",\n",
        "        \"Iron\"\n",
        "    ] }\n",
        "}, {\n",
        "    \"name\": 1,\n",
        "    \"property_type\": 1,\n",
        "    \"room_type\": 1,\n",
        "    \"address\": 1,\n",
        "    \"amenities\": 1\n",
        "})\n",
        "\n",
        "pprint.pprint(document)"
      ]
    },
    {
      "cell_type": "markdown",
      "metadata": {
        "id": "wEMoicXIEkP1"
      },
      "source": [
        "### Exercise 11 💻\n",
        "\n",
        "Get one listing in the United States, with \"Internet\"as the second element in the amenities list.\n",
        "\n",
        "You need to show the amenities information in the result as well."
      ]
    },
    {
      "cell_type": "code",
      "execution_count": 23,
      "metadata": {
        "colab": {
          "base_uri": "https://localhost:8080/"
        },
        "id": "bpyozQTtGIK_",
        "outputId": "65a4696c-3eae-4a45-a4ab-a53b0cde2ca8"
      },
      "outputs": [
        {
          "name": "stdout",
          "output_type": "stream",
          "text": [
            "{'_id': '10096773',\n",
            " 'address': {'country': 'United States',\n",
            "             'country_code': 'US',\n",
            "             'government_area': 'Chelsea',\n",
            "             'location': {'coordinates': [-74.00074, 40.74577],\n",
            "                          'is_location_exact': True,\n",
            "                          'type': 'Point'},\n",
            "             'market': 'New York',\n",
            "             'street': 'New York, NY, United States',\n",
            "             'suburb': 'Manhattan'},\n",
            " 'amenities': ['TV',\n",
            "               'Internet',\n",
            "               'Wifi',\n",
            "               'Kitchen',\n",
            "               'Heating',\n",
            "               'Smoke detector',\n",
            "               'Carbon monoxide detector',\n",
            "               'Fire extinguisher',\n",
            "               'Essentials'],\n",
            " 'name': 'Easy 1 Bedroom in Chelsea',\n",
            " 'property_type': 'Apartment',\n",
            " 'room_type': 'Entire home/apt'}\n"
          ]
        }
      ],
      "source": [
        "# Write the Solution\n",
        "document = listingsAndReviews.find_one({\n",
        "    \"address.country\": \"United States\",\n",
        "    \"amenities.1\": \"Internet\"\n",
        "}, {\n",
        "    \"name\": 1,\n",
        "    \"property_type\": 1,\n",
        "    \"room_type\": 1,\n",
        "    \"address\": 1,\n",
        "    \"amenities\": 1\n",
        "})\n",
        "\n",
        "pprint.pprint(document)"
      ]
    },
    {
      "cell_type": "markdown",
      "metadata": {
        "id": "BQ1GMVxkmBBi"
      },
      "source": [
        "### Exercise 12 💻\n",
        "\n",
        "Get the number of listings that `accomodates` more than 8 people."
      ]
    },
    {
      "cell_type": "code",
      "execution_count": 29,
      "metadata": {
        "colab": {
          "base_uri": "https://localhost:8080/"
        },
        "id": "3UGgfndymBBi",
        "outputId": "4e331b62-ffb4-4344-d6d7-42a531393539"
      },
      "outputs": [
        {
          "name": "stdout",
          "output_type": "stream",
          "text": [
            "There are 178 properties that accomodate more than 8 people\n"
          ]
        }
      ],
      "source": [
        "# Write the solution\n",
        "\n",
        "# Hint\n",
        "# 1. Use the $gt method\n",
        "# 2. Use the `accomodates` field\n",
        "count = listingsAndReviews.count_documents({ \"accommodates\" : {\n",
        "    \"$gt\" : 8\n",
        "} })\n",
        "print(f'There are {count} properties that accomodate more than 8 people')"
      ]
    },
    {
      "cell_type": "markdown",
      "metadata": {
        "id": "eCnVmSIamBBi"
      },
      "source": [
        "### Exercise 13 💻\n",
        "\n",
        "Get the listings where `address.country` is `China`, or with more than 300 reviews `number_of_reviews`"
      ]
    },
    {
      "cell_type": "code",
      "execution_count": 31,
      "metadata": {
        "colab": {
          "base_uri": "https://localhost:8080/"
        },
        "id": "LjlEVBgomBBj",
        "outputId": "495d989e-b9aa-416d-fe2b-d2153e8f1db8"
      },
      "outputs": [
        {
          "name": "stdout",
          "output_type": "stream",
          "text": [
            "{'_id': '11610598',\n",
            " 'address': {'country': 'United States'},\n",
            " 'number_of_reviews': 385}\n",
            "{'_id': '1144090', 'address': {'country': 'Portugal'}, 'number_of_reviews': 380}\n",
            "{'_id': '1332929', 'address': {'country': 'Spain'}, 'number_of_reviews': 320}\n",
            "{'_id': '127208', 'address': {'country': 'Portugal'}, 'number_of_reviews': 391}\n",
            "{'_id': '1284759', 'address': {'country': 'Portugal'}, 'number_of_reviews': 399}\n",
            "{'_id': '12954762',\n",
            " 'address': {'country': 'Australia'},\n",
            " 'number_of_reviews': 469}\n",
            "{'_id': '1482060', 'address': {'country': 'Spain'}, 'number_of_reviews': 397}\n",
            "{'_id': '1726242', 'address': {'country': 'Portugal'}, 'number_of_reviews': 308}\n",
            "{'_id': '16341825', 'address': {'country': 'China'}, 'number_of_reviews': 3}\n",
            "{'_id': '16493868',\n",
            " 'address': {'country': 'Hong Kong'},\n",
            " 'number_of_reviews': 348}\n",
            "{'_id': '18173787',\n",
            " 'address': {'country': 'United States'},\n",
            " 'number_of_reviews': 379}\n",
            "{'_id': '20804962', 'address': {'country': 'China'}, 'number_of_reviews': 3}\n",
            "{'_id': '22042558', 'address': {'country': 'China'}, 'number_of_reviews': 86}\n",
            "{'_id': '2373963', 'address': {'country': 'Portugal'}, 'number_of_reviews': 304}\n",
            "{'_id': '25250380', 'address': {'country': 'China'}, 'number_of_reviews': 52}\n",
            "{'_id': '25238139', 'address': {'country': 'China'}, 'number_of_reviews': 3}\n",
            "{'_id': '25950909', 'address': {'country': 'China'}, 'number_of_reviews': 2}\n",
            "{'_id': '26899775', 'address': {'country': 'China'}, 'number_of_reviews': 7}\n",
            "{'_id': '26755714', 'address': {'country': 'China'}, 'number_of_reviews': 0}\n",
            "{'_id': '2758817', 'address': {'country': 'Portugal'}, 'number_of_reviews': 402}\n",
            "{'_id': '28829890', 'address': {'country': 'China'}, 'number_of_reviews': 32}\n",
            "{'_id': '28044029', 'address': {'country': 'China'}, 'number_of_reviews': 10}\n",
            "{'_id': '29931879', 'address': {'country': 'China'}, 'number_of_reviews': 1}\n",
            "{'_id': '31293980', 'address': {'country': 'China'}, 'number_of_reviews': 0}\n",
            "{'_id': '32275681', 'address': {'country': 'China'}, 'number_of_reviews': 0}\n",
            "{'_id': '32369195', 'address': {'country': 'China'}, 'number_of_reviews': 1}\n",
            "{'_id': '32932316', 'address': {'country': 'China'}, 'number_of_reviews': 0}\n",
            "{'_id': '32436791', 'address': {'country': 'China'}, 'number_of_reviews': 3}\n",
            "{'_id': '32928274', 'address': {'country': 'China'}, 'number_of_reviews': 0}\n",
            "{'_id': '32727861', 'address': {'country': 'China'}, 'number_of_reviews': 0}\n",
            "{'_id': '4069429',\n",
            " 'address': {'country': 'United States'},\n",
            " 'number_of_reviews': 533}\n",
            "{'_id': '476983',\n",
            " 'address': {'country': 'United States'},\n",
            " 'number_of_reviews': 420}\n",
            "{'_id': '5283892', 'address': {'country': 'Portugal'}, 'number_of_reviews': 408}\n",
            "{'_id': '652063', 'address': {'country': 'Australia'}, 'number_of_reviews': 312}\n",
            "{'_id': '7536867',\n",
            " 'address': {'country': 'United States'},\n",
            " 'number_of_reviews': 308}\n",
            "{'_id': '8092787', 'address': {'country': 'China'}, 'number_of_reviews': 1}\n",
            "{'_id': '941361',\n",
            " 'address': {'country': 'United States'},\n",
            " 'number_of_reviews': 351}\n",
            "{'_id': '95560', 'address': {'country': 'Spain'}, 'number_of_reviews': 463}\n"
          ]
        }
      ],
      "source": [
        "# Write the solution\n",
        "cursor = listingsAndReviews.find({\n",
        "    \"$or\" : [\n",
        "        {\n",
        "            \"address.country\" : \"China\"\n",
        "        },\n",
        "        {\n",
        "            \"number_of_reviews\" : {\n",
        "                \"$gt\" : 300\n",
        "            }\n",
        "        }\n",
        "    ]\n",
        "}, {\n",
        "    \"address.country\" : 1,\n",
        "    \"number_of_reviews\" : 1\n",
        "})\n",
        "\n",
        "for listing in cursor:\n",
        "  pprint.pprint(listing)"
      ]
    }
  ],
  "metadata": {
    "colab": {
      "provenance": []
    },
    "kernelspec": {
      "display_name": "Python 3",
      "name": "python3"
    },
    "language_info": {
      "name": "python"
    }
  },
  "nbformat": 4,
  "nbformat_minor": 0
}
