{
 "cells": [
  {
   "cell_type": "markdown",
   "id": "2ef3d3f6",
   "metadata": {
    "deletable": false,
    "editable": false,
    "nbgrader": {
     "cell_type": "markdown",
     "checksum": "fa824a4ddee5dc0d73e4c7af3205a142",
     "grade": false,
     "grade_id": "cell-86566c2beffdd9a8",
     "locked": true,
     "schema_version": 3,
     "solution": false,
     "task": false
    }
   },
   "source": [
    "# Python Exercises\n",
    "Epita 2023 - Camille Duquesne"
   ]
  },
  {
   "cell_type": "markdown",
   "id": "387336da",
   "metadata": {
    "deletable": false,
    "editable": false,
    "nbgrader": {
     "cell_type": "markdown",
     "checksum": "335b617dbb7d6fb704bc9820b2e3b94f",
     "grade": false,
     "grade_id": "cell-23dcefc78c53565c",
     "locked": true,
     "schema_version": 3,
     "solution": false,
     "task": false
    }
   },
   "source": [
    "**Important informations**\n",
    "* All the exercices are going to be graded automatically. \n",
    "* All code needs to be clean code, maluses will be applied otherwise.\n",
    "* If you delete cells that are commented as `#Do not delete` the automatic grading will directly award no points for that exercise.\n",
    "* Don't forget to remove `raise NotImplementedError()` if you code a solution for a function.\n",
    "* Automatic plagiarism will also be run on your notebook. If plagiarism is detected, the grade is divided by two for both parties and the administration of EPITA is alerted.\n",
    "* As in any academic context, you should cite your sources and collaborators. You need to fill in the according infos for each exercise."
   ]
  },
  {
   "cell_type": "markdown",
   "id": "8046752f",
   "metadata": {
    "deletable": false,
    "editable": false,
    "nbgrader": {
     "cell_type": "markdown",
     "checksum": "691dcd265540dae2f980ac734d3872e2",
     "grade": false,
     "grade_id": "cell-4edafdd178e3787a",
     "locked": true,
     "schema_version": 3,
     "solution": false,
     "task": false
    }
   },
   "source": [
    "## Exercice 1 - 4 points\n",
    "Write a function called reverse that, given a non-negative integer (entered as argument), returns the digits of this number within an array in reverse order. For example with input 35231 reverse should give [1,3,2,5,3] and for input 0 reverse should give [0]. "
   ]
  },
  {
   "cell_type": "markdown",
   "id": "426229d2",
   "metadata": {},
   "source": [
    "**To fill in**\n",
    "\n",
    "Sources:\n",
    "* \n",
    "* \n",
    "\n",
    "Collaborators:\n",
    "* \n",
    "* "
   ]
  },
  {
   "cell_type": "code",
   "execution_count": 1,
   "id": "d44f3b24",
   "metadata": {
    "deletable": false,
    "execution": {
     "iopub.execute_input": "2023-11-15T14:02:09.490936Z",
     "iopub.status.busy": "2023-11-15T14:02:09.490845Z",
     "iopub.status.idle": "2023-11-15T14:02:09.502253Z",
     "shell.execute_reply": "2023-11-15T14:02:09.501461Z",
     "shell.execute_reply.started": "2023-11-15T14:02:09.490925Z"
    },
    "nbgrader": {
     "cell_type": "code",
     "checksum": "e9cf86ee43693dd4607ec44a6be2fbd4",
     "grade": false,
     "grade_id": "cell-f03a6203b4b1c8fa",
     "locked": false,
     "schema_version": 3,
     "solution": true,
     "task": false
    }
   },
   "outputs": [],
   "source": [
    "#Do not delete\n",
    "from typing import List\n",
    "\n",
    "def reverse(number: int) -> List[int]:\n",
    "    \"\"\"Transform a non-negative integer into a list of its digits, \n",
    "    in reverse order.\n",
    "    \n",
    "    #######\n",
    "    input: number (integer)\n",
    "    output: reversed_numbers (list)\n",
    "    #######\n",
    "    \"\"\"\n",
    "    # Trans to Str\n",
    "    s = str(number)[::-1]\n",
    "    # Trans each element to int\n",
    "    ls = [int(ch) for ch in s]\n",
    "    return ls"
   ]
  },
  {
   "cell_type": "code",
   "execution_count": 2,
   "id": "1229267f",
   "metadata": {
    "execution": {
     "iopub.execute_input": "2023-11-15T14:02:09.504353Z",
     "iopub.status.busy": "2023-11-15T14:02:09.504189Z",
     "iopub.status.idle": "2023-11-15T14:02:09.506868Z",
     "shell.execute_reply": "2023-11-15T14:02:09.506535Z",
     "shell.execute_reply.started": "2023-11-15T14:02:09.504338Z"
    }
   },
   "outputs": [
    {
     "name": "stdout",
     "output_type": "stream",
     "text": [
      "[6, 5, 4, 3, 2, 1]\n"
     ]
    }
   ],
   "source": [
    "print(reverse(123456))"
   ]
  },
  {
   "cell_type": "code",
   "execution_count": 3,
   "id": "065d57f8",
   "metadata": {
    "deletable": false,
    "editable": false,
    "execution": {
     "iopub.execute_input": "2023-11-15T14:02:09.507719Z",
     "iopub.status.busy": "2023-11-15T14:02:09.507594Z",
     "iopub.status.idle": "2023-11-15T14:02:09.511503Z",
     "shell.execute_reply": "2023-11-15T14:02:09.511178Z",
     "shell.execute_reply.started": "2023-11-15T14:02:09.507708Z"
    },
    "nbgrader": {
     "cell_type": "code",
     "checksum": "4828ee0b26553d2606348a1a21f47033",
     "grade": true,
     "grade_id": "cell-42dcac3b124d5554",
     "locked": true,
     "points": 4,
     "schema_version": 3,
     "solution": false,
     "task": false
    }
   },
   "outputs": [],
   "source": [
    "#If this cell runs without any errors then it means your function works perfectly :) \n",
    "#Do not delete\n",
    "assert reverse(35231) == [1,3,2,5,3]\n",
    "assert reverse(0) == [0]\n",
    "assert reverse(12345678910) == [0,1,9,8,7,6,5,4,3,2,1]\n",
    "assert reverse(3333) == [3,3,3,3]\n",
    "assert reverse(90) == [0,9]\n",
    "assert reverse(7692537291635382) == [2,8,3,5,3,6,1,9,2,7,3,5,2,9,6,7]"
   ]
  },
  {
   "cell_type": "markdown",
   "id": "1a550e26",
   "metadata": {
    "deletable": false,
    "editable": false,
    "nbgrader": {
     "cell_type": "markdown",
     "checksum": "7a81cb245587869123863f3f7a83283c",
     "grade": false,
     "grade_id": "cell-a40eb6f8dac56e63",
     "locked": true,
     "schema_version": 3,
     "solution": false,
     "task": false
    }
   },
   "source": [
    "## Exercice 2 - 4 points\n",
    "Write a function called pretty_word, that given a string, prints letters joined by a dash the string and omits any non-alphabetic characters. For example, for input `'krishan'` `pretty_word('krishan')` should give `'n-a-h-s-i-r-k'` and for input `'ultr53o?n'` `pretty_word('ultr53o?n')` should give `'n-o-r-t-l-u'`."
   ]
  },
  {
   "cell_type": "markdown",
   "id": "477bd4d7",
   "metadata": {},
   "source": [
    "**To fill in**\n",
    "\n",
    "Sources:\n",
    "* \n",
    "* \n",
    "\n",
    "Collaborators:\n",
    "* \n",
    "* "
   ]
  },
  {
   "cell_type": "code",
   "execution_count": 4,
   "id": "b3d43875",
   "metadata": {
    "deletable": false,
    "execution": {
     "iopub.execute_input": "2023-11-15T14:02:09.512244Z",
     "iopub.status.busy": "2023-11-15T14:02:09.512086Z",
     "iopub.status.idle": "2023-11-15T14:02:09.514579Z",
     "shell.execute_reply": "2023-11-15T14:02:09.514283Z",
     "shell.execute_reply.started": "2023-11-15T14:02:09.512232Z"
    },
    "nbgrader": {
     "cell_type": "code",
     "checksum": "b403800420834e751b9c4f559585144d",
     "grade": false,
     "grade_id": "cell-78cf3a775f8bad17",
     "locked": false,
     "schema_version": 3,
     "solution": true,
     "task": false
    }
   },
   "outputs": [],
   "source": [
    "#Do not delete\n",
    "def pretty_word(word: str) -> str:\n",
    "    \"\"\"Remove all non-letter characters from a string and reverse its character order.\n",
    "    \n",
    "    #######\n",
    "    input: word (string)\n",
    "    output: cleaned_word (string)\n",
    "    #######\n",
    "    \"\"\"\n",
    "    # YOUR CODE HERE\n",
    "    #Reverse\n",
    "    word = word[::-1]\n",
    "    # Judge each element within loop\n",
    "    ls = [ch for ch in word if ch.isalpha()]\n",
    "    return '-'.join(ls)"
   ]
  },
  {
   "cell_type": "code",
   "execution_count": 5,
   "id": "e7ffcb40",
   "metadata": {
    "execution": {
     "iopub.execute_input": "2023-11-15T14:02:09.515332Z",
     "iopub.status.busy": "2023-11-15T14:02:09.515198Z",
     "iopub.status.idle": "2023-11-15T14:02:09.517615Z",
     "shell.execute_reply": "2023-11-15T14:02:09.517297Z",
     "shell.execute_reply.started": "2023-11-15T14:02:09.515321Z"
    }
   },
   "outputs": [
    {
     "name": "stdout",
     "output_type": "stream",
     "text": [
      "n-o-r-t-l-u\n"
     ]
    }
   ],
   "source": [
    "print(pretty_word(\"ultr53o?n\"))"
   ]
  },
  {
   "cell_type": "code",
   "execution_count": 6,
   "id": "dc40236b",
   "metadata": {
    "deletable": false,
    "editable": false,
    "execution": {
     "iopub.execute_input": "2023-11-15T14:02:09.518306Z",
     "iopub.status.busy": "2023-11-15T14:02:09.518128Z",
     "iopub.status.idle": "2023-11-15T14:02:09.522047Z",
     "shell.execute_reply": "2023-11-15T14:02:09.521717Z",
     "shell.execute_reply.started": "2023-11-15T14:02:09.518293Z"
    },
    "nbgrader": {
     "cell_type": "code",
     "checksum": "f97416dcac205da0220a7d0701f1b628",
     "grade": true,
     "grade_id": "cell-0e332c3ccdd3f6fe",
     "locked": true,
     "points": 4,
     "schema_version": 3,
     "solution": false,
     "task": false
    }
   },
   "outputs": [],
   "source": [
    "#Do not delete\n",
    "assert pretty_word(\"krishan\") == \"n-a-h-s-i-r-k\"\n",
    "assert pretty_word(\"ultr53o?n\") == \"n-o-r-t-l-u\"\n",
    "assert pretty_word(\"\") == \"\"\n",
    "assert pretty_word(\"!*)[!&%@)$*\") == \"\"\n",
    "assert pretty_word(\"uh(tucz§0\") == \"z-c-u-t-h-u\"\n",
    "assert pretty_word(\"Kl98i$*Poi\") == \"i-o-P-i-l-K\""
   ]
  },
  {
   "cell_type": "markdown",
   "id": "bbccf983",
   "metadata": {
    "deletable": false,
    "editable": false,
    "nbgrader": {
     "cell_type": "markdown",
     "checksum": "17cb04daea926d30e7786707833ee106",
     "grade": false,
     "grade_id": "cell-49b1f061936854f1",
     "locked": true,
     "schema_version": 3,
     "solution": false,
     "task": false
    }
   },
   "source": [
    "## Exercice 3 - 6 points\n",
    "Write a function called `even_sorting` that, given an array of numbers, will sort the even numbers in ascending order while leaving the odd numbers at their original positions. \n",
    "Examples:\n",
    "\n",
    "[7, 1] => [7, 1]\n",
    "\n",
    "[5, 8, 6, 3, 4] => [5, 4, 6, 3, 8]\n",
    "\n",
    "[9, 8, 7, 6, 5, 4, 3, 2, 1, 0] => [9, 0, 7, 2, 5, 4, 3, 6, 1, 8]"
   ]
  },
  {
   "cell_type": "markdown",
   "id": "c287c389",
   "metadata": {},
   "source": [
    "**To fill in**\n",
    "\n",
    "Sources:\n",
    "* \n",
    "* \n",
    "\n",
    "Collaborators:\n",
    "* \n",
    "* "
   ]
  },
  {
   "cell_type": "code",
   "execution_count": 7,
   "id": "d373d252",
   "metadata": {
    "deletable": false,
    "execution": {
     "iopub.execute_input": "2023-11-15T14:02:09.524541Z",
     "iopub.status.busy": "2023-11-15T14:02:09.524380Z",
     "iopub.status.idle": "2023-11-15T14:02:09.527839Z",
     "shell.execute_reply": "2023-11-15T14:02:09.527440Z",
     "shell.execute_reply.started": "2023-11-15T14:02:09.524529Z"
    },
    "nbgrader": {
     "cell_type": "code",
     "checksum": "319ef0dc00934917d0c4bcb4d1c42713",
     "grade": false,
     "grade_id": "cell-9cc64f2e944a1e21",
     "locked": false,
     "schema_version": 3,
     "solution": true,
     "task": false
    }
   },
   "outputs": [],
   "source": [
    "#Do not delete\n",
    "from typing import List\n",
    "\n",
    "def even_sorting(number_list: List[int]) -> List[int]:\n",
    "    \"\"\"Sort the even number of a list while leaving the odd numbers at the same position.\n",
    "    \n",
    "    #######\n",
    "    input: number_list (list)\n",
    "    output: sorted_list (list)\n",
    "    #######\n",
    "    \"\"\"\n",
    "    # YOUR CODE HERE\n",
    "    # Create a new list for even numbers and find the index of each even number\n",
    "    even_ls = sorted([num for num in number_list if num % 2 == 0])\n",
    "    even_index = [i for i,num in enumerate(number_list) if num % 2 == 0]\n",
    "    # Combine the index with the num then replace the even number in the old list\n",
    "    for i,num in zip(even_index,even_ls):\n",
    "        number_list[i] = num\n",
    "    return number_list\n",
    "    "
   ]
  },
  {
   "cell_type": "code",
   "execution_count": 8,
   "id": "08ec47b5",
   "metadata": {
    "execution": {
     "iopub.execute_input": "2023-11-15T14:02:09.528450Z",
     "iopub.status.busy": "2023-11-15T14:02:09.528316Z",
     "iopub.status.idle": "2023-11-15T14:02:09.531415Z",
     "shell.execute_reply": "2023-11-15T14:02:09.530841Z",
     "shell.execute_reply.started": "2023-11-15T14:02:09.528438Z"
    }
   },
   "outputs": [
    {
     "name": "stdout",
     "output_type": "stream",
     "text": [
      "[1, 2, 5, 2, 4, 9, 6, 8]\n"
     ]
    }
   ],
   "source": [
    "print(even_sorting([1, 4, 5, 2, 8, 9, 2, 6]))"
   ]
  },
  {
   "cell_type": "code",
   "execution_count": 9,
   "id": "ed625447",
   "metadata": {
    "deletable": false,
    "editable": false,
    "execution": {
     "iopub.execute_input": "2023-11-15T14:02:09.532751Z",
     "iopub.status.busy": "2023-11-15T14:02:09.532524Z",
     "iopub.status.idle": "2023-11-15T14:02:09.536440Z",
     "shell.execute_reply": "2023-11-15T14:02:09.535933Z",
     "shell.execute_reply.started": "2023-11-15T14:02:09.532736Z"
    },
    "nbgrader": {
     "cell_type": "code",
     "checksum": "d6fe639c4d1337f9d7ffe68860bfd4ed",
     "grade": true,
     "grade_id": "cell-20c9a211f1bfc7ab",
     "locked": true,
     "points": 6,
     "schema_version": 3,
     "solution": false,
     "task": false
    }
   },
   "outputs": [],
   "source": [
    "#Do not delete\n",
    "assert even_sorting([7, 1]) == [7, 1]\n",
    "assert even_sorting([5, 8, 6, 3, 4]) == [5, 4, 6, 3, 8]\n",
    "assert even_sorting([9, 8, 7, 6, 5, 4, 3, 2, 1, 0]) ==  [9, 0, 7, 2, 5, 4, 3, 6, 1, 8]\n",
    "assert even_sorting([5, 3, 1, 8, 0]) == [5, 3, 1, 0, 8]\n",
    "assert even_sorting([]) == []\n",
    "assert even_sorting([5, 3, 2, 8, 1, 4]) == [5, 3, 2, 4, 1, 8]\n",
    "assert even_sorting([5, -3, 2, 8, 1, 4]) == [5, -3, 2, 4, 1, 8]"
   ]
  },
  {
   "cell_type": "code",
   "execution_count": null,
   "id": "b75a25ec",
   "metadata": {},
   "outputs": [],
   "source": []
  },
  {
   "cell_type": "markdown",
   "id": "321c76d6",
   "metadata": {
    "deletable": false,
    "editable": false,
    "nbgrader": {
     "cell_type": "markdown",
     "checksum": "41da0f5d8002dd6647933299824838f8",
     "grade": false,
     "grade_id": "cell-80ac49f82a7787ba",
     "locked": true,
     "schema_version": 3,
     "solution": false,
     "task": false
    }
   },
   "source": [
    "## Exercise 4 - 5 points\n",
    "Write a function named `cropped` that takes as input a list and an element and returns the list cropped after the second occurence of the given element.  \n",
    "Examples:    \n",
    "[1,2,3,4,5] and 2 => [1,2,3,4,5]     \n",
    "[1,2,5,2,5] and 2 => [1,2,5,2]   \n",
    "[1,5,5,4,5] and 5 => [1,5,5]    \n",
    "['b', 'b', 'c'] and 'b' => ['b', 'b']  \n",
    "['a', 'b', 'c'] and 8 => ['a', 'b', 'c']"
   ]
  },
  {
   "cell_type": "markdown",
   "id": "60ae84d8",
   "metadata": {},
   "source": [
    "**To fill in**\n",
    "\n",
    "Sources:\n",
    "* \n",
    "* \n",
    "\n",
    "Collaborators:\n",
    "* \n",
    "* "
   ]
  },
  {
   "cell_type": "code",
   "execution_count": 10,
   "id": "c8fc4148",
   "metadata": {
    "deletable": false,
    "execution": {
     "iopub.execute_input": "2023-11-15T14:02:09.537022Z",
     "iopub.status.busy": "2023-11-15T14:02:09.536908Z",
     "iopub.status.idle": "2023-11-15T14:02:09.540585Z",
     "shell.execute_reply": "2023-11-15T14:02:09.540195Z",
     "shell.execute_reply.started": "2023-11-15T14:02:09.537010Z"
    },
    "nbgrader": {
     "cell_type": "code",
     "checksum": "eaa364489eabd1f667bac3a69935e836",
     "grade": false,
     "grade_id": "cell-6fb614898b2e9883",
     "locked": false,
     "schema_version": 3,
     "solution": true,
     "task": false
    }
   },
   "outputs": [],
   "source": [
    "#Do not delete\n",
    "from typing import List, Union\n",
    "\n",
    "def cropped(list_to_crop: List[Union[int, str]], specific_element: Union[int, str]) -> List[Union[int, str]]:\n",
    "    \"\"\"Crop a list based on a given element, after its second occurrence.\n",
    "    \n",
    "    #######\n",
    "    input: list_to_crop (list)\n",
    "           specific_element\n",
    "    output: cropped_list (list)\n",
    "    #######\n",
    "    \"\"\"\n",
    "    # YOUR CODE HERE\n",
    "    count = 0\n",
    "    index = 0\n",
    "    # Check how many times does the element show in the list, find the index of 2nd orrucance\n",
    "    for i,num in enumerate(list_to_crop):\n",
    "        if num == specific_element:\n",
    "            count += 1\n",
    "            if count == 2:\n",
    "                index = i \n",
    "                break\n",
    "    # If count<2, return the origin\n",
    "    return list_to_crop if count < 2 else list_to_crop[:index+1]"
   ]
  },
  {
   "cell_type": "code",
   "execution_count": 11,
   "id": "92fec04f",
   "metadata": {
    "execution": {
     "iopub.execute_input": "2023-11-15T14:02:09.541406Z",
     "iopub.status.busy": "2023-11-15T14:02:09.541236Z",
     "iopub.status.idle": "2023-11-15T14:02:09.544666Z",
     "shell.execute_reply": "2023-11-15T14:02:09.544242Z",
     "shell.execute_reply.started": "2023-11-15T14:02:09.541392Z"
    }
   },
   "outputs": [
    {
     "name": "stdout",
     "output_type": "stream",
     "text": [
      "[1, 2, 2]\n",
      "[0, 3, 2, 0, 5, 0, 5]\n"
     ]
    }
   ],
   "source": [
    "print(cropped([1,2,2,4,5], 2))\n",
    "print(cropped([0, 3, 2, 0, 5, 0, 5], 5))"
   ]
  },
  {
   "cell_type": "code",
   "execution_count": 12,
   "id": "532dbc9a",
   "metadata": {
    "deletable": false,
    "editable": false,
    "execution": {
     "iopub.execute_input": "2023-11-15T14:02:09.545280Z",
     "iopub.status.busy": "2023-11-15T14:02:09.545163Z",
     "iopub.status.idle": "2023-11-15T14:02:09.552098Z",
     "shell.execute_reply": "2023-11-15T14:02:09.551746Z",
     "shell.execute_reply.started": "2023-11-15T14:02:09.545270Z"
    },
    "nbgrader": {
     "cell_type": "code",
     "checksum": "7a481630fd485f08f52fad189490f93d",
     "grade": true,
     "grade_id": "cell-b6a0fc2e7b5dff25",
     "locked": true,
     "points": 5,
     "schema_version": 3,
     "solution": false,
     "task": false
    }
   },
   "outputs": [],
   "source": [
    "#Do not delete\n",
    "assert cropped([1,2,2,4,5], 2) == [1,2, 2]\n",
    "assert cropped([1,2,3,4,5], 3) == [1,2,3,4,5]\n",
    "assert cropped([1,2,5,4,5], 5) == [1,2,5,4,5]\n",
    "assert cropped([], 5) == []\n",
    "assert cropped([5,5], 5) == [5,5]\n",
    "assert cropped([1,-3,5,-3,5], -3) == [1,-3,5,-3]\n",
    "assert cropped(['a','b','c','b','e','b','g','h'], 'b') == ['a','b','c','b']\n",
    "assert cropped([1,2,3,4,5,6,7,8], 0) == [1,2,3,4,5,6,7,8]\n",
    "assert cropped([1,8,3,14,2,0,36,14,301,38, 34], 14) == [1,8,3,14,2,0,36,14]\n",
    "assert cropped([\"apple\", \"apple\", \"banana\", \"orange\", \"grapes\",\"melon\"], \"apple\") == [\"apple\", \"apple\"]\n",
    "assert cropped([\"4\", \"4\", \"5\", \"4\", \"5\"], 4) == [\"4\", \"4\", \"5\", \"4\", \"5\"]"
   ]
  },
  {
   "cell_type": "markdown",
   "id": "6a4b9352",
   "metadata": {
    "deletable": false,
    "editable": false,
    "nbgrader": {
     "cell_type": "markdown",
     "checksum": "86a915ecc17dd510a7b91f924f6e2505",
     "grade": false,
     "grade_id": "cell-9708213f98afffbe",
     "locked": true,
     "schema_version": 3,
     "solution": false,
     "task": false
    }
   },
   "source": [
    "## Exercice 5 - 4 points\n",
    "Write a function called `special_sum` that sums a list, but ignores\n",
    "any duplicate items in the list.\n",
    "\n",
    "For instance, for the list [3, 4, 3, 6] , the function should return 10.    \n",
    "For the list [3, 4, 3, 3, 1] , the function should return 5."
   ]
  },
  {
   "cell_type": "markdown",
   "id": "a5d4c13a",
   "metadata": {},
   "source": [
    "**To fill in**\n",
    "\n",
    "Sources:\n",
    "* \n",
    "* \n",
    "\n",
    "Collaborators:\n",
    "* \n",
    "* "
   ]
  },
  {
   "cell_type": "code",
   "execution_count": 13,
   "id": "0e891b10",
   "metadata": {
    "deletable": false,
    "execution": {
     "iopub.execute_input": "2023-11-15T14:02:09.552784Z",
     "iopub.status.busy": "2023-11-15T14:02:09.552685Z",
     "iopub.status.idle": "2023-11-15T14:02:09.555287Z",
     "shell.execute_reply": "2023-11-15T14:02:09.554946Z",
     "shell.execute_reply.started": "2023-11-15T14:02:09.552774Z"
    },
    "nbgrader": {
     "cell_type": "code",
     "checksum": "39657ecb35432a9c3bf920a526c69380",
     "grade": false,
     "grade_id": "cell-d5e2d76a981a53db",
     "locked": false,
     "schema_version": 3,
     "solution": true,
     "task": false
    }
   },
   "outputs": [],
   "source": [
    "#Do not delete\n",
    "from typing import List\n",
    "def special_sum(numbers_list: List[int]) -> int:\n",
    "    \"\"\"\n",
    "    Takes as argument numbers_list, a list of numbers, and sums each number that\n",
    "    appears only once. Returns an integer.\n",
    "    #######\n",
    "    input: numbers_list (list)\n",
    "    output: sum (integer)\n",
    "    #######\n",
    "    \"\"\"\n",
    "    # YOUR CODE HERE\n",
    "    sum = 0\n",
    "    for num in numbers_list:\n",
    "        if(numbers_list.count(num) <= 1):\n",
    "            sum += num\n",
    "    return sum"
   ]
  },
  {
   "cell_type": "code",
   "execution_count": 14,
   "id": "75e7a1ee",
   "metadata": {
    "execution": {
     "iopub.execute_input": "2023-11-15T14:02:09.555772Z",
     "iopub.status.busy": "2023-11-15T14:02:09.555684Z",
     "iopub.status.idle": "2023-11-15T14:02:09.557976Z",
     "shell.execute_reply": "2023-11-15T14:02:09.557648Z",
     "shell.execute_reply.started": "2023-11-15T14:02:09.555764Z"
    }
   },
   "outputs": [
    {
     "name": "stdout",
     "output_type": "stream",
     "text": [
      "10\n"
     ]
    }
   ],
   "source": [
    "print(special_sum([3,4,3,6]))"
   ]
  },
  {
   "cell_type": "code",
   "execution_count": 15,
   "id": "96e195a2",
   "metadata": {
    "deletable": false,
    "editable": false,
    "execution": {
     "iopub.execute_input": "2023-11-15T14:02:09.558685Z",
     "iopub.status.busy": "2023-11-15T14:02:09.558551Z",
     "iopub.status.idle": "2023-11-15T14:02:09.563410Z",
     "shell.execute_reply": "2023-11-15T14:02:09.562917Z",
     "shell.execute_reply.started": "2023-11-15T14:02:09.558675Z"
    },
    "nbgrader": {
     "cell_type": "code",
     "checksum": "1826ec47c7730173fd44d9699617d1eb",
     "grade": true,
     "grade_id": "cell-8adb074b3cc66fee",
     "locked": true,
     "points": 4,
     "schema_version": 3,
     "solution": false,
     "task": false
    }
   },
   "outputs": [],
   "source": [
    "#Do not delete\n",
    "assert special_sum([3,4,3,6]) == 10\n",
    "assert special_sum([3,4,3,3,1]) == 5\n",
    "assert special_sum([1,1,3,3,2]) == 2\n",
    "assert special_sum([6, 9, 5, 8, 0, 8, 7, 8, 9, 6, 9, 4, 2, 10, 10]) == 18\n",
    "assert special_sum([2, 0, 8, 1, 9, 9, 6, 4, 3, 6, 6, 10, 4]) == 24\n",
    "assert special_sum([]) == 0\n",
    "assert special_sum([1, 9, 9, 5, 7, 7, 6, 1, 5, 6]) == 0\n",
    "assert special_sum([0, 1, 4, 4, 0, 4, 2, 5, 9, 0, 10, 9, 0, 1, 2]) == 15\n",
    "assert special_sum([5, 6, 10, 3, 10, 10, 6, 7, 0, 9, 1, 1, 6, 3, 1]) == 21\n",
    "assert special_sum([4, 7, 3, 7, 9, 0, 6, 1, 8, 5, 7, 8]) == 28"
   ]
  },
  {
   "cell_type": "markdown",
   "id": "390332d3",
   "metadata": {
    "deletable": false,
    "editable": false,
    "nbgrader": {
     "cell_type": "markdown",
     "checksum": "a481ad69dc8faa9c1ced87ea73d5a5a2",
     "grade": false,
     "grade_id": "cell-96b677cc592690b9",
     "locked": true,
     "schema_version": 3,
     "solution": false,
     "task": false
    }
   },
   "source": [
    "### Exercice 6 - 4 points\n",
    "Write a function called `square_digits` that squares every digit of a number and concatenates them.\n",
    "For example, if we run 9119 through the function, 811181 will come out, because 9 squared 2 is 81 and 1 squared 2 is 1.\n",
    "The function accepts an integer and returns an integer"
   ]
  },
  {
   "cell_type": "markdown",
   "id": "23e50694",
   "metadata": {},
   "source": [
    "**To fill in**\n",
    "\n",
    "Sources:\n",
    "* \n",
    "* \n",
    "\n",
    "Collaborators:\n",
    "* \n",
    "* "
   ]
  },
  {
   "cell_type": "code",
   "execution_count": 16,
   "id": "107ca3e0",
   "metadata": {
    "deletable": false,
    "execution": {
     "iopub.execute_input": "2023-11-15T14:02:09.564227Z",
     "iopub.status.busy": "2023-11-15T14:02:09.564128Z",
     "iopub.status.idle": "2023-11-15T14:02:09.567148Z",
     "shell.execute_reply": "2023-11-15T14:02:09.566369Z",
     "shell.execute_reply.started": "2023-11-15T14:02:09.564217Z"
    },
    "nbgrader": {
     "cell_type": "code",
     "checksum": "ab54015f95435128a0bcb29f6349c8c0",
     "grade": false,
     "grade_id": "cell-ad9c4b72461a68c6",
     "locked": false,
     "schema_version": 3,
     "solution": true,
     "task": false
    }
   },
   "outputs": [],
   "source": [
    "#Do not delete\n",
    "def square_digits(num: int) -> int:\n",
    "    \"\"\"\n",
    "    Takes as argument num, an integer, squares each digit of the\n",
    "    number and returns that number as an integer. \n",
    "    #######\n",
    "    input: num (integer)\n",
    "    output: num_squared_digits (integer)\n",
    "    #######\n",
    "    \"\"\"\n",
    "    n = ''\n",
    "    # YOUR CODE HERE\n",
    "    # convert into String\n",
    "    s = str(num)\n",
    "    # square each ch in the string, then concate\n",
    "    res = ''.join([str(int(ch) ** 2) for ch in s])\n",
    "    return int(res)\n",
    "    "
   ]
  },
  {
   "cell_type": "code",
   "execution_count": 17,
   "id": "dc6bdb68",
   "metadata": {
    "execution": {
     "iopub.execute_input": "2023-11-15T14:02:09.569254Z",
     "iopub.status.busy": "2023-11-15T14:02:09.568592Z",
     "iopub.status.idle": "2023-11-15T14:02:09.572947Z",
     "shell.execute_reply": "2023-11-15T14:02:09.572365Z",
     "shell.execute_reply.started": "2023-11-15T14:02:09.569236Z"
    }
   },
   "outputs": [
    {
     "name": "stdout",
     "output_type": "stream",
     "text": [
      "16016\n"
     ]
    }
   ],
   "source": [
    "print(square_digits(404))"
   ]
  },
  {
   "cell_type": "code",
   "execution_count": 18,
   "id": "a22fd2fb",
   "metadata": {
    "deletable": false,
    "editable": false,
    "execution": {
     "iopub.execute_input": "2023-11-15T14:02:09.573713Z",
     "iopub.status.busy": "2023-11-15T14:02:09.573603Z",
     "iopub.status.idle": "2023-11-15T14:02:09.577248Z",
     "shell.execute_reply": "2023-11-15T14:02:09.576770Z",
     "shell.execute_reply.started": "2023-11-15T14:02:09.573703Z"
    },
    "nbgrader": {
     "cell_type": "code",
     "checksum": "2892ae71b825b07b27559c4ffca5a023",
     "grade": true,
     "grade_id": "cell-73e0ea8cd931f89a",
     "locked": true,
     "points": 4,
     "schema_version": 3,
     "solution": false,
     "task": false
    }
   },
   "outputs": [],
   "source": [
    "#Do not delete\n",
    "assert square_digits(9119) == 811181\n",
    "assert square_digits(2112) == 4114\n",
    "assert square_digits(0) == 0\n",
    "assert square_digits(6423) == 361649\n",
    "assert square_digits(5458) == 25162564\n",
    "assert square_digits(5136) == 251936\n",
    "assert square_digits(4983) == 1681649\n",
    "assert square_digits(5188) == 2516464"
   ]
  },
  {
   "cell_type": "markdown",
   "id": "2827d1fc",
   "metadata": {
    "deletable": false,
    "editable": false,
    "nbgrader": {
     "cell_type": "markdown",
     "checksum": "73acccd85f0d4a50cb58eb7717afd308",
     "grade": false,
     "grade_id": "cell-9248de6146e43e3a",
     "locked": true,
     "schema_version": 3,
     "solution": false,
     "task": false
    }
   },
   "source": [
    "## Exercice 6 - 6 points\n",
    "Write a function that is called `pascal()` that will create the classic Pascal's triangle.\n",
    "Your function will get as argument the depth of the triangle and your code has to return the corresponding Pascal's triangle up to that depth.\n",
    "\n",
    "The triangle should be returned as a nested array. For example:\n",
    "\n",
    "`pascal(5) -> [[1], [1,1], [1,2,1], [1,3,3,1], [1,4,6,4,1]]`\n",
    "To build the triangle, start with a single 1 at the top, for each number in the next row you just take the two numbers above it and add them together, except for the edges, which are all 1. e.g.:\n",
    "\n",
    "```\n",
    "      1\n",
    "    1   1\n",
    "  1   2   1\n",
    "1   3   3   1\n",
    "```"
   ]
  },
  {
   "cell_type": "markdown",
   "id": "71bc8744",
   "metadata": {},
   "source": [
    "**To fill in**\n",
    "\n",
    "Sources:\n",
    "* \n",
    "* \n",
    "\n",
    "Collaborators:\n",
    "* \n",
    "* "
   ]
  },
  {
   "cell_type": "code",
   "execution_count": 19,
   "id": "d2b6ebfc",
   "metadata": {
    "deletable": false,
    "execution": {
     "iopub.execute_input": "2023-11-15T14:02:09.577838Z",
     "iopub.status.busy": "2023-11-15T14:02:09.577717Z",
     "iopub.status.idle": "2023-11-15T14:02:09.582296Z",
     "shell.execute_reply": "2023-11-15T14:02:09.581955Z",
     "shell.execute_reply.started": "2023-11-15T14:02:09.577821Z"
    },
    "nbgrader": {
     "cell_type": "code",
     "checksum": "f4540650b7678d2f45841579a2751b70",
     "grade": false,
     "grade_id": "cell-4be412224ac45096",
     "locked": false,
     "schema_version": 3,
     "solution": true,
     "task": false
    }
   },
   "outputs": [],
   "source": [
    "#Do not delete\n",
    "from typing import List\n",
    "\n",
    "def pascal(depth: int) -> List[List[int]]:\n",
    "    \"\"\"\n",
    "    Takes as argument the depth of the triangle and returns the corresponding Pascal's triangle, as a nested array\n",
    "    up to the given depth.\n",
    "    #######\n",
    "    input: depth (integer)\n",
    "    output: pascal_triangle (array)\n",
    "    #######\n",
    "    \"\"\"\n",
    "    # YOUR CODE HERE\n",
    "    # Append new row(nth row) into the initial list\n",
    "    res = []\n",
    "    for i in range(depth):        \n",
    "        row = nrow(i)\n",
    "        res.append(row)\n",
    "    return res\n",
    "    \n",
    "    #Create the nth row\n",
    "def nrow(depth):\n",
    "    if depth == 0:\n",
    "        return [1]\n",
    "    else:\n",
    "        # Each new row is based on the last one\n",
    "        row = nrow(depth-1)\n",
    "        # Each row starts with 1\n",
    "        rem = [1]\n",
    "        # Caculate the sum of the middle numbers\n",
    "        for i in range(len(row)-1):\n",
    "            rem.append(row[i]+row[i+1])\n",
    "        # Each row ends with 1\n",
    "        rem.append(1)\n",
    "        return rem"
   ]
  },
  {
   "cell_type": "code",
   "execution_count": 20,
   "id": "7db0a7ac",
   "metadata": {
    "execution": {
     "iopub.execute_input": "2023-11-15T14:02:09.582970Z",
     "iopub.status.busy": "2023-11-15T14:02:09.582870Z",
     "iopub.status.idle": "2023-11-15T14:02:09.587863Z",
     "shell.execute_reply": "2023-11-15T14:02:09.587364Z",
     "shell.execute_reply.started": "2023-11-15T14:02:09.582959Z"
    }
   },
   "outputs": [
    {
     "name": "stdout",
     "output_type": "stream",
     "text": [
      "[[1], [1, 1], [1, 2, 1], [1, 3, 3, 1], [1, 4, 6, 4, 1]]\n"
     ]
    }
   ],
   "source": [
    "print(pascal(5))"
   ]
  },
  {
   "cell_type": "code",
   "execution_count": 21,
   "id": "ac0eb0e0",
   "metadata": {
    "deletable": false,
    "editable": false,
    "execution": {
     "iopub.execute_input": "2023-11-15T14:02:09.588435Z",
     "iopub.status.busy": "2023-11-15T14:02:09.588329Z",
     "iopub.status.idle": "2023-11-15T14:02:09.595415Z",
     "shell.execute_reply": "2023-11-15T14:02:09.595014Z",
     "shell.execute_reply.started": "2023-11-15T14:02:09.588425Z"
    },
    "nbgrader": {
     "cell_type": "code",
     "checksum": "86f58a18ea4309dac3f36ff652fddae8",
     "grade": true,
     "grade_id": "cell-98501b7f088e2171",
     "locked": true,
     "points": 6,
     "schema_version": 3,
     "solution": false,
     "task": false
    }
   },
   "outputs": [],
   "source": [
    "#Do not delete\n",
    "assert pascal(0) == []\n",
    "assert pascal(1) == [[1]]\n",
    "assert pascal(2) == [[1], [1, 1]]\n",
    "assert pascal(3) == [[1], [1, 1], [1, 2, 1]]\n",
    "assert pascal(4) == [[1], [1, 1], [1, 2, 1], [1, 3, 3, 1]]\n",
    "assert pascal(5) == [[1], [1, 1], [1, 2, 1], [1, 3, 3, 1], [1, 4, 6, 4, 1]]\n",
    "assert pascal(6) == [[1], [1, 1], [1, 2, 1], [1, 3, 3, 1], [1, 4, 6, 4, 1], [1, 5, 10, 10, 5, 1]]\n",
    "assert pascal(-2) == []"
   ]
  },
  {
   "cell_type": "markdown",
   "id": "f07471bd",
   "metadata": {
    "deletable": false,
    "editable": false,
    "nbgrader": {
     "cell_type": "markdown",
     "checksum": "9800e172680a557b3a768b66742a3412",
     "grade": false,
     "grade_id": "cell-44ca6be5a67c8b7a",
     "locked": true,
     "schema_version": 3,
     "solution": false,
     "task": false
    }
   },
   "source": [
    "### Exercise 7 - 2 points\n",
    "Write a function called to_sha256 that converts a given ASCII string to its hexadecimal SHA-256 hash.\n",
    "\n",
    "What is SHA-256 ? See the following link: https://www.n-able.com/blog/sha-256-encryption\n",
    "For example the text 'hello' has the following sha 256 value : '2cf24dba5fb0a30e26e83b2ac5b9e29e1b161e5c1fa7425e73043362938b9824'"
   ]
  },
  {
   "cell_type": "markdown",
   "id": "abaf114f",
   "metadata": {},
   "source": [
    "**To fill in**\n",
    "\n",
    "Sources:\n",
    "* Python Docs\n",
    "* ChatGPT\n",
    "* Medium\n",
    "\n",
    "Collaborators:\n",
    "* \n",
    "* "
   ]
  },
  {
   "cell_type": "code",
   "execution_count": 22,
   "id": "f0b6f068",
   "metadata": {
    "deletable": false,
    "execution": {
     "iopub.execute_input": "2023-11-15T14:02:09.599200Z",
     "iopub.status.busy": "2023-11-15T14:02:09.599057Z",
     "iopub.status.idle": "2023-11-15T14:02:09.602564Z",
     "shell.execute_reply": "2023-11-15T14:02:09.601937Z",
     "shell.execute_reply.started": "2023-11-15T14:02:09.599190Z"
    },
    "nbgrader": {
     "cell_type": "code",
     "checksum": "42527071729813d83872442b717ab502",
     "grade": false,
     "grade_id": "cell-a52362b00b2dc847",
     "locked": false,
     "schema_version": 3,
     "solution": true,
     "task": false
    }
   },
   "outputs": [],
   "source": [
    "#Do not delete\n",
    "import hashlib\n",
    "def to_sha256(text: str) -> str:\n",
    "    \"\"\"\n",
    "    Takes a string as argument and returns it's SHA-256 value\n",
    "    #######\n",
    "    input: text (string)\n",
    "    output: encrypted (string)\n",
    "    #######\n",
    "    \"\"\"\n",
    "    # YOUR CODE HERE\n",
    "    res = hashlib.sha256(text.encode('utf-8')).hexdigest()\n",
    "    return res"
   ]
  },
  {
   "cell_type": "code",
   "execution_count": 23,
   "id": "e6717076",
   "metadata": {
    "execution": {
     "iopub.execute_input": "2023-11-15T14:02:09.603593Z",
     "iopub.status.busy": "2023-11-15T14:02:09.603476Z",
     "iopub.status.idle": "2023-11-15T14:02:09.606467Z",
     "shell.execute_reply": "2023-11-15T14:02:09.605985Z",
     "shell.execute_reply.started": "2023-11-15T14:02:09.603582Z"
    }
   },
   "outputs": [
    {
     "name": "stdout",
     "output_type": "stream",
     "text": [
      "2cf24dba5fb0a30e26e83b2ac5b9e29e1b161e5c1fa7425e73043362938b9824\n"
     ]
    }
   ],
   "source": [
    "print(to_sha256(\"hello\"))"
   ]
  },
  {
   "cell_type": "code",
   "execution_count": 24,
   "id": "422f079d",
   "metadata": {
    "deletable": false,
    "editable": false,
    "execution": {
     "iopub.execute_input": "2023-11-15T14:02:09.607499Z",
     "iopub.status.busy": "2023-11-15T14:02:09.607335Z",
     "iopub.status.idle": "2023-11-15T14:02:09.610631Z",
     "shell.execute_reply": "2023-11-15T14:02:09.610191Z",
     "shell.execute_reply.started": "2023-11-15T14:02:09.607486Z"
    },
    "nbgrader": {
     "cell_type": "code",
     "checksum": "070795518279a021454caf51d1d7275c",
     "grade": true,
     "grade_id": "cell-59f0329d386fbf8b",
     "locked": true,
     "points": 2,
     "schema_version": 3,
     "solution": false,
     "task": false
    }
   },
   "outputs": [],
   "source": [
    "#Do not delete\n",
    "assert to_sha256(\"hello\") == '2cf24dba5fb0a30e26e83b2ac5b9e29e1b161e5c1fa7425e73043362938b9824'\n",
    "assert to_sha256(\"bye\") == 'b49f425a7e1f9cff3856329ada223f2f9d368f15a00cf48df16ca95986137fe8'\n",
    "assert to_sha256(\"python\") == '11a4a60b518bf24989d481468076e5d5982884626aed9faeb35b8576fcd223e1'\n",
    "assert to_sha256(\"What the hell is this SHA 256 nonesense !?!?\") == '4fca3af3580954db3156650e5569af09cd71c54c6be82d0fd312fa34bc39938b'"
   ]
  },
  {
   "cell_type": "markdown",
   "id": "30583a9b",
   "metadata": {
    "deletable": false,
    "editable": false,
    "nbgrader": {
     "cell_type": "markdown",
     "checksum": "df3baf3d7beaac81cc3e06a2d4cf8d19",
     "grade": false,
     "grade_id": "cell-45f46f4cd30494af",
     "locked": true,
     "schema_version": 3,
     "solution": false,
     "task": false
    }
   },
   "source": [
    "## Exercice 8 - 2 points\n",
    "Write a function called `est_subsets` that, given a list of elements, where any element may occur more than once, returns the number of distinct subsets that do not contain a repeated element.\n",
    "For example ` est_subsets([1, 2, 3, 4])` should return `15` as the following possible distinct subsets are:\n",
    "`{{1}, {2}, {3}, {4}, {1,2}, {1,3}, {1,4}, {2,3}, {2,4}, {3,4}, {1,2,3}, {1,2,4}, {1,3,4}, {2,3,4}, {1,2,3,4}}`"
   ]
  },
  {
   "cell_type": "markdown",
   "id": "b196a9a4",
   "metadata": {},
   "source": [
    "**To fill in**\n",
    "\n",
    "Sources:\n",
    "* \n",
    "* \n",
    "\n",
    "Collaborators:\n",
    "* \n",
    "* "
   ]
  },
  {
   "cell_type": "code",
   "execution_count": 25,
   "id": "1a487bb9",
   "metadata": {
    "deletable": false,
    "execution": {
     "iopub.execute_input": "2023-11-15T14:02:09.611446Z",
     "iopub.status.busy": "2023-11-15T14:02:09.611336Z",
     "iopub.status.idle": "2023-11-15T14:02:09.614876Z",
     "shell.execute_reply": "2023-11-15T14:02:09.614515Z",
     "shell.execute_reply.started": "2023-11-15T14:02:09.611436Z"
    },
    "nbgrader": {
     "cell_type": "code",
     "checksum": "9bc2a62f6c6516628c24aaab003e1c2e",
     "grade": false,
     "grade_id": "cell-0eb1e329fb54f1a7",
     "locked": false,
     "schema_version": 3,
     "solution": true,
     "task": false
    }
   },
   "outputs": [],
   "source": [
    "#Do not delete\n",
    "def est_subsets(array):\n",
    "    \"\"\"\n",
    "    Estimates the numbers of distinct subsets of a given list.\n",
    "    #######\n",
    "    input: array (list)\n",
    "    output: num_subsets (int)\n",
    "    #######\n",
    "    \"\"\"\n",
    "    # YOUR CODE HERE\n",
    "    # There is a common mathmetic discipline of the amount of the subset. \n",
    "    # Suppose we have a set containing just one type of element, for example, ls = [A,A,A,A]\n",
    "    # We can have 4 combination of A and its copy as 0A,1A,2A,3A(The number is the frencucy of A,so the possibility is F(A)+1)\n",
    "    # If there are two types, ls = [A,A,B,B], clearly the subsets are the F(sub_A)+F(sub_B)-1 because we don't consider empty subset\n",
    "    # In conculsion, we get a fomula: Subset = (F(A)+1)*....*(F(N)+1)-1\n",
    "\n",
    "    # Create a dictionary to record the frecuency of each element of the origin list\n",
    "    array = list(set(array))\n",
    "    dic = dict()\n",
    "    for i in range(len(array)):\n",
    "        if array[i] in dic:\n",
    "            dic[array[i]] += 1\n",
    "        else:\n",
    "            dic[array[i]] = 1\n",
    "    # Calculate the amount of subsets\n",
    "    res = 1\n",
    "    for value in dic.values():\n",
    "        res *= (value+1)\n",
    "    return res - 1"
   ]
  },
  {
   "cell_type": "code",
   "execution_count": 26,
   "id": "87e07c4d",
   "metadata": {
    "execution": {
     "iopub.execute_input": "2023-11-15T14:02:09.615624Z",
     "iopub.status.busy": "2023-11-15T14:02:09.615525Z",
     "iopub.status.idle": "2023-11-15T14:02:09.621708Z",
     "shell.execute_reply": "2023-11-15T14:02:09.621186Z",
     "shell.execute_reply.started": "2023-11-15T14:02:09.615615Z"
    }
   },
   "outputs": [
    {
     "data": {
      "text/plain": [
       "15"
      ]
     },
     "execution_count": 26,
     "metadata": {},
     "output_type": "execute_result"
    }
   ],
   "source": [
    "est_subsets([1, 2, 3, 4, 3, 2])"
   ]
  },
  {
   "cell_type": "code",
   "execution_count": 27,
   "id": "1875ff6f",
   "metadata": {
    "deletable": false,
    "editable": false,
    "execution": {
     "iopub.execute_input": "2023-11-15T14:02:09.624331Z",
     "iopub.status.busy": "2023-11-15T14:02:09.624162Z",
     "iopub.status.idle": "2023-11-15T14:02:09.628339Z",
     "shell.execute_reply": "2023-11-15T14:02:09.627767Z",
     "shell.execute_reply.started": "2023-11-15T14:02:09.624319Z"
    },
    "nbgrader": {
     "cell_type": "code",
     "checksum": "7c16dacb679c48a287cf48187b3095b9",
     "grade": true,
     "grade_id": "cell-031a49d71e71648c",
     "locked": true,
     "points": 2,
     "schema_version": 3,
     "solution": false,
     "task": false
    }
   },
   "outputs": [],
   "source": [
    "#Do not delete\n",
    "assert est_subsets([1, 2, 3, 4]) == 15 \n",
    "assert est_subsets([1, 2, 3, 4, 3, 2]) == 15 \n",
    "assert est_subsets([\"a\", \"b\", \"c\", \"d\"]) == 15 \n",
    "assert est_subsets([\"a\", \"b\", \"c\", \"d\", \"e\"]) == 31 \n",
    "assert est_subsets([11, 562, 12, 214, 2, 281, 2, 873, 93, 11]) == 255 \n",
    "assert est_subsets([True, False, True, True, False]) == 3 \n",
    "assert est_subsets([1]) == 1 \n",
    "assert est_subsets([]) == 0 "
   ]
  },
  {
   "cell_type": "markdown",
   "id": "15ab4d35",
   "metadata": {
    "deletable": false,
    "editable": false,
    "nbgrader": {
     "cell_type": "markdown",
     "checksum": "9f8a2144cd4b50f3908c90259d694e7b",
     "grade": false,
     "grade_id": "cell-22a7539632db6733",
     "locked": true,
     "schema_version": 3,
     "solution": false,
     "task": false
    }
   },
   "source": [
    "## Exercice 9 - 4 points\n",
    "Write a function called `pairs` that splits a string into tuples of two characters. If the string contains an odd number of characters then it should replace the missing second character of the final pair with a star ('*').\n",
    "\n",
    "For example: `pairs('abc')` should return `[('a', 'b'),('c', '*')]` and `pairs('abcdef')` should return `[('a', 'b'), ('c', 'd'), ('e', 'f')]`"
   ]
  },
  {
   "cell_type": "markdown",
   "id": "192a9422",
   "metadata": {},
   "source": [
    "**To fill in**\n",
    "\n",
    "Sources:\n",
    "* \n",
    "* \n",
    "\n",
    "Collaborators:\n",
    "* \n",
    "* "
   ]
  },
  {
   "cell_type": "code",
   "execution_count": 28,
   "id": "50492fa1",
   "metadata": {
    "deletable": false,
    "execution": {
     "iopub.execute_input": "2023-11-15T14:02:09.629194Z",
     "iopub.status.busy": "2023-11-15T14:02:09.629004Z",
     "iopub.status.idle": "2023-11-15T14:02:09.633531Z",
     "shell.execute_reply": "2023-11-15T14:02:09.633067Z",
     "shell.execute_reply.started": "2023-11-15T14:02:09.629183Z"
    },
    "nbgrader": {
     "cell_type": "code",
     "checksum": "22861d5ff97bcb2bfd070d608e3aad2a",
     "grade": false,
     "grade_id": "cell-2df6958c5de96965",
     "locked": false,
     "schema_version": 3,
     "solution": true,
     "task": false
    }
   },
   "outputs": [],
   "source": [
    "#Do not delete\n",
    "from typing import List, Tuple\n",
    "def pairs(text: str) -> List[Tuple[str, str]]:\n",
    "    \"\"\"\n",
    "    Splits a string into pairs of two characters.  If the string has \n",
    "    an odd number of chracters the last pair will be completed with an\n",
    "    underscore '_'.\n",
    "    #######\n",
    "    input: text (string)\n",
    "    output: pairs_list (list)\n",
    "    #######\n",
    "    \"\"\"\n",
    "    # YOUR CODE HERE\n",
    "    if len(text) % 2 != 0:\n",
    "        text += '*'\n",
    "    text = list(text)\n",
    "    res = []\n",
    "    for i in range(0,len(text)-1,2):\n",
    "        res.append((text[i],text[i+1]))\n",
    "    return res"
   ]
  },
  {
   "cell_type": "code",
   "execution_count": 29,
   "id": "54d409b4",
   "metadata": {
    "execution": {
     "iopub.execute_input": "2023-11-15T14:02:09.634159Z",
     "iopub.status.busy": "2023-11-15T14:02:09.634046Z",
     "iopub.status.idle": "2023-11-15T14:02:09.637591Z",
     "shell.execute_reply": "2023-11-15T14:02:09.637206Z",
     "shell.execute_reply.started": "2023-11-15T14:02:09.634148Z"
    }
   },
   "outputs": [
    {
     "name": "stdout",
     "output_type": "stream",
     "text": [
      "[('a', 'b'), ('c', '*')]\n"
     ]
    }
   ],
   "source": [
    "print(pairs('abc'))"
   ]
  },
  {
   "cell_type": "code",
   "execution_count": 30,
   "id": "4269b757",
   "metadata": {
    "deletable": false,
    "editable": false,
    "execution": {
     "iopub.execute_input": "2023-11-15T14:02:09.639579Z",
     "iopub.status.busy": "2023-11-15T14:02:09.639084Z",
     "iopub.status.idle": "2023-11-15T14:02:09.644981Z",
     "shell.execute_reply": "2023-11-15T14:02:09.644510Z",
     "shell.execute_reply.started": "2023-11-15T14:02:09.639561Z"
    },
    "nbgrader": {
     "cell_type": "code",
     "checksum": "4d63d119000a722add55f48c8f51e6bc",
     "grade": true,
     "grade_id": "cell-e2288ebe4d674a6e",
     "locked": true,
     "points": 4,
     "schema_version": 3,
     "solution": false,
     "task": false
    }
   },
   "outputs": [],
   "source": [
    "#Do not delete\n",
    "assert pairs('abc') == [('a', 'b'), ('c', '*')]\n",
    "assert pairs('abcdef') == [('a', 'b'), ('c', 'd'), ('e', 'f')]\n",
    "assert pairs('hello') == [('h', 'e'), ('l', 'l'), ('o', '*')]\n",
    "assert pairs('good morning') == [('g', 'o'), ('o', 'd'), (' ', 'm'), ('o', 'r'), ('n', 'i'), ('n', 'g')]\n",
    "assert pairs('testing diverse texts !') == [('t', 'e'), ('s', 't'), ('i', 'n'), ('g', ' '), ('d', 'i'), ('v', 'e'), ('r', 's'), ('e', ' '), ('t', 'e'), ('x', 't'), ('s', ' '), ('!', '*')]\n",
    "assert pairs('a') == [('a', '*')]\n",
    "assert pairs('') == []\n"
   ]
  },
  {
   "cell_type": "markdown",
   "id": "77ee4585",
   "metadata": {
    "deletable": false,
    "editable": false,
    "nbgrader": {
     "cell_type": "markdown",
     "checksum": "b66e1e85b3b7d6b494cd321209a43def",
     "grade": false,
     "grade_id": "cell-0fcb3c9ade224df2",
     "locked": true,
     "schema_version": 3,
     "solution": false,
     "task": false
    }
   },
   "source": [
    "## Exercice 10 - 3 points\n",
    "\n",
    "Write a function called `modify_multiply` that will have the following behavior:\n",
    "\n",
    "1. The function takes a string as its first parameter. This string will be a string of words.\n",
    "\n",
    "2. You are expected to then use the second parameter, which will be an integer, to find the corresponding word in the given string. The first word would be represented by 0.\n",
    "\n",
    "3. Once you have the located string you are finally going to multiply by it the third provided parameter, which will also be an integer. You are additionally required to add a plus sign in between each word.\n",
    "\n",
    "So for example `modify_multiply(\"This is a string\",3 ,5)` will return `\"string+string+string+string+string\"`\n"
   ]
  },
  {
   "cell_type": "markdown",
   "id": "09f691ef",
   "metadata": {},
   "source": [
    "**To fill in**\n",
    "\n",
    "Sources:\n",
    "* \n",
    "* \n",
    "\n",
    "Collaborators:\n",
    "* \n",
    "* "
   ]
  },
  {
   "cell_type": "code",
   "execution_count": 31,
   "id": "8ccb5b67",
   "metadata": {
    "deletable": false,
    "execution": {
     "iopub.execute_input": "2023-11-15T14:02:09.645937Z",
     "iopub.status.busy": "2023-11-15T14:02:09.645608Z",
     "iopub.status.idle": "2023-11-15T14:02:09.649157Z",
     "shell.execute_reply": "2023-11-15T14:02:09.648798Z",
     "shell.execute_reply.started": "2023-11-15T14:02:09.645910Z"
    },
    "nbgrader": {
     "cell_type": "code",
     "checksum": "b5716cb17d218610d24fdf1df2fe26e1",
     "grade": false,
     "grade_id": "cell-326fefb2fb79f32c",
     "locked": false,
     "schema_version": 3,
     "solution": true,
     "task": false
    }
   },
   "outputs": [],
   "source": [
    "# Do not delete\n",
    "def modify_multiply(text: str, index: int, repetiton: int) -> str:\n",
    "    \"\"\"\n",
    "    Retuns a formatted string with plus signs of the repetition of a word at a given index from \n",
    "    a text passed as argument.\n",
    "    #######\n",
    "    input: text (string)\n",
    "           index (int)\n",
    "           repetiton (int)\n",
    "    output: word_rep (string)\n",
    "    #######\n",
    "    \"\"\"\n",
    "    # YOUR CODE HERE\n",
    "    text = text.split()\n",
    "    return '+'.join([text[index]]*repetiton)"
   ]
  },
  {
   "cell_type": "code",
   "execution_count": 32,
   "id": "7ec0c5ba",
   "metadata": {
    "execution": {
     "iopub.execute_input": "2023-11-15T14:02:09.649760Z",
     "iopub.status.busy": "2023-11-15T14:02:09.649652Z",
     "iopub.status.idle": "2023-11-15T14:02:09.652220Z",
     "shell.execute_reply": "2023-11-15T14:02:09.651826Z",
     "shell.execute_reply.started": "2023-11-15T14:02:09.649749Z"
    }
   },
   "outputs": [
    {
     "name": "stdout",
     "output_type": "stream",
     "text": [
      "string+string+string+string+string\n"
     ]
    }
   ],
   "source": [
    "print(modify_multiply(\"This is a string\", 3, 5))"
   ]
  },
  {
   "cell_type": "code",
   "execution_count": 33,
   "id": "654ee2ae",
   "metadata": {
    "deletable": false,
    "editable": false,
    "execution": {
     "iopub.execute_input": "2023-11-15T14:02:09.652755Z",
     "iopub.status.busy": "2023-11-15T14:02:09.652652Z",
     "iopub.status.idle": "2023-11-15T14:02:09.657169Z",
     "shell.execute_reply": "2023-11-15T14:02:09.656743Z",
     "shell.execute_reply.started": "2023-11-15T14:02:09.652744Z"
    },
    "nbgrader": {
     "cell_type": "code",
     "checksum": "899068b607e7f6ca76ffbd6709732df7",
     "grade": true,
     "grade_id": "cell-d43587a713566ed0",
     "locked": true,
     "points": 3,
     "schema_version": 3,
     "solution": false,
     "task": false
    }
   },
   "outputs": [],
   "source": [
    "assert modify_multiply(\"This is a string\", 3, 5) == \"string+string+string+string+string\"\n",
    "assert modify_multiply(\"Welcome to this game\", 2, 4) == \"this+this+this+this\"\n",
    "assert modify_multiply(\"What a beautiful day\", 1, 3) == \"a+a+a\""
   ]
  }
 ],
 "metadata": {
  "kernelspec": {
   "display_name": "Python 3 (ipykernel)",
   "language": "python",
   "name": "python3"
  },
  "language_info": {
   "codemirror_mode": {
    "name": "ipython",
    "version": 3
   },
   "file_extension": ".py",
   "mimetype": "text/x-python",
   "name": "python",
   "nbconvert_exporter": "python",
   "pygments_lexer": "ipython3",
   "version": "3.11.5"
  }
 },
 "nbformat": 4,
 "nbformat_minor": 5
}
