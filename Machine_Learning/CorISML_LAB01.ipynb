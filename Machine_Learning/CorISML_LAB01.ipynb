{
 "cells": [
  {
   "cell_type": "markdown",
   "metadata": {},
   "source": [
    "# <center> Lab 01: Linear Regression, Multiple Regression and Regularised Regression <br> <small>Réda DEHAK<br> 6 january 2020</small> </center>\n",
    "\n",
    "The goal of this lab is :\n",
    "    - Implement a linear regression\n",
    "    - Try different version of the gradient descent algorithm\n",
    "    - Fit generalised linear models with ridge or Lasso regularisations\n",
    "    \n",
    "We will use a data file that contain different measurements of height (variable y) of an individual sample according to the age (variable x)."
   ]
  },
  {
   "cell_type": "markdown",
   "metadata": {},
   "source": [
    "## Import Data"
   ]
  },
  {
   "cell_type": "code",
   "execution_count": 1,
   "metadata": {},
   "outputs": [
    {
     "name": "stdout",
     "output_type": "stream",
     "text": [
      "shape(x) :  (50,)\n",
      "shape(y) :  (50,)\n"
     ]
    },
    {
     "data": {
      "text/plain": [
       "Text(0, 0.5, 'Height')"
      ]
     },
     "execution_count": 1,
     "metadata": {},
     "output_type": "execute_result"
    },
    {
     "data": {
      "image/png": "[encoded data removed]",
      "text/plain": [
       "<Figure size 640x480 with 1 Axes>"
      ]
     },
     "metadata": {},
     "output_type": "display_data"
    }
   ],
   "source": [
    "%matplotlib inline\n",
    "import numpy as np\n",
    "import pickle\n",
    "fin = open('data.pkl', 'rb')\n",
    "x = pickle.load(fin)\n",
    "y = pickle.load(fin)\n",
    "fin.close()\n",
    "print(\"shape(x) : \", x.shape)\n",
    "print(\"shape(y) : \", y.shape)\n",
    "import matplotlib.pyplot as plt\n",
    "plt.plot(x, y, 'x')\n",
    "plt.xlabel('Age')\n",
    "plt.ylabel('Height')"
   ]
  },
  {
   "cell_type": "markdown",
   "metadata": {},
   "source": [
    "## Part 1: Linear Regression\n",
    "\n",
    "We will implement a linear regression for this problem, you know that the linear \n",
    "regression assumes that the observed variable $y$ is a linear combination of the \n",
    "vector of observation $x$\n",
    "\n",
    "$$f(x) = x^TA =\\sum_{d=1}^D a_{[d]} x_{[d]}$$\n",
    "with $x_{[D]} = 1$\n",
    "\n",
    "The linear regression consists in finding the parameters $A$ which minimizes the \n",
    "quadratic error:\n",
    "$$E(A) = \\sum_{i=1}^{N}\\left(f(x_i) - y_i\\right)^2$$\n",
    "\n",
    "we will solve this problem using two different methods:\n",
    "\n",
    "**1. Exact solution:**\n",
    "\n",
    "The vector $A$ which minimize $E(A)$ is defined as follow:\n",
    "$$A = (XX^T)^{-1}X Y$$\n",
    "\n",
    "where \n",
    "$$X=\\left[\\begin{matrix}\n",
    "x_1 & x_2 & ... & x_N\\\\\n",
    "1   &  1  & ... &  1\n",
    "\\end{matrix}\\right]$$\n",
    "\n",
    "$$Y=\\left[\\begin{matrix}\n",
    "y_1\\\\\n",
    "y_2\\\\\n",
    "...\\\\\n",
    "y_N\n",
    "\\end{matrix}\\right]$$\n",
    "\n",
    "**a-** Compute the vector $A$ wich minimize $E(A)$?"
   ]
  },
  {
   "cell_type": "code",
   "execution_count": 2,
   "metadata": {},
   "outputs": [
    {
     "name": "stdout",
     "output_type": "stream",
     "text": [
      "[[0.06388117]\n",
      " [0.75016254]]\n"
     ]
    }
   ],
   "source": [
    "X = np.vstack((x, np.ones(len(x))))\n",
    "Y = y.reshape((-1, 1))\n",
    "\n",
    "\n",
    "A = np.linalg.inv(X @ X.T) @ X @ Y\n",
    "print(A)"
   ]
  },
  {
   "cell_type": "markdown",
   "metadata": {},
   "source": [
    "**b-** Plot in the same figure the training data and the straight \n",
    "line corresponding to the obtained $A$?"
   ]
  },
  {
   "cell_type": "code",
   "execution_count": 3,
   "metadata": {},
   "outputs": [
    {
     "data": {
      "text/plain": [
       "Text(0, 0.5, 'Height')"
      ]
     },
     "execution_count": 3,
     "metadata": {},
     "output_type": "execute_result"
    },
    {
     "data": {
      "image/png": "[encoded data removed]",
      "text/plain": [
       "<Figure size 432x288 with 1 Axes>"
      ]
     },
     "metadata": {
      "needs_background": "light"
     },
     "output_type": "display_data"
    }
   ],
   "source": [
    "def predict(A, x):\n",
    "    if(np.isscalar(x)):\n",
    "        s = 1\n",
    "        X = np.vstack((x, np.ones(s)))\n",
    "        return ((X.T @ A)[0][0])\n",
    "                \n",
    "    s = x.shape[0] \n",
    "    X = np.vstack((x, np.ones(s)))\n",
    "    return (X.T @ A)\n",
    "\n",
    "\n",
    "plt.plot(x, y, 'x', c='blue')\n",
    "pred = predict(A, x)\n",
    "plt.plot(x, pred, c='red')\n",
    "plt.xlabel('Age')\n",
    "plt.ylabel('Height')\n"
   ]
  },
  {
   "cell_type": "markdown",
   "metadata": {},
   "source": [
    "**c-** Predict the height of a person of age 3.5 and that of age 7? "
   ]
  },
  {
   "cell_type": "code",
   "execution_count": 4,
   "metadata": {},
   "outputs": [
    {
     "name": "stdout",
     "output_type": "stream",
     "text": [
      "height(3.5) =  0.9737466173916579\n",
      "height(7) =  1.1973306977820757\n"
     ]
    }
   ],
   "source": [
    "print(\"height(3.5) = \", predict(A, 3.5))\n",
    "print(\"height(7) = \", predict(A, 7))"
   ]
  },
  {
   "cell_type": "markdown",
   "metadata": {},
   "source": [
    "**2. Gradient Descent :**\n",
    "In this part, we will use the gradient descent algorithm (see convex optimization course) to find the best regression parameters. We will use the batch learning. \n",
    "\n",
    "**a-** Give the recurrence formula for $A$ of the algorithm?"
   ]
  },
  {
   "cell_type": "markdown",
   "metadata": {
    "collapsed": true
   },
   "source": [
    "$$ A_n = A_{n-1} - 2\\eta/N (XX^TA - XY)$$"
   ]
  },
  {
   "cell_type": "markdown",
   "metadata": {},
   "source": [
    "**b-** Implement a gradient descent with a learning rate $\\eta = 0.035$ \n",
    "and starting from the origin of the space $A = 0$? Wait until the convergence of the algorithm? (print at each iteration, the number of iteration, the Error and the norm of the gradient)"
   ]
  },
  {
   "cell_type": "code",
   "execution_count": 5,
   "metadata": {},
   "outputs": [
    {
     "name": "stdout",
     "output_type": "stream",
     "text": [
      "Iteration :  1 E =  60.61274201573478  grad norm :  11.064593204634097\n",
      "Iteration :  2 E =  50.13969182077156  grad norm :  10.669994449028952\n",
      "Iteration :  3 E =  53.39848462322629  grad norm :  10.28947178222644\n",
      "Iteration :  4 E =  43.88809418464124  grad norm :  9.92252315860663\n",
      "Iteration :  5 E =  47.13123909859575  grad norm :  9.568664440433823\n",
      "Iteration :  6 E =  38.48482162652406  grad norm :  9.22742875912108\n",
      "Iteration :  7 E =  41.6843691102327  grad norm :  8.898365899277785\n",
      "Iteration :  8 E =  33.81438303714266  grad norm :  8.581041704727669\n",
      "Iteration :  9 E =  36.94827605618679  grad norm :  8.275037505713629\n",
      "Iteration :  10 E =  29.77697189503491  grad norm :  7.979949566533608\n",
      "Iteration :  11 E =  32.82810090879358  grad norm :  7.695388552878852\n",
      "Iteration :  12 E =  26.28634030392253  grad norm :  7.420979018171746\n",
      "Iteration :  13 E =  29.241736427266787  grad norm :  7.156358908225566\n",
      "Iteration :  14 E =  23.26796086919613  grad norm :  6.901179083572633\n",
      "Iteration :  15 E =  26.11810779716563  grad norm :  6.655102858830666\n",
      "Iteration :  16 E =  20.657437465884804  grad norm :  6.417805558499607\n",
      "Iteration :  17 E =  23.395685425059593  grad norm :  6.188974088602862\n",
      "Iteration :  18 E =  18.399131218820937  grad norm :  5.9683065236078345\n",
      "Iteration :  19 E =  21.021198519636915  grad norm :  5.755511708080762\n",
      "Iteration :  20 E =  16.444972571539395  grad norm :  5.55030887255028\n",
      "Iteration :  21 E =  18.948522330574736  grad norm :  5.352427263072935\n",
      "Iteration :  22 E =  14.753434260114773  grad norm :  5.1616057840119245\n",
      "Iteration :  23 E =  17.13771558332751  grad norm :  4.977592653557781\n",
      "Iteration :  24 E =  13.288643414973013  grad norm :  4.80014507153644\n",
      "Iteration :  25 E =  15.554187819102994  grad norm :  4.629028899066531\n",
      "Iteration :  26 E =  12.019613959766941  grad norm :  4.464018349643169\n",
      "Iteration :  27 E =  14.167979091707311  grad norm :  4.3048956912407235\n",
      "Iteration :  28 E =  10.919583023998262  grad norm :  4.151450959041498\n",
      "Iteration :  29 E =  12.953136844613123  grad norm :  4.003481678411341\n",
      "Iteration :  30 E =  9.965437289082605  grad norm :  3.860792597756681\n",
      "Iteration :  31 E =  11.887176842663347  grad norm :  3.723195430910529\n",
      "Iteration :  32 E =  9.137217092595542  grad norm :  3.5905086087075673\n",
      "Iteration :  33 E =  10.950616806616319  grad norm :  3.462557039420557\n",
      "Iteration :  34 E =  8.417687762798964  grad norm :  3.339171877741986\n",
      "Iteration :  35 E =  10.126572932751095  grad norm :  3.2201903020061593\n",
      "Iteration :  36 E =  7.791969080080838  grad norm :  3.10545529935782\n",
      "Iteration :  37 E =  9.400410806403237  grad norm :  2.994815458583819\n",
      "Iteration :  38 E =  7.247214993782708  grad norm :  2.888124770334525\n",
      "Iteration :  39 E =  8.759443365626373  grad norm :  2.7852424344713724\n",
      "Iteration :  40 E =  6.772336788097424  grad norm :  2.6860326742863556\n",
      "Iteration :  41 E =  8.192669563417049  grad norm :  2.5903645573483534\n",
      "Iteration :  42 E =  6.357763811833183  grad norm :  2.4981118227398995\n",
      "Iteration :  43 E =  7.6905482350661405  grad norm :  2.409152714456431\n",
      "Iteration :  44 E =  5.995236683346214  grad norm :  2.3233698207482094\n",
      "Iteration :  45 E =  7.244802419341291  grad norm :  2.2406499191929314\n",
      "Iteration :  46 E =  5.677628570696973  grad norm :  2.160883827294563\n",
      "Iteration :  47 E =  6.8482500240405155  grad norm :  2.0839662584113117\n",
      "Iteration :  48 E =  5.398790742657749  grad norm :  2.0097956828225936\n",
      "Iteration :  49 E =  6.4946572815485135  grad norm :  1.9382741937516712\n",
      "Iteration :  50 E =  5.153419101195911  grad norm :  1.8693073781671725\n",
      "Iteration :  51 E =  6.178611920099553  grad norm :  1.8028041921929883\n",
      "Iteration :  52 E =  4.936938851375286  grad norm :  1.738676840962132\n",
      "Iteration :  53 E =  5.8954133916462  grad norm :  1.6768406627560202\n",
      "Iteration :  54 E =  4.745404849683227  grad norm :  1.617214017276254\n",
      "Iteration :  55 E =  5.640977856321573  grad norm :  1.559718177901442\n",
      "Iteration :  56 E =  4.575415504752758  grad norm :  1.504277227786887\n",
      "Iteration :  57 E =  5.411755934047798  grad norm :  1.4508179596699702\n",
      "Iteration :  58 E =  4.424038392355753  grad norm :  1.399269779249003\n",
      "Iteration :  59 E =  5.204661502445108  grad norm :  1.3495646120079965\n",
      "Iteration :  60 E =  4.2887459954887195  grad norm :  1.3016368133643599\n",
      "Iteration :  61 E =  5.017010052505601  grad norm :  1.2554230820208954\n",
      "Iteration :  62 E =  4.167360195628515  grad norm :  1.2108623764077076\n",
      "Iteration :  63 E =  4.846465314419357  grad norm :  1.1678958341037\n",
      "Iteration :  64 E =  4.058004327357859  grad norm :  1.1264666941312445\n",
      "Iteration :  65 E =  4.690993039719881  grad norm :  1.0865202220214245\n",
      "Iteration :  66 E =  3.9590617694918495  grad norm :  1.0480036375508954\n",
      "Iteration :  67 E =  4.548820976220003  grad norm :  1.0108660450548863\n",
      "Iteration :  68 E =  3.8691401849843445  grad norm :  0.9750583662243154\n",
      "Iteration :  69 E =  4.418404202210633  grad norm :  0.9405332752982113\n",
      "Iteration :  70 E =  3.787040642204437  grad norm :  0.9072451365658304\n",
      "Iteration :  71 E =  4.2983950988374096  grad norm :  0.875149944095861\n",
      "Iteration :  72 E =  3.71173095419686  grad norm :  0.8442052636130544\n",
      "Iteration :  73 E =  4.1876173368269285  grad norm :  0.8143701764454416\n",
      "Iteration :  74 E =  3.6423226624796605  grad norm :  0.7856052254680259\n",
      "Iteration :  75 E =  4.085043337857021  grad norm :  0.7578723629714554\n",
      "Iteration :  76 E =  3.5780511696936905  grad norm :  0.7311349003867085\n",
      "Iteration :  77 E =  3.9897747436296287  grad norm :  0.7053574597992711\n",
      "Iteration :  78 E =  3.518258592649359  grad norm :  0.6805059271886474\n",
      "Iteration :  79 E =  3.9010254886443168  grad norm :  0.6565474073312649\n",
      "Iteration :  80 E =  3.462378965441522  grad norm :  0.6334501803070773\n",
      "Iteration :  81 E =  3.818107127113515  grad norm :  0.6111836595522417\n",
      "Iteration :  82 E =  3.409925472555707  grad norm :  0.5897183514022594\n",
      "Iteration :  83 E =  3.7404161115546217  grad norm :  0.5690258160719789\n",
      "Iteration :  84 E =  3.3604794353336813  grad norm :  0.5490786300206838\n",
      "Iteration :  85 E =  3.6674227613322032  grad norm :  0.5298503496523455\n",
      "Iteration :  86 E =  3.313680812724899  grad norm :  0.5113154763028585\n",
      "Iteration :  87 E =  3.598661694664137  grad norm :  0.4934494224677696\n",
      "Iteration :  88 E =  3.2692200097195343  grad norm :  0.4762284792256343\n",
      "Iteration :  89 E =  3.5337235280915054  grad norm :  0.4596297848137033\n",
      "Iteration :  90 E =  3.22683081492748  grad norm :  0.44363129431418474\n",
      "Iteration :  91 E =  3.4722476737852346  grad norm :  0.4282117504107421\n",
      "Iteration :  92 E =  3.186284313031531  grad norm :  0.4133506551763289\n",
      "Iteration :  93 E =  3.4139160878785737  grad norm :  0.39902824285484156\n",
      "Iteration :  94 E =  3.1473836388173617  grad norm :  0.3852254536003346\n",
      "Iteration :  95 E =  3.3584478427538325  grad norm :  0.37192390813886805\n",
      "Iteration :  96 E =  3.109959457612986  grad norm :  0.3591058833192623\n",
      "Iteration :  97 E =  3.3055944132897217  grad norm :  0.3467542885202206\n",
      "Iteration :  98 E =  3.0738660726414224  grad norm :  0.334852642882452\n",
      "Iteration :  99 E =  3.2551355818515835  grad norm :  0.3233850533355326\n",
      "Iteration :  100 E =  3.038978073335499  grad norm :  0.31233619339034585\n",
      "Iteration :  101 E =  3.206875879591525  grad norm :  0.3016912826689671\n",
      "Iteration :  102 E =  3.005187450370718  grad norm :  0.2914360671449237\n",
      "Iteration :  103 E =  3.16064149268763  grad norm :  0.28155680006774997\n",
      "Iteration :  104 E =  2.972401113290145  grad norm :  0.272040223546723\n",
      "Iteration :  105 E =  3.1162775717237796  grad norm :  0.2628735507696419\n",
      "Iteration :  106 E =  2.940538755339686  grad norm :  0.2540444488334475\n",
      "Iteration :  107 E =  3.0736458906948223  grad norm :  0.2455410221643982\n",
      "Iteration :  108 E =  2.9095310176886757  grad norm :  0.23735179650643887\n",
      "Iteration :  109 E =  3.032622809290254  grad norm :  0.22946570345728867\n",
      "Iteration :  110 E =  2.8793179117409067  grad norm :  0.22187206553264407\n",
      "Iteration :  111 E =  2.9930974983132415  grad norm :  0.21456058173981335\n",
      "Iteration :  112 E =  2.849847463883766  grad norm :  0.2075213136429297\n",
      "Iteration :  113 E =  2.9549703934610934  grad norm :  0.20074467190276407\n",
      "Iteration :  114 E =  2.8210745518985716  grad norm :  0.194221403275034\n",
      "Iteration :  115 E =  2.9181518473405412  grad norm :  0.18794257805193965\n",
      "Iteration :  116 E =  2.7929599064675306  grad norm :  0.18189957793250902\n",
      "Iteration :  117 E =  2.8825609536139263  grad norm :  0.17608408430818207\n",
      "Iteration :  118 E =  2.765469254851896  grad norm :  0.17048806695090446\n",
      "Iteration :  119 E =  2.848124520654565  grad norm :  0.16510377309180907\n",
      "Iteration :  120 E =  2.7385725869595245  grad norm :  0.159923716879401\n",
      "Iteration :  121 E =  2.8147761751043068  grad norm :  0.154940669206933\n",
      "Iteration :  122 E =  2.712243526735579  grad norm :  0.15014764789946103\n",
      "Iteration :  123 E =  2.7824555783363474  grad norm :  0.1455379082518127\n",
      "Iteration :  124 E =  2.6864587941555516  grad norm :  0.14110493390941567\n",
      "Iteration :  125 E =  2.7511077410863316  grad norm :  0.1368424280846379\n",
      "Iteration :  126 E =  2.6611977451253233  grad norm :  0.1327443051019182\n",
      "Iteration :  127 E =  2.7206824234718523  grad norm :  0.12880468226554184\n",
      "Iteration :  128 E =  2.6364419783421895  grad norm :  0.1250178720444548\n",
      "Iteration :  129 E =  2.691133609315271  grad norm :  0.12137837456896856\n",
      "Iteration :  130 E =  2.612174999681133  grad norm :  0.11788087043455989\n",
      "Iteration :  131 E =  2.662419045152809  grad norm :  0.11452021380827491\n",
      "Iteration :  132 E =  2.5883819359745353  grad norm :  0.11129142583343021\n",
      "Iteration :  133 E =  2.6344998355844123  grad norm :  0.10818968832840217\n",
      "Iteration :  134 E =  2.5650492911792337  grad norm :  0.10521033777526713\n",
      "Iteration :  135 E =  2.607340087720558  grad norm :  0.1023488595939425\n",
      "Iteration :  136 E =  2.5421647388963162  grad norm :  0.0996008826972299\n",
      "Iteration :  137 E =  2.5809065984366857  grad norm :  0.09696217432182987\n",
      "Iteration :  138 E =  2.519716946047517  grad norm :  0.09442863512992608\n",
      "Iteration :  139 E =  2.555168578973121  grad norm :  0.09199629457539442\n",
      "Iteration :  140 E =  2.497695423235596  grad norm :  0.08966130652807375\n",
      "Iteration :  141 E =  2.530097412135209  grad norm :  0.08741994514878279\n",
      "Iteration :  142 E =  2.4760903979401663  grad norm :  0.08526860100702573\n",
      "Iteration :  143 E =  2.5056664379699085  grad norm :  0.08320377743250544\n",
      "Iteration :  144 E =  2.4548927072388556  grad norm :  0.08122208709075018\n",
      "Iteration :  145 E =  2.481850764333836  grad norm :  0.07932024877229155\n",
      "Iteration :  146 E =  2.4340937072079134  grad norm :  0.0774950843840871\n",
      "Iteration :  147 E =  2.45862709923506  grad norm :  0.07574351613110024\n",
      "Iteration :  148 E =  2.4136851965567017  grad norm :  0.07406256387529118\n",
      "Iteration :  149 E =  2.435973602236101  grad norm :  0.07244934265870721\n",
      "Iteration :  150 E =  2.39365935239556  grad norm :  0.07090106037691347\n",
      "Iteration :  151 E =  2.4138697525572503  grad norm :  0.06941501558867885\n",
      "Iteration :  152 E =  2.3740086763338586  grad norm :  0.0679885954476673\n",
      "Iteration :  153 E =  2.3922962318243375  grad norm :  0.06661927374190163\n",
      "Iteration :  154 E =  2.35472594936131  grad norm :  0.06530460902691666\n",
      "Iteration :  155 E =  2.3712348196698834  grad norm :  0.06404224283882246\n",
      "Iteration :  156 E =  2.335804194186176  grad norm :  0.06282989797402748\n",
      "Iteration :  157 E =  2.350668300626419  grad norm :  0.06166537682297921\n",
      "Iteration :  158 E =  2.3172366438940704  grad norm :  0.060546559746075895\n",
      "Iteration :  159 E =  2.330580380950428  grad norm :  0.05947140348079203\n",
      "Iteration :  160 E =  2.29901671595454  grad norm :  0.058437939570074926\n",
      "Iteration :  161 E =  2.3109556141887255  grad norm :  0.05744427280315352\n",
      "Iteration :  162 E =  2.281137990743292  grad norm :  0.05648857966103677\n",
      "Iteration :  163 E =  2.2917793344498336  grad norm :  0.05556910676016012\n",
      "Iteration :  164 E =  2.2635941938689976  grad norm :  0.054684169288836605\n",
      "Iteration :  165 E =  2.2730375964738574  grad norm :  0.05383214943232428\n",
      "Iteration :  166 E =  2.246379181697538  grad norm :  0.05301149478347555\n",
      "Iteration :  167 E =  2.25471712170828  grad norm :  0.052220716737024525\n",
      "Iteration :  168 E =  2.2294869295560495  grad norm :  0.05145838886658426\n",
      "Iteration :  169 E =  2.2368052496961894  grad norm :  0.05072314528436285\n",
      "Iteration :  170 E =  2.2129115221757725  grad norm :  0.050013678984451755\n",
      "Iteration :  171 E =  2.2192898941696995  grad norm :  0.04932874017128874\n",
      "Iteration :  172 E =  2.196647145998703  grad norm :  0.048667134575539554\n",
      "Iteration :  173 E =  2.2021595033163357  grad norm :  0.04802772176015551\n",
      "Iteration :  174 E =  2.1806880830294877  grad norm :  0.047409413419829904\n",
      "Iteration :  175 E =  2.1854030237516566  grad norm :  0.04681117167735502\n",
      "Iteration :  176 E =  2.165028705962485  grad norm :  0.04623200738064748\n",
      "Iteration :  177 E =  2.1690098677882914  grad norm :  0.04567097840431935\n",
      "Iteration :  178 E =  2.149663474355438  grad norm :  0.04512718795975409\n",
      "Iteration :  179 E =  2.152969883641297  grad norm :  0.0445997829175902\n",
      "Iteration :  180 E =  2.134586931656649  grad norm :  0.044087952146453044\n",
      "Iteration :  181 E =  2.1372733282531406  grad norm :  0.043590924871632464\n",
      "Iteration :  182 E =  2.119793702923024  grad norm :  0.04310796905719866\n",
      "Iteration :  183 E =  2.121910842459383  grad norm :  0.04263838981483843\n",
      "Iteration :  184 E =  2.105278493092213  grad norm :  0.04218152784242712\n",
      "Iteration :  185 E =  2.1068734282492687  grad norm :  0.041736757895066735\n",
      "Iteration :  186 E =  2.091036085694294  grad norm :  0.04130348729105836\n",
      "Iteration :  187 E =  2.092152427904307  grad norm :  0.040881154454929576\n",
      "Iteration :  188 E =  2.077061341907249  grad norm :  0.0404692274993839\n",
      "Iteration :  189 E =  2.0777395048231826  grad norm :  0.040067202847706485\n",
      "Iteration :  190 E =  2.0633491998766376  grad norm :  0.039674603897886795\n",
      "Iteration :  191 E =  2.063626625863514  grad norm :  0.03929097972943608\n",
      "Iteration :  192 E =  2.04989467423347  grad norm :  0.038915903853594835\n",
      "Iteration :  193 E =  2.0498060450503166  grad norm :  0.03854897300740925\n",
      "Iteration :  194 E =  2.0366928557559087  grad norm :  0.038189805991878586\n",
      "Iteration :  195 E =  2.03627028851803  grad norm :  0.0378380425541952\n",
      "Iteration :  196 E =  2.0237389111302484  grad norm :  0.03749334231387993\n",
      "Iteration :  197 E =  2.0230121405679298  grad norm :  0.0371553837324522\n",
      "Iteration :  198 E =  2.0110280827749203  grad norm :  0.03682386312610112\n",
      "Iteration :  199 E =  2.0100246307357823  grad norm :  0.03649849372069376\n",
      "Iteration :  200 E =  1.9985556886983153  grad norm :  0.036179004748336505\n",
      "Iteration :  201 E =  1.9973010217761324  grad norm :  0.03586514058458477\n",
      "Iteration :  202 E =  1.9863171223670548  grad norm :  0.035556659925321595\n",
      "Iteration :  203 E =  1.9848347984797794  grad norm :  0.03525333500224047\n",
      "Iteration :  204 E =  1.974307852566368  grad norm :  0.03495495083582335\n",
      "Iteration :  205 E =  1.9726196572498986  grad norm :  0.034661304524628726\n",
      "Iteration :  206 E =  1.9625234232383144  grad norm :  0.034372204569699714\n",
      "Iteration :  207 E =  1.960649496370123  grad norm :  0.034087470232859685\n",
      "Iteration :  208 E =  1.9509594532870835  grad norm :  0.033806930927644946\n",
      "Iteration :  209 E =  1.9489184069048653  grad norm :  0.03353042564163055\n",
      "Iteration :  210 E =  1.9396116363434501  grad norm :  0.03325780238889843\n",
      "Iteration :  211 E =  1.93742066417833  grad norm :  0.032988917691394636\n",
      "Iteration :  212 E =  1.9284757404828403  grad norm :  0.03272363608795949\n",
      "Iteration :  213 E =  1.9261507197840375  grad norm :  0.032461829669806284\n",
      "Iteration :  214 E =  1.9175476078934102  grad norm :  0.0322033776412717\n",
      "Iteration :  215 E =  1.9151031940815446  grad norm :  0.03194816590466044\n",
      "Iteration :  216 E =  1.9068231544921153  grad norm :  0.03169608666806592\n",
      "Iteration :  217 E =  1.9042728691413107  grad norm :  0.031447038075044946\n",
      "Iteration :  218 E =  1.8962983694880586  grad norm :  0.031200923855104788\n",
      "Iteration :  219 E =  1.8936546821024252  grad norm :  0.03095765299393554\n",
      "Iteration :  220 E =  1.8859693148933914  grad norm :  0.030717139422419302\n",
      "Iteration :  221 E =  1.8832437189113405  grad norm :  0.030479301723430805\n",
      "Iteration :  222 E =  1.8758321249828966  grad norm :  0.03024406285552506\n",
      "Iteration :  223 E =  1.873035208412673  grad norm :  0.030011349892604428\n",
      "Iteration :  224 E =  1.865883005703993  grad norm :  0.029781093778731504\n",
      "Iteration :  225 E =  1.8630245167659256  grad norm :  0.029553229097262303\n",
      "Iteration :  226 E =  1.8561182340393976  grad norm :  0.02932769385352419\n",
      "Iteration :  227 E =  1.8532071421642649  grad norm :  0.02910442927029947\n",
      "Iteration :  228 E =  1.8465341573250122  grad norm :  0.028883379595399394\n",
      "Iteration :  229 E =  1.8435787098337355  grad norm :  0.028664491920661762\n",
      "Iteration :  230 E =  1.8371271925258938  grad norm :  0.028447716011720397\n",
      "Iteration :  231 E =  1.834134967293114  grad norm :  0.028233004147949603\n",
      "Iteration :  232 E =  1.827893825473314  grad norm :  0.028020310971989464\n",
      "Iteration :  233 E =  1.8248717798563876  grad norm :  0.027809593348315093\n",
      "Iteration :  234 E =  1.8188306100659895  grad norm :  0.027600810230318452\n",
      "Iteration :  235 E =  1.8157851263613896  grad norm :  0.027393922535417056\n",
      "Iteration :  236 E =  1.8099341674386622  grad norm :  0.027188893027716505\n",
      "Iteration :  237 E =  1.8068710951094429  grad norm :  0.02698568620778474\n",
      "Iteration :  238 E =  1.8012011851011343  grad norm :  0.02678426820912367\n",
      "Iteration :  239 E =  1.7981258800022402  grad norm :  0.026584606700937385\n",
      "Iteration :  240 E =  1.7926284160508796  grad norm :  0.026386670796828493\n",
      "Iteration :  241 E =  1.7895457768631728  grad norm :  0.026190430969064503\n",
      "Iteration :  242 E =  1.7842126778622411  grad norm :  0.025995858968085487\n",
      "Iteration :  243 E =  1.781127179931466  grad norm :  0.0258029277469396\n",
      "Iteration :  244 E =  1.775950851755144  grad norm :  0.02561161139034384\n",
      "Iteration :  245 E =  1.7728665785183455  grad norm :  0.0254218850480996\n",
      "Iteration :  246 E =  1.7678398816461598  grad norm :  0.025233724872594614\n",
      "Iteration :  247 E =  1.7647605538152862  grad norm :  0.025047107960145136\n",
      "Iteration :  248 E =  1.7598767731845866  grad norm :  0.024862012295943887\n",
      "Iteration :  249 E =  1.7568057758451932  grad norm :  0.024678416702397378\n",
      "Iteration :  250 E =  1.7520585927761523  grad norm :  0.02449630079064108\n",
      "Iteration :  251 E =  1.7489990005480371  grad norm :  0.024315644915043785\n",
      "Iteration :  252 E =  1.7443824665967111  grad norm :  0.024136430130513024\n",
      "Iteration :  253 E =  1.7413370669930928  grad norm :  0.02395863815243483\n",
      "Iteration :  254 E =  1.7368455795982802  grad norm :  0.023782251319077668\n",
      "Iteration :  255 E =  1.7338168947105068  grad norm :  0.0236072525563208\n",
      "Iteration :  256 E =  1.7294451745095185  grad norm :  0.023433625344553524\n",
      "Iteration :  257 E =  1.7264354811354625  grad norm :  0.02326135368761658\n",
      "Iteration :  258 E =  1.7221785508326743  grad norm :  0.023090422083657493\n",
      "Iteration :  259 E =  1.719189899158643  grad norm :  0.022920815497784366\n",
      "Iteration :  260 E =  1.7150430638388463  grad norm :  0.02275251933639918\n",
      "Iteration :  261 E =  1.7120772947771954  grad norm :  0.02258551942312304\n",
      "Iteration :  262 E =  1.7080361235633341  grad norm :  0.022419801976187752\n",
      "Iteration :  263 E =  1.7050948848407452  grad norm :  0.022255353587235377\n",
      "Iteration :  264 E =  1.7011551938026346  grad norm :  0.022092161201407997\n",
      "Iteration :  265 E =  1.6982399548874099  grad norm :  0.021930212098669046\n",
      "Iteration :  266 E =  1.694397791114588  grad norm :  0.021769493876267792\n",
      "Iteration :  267 E =  1.6915098570650917  grad norm :  0.021609994432280406\n",
      "Iteration :  268 E =  1.6877614838230277  grad norm :  0.021451701950159777\n",
      "Iteration :  269 E =  1.6849020081336374  grad norm :  0.021294604884232227\n",
      "Iteration :  270 E =  1.6812438910281535  grad norm :  0.021138691946077485\n",
      "Iteration :  271 E =  1.6784138875437515  grad norm :  0.02098395209174229\n",
      "Iteration :  272 E =  1.674842681623799  grad norm :  0.020830374509736252\n",
      "Iteration :  273 E =  1.6720430355887965  grad norm :  0.020677948609751917\n",
      "Iteration :  274 E =  1.6685555733225816  grad norm :  0.020526664012078696\n",
      "Iteration :  275 E =  1.6657870516258777  grad norm :  0.02037651053764866\n",
      "Iteration :  276 E =  1.6623803316898866  grad norm :  0.02022747819869509\n",
      "Iteration :  277 E =  1.6596435923628294  grad norm :  0.020079557189969434\n",
      "Iteration :  278 E =  1.6563147691875082  grad norm :  0.019932737880489017\n",
      "Iteration :  279 E =  1.6536103702079044  grad norm :  0.01978701080578155\n",
      "Iteration :  280 E =  1.6503567442277158  grad norm :  0.01964236666059519\n",
      "Iteration :  281 E =  1.6476851516792186  grad norm :  0.019498796292041785\n",
      "Iteration :  282 E =  1.6445041602383952  grad norm :  0.019356290693155274\n",
      "Iteration :  283 E =  1.641865755871117  grad norm :  0.019214840996825626\n",
      "Iteration :  284 E =  1.6387549647398556  grad norm :  0.019074438470100718\n",
      "Iteration :  285 E =  1.6361500529748412  grad norm :  0.01893507450881508\n",
      "Iteration :  286 E =  1.63310714843384  grad norm :  0.018796740632545682\n",
      "Iteration :  287 E =  1.630535962851013  grad norm :  0.01865942847985322\n",
      "Iteration :  288 E =  1.62755874430517  grad norm :  0.01852312980381015\n",
      "Iteration :  289 E =  1.6250214536515977  grad norm :  0.01838783646778404\n",
      "Iteration :  290 E =  1.6221078267364313  grad norm :  0.018253540441464315\n",
      "Iteration :  291 E =  1.6196045404891362  grad norm :  0.018120233797121413\n",
      "Iteration :  292 E =  1.6167525106360343  grad norm :  0.01798790870607814\n",
      "Iteration :  293 E =  1.6142832841511725  grad norm :  0.017856557435381715\n",
      "Iteration :  294 E =  1.6114909505799166  grad norm :  0.017726172344670426\n",
      "Iteration :  295 E =  1.609055789857906  grad norm :  0.017596745883204847\n",
      "Iteration :  296 E =  1.606321339967144  grad norm :  0.017468270587078425\n",
      "Iteration :  297 E =  1.6039202060612368  grad norm :  0.017340739076576468\n",
      "Iteration :  298 E =  1.6012419101895572  grad norm :  0.01721414405368241\n",
      "Iteration :  299 E =  1.5988747232834088  grad norm :  0.01708847829971972\n",
      "Iteration :  300 E =  1.5962509298156666  grad norm :  0.01696373467312503\n",
      "Iteration :  301 E =  1.5939175729936343  grad norm :  0.01683990610734163\n",
      "Iteration :  302 E =  1.5913467037888336  grad norm :  0.016716985608821122\n",
      "Iteration :  303 E =  1.589047026521099  grad norm :  0.016594966255136713\n",
      "Iteration :  304 E =  1.5865275726398747  grad norm :  0.01647384119319509\n",
      "Iteration :  305 E =  1.5842613940028663  grad norm :  0.016353603637536546\n",
      "Iteration :  306 E =  1.5817919117140804  grad norm :  0.01623424686873094\n",
      "Iteration :  307 E =  1.5795590233652843  grad norm :  0.016115764231848097\n",
      "Iteration :  308 E =  1.5771381304126815  grad norm :  0.01599814913500951\n",
      "Iteration :  309 E =  1.5749382993375363  grad norm :  0.015881395048013173\n",
      "Iteration :  310 E =  1.5725646714487385  grad norm :  0.015765495501023026\n",
      "Iteration :  311 E =  1.5703976424960704  grad norm :  0.015650444083324895\n",
      "Iteration :  312 E =  1.5680700101174176  grad norm :  0.015536234442140744\n",
      "Iteration :  313 E =  1.5659355083387185  grad norm :  0.015422860281500174\n",
      "Iteration :  314 E =  1.563652653580584  grad norm :  0.01531031536116625\n",
      "Iteration :  315 E =  1.5615503863873141  grad norm :  0.015198593495606535\n",
      "Iteration :  316 E =  1.5593111401656319  grad norm :  0.015087688553015625\n",
      "Iteration :  317 E =  1.5572407993177826  grad norm :  0.014977594454378233\n",
      "Iteration :  318 E =  1.555044038678449  grad norm :  0.014868305172575466\n",
      "Iteration :  319 E =  1.5530053021165986  grad norm :  0.014759814731528001\n",
      "Iteration :  320 E =  1.5508499477304047  grad norm :  0.014652117205378776\n",
      "Iteration :  321 E =  1.548842481262674  grad norm :  0.014545206717705046\n",
      "Iteration :  322 E =  1.546727495079212  grad norm :  0.014439077440766628\n",
      "Iteration :  323 E =  1.5447509539337005  grad norm :  0.01433372359478531\n",
      "Iteration :  324 E =  1.5426753369835335  grad norm :  0.01422913944724664\n",
      "Iteration :  325 E =  1.540729367236071  grad norm :  0.014125319312236833\n",
      "Iteration :  326 E =  1.5386921575711825  grad norm :  0.014022257549796007\n",
      "Iteration :  327 E =  1.5367763974575126  grad norm :  0.013919948565305372\n",
      "Iteration :  328 E =  1.5347766682207205  grad norm :  0.013818386808886281\n",
      "Iteration :  329 E =  1.532890749341621  grad norm :  0.013717566774829092\n",
      "Iteration :  330 E =  1.5309276069563134  grad norm :  0.013617483001035394\n",
      "Iteration :  331 E =  1.5290711553835064  grad norm :  0.01351813006848557\n",
      "Iteration :  332 E =  1.5271437378556334  grad norm :  0.013419502600715547\n",
      "Iteration :  333 E =  1.5253163751458223  grad norm :  0.013321595263319642\n",
      "Iteration :  334 E =  1.5234238504706388  grad norm :  0.013224402763461896\n",
      "Iteration :  335 E =  1.5216251945944455  grad norm :  0.013127919849404774\n",
      "Iteration :  336 E =  1.5197667592610182  grad norm :  0.013032141310054165\n",
      "Iteration :  337 E =  1.5179964254531457  grad norm :  0.012937061974513626\n",
      "Iteration :  338 E =  1.5161713030401143  grad norm :  0.012842676711654748\n",
      "Iteration :  339 E =  1.514428904576571  grad norm :  0.012748980429695965\n",
      "Iteration :  340 E =  1.5126363444331092  grad norm :  0.012655968075795391\n",
      "Iteration :  341 E =  1.5109214933409627  grad norm :  0.012563634635654759\n",
      "Iteration :  342 E =  1.5091607693472708  grad norm :  0.012471975133128638\n",
      "Iteration :  343 E =  1.5074730770519453  grad norm :  0.012380984629849153\n",
      "Iteration :  344 E =  1.5057434864540529  grad norm :  0.012290658224857363\n",
      "Iteration :  345 E =  1.5040825643688855  grad norm :  0.012200991054240511\n",
      "Iteration :  346 E =  1.502383426682832  grad norm :  0.012111978290781823\n",
      "Iteration :  347 E =  1.5007488867452161  grad norm :  0.012023615143617364\n",
      "Iteration :  348 E =  1.49907954272607  grad norm :  0.011935896857895138\n",
      "Iteration :  349 E =  1.497470997884231  grad norm :  0.011848818714449247\n",
      "Iteration :  350 E =  1.495830808555678  grad norm :  0.01176237602947368\n",
      "Iteration :  351 E =  1.4942478732098403  grad norm :  0.011676564154207087\n",
      "Iteration :  352 E =  1.492636218950397  grad norm :  0.011591378474620651\n",
      "Iteration :  353 E =  1.4910785093517887  grad norm :  0.0115068144111134\n",
      "Iteration :  354 E =  1.489494789033942  grad norm :  0.011422867418212556\n",
      "Iteration :  355 E =  1.4879619236448947  grad norm :  0.011339532984278936\n"
     ]
    },
    {
     "name": "stdout",
     "output_type": "stream",
     "text": [
      "Iteration :  356 E =  1.4864055538237202  grad norm :  0.011256806631217656\n",
      "Iteration :  357 E =  1.4848971536418338  grad norm :  0.0111746839141939\n",
      "Iteration :  358 E =  1.4833675677899092  grad norm :  0.011093160421351878\n",
      "Iteration :  359 E =  1.4818832566390698  grad norm :  0.011012231773540661\n",
      "Iteration :  360 E =  1.4803799044246764  grad norm :  0.010931893624040902\n",
      "Iteration :  361 E =  1.4789193092154944  grad norm :  0.010852141658299615\n",
      "Iteration :  362 E =  1.4774416558213324  grad norm :  0.0107729715936652\n",
      "Iteration :  363 E =  1.476004406783398  grad norm :  0.010694379179128024\n",
      "Iteration :  364 E =  1.4745519322632035  grad norm :  0.010616360195065561\n",
      "Iteration :  365 E =  1.4731376631513584  grad norm :  0.01053891045298884\n",
      "Iteration :  366 E =  1.4717098618220354  grad norm :  0.010462025795291532\n",
      "Iteration :  367 E =  1.4703182100987384  grad norm :  0.010385702095006537\n",
      "Iteration :  368 E =  1.468914589965702  grad norm :  0.010309935255563063\n",
      "Iteration :  369 E =  1.4675451969613533  grad norm :  0.010234721210543281\n",
      "Iteration :  370 E =  1.4661652791750306  grad norm :  0.010160055923449783\n",
      "Iteration :  371 E =  1.4648177902280588  grad norm :  0.01008593538746742\n",
      "Iteration :  372 E =  1.4634611085695335  grad norm :  0.010012355625234053\n",
      "Iteration :  373 E =  1.462135173147861  grad norm :  0.009939312688611571\n",
      "Iteration :  374 E =  1.4608012735418656  grad norm :  0.009866802658458775\n",
      "Iteration :  375 E =  1.4594965453472601  grad norm :  0.009794821644407023\n",
      "Iteration :  376 E =  1.4581849854008027  grad norm :  0.009723365784641162\n",
      "Iteration :  377 E =  1.4569011224575226  grad norm :  0.00965243124567741\n",
      "Iteration :  378 E =  1.4556114710225392  grad norm :  0.009582014222149177\n",
      "Iteration :  379 E =  1.454348135751582  grad norm :  0.009512110936589626\n",
      "Iteration :  380 E =  1.453079972510146  grad norm :  0.009442717639222244\n",
      "Iteration :  381 E =  1.451836831790292  grad norm :  0.009373830607749737\n",
      "Iteration :  382 E =  1.4505897468609639  grad norm :  0.00930544614714374\n",
      "Iteration :  383 E =  1.4493664720777415  grad norm :  0.009237560589440717\n",
      "Iteration :  384 E =  1.4481400656417958  grad norm :  0.009170170293536997\n",
      "Iteration :  385 E =  1.44693633272537  grad norm :  0.009103271644986938\n",
      "Iteration :  386 E =  1.445730214671679  grad norm :  0.009036861055800755\n",
      "Iteration :  387 E =  1.4445457041246628  grad norm :  0.008970934964247536\n",
      "Iteration :  388 E =  1.4433594937120873  grad norm :  0.008905489834659015\n",
      "Iteration :  389 E =  1.442193890628104  grad norm :  0.00884052215723318\n",
      "Iteration :  390 E =  1.4410272161643685  grad norm :  0.00877602844783955\n",
      "Iteration :  391 E =  1.439880210238245  grad norm :  0.008712005247830465\n",
      "Iteration :  392 E =  1.4387327087742734  grad norm :  0.008648449123851437\n",
      "Iteration :  393 E =  1.4376039943045578  grad norm :  0.008585356667648175\n",
      "Iteration :  394 E =  1.4364753113433963  grad norm :  0.008522724495885498\n",
      "Iteration :  395 E =  1.4353645872279328  grad norm :  0.008460549249958486\n",
      "Iteration :  396 E =  1.434254376447356  grad norm :  0.008398827595810851\n",
      "Iteration :  397 E =  1.4331613461725548  grad norm :  0.0083375562237524\n",
      "Iteration :  398 E =  1.4320692691605734  grad norm :  0.008276731848277761\n",
      "Iteration :  399 E =  1.4309936407849704  grad norm :  0.00821635120788846\n",
      "Iteration :  400 E =  1.4299193667874806  grad norm :  0.008156411064915131\n",
      "Iteration :  401 E =  1.4288608529201363  grad norm :  0.008096908205340916\n",
      "Iteration :  402 E =  1.427804058600012  grad norm :  0.008037839438627408\n",
      "Iteration :  403 E =  1.4267623763742543  grad norm :  0.007979201597541572\n",
      "Iteration :  404 E =  1.4257227455812274  grad norm :  0.007920991537981616\n",
      "Iteration :  405 E =  1.4246976166242138  grad norm :  0.007863206138811328\n",
      "Iteration :  406 E =  1.4236748401749102  grad norm :  0.007805842301684945\n",
      "Iteration :  407 E =  1.4226659905734333  grad norm :  0.007748896950884325\n",
      "Iteration :  408 E =  1.4216597660410193  grad norm :  0.007692367033150055\n",
      "Iteration :  409 E =  1.4206669263039546  grad norm :  0.007636249517516062\n",
      "Iteration :  410 E =  1.419676957816835  grad norm :  0.0075805413951462045\n",
      "Iteration :  411 E =  1.4186998628346035  grad norm :  0.00752523967917324\n",
      "Iteration :  412 E =  1.4177258608836547  grad norm :  0.007470341404534915\n",
      "Iteration :  413 E =  1.4167642498850412  grad norm :  0.0074158436278148115\n",
      "Iteration :  414 E =  1.4158059311389377  grad norm :  0.007361743427085132\n",
      "Iteration :  415 E =  1.4148595476455617  grad norm :  0.007308037901745102\n",
      "Iteration :  416 E =  1.413916634773733  grad norm :  0.007254724172369039\n",
      "Iteration :  417 E =  1.4129852265524718  grad norm :  0.007201799380547936\n",
      "Iteration :  418 E =  1.4120574480552817  grad norm :  0.0071492606887369\n",
      "Iteration :  419 E =  1.411140767068896  grad norm :  0.007097105280102215\n",
      "Iteration :  420 E =  1.4102278571146534  grad norm :  0.007045330358367762\n",
      "Iteration :  421 E =  1.4093256594708763  grad norm :  0.006993933147668392\n",
      "Iteration :  422 E =  1.4084273577393183  grad norm :  0.006942910892394913\n",
      "Iteration :  423 E =  1.4075394036386037  grad norm :  0.006892260857051531\n",
      "Iteration :  424 E =  1.4066554551705028  grad norm :  0.006841980326103999\n",
      "Iteration :  425 E =  1.4057815088526668  grad norm :  0.0067920666038363605\n",
      "Iteration :  426 E =  1.4049116639052428  grad norm :  0.006742517014204694\n",
      "Iteration :  427 E =  1.404051493595147  grad norm :  0.00669332890069383\n",
      "Iteration :  428 E =  1.4031955075029972  grad norm :  0.006644499626173987\n",
      "Iteration :  429 E =  1.4023488853554837  grad norm :  0.006596026572758618\n",
      "Iteration :  430 E =  1.4015065183967321  grad norm :  0.00654790714166497\n",
      "Iteration :  431 E =  1.4006732204409353  grad norm :  0.006500138753073691\n",
      "Iteration :  432 E =  1.3998442377083304  grad norm :  0.006452718845990344\n",
      "Iteration :  433 E =  1.3990240437915376  grad norm :  0.006405644878105687\n",
      "Iteration :  434 E =  1.398208215068276  grad norm :  0.006358914325663473\n",
      "Iteration :  435 E =  1.39740090879943  grad norm :  0.006312524683321751\n",
      "Iteration :  436 E =  1.3965980084394556  grad norm :  0.006266473464017425\n",
      "Iteration :  437 E =  1.395803377132453  grad norm :  0.006220758198836614\n",
      "Iteration :  438 E =  1.395013183945001  grad norm :  0.006175376436878185\n",
      "Iteration :  439 E =  1.3942310185618791  grad norm :  0.006130325745124247\n",
      "Iteration :  440 E =  1.393453315700086  grad norm :  0.006085603708308475\n",
      "Iteration :  441 E =  1.3926834107941886  grad norm :  0.006041207928786699\n",
      "Iteration :  442 E =  1.3919179856475465  grad norm :  0.005997136026408798\n",
      "Iteration :  443 E =  1.3911601393067776  grad norm :  0.005953385638390556\n",
      "Iteration :  444 E =  1.3904067833972709  grad norm :  0.005909954419186637\n",
      "Iteration :  445 E =  1.3896607971874917  grad norm :  0.00586684004036426\n",
      "Iteration :  446 E =  1.3889193060692266  grad norm :  0.005824040190480587\n",
      "Iteration :  447 E =  1.3881849849778993  grad norm :  0.005781552574955143\n",
      "Iteration :  448 E =  1.3874551581400778  grad norm :  0.005739374915948524\n",
      "Iteration :  449 E =  1.3867323105201894  grad norm :  0.005697504952240799\n",
      "Iteration :  450 E =  1.3860139512932657  grad norm :  0.005655940439110238\n",
      "Iteration :  451 E =  1.3853023888076237  grad norm :  0.005614679148209482\n",
      "Iteration :  452 E =  1.3845953042724983  grad norm :  0.005573718867451781\n",
      "Iteration :  453 E =  1.3838948418384174  grad norm :  0.005533057400886739\n",
      "Iteration :  454 E =  1.3831988427385489  grad norm :  0.005492692568585706\n",
      "Iteration :  455 E =  1.3825092984730032  grad norm :  0.005452622206525502\n",
      "Iteration :  456 E =  1.3818241991292823  grad norm :  0.00541284416646767\n",
      "Iteration :  457 E =  1.38114539429456  grad norm :  0.005373356315849992\n",
      "Iteration :  458 E =  1.3804710125228417  grad norm :  0.005334156537666329\n",
      "Iteration :  459 E =  1.3798027714727312  grad norm :  0.005295242730355656\n",
      "Iteration :  460 E =  1.379138928503917  grad norm :  0.005256612807689699\n",
      "Iteration :  461 E =  1.3784810786304524  grad norm :  0.005218264698659346\n",
      "Iteration :  462 E =  1.3778275990330053  grad norm :  0.005180196347364875\n",
      "Iteration :  463 E =  1.377179970713822  grad norm :  0.005142405712906964\n",
      "Iteration :  464 E =  1.376536682318597  grad norm :  0.005104890769272807\n",
      "Iteration :  465 E =  1.3758991088649137  grad norm :  0.005067649505232421\n",
      "Iteration :  466 E =  1.375265842692242  grad norm :  0.005030679924227052\n",
      "Iteration :  467 E =  1.374638160297477  grad norm :  0.004993980044266129\n",
      "Iteration :  468 E =  1.3740147504863733  grad norm :  0.004957547897815958\n",
      "Iteration :  469 E =  1.3733967981754338  grad norm :  0.004921381531698598\n",
      "Iteration :  470 E =  1.3727830819148832  grad norm :  0.004885479006983465\n",
      "Iteration :  471 E =  1.3721747014941335  grad norm :  0.004849838398887525\n",
      "Iteration :  472 E =  1.3715705189563219  grad norm :  0.0048144577966685856\n",
      "Iteration :  473 E =  1.3709715549642454  grad norm :  0.004779335303523134\n",
      "Iteration :  474 E =  1.3703767492397214  grad norm :  0.004744469036486989\n",
      "Iteration :  475 E =  1.3697870488982835  grad norm :  0.004709857126332829\n",
      "Iteration :  476 E =  1.3692014659329117  grad norm :  0.004675497717468221\n",
      "Iteration :  477 E =  1.3686208790996486  grad norm :  0.0046413889678404395\n",
      "Iteration :  478 E =  1.3680443676333294  grad norm :  0.0046075290488338215\n",
      "Iteration :  479 E =  1.3674727467541508  grad norm :  0.004573916145172291\n",
      "Iteration :  480 E =  1.3669051582612262  grad norm :  0.004540548454823785\n",
      "Iteration :  481 E =  1.3663423583239427  grad norm :  0.004507424188903221\n",
      "Iteration :  482 E =  1.3657835469552158  grad norm :  0.0044745415715743645\n",
      "Iteration :  483 E =  1.3652294254438004  grad norm :  0.00444189883995745\n",
      "Iteration :  484 E =  1.3646792479701353  grad norm :  0.004409494244032913\n",
      "Iteration :  485 E =  1.3641336648197138  grad norm :  0.004377326046547895\n",
      "Iteration :  486 E =  1.3635919805771177  grad norm :  0.004345392522924673\n",
      "Iteration :  487 E =  1.3630547981296897  grad norm :  0.004313691961165546\n",
      "Iteration :  488 E =  1.3625214689658676  grad norm :  0.004282222661761439\n",
      "Iteration :  489 E =  1.3619925519267675  grad norm :  0.004250982937603878\n",
      "Iteration :  490 E =  1.361467442149059  grad norm :  0.004219971113890744\n",
      "Iteration :  491 E =  1.3609466575441391  grad norm :  0.004189185528038713\n",
      "Iteration :  492 E =  1.3604296338688138  grad norm :  0.004158624529593488\n",
      "Iteration :  493 E =  1.3599168510023538  grad norm :  0.004128286480140682\n",
      "Iteration :  494 E =  1.3594077825052224  grad norm :  0.004098169753218453\n",
      "Iteration :  495 E =  1.3589028729185597  grad norm :  0.0040682727342312725\n",
      "Iteration :  496 E =  1.3584016309868128  grad norm :  0.004038593820362419\n",
      "Iteration :  497 E =  1.3579044684177066  grad norm :  0.004009131420487752\n",
      "Iteration :  498 E =  1.3574109267029955  grad norm :  0.003979883955090891\n",
      "Iteration :  499 E =  1.3569213870456895  grad norm :  0.0039508498561777764\n",
      "Iteration :  500 E =  1.3564354214183745  grad norm :  0.003922027567193652\n",
      "Iteration :  501 E =  1.3559533826843657  grad norm :  0.003893415542940559\n",
      "Iteration :  502 E =  1.3554748711888975  grad norm :  0.0038650122494906644\n",
      "Iteration :  503 E =  1.3550002134684151  grad norm :  0.003836816164108838\n",
      "Iteration :  504 E =  1.3545290362798206  grad norm :  0.0038088257751669615\n",
      "Iteration :  505 E =  1.35406164170399  grad norm :  0.0037810395820652622\n",
      "Iteration :  506 E =  1.3535976810854187  grad norm :  0.0037534560951515477\n",
      "Iteration :  507 E =  1.3531374337891138  grad norm :  0.003726073835640169\n",
      "Iteration :  508 E =  1.352680574050414  grad norm :  0.003698891335535122\n",
      "Iteration :  509 E =  1.3522273601357864  grad norm :  0.003671907137547449\n",
      "Iteration :  510 E =  1.351777487593082  grad norm :  0.0036451197950211987\n",
      "Iteration :  511 E =  1.3513311950937636  grad norm :  0.0036185278718534994\n",
      "Iteration :  512 E =  1.3508881980299858  grad norm :  0.0035921299424184917\n",
      "Iteration :  513 E =  1.3504487168759511  grad norm :  0.0035659245914902815\n",
      "Iteration :  514 E =  1.3500124855023217  grad norm :  0.003539910414166744\n",
      "Iteration :  515 E =  1.3495797074853961  grad norm :  0.0035140860157968903\n",
      "Iteration :  516 E =  1.3491501339038001  grad norm :  0.003488450011901739\n",
      "Iteration :  517 E =  1.3487239526438186  grad norm :  0.0034630010281032197\n",
      "Iteration :  518 E =  1.3483009308100775  grad norm :  0.0034377377000502835\n",
      "Iteration :  519 E =  1.3478812417216681  grad norm :  0.003412658673344341\n",
      "Iteration :  520 E =  1.347464667409649  grad norm :  0.0033877626034676932\n",
      "Iteration :  521 E =  1.3470513676696485  grad norm :  0.0033630481557120574\n",
      "Iteration :  522 E =  1.346641138436212  grad norm :  0.003338514005104017\n",
      "Iteration :  523 E =  1.3462341269516909  grad norm :  0.0033141588363376226\n",
      "Iteration :  524 E =  1.3458301421024368  grad norm :  0.003289981343702973\n",
      "Iteration :  525 E =  1.3454293194793323  grad norm :  0.003265980231014041\n",
      "Iteration :  526 E =  1.3450314800351273  grad norm :  0.0032421542115421663\n",
      "Iteration :  527 E =  1.3446367485474633  grad norm :  0.0032185020079446903\n",
      "Iteration :  528 E =  1.344244957211734  grad norm :  0.0031950223521973087\n",
      "Iteration :  529 E =  1.3438562207714397  grad norm :  0.003171713985527549\n",
      "Iteration :  530 E =  1.34347038189819  grad norm :  0.003148575658344174\n",
      "Iteration :  531 E =  1.3430875460254788  grad norm :  0.003125606130173883\n",
      "Iteration :  532 E =  1.3427075655880278  grad norm :  0.003102804169591358\n",
      "Iteration :  533 E =  1.3423305373823555  grad norm :  0.0030801685541550646\n",
      "Iteration :  534 E =  1.3419563229427767  grad norm :  0.0030576980703427405\n",
      "Iteration :  535 E =  1.3415850110543404  grad norm :  0.003035391513483417\n",
      "Iteration :  536 E =  1.3412164717335708  grad norm :  0.0030132476876947724\n",
      "Iteration :  537 E =  1.3408507863353691  grad norm :  0.0029912654058195103\n",
      "Iteration :  538 E =  1.34048783278398  grad norm :  0.0029694434893598035\n",
      "Iteration :  539 E =  1.3401276855443927  grad norm :  0.0029477807684168164\n",
      "Iteration :  540 E =  1.3397702299139922  grad norm :  0.0029262760816251457\n",
      "Iteration :  541 E =  1.3394155339699056  grad norm :  0.0029049282760910348\n",
      "Iteration :  542 E =  1.3390634898851783  grad norm :  0.0028837362073339565\n",
      "Iteration :  543 E =  1.3387141598156054  grad norm :  0.002862698739218538\n",
      "Iteration :  544 E =  1.338367442346947  grad norm :  0.0028418147439036915\n",
      "Iteration :  545 E =  1.3380233941471726  grad norm :  0.0028210831017694304\n",
      "Iteration :  546 E =  1.3376819197839176  grad norm :  0.0028005027013685373\n",
      "Iteration :  547 E =  1.3373430708401302  grad norm :  0.0027800724393606258\n",
      "Iteration :  548 E =  1.337006757464354  grad norm :  0.0027597912204527014\n",
      "Iteration :  549 E =  1.336673026528774  grad norm :  0.0027396579573455955\n",
      "Iteration :  550 E =  1.336341793389646  grad norm :  0.002719671570669152\n",
      "Iteration :  551 E =  1.3360131005561322  grad norm :  0.002699830988928731\n",
      "Iteration :  552 E =  1.33568686824483  grad norm :  0.002680135148446526\n",
      "Iteration :  553 E =  1.335363134924945  grad norm :  0.0026605829933036076\n",
      "Iteration :  554 E =  1.335041825350088  grad norm :  0.002641173475286311\n",
      "Iteration :  555 E =  1.3347229742496354  grad norm :  0.002621905553824869\n",
      "Iteration :  556 E =  1.334406510613243  grad norm :  0.002602778195943526\n",
      "Iteration :  557 E =  1.3340924657092492  grad norm :  0.002583790376200406\n",
      "Iteration :  558 E =  1.3337807724831927  grad norm :  0.0025649410766355857\n",
      "Iteration :  559 E =  1.333471459001346  grad norm :  0.0025462292867143178\n",
      "Iteration :  560 E =  1.333164461904295  grad norm :  0.0025276540032747874\n",
      "Iteration :  561 E =  1.3328598062968  grad norm :  0.0025092142304738454\n",
      "Iteration :  562 E =  1.332557432271655  grad norm :  0.002490908979731911\n",
      "Iteration :  563 E =  1.332257362195527  grad norm :  0.002472737269682414\n",
      "Iteration :  564 E =  1.3319595393873158  grad norm :  0.0024546981261170317\n",
      "Iteration :  565 E =  1.3316639836830801  grad norm :  0.0024367905819355803\n",
      "Iteration :  566 E =  1.331370641417304  grad norm :  0.0024190136770920584\n",
      "Iteration :  567 E =  1.3310795300881189  grad norm :  0.0024013664585453946\n",
      "Iteration :  568 E =  1.3307905988495505  grad norm :  0.0023838479802065333\n",
      "Iteration :  569 E =  1.330503863040721  grad norm :  0.002366457302887422\n",
      "Iteration :  570 E =  1.3302192744526309  grad norm :  0.0023491934942535134\n",
      "Iteration :  571 E =  1.3299368464315189  grad norm :  0.0023320556287699757\n",
      "Iteration :  572 E =  1.3296565332353263  grad norm :  0.0023150427876553487\n",
      "Iteration :  573 E =  1.3293783463716422  grad norm :  0.002298154058829942\n",
      "Iteration :  574 E =  1.329102242406983  grad norm :  0.002281388536868399\n",
      "Iteration :  575 E =  1.3288282311534636  grad norm :  0.0022647453229504688\n",
      "Iteration :  576 E =  1.3285562713386505  grad norm :  0.002248223524813454\n",
      "Iteration :  577 E =  1.328286371212097  grad norm :  0.0022318222567020655\n",
      "Iteration :  578 E =  1.328018491524989  grad norm :  0.002215540639325672\n",
      "Iteration :  579 E =  1.3277526390876653  grad norm :  0.002199377799805998\n",
      "Iteration :  580 E =  1.3274887765469068  grad norm :  0.0021833328716334794\n",
      "Iteration :  581 E =  1.3272269093883073  grad norm :  0.0021674049946196735\n",
      "Iteration :  582 E =  1.3269670020349478  grad norm :  0.002151593314851653\n",
      "Iteration :  583 E =  1.326709058753899  grad norm :  0.002135896984645738\n",
      "Iteration :  584 E =  1.3264530456333785  grad norm :  0.0021203151625031518\n",
      "Iteration :  585 E =  1.3261989658204902  grad norm :  0.002104847013061522\n",
      "Iteration :  586 E =  1.3259467869649795  grad norm :  0.0020894917070561304\n",
      "Iteration :  587 E =  1.32569651118542  grad norm :  0.002074248421268631\n",
      "Iteration :  588 E =  1.3254481075965223  grad norm :  0.002059116338488707\n",
      "Iteration :  589 E =  1.3252015773731274  grad norm :  0.0020440946474670806\n",
      "Iteration :  590 E =  1.3249568910049034  grad norm :  0.0020291825428712996\n",
      "Iteration :  591 E =  1.3247140488016047  grad norm :  0.002014379225246325\n",
      "Iteration :  592 E =  1.324473022543945  grad norm :  0.0019996839009669897\n",
      "Iteration :  593 E =  1.3242338117495132  grad norm :  0.0019850957821994524\n",
      "Iteration :  594 E =  1.323996389411824  grad norm :  0.001970614086857302\n",
      "Iteration :  595 E =  1.3237607543239176  grad norm :  0.0019562380385577663\n",
      "Iteration :  596 E =  1.3235268806191436  grad norm :  0.0019419668665839756\n",
      "Iteration :  597 E =  1.3232947664286545  grad norm :  0.0019277998058411744\n",
      "Iteration :  598 E =  1.323064386957585  grad norm :  0.0019137360968153971\n",
      "Iteration :  599 E =  1.3228357397332942  grad norm :  0.001899774985533648\n",
      "Iteration :  600 E =  1.322608800969206  grad norm :  0.00188591572352406\n",
      "Iteration :  601 E =  1.3223835676427012  grad norm :  0.00187215756777439\n",
      "Iteration :  602 E =  1.3221600169162755  grad norm :  0.0018584997806925796\n",
      "Iteration :  603 E =  1.3219381452671792  grad norm :  0.0018449416300688796\n",
      "Iteration :  604 E =  1.3217179307517122  grad norm :  0.0018314823890332782\n",
      "Iteration :  605 E =  1.3214993693931745  grad norm :  0.0018181213360199278\n",
      "Iteration :  606 E =  1.321282440090085  grad norm :  0.0018048577547259215\n",
      "Iteration :  607 E =  1.3210671384545483  grad norm :  0.0017916909340741844\n",
      "Iteration :  608 E =  1.320853444179145  grad norm :  0.0017786201681755395\n",
      "Iteration :  609 E =  1.320641352504371  grad norm :  0.0017656447562902832\n",
      "Iteration :  610 E =  1.320430843871909  grad norm :  0.0017527640027911687\n",
      "Iteration :  611 E =  1.3202219131872739  grad norm :  0.001739977217124218\n",
      "Iteration :  612 E =  1.3200145415992695  grad norm :  0.0017272837137742253\n",
      "Iteration :  613 E =  1.3198087237123104  grad norm :  0.0017146828122270514\n",
      "Iteration :  614 E =  1.3196044413431087  grad norm :  0.0017021738369334019\n",
      "Iteration :  615 E =  1.319401688826323  grad norm :  0.0016897561172715496\n",
      "Iteration :  616 E =  1.3192004486099338  grad norm :  0.0016774289875115492\n",
      "Iteration :  617 E =  1.319000714787818  grad norm :  0.0016651917867811842\n",
      "Iteration :  618 E =  1.3188024704049868  grad norm :  0.001653043859029631\n",
      "Iteration :  619 E =  1.3186057093413208  grad norm :  0.0016409845529903502\n",
      "Iteration :  620 E =  1.3184104152068588  grad norm :  0.0016290132221502898\n",
      "Iteration :  621 E =  1.3182165816922202  grad norm :  0.0016171292247115494\n",
      "Iteration :  622 E =  1.318024192942558  grad norm :  0.0016053319235576169\n",
      "Iteration :  623 E =  1.317833242482073  grad norm :  0.0015936206862216633\n",
      "Iteration :  624 E =  1.3176437149630493  grad norm :  0.0015819948848493483\n",
      "Iteration :  625 E =  1.3174556037643654  grad norm :  0.0015704538961670907\n",
      "Iteration :  626 E =  1.317268894019257  grad norm :  0.001558997101448658\n",
      "Iteration :  627 E =  1.3170835789807385  grad norm :  0.0015476238864806557\n",
      "Iteration :  628 E =  1.3168996442384953  grad norm :  0.001536333641531314\n",
      "Iteration :  629 E =  1.3167170829376287  grad norm :  0.0015251257613172998\n",
      "Iteration :  630 E =  1.3165358811013446  grad norm :  0.0015139996449697287\n",
      "Iteration :  631 E =  1.316356031783368  grad norm :  0.0015029546960035275\n",
      "Iteration :  632 E =  1.3161775214189506  grad norm :  0.001491990322286145\n",
      "Iteration :  633 E =  1.3160003429856757  grad norm :  0.001481105936003911\n",
      "Iteration :  634 E =  1.315824483310738  grad norm :  0.0014703009536314144\n",
      "Iteration :  635 E =  1.3156499353095983  grad norm :  0.0014595747959001242\n",
      "Iteration :  636 E =  1.3154766861825453  grad norm :  0.0014489268877670876\n",
      "Iteration :  637 E =  1.315304728795818  grad norm :  0.0014383566583857166\n",
      "Iteration :  638 E =  1.3151340507051368  grad norm :  0.0014278635410726874\n",
      "Iteration :  639 E =  1.3149646447393821  grad norm :  0.00141744697327906\n",
      "Iteration :  640 E =  1.3147964987931362  grad norm :  0.00140710639655988\n",
      "Iteration :  641 E =  1.3146296056688107  grad norm :  0.0013968412565438968\n",
      "Iteration :  642 E =  1.3144639535843161  grad norm :  0.0013866510029050452\n",
      "Iteration :  643 E =  1.3142995353255875  grad norm :  0.001376535089330329\n",
      "Iteration :  644 E =  1.3141363394192873  grad norm :  0.0013664929734932645\n",
      "Iteration :  645 E =  1.3139743586440258  grad norm :  0.0013565241170248547\n",
      "Iteration :  646 E =  1.3138135818215348  grad norm :  0.0013466279854813996\n",
      "Iteration :  647 E =  1.3136540017314957  grad norm :  0.0013368040483192143\n",
      "Iteration :  648 E =  1.3134956074778361  grad norm :  0.001327051778865312\n",
      "Iteration :  649 E =  1.3133383918489974  grad norm :  0.0013173706542883455\n",
      "Iteration :  650 E =  1.3131823442190238  grad norm :  0.0013077601555707514\n",
      "Iteration :  651 E =  1.3130274573921177  grad norm :  0.0012982197674827679\n",
      "Iteration :  652 E =  1.312873721001086  grad norm :  0.0012887489785526874\n",
      "Iteration :  653 E =  1.312721127872294  grad norm :  0.0012793472810387935\n",
      "Iteration :  654 E =  1.3125696678866245  grad norm :  0.0012700141709055142\n",
      "Iteration :  655 E =  1.312419333898437  grad norm :  0.001260749147792803\n",
      "Iteration :  656 E =  1.312270116026633  grad norm :  0.0012515517149910324\n",
      "Iteration :  657 E =  1.3121220071588748  grad norm :  0.0012424213794151474\n",
      "Iteration :  658 E =  1.311974997642608  grad norm :  0.0012333576515767195\n",
      "Iteration :  659 E =  1.3118290804036175  grad norm :  0.00122436004555765\n",
      "Iteration :  660 E =  1.3116842460089762  grad norm :  0.00121542807898542\n",
      "Iteration :  661 E =  1.3115404874269467  grad norm :  0.0012065612730068793\n",
      "Iteration :  662 E =  1.3113977954358318  grad norm :  0.0011977591522604372\n",
      "Iteration :  663 E =  1.3112561630503135  grad norm :  0.0011890212448549859\n",
      "Iteration :  664 E =  1.3111155812519915  grad norm :  0.0011803470823394742\n",
      "Iteration :  665 E =  1.3109760431055302  grad norm :  0.001171736199682185\n",
      "Iteration :  666 E =  1.3108375397883432  grad norm :  0.0011631881352422483\n",
      "Iteration :  667 E =  1.3107000644182787  grad norm :  0.0011547024307479567\n",
      "Iteration :  668 E =  1.310563608361488  grad norm :  0.0011462786312704137\n",
      "Iteration :  669 E =  1.310428164791889  grad norm :  0.0011379162851996103\n",
      "Iteration :  670 E =  1.3102937252576836  grad norm :  0.0011296149442187383\n",
      "Iteration :  671 E =  1.3101602829914223  grad norm :  0.001121374163283619\n",
      "Iteration :  672 E =  1.3100278297170482  grad norm :  0.0011131935005960528\n",
      "Iteration :  673 E =  1.3098963587280303  grad norm :  0.001105072517579474\n",
      "Iteration :  674 E =  1.3097658619180734  grad norm :  0.0010970107788595871\n",
      "Iteration :  675 E =  1.3096363326435836  grad norm :  0.0010890078522353523\n",
      "Iteration :  676 E =  1.3095077629623777  grad norm :  0.0010810633086610056\n",
      "Iteration :  677 E =  1.3093801462955752  grad norm :  0.001073176722219179\n",
      "Iteration :  678 E =  1.3092534748597529  grad norm :  0.0010653476701001953\n",
      "Iteration :  679 E =  1.3091277421422953  grad norm :  0.0010575757325797899\n",
      "Iteration :  680 E =  1.3090029405134587  grad norm :  0.0010498604929934663\n",
      "Iteration :  681 E =  1.3088790635282463  grad norm :  0.0010422015377190982\n",
      "Iteration :  682 E =  1.3087561037057776  grad norm :  0.0010345984561501678\n",
      "Iteration :  683 E =  1.3086340546698358  grad norm :  0.0010270508406758274\n",
      "Iteration :  684 E =  1.3085129090838223  grad norm :  0.001019558286659828\n",
      "Iteration :  685 E =  1.3083926606412988  grad norm :  0.0010121203924160853\n",
      "Iteration :  686 E =  1.308273302145594  grad norm :  0.0010047367591912166\n",
      "Iteration :  687 E =  1.308154827360877  grad norm :  0.0009974069911387288\n",
      "688 [[0.06473147]\n",
      " [0.74548894]]\n"
     ]
    }
   ],
   "source": [
    "# starting value for A\n",
    "A = np.zeros((2, 1))\n",
    "# Parameters\n",
    "N = X.shape[1]\n",
    "eta = 0.035\n",
    "tol = 1e-3\n",
    "iter = 1\n",
    "# saving intermediate results\n",
    "saveA = A\n",
    "saveE = np.array(np.linalg.norm(y - predict(A, x))**2/N)\n",
    "#Loop\n",
    "while True:\n",
    "    grad = 2/N * (X @ X.T @ A - X @ Y)\n",
    "    delta = eta * grad \n",
    "    A = A -  delta\n",
    "    saveA = np.hstack((saveA, A))\n",
    "    E = np.linalg.norm(y - predict(A, x))**2/N\n",
    "    saveE = np.hstack((saveE, E))\n",
    "    normg = np.linalg.norm(grad)\n",
    "    print(\"Iteration : \", iter, \"E = \", E, \" grad norm : \", normg)\n",
    "    iter = iter + 1 \n",
    "    if (normg < tol):\n",
    "        break\n",
    "print(iter, A)"
   ]
  },
  {
   "cell_type": "markdown",
   "metadata": {},
   "source": [
    "**c-** Did you obtain the same result as question 1?"
   ]
  },
  {
   "cell_type": "markdown",
   "metadata": {},
   "source": [
    "we do not obtain the same result, we have an approximation of the exact Value. This approximation will be more accurate if you ran more iterations (define smaller value of tol)"
   ]
  },
  {
   "cell_type": "markdown",
   "metadata": {},
   "source": [
    "**d-** To understand the gradient descent, we will display in 3D the curve of the error:"
   ]
  },
  {
   "cell_type": "code",
   "execution_count": 6,
   "metadata": {},
   "outputs": [],
   "source": [
    "import numpy as np\n",
    "error = np.zeros((100,100))\n",
    "a0 = np.linspace(-.2, .45, 100)\n",
    "a1 = np.linspace(-.1, 1, 100)\n",
    "for i in range(a0.shape[0]):\n",
    "    for j in range(a1.shape[0]):\n",
    "        A = np.array([[a0[i]],[a1[j]]])\n",
    "        error[i, j] = np.linalg.norm(y - predict(A, x))**2/N"
   ]
  },
  {
   "cell_type": "code",
   "execution_count": 7,
   "metadata": {},
   "outputs": [
    {
     "data": {
      "image/png": "[encoded data removed]",
      "text/plain": [
       "<Figure size 432x288 with 1 Axes>"
      ]
     },
     "metadata": {
      "needs_background": "light"
     },
     "output_type": "display_data"
    }
   ],
   "source": [
    "%matplotlib inline\n",
    "from mpl_toolkits.mplot3d import Axes3D\n",
    "from matplotlib import cm\n",
    "from matplotlib import interactive\n",
    "A0, A1 = np.meshgrid(a0, a1)\n",
    "fig = plt.figure()\n",
    "ax = fig.add_subplot(projection='3d')\n",
    "ax.plot_surface(A0, A1, error.T, cmap=cm.jet, rstride=1, cstride=1)\n",
    "ax.set_xlabel('A0')\n",
    "ax.set_ylabel('A1')\n",
    "interactive(True)"
   ]
  },
  {
   "cell_type": "markdown",
   "metadata": {},
   "source": [
    "You can see different views of the plot using the mouse in the interactive mode\n",
    "\n",
    "**e-** What is the link between this figure and different values of $A$ founded during the iterations of the gradient descent algorithm? Plot the path obtained using the different values of $A$ in the same figure?"
   ]
  },
  {
   "cell_type": "code",
   "execution_count": 8,
   "metadata": {},
   "outputs": [
    {
     "data": {
      "image/png": "[encoded data removed]",
      "text/plain": [
       "<Figure size 432x288 with 1 Axes>"
      ]
     },
     "metadata": {
      "needs_background": "light"
     },
     "output_type": "display_data"
    }
   ],
   "source": [
    "%matplotlib inline\n",
    "from mpl_toolkits.mplot3d import Axes3D\n",
    "from matplotlib import cm\n",
    "from matplotlib import interactive\n",
    "A0, A1 = np.meshgrid(a0, a1)\n",
    "fig = plt.figure()\n",
    "ax = fig.add_subplot(projection='3d')\n",
    "ax.plot_surface(A0, A1, error.T , cmap=cm.jet, rstride=1, cstride=1, alpha=.3)\n",
    "ax.plot3D(saveA[0,:], saveA[1,:], saveE, color ='red')\n",
    "ax.set_xlabel('A0')\n",
    "ax.set_ylabel('A1')\n",
    "interactive(True)"
   ]
  },
  {
   "cell_type": "markdown",
   "metadata": {},
   "source": [
    "**f-** Conclude?"
   ]
  },
  {
   "cell_type": "markdown",
   "metadata": {},
   "source": [
    "The gradient descent need an important number of iterations, because he don't go directely to the optimum of the error function, and define a path which looks like a zigzag."
   ]
  },
  {
   "cell_type": "markdown",
   "metadata": {},
   "source": [
    "**g-** How can we improve the speed of convergence? implement this new method and compare the result with the previous decent algorithm? Plot the path obtained using the different values of A in the same figure for the two algorithms?"
   ]
  },
  {
   "cell_type": "code",
   "execution_count": 9,
   "metadata": {},
   "outputs": [
    {
     "name": "stdout",
     "output_type": "stream",
     "text": [
      "Iteration :  1 E =  8.037884249120427  grad norm :  11.064593204634097\n",
      "Iteration :  2 E =  8.037884249120445  grad norm :  4.5828629415032935e-15\n",
      "3 [[0.06388117]\n",
      " [0.75016254]]\n"
     ]
    }
   ],
   "source": [
    "A = np.zeros((2, 1))\n",
    "N = X.shape[1]\n",
    "tol = 1e-5\n",
    "iter = 1\n",
    "NsaveA = A\n",
    "NsaveE = np.array(np.linalg.norm(y - predict(A, x))**2/N)\n",
    "ggrad=np.linalg.inv(2/N*(X @ X.T))\n",
    "while True:\n",
    "    grad = 2/N * (X @ X.T @ A - X @ Y)\n",
    "    delta = ggrad @ grad\n",
    "    A = A - delta\n",
    "    NsaveA = np.hstack((NsaveA, A))\n",
    "    E = np.linalg.norm(y - predict(A, x))\n",
    "    NsaveE = np.hstack((NsaveE, E))\n",
    "    norm = np.linalg.norm(grad)\n",
    "    print(\"Iteration : \", iter, \"E = \", E, \" grad norm : \", norm)\n",
    "    iter = iter + 1 \n",
    "    if (norm < tol):\n",
    "        break\n",
    "print(iter, A)"
   ]
  },
  {
   "cell_type": "code",
   "execution_count": 10,
   "metadata": {},
   "outputs": [
    {
     "data": {
      "image/png": "[encoded data removed]",
      "text/plain": [
       "<Figure size 432x288 with 1 Axes>"
      ]
     },
     "metadata": {
      "needs_background": "light"
     },
     "output_type": "display_data"
    }
   ],
   "source": [
    "%matplotlib inline\n",
    "from mpl_toolkits.mplot3d import Axes3D\n",
    "from matplotlib import cm\n",
    "from matplotlib import interactive\n",
    "A0, A1 = np.meshgrid(a0, a1)\n",
    "fig = plt.figure()\n",
    "ax = fig.add_subplot(projection='3d')\n",
    "ax.plot_surface(A0, A1, error.T , cmap=cm.jet, rstride=1, cstride=1, alpha=.3)\n",
    "ax.plot3D(saveA[0,:], saveA[1,:], saveE, color ='red')\n",
    "ax.plot3D(NsaveA[0,:], NsaveA[1,:], NsaveE, color ='green')\n",
    "ax.set_xlabel('A0')\n",
    "ax.set_ylabel('A1')\n",
    "interactive(True)"
   ]
  },
  {
   "cell_type": "markdown",
   "metadata": {},
   "source": [
    "**h-** To run a linear Regression you can also use the sklearn library."
   ]
  },
  {
   "cell_type": "code",
   "execution_count": 11,
   "metadata": {},
   "outputs": [
    {
     "name": "stdout",
     "output_type": "stream",
     "text": [
      "A =  [[0.06388117 0.75016254]]\n",
      "height(3.5) =  [[0.97374662]]\n",
      "height(7) =  [[1.1973307]]\n",
      "Score =  0.8580632237208231\n"
     ]
    }
   ],
   "source": [
    "from sklearn.linear_model import LinearRegression\n",
    "reg = LinearRegression(fit_intercept = False).fit(X.T, Y)\n",
    "print(\"A = \", reg.coef_)\n",
    "print(\"height(3.5) = \", reg.predict(np.array([[3.5, 1]])))\n",
    "print(\"height(7) = \", reg.predict(np.array([[7, 1]])))\n",
    "print(\"Score = \", reg.score(X.T, y.reshape((50,1))))"
   ]
  },
  {
   "cell_type": "markdown",
   "metadata": {},
   "source": [
    "## Part 2: Regularised Regression \n",
    "### Import Data\n",
    "\n",
    "The following dataset is from Hastie, Tibshirani and Friedman (2009), from a study by Stamey et al. (1989) of prostate cancer, measuring the correlation between the level of a prostate-specific antigen and some covariates. The covariates are\n",
    "- lcavol : log-cancer volume\n",
    "-  lweight : log-prostate weight\n",
    "-  age : age of patient\n",
    "-  lbhp : log-amount of benign hyperplasia\n",
    "-  svi : seminal vesicle invasion\n",
    "-  lcp : log-capsular penetration\n",
    "-  gleason : Gleason Score,\n",
    "-  lpsa is the response variable, log-psa."
   ]
  },
  {
   "cell_type": "code",
   "execution_count": 12,
   "metadata": {},
   "outputs": [],
   "source": [
    "%matplotlib inline\n",
    "import pickle\n",
    "import matplotlib.pyplot as plt\n",
    "import numpy as np\n",
    "from sklearn import linear_model"
   ]
  },
  {
   "cell_type": "code",
   "execution_count": 13,
   "metadata": {},
   "outputs": [
    {
     "name": "stdout",
     "output_type": "stream",
     "text": [
      "Train data :  (7, 60)   (60,)\n",
      "Test data :  (7, 37)   (37,)\n"
     ]
    }
   ],
   "source": [
    "fin = open('data2.pkl', 'rb')\n",
    "xtrain = pickle.load(fin)\n",
    "ytrain = pickle.load(fin)\n",
    "Xtest = pickle.load(fin)\n",
    "Ytest = pickle.load(fin)\n",
    "fin.close()\n",
    "\n",
    "print('Train data : ', xtrain.shape, ' ', ytrain.shape)\n",
    "print('Test data : ', Xtest.shape, ' ', Ytest.shape)"
   ]
  },
  {
   "cell_type": "markdown",
   "metadata": {},
   "source": [
    "### Linear Regression\n",
    "\n",
    "Using the program of Part 1, compute the linear regression weight $w$\n",
    "\n",
    "$$y = g(x) = W^T x =\\sum_{d=0}^7 w_d x_d$$\n",
    "with $x_0 = 1$\n",
    "\n",
    "The linear regression consists in finding the parameters $W$ which minimizes the \n",
    "quadratic error:\n",
    "$$E(W) = \\frac{1}{60}\\sum_{i=1}^{60}\\left(g(x_i) - y_i\\right)^2$$\n",
    "\n",
    "The vector $W$ which minimize $E(W)$ is defined as follow:\n",
    "$$W = (X X^T)^{-1}X Y$$\n",
    "\n",
    "Compute the vector $W$ wich minimize $E(W)$ :\n",
    "- Compute $w$ using the exact solution\n",
    "- Compute the error on test data"
   ]
  },
  {
   "cell_type": "code",
   "execution_count": 14,
   "metadata": {},
   "outputs": [
    {
     "name": "stdout",
     "output_type": "stream",
     "text": [
      "[-1.37427705  0.40461954  0.52246673 -0.02499738  0.16200821 -0.74830121\n",
      " -0.08828183  0.38558413]\n"
     ]
    }
   ],
   "source": [
    "X=np.vstack((np.ones(xtrain.shape[1]),xtrain))\n",
    "W=np.linalg.inv(X @ X.T) @ X @ ytrain\n",
    "print(W)"
   ]
  },
  {
   "cell_type": "markdown",
   "metadata": {},
   "source": [
    "- Check that you obtain the same $W$ with sklean.linear_model.LinearRegression?"
   ]
  },
  {
   "cell_type": "code",
   "execution_count": 15,
   "metadata": {},
   "outputs": [
    {
     "name": "stdout",
     "output_type": "stream",
     "text": [
      "A =  [[ 0.40461954  0.52246673 -0.02499738  0.16200821 -0.74830121 -0.08828183\n",
      "   0.38558413]]\n"
     ]
    }
   ],
   "source": [
    "from sklearn.linear_model import LinearRegression\n",
    "reg = LinearRegression().fit(xtrain.T, ytrain.reshape((60,1)))\n",
    "print(\"A = \", reg.coef_)"
   ]
  },
  {
   "cell_type": "code",
   "execution_count": 16,
   "metadata": {},
   "outputs": [
    {
     "name": "stdout",
     "output_type": "stream",
     "text": [
      "[-1.37427705]\n"
     ]
    }
   ],
   "source": [
    "print(reg.intercept_)"
   ]
  },
  {
   "cell_type": "markdown",
   "metadata": {},
   "source": [
    "### Ridge regression\n",
    "\n",
    "The ridge regression consists in finding the parameters $W$ which minimizes:\n",
    "$$\\frac{1}{60}\\sum_{i=1}^{60}\\left(W^T x_i - y_i\\right)^2 + \\alpha \\|W\\|_2^2$$ \n",
    "\n",
    "- Using linear_model.Ridge and $\\alpha = 0.$, check that you obtain the same $W$ as linear regression"
   ]
  },
  {
   "cell_type": "code",
   "execution_count": 17,
   "metadata": {},
   "outputs": [
    {
     "name": "stdout",
     "output_type": "stream",
     "text": [
      "W = [ 0.40461954  0.52246673 -0.02499738  0.16200821 -0.74830121 -0.08828183\n",
      "  0.38558413]\n",
      "Erreur =  2.8641499657014404\n"
     ]
    }
   ],
   "source": [
    "lridge = linear_model.Ridge(alpha = 0.)\n",
    "\n",
    "lridge.fit(xtrain.T, ytrain)\n",
    "print('W =', lridge.coef_)\n",
    "e = np.mean((lridge.predict(Xtest.T) - Ytest) ** 2)\n",
    "print('Erreur = ', e)"
   ]
  },
  {
   "cell_type": "markdown",
   "metadata": {},
   "source": [
    "In this part, we will check the influence of $\\alpha$ on the solution of the linear regression\n",
    "\n",
    "- Train a ridge regression with different values of $\\alpha$ = np.logspace(-5, 5, 200), save the values of W, Mean squared errors on train and test data."
   ]
  },
  {
   "cell_type": "code",
   "execution_count": 18,
   "metadata": {},
   "outputs": [
    {
     "name": "stdout",
     "output_type": "stream",
     "text": [
      "[ 8.17244409e-01  3.51215118e+00  6.25166667e+01  1.75116900e-02\n",
      "  3.33333333e-02 -7.34113259e-01  6.58333333e+00] [1.01380008 0.40245966 7.38126382 1.4165258  0.17950549 1.04039938\n",
      " 0.69020931]\n",
      "1.8097563316666665\n",
      "[-1.85037171e-17  3.70074342e-16  1.17036011e-16 -1.48029737e-17\n",
      " -2.96059473e-17  1.66533454e-16  3.51570624e-16] [1. 1. 1. 1. 1. 1. 1.]\n",
      "1.8133642735544223e-16\n"
     ]
    }
   ],
   "source": [
    "# Data Normalisation\n",
    "## Compute Mean and Standard deviation of input features\n",
    "mx = xtrain.mean(axis=-1)\n",
    "sx = xtrain.std(axis=-1)\n",
    "## Compute Mean of target \n",
    "my = ytrain.mean()\n",
    "print(mx, sx)\n",
    "print(my)\n",
    "\n",
    "## Normalize train and test input feature\n",
    "xtrainN = (xtrain - mx.reshape((xtrain.shape[0], 1))) / sx.reshape((xtrain.shape[0], 1))\n",
    "XtestN = (Xtest - mx.reshape((xtrain.shape[0], 1))) / sx.reshape((xtrain.shape[0], 1))\n",
    "\n",
    "## Center target Values\n",
    "ytrainN = (ytrain - my)\n",
    "YtestN = (Ytest - my)\n",
    "\n",
    "# check mean and std of normalized data \n",
    "mxn = xtrainN.mean(axis=-1)\n",
    "sxn = xtrainN.std(axis=-1)\n",
    "myn = ytrainN.mean()\n",
    "print(mxn, sxn)\n",
    "print(myn)"
   ]
  },
  {
   "cell_type": "code",
   "execution_count": 19,
   "metadata": {},
   "outputs": [
    {
     "name": "stdout",
     "output_type": "stream",
     "text": [
      "[ 8.17244409e-01  3.51215118e+00  6.25166667e+01  1.75116900e-02\n",
      "  3.33333333e-02 -7.34113259e-01  6.58333333e+00] [1.02779060e+00 1.61973781e-01 5.44830556e+01 2.00654534e+00\n",
      " 3.22222222e-02 1.08243087e+00 4.76388889e-01]\n",
      "[1.80975633]\n",
      "0.80431517264015\n"
     ]
    }
   ],
   "source": [
    "# Using StandardScaler\n",
    "from sklearn.preprocessing import StandardScaler\n",
    "scalerx = StandardScaler()\n",
    "scalery = StandardScaler(with_std=False)\n",
    "\n",
    "xtrainN = scalerx.fit_transform(xtrain.T)\n",
    "ytrainN = scalery.fit_transform(ytrain.reshape(-1, 1)).ravel()\n",
    "print(scalerx.mean_, scalerx.var_)\n",
    "print(scalery.mean_)\n",
    "\n",
    "XtestN = scalerx.transform(Xtest.T)\n",
    "YtestN = scalery.transform(Ytest.reshape(-1, 1)).ravel()\n",
    "print(ytrainN.std())"
   ]
  },
  {
   "cell_type": "code",
   "execution_count": 20,
   "metadata": {},
   "outputs": [
    {
     "name": "stdout",
     "output_type": "stream",
     "text": [
      "(2, 200)\n",
      "(7, 200)\n"
     ]
    }
   ],
   "source": [
    "alphas = np.logspace(-5, 5, 200)\n",
    "e=[]\n",
    "w=[]\n",
    "for a in alphas:\n",
    "    rr = linear_model.Ridge(alpha=a)\n",
    "    rr.fit(xtrainN, ytrainN)\n",
    "    yp = rr.predict(xtrainN)\n",
    "    e1 = np.mean((ytrainN - yp)**2)\n",
    "    ytp = rr.predict(XtestN)\n",
    "    e2 = np.mean((YtestN - ytp)**2)\n",
    "    e.append(np.array([e1, e2]))\n",
    "    w.append(rr.coef_)\n",
    "\n",
    "e=np.array(e).T\n",
    "w=np.array(w).T\n",
    "print(e.shape)\n",
    "print(w.shape)"
   ]
  },
  {
   "cell_type": "markdown",
   "metadata": {},
   "source": [
    "- Plot how evolve each $W_i$ through the sequence of $\\alpha$ values."
   ]
  },
  {
   "cell_type": "code",
   "execution_count": 21,
   "metadata": {},
   "outputs": [
    {
     "data": {
      "image/png": "[encoded data removed]",
      "text/plain": [
       "<Figure size 432x288 with 1 Axes>"
      ]
     },
     "metadata": {
      "needs_background": "light"
     },
     "output_type": "display_data"
    }
   ],
   "source": [
    "for i in range(7):\n",
    "    plt.semilogx(alphas, w[i, :])\n",
    "\n",
    "plt.show()"
   ]
  },
  {
   "cell_type": "markdown",
   "metadata": {},
   "source": [
    "- Plot how evolve the mean square error on train and test data through the sequence of $\\alpha$ values."
   ]
  },
  {
   "cell_type": "code",
   "execution_count": 22,
   "metadata": {},
   "outputs": [
    {
     "data": {
      "image/png": "[encoded data removed]",
      "text/plain": [
       "<Figure size 432x288 with 1 Axes>"
      ]
     },
     "metadata": {
      "needs_background": "light"
     },
     "output_type": "display_data"
    }
   ],
   "source": [
    "# Plot Mean Squared Error on train data\n",
    "plt.semilogx(alphas, e[0, :], color = 'blue')\n",
    "# Plot Mean Squared Error on test data\n",
    "plt.semilogx(alphas, e[1, :], color = 'red')\n",
    "\n",
    "plt.show()"
   ]
  },
  {
   "cell_type": "markdown",
   "metadata": {},
   "source": [
    "- Conclude? (Which is the best value for $\\alpha$)"
   ]
  },
  {
   "cell_type": "markdown",
   "metadata": {},
   "source": [
    "- the best $\\alpha$ = $\\alpha^*$ should be the optimum of the red curve\n",
    "- foreach $\\alpha < \\alpha^*$ you are in the overfitting case\n",
    "- foreach $\\alpha > \\alpha^*$ you are in the underfitting case\n",
    "- you obtain the best generalization error for $\\alpha^*$"
   ]
  },
  {
   "cell_type": "markdown",
   "metadata": {},
   "source": [
    "### Lasso regression\n",
    "\n",
    "The ridge regression consists in finding the parameters $W$ which minimizes:\n",
    "$$\\frac{1}{2 \\times 60}\\sum_{i=1}^{60}\\left(W^T x_i - y_i\\right)^2 + \\alpha \\|W\\|_1$$\n",
    "\n",
    "- Using linear_model.Lasso and $\\alpha = 0.$, check that you obtain the same $W$ as linear regression"
   ]
  },
  {
   "cell_type": "code",
   "execution_count": 23,
   "metadata": {},
   "outputs": [
    {
     "name": "stdout",
     "output_type": "stream",
     "text": [
      "1e-05\n"
     ]
    }
   ],
   "source": [
    "print(alphas[0])"
   ]
  },
  {
   "cell_type": "code",
   "execution_count": 24,
   "metadata": {},
   "outputs": [
    {
     "name": "stdout",
     "output_type": "stream",
     "text": [
      "[ 0.40461954  0.52246673 -0.02499738  0.16200821 -0.74830121 -0.08828183\n",
      "  0.38558413]\n",
      "Erreur =  2.8641499657014413\n"
     ]
    },
    {
     "name": "stderr",
     "output_type": "stream",
     "text": [
      "/var/folders/75/1cw24wqn0nl920j2y9rvvgj80000gn/T/ipykernel_13870/3177897813.py:1: UserWarning: With alpha=0, this algorithm does not converge well. You are advised to use the LinearRegression estimator\n",
      "  rr = linear_model.Lasso(alpha=0).fit(xtrain.T, ytrain)\n",
      "/Users/reda/pythonEnv/Py39Sys/lib/python3.9/site-packages/sklearn/linear_model/_coordinate_descent.py:530: UserWarning: Coordinate descent with no regularization may lead to unexpected results and is discouraged.\n",
      "  model = cd_fast.enet_coordinate_descent(\n",
      "/Users/reda/pythonEnv/Py39Sys/lib/python3.9/site-packages/sklearn/linear_model/_coordinate_descent.py:530: ConvergenceWarning: Objective did not converge. You might want to increase the number of iterations. Duality gap: 8.633246593799855, tolerance: 0.003881537381634925\n",
      "  model = cd_fast.enet_coordinate_descent(\n"
     ]
    }
   ],
   "source": [
    "rr = linear_model.Lasso(alpha=0).fit(xtrain.T, ytrain)\n",
    "print(rr.coef_)\n",
    "e = np.mean((rr.predict(Xtest.T) - Ytest) ** 2)\n",
    "print('Erreur = ', e)"
   ]
  },
  {
   "cell_type": "markdown",
   "metadata": {},
   "source": [
    "In this part, we will check the influence of $\\alpha$ on the solution of the linear regression\n",
    "\n",
    "- Train a Lasso regression with different values of $\\alpha$ = np.logspace(-5, 5, 200), save the values of W, Mean squared errors on train and test data."
   ]
  },
  {
   "cell_type": "code",
   "execution_count": 25,
   "metadata": {},
   "outputs": [
    {
     "name": "stdout",
     "output_type": "stream",
     "text": [
      "(2, 200)\n",
      "(7, 200)\n"
     ]
    }
   ],
   "source": [
    "alphas = np.logspace(-5, 5, 200)\n",
    "e=[]\n",
    "w=[]\n",
    "for a in alphas:\n",
    "    rr = linear_model.Lasso(alpha=a)\n",
    "    rr.fit(xtrainN, ytrainN)\n",
    "    yp = rr.predict(xtrainN)\n",
    "    e1 = np.mean((ytrainN - yp)**2)\n",
    "    ytp = rr.predict(XtestN)\n",
    "    e2 = np.mean((YtestN - ytp)**2)\n",
    "    e.append(np.array([e1, e2]))\n",
    "    w.append(rr.coef_)\n",
    "\n",
    "e=np.array(e).T\n",
    "w=np.array(w).T\n",
    "print(e.shape)\n",
    "print(w.shape)"
   ]
  },
  {
   "cell_type": "markdown",
   "metadata": {},
   "source": [
    "- Plot how evolve each $W_i$ through the sequence of $\\alpha$ values."
   ]
  },
  {
   "cell_type": "code",
   "execution_count": 26,
   "metadata": {},
   "outputs": [
    {
     "data": {
      "image/png": "[encoded data removed]",
      "text/plain": [
       "<Figure size 432x288 with 1 Axes>"
      ]
     },
     "metadata": {
      "needs_background": "light"
     },
     "output_type": "display_data"
    }
   ],
   "source": [
    "for i in range(7):\n",
    "    plt.semilogx(alphas, w[i, :])\n",
    "\n",
    "plt.show()"
   ]
  },
  {
   "cell_type": "markdown",
   "metadata": {},
   "source": [
    "- Plot how evolve the mean square error on train and test data through the sequence of $\\alpha$ values."
   ]
  },
  {
   "cell_type": "code",
   "execution_count": 27,
   "metadata": {},
   "outputs": [
    {
     "data": {
      "image/png": "[encoded data removed]",
      "text/plain": [
       "<Figure size 432x288 with 1 Axes>"
      ]
     },
     "metadata": {
      "needs_background": "light"
     },
     "output_type": "display_data"
    }
   ],
   "source": [
    "# Plot Mean Squared Error on train data\n",
    "plt.semilogx(alphas, e[0, :], color = 'blue')\n",
    "# Plot Mean Squared Error on train data\n",
    "plt.semilogx(alphas, e[1, :], color = 'red')\n",
    "\n",
    "plt.show()"
   ]
  },
  {
   "cell_type": "markdown",
   "metadata": {},
   "source": [
    "- Conclude? (Which is the best value for $\\alpha$"
   ]
  },
  {
   "cell_type": "markdown",
   "metadata": {},
   "source": [
    "- the best $\\alpha$ = $\\alpha^*$ should be the optimum of the red curve\n",
    "- foreach $\\alpha < \\alpha^*$ you are in the overfitting case\n",
    "- foreach $\\alpha > \\alpha^*$ you are in the underfitting case\n",
    "- you obtain the best generalization error for $\\alpha^*$"
   ]
  },
  {
   "cell_type": "markdown",
   "metadata": {},
   "source": [
    "- Compare the result with ridge solution?"
   ]
  },
  {
   "cell_type": "markdown",
   "metadata": {},
   "source": [
    "We have better generalization error for the Lasso Method in this case."
   ]
  }
 ],
 "metadata": {
  "kernelspec": {
   "display_name": "Py39tf2",
   "language": "python",
   "name": "py39tf2"
  },
  "language_info": {
   "codemirror_mode": {
    "name": "ipython",
    "version": 3
   },
   "file_extension": ".py",
   "mimetype": "text/x-python",
   "name": "python",
   "nbconvert_exporter": "python",
   "pygments_lexer": "ipython3",
   "version": "3.9.16"
  }
 },
 "nbformat": 4,
 "nbformat_minor": 2
}
