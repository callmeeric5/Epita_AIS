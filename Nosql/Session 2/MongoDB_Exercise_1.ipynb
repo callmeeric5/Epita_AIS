{
  "cells": [
    {
      "cell_type": "markdown",
      "metadata": {
        "id": "XnER8VGpwux-"
      },
      "source": [
        "## MongoDB Exercise"
      ]
    },
    {
      "cell_type": "markdown",
      "metadata": {
        "id": "vL-JKT1Bx2DB"
      },
      "source": [
        "### Basic MongoDB Queries"
      ]
    },
    {
      "cell_type": "markdown",
      "metadata": {
        "id": "W8x2yx88x5ZV"
      },
      "source": [
        "### Exercise 1 💻\n",
        "\n",
        "HR has sent over new employee information.\n",
        "Insert the new data into the employee_info collection, in the employee_db database.\n",
        "\n",
        "The data is first shown in tabular format followed by JSON object format\n",
        "\n",
        "```\n",
        "{\n",
        "  \"empno\": 1,\n",
        "  \"fname\": \"charlie\",\n",
        "  \"lname\": \"rodgers\",\n",
        "  \"role\": \"manager\",\n",
        "  \"departments\": [\"sales\", \"marketing\"]\n",
        "},\n",
        "{\n",
        "  \"empno\": 2,\n",
        "  \"fname\": \"sunil\",\n",
        "  \"lname\": \"chakraborty\",\n",
        "  \"role\": \"team lead\",\n",
        "  \"departments\": [\"marketing\", \"finance\"]\n",
        "},\n",
        "{\n",
        "  \"empno\": 3,\n",
        "  \"fname\": \"sally\",\n",
        "  \"lname\": \"jones\",\n",
        "  \"role\": \"team lead\",\n",
        "  \"departments\": [\"hr\", \"admin\"]\n",
        "},\n",
        "{\n",
        "  \"empno\": 4,\n",
        "  \"fname\": \"ben\",\n",
        "  \"lname\": \"bradley\",\n",
        "  \"role\": \"manager\",\n",
        "  \"departments\": [\"legal\"]\n",
        "},\n",
        "{\n",
        "  \"empno\": 5,\n",
        "  \"fname\": \"radha\",\n",
        "  \"lname\": \"desai\",\n",
        "  \"role\": \"worker\"\n",
        "},\n",
        "{\n",
        "  \"empno\": 6,\n",
        "  \"fname\": \"shruti\",\n",
        "  \"lname\": \"patel\",\n",
        "  \"role\": \"worker\"\n",
        "},\n",
        "{\n",
        "  \"empno\": 7,\n",
        "  \"fname\": \"mahesh\",\n",
        "  \"lname\": \"iyer\",\n",
        "  \"role\": \"manager\"\n",
        "}\n",
        "```"
      ]
    },
    {
      "cell_type": "code",
      "execution_count": null,
      "metadata": {
        "colab": {
          "base_uri": "https://localhost:8080/"
        },
        "id": "kfEuPnbMv4o_",
        "outputId": "fdf74516-4251-4b2c-bf17-2c62d55ebae0"
      },
      "outputs": [],
      "source": [
        "# Install the dependencies\n"
      ]
    },
    {
      "cell_type": "code",
      "execution_count": null,
      "metadata": {
        "id": "XnT269vgv-DU"
      },
      "outputs": [],
      "source": [
        "# Import the required libraries\n"
      ]
    },
    {
      "cell_type": "code",
      "execution_count": null,
      "metadata": {
        "colab": {
          "base_uri": "https://localhost:8080/"
        },
        "id": "tGLnoes7wNii",
        "outputId": "43d0b246-3c59-4992-e932-a4743b91a423"
      },
      "outputs": [],
      "source": [
        "# Get the colab otebook IP\n"
      ]
    },
    {
      "cell_type": "code",
      "execution_count": null,
      "metadata": {
        "colab": {
          "base_uri": "https://localhost:8080/"
        },
        "id": "ibAu0HEny8Tf",
        "outputId": "9fa6347c-dbf8-4337-8518-3227c5988984"
      },
      "outputs": [],
      "source": [
        "# Write the Solution\n",
        "\n",
        "# Hint:\n",
        "# 1. Connect to the Atlas cluster\n",
        "# 2. Get the database object\n",
        "# 3. Get the collection object\n",
        "# 4. Insert the data into the collection\n"
      ]
    },
    {
      "cell_type": "markdown",
      "metadata": {
        "id": "TVEvKwuizQRG"
      },
      "source": [
        "### Exercise 2 💻\n",
        "\n",
        "You've got some more interesting employees!\n",
        "Convert the following table to JSON and insert it into our employee_info collection."
      ]
    },
    {
      "cell_type": "markdown",
      "metadata": {
        "id": "yOl-tFe6zh9i"
      },
      "source": []
    },
    {
      "cell_type": "markdown",
      "metadata": {
        "id": "tAYXk9pH0bU2"
      },
      "source": [
        "Name | Title | Interesting Fact | Address\n",
        "--- | --- | --- | ---\n",
        "Harry Potter | Wizard | I kicked the sh*t out of Voldemort! | Hogwarts castle\n",
        "Groot | Superhero | I can only say 3 words in this order: 'I am Groot'! | Planet X\n",
        "Pikachu | Electric type pokemon | Want to see my ThuderBolt and Quick Attack?! | Pallet Town"
      ]
    },
    {
      "cell_type": "code",
      "execution_count": null,
      "metadata": {
        "colab": {
          "base_uri": "https://localhost:8080/"
        },
        "id": "CufR4ijw3CLQ",
        "outputId": "3405fd74-1f06-4a30-fe50-a9ba1a05c7db"
      },
      "outputs": [],
      "source": [
        "# Write the Solution\n",
        "\n",
        "# Hint:\n",
        "# 1. Use the same collection object\n",
        "# 2. Insert the data into the collection\n",
        "\n"
      ]
    },
    {
      "cell_type": "markdown",
      "metadata": {
        "id": "4Hwq9nLJ0xoa"
      },
      "source": [
        "### Exercise 3 💻\n",
        "\n",
        "Get the number of documents in the listingsAndReviews collection, in the sample_airbnb dataset.\n",
        "\n",
        "Insert the result in the database \"results\", collection \"exercise_1\"\n",
        "\n",
        "The shape of the result is:\n",
        "```\n",
        "{\n",
        "  exercise_number: 3,\n",
        "  result : ___\n",
        "}\n",
        "```\n"
      ]
    },
    {
      "cell_type": "code",
      "execution_count": null,
      "metadata": {
        "colab": {
          "base_uri": "https://localhost:8080/"
        },
        "id": "-2x76kI43eXZ",
        "outputId": "3cdc902f-6d7e-4ad3-e933-229fbfcf7cdb"
      },
      "outputs": [],
      "source": [
        "# Write the Solution\n",
        "\n",
        "# Hint:\n",
        "# 1. Use the existing database connection\n",
        "# 2. Get the database and collection objects\n",
        "# 3. Use the count_documents method\n",
        "# 4. Get the result database and collection objects\n",
        "# 5. Insert the result into the collection\n"
      ]
    },
    {
      "cell_type": "markdown",
      "metadata": {
        "id": "NEOLi_HA51eC"
      },
      "source": [
        "### Exercise 4 💻\n",
        "\n",
        "Get the number of unique property_type in the listingsAndReviews collection, in the sample_airbnb dataset.\n",
        "\n",
        "Insert the result in the database \"results\", collection \"exercise_1\"\n",
        "\n",
        "The shape of the result is:\n",
        "```\n",
        "{\n",
        "  exercise_number: 4,\n",
        "  result : ___\n",
        "}\n",
        "```\n"
      ]
    },
    {
      "cell_type": "code",
      "execution_count": null,
      "metadata": {
        "colab": {
          "base_uri": "https://localhost:8080/"
        },
        "id": "jXBjXEwD6Uuq",
        "outputId": "4a9f30b4-eed9-43fd-f75d-2fa9161194bf"
      },
      "outputs": [],
      "source": [
        "# Write the Solution\n",
        "\n",
        "# Hint\n",
        "# 1. Use the distinct method\n",
        "# 2. Use the len method from python if necessary\n"
      ]
    },
    {
      "cell_type": "markdown",
      "metadata": {
        "id": "dKAeEUmX7lR7"
      },
      "source": [
        "### Exercise 5 💻\n",
        "\n",
        "Get the number of documents if a property_type value of \"Bed and breakfast\".\n",
        "\n",
        "Insert the result in the database \"results\", collection \"exercise_1\"\n",
        "\n",
        "The shape of the result is:\n",
        "```\n",
        "{\n",
        "  exercise_number: 5,\n",
        "  result : ___\n",
        "}\n",
        "```\n"
      ]
    },
    {
      "cell_type": "code",
      "execution_count": null,
      "metadata": {
        "colab": {
          "base_uri": "https://localhost:8080/"
        },
        "id": "5yAG_Xfg8E99",
        "outputId": "aed2f480-e65c-440e-8736-d242ae37b1ff"
      },
      "outputs": [],
      "source": [
        "# Write the Solution\n"
      ]
    },
    {
      "cell_type": "markdown",
      "metadata": {
        "id": "G7QCYCdh8I8K"
      },
      "source": [
        "### Exercise 6 💻\n",
        "\n",
        "Get the number of documents with a property_type value of \"Bed and breakfast\" and a cancellation_policy value of \"flexible\".\n",
        "\n",
        "Insert the result in the database \"results\", collection \"exercise_1\"\n",
        "\n",
        "The shape of the result is:\n",
        "```\n",
        "{\n",
        "  exercise_number: 6,\n",
        "  result : ___\n",
        "}\n",
        "```\n"
      ]
    },
    {
      "cell_type": "code",
      "execution_count": null,
      "metadata": {
        "colab": {
          "base_uri": "https://localhost:8080/"
        },
        "id": "5K63M8BT8ojK",
        "outputId": "15c907bf-fe01-4f5a-bfb5-72e86755e6e6"
      },
      "outputs": [],
      "source": [
        "# Write the Solution\n"
      ]
    },
    {
      "cell_type": "markdown",
      "metadata": {
        "id": "iyAu80Re8q62"
      },
      "source": [
        "### Exercise 7 💻\n",
        "\n",
        "Print one document from the listingsAndReviews collection"
      ]
    },
    {
      "cell_type": "code",
      "execution_count": null,
      "metadata": {
        "colab": {
          "base_uri": "https://localhost:8080/"
        },
        "id": "jMmBGptO9M_l",
        "outputId": "c44fa8ec-01d5-48ae-c282-09521f41f581"
      },
      "outputs": [],
      "source": [
        "# Write the Solution\n"
      ]
    },
    {
      "cell_type": "markdown",
      "metadata": {
        "id": "Y7MKtf0z9Owi"
      },
      "source": [
        "Exercise 8 💻\n",
        "\n",
        "The result contains a lot of information.\n",
        "\n",
        "Let's filter the output, and only show:\n",
        "- _id\n",
        "- name\n",
        "- property_type\n",
        "- room_type\n",
        "- address"
      ]
    },
    {
      "cell_type": "code",
      "execution_count": null,
      "metadata": {
        "colab": {
          "base_uri": "https://localhost:8080/"
        },
        "id": "cRDYOkljBI55",
        "outputId": "f28d8a03-3508-416f-94c4-36e6ad69f528"
      },
      "outputs": [],
      "source": [
        "# Write the Solution\n"
      ]
    },
    {
      "cell_type": "markdown",
      "metadata": {
        "id": "oLM0MPFM9D5u"
      },
      "source": [
        "Exercise 9 💻\n",
        "\n",
        "Get the same details for one listing in the United States"
      ]
    },
    {
      "cell_type": "code",
      "execution_count": null,
      "metadata": {
        "colab": {
          "base_uri": "https://localhost:8080/"
        },
        "id": "WXw0Eprl9DcZ",
        "outputId": "7c8a1877-b667-4ec0-f665-c55bd1128158"
      },
      "outputs": [],
      "source": [
        "# Write the Solution\n"
      ]
    },
    {
      "cell_type": "markdown",
      "metadata": {
        "id": "UXsYTggoDXha"
      },
      "source": [
        "Exercise 10 💻\n",
        "\n",
        "Get one listing in the United States, with \"Hot Water\" and \"Iron\" in amenities.\n",
        "\n",
        "You need to show the amenities information in the result as well."
      ]
    },
    {
      "cell_type": "code",
      "execution_count": null,
      "metadata": {
        "colab": {
          "base_uri": "https://localhost:8080/"
        },
        "id": "Qw_BI4cVEh1J",
        "outputId": "a77044c8-23c0-4fa2-ba6c-559625f6b8f7"
      },
      "outputs": [],
      "source": [
        "# Write the Solution\n"
      ]
    },
    {
      "cell_type": "markdown",
      "metadata": {
        "id": "wEMoicXIEkP1"
      },
      "source": [
        "### Exercise 11 💻\n",
        "\n",
        "Get one listing in the United States, with \"Internet\"as the second element in the amenities list.\n",
        "\n",
        "You need to show the amenities information in the result as well."
      ]
    },
    {
      "cell_type": "code",
      "execution_count": null,
      "metadata": {
        "colab": {
          "base_uri": "https://localhost:8080/"
        },
        "id": "bpyozQTtGIK_",
        "outputId": "27e259d0-fc8b-47f4-80e4-f1b46a6ca580"
      },
      "outputs": [],
      "source": [
        "# Write the Solution\n"
      ]
    },
    {
      "cell_type": "markdown",
      "metadata": {},
      "source": [
        "### Exercise 12 💻\n",
        "\n",
        "Get the number of listings that `accomodates` more than 8 people."
      ]
    },
    {
      "cell_type": "code",
      "execution_count": null,
      "metadata": {},
      "outputs": [],
      "source": [
        "# Write the solution\n",
        "\n",
        "# Hint\n",
        "# 1. Use the $gt method\n",
        "# 2. Use the `accomodates` field\n"
      ]
    },
    {
      "cell_type": "markdown",
      "metadata": {},
      "source": [
        "### Exercise 13 💻\n",
        "\n",
        "Get the listings where `address.country` is `China`, or with more than 300 reviews `number_of_reviews`"
      ]
    },
    {
      "cell_type": "code",
      "execution_count": null,
      "metadata": {},
      "outputs": [],
      "source": [
        "# Write the solution\n"
      ]
    }
  ],
  "metadata": {
    "colab": {
      "provenance": []
    },
    "kernelspec": {
      "display_name": "Python 3",
      "name": "python3"
    },
    "language_info": {
      "name": "python"
    }
  },
  "nbformat": 4,
  "nbformat_minor": 0
}
