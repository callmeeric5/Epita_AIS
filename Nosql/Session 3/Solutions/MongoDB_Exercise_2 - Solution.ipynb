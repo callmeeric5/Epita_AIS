{
  "cells": [
    {
      "cell_type": "markdown",
      "metadata": {
        "id": "XnER8VGpwux-"
      },
      "source": [
        "## MongoDB Exercise"
      ]
    },
    {
      "cell_type": "markdown",
      "metadata": {
        "id": "vL-JKT1Bx2DB"
      },
      "source": [
        "### MongoDB Updates"
      ]
    },
    {
      "cell_type": "markdown",
      "metadata": {
        "id": "W8x2yx88x5ZV"
      },
      "source": [
        "### Exercise 1 💻\n",
        "\n",
        "Insert the data from `iris.json` into a new collection.\n",
        "To load the data, you can use the following:\n",
        "\n",
        "```python\n",
        "import json\n",
        "\n",
        "with open('iris.json') as file:\n",
        "  data = json.load(file)\n",
        "```"
      ]
    },
    {
      "cell_type": "code",
      "execution_count": 1,
      "metadata": {
        "colab": {
          "base_uri": "https://localhost:8080/"
        },
        "id": "kfEuPnbMv4o_",
        "outputId": "fdf1bb6b-382e-4bf2-d582-34e2de72f24f"
      },
      "outputs": [
        {
          "name": "stdout",
          "output_type": "stream",
          "text": [
            "Collecting pymongo[srv]\n",
            "  Downloading pymongo-4.6.1-cp310-cp310-manylinux_2_17_x86_64.manylinux2014_x86_64.whl (677 kB)\n",
            "\u001b[2K     \u001b[90m━━━━━━━━━━━━━━━━━━━━━━━━━━━━━━━━━━━━━━━━\u001b[0m \u001b[32m677.1/677.1 kB\u001b[0m \u001b[31m4.5 MB/s\u001b[0m eta \u001b[36m0:00:00\u001b[0m\n",
            "\u001b[?25hCollecting dnspython<3.0.0,>=1.16.0 (from pymongo[srv])\n",
            "  Downloading dnspython-2.6.1-py3-none-any.whl (307 kB)\n",
            "\u001b[2K     \u001b[90m━━━━━━━━━━━━━━━━━━━━━━━━━━━━━━━━━━━━━━━━\u001b[0m \u001b[32m307.7/307.7 kB\u001b[0m \u001b[31m29.4 MB/s\u001b[0m eta \u001b[36m0:00:00\u001b[0m\n",
            "\u001b[?25hInstalling collected packages: dnspython, pymongo\n",
            "Successfully installed dnspython-2.6.1 pymongo-4.6.1\n"
          ]
        }
      ],
      "source": [
        "# Install the dependencies\n",
        "!pip install \"pymongo[srv]\""
      ]
    },
    {
      "cell_type": "code",
      "execution_count": 2,
      "metadata": {
        "id": "XnT269vgv-DU"
      },
      "outputs": [],
      "source": [
        "# Import the required libraries\n",
        "from pymongo.mongo_client import MongoClient\n",
        "from pymongo.server_api import ServerApi"
      ]
    },
    {
      "cell_type": "code",
      "execution_count": 3,
      "metadata": {
        "colab": {
          "base_uri": "https://localhost:8080/"
        },
        "id": "tGLnoes7wNii",
        "outputId": "b22366e8-fbac-4f72-b41a-febd5dde1e46"
      },
      "outputs": [
        {
          "name": "stdout",
          "output_type": "stream",
          "text": [
            "104.155.165.7"
          ]
        }
      ],
      "source": [
        "# Get the colab otebook IP\n",
        "!curl ipecho.net/plain"
      ]
    },
    {
      "cell_type": "code",
      "execution_count": 4,
      "metadata": {
        "id": "LUthvNU5Iz0q"
      },
      "outputs": [],
      "source": [
        "import json\n",
        "\n",
        "with open('iris.json') as file:\n",
        "  data = json.load(file)"
      ]
    },
    {
      "cell_type": "code",
      "execution_count": 5,
      "metadata": {
        "colab": {
          "base_uri": "https://localhost:8080/"
        },
        "id": "ibAu0HEny8Tf",
        "outputId": "669a9e19-1978-432d-f503-23ce80e9f09a"
      },
      "outputs": [
        {
          "name": "stdout",
          "output_type": "stream",
          "text": [
            "Pinged your deployment. You successfully connected to MongoDB!\n"
          ]
        },
        {
          "data": {
            "text/plain": [
              "150"
            ]
          },
          "execution_count": 5,
          "metadata": {},
          "output_type": "execute_result"
        }
      ],
      "source": [
        "# Write the Solution\n",
        "\n",
        "# Hint:\n",
        "# 1. Connect to the Atlas cluster\n",
        "# 2. Get the database object\n",
        "# 3. Get the collection object\n",
        "# 4. Insert the data into the collection\n",
        "username = \"\"\n",
        "password = \"\"\n",
        "cluster_url = \"\"\n",
        "\n",
        "uri = f\"mongodb+srv://{username}:{password}@{cluster_url}/?retryWrites=true&w=majority\"\n",
        "\n",
        "# Create a new client and connect to the server\n",
        "client = MongoClient(uri, server_api=ServerApi('1'))\n",
        "\n",
        "# Send a ping to confirm a successful connection\n",
        "try:\n",
        "    client.admin.command('ping')\n",
        "    print(\"Pinged your deployment. You successfully connected to MongoDB!\")\n",
        "except Exception as e:\n",
        "    print(e)\n",
        "\n",
        "collection = client['test']['plants']\n",
        "collection.insert_many(data)\n",
        "collection.count_documents({})"
      ]
    },
    {
      "cell_type": "markdown",
      "metadata": {
        "id": "4Hwq9nLJ0xoa"
      },
      "source": [
        "### Exercise 2 💻\n",
        "\n",
        "Update all plants, add a new field called `price`, with a value of `2`."
      ]
    },
    {
      "cell_type": "code",
      "execution_count": 6,
      "metadata": {
        "colab": {
          "base_uri": "https://localhost:8080/"
        },
        "id": "-2x76kI43eXZ",
        "outputId": "3c04f9bf-f139-419a-c24c-8cbd6afd9faf"
      },
      "outputs": [
        {
          "name": "stdout",
          "output_type": "stream",
          "text": [
            "Before update : \n",
            "{'_id': ObjectId('65d484280584e6b1a55a0490'),\n",
            " 'petalLength': 1.4,\n",
            " 'petalWidth': 0.2,\n",
            " 'sepalLength': 5.1,\n",
            " 'sepalWidth': 3.5,\n",
            " 'species': 'setosa'}\n",
            "After update : \n",
            "{'_id': ObjectId('65d484280584e6b1a55a0490'),\n",
            " 'petalLength': 1.4,\n",
            " 'petalWidth': 0.2,\n",
            " 'price': 2,\n",
            " 'sepalLength': 5.1,\n",
            " 'sepalWidth': 3.5,\n",
            " 'species': 'setosa'}\n"
          ]
        }
      ],
      "source": [
        "# Write the Solution\n",
        "import pprint\n",
        "print('Before update : ')\n",
        "pprint.pprint(collection.find_one({}))\n",
        "\n",
        "collection.update_many({}, {\n",
        "    \"$set\" : {\n",
        "        \"price\" : 2\n",
        "    }\n",
        " })\n",
        "\n",
        "print('After update : ')\n",
        "pprint.pprint(collection.find_one({}))\n"
      ]
    },
    {
      "cell_type": "markdown",
      "metadata": {
        "id": "NEOLi_HA51eC"
      },
      "source": [
        "### Exercise 3 💻\n",
        "\n",
        "Update `setosa` plants, increment their price by `1`."
      ]
    },
    {
      "cell_type": "code",
      "execution_count": 9,
      "metadata": {
        "colab": {
          "base_uri": "https://localhost:8080/"
        },
        "id": "jXBjXEwD6Uuq",
        "outputId": "d7eea46b-1233-4bc5-ece6-1cbb853c113d"
      },
      "outputs": [
        {
          "name": "stdout",
          "output_type": "stream",
          "text": [
            "Before update : \n",
            "{'_id': ObjectId('65d484280584e6b1a55a0490'), 'price': 2, 'species': 'setosa'}\n",
            "After update : \n",
            "{'_id': ObjectId('65d484280584e6b1a55a0490'), 'price': 3, 'species': 'setosa'}\n"
          ]
        }
      ],
      "source": [
        "# Write the Solution\n",
        "print('Before update : ')\n",
        "pprint.pprint(collection.find_one({\n",
        "    \"species\": \"setosa\"\n",
        "}, {\n",
        "    \"species\": 1,\n",
        "    \"price\": 1\n",
        "}))\n",
        "\n",
        "collection.update_many({\n",
        "    \"species\": \"setosa\"\n",
        "}, {\n",
        "    \"$inc\" : {\n",
        "        \"price\" : 1\n",
        "    }\n",
        " })\n",
        "\n",
        "print('After update : ')\n",
        "pprint.pprint(collection.find_one({\n",
        "    \"species\": \"setosa\"\n",
        "}, {\n",
        "    \"species\": 1,\n",
        "    \"price\": 1\n",
        "}))\n"
      ]
    },
    {
      "cell_type": "markdown",
      "metadata": {
        "id": "dKAeEUmX7lR7"
      },
      "source": [
        "### Exercise 4 💻\n",
        "\n",
        "We want to add a promotion on `versicolor` plants, we want to decrease their price by 10%."
      ]
    },
    {
      "cell_type": "code",
      "execution_count": 12,
      "metadata": {
        "colab": {
          "base_uri": "https://localhost:8080/"
        },
        "id": "5yAG_Xfg8E99",
        "outputId": "39fca20a-fba1-46d2-c4b5-968a3a196195"
      },
      "outputs": [
        {
          "name": "stdout",
          "output_type": "stream",
          "text": [
            "Before update : \n",
            "{'_id': ObjectId('65d484280584e6b1a55a04c2'),\n",
            " 'price': 2,\n",
            " 'species': 'versicolor'}\n",
            "After update : \n",
            "{'_id': ObjectId('65d484280584e6b1a55a04c2'),\n",
            " 'price': 1.8,\n",
            " 'species': 'versicolor'}\n"
          ]
        }
      ],
      "source": [
        "# Write the Solution\n",
        "# Write the Solution\n",
        "print('Before update : ')\n",
        "pprint.pprint(collection.find_one({\n",
        "    \"species\": \"versicolor\"\n",
        "}, {\n",
        "    \"species\": 1,\n",
        "    \"price\": 1\n",
        "}))\n",
        "\n",
        "collection.update_many({\n",
        "    \"species\": \"versicolor\"\n",
        "}, {\n",
        "    \"$mul\" : {\n",
        "        \"price\" : 0.9\n",
        "    }\n",
        " })\n",
        "\n",
        "print('After update : ')\n",
        "pprint.pprint(collection.find_one({\n",
        "    \"species\": \"versicolor\"\n",
        "}, {\n",
        "    \"species\": 1,\n",
        "    \"price\": 1\n",
        "}))\n"
      ]
    },
    {
      "cell_type": "markdown",
      "metadata": {
        "id": "G7QCYCdh8I8K"
      },
      "source": [
        "### Exercise 5 💻\n",
        "\n",
        "Load the `menu.json` dataset."
      ]
    },
    {
      "cell_type": "code",
      "execution_count": 15,
      "metadata": {
        "colab": {
          "base_uri": "https://localhost:8080/"
        },
        "id": "5K63M8BT8ojK",
        "outputId": "e497c0b5-ab1b-41db-a09c-3859096a541e"
      },
      "outputs": [
        {
          "name": "stdout",
          "output_type": "stream",
          "text": [
            "[{'available': True,\n",
            "  'category': 'Pizza',\n",
            "  'description': 'Classic pizza with tomato, mozzarella, and basil',\n",
            "  'gluten_free': False,\n",
            "  'ingredients': ['Tomato Sauce', 'Mozzarella Cheese', 'Fresh Basil'],\n",
            "  'item_id': '1',\n",
            "  'item_name': 'Margherita Pizza',\n",
            "  'price': 12.99,\n",
            "  'spiciness_level': 'Mild',\n",
            "  'vegetarian': True},\n",
            " {'available': True,\n",
            "  'category': 'Pasta',\n",
            "  'description': 'Creamy Alfredo pasta with grilled chicken',\n",
            "  'gluten_free': False,\n",
            "  'ingredients': ['Fettuccine Pasta', 'Alfredo Sauce', 'Grilled Chicken'],\n",
            "  'item_id': '2',\n",
            "  'item_name': 'Chicken Alfredo',\n",
            "  'price': 15.99,\n",
            "  'spiciness_level': 'Mild',\n",
            "  'vegetarian': False},\n",
            " {'available': True,\n",
            "  'category': 'Salad',\n",
            "  'description': 'Fresh romaine lettuce with Caesar dressing and croutons',\n",
            "  'gluten_free': False,\n",
            "  'ingredients': ['Romaine Lettuce', 'Caesar Dressing', 'Croutons'],\n",
            "  'item_id': '3',\n",
            "  'item_name': 'Caesar Salad',\n",
            "  'price': 8.99,\n",
            "  'spiciness_level': 'Mild',\n",
            "  'vegetarian': True},\n",
            " {'available': True,\n",
            "  'category': 'Seafood',\n",
            "  'description': 'Grilled salmon fillet with lemon and herbs',\n",
            "  'gluten_free': True,\n",
            "  'ingredients': ['Salmon Fillet', 'Lemon', 'Herbs'],\n",
            "  'item_id': '4',\n",
            "  'item_name': 'Grilled Salmon',\n",
            "  'price': 17.99,\n",
            "  'spiciness_level': 'Mild',\n",
            "  'vegetarian': False},\n",
            " {'available': True,\n",
            "  'category': 'Vegetarian',\n",
            "  'description': 'Assorted vegetables stir-fried in a savory sauce',\n",
            "  'gluten_free': True,\n",
            "  'ingredients': ['Assorted Vegetables', 'Stir-Fry Sauce'],\n",
            "  'item_id': '5',\n",
            "  'item_name': 'Vegetable Stir-Fry',\n",
            "  'price': 11.99,\n",
            "  'spiciness_level': 'Medium',\n",
            "  'vegetarian': True},\n",
            " {'available': True,\n",
            "  'category': 'Burger',\n",
            "  'description': 'Classic hamburger with lettuce, tomato, and cheese',\n",
            "  'gluten_free': False,\n",
            "  'ingredients': ['Beef Patty', 'Lettuce', 'Tomato', 'Cheese'],\n",
            "  'item_id': '6',\n",
            "  'item_name': 'Hamburger',\n",
            "  'price': 9.99,\n",
            "  'spiciness_level': 'Mild',\n",
            "  'vegetarian': False},\n",
            " {'available': True,\n",
            "  'category': 'Dessert',\n",
            "  'description': 'Warm chocolate brownie with vanilla ice cream',\n",
            "  'gluten_free': False,\n",
            "  'ingredients': ['Chocolate Brownie', 'Vanilla Ice Cream'],\n",
            "  'item_id': '7',\n",
            "  'item_name': 'Chocolate Brownie',\n",
            "  'price': 6.99,\n",
            "  'spiciness_level': 'Mild',\n",
            "  'vegetarian': True},\n",
            " {'available': True,\n",
            "  'category': 'Beverage',\n",
            "  'description': 'Refreshing mango smoothie',\n",
            "  'gluten_free': True,\n",
            "  'ingredients': ['Mango', 'Yogurt', 'Honey'],\n",
            "  'item_id': '8',\n",
            "  'item_name': 'Mango Smoothie',\n",
            "  'price': 4.99,\n",
            "  'spiciness_level': 'Non-Spicy',\n",
            "  'vegetarian': True},\n",
            " {'available': True,\n",
            "  'category': 'Appetizer',\n",
            "  'description': 'Crispy chicken tenders with dipping sauce',\n",
            "  'gluten_free': False,\n",
            "  'ingredients': ['Chicken Tenders', 'Dipping Sauce'],\n",
            "  'item_id': '9',\n",
            "  'item_name': 'Chicken Tenders',\n",
            "  'price': 8.99,\n",
            "  'spiciness_level': 'Mild',\n",
            "  'vegetarian': False},\n",
            " {'available': True,\n",
            "  'category': 'Sushi',\n",
            "  'description': 'Assorted sushi rolls with wasabi and soy sauce',\n",
            "  'gluten_free': False,\n",
            "  'ingredients': ['Assorted Sushi Rolls', 'Wasabi', 'Soy Sauce'],\n",
            "  'item_id': '10',\n",
            "  'item_name': 'Sushi Combo',\n",
            "  'price': 18.99,\n",
            "  'spiciness_level': 'Non-Spicy',\n",
            "  'vegetarian': False}]\n"
          ]
        },
        {
          "data": {
            "text/plain": [
              "10"
            ]
          },
          "execution_count": 15,
          "metadata": {},
          "output_type": "execute_result"
        }
      ],
      "source": [
        "# Write the Solution\n",
        "with open('menu.json') as file:\n",
        "  data = json.load(file)\n",
        "\n",
        "pprint.pprint(data)\n",
        "\n",
        "menu = client['test']['menu']\n",
        "menu.insert_many(data)\n",
        "menu.count_documents({})"
      ]
    },
    {
      "cell_type": "markdown",
      "metadata": {
        "id": "iyAu80Re8q62"
      },
      "source": [
        "### Exercise 6 💻\n",
        "\n",
        "Update the `Hamburger`, add `Pickles` to the ingredients list."
      ]
    },
    {
      "cell_type": "code",
      "execution_count": 18,
      "metadata": {
        "colab": {
          "base_uri": "https://localhost:8080/"
        },
        "id": "jMmBGptO9M_l",
        "outputId": "be37753e-6c17-47fc-9484-b2e6cf57190b"
      },
      "outputs": [
        {
          "name": "stdout",
          "output_type": "stream",
          "text": [
            "Before update : \n",
            "{'_id': ObjectId('65d485710584e6b1a55a053f'),\n",
            " 'category': 'Burger',\n",
            " 'ingredients': ['Beef Patty', 'Lettuce', 'Tomato', 'Cheese']}\n",
            "After update : \n",
            "{'_id': ObjectId('65d485710584e6b1a55a053f'),\n",
            " 'category': 'Burger',\n",
            " 'ingredients': ['Beef Patty', 'Lettuce', 'Tomato', 'Cheese', 'Pickles']}\n"
          ]
        }
      ],
      "source": [
        "# Write the Solution\n",
        "print('Before update : ')\n",
        "pprint.pprint(menu.find_one({\n",
        "    \"category\": \"Burger\"\n",
        "}, {\n",
        "    \"category\": 1,\n",
        "    \"ingredients\": 1\n",
        "}))\n",
        "\n",
        "menu.update_one({\n",
        "    \"category\": \"Burger\"\n",
        "}, {\n",
        "    \"$push\" : {\n",
        "        \"ingredients\" : \"Pickles\"\n",
        "    }\n",
        " })\n",
        "\n",
        "print('After update : ')\n",
        "pprint.pprint(menu.find_one({\n",
        "    \"category\": \"Burger\"\n",
        "}, {\n",
        "    \"category\": 1,\n",
        "    \"ingredients\": 1\n",
        "}))\n"
      ]
    },
    {
      "cell_type": "markdown",
      "metadata": {
        "id": "Y7MKtf0z9Owi"
      },
      "source": [
        "Exercise 7 💻\n",
        "\n",
        "Update the `Chicken Tenders`, add `Dipping Sauce` to the ingredients list if it doesn't exist already (Using a single query)."
      ]
    },
    {
      "cell_type": "code",
      "execution_count": 20,
      "metadata": {
        "colab": {
          "base_uri": "https://localhost:8080/"
        },
        "id": "cRDYOkljBI55",
        "outputId": "9fe20d4b-7faf-48f7-9832-b6a6ad91f581"
      },
      "outputs": [
        {
          "name": "stdout",
          "output_type": "stream",
          "text": [
            "Before update : \n",
            "{'_id': ObjectId('65d485710584e6b1a55a0542'),\n",
            " 'ingredients': ['Chicken Tenders', 'Dipping Sauce'],\n",
            " 'item_name': 'Chicken Tenders'}\n",
            "After update : \n",
            "{'_id': ObjectId('65d485710584e6b1a55a0542'),\n",
            " 'ingredients': ['Chicken Tenders', 'Dipping Sauce'],\n",
            " 'item_name': 'Chicken Tenders'}\n"
          ]
        }
      ],
      "source": [
        "# Write the Solution\n",
        "# Write the Solution\n",
        "print('Before update : ')\n",
        "pprint.pprint(menu.find_one({\n",
        "    \"item_name\": \"Chicken Tenders\"\n",
        "}, {\n",
        "    \"item_name\": 1,\n",
        "    \"ingredients\": 1\n",
        "}))\n",
        "\n",
        "menu.update_one({\n",
        "    \"item_name\": \"Chicken Tenders\"\n",
        "}, {\n",
        "    \"$addToSet\" : {\n",
        "        \"ingredients\" : \"Dipping Sauce\"\n",
        "    }\n",
        " })\n",
        "\n",
        "print('After update : ')\n",
        "pprint.pprint(menu.find_one({\n",
        "    \"item_name\": \"Chicken Tenders\"\n",
        "}, {\n",
        "    \"item_name\": 1,\n",
        "    \"ingredients\": 1\n",
        "}))\n"
      ]
    },
    {
      "cell_type": "markdown",
      "metadata": {
        "id": "m1LxL_vjtpjJ"
      },
      "source": [
        "### Exercise 8 💻\n",
        "\n",
        "Cleanup the database, remove all items that we added."
      ]
    },
    {
      "cell_type": "code",
      "execution_count": 22,
      "metadata": {
        "colab": {
          "base_uri": "https://localhost:8080/"
        },
        "id": "bMvZ-d_YtpjK",
        "outputId": "7402ab3f-fd2b-4ae7-a4d3-fcb0e2caa944"
      },
      "outputs": [
        {
          "data": {
            "text/plain": [
              "DeleteResult({'n': 150, 'electionId': ObjectId('7fffffff00000000000000fd'), 'opTime': {'ts': Timestamp(1708426847, 162), 't': 253}, 'ok': 1.0, '$clusterTime': {'clusterTime': Timestamp(1708426847, 163), 'signature': {'hash': b\"\\xd9F\\\\\\xab\\x00O\\xadF'\\xb9\\xa8\\xd9\\xa4\\xbdw\\xcc\\xcf\\x91\\xb3\\x94\", 'keyId': 7304290471868628994}}, 'operationTime': Timestamp(1708426847, 162)}, acknowledged=True)"
            ]
          },
          "execution_count": 22,
          "metadata": {},
          "output_type": "execute_result"
        }
      ],
      "source": [
        "# Write the solution\n",
        "\n",
        "# Delete content of menu collection\n",
        "menu.delete_many({})\n",
        "\n",
        "# Delete content of plants collection\n",
        "collection.delete_many({})"
      ]
    }
  ],
  "metadata": {
    "colab": {
      "provenance": []
    },
    "kernelspec": {
      "display_name": "Python 3",
      "name": "python3"
    },
    "language_info": {
      "name": "python"
    }
  },
  "nbformat": 4,
  "nbformat_minor": 0
}
