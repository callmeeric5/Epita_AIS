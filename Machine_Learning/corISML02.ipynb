{
 "cells": [
  {
   "cell_type": "markdown",
   "metadata": {},
   "source": [
    "# <center> LAB 2: Linear Classification: Logistic Regression<br> <small>Réda DEHAK<br> March 7th, 2023</small> </center>\n",
    "\n",
    "The goal of this lab is :\n",
    "\n",
    "    - Test the logistic regression on classification problems\n",
    "    - Evaluate performances statistics.\n"
   ]
  },
  {
   "cell_type": "markdown",
   "metadata": {},
   "source": [
    "## Part 1: Logistic Regression \n",
    "### Import Data\n",
    "\n",
    "We will use the Wine dataset from UCI. These data are the results of a chemical analysis of wines grown in the same region in Italy but derived from three different cultivars. The analysis determined the quantities of thirteen constituents found in each of the three types of wines.\n",
    "\n",
    "# Loading and Plotting Data\n",
    " \n",
    "First, we will use only two features from the data set: alcohol and ash (We can plot the solution in 2D space). The labels are supplied as an array of data with values from 1 to 3, but at first, we want a simple binary regression problem with a yes or no answer.  \n",
    "\n",
    "We filter the data set, reducing it to only include wines with labels 1 or 2.  "
   ]
  },
  {
   "cell_type": "code",
   "execution_count": 1,
   "metadata": {},
   "outputs": [],
   "source": [
    "%matplotlib inline\n",
    "import pandas as pd\n",
    "import numpy as np\n",
    "import matplotlib.pyplot as plt\n",
    "from sklearn.preprocessing import label_binarize\n",
    "\n",
    "data = pd.read_csv('data.txt')\n",
    "\n",
    "reduced = data[data['class'] <= 2]\n",
    "X = reduced[['alcohol', 'ash']].to_numpy()\n",
    "y = label_binarize(reduced['class'].to_numpy(), classes=[1, 2])[:,0]"
   ]
  },
  {
   "cell_type": "code",
   "execution_count": 2,
   "metadata": {},
   "outputs": [
    {
     "name": "stdout",
     "output_type": "stream",
     "text": [
      "train: 97 test: 33\n"
     ]
    }
   ],
   "source": [
    "# split data into train and validation set\n",
    "from sklearn.model_selection import train_test_split\n",
    "\n",
    "# Change random_state to get different split\n",
    "Xtrain, Xtest, ytrain, ytest = train_test_split(X, y, test_size=0.25, random_state=25)\n",
    "print('train:', len(Xtrain), 'test:', len(Xtest))"
   ]
  },
  {
   "cell_type": "code",
   "execution_count": 3,
   "metadata": {},
   "outputs": [
    {
     "data": {
      "image/png": "[encoded data removed]",
      "text/plain": [
       "<Figure size 640x480 with 1 Axes>"
      ]
     },
     "metadata": {},
     "output_type": "display_data"
    }
   ],
   "source": [
    "MARKERS = ['+', 'x', '.']\n",
    "COLORS = ['red', 'green', 'blue']\n",
    "\n",
    "def plot_points(xy, labels):\n",
    "    \n",
    "    for i, label in enumerate(set(labels)):\n",
    "        points = np.array([xy[j,:] for j in range(len(xy)) if labels[j] == label])\n",
    "        marker = MARKERS[i % len(MARKERS)]\n",
    "        color = COLORS[i % len(COLORS)]\n",
    "        plt.scatter(points[:,0], points[:,1], marker=marker, color=color)\n",
    "\n",
    "plot_points(Xtrain, ytrain)"
   ]
  },
  {
   "cell_type": "markdown",
   "metadata": {},
   "source": [
    "We can see that we can plot line that could divide the two colored points with a small amount of error.\n",
    "\n",
    "# Logistic Regression\n",
    "\n",
    "To implement logistic regression, we need to define the cost function $J(\\theta)$, and compute the partial derivatives of $J(\\theta)$. As we have seen previously:\n",
    "\n",
    "$$\n",
    "J(\\theta) =-\\frac{1}{N}\\sum_{i=1}^{N}y^{i}\\log(f_\\theta(x^{i}))+(1-y^{i})\\log(1-f_\\theta(x^{i}))\n",
    "$$\n",
    "\n",
    "where $f_\\theta(x)$ is the logistic function\n",
    "\n",
    "$$\n",
    "f_\\theta(x) = \\frac{1}{1 + e^{-\\theta^Tx}}\n",
    "$$\n",
    "\n",
    "- Compute the partiel derivatives of $J(\\theta)$ and write the two functions:\n",
    "    - cost(theta, X, y) which compute the value of $J(\\theta)$\n",
    "    - gradient(theta, X, y) which compute the value of the gradient of $J(\\theta)$"
   ]
  },
  {
   "cell_type": "code",
   "execution_count": 4,
   "metadata": {},
   "outputs": [],
   "source": [
    "def sigmoid(theta, X):\n",
    "    return 1 / (1 + np.exp(-X @ theta))\n",
    "\n",
    "def cost(theta, X, y):\n",
    "    theta = theta[:,None]\n",
    "    y = y[:,None]\n",
    "    \n",
    "    hyp = sigmoid(theta, X)\n",
    "    pos = np.multiply(y, np.log(hyp))\n",
    "    neg = np.multiply((1 - y), np.log(1 - hyp))\n",
    "    \n",
    "    return -np.sum(pos + neg) / (len(X))\n",
    "\n",
    "def gradient(theta, X, y):\n",
    "    theta = theta[:,None]\n",
    "    y = y[:,None]\n",
    "    \n",
    "    error = sigmoid(theta, X) - y\n",
    "    return X.T.dot(error) / len(X)"
   ]
  },
  {
   "cell_type": "markdown",
   "metadata": {},
   "source": [
    "- Using the function scipy.optimize.fmin_tnc which performs a gradient descent algorithm, write a function Train(x, y) which compute $\\theta$ that minimize $J(\\theta)$"
   ]
  },
  {
   "cell_type": "code",
   "execution_count": 5,
   "metadata": {},
   "outputs": [],
   "source": [
    "from scipy.optimize import fmin_tnc  \n",
    "\n",
    "def train(X, y, maxfun=None):\n",
    "    X = np.insert(X, 0, np.ones(len(X)), axis=1)\n",
    "    theta = np.zeros(X.shape[1])\n",
    "    result = fmin_tnc(func=cost, x0=theta, fprime=gradient, disp=5, args=(X, y), maxfun=maxfun)\n",
    "    print(\"fmin_tnc result: \", result)\n",
    "    \n",
    "    return result[0]"
   ]
  },
  {
   "cell_type": "markdown",
   "metadata": {},
   "source": [
    "- compute the value of the best $\\theta$"
   ]
  },
  {
   "cell_type": "code",
   "execution_count": 6,
   "metadata": {},
   "outputs": [
    {
     "name": "stdout",
     "output_type": "stream",
     "text": [
      "fmin_tnc result:  (array([81.8483549 , -5.66066161, -3.49161414]), 67, 1)\n",
      "w =  [81.8483549  -5.66066161 -3.49161414]\n"
     ]
    },
    {
     "name": "stderr",
     "output_type": "stream",
     "text": [
      "  NIT   NF   F                       GTG\n",
      "    0    1  6.931471805599453E-01   8.50256403E-03\n",
      "    1    3  6.930340493311801E-01   1.38496522E-03\n",
      "tnc: fscale = 26.8708\n",
      "    2    5  6.929209791623585E-01   8.48931948E-03\n",
      "tnc: stepmx = 1000\n",
      "    3    7  4.959854817646130E-01   3.84915291E-03\n",
      "    4    9  4.765293359649215E-01   1.12363043E+00\n",
      "tnc: fscale = 0.943383\n",
      "    5   11  4.603418052577846E-01   1.17749374E-03\n",
      "tnc: fscale = 29.1421\n",
      "    6   13  4.600094052275952E-01   2.18996096E-02\n",
      "    7   15  4.128171903210294E-01   1.03556490E-02\n",
      "    8   17  4.104286252485735E-01   1.45067587E-03\n",
      "    9   19  4.088067477718659E-01   1.32440729E-01\n",
      "   10   22  1.622082510605112E-01   4.95514426E-03\n",
      "   11   24  1.616004613069612E-01   1.72317869E-04\n",
      "   12   29  1.442492111953174E-01   1.50335496E-03\n",
      "   13   31  1.441114632326792E-01   1.09232883E-04\n",
      "   14   33  1.438064667497563E-01   4.47340681E-05\n",
      "   15   35  1.437280814212840E-01   1.24366563E-03\n",
      "   16   37  1.409552918707297E-01   6.66511609E-05\n",
      "   17   39  1.406554121174673E-01   2.87022691E-03\n",
      "   18   41  1.392613675793530E-01   2.14268856E-04\n",
      "   19   43  1.392533166748959E-01   3.03589880E-05\n",
      "   20   45  1.391901628657060E-01   1.38777287E-05\n",
      "   21   47  1.391881323566730E-01   7.98629090E-06\n",
      "   22   49  1.373560791201652E-01   8.43124704E-04\n",
      "   23   51  1.372814552092372E-01   3.42960184E-07\n",
      "tnc: fscale = 1707.57\n",
      "   24   53  1.372810059948322E-01   5.00251754E-06\n",
      "   25   55  1.371919348347114E-01   5.24686231E-08\n",
      "   26   57  1.371853692072930E-01   5.79020138E-07\n",
      "   27   61  1.363590338797496E-01   1.98005683E-04\n",
      "tnc: fscale = 71.0659\n",
      "   28   63  1.363439434237777E-01   5.77344889E-07\n",
      "   29   65  1.362107611202653E-01   6.28536236E-09\n",
      "tnc: fscale = 12613.5\n",
      "tnc: |fn-fn-1] = 1.67323e-09 -> convergence\n",
      "   30   67  1.362107594470310E-01   1.59965024E-08\n",
      "tnc: Converged (|f_n-f_(n-1)| ~= 0)\n"
     ]
    }
   ],
   "source": [
    "W = train(Xtrain, ytrain)\n",
    "print('w = ', W)"
   ]
  },
  {
   "cell_type": "markdown",
   "metadata": {},
   "source": [
    "- Plot the boundary and checks that it is linear?"
   ]
  },
  {
   "cell_type": "code",
   "execution_count": 7,
   "metadata": {},
   "outputs": [
    {
     "data": {
      "image/png": "[encoded data removed]",
      "text/plain": [
       "<Figure size 640x480 with 1 Axes>"
      ]
     },
     "metadata": {},
     "output_type": "display_data"
    }
   ],
   "source": [
    "def predict(theta, X):\n",
    "    X = np.insert(X, 0, np.ones(len(X)), axis=1)\n",
    "    return (sigmoid(theta, X) >= 0.5).astype(int)\n",
    "\n",
    "def plot_boundary(X, pred):\n",
    "    \n",
    "    x_min, x_max = X[:,0].min() - .1, X[:,0].max() + .1\n",
    "    y_min, y_max = X[:,1].min() - .1, X[:,1].max() + .1\n",
    "    \n",
    "    xs, ys = np.meshgrid(\n",
    "        np.linspace(x_min, x_max, 200),\n",
    "        np.linspace(y_min, y_max, 200)\n",
    "    )\n",
    "\n",
    "    xys = np.column_stack([xs.ravel(), ys.ravel()])\n",
    "    zs = pred(xys).reshape(xs.shape)\n",
    "    plt.contour(xs, ys, zs, colors='black')\n",
    "  \n",
    "plot_boundary(Xtrain, lambda x: predict(W, x))\n",
    "plot_points(Xtrain, ytrain)"
   ]
  },
  {
   "cell_type": "markdown",
   "metadata": {},
   "source": [
    "- Using sklearn.metrics, compute the confusion matrix"
   ]
  },
  {
   "cell_type": "code",
   "execution_count": 8,
   "metadata": {},
   "outputs": [
    {
     "name": "stdout",
     "output_type": "stream",
     "text": [
      "confusion matrix:  [[14  0]\n",
      " [ 2 17]]\n",
      "Normalized Confusion Matrix:  [[1.         0.        ]\n",
      " [0.10526316 0.89473684]]\n"
     ]
    }
   ],
   "source": [
    "import sklearn.metrics as metrics\n",
    "\n",
    "predictions = predict(W, Xtest)\n",
    "confmat = metrics.confusion_matrix(ytest, predictions)\n",
    "print('confusion matrix: ', confmat)\n",
    "print(\"Normalized Confusion Matrix: \", metrics.confusion_matrix(ytest, predict(W,Xtest), normalize='true'))"
   ]
  },
  {
   "cell_type": "markdown",
   "metadata": {},
   "source": [
    "- Compute all performance metrics that has been defined during the lecture"
   ]
  },
  {
   "cell_type": "code",
   "execution_count": 9,
   "metadata": {},
   "outputs": [
    {
     "name": "stdout",
     "output_type": "stream",
     "text": [
      "Accuracy = 0.9393939393939394, 0.9393939393939394\n",
      "Recall = Sensitivity = True Positive Rate(TPR) = 0.8947368421052632, 0.8947368421052632\n",
      "False Alarm Rate (FAR) = False Positive Rate(FPR) = 0.0\n",
      "Missed Detection Rate(MISS) = False Negative Rate(FNR) = 0.10526315789473684\n",
      "Speciaicity = True Negative Rate(TNR) = 1.0\n",
      "Precision = 1.0, 1.0\n",
      "False Discovery Rate (FDR) = 0.0\n",
      "Positive Predictive Value (PPV) = 1.0\n",
      "Negative Predictive Value (NPV) = 0.875\n",
      "F−Score = Precision × Recall = 0.8947368421052632\n",
      "F1-Score = (2 * Recall * Precision) / (Recall + Precision) = 0.9444444444444444, 0.9444444444444444\n"
     ]
    }
   ],
   "source": [
    "TP = confmat[1,1]\n",
    "FP = confmat[0,1]\n",
    "FN = confmat[1,0]\n",
    "TN = confmat[0,0]\n",
    "\n",
    "accuracy = (TP + TN) / np.sum(confmat)\n",
    "TPR = TP / (TP + FN)\n",
    "FAR = FP / (TN + FP)\n",
    "FNR = FN / (TP + FN)\n",
    "TNR = TN / (TN + FP)\n",
    "precision = TP / (TP + FP)\n",
    "FDR = FP / (TP + FP)\n",
    "PPV = TP / (TP + FP)\n",
    "NPV = TN / (TN + FN)\n",
    "f_score = precision * TPR\n",
    "f1_score = (2 * precision * TPR) / (precision + TPR)\n",
    "\n",
    "print('Accuracy = {}, {}'.format(accuracy, metrics.accuracy_score(ytest, predictions)))\n",
    "print('Recall = Sensitivity = True Positive Rate(TPR) = {}, {}'.format(TPR, metrics.recall_score(ytest, predictions)))\n",
    "print(f'False Alarm Rate (FAR) = False Positive Rate(FPR) = {FAR}')\n",
    "print(f'Missed Detection Rate(MISS) = False Negative Rate(FNR) = {FNR}')\n",
    "print(f'Speciaicity = True Negative Rate(TNR) = {TNR}')\n",
    "print('Precision = {}, {}'.format(precision, metrics.precision_score(ytest, predictions)))\n",
    "print(f'False Discovery Rate (FDR) = {FDR}')\n",
    "print(f'Positive Predictive Value (PPV) = {PPV}')\n",
    "print(f'Negative Predictive Value (NPV) = {NPV}')\n",
    "print(f'F−Score = Precision × Recall = {f_score}')\n",
    "print('F1-Score = (2 * Recall * Precision) / (Recall + Precision) = {}, {}'.format(f1_score, metrics.f1_score(ytest, predictions)))"
   ]
  },
  {
   "cell_type": "markdown",
   "metadata": {},
   "source": [
    "- Plot the ROC curve of your classifier"
   ]
  },
  {
   "cell_type": "code",
   "execution_count": 10,
   "metadata": {},
   "outputs": [
    {
     "name": "stderr",
     "output_type": "stream",
     "text": [
      "No artists with labels found to put in legend.  Note that artists whose label start with an underscore are ignored when legend() is called with no argument.\n"
     ]
    },
    {
     "name": "stdout",
     "output_type": "stream",
     "text": [
      "AUC:  0.943609022556391\n"
     ]
    },
    {
     "data": {
      "image/png": "[encoded data removed]",
      "text/plain": [
       "<Figure size 640x480 with 1 Axes>"
      ]
     },
     "metadata": {},
     "output_type": "display_data"
    }
   ],
   "source": [
    "def score(theta, X):\n",
    "    Z = np.hstack((np.ones((X.shape[0], 1)), X))\n",
    "    return sigmoid(theta, Z)\n",
    "\n",
    "fpr, tpr, _ = metrics.roc_curve(ytest, score(W, Xtest),drop_intermediate=False)\n",
    "\n",
    "print(\"AUC: \", metrics.auc(fpr, tpr))\n",
    "\n",
    "display = metrics.RocCurveDisplay(fpr=fpr, tpr=tpr)\n",
    "display.plot()\n",
    "plt.show()"
   ]
  },
  {
   "cell_type": "code",
   "execution_count": 11,
   "metadata": {},
   "outputs": [
    {
     "data": {
      "image/png": "[encoded data removed]",
      "text/plain": [
       "<Figure size 640x480 with 1 Axes>"
      ]
     },
     "metadata": {},
     "output_type": "display_data"
    }
   ],
   "source": [
    "plt.figure(1)\n",
    "plt.plot([0, 1], [0, 1], 'k--')\n",
    "plt.plot(fpr, tpr, label='Logistic Regression')\n",
    "plt.xlabel('False positive rate')\n",
    "plt.ylabel('True positive rate')\n",
    "plt.title('ROC curve')\n",
    "plt.show()"
   ]
  },
  {
   "cell_type": "markdown",
   "metadata": {},
   "source": [
    "- Plot the Precision-Recall curve of your classifier"
   ]
  },
  {
   "cell_type": "code",
   "execution_count": 12,
   "metadata": {},
   "outputs": [
    {
     "data": {
      "image/png": "[encoded data removed]",
      "text/plain": [
       "<Figure size 640x480 with 1 Axes>"
      ]
     },
     "metadata": {},
     "output_type": "display_data"
    }
   ],
   "source": [
    "precision, recall, _ = metrics.precision_recall_curve(ytest, score(W, Xtest))\n",
    "display = metrics.PrecisionRecallDisplay(precision=precision, recall=recall)\n",
    "display.plot()\n",
    "plt.show()"
   ]
  },
  {
   "cell_type": "code",
   "execution_count": 13,
   "metadata": {},
   "outputs": [
    {
     "data": {
      "image/png": "[encoded data removed]",
      "text/plain": [
       "<Figure size 640x480 with 1 Axes>"
      ]
     },
     "metadata": {},
     "output_type": "display_data"
    }
   ],
   "source": [
    "plt.figure(1)\n",
    "plt.plot(recall, precision, label='Logistic Regression')\n",
    "plt.xlabel('recall')\n",
    "plt.ylabel('precision')\n",
    "plt.title('precision-recall curve')\n",
    "plt.show()"
   ]
  },
  {
   "cell_type": "markdown",
   "metadata": {},
   "source": [
    "- How can we obtain a quadratic boundary? check it and plot the boundary?"
   ]
  },
  {
   "cell_type": "code",
   "execution_count": 14,
   "metadata": {},
   "outputs": [
    {
     "name": "stdout",
     "output_type": "stream",
     "text": [
      "fmin_tnc result:  (array([ 26.02236361,  26.02236361, -23.63679886, 130.56746666,\n",
      "         1.69132316, -11.94774832,   4.9379545 ]), 545, 1)\n",
      "[ 26.02236361  26.02236361 -23.63679886 130.56746666   1.69132316\n",
      " -11.94774832   4.9379545 ]\n"
     ]
    },
    {
     "name": "stderr",
     "output_type": "stream",
     "text": [
      "  NIT   NF   F                       GTG\n",
      "    0    1  6.931471805599453E-01   1.64009529E+01\n",
      "    1    7  1.401423610034772E-01   4.79720254E+00\n",
      "    2   10  1.380387005913526E-01   5.40814931E-02\n",
      "    3   14  1.373781993716918E-01   3.82679373E-05\n",
      "tnc: fscale = 161.653\n",
      "    4   20  1.332640969563078E-01   8.75069389E-01\n",
      "tnc: fscale = 1.069\n",
      "    5   23  1.328855427923790E-01   1.02219675E-05\n",
      "tnc: fscale = 312.776\n",
      "    6   27  1.328672814063254E-01   2.20871491E-04\n",
      "    7   31  1.327733119390264E-01   1.93046771E-03\n",
      "tnc: stepmx = 1000\n",
      "    8   35  1.311046795998361E-01   2.98029016E-03\n",
      "    9   39  1.310019799146540E-01   8.75969449E-04\n",
      "   10   43  1.307155641480615E-01   5.03762201E-05\n",
      "   11   46  1.299763481975483E-01   3.78565178E-03\n",
      "   12   50  1.284427689915877E-01   1.77907506E-03\n",
      "   13   53  1.278988817402874E-01   2.77909903E-02\n",
      "tnc: fscale = 5.99857\n",
      "   14   57  1.274052527462491E-01   9.63224679E-02\n",
      "   15   60  1.273525946713680E-01   1.01970939E-05\n",
      "tnc: fscale = 313.157\n",
      "   16   64  1.270463386152182E-01   7.82879743E-02\n",
      "tnc: fscale = 3.57398\n",
      "   17   68  1.267559031128712E-01   1.46910536E-02\n",
      "   18   72  1.267295874671849E-01   2.38178913E-04\n",
      "   19   76  1.260705143872041E-01   8.02052582E-02\n",
      "   20   80  1.257882664643968E-01   1.20868423E-03\n",
      "   21   84  1.257057936432342E-01   2.69489181E-05\n",
      "tnc: fscale = 192.632\n",
      "   22   88  1.256915173180513E-01   1.13705998E-03\n",
      "   23   92  1.256887251004146E-01   2.18035968E-05\n",
      "   24   98  1.243111482321929E-01   1.49365817E-03\n",
      "   25  102  1.241829324751800E-01   1.10608394E-05\n",
      "   26  106  1.241818087600096E-01   9.56327653E-05\n",
      "   27  110  1.241303110671593E-01   4.29546338E-04\n",
      "   28  114  1.240071230572601E-01   2.77369698E-04\n",
      "   29  118  1.239777288576753E-01   1.47062678E-05\n",
      "   30  122  1.238105669107408E-01   1.83653139E-04\n",
      "   31  125  1.238069996765168E-01   2.47920819E-04\n",
      "   32  129  1.237722149221579E-01   1.20574829E-05\n",
      "   33  133  1.236317839085829E-01   8.21567728E-06\n",
      "   34  136  1.236312444652852E-01   3.04096133E-06\n",
      "   35  140  1.224704952914096E-01   3.35137105E-02\n",
      "tnc: fscale = 5.46247\n",
      "   36  144  1.217920023043489E-01   1.00665701E-03\n",
      "   37  147  1.217897776462901E-01   6.98030024E-05\n",
      "tnc: fscale = 119.691\n",
      "   38  151  1.216682663985111E-01   1.47018795E-03\n",
      "   39  155  1.216643079446265E-01   4.80481210E-05\n",
      "   40  159  1.213981495618091E-01   4.37158276E-02\n",
      "tnc: fscale = 4.78278\n",
      "   41  163  1.213503443301609E-01   5.02891131E-04\n",
      "   42  166  1.213500476640973E-01   1.26840567E-05\n",
      "tnc: fscale = 280.783\n",
      "   43  170  1.213159308931513E-01   1.33083510E-03\n",
      "   44  174  1.212844263449417E-01   5.09189895E-04\n",
      "   45  178  1.209262166157339E-01   1.81965734E-04\n",
      "   46  182  1.209209632965137E-01   1.07093620E-06\n",
      "   47  186  1.209127161561920E-01   1.92459634E-04\n",
      "   48  190  1.208924761728539E-01   2.09706874E-05\n",
      "   49  194  1.206085242848008E-01   6.13279229E-03\n",
      "tnc: fscale = 12.7694\n",
      "   50  198  1.203909937028154E-01   4.25297838E-03\n",
      "   51  202  1.202476059086144E-01   1.80725481E-05\n",
      "   52  205  1.202470768094348E-01   3.11032118E-05\n",
      "   53  209  1.202407561638685E-01   9.82062727E-05\n",
      "   54  213  1.199980423241781E-01   1.14717121E-05\n",
      "tnc: fscale = 295.247\n",
      "   55  217  1.199918357021477E-01   1.82364423E-03\n",
      "   56  221  1.198890195442002E-01   2.58154230E-05\n",
      "   57  225  1.198071568711400E-01   5.65408716E-03\n",
      "tnc: fscale = 13.299\n",
      "   58  229  1.197954740713820E-01   2.17762929E-04\n",
      "   59  232  1.197953601453055E-01   1.50953991E-06\n",
      "tnc: fscale = 813.912\n",
      "   60  236  1.197904735283723E-01   1.19604648E-04\n",
      "   61  240  1.197732568184351E-01   2.33420566E-04\n",
      "   62  246  1.188834872580180E-01   1.02459871E-03\n",
      "tnc: fscale = 31.2409\n",
      "   63  250  1.188640964001281E-01   2.29113590E-02\n",
      "   64  253  1.188335925075377E-01   1.07557547E-03\n",
      "   65  257  1.187264188725105E-01   5.66747043E-05\n",
      "   66  260  1.187260121349413E-01   1.98096851E-05\n",
      "   67  264  1.186724660020416E-01   1.19882952E-03\n",
      "   68  268  1.184420901868938E-01   2.21878189E-04\n",
      "   69  271  1.184391485589597E-01   2.88015550E-07\n",
      "tnc: fscale = 1863.34\n",
      "   70  275  1.184386992635108E-01   7.70885166E-04\n",
      "tnc: fscale = 36.0168\n",
      "   71  278  1.184382932473554E-01   5.01631221E-08\n",
      "tnc: fscale = 4464.86\n",
      "   72  282  1.184382254589705E-01   1.71346147E-05\n",
      "   73  286  1.184291059298742E-01   1.22087622E-04\n",
      "tnc: fscale = 90.5033\n",
      "   74  290  1.184218988876684E-01   4.86668522E-03\n",
      "   75  293  1.184189255254077E-01   1.70242257E-07\n",
      "tnc: fscale = 2423.63\n",
      "   76  297  1.184183478370310E-01   1.18154381E-03\n",
      "tnc: fscale = 29.0921\n",
      "   77  300  1.184177964487885E-01   1.45655574E-08\n",
      "tnc: fscale = 8285.84\n",
      "   78  304  1.184177401594496E-01   7.78222117E-05\n",
      "tnc: fscale = 113.357\n",
      "   79  308  1.184149997830746E-01   5.28299356E-03\n",
      "   80  311  1.183959091365126E-01   1.50825986E-05\n",
      "   81  315  1.183936717111459E-01   8.73408776E-06\n",
      "   82  319  1.183861343532118E-01   2.13361907E-06\n",
      "   83  323  1.183856391147333E-01   3.89151575E-07\n",
      "   84  327  1.183839707561069E-01   1.76731308E-05\n",
      "   85  331  1.183656942271570E-01   6.80531086E-08\n",
      "tnc: fscale = 3833.33\n",
      "   86  335  1.183653119412259E-01   5.47560703E-04\n",
      "tnc: fscale = 42.735\n",
      "   87  338  1.183650345613930E-01   2.61177172E-08\n",
      "tnc: fscale = 6187.74\n",
      "   88  342  1.183650021407860E-01   3.00743333E-06\n",
      "   89  346  1.183618249660198E-01   4.38209897E-08\n",
      "   90  350  1.181512477718438E-01   2.81644735E-05\n",
      "tnc: fscale = 188.43\n",
      "   91  354  1.181389512218485E-01   1.20859000E-02\n",
      "tnc: fscale = 9.09621\n",
      "   92  357  1.181332035676075E-01   1.05236544E-07\n",
      "tnc: fscale = 3082.6\n",
      "   93  361  1.181136581793087E-01   3.05081249E-02\n",
      "tnc: fscale = 5.72522\n",
      "   94  364  1.180995015511658E-01   1.66254926E-07\n",
      "tnc: fscale = 2452.52\n",
      "   95  368  1.180851167035383E-01   1.90522809E-04\n",
      "tnc: fscale = 72.448\n",
      "   96  372  1.180732932685932E-01   3.55424215E-04\n",
      "   97  376  1.180712209512770E-01   4.41097520E-05\n",
      "   98  380  1.178917178409719E-01   1.98824452E-05\n",
      "   99  383  1.178886462879525E-01   1.13559555E-06\n",
      "  100  387  1.178880085310286E-01   1.07040206E-07\n",
      "tnc: fscale = 3056.52\n",
      "  101  391  1.178845125170591E-01   4.73395680E-03\n",
      "tnc: fscale = 14.5341\n",
      "  102  394  1.178822679736918E-01   6.99894314E-08\n",
      "tnc: fscale = 3779.93\n",
      "  103  398  1.178820480731143E-01   2.73531536E-04\n",
      "tnc: fscale = 60.4639\n",
      "  104  402  1.178756045300974E-01   3.53792569E-03\n",
      "  105  405  1.178734153459968E-01   3.88908896E-07\n",
      "tnc: fscale = 1603.53\n",
      "  106  409  1.178683463555256E-01   1.95473846E-03\n",
      "tnc: fscale = 22.6181\n",
      "  107  412  1.178674072949547E-01   3.77621099E-08\n",
      "tnc: fscale = 5146.02\n",
      "  108  416  1.178672995914635E-01   1.29307938E-04\n",
      "tnc: fscale = 87.9402\n",
      "  109  420  1.178612829813878E-01   8.16548769E-03\n",
      "  110  423  1.178517106915954E-01   8.06951759E-05\n",
      "  111  427  1.178493786486519E-01   1.67072702E-04\n",
      "  112  431  1.178427065240705E-01   4.11157894E-07\n",
      "  113  435  1.178421465010372E-01   8.29741582E-06\n",
      "  114  439  1.178393328563514E-01   3.81007158E-06\n",
      "  115  443  1.177677758457621E-01   9.14878409E-06\n",
      "  116  446  1.177672679778796E-01   3.01421268E-06\n",
      "  117  450  1.177669082709937E-01   1.83469116E-07\n",
      "tnc: fscale = 2334.63\n",
      "  118  454  1.177588194416102E-01   1.28382161E-03\n",
      "tnc: fscale = 27.9092\n",
      "  119  458  1.177529539520271E-01   2.50126841E-03\n",
      "  120  461  1.177513823387043E-01   1.39138451E-07\n",
      "tnc: fscale = 2680.87\n",
      "  121  465  1.177464627182802E-01   1.53553986E-03\n",
      "tnc: fscale = 25.5193\n",
      "  122  468  1.177456263898074E-01   9.72019698E-08\n",
      "tnc: fscale = 3207.47\n",
      "  123  472  1.177452707237292E-01   4.66963364E-04\n",
      "tnc: fscale = 46.2763\n",
      "  124  476  1.177418768840114E-01   2.23307348E-03\n",
      "  125  479  1.177402812356362E-01   1.01497104E-07\n",
      "tnc: fscale = 3138.87\n",
      "  126  483  1.177367381287505E-01   9.83171146E-04\n",
      "tnc: fscale = 31.8923\n",
      "  127  486  1.177362309216764E-01   3.94190091E-08\n",
      "tnc: fscale = 5036.71\n",
      "  128  490  1.177354817744764E-01   1.28239106E-03\n",
      "tnc: fscale = 27.9248\n",
      "  129  493  1.177348480689854E-01   3.29194737E-08\n",
      "tnc: fscale = 5511.55\n",
      "  130  497  1.177342579634637E-01   1.13673441E-03\n",
      "tnc: fscale = 29.66\n",
      "  131  500  1.177336939652020E-01   3.07864622E-08\n",
      "tnc: fscale = 5699.28\n",
      "  132  504  1.177334572542386E-01   4.18242805E-04\n",
      "tnc: fscale = 48.8974\n",
      "  133  507  1.177332233750554E-01   3.00398813E-08\n",
      "tnc: fscale = 5769.67\n",
      "  134  511  1.177331706694767E-01   2.29344936E-05\n",
      "tnc: fscale = 208.812\n",
      "  135  515  1.177289677384971E-01   6.95240255E-03\n",
      "  136  518  1.177150892513304E-01   5.82457784E-04\n",
      "  137  522  1.177146132716156E-01   1.50591056E-07\n",
      "  138  526  1.177133157211676E-01   8.26660010E-07\n",
      "  139  530  1.177008972106179E-01   5.76422368E-06\n",
      "  140  534  1.177006474754948E-01   7.45091071E-07\n",
      "  141  538  1.176985780694267E-01   2.49300123E-06\n",
      "  142  542  1.176949327923895E-01   1.56216791E-06\n",
      "tnc: |fn-fn-1] = 8.11498e-09 -> convergence\n",
      "  143  545  1.176949246774108E-01   7.81795329E-06\n",
      "tnc: Converged (|f_n-f_(n-1)| ~= 0)\n"
     ]
    },
    {
     "data": {
      "image/png": "[encoded data removed]",
      "text/plain": [
       "<Figure size 640x480 with 1 Axes>"
      ]
     },
     "metadata": {},
     "output_type": "display_data"
    }
   ],
   "source": [
    "from sklearn.preprocessing import PolynomialFeatures\n",
    "\n",
    "def transform(x):\n",
    "    return PolynomialFeatures(2).fit_transform(x)\n",
    "    #return np.vstack((x[:, 0] ** 2, x[:, 1] ** 2, x[:, 0] * x[:, 1], x[:,0], x[:, 1] )).T\n",
    "\n",
    "W2 = train(transform(Xtrain), ytrain, maxfun = 1000)\n",
    "print(W2)\n",
    "plot_points(Xtrain, ytrain)\n",
    "plot_boundary(Xtrain, lambda x:predict(W2, transform(x)))"
   ]
  },
  {
   "cell_type": "markdown",
   "metadata": {},
   "source": [
    "- Compute all performance metrics of this new classifier"
   ]
  },
  {
   "cell_type": "code",
   "execution_count": 15,
   "metadata": {},
   "outputs": [
    {
     "name": "stdout",
     "output_type": "stream",
     "text": [
      "Confusion Matrix:  [[12  2]\n",
      " [ 2 17]]\n",
      "Normalized Confusion Matrix:  [[0.85714286 0.14285714]\n",
      " [0.10526316 0.89473684]]\n"
     ]
    }
   ],
   "source": [
    "print(\"Confusion Matrix: \", metrics.confusion_matrix(ytest, predict(W2,transform(Xtest)), normalize=None))\n",
    "print(\"Normalized Confusion Matrix: \", metrics.confusion_matrix(ytest, predict(W2,transform(Xtest)), normalize='true'))"
   ]
  },
  {
   "cell_type": "markdown",
   "metadata": {},
   "source": [
    "- Using sklearn:"
   ]
  },
  {
   "cell_type": "code",
   "execution_count": 16,
   "metadata": {},
   "outputs": [
    {
     "name": "stdout",
     "output_type": "stream",
     "text": [
      "[79.59251184] [[-5.49783527 -3.43303921]]\n",
      "[81.8483549  -5.66066161 -3.49161414]\n"
     ]
    }
   ],
   "source": [
    "from sklearn.linear_model import LogisticRegression\n",
    "\n",
    "model1 = LogisticRegression(penalty = None, max_iter = 10000).fit(Xtrain, ytrain)\n",
    "print(model1.intercept_, model1.coef_)\n",
    "print(W)"
   ]
  },
  {
   "cell_type": "markdown",
   "metadata": {},
   "source": [
    "# Multinomial Logistic Regression\n",
    "\n",
    "The next step is something more interesting: we use a similar set of two features from the data set (this time alcohol and flavanoids), but with all three labels instead of two."
   ]
  },
  {
   "cell_type": "code",
   "execution_count": 17,
   "metadata": {},
   "outputs": [
    {
     "data": {
      "image/png": "[encoded data removed]",
      "text/plain": [
       "<Figure size 640x480 with 1 Axes>"
      ]
     },
     "metadata": {},
     "output_type": "display_data"
    }
   ],
   "source": [
    "X = data[['alcohol', 'flavanoids']].to_numpy()\n",
    "y = data[['class']].to_numpy()\n",
    "Xtrain, Xtest, ytrain, ytest = train_test_split(X, y, test_size=0.25, random_state=42)\n",
    "ytrain = label_binarize(ytrain, classes=[1, 2, 3])\n",
    "plot_points(Xtrain, ytrain.argmax(axis=1))"
   ]
  },
  {
   "cell_type": "markdown",
   "metadata": {},
   "source": [
    "The plotted data points again suggest some obvious linear boundaries between the three classes.\n",
    "\n",
    "We can solve this problem as three one-vs-all problems, and re-use all the previous code. In this part, we will try another solution inspired from softmax function known as softmax regression (See C.Bishop, \"Pattern Recognition and Machine Learning\", 2006, Springer).\n",
    "\n",
    "$$\n",
    "SoftMax_\\Theta(x, k) = \\frac{e^{\\theta_k^Tx}}{\\sum\\limits_{c=1}^K e^{\\theta_c^Tx}}\n",
    "$$\n",
    "\n",
    "The cost function is defined as follows:\n",
    "\n",
    "$$\n",
    "J(\\Theta) =-\\frac{1}{N}\\sum_{i=1}^{N}\\sum_{k=1}^3\\left[y_k^{i}\\log\\left(SoftMax_\\Theta\\left(x^{i}, k\\right)\\right)\\right]\n",
    "$$\n",
    "\n",
    "- Propose a solution using the SoftMax function and test it with linear and quadratic separator? "
   ]
  },
  {
   "cell_type": "code",
   "execution_count": 18,
   "metadata": {},
   "outputs": [
    {
     "name": "stdout",
     "output_type": "stream",
     "text": [
      "[[-22.82361389  42.32024108 -21.19913553]\n",
      " [  1.67540729  -2.89339138   2.92390241]\n",
      " [  0.0487252   -2.13471078 -10.48095324]]\n"
     ]
    },
    {
     "name": "stderr",
     "output_type": "stream",
     "text": [
      "  NIT   NF   F                       GTG\n",
      "    0    1  1.098612288668110E+00   1.32143671E+00\n",
      "tnc: stepmx = 1000\n",
      "    1    6  6.480875088778242E-01   4.52923860E-01\n",
      "    2   11  3.966675421994936E-01   1.16641388E+00\n",
      "    3   16  3.433736359974726E-01   1.30658209E-01\n",
      "    4   20  3.383580280897087E-01   3.97377864E-03\n",
      "    5   25  3.178164628815170E-01   2.22751531E-03\n",
      "tnc: fscale = 21.188\n",
      "    6   30  2.628512935118643E-01   3.36267940E-03\n",
      "    7   37  2.062990382006062E-01   1.32691697E-03\n",
      "    8   42  2.041821961353758E-01   1.25920509E-04\n",
      "    9   47  2.039399965164804E-01   2.39027044E-05\n",
      "   10   52  2.036730750111793E-01   6.04195893E-05\n",
      "   11   57  2.004218949537735E-01   2.12147006E-05\n",
      "   12   60  2.002284814380233E-01   1.64722634E-06\n",
      "tnc: fscale = 779.154\n",
      "   13   65  2.001722941346604E-01   3.98421226E-07\n",
      "   14   70  2.000952199685892E-01   8.12192906E-06\n",
      "   15   74  2.000244302961264E-01   9.18149600E-06\n",
      "   16   79  2.000227159236760E-01   3.29340611E-08\n",
      "   17   84  2.000215170217464E-01   5.39989239E-08\n",
      "   18   89  2.000179479264238E-01   2.32396146E-07\n",
      "   19   94  2.000141470473040E-01   9.86343381E-07\n",
      "   20   99  2.000025521163325E-01   2.78657218E-07\n",
      "   21  104  1.999871945903989E-01   1.54852360E-07\n",
      "   22  108  1.999855051550924E-01   4.93951839E-08\n",
      "   23  113  1.999851053881690E-01   2.59628428E-08\n",
      "   24  117  1.999849611478601E-01   1.76851599E-08\n",
      "   25  122  1.999831129100883E-01   6.60200800E-10\n",
      "tnc: fscale = 38919\n",
      "tnc: |fn-fn-1] = 6.90541e-11 -> convergence\n",
      "   26  125  1.999831128410342E-01   7.96204625E-11\n",
      "tnc: Converged (|f_n-f_(n-1)| ~= 0)\n",
      "  NIT   NF   F                       GTG\n",
      "    0    1  1.098612288668110E+00   2.17257398E+02\n",
      "    1    5  7.231851612002017E-01   1.11033645E+03\n",
      "tnc: fscale = 0.0300105\n",
      "    2   10  6.523964131112089E-01   1.00513969E+01\n",
      "    3   15  4.649396817513339E-01   9.51240399E+01\n",
      "    4   26  2.937689530561371E-01   5.33570757E+01\n",
      "    5   31  2.151113881572356E-01   7.75308621E+00\n",
      "    6   36  1.912579330931376E-01   4.07467213E-01\n",
      "tnc: fscale = 1.56658\n",
      "    7   42  1.884337564291449E-01   6.90334132E-04\n",
      "tnc: fscale = 38.0601\n",
      "    8   48  1.880246338405117E-01   2.60389023E-04\n",
      "tnc: stepmx = 1000\n",
      "    9   55  1.701830576834140E-01   1.54997727E-01\n",
      "   10   58  1.694891584749922E-01   6.97810556E-05\n",
      "   11   67  1.603662975147805E-01   2.36621123E-01\n",
      "   12   71  1.596185661655814E-01   7.38327466E-03\n",
      "   13   74  1.596037966205520E-01   9.22654510E-04\n",
      "   14   78  1.595516343300056E-01   1.80665506E-03\n",
      "   15   83  1.594109656874454E-01   1.05614937E-02\n",
      "   16   88  1.588337637910560E-01   2.40880165E-03\n",
      "   17   95  1.587538801728585E-01   2.58199094E-04\n",
      "   18  101  1.587033125288465E-01   2.55641089E-04\n",
      "   19  108  1.585467913409530E-01   4.31673814E-05\n",
      "   20  111  1.585458340511888E-01   2.68127160E-04\n",
      "   21  116  1.584940115566010E-01   1.22151085E-03\n",
      "   22  121  1.584602567988316E-01   6.28438211E-04\n",
      "   23  125  1.584470696002385E-01   4.90285405E-05\n",
      "   24  132  1.583567409227804E-01   1.90226525E-02\n",
      "   25  135  1.583527076872551E-01   1.97758975E-04\n",
      "   26  145  1.581752373435507E-01   3.59953316E-06\n",
      "   27  148  1.581749698660835E-01   1.62683311E-05\n",
      "   28  157  1.581528547839533E-01   1.08923376E-04\n",
      "   29  165  1.579918712089645E-01   9.03748764E-04\n",
      "   30  173  1.575201059959243E-01   8.37314946E-04\n",
      "   31  176  1.575079428003614E-01   7.16713419E-04\n",
      "   32  181  1.575009262354531E-01   2.07189161E-04\n",
      "   33  189  1.568688345444860E-01   1.27689355E-03\n",
      "   34  192  1.568540958298982E-01   3.66466809E-04\n",
      "   35  197  1.568514371192118E-01   1.00268218E-05\n",
      "   36  201  1.568506703675144E-01   1.97121026E-05\n",
      "   37  209  1.567301821697928E-01   5.52315293E-05\n",
      "   38  219  1.565948106555441E-01   1.31849109E-05\n",
      "   39  222  1.565940203535680E-01   1.47245026E-05\n",
      "   40  230  1.565568278890798E-01   6.70539126E-05\n",
      "   41  241  1.564490822272201E-01   9.63628708E-05\n",
      "   42  251  1.564239842768313E-01   1.05055034E-04\n",
      "   43  254  1.564237980594774E-01   2.16850539E-05\n",
      "   44  264  1.562397434577165E-01   4.95251622E-04\n",
      "   45  267  1.562383292124340E-01   4.31032642E-05\n",
      "   46  275  1.562274728132425E-01   8.12307605E-06\n",
      "   47  284  1.560651596934431E-01   1.07089115E-03\n",
      "   48  287  1.560645677367491E-01   4.06733225E-04\n",
      "   49  291  1.560608111994430E-01   2.18974478E-05\n",
      "   50  298  1.560191506442795E-01   6.20263483E-06\n",
      "   51  308  1.557725110429761E-01   1.42627873E-04\n",
      "   52  314  1.557615681623541E-01   5.12776093E-04\n",
      "   53  323  1.550732946267299E-01   2.02990547E-03\n",
      "   54  331  1.546607296591094E-01   3.32222434E-04\n",
      "   55  339  1.545705414709884E-01   2.27827632E-04\n",
      "   56  342  1.545700953402263E-01   1.11574562E-04\n",
      "   57  350  1.543952467471738E-01   3.31673930E-04\n",
      "   58  358  1.535130087505593E-01   1.32137532E-03\n",
      "   59  361  1.534972851907843E-01   1.06557313E-04\n",
      "   60  369  1.534278640291954E-01   5.67392024E-05\n",
      "   61  377  1.533236907075523E-01   9.20415010E-04\n",
      "   62  385  1.526840491955174E-01   3.95373478E-03\n",
      "   63  393  1.525415190651457E-01   1.34434572E-04\n",
      "   64  401  1.521012782222736E-01   4.15671815E-03\n",
      "   65  411  1.509281193925774E-01   6.01162847E-03\n",
      "   66  414  1.509065871246256E-01   8.63158420E-05\n",
      "   67  420  1.508917091149645E-01   6.48647833E-06\n",
      "   68  430  1.494542639316233E-01   1.35449632E-02\n",
      "   69  433  1.494359425849828E-01   6.22919036E-05\n",
      "   70  439  1.494025761108776E-01   2.03846124E-03\n",
      "   71  447  1.491227769566140E-01   2.62792466E-04\n",
      "   72  455  1.490309132714536E-01   4.52360446E-05\n",
      "   73  463  1.489511120632780E-01   7.00284357E-04\n",
      "   74  471  1.488276630905174E-01   2.23371891E-05\n",
      "   75  479  1.487323202083044E-01   1.42696964E-04\n",
      "   76  487  1.484110344049199E-01   8.17766529E-03\n",
      "   77  490  1.484033668422632E-01   9.00745030E-04\n",
      "   78  498  1.480896462435975E-01   2.31796685E-04\n",
      "   79  501  1.480856129941014E-01   2.33277083E-03\n",
      "   80  509  1.475629755562611E-01   1.72920568E-02\n",
      "   81  512  1.475401705376877E-01   1.03073495E-03\n",
      "   82  519  1.470258066288946E-01   3.95340179E-04\n",
      "   83  522  1.470109471395861E-01   1.57181676E-03\n",
      "   84  530  1.466181186241701E-01   2.97127326E-03\n",
      "   85  538  1.463750643902798E-01   1.18581916E-04\n",
      "   86  541  1.463736624849307E-01   1.32924518E-04\n",
      "   87  549  1.461970579224836E-01   2.08656594E-04\n",
      "   88  557  1.461323491193373E-01   1.12697880E-05\n",
      "   89  565  1.460800522165148E-01   1.79586903E-05\n",
      "   90  573  1.460564691683950E-01   4.11060217E-05\n",
      "   91  581  1.460361155738040E-01   4.13675567E-06\n",
      "   92  589  1.460217881811337E-01   1.03704363E-06\n",
      "tnc: fscale = 981.977\n",
      "   93  594  1.460217112013444E-01   2.33451494E-07\n",
      "   94  603  1.458685257069803E-01   3.22729439E-04\n",
      "   95  610  1.457700270141959E-01   6.17254698E-04\n",
      "tnc: fscale = 40.2502\n",
      "   96  613  1.457698390543673E-01   2.11207401E-05\n",
      "   97  619  1.457502808579476E-01   3.10134503E-04\n",
      "   98  628  1.456480038595045E-01   2.35156438E-05\n",
      "   99  637  1.456282569015724E-01   5.96976702E-05\n",
      "  100  640  1.456281479213265E-01   2.96750457E-05\n",
      "  101  649  1.455384984737089E-01   1.20469038E-02\n",
      "  102  652  1.455343578286070E-01   1.42774567E-04\n",
      "  103  660  1.455121769558806E-01   2.89454519E-05\n",
      "  104  668  1.454246684642925E-01   6.48161574E-05\n",
      "  105  676  1.453621274305163E-01   1.06076182E-05\n",
      "  106  684  1.452249112530049E-01   1.64225698E-04\n",
      "  107  687  1.452242607080341E-01   3.61031678E-04\n",
      "  108  695  1.451709024845328E-01   1.73645489E-05\n",
      "  109  703  1.451170807761611E-01   2.92312885E-04\n",
      "  110  706  1.451169586431617E-01   6.97381570E-05\n",
      "  111  713  1.451117460678313E-01   2.45392393E-05\n",
      "  112  721  1.450944203288025E-01   4.63624473E-06\n",
      "  113  730  1.450924987122439E-01   5.21174402E-07\n",
      "tnc: fscale = 1385.19\n",
      "  114  735  1.450924721402699E-01   8.75636401E-06\n",
      "  115  742  1.450885676555541E-01   2.63237970E-04\n",
      "tnc: fscale = 61.6348\n",
      "  116  745  1.450884845184782E-01   4.19256463E-08\n",
      "tnc: fscale = 4883.83\n",
      "  117  749  1.450884624547656E-01   3.48791871E-08\n",
      "  118  755  1.450856067643136E-01   1.59450824E-05\n",
      "  119  762  1.450847137121300E-01   5.30677386E-04\n",
      "tnc: fscale = 43.4095\n",
      "  120  765  1.450845629647424E-01   3.67816371E-06\n",
      "  121  771  1.450829948958482E-01   2.92500206E-06\n",
      "  122  778  1.450822104537712E-01   8.05267687E-05\n",
      "  123  785  1.450807645997540E-01   1.28381523E-05\n",
      "  124  792  1.450696397718004E-01   2.18769114E-04\n",
      "  125  797  1.450608425872677E-01   9.07136643E-06\n",
      "  126  806  1.449991761005848E-01   2.70511332E-06\n"
     ]
    },
    {
     "name": "stdout",
     "output_type": "stream",
     "text": [
      "[[-207.31433639   84.62900815 -188.88055966]\n",
      " [-207.31433639   84.62900815 -188.88055966]\n",
      " [  56.48873574  -32.33620798   49.48112776]\n",
      " [ -21.11504242    5.15534479  -60.75860113]\n",
      " [  -3.12581516    0.40347336   -2.68372592]\n",
      " [   1.97641135   -1.47096177    6.25282594]\n",
      " [  -2.28530685    0.92645723  -20.14522732]]\n"
     ]
    },
    {
     "name": "stderr",
     "output_type": "stream",
     "text": [
      "  127  815  1.447746702815993E-01   1.81666014E-04\n",
      "  128  823  1.445986977053544E-01   3.98321171E-05\n",
      "  129  832  1.445575389392670E-01   1.27934598E-04\n",
      "  130  840  1.445189233177090E-01   2.29445954E-06\n",
      "  131  849  1.445075026518317E-01   4.86570450E-05\n",
      "  132  857  1.444729543961168E-01   6.87780922E-06\n",
      "  133  865  1.444477143929329E-01   1.75432310E-04\n",
      "  134  873  1.440695383214647E-01   1.74171072E-03\n",
      "  135  876  1.440666938776426E-01   1.36261259E-04\n",
      "  136  884  1.437155587779745E-01   5.06064022E-04\n",
      "  137  892  1.431995682501753E-01   1.93264549E-03\n",
      "  138  895  1.431944524433587E-01   1.00222462E-04\n",
      "  139  899  1.431937060048485E-01   4.99373553E-06\n",
      "  140  906  1.431735156122218E-01   5.99284127E-04\n",
      "  141  915  1.430993636345868E-01   6.43355721E-07\n",
      "tnc: fscale = 1246.74\n",
      "  142  922  1.430990250873622E-01   4.17932157E-08\n",
      "  143  928  1.430963716254763E-01   2.02328377E-05\n",
      "  144  935  1.430952896309216E-01   6.69858886E-07\n",
      "  145  944  1.430916847335353E-01   2.53838264E-06\n",
      "  146  952  1.430908459653265E-01   3.23789075E-07\n",
      "  147  959  1.430903891042628E-01   1.11471947E-04\n",
      "  148  968  1.430657132254635E-01   1.01198602E-06\n",
      "  149  976  1.430626595319498E-01   2.68428261E-06\n",
      "  150  985  1.430517184064757E-01   3.94911676E-06\n",
      "  151  993  1.430502613452125E-01   4.34127707E-08\n",
      "  152 1000  1.430498646244231E-01   1.77260832E-04\n",
      "  153 1005  1.430487650090300E-01   2.44174213E-06\n",
      "  154 1014  1.430438841694747E-01   1.53498187E-06\n",
      "  155 1022  1.430198942136937E-01   5.07680935E-06\n",
      "  156 1030  1.429025099992473E-01   2.06649664E-04\n",
      "  157 1038  1.428590629558183E-01   6.51347320E-05\n",
      "  158 1047  1.427486196673304E-01   1.70388544E-05\n",
      "  159 1050  1.427482237802311E-01   5.23784121E-05\n",
      "  160 1059  1.427298171556425E-01   3.80006184E-06\n",
      "  161 1067  1.427105444873192E-01   1.23775707E-05\n",
      "  162 1070  1.427104748753392E-01   3.85549969E-06\n",
      "  163 1081  1.426719539138676E-01   3.70561038E-03\n",
      "tnc: fscale = 16.4274\n",
      "  164 1084  1.426708288748869E-01   3.62229186E-06\n",
      "tnc: fscale = 525.422\n",
      "  165 1092  1.426636267038275E-01   3.08116422E-04\n",
      "  166 1098  1.426330546943596E-01   4.25130490E-06\n",
      "  167 1105  1.426215377923081E-01   2.79475077E-05\n",
      "  168 1109  1.426191689832510E-01   1.86387926E-05\n",
      "  169 1116  1.425637014327545E-01   5.26418381E-03\n",
      "tnc: fscale = 13.7827\n",
      "  170 1119  1.425624088935674E-01   6.78445105E-07\n",
      "tnc: fscale = 1214.07\n",
      "  171 1124  1.425594788950969E-01   4.51525152E-04\n",
      "tnc: fscale = 47.0608\n",
      "  172 1127  1.425593564322770E-01   1.95574995E-06\n",
      "  173 1133  1.425435056684680E-01   1.12669418E-03\n",
      "  174 1136  1.425431725627060E-01   1.70720033E-06\n",
      "  175 1147  1.424953740628606E-01   6.55333862E-07\n",
      "tnc: fscale = 1235.29\n",
      "  176 1155  1.424890279378185E-01   4.44942676E-06\n",
      "  177 1161  1.424742238454752E-01   4.34288362E-06\n",
      "  178 1168  1.424693595333461E-01   9.01447111E-06\n",
      "  179 1177  1.423298897238285E-01   1.08620601E-04\n",
      "  180 1185  1.422688133416947E-01   4.74688136E-06\n",
      "  181 1193  1.422054408702321E-01   4.32471131E-05\n",
      "  182 1201  1.421901568777778E-01   4.18176707E-07\n",
      "  183 1209  1.421877881980011E-01   4.24751687E-06\n",
      "  184 1218  1.421843354482397E-01   2.30130119E-08\n",
      "  185 1226  1.421833674750914E-01   1.37922221E-05\n",
      "  186 1233  1.421815441883892E-01   3.58350005E-06\n",
      "  187 1238  1.421814811209519E-01   2.31967642E-06\n",
      "  188 1242  1.421814459188032E-01   3.56232535E-06\n",
      "  189 1248  1.421802748212398E-01   2.72799024E-06\n",
      "  190 1256  1.421753812666423E-01   6.57360656E-06\n",
      "  191 1264  1.421714967910144E-01   4.99029200E-07\n",
      "  192 1271  1.421711340778976E-01   9.76997451E-07\n",
      "  193 1276  1.421710615797095E-01   1.67979162E-05\n",
      "  194 1280  1.421710049828127E-01   2.39206494E-05\n",
      "  195 1284  1.421705251753564E-01   1.54563883E-05\n",
      "  196 1288  1.421704934919560E-01   1.09622450E-05\n",
      "  197 1292  1.421704549243007E-01   7.93097431E-07\n",
      "  198 1298  1.421701430727833E-01   1.24382123E-07\n",
      "  199 1303  1.421701206196948E-01   4.17208621E-06\n",
      "  200 1307  1.421701040786311E-01   2.20667790E-06\n",
      "  201 1312  1.421698424349059E-01   1.27011622E-07\n",
      "  202 1321  1.421638239500380E-01   7.14406258E-07\n",
      "tnc: |fn-fn-1] = 1.18579e-08 -> convergence\n",
      "  203 1324  1.421638120921496E-01   3.83290231E-07\n",
      "tnc: Converged (|f_n-f_(n-1)| ~= 0)\n"
     ]
    }
   ],
   "source": [
    "def softmax(w, x):\n",
    "    w = w.reshape((x.shape[1], -1))\n",
    "    K = w.shape[1]\n",
    "    N = x.shape[0]\n",
    "    y = np.zeros((N, K))\n",
    "    for k in range(K):\n",
    "        y[:, k] = np.exp(x.dot(w[:, k]))\n",
    "    s = np.sum(y, axis = 1)\n",
    "    y = np.diag(1./s) @ y\n",
    "    return y\n",
    "\n",
    "def cost(w, x, y):\n",
    "    w = w.reshape((x.shape[1], -1))\n",
    "    yhat = softmax(w, x)\n",
    "    K = w.shape[1]\n",
    "    s = 0\n",
    "    for k in range(K):\n",
    "        s += np.sum(y[:, k] * np.log(yhat[:, k])) \n",
    "    return -s / len(y) \n",
    "\n",
    "def grad(w, x, y):\n",
    "    yhat = softmax(w, x)\n",
    "    error = yhat - y\n",
    "    return x.T @ error / x.shape[0] \n",
    "\n",
    "def train(X, y, maxfun=None):\n",
    "    X = np.insert(X, 0, np.ones(len(X)), axis=1)\n",
    "    theta = np.zeros((X.shape[1], y.shape[1]))\n",
    "    result = fmin_tnc(func=cost, x0=theta, fprime=grad, disp=5, args=(X, y), maxfun=maxfun)\n",
    "    \n",
    "    return result[0].reshape((X.shape[1], -1))\n",
    "\n",
    "W3 = train(Xtrain, ytrain, maxfun=1000)\n",
    "print(W3)\n",
    "\n",
    "W4 = train(transform(Xtrain), ytrain, maxfun=10000)\n",
    "print(W4)\n"
   ]
  },
  {
   "cell_type": "markdown",
   "metadata": {},
   "source": [
    "- Compute the accuracy, the precision and the recall of these classifiers"
   ]
  },
  {
   "cell_type": "code",
   "execution_count": 19,
   "metadata": {},
   "outputs": [
    {
     "name": "stdout",
     "output_type": "stream",
     "text": [
      "accuracy: 0.9333333333333333\n",
      "precision: 0.9315476190476191\n",
      "recall: 0.9444444444444445\n",
      "Confusion Matrix:  [[15  0  0]\n",
      " [ 1 15  2]\n",
      " [ 0  0 12]]\n",
      "Normalized Confusion Matrix:  [[1.         0.         0.        ]\n",
      " [0.05555556 0.83333333 0.11111111]\n",
      " [0.         0.         1.        ]]\n"
     ]
    },
    {
     "data": {
      "image/png": "[encoded data removed]",
      "text/plain": [
       "<Figure size 640x480 with 1 Axes>"
      ]
     },
     "metadata": {},
     "output_type": "display_data"
    }
   ],
   "source": [
    "def predict_multi(x, w):\n",
    "    x = np.insert(x, 0, np.ones(len(x)), axis=1)\n",
    "    preds = softmax(w, x)\n",
    "    return preds.argmax(axis=1)\n",
    "\n",
    "predictions = predict_multi(Xtest, W3) + 1\n",
    "\n",
    "print('accuracy:', metrics.accuracy_score(ytest, predictions))\n",
    "print('precision:', metrics.precision_score(ytest, predictions, average='macro'))\n",
    "print('recall:', metrics.recall_score(ytest, predictions, average='macro'))\n",
    "print(\"Confusion Matrix: \", metrics.confusion_matrix(ytest, predictions, normalize=None))\n",
    "print(\"Normalized Confusion Matrix: \", metrics.confusion_matrix(ytest, predictions, normalize='true'))\n",
    "\n",
    "plot_points(Xtrain, ytrain.argmax(axis=1))\n",
    "plot_boundary(Xtrain, lambda x: predict_multi(x, W3))"
   ]
  },
  {
   "cell_type": "code",
   "execution_count": 20,
   "metadata": {},
   "outputs": [
    {
     "name": "stdout",
     "output_type": "stream",
     "text": [
      "accuracy: 0.9333333333333333\n",
      "precision: 0.9315476190476191\n",
      "recall: 0.9444444444444445\n",
      "Confusion Matrix:  [[15  0  0]\n",
      " [ 1 15  2]\n",
      " [ 0  0 12]]\n",
      "Normalized Confusion Matrix:  [[1.         0.         0.        ]\n",
      " [0.05555556 0.83333333 0.11111111]\n",
      " [0.         0.         1.        ]]\n"
     ]
    },
    {
     "data": {
      "image/png": "[encoded data removed]",
      "text/plain": [
       "<Figure size 640x480 with 1 Axes>"
      ]
     },
     "metadata": {},
     "output_type": "display_data"
    }
   ],
   "source": [
    "predictions = predict_multi(transform(Xtest), W4) + 1\n",
    "\n",
    "print('accuracy:', metrics.accuracy_score(ytest, predictions))\n",
    "print('precision:', metrics.precision_score(ytest, predictions, average='macro'))\n",
    "print('recall:', metrics.recall_score(ytest, predictions, average='macro'))\n",
    "print(\"Confusion Matrix: \", metrics.confusion_matrix(ytest, predictions, normalize=None))\n",
    "print(\"Normalized Confusion Matrix: \", metrics.confusion_matrix(ytest, predictions, normalize='true'))\n",
    "\n",
    "plot_points(Xtrain, ytrain.argmax(axis=1))\n",
    "plot_boundary(Xtrain, lambda x: predict_multi(transform(x), W4))"
   ]
  },
  {
   "cell_type": "markdown",
   "metadata": {},
   "source": [
    "- Conclude?"
   ]
  },
  {
   "cell_type": "code",
   "execution_count": null,
   "metadata": {},
   "outputs": [],
   "source": []
  },
  {
   "cell_type": "markdown",
   "metadata": {},
   "source": [
    "# Regularization\n",
    "\n",
    "Next, we want to include all the features from the data set."
   ]
  },
  {
   "cell_type": "code",
   "execution_count": 21,
   "metadata": {},
   "outputs": [],
   "source": [
    "X = data.drop(labels='class', axis=1).to_numpy()\n",
    "y = data['class'].to_numpy()\n",
    "Xtrain, Xtest, Ytrain, ytest = train_test_split(X, y, test_size = 0.25, random_state = 25)\n",
    "ytrain = label_binarize(ytrain, classes=[1, 2, 3])"
   ]
  },
  {
   "cell_type": "markdown",
   "metadata": {},
   "source": [
    "Because we are now significantly increasing the number of features, we apply regularisation  as part of new cost and gradient functions.  As we have seen with linear regression, regularization prevents overfitting, a situation where a large number of features allows the classifier to fit the training set *too* exactly, meaning that it fails to generalize well and perform accurately on data it hasn't yet seen.\n",
    "\n",
    "To avoid this problem, we add an additional term to the cost function\n",
    "\n",
    "$$\n",
    "J(\\Theta) =-\\frac{1}{N}\\sum_{i=1}^{N}\\sum_{k=1}^3\\left[y_k^{i}\\log\\left(SoftMax_\\Theta\\left(x^{i}, k\\right)\\right)\\right] + \\frac{\\lambda}{2}\\left(\\left\\|\\theta_1\\right\\|_2^2+\\left\\|\\theta_2\\right\\|_2^2+\\left\\|\\theta_3\\right\\|_2^2\\right)\n",
    "$$\n",
    "\n",
    "- Compute the partiel derivatives of $J(\\theta)$ and define the update formula of the gradient descent algorithm?"
   ]
  },
  {
   "cell_type": "markdown",
   "metadata": {},
   "source": []
  },
  {
   "cell_type": "markdown",
   "metadata": {},
   "source": [
    "- Write a function that minimize $J(\\theta)$ and test it on the WINE dataset?"
   ]
  },
  {
   "cell_type": "code",
   "execution_count": 22,
   "metadata": {},
   "outputs": [
    {
     "name": "stdout",
     "output_type": "stream",
     "text": [
      "[[-2.58929778e-05  3.08909024e-05 -4.99792462e-06]\n",
      " [-3.27294004e-04  3.84388872e-04 -5.70948678e-05]\n",
      " [-9.84536777e-06 -1.11496932e-05  2.09950610e-05]\n",
      " [-4.18612946e-05  4.43021932e-05 -2.44089863e-06]\n",
      " [-7.29700396e-04  7.56008434e-04 -2.63080380e-05]\n",
      " [-2.20634744e-03  3.74945065e-03 -1.54310321e-03]\n",
      " [-5.25398600e-05  5.20409421e-05  4.98917862e-07]\n",
      " [-5.14244885e-05  3.92198499e-05  1.22046386e-05]\n",
      " [-3.07885890e-06  1.04711160e-05 -7.39225706e-06]\n",
      " [-7.55310949e-05  5.41807885e-05  2.13503064e-05]\n",
      " [-3.11058521e-04  3.02032181e-04  9.02633976e-06]\n",
      " [-3.76313845e-06  2.31946085e-06  1.44367760e-06]\n",
      " [-3.87581032e-05  3.19593980e-05  6.79870519e-06]\n",
      " [ 3.28871836e-04 -2.59742137e-04 -6.91296982e-05]]\n"
     ]
    }
   ],
   "source": [
    "from scipy.optimize import minimize\n",
    "\n",
    "def grad(w, x, y, lamb):\n",
    "    w = w.reshape((x.shape[1], -1))\n",
    "    yhat = softmax(w, x)\n",
    "    error = yhat - y\n",
    "    return (x.T @ error / X.shape[0] + lamb * w).ravel()\n",
    "\n",
    "def cost(w, x, y, lamb):\n",
    "    w = w.reshape((x.shape[1], -1))\n",
    "    yhat = softmax(w, x)\n",
    "    K = w.shape[1]\n",
    "    s = 0\n",
    "    for k in range(K):\n",
    "        s += np.sum(y[:, k] * np.log(yhat[:, k])) + lamb / 2 * np.linalg.norm(w[:,k])**2\n",
    "    return -s / len(y)\n",
    "\n",
    "def train(X, y, lamb, maxfun=None):\n",
    "    X = np.insert(X, 0, np.ones(len(X)), axis=1)\n",
    "    theta = np.zeros((X.shape[1], y.shape[1]))\n",
    "    # result = fmin_tnc(func=cost, x0=theta, fprime=grad, disp=5, args=(X, y, lamb), maxfun=maxfun)\n",
    "    # return result[0].reshape((X.shape[1], -1))\n",
    "\n",
    "    result = minimize(fun=cost, x0=theta.flatten(), method = 'Newton-CG', jac=grad, args=(X, y, lamb), options={'maxiter' : maxfun})\n",
    "    return result['x'].reshape((X.shape[1], -1))\n",
    "\n",
    "W5 = train(Xtrain, ytrain, 2, maxfun=10000000)\n",
    "print(W5)"
   ]
  },
  {
   "cell_type": "markdown",
   "metadata": {},
   "source": [
    "- Compare with non regularized version?"
   ]
  },
  {
   "cell_type": "code",
   "execution_count": 23,
   "metadata": {},
   "outputs": [
    {
     "name": "stdout",
     "output_type": "stream",
     "text": [
      "accuracy: 0.7111111111111111\n",
      "precision: 0.5428571428571428\n",
      "recall: 0.5555555555555555\n",
      "Confusion Matrix:  [[10  5  0]\n",
      " [ 0 22  0]\n",
      " [ 0  8  0]]\n",
      "Normalized Confusion Matrix:  [[0.66666667 0.33333333 0.        ]\n",
      " [0.         1.         0.        ]\n",
      " [0.         1.         0.        ]]\n"
     ]
    },
    {
     "name": "stderr",
     "output_type": "stream",
     "text": [
      "/Users/reda/pythonEnv/Py312Sys/lib/python3.12/site-packages/sklearn/metrics/_classification.py:1509: UndefinedMetricWarning: Precision is ill-defined and being set to 0.0 in labels with no predicted samples. Use `zero_division` parameter to control this behavior.\n",
      "  _warn_prf(average, modifier, f\"{metric.capitalize()} is\", len(result))\n"
     ]
    }
   ],
   "source": [
    "predictions = predict_multi(Xtest, W5) + 1\n",
    "print('accuracy:', metrics.accuracy_score(ytest, predictions))\n",
    "print('precision:', metrics.precision_score(ytest, predictions, average='macro'))\n",
    "print('recall:', metrics.recall_score(ytest, predictions, average='macro'))\n",
    "\n",
    "print(\"Confusion Matrix: \", metrics.confusion_matrix(ytest, predictions, normalize=None))\n",
    "print(\"Normalized Confusion Matrix: \", metrics.confusion_matrix(ytest, predictions, normalize='true'))"
   ]
  },
  {
   "cell_type": "markdown",
   "metadata": {},
   "source": [
    "- Conclude?"
   ]
  },
  {
   "cell_type": "code",
   "execution_count": 24,
   "metadata": {},
   "outputs": [
    {
     "name": "stdout",
     "output_type": "stream",
     "text": [
      "Tuned Hyperparameters : {'C': 1.0, 'penalty': 'l2', 'solver': 'newton-cg'}\n",
      "Accuracy : 0.9662921348314606\n"
     ]
    }
   ],
   "source": [
    "from sklearn.model_selection import GridSearchCV\n",
    "from sklearn.linear_model import LogisticRegression\n",
    "from sklearn.model_selection import PredefinedSplit\n",
    "\n",
    "cv = PredefinedSplit(np.hstack(([-1] * Xtrain.shape[0], [0] * Xtest.shape[0])))\n",
    "\n",
    "parameters = {\n",
    "    'penalty' : ['l2'], \n",
    "    'C'       : np.logspace(-3,3,7),\n",
    "    'solver'  : ['newton-cg']\n",
    "}\n",
    "\n",
    "logreg = LogisticRegression()\n",
    "\n",
    "clf = GridSearchCV(logreg,                    # model\n",
    "                   param_grid = parameters,   # hyperparameters\n",
    "                   scoring='accuracy',        # metric for scoring\n",
    "                   cv=2)                      # number of folds\n",
    "\n",
    "clf.fit(np.vstack((Xtrain, Xtest)) , np.hstack((Ytrain, ytest)))\n",
    "print(\"Tuned Hyperparameters :\", clf.best_params_)\n",
    "print(\"Accuracy :\",clf.best_score_)"
   ]
  },
  {
   "cell_type": "code",
   "execution_count": null,
   "metadata": {},
   "outputs": [],
   "source": []
  }
 ],
 "metadata": {
  "kernelspec": {
   "display_name": "Py312Sys",
   "language": "python",
   "name": "py312sys"
  },
  "language_info": {
   "codemirror_mode": {
    "name": "ipython",
    "version": 3
   },
   "file_extension": ".py",
   "mimetype": "text/x-python",
   "name": "python",
   "nbconvert_exporter": "python",
   "pygments_lexer": "ipython3",
   "version": "3.12.2"
  }
 },
 "nbformat": 4,
 "nbformat_minor": 4
}
