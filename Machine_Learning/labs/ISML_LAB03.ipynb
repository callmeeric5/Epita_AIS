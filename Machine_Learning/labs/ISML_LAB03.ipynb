{
 "cells": [
  {
   "cell_type": "markdown",
   "metadata": {},
   "source": [
    "# <center> LAB 03: Backpropagation in Multilayer Neural Networks<br> <small>Réda DEHAK<br> 06 January 2021</small> </center>\n",
    "\n",
    "The goal of this lab is :\n",
    "\n",
    "    - Understand neural networks and their layered architectures,\n",
    "    - Understand and implement backpropagation in `Numpy`"
   ]
  },
  {
   "cell_type": "markdown",
   "metadata": {},
   "source": [
    "## Part 1: Simple Case 2D problem \n",
    "### Import Data\n",
    "\n",
    "We will use the Wine dataset from UCI. These data are the results of a chemical analysis of wines grown in the same region in Italy but derived from three different cultivars. The analysis determined the quantities of thirteen constituents found in each of the three types of wines.\n",
    "\n",
    "# Loading and Plotting Data\n",
    " \n",
    "First, we will use only two features from the data set: alcohol and ash (We can plot the solution in 2D space). The labels are supplied as an array of data with values from 1 to 3."
   ]
  },
  {
   "cell_type": "code",
   "execution_count": 1,
   "metadata": {},
   "outputs": [],
   "source": [
    "import pandas as pd\n",
    "import numpy as np\n",
    "\n",
    "data = pd.read_csv('data.txt')\n",
    "\n",
    "X = data[['alcohol', 'flavanoids']].to_numpy()\n",
    "y = data[['class']].to_numpy().flatten() - 1"
   ]
  },
  {
   "cell_type": "code",
   "execution_count": 2,
   "metadata": {},
   "outputs": [
    {
     "name": "stdout",
     "output_type": "stream",
     "text": [
      "train: 133 test: 45\n"
     ]
    }
   ],
   "source": [
    "# split data into train and validation set\n",
    "from sklearn.model_selection import train_test_split\n",
    "\n",
    "# We fixe the random_state to have the same split\n",
    "X_train, X_test, y_train, y_test = train_test_split(X, y, test_size=0.25, random_state=42)\n",
    "print('train:', len(X_train), 'test:', len(X_test))"
   ]
  },
  {
   "cell_type": "code",
   "execution_count": 3,
   "metadata": {},
   "outputs": [
    {
     "data": {
      "image/png": "[encoded data removed]",
      "text/plain": [
       "<Figure size 640x480 with 1 Axes>"
      ]
     },
     "metadata": {},
     "output_type": "display_data"
    }
   ],
   "source": [
    "import matplotlib.pyplot as plt\n",
    "%matplotlib inline\n",
    "\n",
    "MARKERS = ['+', 'x', '.']\n",
    "COLORS = ['red', 'green', 'blue']\n",
    "\n",
    "def plot_points(xy, labels):\n",
    "    \n",
    "    for i, label in enumerate(set(labels)):\n",
    "        points = np.array([xy[j,:] for j in range(len(xy)) if labels[j] == label])\n",
    "        marker = MARKERS[i % len(MARKERS)]\n",
    "        color = COLORS[i % len(COLORS)]\n",
    "        plt.scatter(points[:,0], points[:,1], marker=marker, color=color)\n",
    "\n",
    "plot_points(X_train, y_train.flatten())"
   ]
  },
  {
   "cell_type": "markdown",
   "metadata": {},
   "source": [
    "### Preprocessing\n",
    "\n",
    "- Normalization\n",
    "- Train / test split"
   ]
  },
  {
   "cell_type": "code",
   "execution_count": 4,
   "metadata": {},
   "outputs": [
    {
     "name": "stdout",
     "output_type": "stream",
     "text": [
      "[12.97285714  2.02120301]\n",
      "[0.82686706 1.00174963]\n"
     ]
    }
   ],
   "source": [
    "from sklearn import preprocessing\n",
    "\n",
    "# Data Normalization: mean = 0; standard deviation = 1.0\n",
    "scaler = preprocessing.StandardScaler()\n",
    "X_train = scaler.fit_transform(X_train)\n",
    "X_test = scaler.transform(X_test)\n",
    "\n",
    "print(scaler.mean_)\n",
    "print(scaler.scale_)"
   ]
  },
  {
   "cell_type": "code",
   "execution_count": 5,
   "metadata": {},
   "outputs": [
    {
     "data": {
      "text/plain": [
       "(133, 2)"
      ]
     },
     "execution_count": 5,
     "metadata": {},
     "output_type": "execute_result"
    }
   ],
   "source": [
    "X_train.shape"
   ]
  },
  {
   "cell_type": "code",
   "execution_count": 6,
   "metadata": {},
   "outputs": [
    {
     "data": {
      "text/plain": [
       "dtype('float64')"
      ]
     },
     "execution_count": 6,
     "metadata": {},
     "output_type": "execute_result"
    }
   ],
   "source": [
    "X_train.dtype"
   ]
  },
  {
   "cell_type": "code",
   "execution_count": 7,
   "metadata": {},
   "outputs": [
    {
     "data": {
      "text/plain": [
       "(45, 2)"
      ]
     },
     "execution_count": 7,
     "metadata": {},
     "output_type": "execute_result"
    }
   ],
   "source": [
    "X_test.shape"
   ]
  },
  {
   "cell_type": "code",
   "execution_count": 8,
   "metadata": {},
   "outputs": [
    {
     "data": {
      "text/plain": [
       "dtype('float64')"
      ]
     },
     "execution_count": 8,
     "metadata": {},
     "output_type": "execute_result"
    }
   ],
   "source": [
    "X_test.dtype"
   ]
  },
  {
   "cell_type": "code",
   "execution_count": 9,
   "metadata": {},
   "outputs": [
    {
     "data": {
      "text/plain": [
       "(133,)"
      ]
     },
     "execution_count": 9,
     "metadata": {},
     "output_type": "execute_result"
    }
   ],
   "source": [
    "y_train.shape"
   ]
  },
  {
   "cell_type": "code",
   "execution_count": 10,
   "metadata": {},
   "outputs": [
    {
     "data": {
      "text/plain": [
       "dtype('int64')"
      ]
     },
     "execution_count": 10,
     "metadata": {},
     "output_type": "execute_result"
    }
   ],
   "source": [
    "y_train.dtype"
   ]
  },
  {
   "cell_type": "markdown",
   "metadata": {},
   "source": [
    "### One-hot encoding for class label data\n",
    "\n",
    "First let's define a helper function to compute the one hot encoding of an integer array for a fixed number of classes (similar to keras' `to_categorical`):"
   ]
  },
  {
   "cell_type": "code",
   "execution_count": 11,
   "metadata": {},
   "outputs": [],
   "source": [
    "def one_hot(y, num_classes):\n",
    "    return np.eye(num_classes)[y]"
   ]
  },
  {
   "cell_type": "code",
   "execution_count": 12,
   "metadata": {},
   "outputs": [
    {
     "name": "stderr",
     "output_type": "stream",
     "text": [
      "2024-04-05 10:08:23.550677: I tensorflow/core/platform/cpu_feature_guard.cc:210] This TensorFlow binary is optimized to use available CPU instructions in performance-critical operations.\n",
      "To enable the following instructions: AVX2 FMA, in other operations, rebuild TensorFlow with the appropriate compiler flags.\n"
     ]
    },
    {
     "data": {
      "text/plain": [
       "array([0., 0., 0., 1., 0.])"
      ]
     },
     "execution_count": 12,
     "metadata": {},
     "output_type": "execute_result"
    }
   ],
   "source": [
    "from tensorflow.keras.utils import to_categorical\n",
    "to_categorical(3, num_classes=5)"
   ]
  },
  {
   "cell_type": "code",
   "execution_count": 13,
   "metadata": {},
   "outputs": [
    {
     "data": {
      "text/plain": [
       "array([0., 0., 0., 1., 0.])"
      ]
     },
     "execution_count": 13,
     "metadata": {},
     "output_type": "execute_result"
    }
   ],
   "source": [
    "one_hot(y=3, num_classes=5)"
   ]
  },
  {
   "cell_type": "code",
   "execution_count": 14,
   "metadata": {},
   "outputs": [
    {
     "data": {
      "text/plain": [
       "array([[1., 0., 0., 0., 0., 0., 0., 0., 0., 0.],\n",
       "       [0., 0., 0., 0., 1., 0., 0., 0., 0., 0.],\n",
       "       [0., 0., 0., 0., 0., 0., 0., 0., 0., 1.],\n",
       "       [0., 1., 0., 0., 0., 0., 0., 0., 0., 0.]])"
      ]
     },
     "execution_count": 14,
     "metadata": {},
     "output_type": "execute_result"
    }
   ],
   "source": [
    "to_categorical([0, 4, 9, 1], num_classes=10)"
   ]
  },
  {
   "cell_type": "code",
   "execution_count": 15,
   "metadata": {},
   "outputs": [
    {
     "data": {
      "text/plain": [
       "array([[1., 0., 0., 0., 0., 0., 0., 0., 0., 0.],\n",
       "       [0., 0., 0., 0., 1., 0., 0., 0., 0., 0.],\n",
       "       [0., 0., 0., 0., 0., 0., 0., 0., 0., 1.],\n",
       "       [0., 1., 0., 0., 0., 0., 0., 0., 0., 0.]])"
      ]
     },
     "execution_count": 15,
     "metadata": {},
     "output_type": "execute_result"
    }
   ],
   "source": [
    "one_hot(y=[0, 4, 9, 1], num_classes=10)"
   ]
  },
  {
   "cell_type": "markdown",
   "metadata": {},
   "source": [
    "### The softmax function\n",
    "\n",
    "Now let's implement the softmax vector function:\n",
    "\n",
    "$$\n",
    "softmax(\\mathbf{x}) = \\frac{1}{\\sum_{i=1}^{n}{e^{x_i}}}\n",
    "\\cdot\n",
    "\\begin{bmatrix}\n",
    "  e^{x_1}\\\\\\\\\n",
    "  e^{x_2}\\\\\\\\\n",
    "  \\vdots\\\\\\\\\n",
    "  e^{x_n}\n",
    "\\end{bmatrix}\n",
    "$$"
   ]
  },
  {
   "cell_type": "code",
   "execution_count": 16,
   "metadata": {},
   "outputs": [],
   "source": [
    "def softmax(X):\n",
    "    t = np.exp(X)\n",
    "    return t / np.sum(t, axis=-1, keepdims=True)"
   ]
  },
  {
   "cell_type": "markdown",
   "metadata": {},
   "source": [
    "Make sure that this works one vector at a time (and check that the components sum to one):"
   ]
  },
  {
   "cell_type": "code",
   "execution_count": 17,
   "metadata": {},
   "outputs": [
    {
     "name": "stdout",
     "output_type": "stream",
     "text": [
      "[9.99662391e-01 3.35349373e-04 2.25956630e-06]\n",
      "1.0\n"
     ]
    }
   ],
   "source": [
    "print(softmax([10, 2, -3]))\n",
    "print(np.sum(softmax([10, 2, -3])))"
   ]
  },
  {
   "cell_type": "markdown",
   "metadata": {},
   "source": [
    "Note that a naive implementation of softmax might not be able process a batch of activations in a single call:"
   ]
  },
  {
   "cell_type": "code",
   "execution_count": 18,
   "metadata": {},
   "outputs": [
    {
     "name": "stdout",
     "output_type": "stream",
     "text": [
      "[[9.99662391e-01 3.35349373e-04 2.25956630e-06]\n",
      " [2.47262316e-03 9.97527377e-01 1.38536042e-11]]\n",
      "[1. 1.]\n"
     ]
    }
   ],
   "source": [
    "X = np.array([[10, 2, -3],\n",
    "              [-1, 5, -20]])\n",
    "print(softmax(X))\n",
    "print(np.sum(softmax(X), axis=-1))"
   ]
  },
  {
   "cell_type": "markdown",
   "metadata": {},
   "source": [
    "Implement a function that given the true one-hot encoded class `Y_true` and some predicted probabilities `Y_pred` returns the negative log likelihood."
   ]
  },
  {
   "cell_type": "code",
   "execution_count": 19,
   "metadata": {},
   "outputs": [
    {
     "name": "stdout",
     "output_type": "stream",
     "text": [
      "0.0033467449648051147\n"
     ]
    }
   ],
   "source": [
    "EPS = 1E-5\n",
    "def nllk(Y_true, Y_pred):\n",
    "    Y_true = np.asarray(Y_true)\n",
    "    Y_pred = np.asarray(Y_pred)\n",
    "    return -1/len(Y_true) * np.sum(Y_true * np.log(Y_pred + EPS)) \n",
    "\n",
    "\n",
    "# Make sure that it works for a simple sample at a time\n",
    "print(nllk([1, 0, 0], [.99, 0.01, 0]))"
   ]
  },
  {
   "cell_type": "markdown",
   "metadata": {},
   "source": [
    "Check that the nll of a very confident yet bad prediction is a much higher positive number:"
   ]
  },
  {
   "cell_type": "code",
   "execution_count": 20,
   "metadata": {},
   "outputs": [
    {
     "name": "stdout",
     "output_type": "stream",
     "text": [
      "1.5347235618850026\n"
     ]
    }
   ],
   "source": [
    "print(nllk([1, 0, 0], [0.01, 0.01, .98]))"
   ]
  },
  {
   "cell_type": "markdown",
   "metadata": {},
   "source": [
    "Implement the `sigmoid` and its element-wise derivative `dsigmoid` functions:\n",
    "\n",
    "$$\n",
    "sigmoid(x) = \\frac{1}{1 + e^{-x}}\n",
    "$$\n",
    "\n",
    "$$\n",
    "dsigmoid(x) = sigmoid(x) \\cdot (1 - sigmoid(x))\n",
    "$$"
   ]
  },
  {
   "cell_type": "code",
   "execution_count": 21,
   "metadata": {},
   "outputs": [
    {
     "data": {
      "image/png": "[encoded data removed]",
      "text/plain": [
       "<Figure size 640x480 with 1 Axes>"
      ]
     },
     "metadata": {},
     "output_type": "display_data"
    }
   ],
   "source": [
    "def sigmoid(X):\n",
    "    return 1 / (1+ np.exp(-X)) \n",
    "\n",
    "\n",
    "def dsigmoid(X):\n",
    "    t = sigmoid(X)\n",
    "    return t * (1 - t)\n",
    "\n",
    "\n",
    "x = np.linspace(-5, 5, 100)\n",
    "plt.plot(x, sigmoid(x), label='sigmoid')\n",
    "plt.plot(x, dsigmoid(x), label='dsigmoid')\n",
    "plt.legend(loc='best');"
   ]
  },
  {
   "cell_type": "markdown",
   "metadata": {},
   "source": [
    "- Implement `forward` and `forward_keep_all` functions for a model with a hidden layer with a sigmoid activation function:\n",
    "  - $\\mathbf{h} = sigmoid\\left(\\mathbf{W}_h^T \\hat{\\mathbf{x}}\\right)$\n",
    "  - $\\mathbf{y} = softmax\\left(\\mathbf{W}_o^T \\hat{\\mathbf{h}}\\right)$\n",
    "\n",
    "- Notes: \n",
    "  - `forward_keep_activations` is similar to forward, but also returns hidden activations and pre activations;\n",
    "\n",
    "- Implement the grad function to compute all gradients; check that the gradients are well defined;\n",
    "\n",
    "- Implement the `train` and `loss` functions."
   ]
  },
  {
   "cell_type": "code",
   "execution_count": 22,
   "metadata": {},
   "outputs": [],
   "source": [
    "a=np.zeros((3,4))"
   ]
  },
  {
   "cell_type": "code",
   "execution_count": 23,
   "metadata": {},
   "outputs": [
    {
     "data": {
      "text/plain": [
       "array([[1.],\n",
       "       [1.],\n",
       "       [1.]])"
      ]
     },
     "execution_count": 23,
     "metadata": {},
     "output_type": "execute_result"
    }
   ],
   "source": [
    "np.ones((3,1))"
   ]
  },
  {
   "cell_type": "code",
   "execution_count": 24,
   "metadata": {},
   "outputs": [
    {
     "data": {
      "text/plain": [
       "array([[1., 0., 0., 0., 0.],\n",
       "       [1., 0., 0., 0., 0.],\n",
       "       [1., 0., 0., 0., 0.]])"
      ]
     },
     "execution_count": 24,
     "metadata": {},
     "output_type": "execute_result"
    }
   ],
   "source": [
    "np.hstack((np.ones((3,1)), a))"
   ]
  },
  {
   "cell_type": "code",
   "execution_count": 38,
   "metadata": {},
   "outputs": [],
   "source": [
    "EPSILON = 1e-8\n",
    "\n",
    "class NeuralNet():\n",
    "    \"\"\"MLP with 1 hidden layer with a sigmoid activation\"\"\"\n",
    "    \n",
    "    def __init__(self, input_size, hidden_size, output_size):\n",
    "        # TODO\n",
    "        self.W_h = np.random.uniform(size=(input_size + 1, hidden_size), high=0.01, low=-0.01)     \n",
    "        self.W_o = np.random.uniform(size=(hidden_size + 1, output_size), high=0.01, low=-0.01)  \n",
    "        self.output_size = output_size\n",
    "        \n",
    "    def forward(self, X):\n",
    "        X = np.atleast_2d(X)\n",
    "        \n",
    "        # First Layer\n",
    "        Inh = np.hstack((np.ones((len(X), 1)), X))\n",
    "        Zh = Inh @ self.W_h\n",
    "        Oh = sigmoid(Zh)\n",
    "        \n",
    "        # Second Layer\n",
    "        InO = np.hstack((np.ones((len(Oh), 1)), Oh))\n",
    "        Zo = InO @ self.W_o\n",
    "        Oo = softmax(Zo)\n",
    "        \n",
    "        return Oo\n",
    "    \n",
    "    def forward_keep_activations(self, X):\n",
    "        X = np.atleast_2d(X)\n",
    "        \n",
    "        # First Layer\n",
    "        Inh = np.hstack((np.ones((len(X), 1)), X))\n",
    "        Zh = Inh @ self.W_h\n",
    "        Oh = sigmoid(Zh)\n",
    "        \n",
    "        # Second Layer\n",
    "        InO = np.hstack((np.ones((len(Oh), 1)), Oh))\n",
    "        Zo = InO @ self.W_o\n",
    "        Oo = softmax(Zo)\n",
    "        \n",
    "        return Oo, InO, Zh, Inh\n",
    "    \n",
    "    def loss(self, X, y):\n",
    "        return nllk(one_hot(y, num_classes=self.output_size), self.forward(X))\n",
    "\n",
    "    def grad_loss(self, x, y_true):\n",
    "        x = np.atleast_2d(x)\n",
    "        N = x.shape[0]\n",
    "        y = one_hot(y_true, num_classes=self.output_size)\n",
    "\n",
    "        Oo, InO, Zh, Inh = self.forward_keep_activations(x)\n",
    "        # Output Layer\n",
    "\n",
    "        dEdZo = (Oo - y)\n",
    "        dEdWo = InO.T @ dEdZo\n",
    "\n",
    "        # First Layer\n",
    "        dEdZh = dsigmoid(Zh) * (dEdZo @ self.W_o[1:, :].T)\n",
    "        dEdWh = Inh.T @ dEdZh\n",
    "        \n",
    "        return {\"dEdW_h\": dEdWh / N, \"dEdW_o\": dEdWo / N }\n",
    "\n",
    "    \n",
    "    def train(self, x, y, learning_rate, l2 = 0.):\n",
    "        # One step of Backpropagation on x\n",
    "        # l2 is the L2 regularization coefficient \n",
    "        # TODO\n",
    "        grad = self.grad_loss(x, y)\n",
    "        l2wh = l2 * self.W_h\n",
    "        l2wh[0, :] = 0 #  bias is not regularized\n",
    "        self.W_h = self.W_h - learning_rate * (grad[\"dEdW_h\"] + l2wh)\n",
    "        l2wo = l2 * self.W_o\n",
    "        l2wo[0, :] = 0 #  bias is not regularized\n",
    "        self.W_o = self.W_o - learning_rate * (grad[\"dEdW_o\"] + l2wo)\n",
    "\n",
    "    def predict(self, X):\n",
    "        if len(X) == 1:\n",
    "            return np.argmax(self.forward(X))\n",
    "        else:\n",
    "            return np.argmax(self.forward(X), axis=1)\n",
    "\n",
    "    def accuracy(self, X, y):\n",
    "        y_preds = np.argmax(self.forward(X), axis=1)\n",
    "        return np.mean(y_preds == y)"
   ]
  },
  {
   "cell_type": "markdown",
   "metadata": {},
   "source": [
    "Use the class NeuralNet to train a classifier on Wine Dataset, try different values for n_hidden (1,2,3 and 5), different Learning rate (0.1, 1, .5 and .01) and different l2 (0, 0.001, 0.005, 0.01) see the difference"
   ]
  },
  {
   "cell_type": "code",
   "execution_count": 39,
   "metadata": {},
   "outputs": [],
   "source": [
    "n_hidden = 5\n",
    "n_features = 2\n",
    "n_classes = 3\n",
    "modelWine = NeuralNet(n_features, n_hidden, n_classes)"
   ]
  },
  {
   "cell_type": "code",
   "execution_count": 40,
   "metadata": {},
   "outputs": [
    {
     "data": {
      "text/plain": [
       "1.0983490653874257"
      ]
     },
     "execution_count": 40,
     "metadata": {},
     "output_type": "execute_result"
    }
   ],
   "source": [
    "modelWine.loss(X_train, y_train)"
   ]
  },
  {
   "cell_type": "code",
   "execution_count": 41,
   "metadata": {},
   "outputs": [
    {
     "data": {
      "text/plain": [
       "0.39849624060150374"
      ]
     },
     "execution_count": 41,
     "metadata": {},
     "output_type": "execute_result"
    }
   ],
   "source": [
    "modelWine.accuracy(X_train, y_train)"
   ]
  },
  {
   "cell_type": "code",
   "execution_count": 42,
   "metadata": {},
   "outputs": [
    {
     "name": "stdout",
     "output_type": "stream",
     "text": [
      "1.0983490653874257\n",
      "Random init: train loss: 1.09835, train acc: 0.398, test acc: 0.400\n",
      "Epoch #1, train loss: 1.12599, train acc: 0.398, test acc: 0.400\n",
      "Epoch #2, train loss: 1.09703, train acc: 0.398, test acc: 0.400\n",
      "Epoch #3, train loss: 0.89397, train acc: 0.398, test acc: 0.400\n",
      "Epoch #4, train loss: 0.58357, train acc: 0.752, test acc: 0.889\n",
      "Epoch #5, train loss: 0.42030, train acc: 0.857, test acc: 0.933\n",
      "Epoch #6, train loss: 0.33804, train acc: 0.910, test acc: 0.911\n",
      "Epoch #7, train loss: 0.29374, train acc: 0.910, test acc: 0.933\n",
      "Epoch #8, train loss: 0.26756, train acc: 0.925, test acc: 0.933\n",
      "Epoch #9, train loss: 0.25059, train acc: 0.932, test acc: 0.933\n",
      "Epoch #10, train loss: 0.23868, train acc: 0.932, test acc: 0.933\n",
      "Epoch #11, train loss: 0.22977, train acc: 0.932, test acc: 0.933\n",
      "Epoch #12, train loss: 0.22276, train acc: 0.932, test acc: 0.933\n",
      "Epoch #13, train loss: 0.21704, train acc: 0.932, test acc: 0.933\n",
      "Epoch #14, train loss: 0.21222, train acc: 0.932, test acc: 0.933\n",
      "Epoch #15, train loss: 0.20806, train acc: 0.932, test acc: 0.933\n"
     ]
    }
   ],
   "source": [
    "losses, accuracies, accuracies_test = [], [], []\n",
    "print(modelWine.loss(X_train, y_train))\n",
    "losses.append(modelWine.loss(X_train, y_train))\n",
    "accuracies.append(modelWine.accuracy(X_train, y_train))\n",
    "accuracies_test.append(modelWine.accuracy(X_test, y_test))\n",
    "\n",
    "print(\"Random init: train loss: %0.5f, train acc: %0.3f, test acc: %0.3f\"\n",
    "      % (losses[-1], accuracies[-1], accuracies_test[-1]))\n",
    "\n",
    "for epoch in range(15):\n",
    "    \n",
    "    for i in np.arange(X_train.shape[0]):\n",
    "        modelWine.train(X_train[i, :], y_train[i], .1)\n",
    "    losses.append(modelWine.loss(X_train, y_train))\n",
    "    accuracies.append(modelWine.accuracy(X_train, y_train))\n",
    "    accuracies_test.append(modelWine.accuracy(X_test, y_test))\n",
    "    print(\"Epoch #%d, train loss: %0.5f, train acc: %0.3f, test acc: %0.3f\"\n",
    "          % (epoch + 1, losses[-1], accuracies[-1], accuracies_test[-1]))"
   ]
  },
  {
   "cell_type": "code",
   "execution_count": 43,
   "metadata": {},
   "outputs": [
    {
     "data": {
      "image/png": "[encoded data removed]",
      "text/plain": [
       "<Figure size 640x480 with 1 Axes>"
      ]
     },
     "metadata": {},
     "output_type": "display_data"
    }
   ],
   "source": [
    "plt.plot(losses)\n",
    "plt.title(\"Training loss\");"
   ]
  },
  {
   "cell_type": "code",
   "execution_count": 44,
   "metadata": {},
   "outputs": [
    {
     "data": {
      "image/png": "[encoded data removed]",
      "text/plain": [
       "<Figure size 640x480 with 1 Axes>"
      ]
     },
     "metadata": {},
     "output_type": "display_data"
    }
   ],
   "source": [
    "plt.plot(accuracies, label='train')\n",
    "plt.plot(accuracies_test, label='test')\n",
    "plt.ylim(0, 1.1)\n",
    "plt.ylabel(\"accuracy\")\n",
    "plt.legend(loc='best');"
   ]
  },
  {
   "cell_type": "code",
   "execution_count": 45,
   "metadata": {},
   "outputs": [
    {
     "data": {
      "image/png": "[encoded data removed]",
      "text/plain": [
       "<Figure size 640x480 with 1 Axes>"
      ]
     },
     "metadata": {},
     "output_type": "display_data"
    }
   ],
   "source": [
    "def plot_boundary(X, pred):\n",
    "    \n",
    "    x_min, x_max = X[:,0].min() - .1, X[:,0].max() + .1\n",
    "    y_min, y_max = X[:,1].min() - .1, X[:,1].max() + .1\n",
    "    \n",
    "    xs, ys = np.meshgrid(\n",
    "        np.linspace(x_min, x_max, 200),\n",
    "        np.linspace(y_min, y_max, 200)\n",
    "    )\n",
    "\n",
    "    xys = np.column_stack([xs.ravel(), ys.ravel()])\n",
    "    zs = pred(xys).reshape(xs.shape)\n",
    "    plt.contour(xs, ys, zs, colors='black')\n",
    "\n",
    "plot_points(X_train, y_train.flatten())\n",
    "plot_boundary(X_train, lambda x: modelWine.predict(x))"
   ]
  },
  {
   "cell_type": "markdown",
   "metadata": {},
   "source": [
    "### Mini-batches\n",
    "\n",
    "- The current implementations of `train` and `grad_loss` function currently only accept a single sample at a time:\n",
    "    - implement MiniBatchNeuralNet class which supports training with a mini-batch of batch_size samples at a time instead of one,"
   ]
  },
  {
   "cell_type": "code",
   "execution_count": 56,
   "metadata": {},
   "outputs": [
    {
     "name": "stdout",
     "output_type": "stream",
     "text": [
      "1.0992503594306724\n",
      "Random init: train loss: 1.09925, train acc: 0.331, test acc: 0.333\n",
      "Epoch #1, train loss: 1.08719, train acc: 0.398, test acc: 0.400\n",
      "Epoch #2, train loss: 1.08701, train acc: 0.398, test acc: 0.400\n",
      "Epoch #3, train loss: 1.08814, train acc: 0.398, test acc: 0.400\n",
      "Epoch #4, train loss: 1.08888, train acc: 0.398, test acc: 0.400\n",
      "Epoch #5, train loss: 1.08918, train acc: 0.398, test acc: 0.400\n",
      "Epoch #6, train loss: 1.08922, train acc: 0.398, test acc: 0.400\n",
      "Epoch #7, train loss: 1.08910, train acc: 0.398, test acc: 0.400\n",
      "Epoch #8, train loss: 1.08890, train acc: 0.398, test acc: 0.400\n",
      "Epoch #9, train loss: 1.08864, train acc: 0.398, test acc: 0.400\n",
      "Epoch #10, train loss: 1.08833, train acc: 0.398, test acc: 0.400\n",
      "Epoch #11, train loss: 1.08798, train acc: 0.398, test acc: 0.400\n",
      "Epoch #12, train loss: 1.08758, train acc: 0.398, test acc: 0.400\n",
      "Epoch #13, train loss: 1.08713, train acc: 0.398, test acc: 0.400\n",
      "Epoch #14, train loss: 1.08662, train acc: 0.398, test acc: 0.400\n",
      "Epoch #15, train loss: 1.08604, train acc: 0.398, test acc: 0.400\n",
      "Epoch #16, train loss: 1.08539, train acc: 0.398, test acc: 0.400\n",
      "Epoch #17, train loss: 1.08466, train acc: 0.398, test acc: 0.400\n",
      "Epoch #18, train loss: 1.08382, train acc: 0.398, test acc: 0.400\n",
      "Epoch #19, train loss: 1.08286, train acc: 0.398, test acc: 0.400\n",
      "Epoch #20, train loss: 1.08178, train acc: 0.398, test acc: 0.400\n",
      "Epoch #21, train loss: 1.08054, train acc: 0.398, test acc: 0.400\n",
      "Epoch #22, train loss: 1.07912, train acc: 0.398, test acc: 0.400\n",
      "Epoch #23, train loss: 1.07750, train acc: 0.398, test acc: 0.400\n",
      "Epoch #24, train loss: 1.07564, train acc: 0.398, test acc: 0.400\n",
      "Epoch #25, train loss: 1.07351, train acc: 0.398, test acc: 0.400\n",
      "Epoch #26, train loss: 1.07106, train acc: 0.398, test acc: 0.400\n",
      "Epoch #27, train loss: 1.06823, train acc: 0.398, test acc: 0.400\n",
      "Epoch #28, train loss: 1.06497, train acc: 0.398, test acc: 0.400\n",
      "Epoch #29, train loss: 1.06121, train acc: 0.398, test acc: 0.400\n",
      "Epoch #30, train loss: 1.05687, train acc: 0.398, test acc: 0.400\n",
      "Epoch #31, train loss: 1.05186, train acc: 0.398, test acc: 0.400\n",
      "Epoch #32, train loss: 1.04608, train acc: 0.398, test acc: 0.400\n",
      "Epoch #33, train loss: 1.03941, train acc: 0.398, test acc: 0.400\n",
      "Epoch #34, train loss: 1.03174, train acc: 0.398, test acc: 0.400\n",
      "Epoch #35, train loss: 1.02294, train acc: 0.398, test acc: 0.400\n",
      "Epoch #36, train loss: 1.01288, train acc: 0.398, test acc: 0.400\n",
      "Epoch #37, train loss: 1.00146, train acc: 0.398, test acc: 0.400\n",
      "Epoch #38, train loss: 0.98857, train acc: 0.406, test acc: 0.400\n",
      "Epoch #39, train loss: 0.97412, train acc: 0.414, test acc: 0.400\n",
      "Epoch #40, train loss: 0.95809, train acc: 0.444, test acc: 0.422\n",
      "Epoch #41, train loss: 0.94049, train acc: 0.496, test acc: 0.467\n",
      "Epoch #42, train loss: 0.92138, train acc: 0.534, test acc: 0.511\n",
      "Epoch #43, train loss: 0.90091, train acc: 0.556, test acc: 0.556\n",
      "Epoch #44, train loss: 0.87927, train acc: 0.594, test acc: 0.622\n",
      "Epoch #45, train loss: 0.85670, train acc: 0.602, test acc: 0.667\n",
      "Epoch #46, train loss: 0.83350, train acc: 0.609, test acc: 0.667\n",
      "Epoch #47, train loss: 0.80997, train acc: 0.632, test acc: 0.689\n",
      "Epoch #48, train loss: 0.78640, train acc: 0.639, test acc: 0.711\n",
      "Epoch #49, train loss: 0.76307, train acc: 0.677, test acc: 0.733\n",
      "Epoch #50, train loss: 0.74020, train acc: 0.692, test acc: 0.733\n",
      "Epoch #51, train loss: 0.71799, train acc: 0.729, test acc: 0.733\n",
      "Epoch #52, train loss: 0.69656, train acc: 0.737, test acc: 0.733\n",
      "Epoch #53, train loss: 0.67600, train acc: 0.737, test acc: 0.778\n",
      "Epoch #54, train loss: 0.65638, train acc: 0.752, test acc: 0.778\n",
      "Epoch #55, train loss: 0.63769, train acc: 0.774, test acc: 0.822\n",
      "Epoch #56, train loss: 0.61996, train acc: 0.782, test acc: 0.844\n",
      "Epoch #57, train loss: 0.60314, train acc: 0.797, test acc: 0.844\n",
      "Epoch #58, train loss: 0.58720, train acc: 0.797, test acc: 0.844\n",
      "Epoch #59, train loss: 0.57211, train acc: 0.797, test acc: 0.844\n",
      "Epoch #60, train loss: 0.55782, train acc: 0.797, test acc: 0.844\n",
      "Epoch #61, train loss: 0.54428, train acc: 0.797, test acc: 0.867\n",
      "Epoch #62, train loss: 0.53146, train acc: 0.820, test acc: 0.867\n",
      "Epoch #63, train loss: 0.51929, train acc: 0.827, test acc: 0.911\n",
      "Epoch #64, train loss: 0.50776, train acc: 0.835, test acc: 0.911\n",
      "Epoch #65, train loss: 0.49680, train acc: 0.827, test acc: 0.911\n",
      "Epoch #66, train loss: 0.48640, train acc: 0.827, test acc: 0.911\n",
      "Epoch #67, train loss: 0.47651, train acc: 0.835, test acc: 0.911\n",
      "Epoch #68, train loss: 0.46710, train acc: 0.835, test acc: 0.911\n",
      "Epoch #69, train loss: 0.45815, train acc: 0.842, test acc: 0.911\n",
      "Epoch #70, train loss: 0.44962, train acc: 0.850, test acc: 0.911\n",
      "Epoch #71, train loss: 0.44150, train acc: 0.857, test acc: 0.933\n",
      "Epoch #72, train loss: 0.43375, train acc: 0.857, test acc: 0.956\n",
      "Epoch #73, train loss: 0.42636, train acc: 0.880, test acc: 0.956\n",
      "Epoch #74, train loss: 0.41930, train acc: 0.880, test acc: 0.956\n",
      "Epoch #75, train loss: 0.41256, train acc: 0.880, test acc: 0.956\n",
      "Epoch #76, train loss: 0.40612, train acc: 0.880, test acc: 0.956\n",
      "Epoch #77, train loss: 0.39997, train acc: 0.880, test acc: 0.956\n",
      "Epoch #78, train loss: 0.39408, train acc: 0.887, test acc: 0.956\n",
      "Epoch #79, train loss: 0.38844, train acc: 0.895, test acc: 0.956\n",
      "Epoch #80, train loss: 0.38304, train acc: 0.902, test acc: 0.956\n",
      "Epoch #81, train loss: 0.37787, train acc: 0.902, test acc: 0.956\n",
      "Epoch #82, train loss: 0.37291, train acc: 0.902, test acc: 0.956\n",
      "Epoch #83, train loss: 0.36816, train acc: 0.902, test acc: 0.956\n",
      "Epoch #84, train loss: 0.36359, train acc: 0.902, test acc: 0.956\n",
      "Epoch #85, train loss: 0.35922, train acc: 0.902, test acc: 0.956\n",
      "Epoch #86, train loss: 0.35501, train acc: 0.902, test acc: 0.956\n",
      "Epoch #87, train loss: 0.35097, train acc: 0.902, test acc: 0.956\n",
      "Epoch #88, train loss: 0.34708, train acc: 0.902, test acc: 0.933\n",
      "Epoch #89, train loss: 0.34335, train acc: 0.902, test acc: 0.933\n",
      "Epoch #90, train loss: 0.33975, train acc: 0.910, test acc: 0.933\n",
      "Epoch #91, train loss: 0.33629, train acc: 0.910, test acc: 0.933\n",
      "Epoch #92, train loss: 0.33296, train acc: 0.910, test acc: 0.933\n",
      "Epoch #93, train loss: 0.32974, train acc: 0.910, test acc: 0.933\n",
      "Epoch #94, train loss: 0.32665, train acc: 0.917, test acc: 0.933\n",
      "Epoch #95, train loss: 0.32366, train acc: 0.917, test acc: 0.933\n",
      "Epoch #96, train loss: 0.32078, train acc: 0.917, test acc: 0.933\n",
      "Epoch #97, train loss: 0.31800, train acc: 0.925, test acc: 0.933\n",
      "Epoch #98, train loss: 0.31531, train acc: 0.925, test acc: 0.933\n",
      "Epoch #99, train loss: 0.31271, train acc: 0.925, test acc: 0.933\n",
      "Epoch #100, train loss: 0.31020, train acc: 0.925, test acc: 0.933\n",
      "Epoch #101, train loss: 0.30778, train acc: 0.925, test acc: 0.933\n",
      "Epoch #102, train loss: 0.30543, train acc: 0.925, test acc: 0.933\n",
      "Epoch #103, train loss: 0.30316, train acc: 0.925, test acc: 0.933\n",
      "Epoch #104, train loss: 0.30096, train acc: 0.925, test acc: 0.933\n",
      "Epoch #105, train loss: 0.29882, train acc: 0.925, test acc: 0.933\n",
      "Epoch #106, train loss: 0.29676, train acc: 0.925, test acc: 0.933\n",
      "Epoch #107, train loss: 0.29476, train acc: 0.925, test acc: 0.933\n",
      "Epoch #108, train loss: 0.29282, train acc: 0.925, test acc: 0.933\n",
      "Epoch #109, train loss: 0.29093, train acc: 0.925, test acc: 0.933\n",
      "Epoch #110, train loss: 0.28911, train acc: 0.925, test acc: 0.933\n",
      "Epoch #111, train loss: 0.28733, train acc: 0.925, test acc: 0.933\n",
      "Epoch #112, train loss: 0.28561, train acc: 0.925, test acc: 0.933\n",
      "Epoch #113, train loss: 0.28394, train acc: 0.925, test acc: 0.933\n",
      "Epoch #114, train loss: 0.28231, train acc: 0.925, test acc: 0.933\n",
      "Epoch #115, train loss: 0.28073, train acc: 0.925, test acc: 0.933\n",
      "Epoch #116, train loss: 0.27919, train acc: 0.925, test acc: 0.933\n",
      "Epoch #117, train loss: 0.27769, train acc: 0.925, test acc: 0.933\n",
      "Epoch #118, train loss: 0.27623, train acc: 0.925, test acc: 0.933\n",
      "Epoch #119, train loss: 0.27482, train acc: 0.925, test acc: 0.933\n",
      "Epoch #120, train loss: 0.27344, train acc: 0.925, test acc: 0.933\n",
      "Epoch #121, train loss: 0.27209, train acc: 0.925, test acc: 0.933\n",
      "Epoch #122, train loss: 0.27078, train acc: 0.925, test acc: 0.933\n",
      "Epoch #123, train loss: 0.26950, train acc: 0.925, test acc: 0.933\n",
      "Epoch #124, train loss: 0.26826, train acc: 0.925, test acc: 0.933\n",
      "Epoch #125, train loss: 0.26704, train acc: 0.932, test acc: 0.933\n",
      "Epoch #126, train loss: 0.26586, train acc: 0.932, test acc: 0.933\n",
      "Epoch #127, train loss: 0.26470, train acc: 0.932, test acc: 0.933\n",
      "Epoch #128, train loss: 0.26357, train acc: 0.932, test acc: 0.933\n",
      "Epoch #129, train loss: 0.26247, train acc: 0.932, test acc: 0.933\n",
      "Epoch #130, train loss: 0.26139, train acc: 0.932, test acc: 0.933\n",
      "Epoch #131, train loss: 0.26034, train acc: 0.932, test acc: 0.933\n",
      "Epoch #132, train loss: 0.25931, train acc: 0.932, test acc: 0.933\n",
      "Epoch #133, train loss: 0.25831, train acc: 0.932, test acc: 0.933\n",
      "Epoch #134, train loss: 0.25733, train acc: 0.932, test acc: 0.933\n",
      "Epoch #135, train loss: 0.25637, train acc: 0.932, test acc: 0.933\n",
      "Epoch #136, train loss: 0.25543, train acc: 0.932, test acc: 0.933\n",
      "Epoch #137, train loss: 0.25451, train acc: 0.932, test acc: 0.933\n",
      "Epoch #138, train loss: 0.25361, train acc: 0.932, test acc: 0.933\n",
      "Epoch #139, train loss: 0.25273, train acc: 0.932, test acc: 0.933\n",
      "Epoch #140, train loss: 0.25187, train acc: 0.932, test acc: 0.933\n",
      "Epoch #141, train loss: 0.25103, train acc: 0.932, test acc: 0.933\n",
      "Epoch #142, train loss: 0.25020, train acc: 0.932, test acc: 0.933\n",
      "Epoch #143, train loss: 0.24939, train acc: 0.932, test acc: 0.933\n",
      "Epoch #144, train loss: 0.24860, train acc: 0.932, test acc: 0.933\n",
      "Epoch #145, train loss: 0.24782, train acc: 0.932, test acc: 0.933\n",
      "Epoch #146, train loss: 0.24706, train acc: 0.932, test acc: 0.933\n",
      "Epoch #147, train loss: 0.24631, train acc: 0.932, test acc: 0.933\n",
      "Epoch #148, train loss: 0.24558, train acc: 0.932, test acc: 0.933\n",
      "Epoch #149, train loss: 0.24486, train acc: 0.925, test acc: 0.933\n",
      "Epoch #150, train loss: 0.24416, train acc: 0.925, test acc: 0.933\n"
     ]
    }
   ],
   "source": [
    "n_hidden = 5\n",
    "n_features = 2\n",
    "n_classes = 3\n",
    "modelWine2 = NeuralNet(n_features, n_hidden, n_classes)\n",
    "\n",
    "losses, accuracies, accuracies_test = [], [], []\n",
    "print(modelWine2.loss(X_train, y_train))\n",
    "losses.append(modelWine2.loss(X_train, y_train))\n",
    "accuracies.append(modelWine2.accuracy(X_train, y_train))\n",
    "accuracies_test.append(modelWine2.accuracy(X_test, y_test))\n",
    "\n",
    "print(\"Random init: train loss: %0.5f, train acc: %0.3f, test acc: %0.3f\"\n",
    "      % (losses[-1], accuracies[-1], accuracies_test[-1]))\n",
    "\n",
    "batch_size = 16\n",
    "N = X_train.shape[0]\n",
    "for epoch in range(150):\n",
    "    idx = np.arange(X_train.shape[0])\n",
    "    for batchid in range(int(np.ceil(N/batch_size))):\n",
    "        batch = idx[batchid * batch_size:min(((batchid + 1) * batch_size), N)]\n",
    "        modelWine2.train(X_train[batch, :], y_train[batch], .1)\n",
    "    losses.append(modelWine2.loss(X_train, y_train))\n",
    "    accuracies.append(modelWine2.accuracy(X_train, y_train))\n",
    "    accuracies_test.append(modelWine2.accuracy(X_test, y_test))\n",
    "    print(\"Epoch #%d, train loss: %0.5f, train acc: %0.3f, test acc: %0.3f\"\n",
    "          % (epoch + 1, losses[-1], accuracies[-1], accuracies_test[-1]))"
   ]
  },
  {
   "cell_type": "code",
   "execution_count": 57,
   "metadata": {},
   "outputs": [
    {
     "data": {
      "image/png": "[encoded data removed]",
      "text/plain": [
       "<Figure size 640x480 with 1 Axes>"
      ]
     },
     "metadata": {},
     "output_type": "display_data"
    }
   ],
   "source": [
    "plt.plot(losses)\n",
    "plt.title(\"Training loss\");"
   ]
  },
  {
   "cell_type": "code",
   "execution_count": 58,
   "metadata": {},
   "outputs": [
    {
     "data": {
      "image/png": "[encoded data removed]",
      "text/plain": [
       "<Figure size 640x480 with 1 Axes>"
      ]
     },
     "metadata": {},
     "output_type": "display_data"
    }
   ],
   "source": [
    "plt.plot(accuracies, label='train')\n",
    "plt.plot(accuracies_test, label='test')\n",
    "plt.ylim(0, 1.1)\n",
    "plt.ylabel(\"accuracy\")\n",
    "plt.legend(loc='best');"
   ]
  },
  {
   "cell_type": "code",
   "execution_count": 59,
   "metadata": {},
   "outputs": [
    {
     "data": {
      "image/png": "[encoded data removed]",
      "text/plain": [
       "<Figure size 640x480 with 1 Axes>"
      ]
     },
     "metadata": {},
     "output_type": "display_data"
    }
   ],
   "source": [
    "plot_points(X_train, y_train.flatten())\n",
    "plot_boundary(X_train, lambda x: modelWine2.predict(x))"
   ]
  },
  {
   "cell_type": "markdown",
   "metadata": {},
   "source": [
    "    - experiment with different sizes of batches,\n",
    "    - monitor the norm of the average gradients on the full training set at the end of each epoch."
   ]
  },
  {
   "cell_type": "code",
   "execution_count": 60,
   "metadata": {},
   "outputs": [
    {
     "name": "stdout",
     "output_type": "stream",
     "text": [
      "1.0993857483902887\n",
      "Random init: train loss: 1.09939, train acc: 0.271, test acc: 0.267\n",
      "Epoch #1, train loss: 1.08906, train acc: 0.398, test acc: 0.400\n",
      "Epoch #2, train loss: 1.08719, train acc: 0.398, test acc: 0.400\n",
      "Epoch #3, train loss: 1.08958, train acc: 0.398, test acc: 0.400\n",
      "Epoch #4, train loss: 1.09378, train acc: 0.398, test acc: 0.400\n",
      "Epoch #5, train loss: 1.09842, train acc: 0.398, test acc: 0.400\n",
      "Epoch #6, train loss: 1.10286, train acc: 0.398, test acc: 0.400\n",
      "Epoch #7, train loss: 1.10680, train acc: 0.398, test acc: 0.400\n",
      "Epoch #8, train loss: 1.11015, train acc: 0.398, test acc: 0.400\n",
      "Epoch #9, train loss: 1.11294, train acc: 0.398, test acc: 0.400\n",
      "Epoch #10, train loss: 1.11522, train acc: 0.398, test acc: 0.400\n",
      "Epoch #11, train loss: 1.11706, train acc: 0.398, test acc: 0.400\n",
      "Epoch #12, train loss: 1.11853, train acc: 0.398, test acc: 0.400\n",
      "Epoch #13, train loss: 1.11969, train acc: 0.398, test acc: 0.400\n",
      "Epoch #14, train loss: 1.12061, train acc: 0.398, test acc: 0.400\n",
      "Epoch #15, train loss: 1.12133, train acc: 0.398, test acc: 0.400\n",
      "Epoch #16, train loss: 1.12189, train acc: 0.398, test acc: 0.400\n",
      "Epoch #17, train loss: 1.12231, train acc: 0.398, test acc: 0.400\n",
      "Epoch #18, train loss: 1.12262, train acc: 0.398, test acc: 0.400\n",
      "Epoch #19, train loss: 1.12284, train acc: 0.398, test acc: 0.400\n",
      "Epoch #20, train loss: 1.12299, train acc: 0.398, test acc: 0.400\n",
      "Epoch #21, train loss: 1.12308, train acc: 0.398, test acc: 0.400\n",
      "Epoch #22, train loss: 1.12312, train acc: 0.398, test acc: 0.400\n",
      "Epoch #23, train loss: 1.12312, train acc: 0.398, test acc: 0.400\n",
      "Epoch #24, train loss: 1.12308, train acc: 0.398, test acc: 0.400\n",
      "Epoch #25, train loss: 1.12300, train acc: 0.398, test acc: 0.400\n",
      "Epoch #26, train loss: 1.12290, train acc: 0.398, test acc: 0.400\n",
      "Epoch #27, train loss: 1.12278, train acc: 0.398, test acc: 0.400\n",
      "Epoch #28, train loss: 1.12264, train acc: 0.398, test acc: 0.400\n",
      "Epoch #29, train loss: 1.12247, train acc: 0.398, test acc: 0.400\n",
      "Epoch #30, train loss: 1.12229, train acc: 0.398, test acc: 0.400\n",
      "Epoch #31, train loss: 1.12209, train acc: 0.398, test acc: 0.400\n",
      "Epoch #32, train loss: 1.12188, train acc: 0.398, test acc: 0.400\n",
      "Epoch #33, train loss: 1.12165, train acc: 0.398, test acc: 0.400\n",
      "Epoch #34, train loss: 1.12141, train acc: 0.398, test acc: 0.400\n",
      "Epoch #35, train loss: 1.12115, train acc: 0.398, test acc: 0.400\n",
      "Epoch #36, train loss: 1.12088, train acc: 0.398, test acc: 0.400\n",
      "Epoch #37, train loss: 1.12060, train acc: 0.398, test acc: 0.400\n",
      "Epoch #38, train loss: 1.12030, train acc: 0.398, test acc: 0.400\n",
      "Epoch #39, train loss: 1.11999, train acc: 0.398, test acc: 0.400\n",
      "Epoch #40, train loss: 1.11966, train acc: 0.398, test acc: 0.400\n",
      "Epoch #41, train loss: 1.11933, train acc: 0.398, test acc: 0.400\n",
      "Epoch #42, train loss: 1.11897, train acc: 0.398, test acc: 0.400\n",
      "Epoch #43, train loss: 1.11860, train acc: 0.398, test acc: 0.400\n",
      "Epoch #44, train loss: 1.11822, train acc: 0.398, test acc: 0.400\n",
      "Epoch #45, train loss: 1.11782, train acc: 0.398, test acc: 0.400\n",
      "Epoch #46, train loss: 1.11740, train acc: 0.398, test acc: 0.400\n",
      "Epoch #47, train loss: 1.11697, train acc: 0.398, test acc: 0.400\n",
      "Epoch #48, train loss: 1.11652, train acc: 0.398, test acc: 0.400\n",
      "Epoch #49, train loss: 1.11605, train acc: 0.398, test acc: 0.400\n",
      "Epoch #50, train loss: 1.11556, train acc: 0.398, test acc: 0.400\n",
      "Epoch #51, train loss: 1.11505, train acc: 0.398, test acc: 0.400\n",
      "Epoch #52, train loss: 1.11453, train acc: 0.398, test acc: 0.400\n",
      "Epoch #53, train loss: 1.11398, train acc: 0.398, test acc: 0.400\n",
      "Epoch #54, train loss: 1.11341, train acc: 0.398, test acc: 0.400\n",
      "Epoch #55, train loss: 1.11282, train acc: 0.398, test acc: 0.400\n",
      "Epoch #56, train loss: 1.11220, train acc: 0.398, test acc: 0.400\n",
      "Epoch #57, train loss: 1.11157, train acc: 0.398, test acc: 0.400\n",
      "Epoch #58, train loss: 1.11090, train acc: 0.398, test acc: 0.400\n",
      "Epoch #59, train loss: 1.11022, train acc: 0.398, test acc: 0.400\n",
      "Epoch #60, train loss: 1.10950, train acc: 0.398, test acc: 0.400\n",
      "Epoch #61, train loss: 1.10876, train acc: 0.398, test acc: 0.400\n",
      "Epoch #62, train loss: 1.10799, train acc: 0.398, test acc: 0.400\n",
      "Epoch #63, train loss: 1.10719, train acc: 0.398, test acc: 0.400\n",
      "Epoch #64, train loss: 1.10636, train acc: 0.398, test acc: 0.400\n",
      "Epoch #65, train loss: 1.10550, train acc: 0.398, test acc: 0.400\n",
      "Epoch #66, train loss: 1.10461, train acc: 0.398, test acc: 0.400\n",
      "Epoch #67, train loss: 1.10369, train acc: 0.398, test acc: 0.400\n",
      "Epoch #68, train loss: 1.10273, train acc: 0.398, test acc: 0.400\n",
      "Epoch #69, train loss: 1.10173, train acc: 0.398, test acc: 0.400\n",
      "Epoch #70, train loss: 1.10070, train acc: 0.398, test acc: 0.400\n",
      "Epoch #71, train loss: 1.09964, train acc: 0.398, test acc: 0.400\n",
      "Epoch #72, train loss: 1.09853, train acc: 0.398, test acc: 0.400\n",
      "Epoch #73, train loss: 1.09739, train acc: 0.398, test acc: 0.400\n",
      "Epoch #74, train loss: 1.09620, train acc: 0.398, test acc: 0.400\n",
      "Epoch #75, train loss: 1.09498, train acc: 0.398, test acc: 0.400\n",
      "Epoch #76, train loss: 1.09371, train acc: 0.398, test acc: 0.400\n",
      "Epoch #77, train loss: 1.09240, train acc: 0.398, test acc: 0.400\n",
      "Epoch #78, train loss: 1.09105, train acc: 0.398, test acc: 0.400\n",
      "Epoch #79, train loss: 1.08965, train acc: 0.398, test acc: 0.400\n",
      "Epoch #80, train loss: 1.08820, train acc: 0.398, test acc: 0.400\n",
      "Epoch #81, train loss: 1.08671, train acc: 0.398, test acc: 0.400\n",
      "Epoch #82, train loss: 1.08517, train acc: 0.398, test acc: 0.400\n",
      "Epoch #83, train loss: 1.08358, train acc: 0.398, test acc: 0.400\n",
      "Epoch #84, train loss: 1.08195, train acc: 0.398, test acc: 0.400\n",
      "Epoch #85, train loss: 1.08026, train acc: 0.398, test acc: 0.400\n",
      "Epoch #86, train loss: 1.07852, train acc: 0.398, test acc: 0.400\n",
      "Epoch #87, train loss: 1.07673, train acc: 0.398, test acc: 0.400\n",
      "Epoch #88, train loss: 1.07489, train acc: 0.398, test acc: 0.400\n",
      "Epoch #89, train loss: 1.07300, train acc: 0.398, test acc: 0.400\n",
      "Epoch #90, train loss: 1.07106, train acc: 0.398, test acc: 0.400\n",
      "Epoch #91, train loss: 1.06906, train acc: 0.398, test acc: 0.400\n",
      "Epoch #92, train loss: 1.06701, train acc: 0.398, test acc: 0.400\n",
      "Epoch #93, train loss: 1.06491, train acc: 0.398, test acc: 0.400\n",
      "Epoch #94, train loss: 1.06275, train acc: 0.398, test acc: 0.400\n",
      "Epoch #95, train loss: 1.06054, train acc: 0.398, test acc: 0.400\n",
      "Epoch #96, train loss: 1.05828, train acc: 0.398, test acc: 0.400\n",
      "Epoch #97, train loss: 1.05596, train acc: 0.398, test acc: 0.400\n",
      "Epoch #98, train loss: 1.05359, train acc: 0.398, test acc: 0.400\n",
      "Epoch #99, train loss: 1.05118, train acc: 0.398, test acc: 0.400\n",
      "Epoch #100, train loss: 1.04870, train acc: 0.398, test acc: 0.400\n",
      "Epoch #101, train loss: 1.04618, train acc: 0.398, test acc: 0.400\n",
      "Epoch #102, train loss: 1.04361, train acc: 0.398, test acc: 0.400\n",
      "Epoch #103, train loss: 1.04099, train acc: 0.398, test acc: 0.400\n",
      "Epoch #104, train loss: 1.03832, train acc: 0.398, test acc: 0.400\n",
      "Epoch #105, train loss: 1.03561, train acc: 0.398, test acc: 0.400\n",
      "Epoch #106, train loss: 1.03284, train acc: 0.398, test acc: 0.400\n",
      "Epoch #107, train loss: 1.03004, train acc: 0.398, test acc: 0.400\n",
      "Epoch #108, train loss: 1.02719, train acc: 0.398, test acc: 0.400\n",
      "Epoch #109, train loss: 1.02429, train acc: 0.398, test acc: 0.400\n",
      "Epoch #110, train loss: 1.02136, train acc: 0.398, test acc: 0.400\n",
      "Epoch #111, train loss: 1.01839, train acc: 0.398, test acc: 0.400\n",
      "Epoch #112, train loss: 1.01538, train acc: 0.406, test acc: 0.400\n",
      "Epoch #113, train loss: 1.01233, train acc: 0.406, test acc: 0.400\n",
      "Epoch #114, train loss: 1.00925, train acc: 0.406, test acc: 0.400\n",
      "Epoch #115, train loss: 1.00614, train acc: 0.414, test acc: 0.400\n",
      "Epoch #116, train loss: 1.00299, train acc: 0.414, test acc: 0.400\n",
      "Epoch #117, train loss: 0.99982, train acc: 0.414, test acc: 0.400\n",
      "Epoch #118, train loss: 0.99661, train acc: 0.414, test acc: 0.400\n",
      "Epoch #119, train loss: 0.99338, train acc: 0.414, test acc: 0.400\n",
      "Epoch #120, train loss: 0.99013, train acc: 0.421, test acc: 0.400\n",
      "Epoch #121, train loss: 0.98685, train acc: 0.421, test acc: 0.400\n",
      "Epoch #122, train loss: 0.98355, train acc: 0.429, test acc: 0.400\n",
      "Epoch #123, train loss: 0.98023, train acc: 0.444, test acc: 0.400\n",
      "Epoch #124, train loss: 0.97690, train acc: 0.444, test acc: 0.422\n",
      "Epoch #125, train loss: 0.97355, train acc: 0.444, test acc: 0.444\n",
      "Epoch #126, train loss: 0.97018, train acc: 0.466, test acc: 0.444\n",
      "Epoch #127, train loss: 0.96680, train acc: 0.466, test acc: 0.444\n",
      "Epoch #128, train loss: 0.96340, train acc: 0.481, test acc: 0.444\n",
      "Epoch #129, train loss: 0.95999, train acc: 0.481, test acc: 0.467\n",
      "Epoch #130, train loss: 0.95658, train acc: 0.496, test acc: 0.467\n",
      "Epoch #131, train loss: 0.95315, train acc: 0.504, test acc: 0.489\n",
      "Epoch #132, train loss: 0.94972, train acc: 0.511, test acc: 0.489\n",
      "Epoch #133, train loss: 0.94628, train acc: 0.511, test acc: 0.489\n",
      "Epoch #134, train loss: 0.94284, train acc: 0.511, test acc: 0.489\n",
      "Epoch #135, train loss: 0.93939, train acc: 0.511, test acc: 0.489\n",
      "Epoch #136, train loss: 0.93593, train acc: 0.511, test acc: 0.489\n",
      "Epoch #137, train loss: 0.93247, train acc: 0.511, test acc: 0.489\n",
      "Epoch #138, train loss: 0.92901, train acc: 0.519, test acc: 0.489\n",
      "Epoch #139, train loss: 0.92555, train acc: 0.519, test acc: 0.489\n",
      "Epoch #140, train loss: 0.92208, train acc: 0.526, test acc: 0.489\n",
      "Epoch #141, train loss: 0.91861, train acc: 0.526, test acc: 0.533\n",
      "Epoch #142, train loss: 0.91514, train acc: 0.534, test acc: 0.533\n",
      "Epoch #143, train loss: 0.91167, train acc: 0.541, test acc: 0.533\n",
      "Epoch #144, train loss: 0.90819, train acc: 0.541, test acc: 0.533\n",
      "Epoch #145, train loss: 0.90471, train acc: 0.549, test acc: 0.533\n",
      "Epoch #146, train loss: 0.90123, train acc: 0.564, test acc: 0.533\n",
      "Epoch #147, train loss: 0.89775, train acc: 0.564, test acc: 0.556\n",
      "Epoch #148, train loss: 0.89427, train acc: 0.571, test acc: 0.556\n",
      "Epoch #149, train loss: 0.89079, train acc: 0.571, test acc: 0.578\n",
      "Epoch #150, train loss: 0.88730, train acc: 0.579, test acc: 0.578\n"
     ]
    }
   ],
   "source": [
    "n_hidden = 5\n",
    "n_features = 2\n",
    "n_classes = 3\n",
    "modelWine2 = NeuralNet(n_features, n_hidden, n_classes)\n",
    "\n",
    "losses, accuracies, accuracies_test = [], [], []\n",
    "print(modelWine2.loss(X_train, y_train))\n",
    "losses.append(modelWine2.loss(X_train, y_train))\n",
    "accuracies.append(modelWine2.accuracy(X_train, y_train))\n",
    "accuracies_test.append(modelWine2.accuracy(X_test, y_test))\n",
    "\n",
    "print(\"Random init: train loss: %0.5f, train acc: %0.3f, test acc: %0.3f\"\n",
    "      % (losses[-1], accuracies[-1], accuracies_test[-1]))\n",
    "\n",
    "batch_size = 64\n",
    "N = X_train.shape[0]\n",
    "for epoch in range(150):\n",
    "    idx = np.arange(X_train.shape[0])\n",
    "    for batchid in range(int(np.ceil(N/batch_size))):\n",
    "        batch = idx[batchid * batch_size:min(((batchid + 1) * batch_size), N)]\n",
    "        modelWine2.train(X_train[batch, :], y_train[batch], .1)\n",
    "    losses.append(modelWine2.loss(X_train, y_train))\n",
    "    accuracies.append(modelWine2.accuracy(X_train, y_train))\n",
    "    accuracies_test.append(modelWine2.accuracy(X_test, y_test))\n",
    "    print(\"Epoch #%d, train loss: %0.5f, train acc: %0.3f, test acc: %0.3f\"\n",
    "          % (epoch + 1, losses[-1], accuracies[-1], accuracies_test[-1]))"
   ]
  },
  {
   "cell_type": "markdown",
   "metadata": {},
   "source": [
    "### Bonus: Hyper parameters settings\n",
    "\n",
    "  - Add more hidden layer"
   ]
  },
  {
   "cell_type": "code",
   "execution_count": null,
   "metadata": {},
   "outputs": [],
   "source": [
    "class MoreHiddenLayersNeuralNet(NeuralNet):\n",
    "    \"\"\"MLP with K hidden layers with a sigmoid activation Using Mini Batch Learning\"\"\"\n",
    "    \n",
    "    def __init__(self, input_size, hidden_size, output_size):\n",
    "        self.activationf = []\n",
    "        self.dactivationf = []\n",
    "        self.Ws = []\n",
    "        self.Ws.append(np.random.uniform(size=(input_size + 1, hidden_size[0]), high=0.01, low=-0.01))\n",
    "        self.activationf.append(lambda x : sigmoid(x))\n",
    "        self.dactivationf.append(lambda x : dsigmoid(x))\n",
    "        \n",
    "        for i in range(1, len(hidden_size)):\n",
    "            # Layer i\n",
    "            W = np.random.uniform(size=(hidden_size[i-1] + 1, hidden_size[i]), high=0.01, low=-0.01)\n",
    "            self.Ws.append(W)\n",
    "            if i == len(hidden_size) - 1 :\n",
    "                self.activationf.append(lambda x: softmax(x))\n",
    "            else\n",
    "                self.activationf.append(lambda x: sigmoid(x))\n",
    "                self.dactivationf.append(lambda x: dsigmoid(x))\n",
    "          \n",
    "        self.output_size = output_size\n",
    "        self.NbLayers = len(hidden_size)\n",
    "        \n",
    "    def forward(self, X):\n",
    "        X = np.atleast_2d(X)\n",
    "        \n",
    "        # First Layer\n",
    "        Inh = np.hstack((np.ones((len(X), 1)), X))\n",
    "        Zh = Inh @ self.W_h\n",
    "        Oh = sigmoid(Zh)\n",
    "        \n",
    "        # Second Layer\n",
    "        InO = np.hstack((np.ones((len(Oh), 1)), Oh))\n",
    "        Zo = InO @ self.W_o\n",
    "        Oo = softmax(Zo)\n",
    "        \n",
    "        return Oo\n",
    "    \n",
    "    def forward_keep_activations(self, X):\n",
    "        X = np.atleast_2d(X)\n",
    "        \n",
    "        # First Layer\n",
    "        Inh = np.hstack((np.ones((len(X), 1)), X))\n",
    "        Zh = Inh @ self.W_h\n",
    "        Oh = sigmoid(Zh)\n",
    "        \n",
    "        # Second Layer\n",
    "        InO = np.hstack((np.ones((len(Oh), 1)), Oh))\n",
    "        Zo = InO @ self.W_o\n",
    "        Oo = softmax(Zo)\n",
    "        \n",
    "        return Oo, InO, Zh, Inh\n",
    "    \n",
    "    def loss(self, X, y):\n",
    "        return nllk(one_hot(y, num_classes=self.output_size), self.forward(X))\n",
    "\n",
    "    def grad_loss(self, x, y_true):\n",
    "        x = np.atleast_2d(x)\n",
    "        N = x.shape[0]\n",
    "        y = one_hot(y_true, num_classes=self.output_size)\n",
    "\n",
    "        Oo, InO, Zh, Inh = self.forward_keep_activations(x)\n",
    "        # Output Layer\n",
    "\n",
    "        dEdZo = (Oo - y)\n",
    "        dEdWo = InO.T @ dEdZo\n",
    "\n",
    "        # First Layer\n",
    "        dEdZh = dsigmoid(Zh) * (dEdZo @ self.W_o[1:, :].T)\n",
    "        dEdWh = Inh.T @ dEdZh\n",
    "        \n",
    "        return {\"dEdW_h\": dEdWh / N, \"dEdW_o\": dEdWo / N }\n",
    "\n",
    "    \n",
    "    def train(self, x, y, learning_rate, l2 = 0.):\n",
    "        # One step of Backpropagation on x\n",
    "        # l2 is the L2 regularization coefficient \n",
    "        # TODO\n",
    "        grad = self.grad_loss(x, y)\n",
    "        l2wh = l2 * self.W_h\n",
    "        l2wh[0, :] = 0 #  bias is not regularized\n",
    "        self.W_h = self.W_h - learning_rate * (grad[\"dEdW_h\"] + l2wh)\n",
    "        l2wo = l2 * self.W_o\n",
    "        l2wo[0, :] = 0 #  bias is not regularized\n",
    "        self.W_o = self.W_o - learning_rate * (grad[\"dEdW_o\"] + l2wo)\n",
    "\n",
    "    def predict(self, X):\n",
    "        if len(X) == 1:\n",
    "            return np.argmax(self.forward(X))\n",
    "        else:\n",
    "            return np.argmax(self.forward(X), axis=1)\n",
    "\n",
    "    def accuracy(self, X, y):\n",
    "        y_preds = np.argmax(self.forward(X), axis=1)\n",
    "        return np.mean(y_preds == y)"
   ]
  },
  {
   "cell_type": "markdown",
   "metadata": {},
   "source": [
    "### Bonus: Hyper parameters settings\n",
    "\n",
    "- Experiment with different hyper parameters:\n",
    "  - learning rate,\n",
    "  - size of hidden layer,\n",
    "  - initialization scheme: test with 0 initialization vs uniform,\n",
    "  - implement other activation functions,\n",
    "  - implement the support for a second hidden layer"
   ]
  },
  {
   "cell_type": "code",
   "execution_count": null,
   "metadata": {},
   "outputs": [],
   "source": []
  },
  {
   "cell_type": "markdown",
   "metadata": {},
   "source": [
    "### Momentum\n",
    "\n",
    "- Bonus: Implement momentum"
   ]
  },
  {
   "cell_type": "code",
   "execution_count": null,
   "metadata": {},
   "outputs": [],
   "source": []
  },
  {
   "cell_type": "markdown",
   "metadata": {},
   "source": [
    "## Part2: Digit Dataset"
   ]
  },
  {
   "cell_type": "code",
   "execution_count": 13,
   "metadata": {},
   "outputs": [],
   "source": [
    "%matplotlib inline\n",
    "import matplotlib.pyplot as plt\n",
    "import numpy as np\n",
    "from sklearn.datasets import load_digits\n",
    "\n",
    "digits = load_digits()"
   ]
  },
  {
   "cell_type": "code",
   "execution_count": 14,
   "metadata": {},
   "outputs": [
    {
     "data": {
      "image/png": "[encoded data removed]",
      "text/plain": [
       "<Figure size 300x300 with 1 Axes>"
      ]
     },
     "metadata": {},
     "output_type": "display_data"
    }
   ],
   "source": [
    "sample_index = 45\n",
    "plt.figure(figsize=(3, 3))\n",
    "plt.imshow(digits.images[sample_index], cmap=plt.cm.gray_r,\n",
    "           interpolation='nearest')\n",
    "plt.title(\"image label: %d\" % digits.target[sample_index]);"
   ]
  },
  {
   "cell_type": "markdown",
   "metadata": {},
   "source": [
    "### Preprocessing\n",
    "\n",
    "- Normalization\n",
    "- Train / test split"
   ]
  },
  {
   "cell_type": "code",
   "execution_count": 15,
   "metadata": {},
   "outputs": [
    {
     "name": "stdout",
     "output_type": "stream",
     "text": [
      "[0.00000000e+00 2.98624754e-01 5.19253438e+00 1.18428291e+01\n",
      " 1.18565815e+01 5.81008513e+00 1.34774067e+00 1.19187950e-01\n",
      " 6.54878847e-03 1.99345121e+00 1.03464309e+01 1.19305828e+01\n",
      " 1.02626064e+01 8.20497708e+00 1.84348396e+00 9.88867060e-02\n",
      " 3.27439424e-03 2.61624100e+00 9.83497053e+00 6.87098887e+00\n",
      " 7.11263916e+00 7.83759005e+00 1.75376555e+00 4.45317616e-02\n",
      " 1.30975769e-03 2.48788474e+00 9.04453176e+00 8.73280943e+00\n",
      " 9.98231827e+00 7.57105435e+00 2.26850033e+00 2.61951539e-03\n",
      " 0.00000000e+00 2.36149312e+00 7.68369352e+00 9.07924034e+00\n",
      " 1.03713163e+01 8.79240341e+00 2.89980354e+00 0.00000000e+00\n",
      " 8.51342502e-03 1.57039948e+00 6.84937787e+00 7.22855272e+00\n",
      " 7.65029470e+00 8.26522593e+00 3.48592010e+00 2.61951539e-02\n",
      " 8.51342502e-03 6.83693517e-01 7.49312377e+00 9.56516045e+00\n",
      " 9.36869679e+00 8.77668631e+00 3.76686313e+00 2.08906352e-01\n",
      " 6.54878847e-04 2.78978389e-01 5.53700065e+00 1.20595940e+01\n",
      " 1.17832351e+01 6.81990832e+00 2.07465619e+00 3.42501637e-01]\n",
      "[1.         0.91047426 4.7374689  4.2596074  4.30740756 5.68243448\n",
      " 3.29715288 1.008902   0.10215271 3.21973438 5.4108079  3.99431828\n",
      " 4.76326914 6.05761692 3.54497651 0.7879529  0.06762714 3.5953762\n",
      " 5.75591791 5.79499053 6.17007499 6.20389862 3.17131632 0.42435037\n",
      " 0.03616687 3.17586741 6.22714405 5.87843364 6.12768087 5.88661918\n",
      " 3.63962    0.05111412 1.         3.51146089 6.35184392 6.26198479\n",
      " 5.92379357 5.86282789 3.54313582 1.         0.13754638 2.96676443\n",
      " 6.52281056 6.46350061 6.27357424 5.66458135 4.32560252 0.31021909\n",
      " 0.22145752 1.71021508 5.62991342 5.23221519 5.31295785 6.03074701\n",
      " 4.9404445  0.9965096  0.02558222 0.94066093 5.07505293 4.37977563\n",
      " 4.96650551 5.92097458 4.05023215 1.78068506]\n"
     ]
    }
   ],
   "source": [
    "from sklearn import preprocessing\n",
    "from sklearn.model_selection import train_test_split\n",
    "\n",
    "data = np.asarray(digits.data, dtype='float32')\n",
    "target = np.asarray(digits.target, dtype='int32')\n",
    "\n",
    "X_train, X_test, y_train, y_test = train_test_split(\n",
    "    data, target, test_size=0.15, random_state=37)\n",
    "\n",
    "# mean = 0 ; standard deviation = 1.0\n",
    "scaler = preprocessing.StandardScaler()\n",
    "X_train = scaler.fit_transform(X_train)\n",
    "X_test = scaler.transform(X_test)\n",
    "\n",
    "print(scaler.mean_)\n",
    "print(scaler.scale_)"
   ]
  },
  {
   "cell_type": "code",
   "execution_count": 16,
   "metadata": {},
   "outputs": [
    {
     "data": {
      "text/plain": [
       "(1527, 64)"
      ]
     },
     "execution_count": 16,
     "metadata": {},
     "output_type": "execute_result"
    }
   ],
   "source": [
    "X_train.shape"
   ]
  },
  {
   "cell_type": "code",
   "execution_count": 17,
   "metadata": {},
   "outputs": [
    {
     "data": {
      "text/plain": [
       "dtype('float32')"
      ]
     },
     "execution_count": 17,
     "metadata": {},
     "output_type": "execute_result"
    }
   ],
   "source": [
    "X_train.dtype"
   ]
  },
  {
   "cell_type": "code",
   "execution_count": 18,
   "metadata": {},
   "outputs": [
    {
     "data": {
      "text/plain": [
       "(270, 64)"
      ]
     },
     "execution_count": 18,
     "metadata": {},
     "output_type": "execute_result"
    }
   ],
   "source": [
    "X_test.shape"
   ]
  },
  {
   "cell_type": "code",
   "execution_count": 19,
   "metadata": {},
   "outputs": [
    {
     "data": {
      "text/plain": [
       "dtype('float32')"
      ]
     },
     "execution_count": 19,
     "metadata": {},
     "output_type": "execute_result"
    }
   ],
   "source": [
    "X_test.dtype"
   ]
  },
  {
   "cell_type": "code",
   "execution_count": 20,
   "metadata": {},
   "outputs": [
    {
     "data": {
      "text/plain": [
       "(1527,)"
      ]
     },
     "execution_count": 20,
     "metadata": {},
     "output_type": "execute_result"
    }
   ],
   "source": [
    "y_train.shape"
   ]
  },
  {
   "cell_type": "code",
   "execution_count": 21,
   "metadata": {},
   "outputs": [
    {
     "data": {
      "text/plain": [
       "dtype('int32')"
      ]
     },
     "execution_count": 21,
     "metadata": {},
     "output_type": "execute_result"
    }
   ],
   "source": [
    "y_train.dtype"
   ]
  },
  {
   "cell_type": "code",
   "execution_count": null,
   "metadata": {},
   "outputs": [],
   "source": [
    "n_hidden = 10\n",
    "n_classes = 10\n",
    "n_features = 64\n",
    "modelDigit = NeuralNet(n_features, n_hidden, n_classes)"
   ]
  },
  {
   "cell_type": "code",
   "execution_count": null,
   "metadata": {},
   "outputs": [],
   "source": [
    "modelDigit.loss(X_train, y_train)"
   ]
  },
  {
   "cell_type": "code",
   "execution_count": null,
   "metadata": {},
   "outputs": [],
   "source": [
    "modelDigit.accuracy(X_train, y_train)"
   ]
  },
  {
   "cell_type": "code",
   "execution_count": null,
   "metadata": {},
   "outputs": [],
   "source": [
    "print(modelDigit.forward(X_test[5]))"
   ]
  },
  {
   "cell_type": "code",
   "execution_count": null,
   "metadata": {},
   "outputs": [],
   "source": [
    "print(modelDigit.predict(X_test[5]))"
   ]
  },
  {
   "cell_type": "code",
   "execution_count": null,
   "metadata": {},
   "outputs": [],
   "source": [
    "def plot_prediction(forward_fun, sample_idx = 0, classes = range(10)):\n",
    "    fig, (ax0, ax1) = plt.subplots(nrows = 1, ncols = 2, figsize = (10, 4))\n",
    "\n",
    "    ax0.imshow(scaler.inverse_transform(X_test[sample_idx]).reshape(8, 8), cmap = plt.cm.gray_r,\n",
    "               interpolation = 'nearest')\n",
    "    ax0.set_title(\"True image label: %d\" % y_test[sample_idx]);\n",
    "\n",
    "\n",
    "    ax1.bar(classes, one_hot(y_test[sample_idx], num_classes=len(classes)), label = 'true')\n",
    "    probas = forward_fun(np.array(X_test[sample_idx])[np.newaxis]).ravel()\n",
    "    ax1.bar(classes, probas, label = 'prediction', color = \"red\")\n",
    "    ax1.set_xticks(classes)\n",
    "    prediction = probas.argmax(axis=-1)\n",
    "    ax1.set_title('Output probabilities (prediction: %d)'\n",
    "                  % prediction)\n",
    "    ax1.set_xlabel('Digit class')\n",
    "    ax1.legend()\n",
    "\n",
    "plot_prediction(modelDigit.forward, sample_idx=5)"
   ]
  },
  {
   "cell_type": "code",
   "execution_count": null,
   "metadata": {},
   "outputs": [],
   "source": [
    "losses, accuracies, accuracies_test = [], [], []\n",
    "losses.append(modelDigit.loss(X_train, y_train))\n",
    "accuracies.append(modelDigit.accuracy(X_train, y_train))\n",
    "accuracies_test.append(modelDigit.accuracy(X_test, y_test))\n",
    "\n",
    "print(\"Random init: train loss: %0.5f, train acc: %0.3f, test acc: %0.3f\"\n",
    "      % (losses[-1], accuracies[-1], accuracies_test[-1]))\n",
    "\n",
    "for epoch in range(15):\n",
    "    for i, (x, y) in enumerate(zip(X_train, y_train)):\n",
    "        modelDigit.train(x, y, 0.1)\n",
    "\n",
    "    losses.append(modelDigit.loss(X_train, y_train))\n",
    "    accuracies.append(modelDigit.accuracy(X_train, y_train))\n",
    "    accuracies_test.append(modelDigit.accuracy(X_test, y_test))\n",
    "    print(\"Epoch #%d, train loss: %0.5f, train acc: %0.3f, test acc: %0.3f\"\n",
    "          % (epoch + 1, losses[-1], accuracies[-1], accuracies_test[-1]))"
   ]
  },
  {
   "cell_type": "code",
   "execution_count": null,
   "metadata": {},
   "outputs": [],
   "source": [
    "plt.plot(losses)\n",
    "plt.title(\"Training loss\");"
   ]
  },
  {
   "cell_type": "code",
   "execution_count": null,
   "metadata": {},
   "outputs": [],
   "source": [
    "plt.plot(accuracies, label = 'train')\n",
    "plt.plot(accuracies_test, label = 'test')\n",
    "plt.ylim(0, 1.1)\n",
    "plt.ylabel(\"accuracy\")\n",
    "plt.legend(loc = 'best');"
   ]
  },
  {
   "cell_type": "code",
   "execution_count": null,
   "metadata": {},
   "outputs": [],
   "source": [
    "plot_prediction(modelDigit.forward, sample_idx = 5)"
   ]
  },
  {
   "cell_type": "markdown",
   "metadata": {},
   "source": [
    "### Look at worst prediction errors\n",
    "\n",
    "- Use numpy to find test samples for which the model made the worst predictions,\n",
    "- Use the `plot_prediction` to look at the model predictions on those,\n",
    "- Would you have done any better?"
   ]
  },
  {
   "cell_type": "code",
   "execution_count": null,
   "metadata": {},
   "outputs": [],
   "source": []
  },
  {
   "cell_type": "markdown",
   "metadata": {},
   "source": [
    "### Back to Keras\n",
    "\n",
    "- You can now use keras to implement and train the same network architecture"
   ]
  },
  {
   "cell_type": "code",
   "execution_count": null,
   "metadata": {},
   "outputs": [],
   "source": [
    "from tensorflow.keras.models import Sequential\n",
    "from tensorflow.keras.layers import Dense\n",
    "from tensorflow.keras.optimizers import SGD\n",
    "from tensorflow.keras.utils import to_categorical\n",
    "\n",
    "n_features = 8 * 8\n",
    "n_classes = 10\n",
    "n_hidden = 10\n",
    "\n",
    "keras_model = Sequential()\n",
    "keras_model.add(Dense(n_hidden, input_dim = n_features, activation = 'sigmoid'))\n",
    "keras_model.add(Dense(n_classes, activation = 'softmax'))\n",
    "\n",
    "keras_model.compile(optimizer = SGD(learning_rate = 3),\n",
    "                    loss='categorical_crossentropy', metrics=['accuracy'])\n",
    "\n",
    "keras_model.fit(X_train, to_categorical(y_train), epochs = 15, batch_size = 16) "
   ]
  },
  {
   "cell_type": "markdown",
   "metadata": {},
   "source": [
    "- Check that the Keras model can approximately reproduce the behavior of the Numpy model when using similar hyperparameter values (size of the model, type of activations, learning rate value and use of momentum)."
   ]
  },
  {
   "cell_type": "code",
   "execution_count": null,
   "metadata": {},
   "outputs": [],
   "source": []
  },
  {
   "cell_type": "markdown",
   "metadata": {},
   "source": [
    "- Compute the negative log likelihood of a sample 42 in the test set (can use model.predict_proba"
   ]
  },
  {
   "cell_type": "code",
   "execution_count": null,
   "metadata": {},
   "outputs": [],
   "source": []
  },
  {
   "cell_type": "markdown",
   "metadata": {},
   "source": [
    "- Compute the average negative log-likelihood on the full test set."
   ]
  },
  {
   "cell_type": "code",
   "execution_count": null,
   "metadata": {},
   "outputs": [],
   "source": []
  },
  {
   "cell_type": "markdown",
   "metadata": {},
   "source": [
    "- Compute the average negative log-likelihood on the full training set and check that you can get the value of the loss reported by Keras."
   ]
  },
  {
   "cell_type": "code",
   "execution_count": null,
   "metadata": {},
   "outputs": [],
   "source": []
  },
  {
   "cell_type": "markdown",
   "metadata": {},
   "source": [
    "- Using keras, add a second hidden Layer to keras_model model and learn the hyper parameters."
   ]
  },
  {
   "cell_type": "code",
   "execution_count": null,
   "metadata": {},
   "outputs": [],
   "source": []
  },
  {
   "cell_type": "markdown",
   "metadata": {},
   "source": [
    "- Is the model overfitting or underfitting? (ensure that the model has fully converged by increasing the number of epochs to 50 or more if necessary)."
   ]
  },
  {
   "cell_type": "code",
   "execution_count": null,
   "metadata": {},
   "outputs": [],
   "source": []
  }
 ],
 "metadata": {
  "kernelspec": {
   "display_name": "Py312Sys",
   "language": "python",
   "name": "py312sys"
  },
  "language_info": {
   "codemirror_mode": {
    "name": "ipython",
    "version": 3
   },
   "file_extension": ".py",
   "mimetype": "text/x-python",
   "name": "python",
   "nbconvert_exporter": "python",
   "pygments_lexer": "ipython3",
   "version": "3.12.2"
  }
 },
 "nbformat": 4,
 "nbformat_minor": 4
}
