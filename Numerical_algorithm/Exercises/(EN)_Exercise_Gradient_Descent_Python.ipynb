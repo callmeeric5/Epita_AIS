{
  "nbformat": 4,
  "nbformat_minor": 0,
  "metadata": {
    "colab": {
      "provenance": [],
      "collapsed_sections": [
        "UciPweF81Yyz",
        "fcm2B81JN25q",
        "rJ8aqOS7N9EV",
        "640rK-gXX0Lg",
        "6_ktSdLyX7Us"
      ]
    },
    "kernelspec": {
      "name": "python3",
      "display_name": "Python 3"
    },
    "language_info": {
      "name": "python"
    }
  },
  "cells": [
    {
      "cell_type": "code",
      "execution_count": null,
      "metadata": {
        "id": "Ik8HWeRm1H4H"
      },
      "outputs": [],
      "source": [
        "import pandas as pd\n",
        "import numpy as np\n",
        "import matplotlib.pyplot as plt\n",
        "from sklearn.datasets import make_regression, make_classification"
      ]
    },
    {
      "cell_type": "markdown",
      "source": [
        "# Linear Regression"
      ],
      "metadata": {
        "id": "UciPweF81Yyz"
      }
    },
    {
      "cell_type": "code",
      "source": [
        "### Create a regression dataset\n",
        "n_f = 1\n",
        "n_t = 1\n",
        "n_s = 1000\n",
        "X, y = make_regression(n_samples=n_s,\n",
        "                       n_features=n_f,\n",
        "                       n_targets=n_t,\n",
        "                       noise=2,\n",
        "                       random_state=42)\n",
        "\n",
        "df = pd.DataFrame(np.concatenate([X, y[...,np.newaxis]], axis=1),\n",
        "                  columns = ['X', 'y'])\n",
        "df.head()"
      ],
      "metadata": {
        "colab": {
          "base_uri": "https://localhost:8080/",
          "height": 206
        },
        "id": "3oihcccsPqUo",
        "outputId": "f00fa1c0-50d0-4c24-fe91-bcedbcd342d4"
      },
      "execution_count": null,
      "outputs": [
        {
          "output_type": "execute_result",
          "data": {
            "text/plain": [
              "          X          y\n",
              "0 -1.758739 -30.118736\n",
              "1  1.031845  14.526197\n",
              "2 -0.487606 -10.119305\n",
              "3  0.186454   1.700188\n",
              "4  0.725767  12.345314"
            ],
            "text/html": [
              "\n",
              "  <div id=\"df-59ba8322-27d6-427e-8d84-3d13a9dfcb43\" class=\"colab-df-container\">\n",
              "    <div>\n",
              "<style scoped>\n",
              "    .dataframe tbody tr th:only-of-type {\n",
              "        vertical-align: middle;\n",
              "    }\n",
              "\n",
              "    .dataframe tbody tr th {\n",
              "        vertical-align: top;\n",
              "    }\n",
              "\n",
              "    .dataframe thead th {\n",
              "        text-align: right;\n",
              "    }\n",
              "</style>\n",
              "<table border=\"1\" class=\"dataframe\">\n",
              "  <thead>\n",
              "    <tr style=\"text-align: right;\">\n",
              "      <th></th>\n",
              "      <th>X</th>\n",
              "      <th>y</th>\n",
              "    </tr>\n",
              "  </thead>\n",
              "  <tbody>\n",
              "    <tr>\n",
              "      <th>0</th>\n",
              "      <td>-1.758739</td>\n",
              "      <td>-30.118736</td>\n",
              "    </tr>\n",
              "    <tr>\n",
              "      <th>1</th>\n",
              "      <td>1.031845</td>\n",
              "      <td>14.526197</td>\n",
              "    </tr>\n",
              "    <tr>\n",
              "      <th>2</th>\n",
              "      <td>-0.487606</td>\n",
              "      <td>-10.119305</td>\n",
              "    </tr>\n",
              "    <tr>\n",
              "      <th>3</th>\n",
              "      <td>0.186454</td>\n",
              "      <td>1.700188</td>\n",
              "    </tr>\n",
              "    <tr>\n",
              "      <th>4</th>\n",
              "      <td>0.725767</td>\n",
              "      <td>12.345314</td>\n",
              "    </tr>\n",
              "  </tbody>\n",
              "</table>\n",
              "</div>\n",
              "    <div class=\"colab-df-buttons\">\n",
              "\n",
              "  <div class=\"colab-df-container\">\n",
              "    <button class=\"colab-df-convert\" onclick=\"convertToInteractive('df-59ba8322-27d6-427e-8d84-3d13a9dfcb43')\"\n",
              "            title=\"Convert this dataframe to an interactive table.\"\n",
              "            style=\"display:none;\">\n",
              "\n",
              "  <svg xmlns=\"http://www.w3.org/2000/svg\" height=\"24px\" viewBox=\"0 -960 960 960\">\n",
              "    <path d=\"M120-120v-720h720v720H120Zm60-500h600v-160H180v160Zm220 220h160v-160H400v160Zm0 220h160v-160H400v160ZM180-400h160v-160H180v160Zm440 0h160v-160H620v160ZM180-180h160v-160H180v160Zm440 0h160v-160H620v160Z\"/>\n",
              "  </svg>\n",
              "    </button>\n",
              "\n",
              "  <style>\n",
              "    .colab-df-container {\n",
              "      display:flex;\n",
              "      gap: 12px;\n",
              "    }\n",
              "\n",
              "    .colab-df-convert {\n",
              "      background-color: #E8F0FE;\n",
              "      border: none;\n",
              "      border-radius: 50%;\n",
              "      cursor: pointer;\n",
              "      display: none;\n",
              "      fill: #1967D2;\n",
              "      height: 32px;\n",
              "      padding: 0 0 0 0;\n",
              "      width: 32px;\n",
              "    }\n",
              "\n",
              "    .colab-df-convert:hover {\n",
              "      background-color: #E2EBFA;\n",
              "      box-shadow: 0px 1px 2px rgba(60, 64, 67, 0.3), 0px 1px 3px 1px rgba(60, 64, 67, 0.15);\n",
              "      fill: #174EA6;\n",
              "    }\n",
              "\n",
              "    .colab-df-buttons div {\n",
              "      margin-bottom: 4px;\n",
              "    }\n",
              "\n",
              "    [theme=dark] .colab-df-convert {\n",
              "      background-color: #3B4455;\n",
              "      fill: #D2E3FC;\n",
              "    }\n",
              "\n",
              "    [theme=dark] .colab-df-convert:hover {\n",
              "      background-color: #434B5C;\n",
              "      box-shadow: 0px 1px 3px 1px rgba(0, 0, 0, 0.15);\n",
              "      filter: drop-shadow(0px 1px 2px rgba(0, 0, 0, 0.3));\n",
              "      fill: #FFFFFF;\n",
              "    }\n",
              "  </style>\n",
              "\n",
              "    <script>\n",
              "      const buttonEl =\n",
              "        document.querySelector('#df-59ba8322-27d6-427e-8d84-3d13a9dfcb43 button.colab-df-convert');\n",
              "      buttonEl.style.display =\n",
              "        google.colab.kernel.accessAllowed ? 'block' : 'none';\n",
              "\n",
              "      async function convertToInteractive(key) {\n",
              "        const element = document.querySelector('#df-59ba8322-27d6-427e-8d84-3d13a9dfcb43');\n",
              "        const dataTable =\n",
              "          await google.colab.kernel.invokeFunction('convertToInteractive',\n",
              "                                                    [key], {});\n",
              "        if (!dataTable) return;\n",
              "\n",
              "        const docLinkHtml = 'Like what you see? Visit the ' +\n",
              "          '<a target=\"_blank\" href=https://colab.research.google.com/notebooks/data_table.ipynb>data table notebook</a>'\n",
              "          + ' to learn more about interactive tables.';\n",
              "        element.innerHTML = '';\n",
              "        dataTable['output_type'] = 'display_data';\n",
              "        await google.colab.output.renderOutput(dataTable, element);\n",
              "        const docLink = document.createElement('div');\n",
              "        docLink.innerHTML = docLinkHtml;\n",
              "        element.appendChild(docLink);\n",
              "      }\n",
              "    </script>\n",
              "  </div>\n",
              "\n",
              "\n",
              "<div id=\"df-4c5e6167-85ea-4eea-8547-c4a859bb7606\">\n",
              "  <button class=\"colab-df-quickchart\" onclick=\"quickchart('df-4c5e6167-85ea-4eea-8547-c4a859bb7606')\"\n",
              "            title=\"Suggest charts\"\n",
              "            style=\"display:none;\">\n",
              "\n",
              "<svg xmlns=\"http://www.w3.org/2000/svg\" height=\"24px\"viewBox=\"0 0 24 24\"\n",
              "     width=\"24px\">\n",
              "    <g>\n",
              "        <path d=\"M19 3H5c-1.1 0-2 .9-2 2v14c0 1.1.9 2 2 2h14c1.1 0 2-.9 2-2V5c0-1.1-.9-2-2-2zM9 17H7v-7h2v7zm4 0h-2V7h2v10zm4 0h-2v-4h2v4z\"/>\n",
              "    </g>\n",
              "</svg>\n",
              "  </button>\n",
              "\n",
              "<style>\n",
              "  .colab-df-quickchart {\n",
              "      --bg-color: #E8F0FE;\n",
              "      --fill-color: #1967D2;\n",
              "      --hover-bg-color: #E2EBFA;\n",
              "      --hover-fill-color: #174EA6;\n",
              "      --disabled-fill-color: #AAA;\n",
              "      --disabled-bg-color: #DDD;\n",
              "  }\n",
              "\n",
              "  [theme=dark] .colab-df-quickchart {\n",
              "      --bg-color: #3B4455;\n",
              "      --fill-color: #D2E3FC;\n",
              "      --hover-bg-color: #434B5C;\n",
              "      --hover-fill-color: #FFFFFF;\n",
              "      --disabled-bg-color: #3B4455;\n",
              "      --disabled-fill-color: #666;\n",
              "  }\n",
              "\n",
              "  .colab-df-quickchart {\n",
              "    background-color: var(--bg-color);\n",
              "    border: none;\n",
              "    border-radius: 50%;\n",
              "    cursor: pointer;\n",
              "    display: none;\n",
              "    fill: var(--fill-color);\n",
              "    height: 32px;\n",
              "    padding: 0;\n",
              "    width: 32px;\n",
              "  }\n",
              "\n",
              "  .colab-df-quickchart:hover {\n",
              "    background-color: var(--hover-bg-color);\n",
              "    box-shadow: 0 1px 2px rgba(60, 64, 67, 0.3), 0 1px 3px 1px rgba(60, 64, 67, 0.15);\n",
              "    fill: var(--button-hover-fill-color);\n",
              "  }\n",
              "\n",
              "  .colab-df-quickchart-complete:disabled,\n",
              "  .colab-df-quickchart-complete:disabled:hover {\n",
              "    background-color: var(--disabled-bg-color);\n",
              "    fill: var(--disabled-fill-color);\n",
              "    box-shadow: none;\n",
              "  }\n",
              "\n",
              "  .colab-df-spinner {\n",
              "    border: 2px solid var(--fill-color);\n",
              "    border-color: transparent;\n",
              "    border-bottom-color: var(--fill-color);\n",
              "    animation:\n",
              "      spin 1s steps(1) infinite;\n",
              "  }\n",
              "\n",
              "  @keyframes spin {\n",
              "    0% {\n",
              "      border-color: transparent;\n",
              "      border-bottom-color: var(--fill-color);\n",
              "      border-left-color: var(--fill-color);\n",
              "    }\n",
              "    20% {\n",
              "      border-color: transparent;\n",
              "      border-left-color: var(--fill-color);\n",
              "      border-top-color: var(--fill-color);\n",
              "    }\n",
              "    30% {\n",
              "      border-color: transparent;\n",
              "      border-left-color: var(--fill-color);\n",
              "      border-top-color: var(--fill-color);\n",
              "      border-right-color: var(--fill-color);\n",
              "    }\n",
              "    40% {\n",
              "      border-color: transparent;\n",
              "      border-right-color: var(--fill-color);\n",
              "      border-top-color: var(--fill-color);\n",
              "    }\n",
              "    60% {\n",
              "      border-color: transparent;\n",
              "      border-right-color: var(--fill-color);\n",
              "    }\n",
              "    80% {\n",
              "      border-color: transparent;\n",
              "      border-right-color: var(--fill-color);\n",
              "      border-bottom-color: var(--fill-color);\n",
              "    }\n",
              "    90% {\n",
              "      border-color: transparent;\n",
              "      border-bottom-color: var(--fill-color);\n",
              "    }\n",
              "  }\n",
              "</style>\n",
              "\n",
              "  <script>\n",
              "    async function quickchart(key) {\n",
              "      const quickchartButtonEl =\n",
              "        document.querySelector('#' + key + ' button');\n",
              "      quickchartButtonEl.disabled = true;  // To prevent multiple clicks.\n",
              "      quickchartButtonEl.classList.add('colab-df-spinner');\n",
              "      try {\n",
              "        const charts = await google.colab.kernel.invokeFunction(\n",
              "            'suggestCharts', [key], {});\n",
              "      } catch (error) {\n",
              "        console.error('Error during call to suggestCharts:', error);\n",
              "      }\n",
              "      quickchartButtonEl.classList.remove('colab-df-spinner');\n",
              "      quickchartButtonEl.classList.add('colab-df-quickchart-complete');\n",
              "    }\n",
              "    (() => {\n",
              "      let quickchartButtonEl =\n",
              "        document.querySelector('#df-4c5e6167-85ea-4eea-8547-c4a859bb7606 button');\n",
              "      quickchartButtonEl.style.display =\n",
              "        google.colab.kernel.accessAllowed ? 'block' : 'none';\n",
              "    })();\n",
              "  </script>\n",
              "</div>\n",
              "    </div>\n",
              "  </div>\n"
            ]
          },
          "metadata": {},
          "execution_count": 78
        }
      ]
    },
    {
      "cell_type": "markdown",
      "source": [
        "**<font color='blue'> 1. Display the scatter plot of X and y using matplotlib.**"
      ],
      "metadata": {
        "id": "k-ofJSLx2NuT"
      }
    },
    {
      "cell_type": "code",
      "source": [],
      "metadata": {
        "id": "UWzJJ-NC1rlf"
      },
      "execution_count": null,
      "outputs": []
    },
    {
      "cell_type": "markdown",
      "source": [
        "In order to compute the gradient descent method we need to choose:\n",
        "\n",
        "\n",
        "*   A method to predict the values\n",
        "*   A cost function to estimate the errors made by the prediction\n",
        "\n",
        "\n",
        "\n",
        "The method used to predict the values is the **linear regression**. <br>\n",
        "For a univariate function, it can be expressed using the following formula:<br><br>\n",
        "\n",
        "<font size=\"+1\"><center>$y_{pred} = \\theta_1x +\\theta_0$</center><br>\n",
        "\n",
        "The **cost function** used in this example is the **mean squared error**. <br>\n",
        "It is a convex, defined and derivable function which is perfect for the Gradient Descent method.<br>\n",
        "It can be expressed using the following formula:<br><br>\n",
        "\n",
        "<font size=\"+1\"><center>$mse = J(\\theta) = \\frac {1}{m} \\sum_{i=1}^{m}(y_{pred,i}-y_{true,i})^2$</center><br>\n",
        "\n",
        "We can inject the linear regression into the cost function in order to get:<br><br>\n",
        "\n",
        "<font size=\"+1\"><center>$J(\\theta)=\\frac {1}{m} \\sum_{i=1}^{m}((\\theta_1 x_{i} + \\theta_0) - y_{true,i})^2$</center><br>\n",
        "\n",
        "with $m$ the number of instances in the dataset, <br> $\\theta_{0}$ and $\\theta_{1}$ the parameter of the model, <br>$y_{i}$ the label of the i-th instance, <br> $x_{i}$ the feature value of the i-th instance.<br><br>\n",
        "\n",
        "Thus, the **gradient vector** for this example is the following (it is the partial derivatives regarding $\\theta_0$ and $\\theta_1$):<br><br>\n",
        "<font size=\"+1\"><center>$\\bigtriangledown J(\\theta)=\\begin{bmatrix}\n",
        "\\frac{\\partial J(\\theta)}{\\partial\\theta_0}\\\\\n",
        "\\frac{\\partial J(\\theta)}{\\partial\\theta_1}\n",
        "\\end{bmatrix}$</center><br>\n",
        "\n",
        "<font size=\"+1\"><center>$\\bigtriangledown J(\\theta)=\\begin{bmatrix}\n",
        "\\frac {2}{m} \\sum_{i=1}^{m}\\theta_1 x_{i}+\\theta_0 - y_{i}\\\\\n",
        "\\frac {2}{m} \\sum_{i=1}^{m}x_{i} (\\theta_1 x_{i}+\\theta_0 - y_{i})\n",
        "\\end{bmatrix}$</center><br>\n",
        "\n",
        "Now, we can use the Gradient Descent Algorithm to iteratively update a weight  using the following formula:<br><br>\n",
        "\n",
        "<font size=\"+1\"><center>$\\theta_{n+1} = \\theta_{n} - \\eta * \\frac{\\partial J(\\theta)}{\\partial\\theta_{n}}$</center><br>\n",
        "\n",
        "And especially:<br><br>\n",
        "\n",
        "<font size=\"+1\"><center>$\\theta_{1, n+1} = \\theta_{1,n} - \\eta \\frac {2}{m} \\sum_{i=1}^{m}x_{i}(\\theta_{1,n} x_{i}+\\theta_{0,n} - y_{i})$</center>\n",
        "<font size=\"+1\"><center>$\\theta_{0, n+1} = \\theta_{0,n} - \\eta \\frac {2}{m} \\sum_{i=1}^{m}(\\theta_{1,n} x_{i}+\\theta_{0,n} - y_{i})$</center><br>\n",
        "\n",
        "with $n$ the n-th step of the Gradient Descent algorithm,\n",
        "<br>$\\eta$ the learning rate."
      ],
      "metadata": {
        "id": "LRHTtD5m3Sru"
      }
    },
    {
      "cell_type": "markdown",
      "source": [
        "**<font color = \"blue\">2.a. Initialize the parameters of the model to 0.\n",
        "<br> 2.b. Create a function named predict that takes the feature and the parameters as inputs, and calculates the predicted output using the linear equation W * X + b.\n",
        "<br>2.c. Create a function named mean_squared_error that takes the label and the predicted output, and calculates the mean squared error.**"
      ],
      "metadata": {
        "id": "uRKmfOPGIfWl"
      }
    },
    {
      "cell_type": "code",
      "source": [],
      "metadata": {
        "id": "FRK5TUFr2zqD"
      },
      "execution_count": null,
      "outputs": []
    },
    {
      "cell_type": "markdown",
      "source": [
        "**<font color = \"blue\">3. Create a function named update_weights that takes the feature, the label, the predicted value, the parameters (W and b) and the learning rate. The function should compute the gradient with respect to the parameters W and b. It should update the parameters using the computed gradient and the learning rate and return them.**"
      ],
      "metadata": {
        "id": "uJ6z48GHJXP2"
      }
    },
    {
      "cell_type": "code",
      "source": [],
      "metadata": {
        "id": "B0W4o7H89Zvh"
      },
      "execution_count": null,
      "outputs": []
    },
    {
      "cell_type": "markdown",
      "source": [
        "**<font color = \"blue\">4. Create a function named main that runs the Gradient Descent and save the steps using the previous functions.\n",
        "<br>a. The function should take the parameters X, y, W, b, lr, eps, and max_iter. <br>&nbsp;&nbsp;&nbsp;&nbsp;&nbsp;&nbsp;&nbsp;&nbsp;&nbsp;&nbsp;eps is a small threshold value to check for convergence (1e-5).<br> &nbsp;&nbsp;&nbsp;&nbsp;&nbsp;&nbsp;&nbsp;&nbsp;&nbsp;&nbsp;max_iter is the maximum number of iterations.\n",
        "<br>b. Initialize lists to keep track of the history of weights, biases, and cost values throughout the iterations.\n",
        "<br>c. At each step of the algorithm, predict the values, update the parameters and save their values as well as the one of the objective function.\n",
        "<br>d. The algorithm should stop when the change in cost between iterations is less than eps or until max_iter is reached.\n",
        "<br>e. Return the history lists.**"
      ],
      "metadata": {
        "id": "JoujriYjKv9O"
      }
    },
    {
      "cell_type": "code",
      "source": [],
      "metadata": {
        "id": "Z06KhANQ-RBp"
      },
      "execution_count": null,
      "outputs": []
    },
    {
      "cell_type": "markdown",
      "source": [
        "**<font color=\"blue\">5.a. Display the parameter values and the errors at each step.\n",
        "<br>5.b. Display the error values at each step on a graph.**"
      ],
      "metadata": {
        "id": "4hTapxiuswMX"
      }
    },
    {
      "cell_type": "code",
      "source": [],
      "metadata": {
        "id": "zazVZ6bhAoXg"
      },
      "execution_count": null,
      "outputs": []
    },
    {
      "cell_type": "markdown",
      "source": [
        "**<font color = \"blue\">6. Display the linear regression on the scatter plot.**"
      ],
      "metadata": {
        "id": "BDGOP-I5Nsb-"
      }
    },
    {
      "cell_type": "code",
      "source": [],
      "metadata": {
        "id": "-UTKfZjNA8yf"
      },
      "execution_count": null,
      "outputs": []
    },
    {
      "cell_type": "markdown",
      "source": [
        "# Multivariate Linear Regression"
      ],
      "metadata": {
        "id": "fcm2B81JN25q"
      }
    },
    {
      "cell_type": "code",
      "source": [
        "n_f = 5\n",
        "n_t = 1\n",
        "n_s = 10000\n",
        "X, y = make_regression(n_samples=n_s,\n",
        "                       n_features=n_f,\n",
        "                       n_targets=n_t,\n",
        "                       noise=0.5)\n",
        "\n",
        "df = pd.DataFrame(np.concatenate([X, y[...,np.newaxis]], axis=1),\n",
        "                  columns = [f'X_{i}' for i in range(1,n_f+1)]+['y'])\n",
        "df.head()"
      ],
      "metadata": {
        "id": "nc5VyFQADXAn",
        "colab": {
          "base_uri": "https://localhost:8080/",
          "height": 206
        },
        "outputId": "da691129-1ae9-42d3-f3ee-f5431d19a81e"
      },
      "execution_count": null,
      "outputs": [
        {
          "output_type": "execute_result",
          "data": {
            "text/plain": [
              "        X_1       X_2       X_3       X_4       X_5           y\n",
              "0 -0.707326 -0.672149 -0.537476  0.326235  0.869808    1.286733\n",
              "1 -0.036471 -0.504940  1.135858 -0.002340 -0.210058  -46.672863\n",
              "2  0.080342 -0.202862 -0.102690  0.179789 -1.989976 -209.167236\n",
              "3  0.354355 -1.345479 -0.166349  0.721900 -1.209121 -236.600844\n",
              "4 -0.430726 -1.167745 -1.516517 -1.087574  0.324521 -117.801031"
            ],
            "text/html": [
              "\n",
              "  <div id=\"df-9632b32a-658c-4ab4-a285-a9b6db72aedd\" class=\"colab-df-container\">\n",
              "    <div>\n",
              "<style scoped>\n",
              "    .dataframe tbody tr th:only-of-type {\n",
              "        vertical-align: middle;\n",
              "    }\n",
              "\n",
              "    .dataframe tbody tr th {\n",
              "        vertical-align: top;\n",
              "    }\n",
              "\n",
              "    .dataframe thead th {\n",
              "        text-align: right;\n",
              "    }\n",
              "</style>\n",
              "<table border=\"1\" class=\"dataframe\">\n",
              "  <thead>\n",
              "    <tr style=\"text-align: right;\">\n",
              "      <th></th>\n",
              "      <th>X_1</th>\n",
              "      <th>X_2</th>\n",
              "      <th>X_3</th>\n",
              "      <th>X_4</th>\n",
              "      <th>X_5</th>\n",
              "      <th>y</th>\n",
              "    </tr>\n",
              "  </thead>\n",
              "  <tbody>\n",
              "    <tr>\n",
              "      <th>0</th>\n",
              "      <td>-0.707326</td>\n",
              "      <td>-0.672149</td>\n",
              "      <td>-0.537476</td>\n",
              "      <td>0.326235</td>\n",
              "      <td>0.869808</td>\n",
              "      <td>1.286733</td>\n",
              "    </tr>\n",
              "    <tr>\n",
              "      <th>1</th>\n",
              "      <td>-0.036471</td>\n",
              "      <td>-0.504940</td>\n",
              "      <td>1.135858</td>\n",
              "      <td>-0.002340</td>\n",
              "      <td>-0.210058</td>\n",
              "      <td>-46.672863</td>\n",
              "    </tr>\n",
              "    <tr>\n",
              "      <th>2</th>\n",
              "      <td>0.080342</td>\n",
              "      <td>-0.202862</td>\n",
              "      <td>-0.102690</td>\n",
              "      <td>0.179789</td>\n",
              "      <td>-1.989976</td>\n",
              "      <td>-209.167236</td>\n",
              "    </tr>\n",
              "    <tr>\n",
              "      <th>3</th>\n",
              "      <td>0.354355</td>\n",
              "      <td>-1.345479</td>\n",
              "      <td>-0.166349</td>\n",
              "      <td>0.721900</td>\n",
              "      <td>-1.209121</td>\n",
              "      <td>-236.600844</td>\n",
              "    </tr>\n",
              "    <tr>\n",
              "      <th>4</th>\n",
              "      <td>-0.430726</td>\n",
              "      <td>-1.167745</td>\n",
              "      <td>-1.516517</td>\n",
              "      <td>-1.087574</td>\n",
              "      <td>0.324521</td>\n",
              "      <td>-117.801031</td>\n",
              "    </tr>\n",
              "  </tbody>\n",
              "</table>\n",
              "</div>\n",
              "    <div class=\"colab-df-buttons\">\n",
              "\n",
              "  <div class=\"colab-df-container\">\n",
              "    <button class=\"colab-df-convert\" onclick=\"convertToInteractive('df-9632b32a-658c-4ab4-a285-a9b6db72aedd')\"\n",
              "            title=\"Convert this dataframe to an interactive table.\"\n",
              "            style=\"display:none;\">\n",
              "\n",
              "  <svg xmlns=\"http://www.w3.org/2000/svg\" height=\"24px\" viewBox=\"0 -960 960 960\">\n",
              "    <path d=\"M120-120v-720h720v720H120Zm60-500h600v-160H180v160Zm220 220h160v-160H400v160Zm0 220h160v-160H400v160ZM180-400h160v-160H180v160Zm440 0h160v-160H620v160ZM180-180h160v-160H180v160Zm440 0h160v-160H620v160Z\"/>\n",
              "  </svg>\n",
              "    </button>\n",
              "\n",
              "  <style>\n",
              "    .colab-df-container {\n",
              "      display:flex;\n",
              "      gap: 12px;\n",
              "    }\n",
              "\n",
              "    .colab-df-convert {\n",
              "      background-color: #E8F0FE;\n",
              "      border: none;\n",
              "      border-radius: 50%;\n",
              "      cursor: pointer;\n",
              "      display: none;\n",
              "      fill: #1967D2;\n",
              "      height: 32px;\n",
              "      padding: 0 0 0 0;\n",
              "      width: 32px;\n",
              "    }\n",
              "\n",
              "    .colab-df-convert:hover {\n",
              "      background-color: #E2EBFA;\n",
              "      box-shadow: 0px 1px 2px rgba(60, 64, 67, 0.3), 0px 1px 3px 1px rgba(60, 64, 67, 0.15);\n",
              "      fill: #174EA6;\n",
              "    }\n",
              "\n",
              "    .colab-df-buttons div {\n",
              "      margin-bottom: 4px;\n",
              "    }\n",
              "\n",
              "    [theme=dark] .colab-df-convert {\n",
              "      background-color: #3B4455;\n",
              "      fill: #D2E3FC;\n",
              "    }\n",
              "\n",
              "    [theme=dark] .colab-df-convert:hover {\n",
              "      background-color: #434B5C;\n",
              "      box-shadow: 0px 1px 3px 1px rgba(0, 0, 0, 0.15);\n",
              "      filter: drop-shadow(0px 1px 2px rgba(0, 0, 0, 0.3));\n",
              "      fill: #FFFFFF;\n",
              "    }\n",
              "  </style>\n",
              "\n",
              "    <script>\n",
              "      const buttonEl =\n",
              "        document.querySelector('#df-9632b32a-658c-4ab4-a285-a9b6db72aedd button.colab-df-convert');\n",
              "      buttonEl.style.display =\n",
              "        google.colab.kernel.accessAllowed ? 'block' : 'none';\n",
              "\n",
              "      async function convertToInteractive(key) {\n",
              "        const element = document.querySelector('#df-9632b32a-658c-4ab4-a285-a9b6db72aedd');\n",
              "        const dataTable =\n",
              "          await google.colab.kernel.invokeFunction('convertToInteractive',\n",
              "                                                    [key], {});\n",
              "        if (!dataTable) return;\n",
              "\n",
              "        const docLinkHtml = 'Like what you see? Visit the ' +\n",
              "          '<a target=\"_blank\" href=https://colab.research.google.com/notebooks/data_table.ipynb>data table notebook</a>'\n",
              "          + ' to learn more about interactive tables.';\n",
              "        element.innerHTML = '';\n",
              "        dataTable['output_type'] = 'display_data';\n",
              "        await google.colab.output.renderOutput(dataTable, element);\n",
              "        const docLink = document.createElement('div');\n",
              "        docLink.innerHTML = docLinkHtml;\n",
              "        element.appendChild(docLink);\n",
              "      }\n",
              "    </script>\n",
              "  </div>\n",
              "\n",
              "\n",
              "<div id=\"df-489b54c5-66ab-4968-9c33-de26dc1a686e\">\n",
              "  <button class=\"colab-df-quickchart\" onclick=\"quickchart('df-489b54c5-66ab-4968-9c33-de26dc1a686e')\"\n",
              "            title=\"Suggest charts\"\n",
              "            style=\"display:none;\">\n",
              "\n",
              "<svg xmlns=\"http://www.w3.org/2000/svg\" height=\"24px\"viewBox=\"0 0 24 24\"\n",
              "     width=\"24px\">\n",
              "    <g>\n",
              "        <path d=\"M19 3H5c-1.1 0-2 .9-2 2v14c0 1.1.9 2 2 2h14c1.1 0 2-.9 2-2V5c0-1.1-.9-2-2-2zM9 17H7v-7h2v7zm4 0h-2V7h2v10zm4 0h-2v-4h2v4z\"/>\n",
              "    </g>\n",
              "</svg>\n",
              "  </button>\n",
              "\n",
              "<style>\n",
              "  .colab-df-quickchart {\n",
              "      --bg-color: #E8F0FE;\n",
              "      --fill-color: #1967D2;\n",
              "      --hover-bg-color: #E2EBFA;\n",
              "      --hover-fill-color: #174EA6;\n",
              "      --disabled-fill-color: #AAA;\n",
              "      --disabled-bg-color: #DDD;\n",
              "  }\n",
              "\n",
              "  [theme=dark] .colab-df-quickchart {\n",
              "      --bg-color: #3B4455;\n",
              "      --fill-color: #D2E3FC;\n",
              "      --hover-bg-color: #434B5C;\n",
              "      --hover-fill-color: #FFFFFF;\n",
              "      --disabled-bg-color: #3B4455;\n",
              "      --disabled-fill-color: #666;\n",
              "  }\n",
              "\n",
              "  .colab-df-quickchart {\n",
              "    background-color: var(--bg-color);\n",
              "    border: none;\n",
              "    border-radius: 50%;\n",
              "    cursor: pointer;\n",
              "    display: none;\n",
              "    fill: var(--fill-color);\n",
              "    height: 32px;\n",
              "    padding: 0;\n",
              "    width: 32px;\n",
              "  }\n",
              "\n",
              "  .colab-df-quickchart:hover {\n",
              "    background-color: var(--hover-bg-color);\n",
              "    box-shadow: 0 1px 2px rgba(60, 64, 67, 0.3), 0 1px 3px 1px rgba(60, 64, 67, 0.15);\n",
              "    fill: var(--button-hover-fill-color);\n",
              "  }\n",
              "\n",
              "  .colab-df-quickchart-complete:disabled,\n",
              "  .colab-df-quickchart-complete:disabled:hover {\n",
              "    background-color: var(--disabled-bg-color);\n",
              "    fill: var(--disabled-fill-color);\n",
              "    box-shadow: none;\n",
              "  }\n",
              "\n",
              "  .colab-df-spinner {\n",
              "    border: 2px solid var(--fill-color);\n",
              "    border-color: transparent;\n",
              "    border-bottom-color: var(--fill-color);\n",
              "    animation:\n",
              "      spin 1s steps(1) infinite;\n",
              "  }\n",
              "\n",
              "  @keyframes spin {\n",
              "    0% {\n",
              "      border-color: transparent;\n",
              "      border-bottom-color: var(--fill-color);\n",
              "      border-left-color: var(--fill-color);\n",
              "    }\n",
              "    20% {\n",
              "      border-color: transparent;\n",
              "      border-left-color: var(--fill-color);\n",
              "      border-top-color: var(--fill-color);\n",
              "    }\n",
              "    30% {\n",
              "      border-color: transparent;\n",
              "      border-left-color: var(--fill-color);\n",
              "      border-top-color: var(--fill-color);\n",
              "      border-right-color: var(--fill-color);\n",
              "    }\n",
              "    40% {\n",
              "      border-color: transparent;\n",
              "      border-right-color: var(--fill-color);\n",
              "      border-top-color: var(--fill-color);\n",
              "    }\n",
              "    60% {\n",
              "      border-color: transparent;\n",
              "      border-right-color: var(--fill-color);\n",
              "    }\n",
              "    80% {\n",
              "      border-color: transparent;\n",
              "      border-right-color: var(--fill-color);\n",
              "      border-bottom-color: var(--fill-color);\n",
              "    }\n",
              "    90% {\n",
              "      border-color: transparent;\n",
              "      border-bottom-color: var(--fill-color);\n",
              "    }\n",
              "  }\n",
              "</style>\n",
              "\n",
              "  <script>\n",
              "    async function quickchart(key) {\n",
              "      const quickchartButtonEl =\n",
              "        document.querySelector('#' + key + ' button');\n",
              "      quickchartButtonEl.disabled = true;  // To prevent multiple clicks.\n",
              "      quickchartButtonEl.classList.add('colab-df-spinner');\n",
              "      try {\n",
              "        const charts = await google.colab.kernel.invokeFunction(\n",
              "            'suggestCharts', [key], {});\n",
              "      } catch (error) {\n",
              "        console.error('Error during call to suggestCharts:', error);\n",
              "      }\n",
              "      quickchartButtonEl.classList.remove('colab-df-spinner');\n",
              "      quickchartButtonEl.classList.add('colab-df-quickchart-complete');\n",
              "    }\n",
              "    (() => {\n",
              "      let quickchartButtonEl =\n",
              "        document.querySelector('#df-489b54c5-66ab-4968-9c33-de26dc1a686e button');\n",
              "      quickchartButtonEl.style.display =\n",
              "        google.colab.kernel.accessAllowed ? 'block' : 'none';\n",
              "    })();\n",
              "  </script>\n",
              "</div>\n",
              "    </div>\n",
              "  </div>\n"
            ]
          },
          "metadata": {},
          "execution_count": 86
        }
      ]
    },
    {
      "cell_type": "markdown",
      "source": [
        "Here is a **multivariate Linear Regression** with 5 features:\n",
        "\n",
        "<font size=\"+1\"><center>$\\begin{align*}y_{pred} &= \\theta_1x_1 + \\theta_2x_2 + \\theta_3x_3 + \\theta_4x_4 + \\theta_5x_5 + \\theta_0\\\\\n",
        "&= \\Theta^T \\cdot X+\\theta_0\n",
        "\\end{align*}$</center><br>\n",
        "\n",
        "with $\\Theta^T \\cdot X$ the dot product of the following matrices:\n",
        "\n",
        "<font size=\"+1\"><center>$\\begin{align*}\n",
        "\\Theta^T &= \\begin{bmatrix} \\theta_1 & \\theta_2 & \\theta_3 & \\theta_4& \\theta_5 \\\\\n",
        "\\end{bmatrix}\\\\\n",
        "X &= \\begin{bmatrix}x_{0,1} & x_{0,2} & x_{0,3} & x_{0,4} & x_{0,5}\\\\\n",
        "x_{1,1} & x_{1,2} & x_{1,3} & x_{1,4} & x_{1,5}\\\\\n",
        "\\vdots & \\vdots & \\vdots & \\vdots & \\vdots\\\\\n",
        "x_{m,1} & x_{m,2} & x_{m,3} & x_{m,4} & x_{m,5}\\\\\n",
        "\\end{bmatrix}\n",
        "\\end{align*}$</center><br>\n",
        "\n",
        "The Gradient Descent for a multivariate linear regression is very similar to the one with a univariate linear regression.<br> The Gradient vector have more elements:<br><br>\n",
        "\n",
        "<font size=\"+1\"><center>$\\bigtriangledown J(\\theta)=\\begin{bmatrix}\n",
        "\\frac{\\partial J(\\theta)}{\\partial\\theta_0}\\\\\n",
        "\\frac{\\partial J(\\theta)}{\\partial\\theta_1}\\\\\n",
        "\\vdots\\\\\n",
        "\\frac{\\partial J(\\theta)}{\\partial\\theta_5}\n",
        "\\end{bmatrix}$</center><br>\n",
        "\n",
        "<font size=\"+1\"><center>$\\bigtriangledown J(\\theta)=\\begin{bmatrix}\n",
        "\\frac {2}{m} \\sum_{i=1}^{m}\\Theta^T \\cdot X_i + \\theta_0 - y^{(i)}\\\\\n",
        "\\frac {2}{m} \\sum_{i=1}^{m}\\color{red}{x_{i,1}} (\\Theta^T \\cdot X_i+\\theta_0 - y^{(i)})\\\\\n",
        "\\vdots\\\\\n",
        "\\frac {2}{m} \\sum_{i=1}^{m}\\color{red}{x_{i,5}} (\\Theta^T \\cdot X_i+\\theta_0 - y^{(i)})\n",
        "\\end{bmatrix}$</center><br>\n"
      ],
      "metadata": {
        "id": "nefGh7hb2ZmS"
      }
    },
    {
      "cell_type": "markdown",
      "source": [
        "**<font color=\"blue\"> 1.a. Initialize the parameters of the model to 0.**\n",
        "\n",
        "*Tips: Create a numpy array W that contains all the parameters of the features.<br> The shape of W should be (5,)*"
      ],
      "metadata": {
        "id": "Xf2eUb3l6Sqz"
      }
    },
    {
      "cell_type": "code",
      "source": [],
      "metadata": {
        "id": "AT3Q7fSY-K2u"
      },
      "execution_count": null,
      "outputs": []
    },
    {
      "cell_type": "markdown",
      "source": [
        "**<font color=\"blue\"> 2.a. Re-create the predict function for the multivariate linear regression.\n",
        "<br>2.b. Check the shape of the prediction, it should be (10000,).**\n",
        "\n",
        "*Tips: You should normally be able to reuse the mean_squared_error function from the univariate function.*"
      ],
      "metadata": {
        "id": "ZhR4_hIy-QhW"
      }
    },
    {
      "cell_type": "code",
      "source": [],
      "metadata": {
        "id": "3xY3N0cm6PXm"
      },
      "execution_count": null,
      "outputs": []
    },
    {
      "cell_type": "markdown",
      "source": [
        "**<font color=\"blue\"> 3.a. Re-create the update_weight function for the multivariate linear regression.\n",
        "<br>3.b. Check the shape of the parameters. It should still be (5,) and (1,)**\n",
        "\n",
        "*Tips: Be careful of the shapes of X (10000, 5) and the error measurement (10000,).<br> There is one error per instance of the dataset (i.e. per line) but there are 5 features.<br> Each feature have to be multipied by the error.*"
      ],
      "metadata": {
        "id": "61oxuyOWAs1e"
      }
    },
    {
      "cell_type": "code",
      "source": [],
      "metadata": {
        "id": "EwJULobC6k7e"
      },
      "execution_count": null,
      "outputs": []
    },
    {
      "cell_type": "markdown",
      "source": [
        "**<font color=\"blue\">4.a. Re-create the main function for the multivariate linear regression.<br>4.b. Display the parameters values and the errors at each step.**"
      ],
      "metadata": {
        "id": "8qrPTXvXRshp"
      }
    },
    {
      "cell_type": "code",
      "source": [],
      "metadata": {
        "id": "9UkWCjgaRsDk"
      },
      "execution_count": null,
      "outputs": []
    },
    {
      "cell_type": "markdown",
      "source": [
        "# Logistic Regression"
      ],
      "metadata": {
        "id": "rJ8aqOS7N9EV"
      }
    },
    {
      "cell_type": "code",
      "source": [
        "n_f = 2\n",
        "n_t = 2\n",
        "n_s = 10000\n",
        "X, y = make_classification(n_samples=n_s,\n",
        "                           n_features=n_f,\n",
        "                           n_redundant=0,\n",
        "                           n_informative=2,\n",
        "                           n_clusters_per_class=1,\n",
        "                           n_classes=n_t,\n",
        "                           random_state=4)\n",
        "\n",
        "df = pd.DataFrame(np.concatenate([X,y[...,np.newaxis]], axis=1),\n",
        "                  columns = [f'X_{i+1}' for i in range(n_f)]+['y'])\n",
        "df.head()"
      ],
      "metadata": {
        "id": "3OxzeIhPOAK3",
        "colab": {
          "base_uri": "https://localhost:8080/",
          "height": 206
        },
        "outputId": "3f432d64-3246-4c19-cbaa-c99c2cfd4b7a"
      },
      "execution_count": null,
      "outputs": [
        {
          "output_type": "execute_result",
          "data": {
            "text/plain": [
              "        X_1       X_2    y\n",
              "0 -0.039869 -0.401509  0.0\n",
              "1  1.509359 -1.008493  1.0\n",
              "2 -1.756274 -1.096951  0.0\n",
              "3 -1.624811 -1.369115  0.0\n",
              "4  0.622521 -0.803206  1.0"
            ],
            "text/html": [
              "\n",
              "  <div id=\"df-54c024fb-2726-49d7-8836-3b781bcca8c6\" class=\"colab-df-container\">\n",
              "    <div>\n",
              "<style scoped>\n",
              "    .dataframe tbody tr th:only-of-type {\n",
              "        vertical-align: middle;\n",
              "    }\n",
              "\n",
              "    .dataframe tbody tr th {\n",
              "        vertical-align: top;\n",
              "    }\n",
              "\n",
              "    .dataframe thead th {\n",
              "        text-align: right;\n",
              "    }\n",
              "</style>\n",
              "<table border=\"1\" class=\"dataframe\">\n",
              "  <thead>\n",
              "    <tr style=\"text-align: right;\">\n",
              "      <th></th>\n",
              "      <th>X_1</th>\n",
              "      <th>X_2</th>\n",
              "      <th>y</th>\n",
              "    </tr>\n",
              "  </thead>\n",
              "  <tbody>\n",
              "    <tr>\n",
              "      <th>0</th>\n",
              "      <td>-0.039869</td>\n",
              "      <td>-0.401509</td>\n",
              "      <td>0.0</td>\n",
              "    </tr>\n",
              "    <tr>\n",
              "      <th>1</th>\n",
              "      <td>1.509359</td>\n",
              "      <td>-1.008493</td>\n",
              "      <td>1.0</td>\n",
              "    </tr>\n",
              "    <tr>\n",
              "      <th>2</th>\n",
              "      <td>-1.756274</td>\n",
              "      <td>-1.096951</td>\n",
              "      <td>0.0</td>\n",
              "    </tr>\n",
              "    <tr>\n",
              "      <th>3</th>\n",
              "      <td>-1.624811</td>\n",
              "      <td>-1.369115</td>\n",
              "      <td>0.0</td>\n",
              "    </tr>\n",
              "    <tr>\n",
              "      <th>4</th>\n",
              "      <td>0.622521</td>\n",
              "      <td>-0.803206</td>\n",
              "      <td>1.0</td>\n",
              "    </tr>\n",
              "  </tbody>\n",
              "</table>\n",
              "</div>\n",
              "    <div class=\"colab-df-buttons\">\n",
              "\n",
              "  <div class=\"colab-df-container\">\n",
              "    <button class=\"colab-df-convert\" onclick=\"convertToInteractive('df-54c024fb-2726-49d7-8836-3b781bcca8c6')\"\n",
              "            title=\"Convert this dataframe to an interactive table.\"\n",
              "            style=\"display:none;\">\n",
              "\n",
              "  <svg xmlns=\"http://www.w3.org/2000/svg\" height=\"24px\" viewBox=\"0 -960 960 960\">\n",
              "    <path d=\"M120-120v-720h720v720H120Zm60-500h600v-160H180v160Zm220 220h160v-160H400v160Zm0 220h160v-160H400v160ZM180-400h160v-160H180v160Zm440 0h160v-160H620v160ZM180-180h160v-160H180v160Zm440 0h160v-160H620v160Z\"/>\n",
              "  </svg>\n",
              "    </button>\n",
              "\n",
              "  <style>\n",
              "    .colab-df-container {\n",
              "      display:flex;\n",
              "      gap: 12px;\n",
              "    }\n",
              "\n",
              "    .colab-df-convert {\n",
              "      background-color: #E8F0FE;\n",
              "      border: none;\n",
              "      border-radius: 50%;\n",
              "      cursor: pointer;\n",
              "      display: none;\n",
              "      fill: #1967D2;\n",
              "      height: 32px;\n",
              "      padding: 0 0 0 0;\n",
              "      width: 32px;\n",
              "    }\n",
              "\n",
              "    .colab-df-convert:hover {\n",
              "      background-color: #E2EBFA;\n",
              "      box-shadow: 0px 1px 2px rgba(60, 64, 67, 0.3), 0px 1px 3px 1px rgba(60, 64, 67, 0.15);\n",
              "      fill: #174EA6;\n",
              "    }\n",
              "\n",
              "    .colab-df-buttons div {\n",
              "      margin-bottom: 4px;\n",
              "    }\n",
              "\n",
              "    [theme=dark] .colab-df-convert {\n",
              "      background-color: #3B4455;\n",
              "      fill: #D2E3FC;\n",
              "    }\n",
              "\n",
              "    [theme=dark] .colab-df-convert:hover {\n",
              "      background-color: #434B5C;\n",
              "      box-shadow: 0px 1px 3px 1px rgba(0, 0, 0, 0.15);\n",
              "      filter: drop-shadow(0px 1px 2px rgba(0, 0, 0, 0.3));\n",
              "      fill: #FFFFFF;\n",
              "    }\n",
              "  </style>\n",
              "\n",
              "    <script>\n",
              "      const buttonEl =\n",
              "        document.querySelector('#df-54c024fb-2726-49d7-8836-3b781bcca8c6 button.colab-df-convert');\n",
              "      buttonEl.style.display =\n",
              "        google.colab.kernel.accessAllowed ? 'block' : 'none';\n",
              "\n",
              "      async function convertToInteractive(key) {\n",
              "        const element = document.querySelector('#df-54c024fb-2726-49d7-8836-3b781bcca8c6');\n",
              "        const dataTable =\n",
              "          await google.colab.kernel.invokeFunction('convertToInteractive',\n",
              "                                                    [key], {});\n",
              "        if (!dataTable) return;\n",
              "\n",
              "        const docLinkHtml = 'Like what you see? Visit the ' +\n",
              "          '<a target=\"_blank\" href=https://colab.research.google.com/notebooks/data_table.ipynb>data table notebook</a>'\n",
              "          + ' to learn more about interactive tables.';\n",
              "        element.innerHTML = '';\n",
              "        dataTable['output_type'] = 'display_data';\n",
              "        await google.colab.output.renderOutput(dataTable, element);\n",
              "        const docLink = document.createElement('div');\n",
              "        docLink.innerHTML = docLinkHtml;\n",
              "        element.appendChild(docLink);\n",
              "      }\n",
              "    </script>\n",
              "  </div>\n",
              "\n",
              "\n",
              "<div id=\"df-228ace47-a4bb-4e64-84d1-edc62082f09e\">\n",
              "  <button class=\"colab-df-quickchart\" onclick=\"quickchart('df-228ace47-a4bb-4e64-84d1-edc62082f09e')\"\n",
              "            title=\"Suggest charts\"\n",
              "            style=\"display:none;\">\n",
              "\n",
              "<svg xmlns=\"http://www.w3.org/2000/svg\" height=\"24px\"viewBox=\"0 0 24 24\"\n",
              "     width=\"24px\">\n",
              "    <g>\n",
              "        <path d=\"M19 3H5c-1.1 0-2 .9-2 2v14c0 1.1.9 2 2 2h14c1.1 0 2-.9 2-2V5c0-1.1-.9-2-2-2zM9 17H7v-7h2v7zm4 0h-2V7h2v10zm4 0h-2v-4h2v4z\"/>\n",
              "    </g>\n",
              "</svg>\n",
              "  </button>\n",
              "\n",
              "<style>\n",
              "  .colab-df-quickchart {\n",
              "      --bg-color: #E8F0FE;\n",
              "      --fill-color: #1967D2;\n",
              "      --hover-bg-color: #E2EBFA;\n",
              "      --hover-fill-color: #174EA6;\n",
              "      --disabled-fill-color: #AAA;\n",
              "      --disabled-bg-color: #DDD;\n",
              "  }\n",
              "\n",
              "  [theme=dark] .colab-df-quickchart {\n",
              "      --bg-color: #3B4455;\n",
              "      --fill-color: #D2E3FC;\n",
              "      --hover-bg-color: #434B5C;\n",
              "      --hover-fill-color: #FFFFFF;\n",
              "      --disabled-bg-color: #3B4455;\n",
              "      --disabled-fill-color: #666;\n",
              "  }\n",
              "\n",
              "  .colab-df-quickchart {\n",
              "    background-color: var(--bg-color);\n",
              "    border: none;\n",
              "    border-radius: 50%;\n",
              "    cursor: pointer;\n",
              "    display: none;\n",
              "    fill: var(--fill-color);\n",
              "    height: 32px;\n",
              "    padding: 0;\n",
              "    width: 32px;\n",
              "  }\n",
              "\n",
              "  .colab-df-quickchart:hover {\n",
              "    background-color: var(--hover-bg-color);\n",
              "    box-shadow: 0 1px 2px rgba(60, 64, 67, 0.3), 0 1px 3px 1px rgba(60, 64, 67, 0.15);\n",
              "    fill: var(--button-hover-fill-color);\n",
              "  }\n",
              "\n",
              "  .colab-df-quickchart-complete:disabled,\n",
              "  .colab-df-quickchart-complete:disabled:hover {\n",
              "    background-color: var(--disabled-bg-color);\n",
              "    fill: var(--disabled-fill-color);\n",
              "    box-shadow: none;\n",
              "  }\n",
              "\n",
              "  .colab-df-spinner {\n",
              "    border: 2px solid var(--fill-color);\n",
              "    border-color: transparent;\n",
              "    border-bottom-color: var(--fill-color);\n",
              "    animation:\n",
              "      spin 1s steps(1) infinite;\n",
              "  }\n",
              "\n",
              "  @keyframes spin {\n",
              "    0% {\n",
              "      border-color: transparent;\n",
              "      border-bottom-color: var(--fill-color);\n",
              "      border-left-color: var(--fill-color);\n",
              "    }\n",
              "    20% {\n",
              "      border-color: transparent;\n",
              "      border-left-color: var(--fill-color);\n",
              "      border-top-color: var(--fill-color);\n",
              "    }\n",
              "    30% {\n",
              "      border-color: transparent;\n",
              "      border-left-color: var(--fill-color);\n",
              "      border-top-color: var(--fill-color);\n",
              "      border-right-color: var(--fill-color);\n",
              "    }\n",
              "    40% {\n",
              "      border-color: transparent;\n",
              "      border-right-color: var(--fill-color);\n",
              "      border-top-color: var(--fill-color);\n",
              "    }\n",
              "    60% {\n",
              "      border-color: transparent;\n",
              "      border-right-color: var(--fill-color);\n",
              "    }\n",
              "    80% {\n",
              "      border-color: transparent;\n",
              "      border-right-color: var(--fill-color);\n",
              "      border-bottom-color: var(--fill-color);\n",
              "    }\n",
              "    90% {\n",
              "      border-color: transparent;\n",
              "      border-bottom-color: var(--fill-color);\n",
              "    }\n",
              "  }\n",
              "</style>\n",
              "\n",
              "  <script>\n",
              "    async function quickchart(key) {\n",
              "      const quickchartButtonEl =\n",
              "        document.querySelector('#' + key + ' button');\n",
              "      quickchartButtonEl.disabled = true;  // To prevent multiple clicks.\n",
              "      quickchartButtonEl.classList.add('colab-df-spinner');\n",
              "      try {\n",
              "        const charts = await google.colab.kernel.invokeFunction(\n",
              "            'suggestCharts', [key], {});\n",
              "      } catch (error) {\n",
              "        console.error('Error during call to suggestCharts:', error);\n",
              "      }\n",
              "      quickchartButtonEl.classList.remove('colab-df-spinner');\n",
              "      quickchartButtonEl.classList.add('colab-df-quickchart-complete');\n",
              "    }\n",
              "    (() => {\n",
              "      let quickchartButtonEl =\n",
              "        document.querySelector('#df-228ace47-a4bb-4e64-84d1-edc62082f09e button');\n",
              "      quickchartButtonEl.style.display =\n",
              "        google.colab.kernel.accessAllowed ? 'block' : 'none';\n",
              "    })();\n",
              "  </script>\n",
              "</div>\n",
              "    </div>\n",
              "  </div>\n"
            ]
          },
          "metadata": {},
          "execution_count": 169
        }
      ]
    },
    {
      "cell_type": "markdown",
      "source": [
        "The method used to predict the values is the **Logistic regression**.<br>\n",
        "For a multivariate function, it can be expressed using the following formula:<br><br>\n",
        "\n",
        "<font size=\"+1\"><center>$h_\\theta(z) = \\frac{1}{1+exp(-z)}$</center><br>\n",
        "<center>with <font size=\"+1\">$\\begin{align*}z &= \\theta_{1}x_{1} + ...+ \\theta_{n}x_{n} + \\theta_{0}\\\\ &= \\Theta^T \\cdot X + \\theta_0 \\end{align*}$</center>\n",
        "\n",
        "This time we cannot use the MSE because the sigmoid transform is non-linear.<br> Squaring this prediction as we do in MSE results in a non-convex function with many local minimums.<br> Instead, we can use the **Log Loss** (or **cross-entropy**).<br>\n",
        "It can be expressed using the following formula:<br><br>\n",
        "\n",
        "<font size=\"+1\"><center>$J(h_\\theta(z)) = -\\frac{1}{m}\\sum_{i=1}^{m}y_{i}\\log(h_\\theta(z_i))+(1-y_{i})\\log(1-h_\\theta(z_i))$</center><br>\n",
        "\n",
        "with $m$ the first dimension of the data i.e. the number of instances, <br>$y_{i}$ the label of the example $i$ (0 or 1), <br>$h_\\theta$ the logistic function. <br>\n",
        "\n",
        "Uising the chain rule, the partial derivatives for every theta is:<br><br>\n",
        "\n",
        "<font size=\"+2\"><center>$\\frac{\\partial J(h_\\theta(z_i))}{\\partial \\theta_k}=\\frac{\\partial J(h_\\theta(z_i))}{\\partial h_\\theta(z_i)}\\frac{\\partial h_\\theta(z_i)}{\\partial z_i}\\frac{\\partial z_i}{\\partial \\theta_k}$</center><br>\n",
        "\n",
        "<font size=\"+2\"><center>$\\frac{\\partial J(h_\\theta(z_i))}{\\partial h_\\theta(z_i)} = -\\frac{y_i}{h_\\theta(z_i)} + \\frac{1-y_i}{1-h_\\theta(z_i)}$</center>\n",
        "\n",
        "<font size=\"+2\"><center>$\\frac{\\partial h_\\theta(z_i)}{\\partial z_i} = h_\\theta \\left(z_i \\right)\\left(1-h_\\theta \\left(z_i\\right)\\right)$</center>\n",
        "\n",
        "<font size=\"+2\"><center>$\\frac{\\partial z_i}{\\partial \\theta_k} = x_{i,k}$</center><br>\n",
        "\n",
        "Thus, the partial derivatives relative to the parameters of the logistic regression are:<br><br>\n",
        "\n",
        "<font size=\"+1\"><center>$\\begin{align*}\n",
        "\\frac{\\partial J(h_\\theta(z))}{\\partial \\theta_k} &= \\frac{1}{m}\\sum_{i=1}^{m} \\left(-\\frac{y_i}{h_\\theta(z_i)} + \\frac{1-y_i}{1-h_\\theta(z_i)}\\right) h_\\theta(z_i)(1-h_\\theta(z_i))x_{i,k}\\\\\n",
        "&=\\frac{1}{m}\\sum_{i=1}^{m}x_{i,k}(h_\\theta(z_i)-y_{i}) \\\\\n",
        "\\end{align*}$</center><br>\n",
        "\n",
        "The gradient vector of the logistic regression is:<br><br>\n",
        "\n",
        "<font size=\"+1\"><center>$\\bigtriangledown J(\\theta)=\\begin{bmatrix}\n",
        "\\frac{1}{m}\\sum_{i=1}^{m}(h_\\theta(z_i)-y_{i})\\\\\n",
        "\\frac{1}{m}\\sum_{i=1}^{m}\\color{red}{x_{i,1}}(h_\\theta(z_i)-y_{i})\\\\\n",
        "\\vdots\\\\\n",
        "\\frac{1}{m}\\sum_{i=1}^{m}\\color{red}{x_{i,n}}(h_\\theta(z_i)-y_{i})\n",
        "\\end{bmatrix}$</center><br>\n",
        "\n",
        "\n",
        "Now, we can use the Gradient Descent algorithm to update the weight iteratively using the following formula:<br><br>\n",
        "\n",
        "<font size=\"+1\"><center>$\\theta_{n+1} = \\theta_n - \\eta * \\frac{\\partial J(\\theta)}{\\partial\\theta_n}$</center><br>\n",
        "\n",
        "<font size=\"+1\"><center>$\\begin{align*}\n",
        "\\theta_{k,n+1} &= \\theta_{k,n}-\\eta \\frac{1}{m}\\sum_{i=1}^{m}x_{i,k}(h_\\theta(z_i)-y_{i})\\\\\n",
        "\\theta_{0,n+1} &= \\theta_{0,n}-\\eta \\frac{1}{m}\\sum_{i=1}^{m}(h_\\theta(z_i)-y_{i})\n",
        "\\end{align*}$</center>\n",
        "\n",
        "with $\\eta$ the learning rate,\n",
        "<br>$\\theta_{k,n+1}$ the parameters,\n",
        "<br>$\\theta_{0,n+1}$ the bias,\n",
        "<br>$h_\\theta(z_i)$ the logistic function - i.e. the prediction,\n",
        "<br>$y_i$ the label."
      ],
      "metadata": {
        "id": "lpsVWGeft6OP"
      }
    },
    {
      "cell_type": "markdown",
      "source": [
        "**<font color='blue'> 1. Display the scatter plot of the two features and color the dots based on their label using matplotlib.**"
      ],
      "metadata": {
        "id": "D3_EK9C2WG1Z"
      }
    },
    {
      "cell_type": "code",
      "source": [],
      "metadata": {
        "id": "KG051BNcR0k3"
      },
      "execution_count": null,
      "outputs": []
    },
    {
      "cell_type": "markdown",
      "source": [
        "**<font color='blue'> 2. Create a function that computes the prediction and another one that computes the cross-entropy value.**"
      ],
      "metadata": {
        "id": "_GExvxfGWVWl"
      }
    },
    {
      "cell_type": "code",
      "source": [],
      "metadata": {
        "id": "7UQ_-BRcL5AY"
      },
      "execution_count": null,
      "outputs": []
    },
    {
      "cell_type": "markdown",
      "source": [
        "**<font color='blue'> 3. Create an update_weights function based on the Logistic Regression gradient vector.**\n",
        "\n",
        "*Tips: It's very similar to the Linear Regression.*"
      ],
      "metadata": {
        "id": "886AwDmUWnbs"
      }
    },
    {
      "cell_type": "code",
      "source": [],
      "metadata": {
        "id": "q-s63eh1OuyH"
      },
      "execution_count": null,
      "outputs": []
    },
    {
      "cell_type": "markdown",
      "source": [
        "**<font color='blue'> 4. Create a main function that runs the Gradient Descent algorithm for the Logistic Regression model.**\n",
        "\n",
        "*Tips: Again, it should be very similar - if not identical - to the multivariate linear regression.*"
      ],
      "metadata": {
        "id": "f30s8OoZWx-s"
      }
    },
    {
      "cell_type": "code",
      "source": [],
      "metadata": {
        "id": "JEmefQgHPUPF"
      },
      "execution_count": null,
      "outputs": []
    },
    {
      "cell_type": "markdown",
      "source": [
        "**<font color=\"blue\">5.a. Display the parameter values and the errors at each step.\n",
        "<br>5.b. Display the error values at each step on a graph.**"
      ],
      "metadata": {
        "id": "0MK6tqDuXL1o"
      }
    },
    {
      "cell_type": "code",
      "source": [],
      "metadata": {
        "id": "OlzHtWGhP6FR"
      },
      "execution_count": null,
      "outputs": []
    },
    {
      "cell_type": "markdown",
      "source": [
        "**<font color=\"blue\">6. Compute the accuracy score of the model using its prediction.**\n",
        "\n",
        "*Tips: The logistic regression returns a continuous value between 0 and 1 that should be converted into a discrete value, 0 or 1.<br> You can set all the value higher than 0.5 to 1 and the others to 0.*"
      ],
      "metadata": {
        "id": "JCcsW7stXYdd"
      }
    },
    {
      "cell_type": "code",
      "source": [],
      "metadata": {
        "id": "XxdvuVR_QLMi"
      },
      "execution_count": null,
      "outputs": []
    },
    {
      "cell_type": "markdown",
      "source": [
        "**<font color=\"blue\">7. Draw the prediction boundary on the graph created at Q1.<br> It's the line where the predictions are 0 on its left and 1 on its right.**\n",
        "\n",
        "*Tips: This boundary is typically where the linear combination of features and weights equals zero, i.e., $0 = \\theta_{1}x_{1} + \\theta_{2}x_{2} + \\theta_{0}$.<br> You can generate random values for $x_1$ and compute the $x_2$ values using the aforementionned formula.*"
      ],
      "metadata": {
        "id": "Lhv_kxSDX0Og"
      }
    },
    {
      "cell_type": "code",
      "source": [],
      "metadata": {
        "id": "W4AcdGPyQz-e"
      },
      "execution_count": null,
      "outputs": []
    },
    {
      "cell_type": "markdown",
      "source": [
        "# Stochastic Gradient Descent"
      ],
      "metadata": {
        "id": "640rK-gXX0Lg"
      }
    },
    {
      "cell_type": "markdown",
      "source": [
        "In each iteration, SGD randomly selects one data sample to perform the gradient update instead of using the entire dataset. The parameters of the model are updated based on the gradient computed from this single data sample.\n",
        "\n",
        "At the start of each epoch - an epoch is one complete pass through the entire dataset - the dataset is shuffled. This random shuffling ensures that the order in which data samples are presented to the model for training does not introduce any bias.\n",
        "\n",
        "After shuffling, the algorithm iterates through the dataset and selects one data sample at a time. For each data sample, the gradient of the objective function  is computed and the parameters are updated accordingly.\n",
        "\n",
        "This process is repeated for several epochs until a convergence criterion is met. The convergence criterion could be a certain number of epochs, a target accuracy or a minimal change in the loss function between epochs.\n",
        "\n",
        "**<font color=\"blue\">1. Re-create the main function from the Logistic Regression part in order to implement the Stochastic Gradient Descent algorithm.**\n",
        "\n",
        "*Tips: You can use the shuffle function from sklearn.utils in order to shuffle both X and y at the same time.*"
      ],
      "metadata": {
        "id": "D5FBN3nbX4tb"
      }
    },
    {
      "cell_type": "code",
      "source": [],
      "metadata": {
        "id": "b7s-yb_PX4UM"
      },
      "execution_count": null,
      "outputs": []
    },
    {
      "cell_type": "markdown",
      "source": [
        "**<font color=\"blue\">2.a. Display the graph of the errors relative to the iterations.**"
      ],
      "metadata": {
        "id": "hWTLNDlLX5az"
      }
    },
    {
      "cell_type": "code",
      "source": [],
      "metadata": {
        "id": "AH79c5tuX6yp"
      },
      "execution_count": null,
      "outputs": []
    },
    {
      "cell_type": "markdown",
      "source": [
        "# SGD with Momentum"
      ],
      "metadata": {
        "id": "6_ktSdLyX7Us"
      }
    },
    {
      "cell_type": "markdown",
      "source": [
        "To modify a Stochastic Gradient Descent into an SGD with momentum, you need to introduce a momentum term into the update rule.\n",
        "\n",
        "In standard SGD, the parameters are updated solely based on the current gradient. However, in SGD with momentum you update the parameters by combining the current gradient and the previous update. Specifically, you introduce a new variable which is a weighted sum of the current gradient and the previous ones. The \"weight\" of that sum is controlled by the momentum term usually denoted as $\\beta$.<br><br>\n",
        "\n",
        "<font size=\"+1\"><center>$\\begin{align*}\n",
        "z_n &= \\beta z_{n-1} - \\eta \\frac{\\partial L(\\theta_n)}{\\partial \\theta_n} \\\\\n",
        "\\theta_{n+1} &= \\theta_n + z_n\n",
        "\\end{align*}$</center><br>\n",
        "\n",
        "The momentum term takes a value between 0 and 1 and controls how much of the previous update is retained. A higher momentum value results in keeping more of the previous update, which can help in accelerating the convergence and reducing oscillations.\n",
        "\n",
        "**<font color=\"blue\"> 1. Create a new version of the update_weights function by adding the momentum.**\n",
        "\n",
        "*Tips: You can use a dictionary to save the previous gradients.*\n"
      ],
      "metadata": {
        "id": "o2N5CvGZYA18"
      }
    },
    {
      "cell_type": "code",
      "source": [],
      "metadata": {
        "id": "HBG-1AZQX8zw"
      },
      "execution_count": null,
      "outputs": []
    },
    {
      "cell_type": "markdown",
      "source": [
        "**<font color=\"blue\"> 2.a. Create a new version of the main_sgd function that implements the momentum.\n",
        "<br>2.b. Display the graph of the errors relative to the iterations.**\n",
        "\n",
        "*Tips: You just have to initialize the previous gradients to 0.*"
      ],
      "metadata": {
        "id": "6Z_ECyYnYB20"
      }
    },
    {
      "cell_type": "code",
      "source": [],
      "metadata": {
        "id": "QG-cAejKYDfi"
      },
      "execution_count": null,
      "outputs": []
    },
    {
      "cell_type": "markdown",
      "source": [
        "**<font color=\"blue\">2.c. Display the final accuracy score.**"
      ],
      "metadata": {
        "id": "qPOatAqBYlu2"
      }
    },
    {
      "cell_type": "code",
      "source": [],
      "metadata": {
        "id": "1tKQBnWdYnor"
      },
      "execution_count": null,
      "outputs": []
    }
  ]
}