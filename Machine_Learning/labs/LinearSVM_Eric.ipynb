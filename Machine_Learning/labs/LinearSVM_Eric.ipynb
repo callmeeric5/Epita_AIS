{
 "cells": [
  {
   "cell_type": "markdown",
   "metadata": {},
   "source": [
    "# <center> Support Vector Machine<br> <small>Réda DEHAK<br> 14 January 2020</small> </center>\n",
    "\n",
    "The goal of this lab is :\n",
    "    - Test SVM Methods on classification problems\n",
    "    \n",
    "We will use the [Wine dataset](https://archive.ics.uci.edu/ml/datasets/Wine) from UCI. These data are the results of a chemical analysis of wines grown in the same region in Italy but derived from three different cultivars. The analysis determined the quantities of thirteen constituents found in each of the three types of wines."
   ]
  },
  {
   "cell_type": "markdown",
   "metadata": {},
   "source": [
    "# Part 1: Own implementation of SVM class\n",
    "\n",
    "We will try first to implement our own SVM class to perform an SVM classifier using the <A href=https://cvxopt.org/userguide/coneprog.html#quadratic-programming> cvxopt.solvers.qp </A> solver \n",
    "\n",
    "1- Try first to implement myOwnHardSVM"
   ]
  },
  {
   "cell_type": "markdown",
   "metadata": {},
   "source": [
    "- SVM training consists of solving the double problem defined by:\n",
    "\\begin{eqnarray}\n",
    "\\mbox{Maximize:} & Q(\\alpha) = \\sum_i \\alpha_i - \\frac{1}{2} \\sum_i\\sum_j \\alpha_i \\alpha_j y_i y_j G[i,j] \\\\\n",
    "\\mbox{Subject to:} & \\sum_i \\alpha_i y_i =0\\\\\n",
    "& \\alpha_i \\ge 0\n",
    "\\end{eqnarray}\n",
    "\n",
    "Where $G$ represents the Gram Matrix and is defined by:\n",
    "$$G[i, j]= \\left< x_i, x_j\\right>$$"
   ]
  },
  {
   "cell_type": "markdown",
   "metadata": {},
   "source": [
    "# Solving SVMs with a QP solver \n",
    "\n",
    "A QP solver is a program used to solve quadratic programming problems. In the following example, we will use the Python package called CVXOPT\n",
    "\n",
    "This package provides a method that is able to solve quadratic problems of the form\n",
    "\n",
    "$$\n",
    "\\begin{array}{cl}{\\underset{x}{\\operatorname{minimize}}} & {\\frac{1}{2} x^{T} P x+q^{T} x} \\\\ {\\text { subject to }} & {G x \\leq h} \\\\ {} & {A x=b}\\end{array}\n",
    "$$\n",
    "\n",
    "It does not look like our optimization problem, so we will need to rewrite it so that we can solve it with this package.  \n",
    "First, we note that in the case of the Wolfe dual optimization problem, what we are trying to minimize is , so we can rewrite the quadratic problem with  instead of  to better see how the two problems relate\n",
    "\n",
    "$$\n",
    "\\begin{array}{cl}{\\underset{x}{\\operatorname{minimize}}} & {\\frac{1}{2} \\alpha^{T} P \\alpha+q^{T} \\alpha} \\\\ {\\text { subject to }} & {G \\alpha \\leq h} \\\\ {} & {A \\alpha=b}\\end{array}\n",
    "$$\n",
    "\n",
    "We will change the Wolfe dual problem. First, we transform the maximization problem\n",
    "\n",
    "$$\n",
    "\\begin{array}{cl}{\\underset{\\alpha}{\\operatorname{maximize}}} & {-\\frac{1}{2} \\sum_{i=1}^{m} \\sum_{j=1}^{m} \\alpha_{i} \\alpha_{j} y_{i} y_{j} \\mathbf{x}_{i} \\cdot \\mathbf{x}_{j}+\\sum_{i=1}^{m} \\alpha_{i}} \\\\ {\\text { subject to }} & {\\alpha_{i} \\geq 0, \\text { for any } i=1, \\ldots, m} \\\\ {} & {\\sum_{i=1}^{m} \\alpha_{i} y_{i}=0}\\end{array}\n",
    "$$\n",
    "\n",
    "into a minimization problem by multiplying by -1. \n",
    "\n",
    "$$\n",
    "\\begin{array}{cl}{\\underset{\\alpha}{\\operatorname{minimize}}} & {\\frac{1}{2} \\sum_{i=1}^{m} \\sum_{j=1}^{m} \\alpha_{i} \\alpha_{j} y_{i} y_{j} \\mathbf{x}_{i} \\cdot \\mathbf{x}_{j}-\\sum_{i=1}^{m} \\alpha_{i}} \\\\ {\\text { subject to }} & {-\\alpha_{i} \\leq 0, \\text { for any } i=1, \\ldots, m} \\\\ {} & {\\sum_{i=1}^{m} \\alpha_{i} y_{i}=0}\\end{array}\n",
    "$$\n",
    "\n",
    "\n",
    "$$\n",
    "K\\left(\\mathbf{x}_{1}, \\ldots, \\mathbf{x}_{m}\\right)=\\left(\\begin{array}{cccc}{\\mathbf{x}_{1} \\cdot \\mathbf{x}_{1}} & {\\mathbf{x}_{1} \\cdot \\mathbf{x}_{2}} & {\\dots} & {\\mathbf{x}_{1} \\cdot \\mathbf{x}_{m}} \\\\ {\\mathbf{x}_{2} \\cdot \\mathbf{x}_{1}} & {\\mathbf{x}_{2} \\cdot \\mathbf{x}_{2}} & {\\ldots} & {\\mathbf{x}_{2} \\cdot \\mathbf{x}_{m}} \\\\ {\\vdots} & {\\vdots} & {\\ddots} & {\\vdots} \\\\ {\\mathbf{x}_{m} \\cdot \\mathbf{x}_{1}} & {\\mathbf{x}_{m} \\cdot \\mathbf{x}_{2}} & {\\dots} & {\\mathbf{x}_{m} \\cdot \\mathbf{x}_{m}}\\end{array}\\right)\n",
    "$$\n",
    "\n",
    "$$\n",
    "\\alpha=\\left(\\alpha_{1}, \\ldots, \\alpha_{m}\\right)^{T} \\text { and } \\mathbf{y}=\\left(y_{1}, \\cdots, y_{m}\\right)^{T}\n",
    "$$\n",
    "\n",
    "\n",
    "We use them to construct a vectorized version of the Wolfe dual problem where 'yyT' denotes the outer product of 'y' \n",
    "\n",
    "$$\n",
    "\\begin{array}{cl}{\\underset{\\alpha}{\\operatorname{minimize}}} & {\\frac{1}{2} \\alpha^{T}\\left(\\mathbf{y y}^{T} K\\right) \\alpha-\\alpha} \\\\ {\\text { subject to }} & {-\\alpha \\leq 0} \\\\ {} & {\\mathbf{y} \\cdot \\alpha=0}\\end{array}\n",
    "$$\n",
    "\n",
    "We are now able to find out the value for each of the parameters $P, q, G, h, A, \\text { and } b$  required by the CVXOPT qp function. \n",
    "\n",
    "**Reference:** [github](https://github.com/Girrajjangid/Machine-Learning-from-Scratch/blob/master/Support%20Vector%20Machine/2.%20SVM%20with%20hard%20margin%20(from%20scratch).ipynb)"
   ]
  },
  {
   "cell_type": "code",
   "execution_count": 1,
   "metadata": {},
   "outputs": [],
   "source": [
    "%load_ext lab_black\n",
    "from cvxopt.solvers import qp\n",
    "from cvxopt import matrix\n",
    "import numpy as np"
   ]
  },
  {
   "cell_type": "code",
   "execution_count": 2,
   "metadata": {},
   "outputs": [],
   "source": [
    "class myOwnHardSVM:\n",
    "    def __init__(self):\n",
    "        self.W = None\n",
    "        self.b = None\n",
    "        self.SV_X = None\n",
    "        self.SV_y = None\n",
    "        self.alpha = None\n",
    "\n",
    "    def fit(self, X, y):\n",
    "        m, n = X.shape\n",
    "        y = y.astype(float)\n",
    "        y = y.reshape(-1, 1) * 1.0\n",
    "        K = X @ X.T\n",
    "        P = matrix(np.outer(y, y) * K, tc=\"d\")\n",
    "        q = matrix(-np.ones((m, 1)), tc=\"d\")\n",
    "        A = matrix(y.T, (1, m), tc=\"d\")\n",
    "        b = matrix(0.0, tc=\"d\")\n",
    "        G = matrix(-np.eye(m), tc=\"d\")\n",
    "        h = matrix(np.zeros(m), tc=\"d\")\n",
    "\n",
    "        solution = qp(P, q, G, h, A, b)\n",
    "        alphas = np.array(solution[\"x\"]).reshape(-1)\n",
    "        idx = alphas > 1e-7\n",
    "        self.alpha = alphas[idx]\n",
    "        self.SV_X = X[idx]\n",
    "        self.SV_y = y[idx]\n",
    "\n",
    "        self.W = np.sum(\n",
    "            [\n",
    "                self.alpha[i] * self.SV_X[i] * self.SV_y[i]\n",
    "                for i in range(len(self.SV_y))\n",
    "            ],\n",
    "            axis=0,\n",
    "        )\n",
    "        self.b = np.mean(\n",
    "            [self.SV_y[i] - np.dot(self.W, self.SV_X[i]) for i in range(len(self.SV_X))]\n",
    "        )\n",
    "\n",
    "    def decision_function(self, X):\n",
    "        return np.dot(X, self.W) + self.b\n",
    "\n",
    "    def predict(self, X):\n",
    "        return np.sign(self.decision_function(X))"
   ]
  },
  {
   "cell_type": "markdown",
   "metadata": {},
   "source": [
    "- Test your myOwnHardSVM class on this simple dataset $\\left\\{\\left(1; -1\\right), \\left(2; +1\\right), \\left(3; +1\\right)\\right\\}$. Did you obtain a coherent results"
   ]
  },
  {
   "cell_type": "code",
   "execution_count": 3,
   "metadata": {},
   "outputs": [
    {
     "name": "stdout",
     "output_type": "stream",
     "text": [
      "     pcost       dcost       gap    pres   dres\n",
      " 0: -1.1111e+00 -2.4444e+00  5e+00  2e+00  2e+00\n",
      " 1: -2.0801e+00 -2.0579e+00  1e-01  1e-01  1e-01\n",
      " 2: -2.0000e+00 -2.0008e+00  2e-03  9e-04  9e-04\n",
      " 3: -2.0000e+00 -2.0000e+00  2e-05  9e-06  9e-06\n",
      " 4: -2.0000e+00 -2.0000e+00  2e-07  9e-08  9e-08\n",
      "Optimal solution found.\n"
     ]
    }
   ],
   "source": [
    "X = np.array([[1], [2], [3]])\n",
    "y = np.array([-1, 1, 1])\n",
    "model = myOwnHardSVM()\n",
    "model.fit(X, y)"
   ]
  },
  {
   "cell_type": "code",
   "execution_count": 4,
   "metadata": {},
   "outputs": [
    {
     "data": {
      "text/plain": [
       "array([-1.,  1.,  1.])"
      ]
     },
     "execution_count": 4,
     "metadata": {},
     "output_type": "execute_result"
    }
   ],
   "source": [
    "model.predict(np.array([[-2], [1.5], [2.5]]))"
   ]
  },
  {
   "cell_type": "markdown",
   "metadata": {},
   "source": [
    "- Generate a tiny 2D linearly separable 2 classes problem and test your myOwnHardSVM. Plot the boundary and check your result. Try to adapt the function plot_boundary to show the margin and the support vector."
   ]
  },
  {
   "cell_type": "code",
   "execution_count": 5,
   "metadata": {},
   "outputs": [],
   "source": [
    "import matplotlib.pyplot as plt\n",
    "from matplotlib import cm\n",
    "from matplotlib.colors import LinearSegmentedColormap\n",
    "\n",
    "%matplotlib inline\n",
    "\n",
    "MARKERS = [\"+\", \"x\", \".\"]\n",
    "COLORS = [\"red\", \"green\", \"blue\"]\n",
    "\n",
    "\n",
    "def plot_points(xy, labels):\n",
    "    for i, label in enumerate(set(labels)):\n",
    "        points = np.array([xy[j, :] for j in range(len(xy)) if labels[j] == label])\n",
    "        marker = MARKERS[i % len(MARKERS)]\n",
    "        color = COLORS[i % len(COLORS)]\n",
    "        plt.scatter(points[:, 0], points[:, 1], marker=marker, color=color)\n",
    "\n",
    "\n",
    "def plot_boundary(X, pred):\n",
    "    x_min, x_max = X[:, 0].min() - 0.1, X[:, 0].max() + 0.1\n",
    "    y_min, y_max = X[:, 1].min() - 0.1, X[:, 1].max() + 0.1\n",
    "\n",
    "    xs, ys = np.meshgrid(np.linspace(x_min, x_max, 200), np.linspace(y_min, y_max, 200))\n",
    "\n",
    "    xys = np.column_stack([xs.ravel(), ys.ravel()])\n",
    "    zs = pred(xys).reshape(xs.shape)\n",
    "    plt.contour(\n",
    "        xs,\n",
    "        ys,\n",
    "        zs,\n",
    "        colors=\"black\",\n",
    "        levels=[-1, 0, 1],\n",
    "        linestyles=[\"dashed\", \"solid\", \"dashed\"],\n",
    "    )"
   ]
  },
  {
   "cell_type": "code",
   "execution_count": 6,
   "metadata": {},
   "outputs": [
    {
     "name": "stdout",
     "output_type": "stream",
     "text": [
      "     pcost       dcost       gap    pres   dres\n",
      " 0: -3.4934e-01 -6.4514e-01  8e+00  3e+00  1e+00\n",
      " 1: -1.9824e-01 -2.9483e-01  8e-01  2e-01  1e-01\n",
      " 2: -7.1539e-02 -1.7802e-01  1e-01  4e-17  2e-15\n",
      " 3: -9.6657e-02 -1.0184e-01  5e-03  1e-17  1e-16\n",
      " 4: -9.9965e-02 -1.0002e-01  5e-05  1e-17  2e-16\n",
      " 5: -1.0000e-01 -1.0000e-01  5e-07  4e-17  3e-17\n",
      " 6: -1.0000e-01 -1.0000e-01  5e-09  2e-17  1e-16\n",
      "Optimal solution found.\n"
     ]
    },
    {
     "data": {
      "image/png": "[encoded data removed]",
      "text/plain": [
       "<Figure size 640x480 with 1 Axes>"
      ]
     },
     "metadata": {},
     "output_type": "display_data"
    }
   ],
   "source": [
    "X = np.array([[1, 2], [2, 3], [3, 4], [-1, -2], [-2, -3]])\n",
    "y = np.array([1, 1, 1, -1, -1])\n",
    "\n",
    "model.fit(X, y)\n",
    "plot_boundary(X, lambda x: model.decision_function(x))\n",
    "plot_points(X, y)"
   ]
  },
  {
   "cell_type": "markdown",
   "metadata": {},
   "source": [
    "- Try now your myOwnHardSVM with a training dataset which is not linearly separable, what did you remark?"
   ]
  },
  {
   "cell_type": "markdown",
   "metadata": {},
   "source": [
    "2- We try now to implement the sof margin SVM class"
   ]
  },
  {
   "cell_type": "code",
   "execution_count": 7,
   "metadata": {},
   "outputs": [],
   "source": [
    "class myOwnSoftSVM:\n",
    "    def __init__(self, C=1.0):\n",
    "        self.C = C\n",
    "        self.W = None\n",
    "        self.b = None\n",
    "        self.SV_X = None\n",
    "        self.SV_y = None\n",
    "        self.alpha = None\n",
    "\n",
    "    def fit(self, X, y):\n",
    "        m, n = X.shape\n",
    "        y = y.astype(float)\n",
    "        y = y.reshape(-1, 1) * 1.0\n",
    "        K = X @ X.T\n",
    "        P = matrix(np.outer(y, y) * K, tc=\"d\")\n",
    "        q = matrix(-np.ones((m, 1)), tc=\"d\")\n",
    "        A = matrix(y.T, (1, m), tc=\"d\")\n",
    "        b = matrix(0.0, tc=\"d\")\n",
    "\n",
    "        G_std = np.diag(-np.ones(m))\n",
    "        G_slack = np.identity(m)\n",
    "        G = matrix(np.vstack((G_std, G_slack)), tc=\"d\")\n",
    "\n",
    "        h_std = np.zeros(m)\n",
    "        h_slack = np.ones(m) * self.C\n",
    "        h = matrix(np.hstack((h_std, h_slack)), tc=\"d\")\n",
    "\n",
    "        solution = qp(P, q, G, h, A, b)\n",
    "        alphas = np.array(solution[\"x\"]).reshape(-1)\n",
    "        idx = alphas > 1e-7\n",
    "        self.alpha = alphas[idx]\n",
    "        self.SV_X = X[idx]\n",
    "        self.SV_y = y[idx]\n",
    "\n",
    "        self.W = np.sum(\n",
    "            [\n",
    "                self.alpha[i] * self.SV_X[i] * self.SV_y[i]\n",
    "                for i in range(len(self.SV_y))\n",
    "            ],\n",
    "            axis=0,\n",
    "        )\n",
    "        self.b = np.mean(\n",
    "            [self.SV_y[i] - np.dot(self.W, self.SV_X[i]) for i in range(len(self.SV_X))]\n",
    "        )\n",
    "\n",
    "    def decision_function(self, X):\n",
    "        return np.dot(X, self.W) + self.b\n",
    "\n",
    "    def predict(self, X):\n",
    "        return np.sign(self.decision_function(X))"
   ]
  },
  {
   "cell_type": "markdown",
   "metadata": {},
   "source": [
    "- Test your myOwnSoftSVM class on your previous training dataset which is not linearly separable."
   ]
  },
  {
   "cell_type": "code",
   "execution_count": 8,
   "metadata": {},
   "outputs": [
    {
     "name": "stdout",
     "output_type": "stream",
     "text": [
      "     pcost       dcost       gap    pres   dres\n",
      " 0: -1.6542e+00 -8.8093e+00  3e+01  2e+00  1e-15\n",
      " 1: -1.0740e+00 -5.0634e+00  6e+00  3e-01  5e-16\n",
      " 2: -5.1748e-01 -1.1479e+00  6e-01  2e-03  4e-15\n",
      " 3: -6.2063e-01 -6.3999e-01  2e-02  5e-05  8e-16\n",
      " 4: -6.2496e-01 -6.2515e-01  2e-04  5e-07  4e-16\n",
      " 5: -6.2500e-01 -6.2500e-01  2e-06  5e-09  8e-16\n",
      " 6: -6.2500e-01 -6.2500e-01  2e-08  5e-11  1e-15\n",
      "Optimal solution found.\n"
     ]
    },
    {
     "data": {
      "image/png": "[encoded data removed]",
      "text/plain": [
       "<Figure size 640x480 with 1 Axes>"
      ]
     },
     "metadata": {},
     "output_type": "display_data"
    }
   ],
   "source": [
    "X = np.array([[-1, 0], [2, 3], [3, -2], [-1, -2], [-2, -3]])\n",
    "y = np.array([1, 1, 1, -1, -1])\n",
    "model_soft = myOwnSoftSVM()\n",
    "model_soft.fit(X, y)\n",
    "plot_boundary(X, lambda x: model.decision_function(x))\n",
    "plot_points(X, y)"
   ]
  },
  {
   "cell_type": "markdown",
   "metadata": {},
   "source": [
    "# Part 2: Wine dataset and sklearn.svm.svc class\n",
    "\n",
    "## Loading and Plotting Data\n",
    " \n",
    "First, we will use only two features from the data set: alcohol and ash (We can plot the solution in 2D space). The labels are supplied as an array of data with values from 1 to 3, but at first, we want a simple binary regression problem with a yes or no answer.  \n",
    "\n",
    "We filter the data set, reducing it to only include wines with labels 1 or 2.  "
   ]
  },
  {
   "cell_type": "code",
   "execution_count": 9,
   "metadata": {},
   "outputs": [],
   "source": [
    "import pandas as pd\n",
    "import numpy as np\n",
    "from sklearn.preprocessing import label_binarize\n",
    "\n",
    "data = pd.read_csv(\"DataSet/data.txt\")\n",
    "\n",
    "reduced = data[data[\"class\"] <= 2]\n",
    "X = reduced[[\"alcohol\", \"ash\"]].to_numpy()\n",
    "y = label_binarize(reduced[\"class\"].values, classes=[1, 2])[:, 0]"
   ]
  },
  {
   "cell_type": "code",
   "execution_count": 10,
   "metadata": {},
   "outputs": [
    {
     "name": "stdout",
     "output_type": "stream",
     "text": [
      "train: 97 test: 33\n"
     ]
    }
   ],
   "source": [
    "from sklearn.model_selection import train_test_split\n",
    "\n",
    "Xtrain, Xtest, ytrain, ytest = train_test_split(X, y, test_size=0.25, random_state=42)\n",
    "print(\"train:\", len(Xtrain), \"test:\", len(Xtest))"
   ]
  },
  {
   "cell_type": "code",
   "execution_count": 11,
   "metadata": {},
   "outputs": [
    {
     "data": {
      "image/png": "[encoded data removed]",
      "text/plain": [
       "<Figure size 640x480 with 1 Axes>"
      ]
     },
     "metadata": {},
     "output_type": "display_data"
    }
   ],
   "source": [
    "plot_points(Xtrain, ytrain)"
   ]
  },
  {
   "cell_type": "markdown",
   "metadata": {},
   "source": [
    "We can see that we can plot line that could divide the two colored points with a small amount of error.\n",
    "\n",
    "# Linear SVM\n",
    "\n",
    "- Using SVC class of sklearn.svm train a linear SVM"
   ]
  },
  {
   "cell_type": "code",
   "execution_count": 24,
   "metadata": {},
   "outputs": [],
   "source": [
    "from sklearn.svm import SVC\n",
    "\n",
    "model_svc = SVC(kernel=\"linear\", C=1).fit(Xtrain, ytrain)"
   ]
  },
  {
   "cell_type": "markdown",
   "metadata": {},
   "source": [
    "- print the dual parameters $\\alpha$"
   ]
  },
  {
   "cell_type": "code",
   "execution_count": 25,
   "metadata": {},
   "outputs": [
    {
     "name": "stdout",
     "output_type": "stream",
     "text": [
      "[[-1.         -0.41341938 -1.         -1.         -1.         -1.\n",
      "  -1.         -1.         -1.         -0.01028609 -1.         -1.\n",
      "  -1.         -1.         -1.          1.          1.          1.\n",
      "   1.          1.          0.42370547  1.          1.          1.\n",
      "   1.          1.          1.          1.          1.        ]]\n"
     ]
    }
   ],
   "source": [
    "print(model_svc.dual_coef_)"
   ]
  },
  {
   "cell_type": "markdown",
   "metadata": {},
   "source": [
    "- Plot the linear separator, show the margin and the support vector. "
   ]
  },
  {
   "cell_type": "code",
   "execution_count": 26,
   "metadata": {},
   "outputs": [
    {
     "name": "stdout",
     "output_type": "stream",
     "text": [
      "[[13.05  2.1 ]\n",
      " [13.05  3.22]\n",
      " [13.48  2.41]\n",
      " [13.24  2.29]\n",
      " [13.07  2.1 ]\n",
      " [13.74  2.25]\n",
      " [13.05  2.04]\n",
      " [13.41  2.12]\n",
      " [13.29  2.68]\n",
      " [13.68  2.36]\n",
      " [13.05  2.55]\n",
      " [13.2   2.14]\n",
      " [12.93  2.65]\n",
      " [13.16  2.67]\n",
      " [12.85  2.52]\n",
      " [13.67  1.92]\n",
      " [13.11  1.7 ]\n",
      " [13.34  2.36]\n",
      " [12.99  2.6 ]\n",
      " [12.67  2.24]\n",
      " [13.03  1.71]\n",
      " [13.49  2.24]\n",
      " [13.05  2.32]\n",
      " [12.7   2.4 ]\n",
      " [12.42  2.73]\n",
      " [13.05  2.13]\n",
      " [12.72  2.28]\n",
      " [13.86  2.67]\n",
      " [12.69  2.26]]\n"
     ]
    }
   ],
   "source": [
    "print(model_svc.support_vectors_)"
   ]
  },
  {
   "cell_type": "code",
   "execution_count": 28,
   "metadata": {},
   "outputs": [
    {
     "data": {
      "image/png": "[encoded data removed]",
      "text/plain": [
       "<Figure size 640x480 with 1 Axes>"
      ]
     },
     "metadata": {},
     "output_type": "display_data"
    }
   ],
   "source": [
    "plot_boundary(Xtrain, lambda x: model_svc.decision_function(x))\n",
    "plot_points(Xtrain, y)"
   ]
  },
  {
   "cell_type": "markdown",
   "metadata": {},
   "source": [
    "- Which training examples are misclassified? compute the slack variables $\\zeta_i$ for these samples"
   ]
  },
  {
   "cell_type": "code",
   "execution_count": null,
   "metadata": {},
   "outputs": [],
   "source": []
  },
  {
   "cell_type": "markdown",
   "metadata": {},
   "source": [
    "- Compute the confusion matrix, the accuray, the precision and the recall on the test data? "
   ]
  },
  {
   "cell_type": "code",
   "execution_count": null,
   "metadata": {},
   "outputs": [],
   "source": []
  },
  {
   "cell_type": "markdown",
   "metadata": {},
   "source": [
    "- Compute the accuray, the precision, the recall and the confusion matrix of your classifieur? what did you conclude? "
   ]
  },
  {
   "cell_type": "code",
   "execution_count": null,
   "metadata": {},
   "outputs": [],
   "source": []
  },
  {
   "cell_type": "code",
   "execution_count": 14,
   "metadata": {},
   "outputs": [
    {
     "ename": "ImportError",
     "evalue": "cannot import name 'plot_confusion_matrix' from 'sklearn.metrics' (/Users/ericwindsor/miniconda3/lib/python3.11/site-packages/sklearn/metrics/__init__.py)",
     "output_type": "error",
     "traceback": [
      "\u001b[0;31m---------------------------------------------------------------------------\u001b[0m",
      "\u001b[0;31mImportError\u001b[0m                               Traceback (most recent call last)",
      "Cell \u001b[0;32mIn[14], line 1\u001b[0m\n\u001b[0;32m----> 1\u001b[0m \u001b[38;5;28;01mfrom\u001b[39;00m \u001b[38;5;21;01msklearn\u001b[39;00m\u001b[38;5;21;01m.\u001b[39;00m\u001b[38;5;21;01mmetrics\u001b[39;00m \u001b[38;5;28;01mimport\u001b[39;00m confusion_matrix, plot_confusion_matrix, accuracy_score, precision_score, recall_score\n\u001b[1;32m      3\u001b[0m \u001b[38;5;241m.\u001b[39m\u001b[38;5;241m.\u001b[39m\u001b[38;5;241m.\u001b[39m\n",
      "\u001b[0;31mImportError\u001b[0m: cannot import name 'plot_confusion_matrix' from 'sklearn.metrics' (/Users/ericwindsor/miniconda3/lib/python3.11/site-packages/sklearn/metrics/__init__.py)"
     ]
    }
   ],
   "source": [
    "from sklearn.metrics import confusion_matrix, plot_confusion_matrix, accuracy_score, precision_score, recall_score\n",
    "\n",
    "..."
   ]
  },
  {
   "cell_type": "markdown",
   "metadata": {},
   "source": [
    "# Multiclass SVM\n",
    "\n",
    "The next step is something more interesting: we use a similar set of two features from the data set (this time alcohol and flavanoids), but with all three labels instead of two."
   ]
  },
  {
   "cell_type": "code",
   "execution_count": null,
   "metadata": {},
   "outputs": [],
   "source": [
    "X = data[['alcohol', 'flavanoids']].to_numpy()\n",
    "y = data['class'].to_numpy()\n",
    "Xtrain, Xtest, ytrain, ytest = train_test_split(X, y, test_size=0.25, random_state = 42)\n",
    "\n",
    "plot_points(Xtrain, ytrain)"
   ]
  },
  {
   "cell_type": "markdown",
   "metadata": {},
   "source": [
    "The plotted data points again suggest some obvious linear boundaries between the three classes.\n",
    "\n",
    "\n",
    "- Train and Test a linear SVM using the method one against rest"
   ]
  },
  {
   "cell_type": "code",
   "execution_count": null,
   "metadata": {},
   "outputs": [],
   "source": [
    "..."
   ]
  },
  {
   "cell_type": "markdown",
   "metadata": {},
   "source": [
    "- Train and Test a linear SVM using the method one against one"
   ]
  },
  {
   "cell_type": "code",
   "execution_count": null,
   "metadata": {},
   "outputs": [],
   "source": [
    "..."
   ]
  },
  {
   "cell_type": "markdown",
   "metadata": {},
   "source": [
    "- compare the result of the two methods?"
   ]
  },
  {
   "cell_type": "code",
   "execution_count": null,
   "metadata": {},
   "outputs": [],
   "source": [
    "..."
   ]
  },
  {
   "cell_type": "markdown",
   "metadata": {},
   "source": [
    "# Practice\n",
    "\n",
    "Next, we want to include all the features from the data set.  "
   ]
  },
  {
   "cell_type": "code",
   "execution_count": null,
   "metadata": {},
   "outputs": [],
   "source": [
    "X = data.drop('class', 1).to_numpy()\n",
    "y = data['class'].to_numpy()\n",
    "Xtrain, Xtest, ytrain, ytest = train_test_split(X, y, test_size=0.25, random_state = 42)"
   ]
  },
  {
   "cell_type": "markdown",
   "metadata": {},
   "source": [
    "Because we are now significantly increasing the number of features, since we have few training example we need to prevent overfitting.\n",
    "\n",
    "- Train and test a SVM classifier solution in this case"
   ]
  },
  {
   "cell_type": "code",
   "execution_count": null,
   "metadata": {},
   "outputs": [],
   "source": [
    "..."
   ]
  },
  {
   "cell_type": "markdown",
   "metadata": {},
   "source": [
    "- Conclude, What is your remarks about overfitting and generalisation compared to the previous results?"
   ]
  },
  {
   "cell_type": "code",
   "execution_count": null,
   "metadata": {},
   "outputs": [],
   "source": []
  }
 ],
 "metadata": {
  "kernelspec": {
   "display_name": "Python [conda env:root] *",
   "language": "python",
   "name": "conda-root-py"
  },
  "language_info": {
   "codemirror_mode": {
    "name": "ipython",
    "version": 3
   },
   "file_extension": ".py",
   "mimetype": "text/x-python",
   "name": "python",
   "nbconvert_exporter": "python",
   "pygments_lexer": "ipython3",
   "version": "3.11.5"
  }
 },
 "nbformat": 4,
 "nbformat_minor": 4
}
