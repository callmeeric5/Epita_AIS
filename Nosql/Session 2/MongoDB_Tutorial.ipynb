{
  "cells": [
    {
      "cell_type": "markdown",
      "metadata": {
        "id": "BmHxV1-0hnv4"
      },
      "source": [
        "# MongoDB Guide"
      ]
    },
    {
      "cell_type": "markdown",
      "metadata": {
        "id": "JsSu-gG6hy2s"
      },
      "source": [
        "### Step 1\n",
        "Install [pymongo](https://www.mongodb.com/docs/drivers/pymongo/) driver"
      ]
    },
    {
      "cell_type": "code",
      "execution_count": 1,
      "metadata": {
        "colab": {
          "base_uri": "https://localhost:8080/"
        },
        "id": "4m4YMn7OI8Yi",
        "outputId": "dcc56d87-c91e-4927-e28d-3a8a9453ab6a"
      },
      "outputs": [
        {
          "name": "stdout",
          "output_type": "stream",
          "text": [
            "Collecting pymongo[srv]\n",
            "  Downloading pymongo-4.6.1-cp310-cp310-manylinux_2_17_x86_64.manylinux2014_x86_64.whl (677 kB)\n",
            "\u001b[2K     \u001b[90m━━━━━━━━━━━━━━━━━━━━━━━━━━━━━━━━━━━━━━━━\u001b[0m \u001b[32m677.1/677.1 kB\u001b[0m \u001b[31m4.6 MB/s\u001b[0m eta \u001b[36m0:00:00\u001b[0m\n",
            "\u001b[?25hCollecting dnspython<3.0.0,>=1.16.0 (from pymongo[srv])\n",
            "  Downloading dnspython-2.5.0-py3-none-any.whl (305 kB)\n",
            "\u001b[2K     \u001b[90m━━━━━━━━━━━━━━━━━━━━━━━━━━━━━━━━━━━━━━━━\u001b[0m \u001b[32m305.4/305.4 kB\u001b[0m \u001b[31m35.4 MB/s\u001b[0m eta \u001b[36m0:00:00\u001b[0m\n",
            "\u001b[?25hInstalling collected packages: dnspython, pymongo\n",
            "Successfully installed dnspython-2.5.0 pymongo-4.6.1\n"
          ]
        }
      ],
      "source": [
        "!pip install \"pymongo[srv]\""
      ]
    },
    {
      "cell_type": "markdown",
      "metadata": {
        "id": "iPdKjLNsiOJZ"
      },
      "source": [
        "### Step 2\n",
        "\n",
        "#### Connect to Atlas cluster"
      ]
    },
    {
      "cell_type": "code",
      "execution_count": 2,
      "metadata": {
        "id": "DHBodADUAf45"
      },
      "outputs": [],
      "source": [
        "from pymongo.mongo_client import MongoClient\n",
        "from pymongo.server_api import ServerApi"
      ]
    },
    {
      "cell_type": "code",
      "execution_count": 3,
      "metadata": {
        "colab": {
          "base_uri": "https://localhost:8080/"
        },
        "id": "WB727QPVBBzG",
        "outputId": "eea29c91-2334-41d7-f56c-ecfc6b0aa09d"
      },
      "outputs": [
        {
          "name": "stdout",
          "output_type": "stream",
          "text": [
            "35.184.57.17"
          ]
        }
      ],
      "source": [
        "!curl ipecho.net/plain"
      ]
    },
    {
      "cell_type": "code",
      "execution_count": 4,
      "metadata": {
        "colab": {
          "base_uri": "https://localhost:8080/"
        },
        "id": "_zdor-1II7Sn",
        "outputId": "bccccc3c-37da-455a-e15a-ad5406153f18"
      },
      "outputs": [
        {
          "name": "stdout",
          "output_type": "stream",
          "text": [
            "Pinged your deployment. You successfully connected to MongoDB!\n"
          ]
        }
      ],
      "source": [
        "username = \"\"\n",
        "password = \"\"\n",
        "cluster_url = \"\"\n",
        "\n",
        "uri = f\"mongodb+srv://{username}:{password}@{cluster_url}/?retryWrites=true&w=majority\"\n",
        "\n",
        "# Create a new client and connect to the server\n",
        "client = MongoClient(uri, server_api=ServerApi('1'))\n",
        "\n",
        "# Send a ping to confirm a successful connection\n",
        "try:\n",
        "    client.admin.command('ping')\n",
        "    print(\"Pinged your deployment. You successfully connected to MongoDB!\")\n",
        "except Exception as e:\n",
        "    print(e)"
      ]
    },
    {
      "cell_type": "markdown",
      "metadata": {
        "id": "M5fNFEoTiwwU"
      },
      "source": [
        "### Step 3"
      ]
    },
    {
      "cell_type": "markdown",
      "metadata": {
        "id": "2ZW2IGGji04u"
      },
      "source": [
        "#### Basic commands"
      ]
    },
    {
      "cell_type": "markdown",
      "metadata": {
        "id": "1rlaVAO9nq8W"
      },
      "source": [
        "##### Getting a Database\n",
        "A single instance of MongoDB can support multiple independent databases. When working with PyMongo you access databases using attribute style access on MongoClient instances:"
      ]
    },
    {
      "cell_type": "code",
      "execution_count": null,
      "metadata": {
        "id": "nlDY20k3I5-h"
      },
      "outputs": [],
      "source": [
        "db = client.test_database"
      ]
    },
    {
      "cell_type": "markdown",
      "metadata": {
        "id": "dTRnjKjHn2yU"
      },
      "source": [
        "If your database name is such that using attribute style access won’t work (like test-database), you can use dictionary style access instead:"
      ]
    },
    {
      "cell_type": "code",
      "execution_count": null,
      "metadata": {
        "id": "p5v89sPfnz9Z"
      },
      "outputs": [],
      "source": [
        "db = client['test-database']"
      ]
    },
    {
      "cell_type": "markdown",
      "metadata": {
        "id": "IpWwrzQ3n8_U"
      },
      "source": [
        "##### Getting a Collection\n",
        "\n",
        "A collection is a group of documents stored in MongoDB, and can be thought of as roughly the equivalent of a table in a relational database. Getting a collection in PyMongo works the same as getting a database:"
      ]
    },
    {
      "cell_type": "code",
      "execution_count": null,
      "metadata": {
        "id": "Crf1Gg8cjTxw"
      },
      "outputs": [],
      "source": [
        "collection = db.test_collection"
      ]
    },
    {
      "cell_type": "markdown",
      "metadata": {
        "id": "xVrOnXF0oFoj"
      },
      "source": [
        "or (using dictionary style access):"
      ]
    },
    {
      "cell_type": "code",
      "execution_count": null,
      "metadata": {
        "id": "l587d7VAoI_4"
      },
      "outputs": [],
      "source": [
        "collection = db[\"test-collection\"]"
      ]
    },
    {
      "cell_type": "markdown",
      "metadata": {
        "id": "TOH7TKWfoM5e"
      },
      "source": [
        "An important note about collections (and databases) in MongoDB is that they are created lazily - none of the above commands have actually performed any operations on the MongoDB server. Collections and databases are created when the first document is inserted into them."
      ]
    },
    {
      "cell_type": "markdown",
      "metadata": {
        "id": "KaDX58DDoTvv"
      },
      "source": [
        "##### Documents\n",
        "Data in MongoDB is represented (and stored) using JSON-style documents. In PyMongo we use dictionaries to represent documents. As an example, the following dictionary might be used to represent a blog post:"
      ]
    },
    {
      "cell_type": "code",
      "execution_count": null,
      "metadata": {
        "id": "zv6PkHKQoLwH"
      },
      "outputs": [],
      "source": [
        "import datetime\n",
        "post = {\n",
        "    \"author\": \"Mike\",\n",
        "    \"text\": \"My first blog post!\",\n",
        "    \"tags\": [\"mongodb\", \"python\", \"pymongo\"],\n",
        "    \"date\": datetime.datetime.now(tz=datetime.timezone.utc),\n",
        "}"
      ]
    },
    {
      "cell_type": "markdown",
      "metadata": {
        "id": "NALXjrzLoath"
      },
      "source": [
        "Note that documents can contain native Python types (like datetime.datetime instances) which will be automatically converted to and from the appropriate BSON types."
      ]
    },
    {
      "cell_type": "markdown",
      "metadata": {
        "id": "NyEEJHJIodLq"
      },
      "source": [
        "##### Inserting a Document\n",
        "To insert a document into a collection we can use the insert_one() method:"
      ]
    },
    {
      "cell_type": "code",
      "execution_count": null,
      "metadata": {
        "colab": {
          "base_uri": "https://localhost:8080/"
        },
        "id": "N0fw27_5jY7p",
        "outputId": "2ce7b3ee-f12d-4f6f-f022-e5fd82d4f5d9"
      },
      "outputs": [
        {
          "data": {
            "text/plain": [
              "ObjectId('6561c2824615117e21a1e4be')"
            ]
          },
          "execution_count": 9,
          "metadata": {},
          "output_type": "execute_result"
        }
      ],
      "source": [
        "posts = db.posts2\n",
        "post_id = posts.insert_one(post).inserted_id\n",
        "post_id"
      ]
    },
    {
      "cell_type": "markdown",
      "metadata": {
        "id": "4XhfEPDFokU2"
      },
      "source": [
        "When a document is inserted a special key, \"_id\", is automatically added if the document doesn’t already contain an \"_id\" key. The value of \"_id\" must be unique across the collection. insert_one() returns an instance of InsertOneResult. For more information on \"_id\", see the documentation on _id.\n",
        "\n",
        "After inserting the first document, the posts collection has actually been created on the server. We can verify this by listing all of the collections in our database:"
      ]
    },
    {
      "cell_type": "code",
      "execution_count": null,
      "metadata": {
        "colab": {
          "base_uri": "https://localhost:8080/"
        },
        "id": "6uwcf76Kolvp",
        "outputId": "614c9f3f-7441-44b5-cd46-b9501214cb37"
      },
      "outputs": [
        {
          "data": {
            "text/plain": [
              "['posts', 'posts2']"
            ]
          },
          "execution_count": 10,
          "metadata": {},
          "output_type": "execute_result"
        }
      ],
      "source": [
        "db.list_collection_names()"
      ]
    },
    {
      "cell_type": "markdown",
      "metadata": {
        "id": "au63C-YPooGW"
      },
      "source": [
        "##### Getting a Single Document\n",
        "The most basic type of query that can be performed in MongoDB is find_one(). This method returns a single document matching a query (or None if there are no matches). It is useful when you know there is only one matching document, or are only interested in the first match. Here we use find_one() to get the first document from the posts collection:"
      ]
    },
    {
      "cell_type": "code",
      "execution_count": null,
      "metadata": {
        "colab": {
          "base_uri": "https://localhost:8080/"
        },
        "id": "WGCyuSTTotf5",
        "outputId": "52ddb4ff-725c-4efe-8eb8-6cd9ec3528f1"
      },
      "outputs": [
        {
          "name": "stdout",
          "output_type": "stream",
          "text": [
            "{'_id': ObjectId('6561c2824615117e21a1e4be'),\n",
            " 'author': 'Mike',\n",
            " 'date': datetime.datetime(2023, 11, 25, 9, 46, 39, 771000),\n",
            " 'tags': ['mongodb', 'python', 'pymongo'],\n",
            " 'text': 'My first blog post!'}\n"
          ]
        }
      ],
      "source": [
        "import pprint\n",
        "pprint.pprint(posts.find_one())"
      ]
    },
    {
      "cell_type": "markdown",
      "metadata": {
        "id": "Y76U8vkBowKZ"
      },
      "source": [
        "The result is a dictionary matching the one that we inserted previously.\n",
        "\n",
        "find_one() also supports querying on specific elements that the resulting document must match. To limit our results to a document with author “Mike” we do:"
      ]
    },
    {
      "cell_type": "code",
      "execution_count": null,
      "metadata": {
        "colab": {
          "base_uri": "https://localhost:8080/"
        },
        "id": "sosoOWQxo1GJ",
        "outputId": "8fbbb7f4-0a60-43be-d4ea-c7743b89b767"
      },
      "outputs": [
        {
          "name": "stdout",
          "output_type": "stream",
          "text": [
            "{'_id': ObjectId('6561c2824615117e21a1e4be'),\n",
            " 'author': 'Mike',\n",
            " 'date': datetime.datetime(2023, 11, 25, 9, 46, 39, 771000),\n",
            " 'tags': ['mongodb', 'python', 'pymongo'],\n",
            " 'text': 'My first blog post!'}\n"
          ]
        }
      ],
      "source": [
        "pprint.pprint(posts.find_one({\"author\": \"Mike\"}))"
      ]
    },
    {
      "cell_type": "markdown",
      "metadata": {
        "id": "xszE3PBRo4z7"
      },
      "source": [
        "If we try with a different author, like “Eliot”, we’ll get no result:"
      ]
    },
    {
      "cell_type": "code",
      "execution_count": null,
      "metadata": {
        "colab": {
          "base_uri": "https://localhost:8080/"
        },
        "id": "jh-nzLj8o5qy",
        "outputId": "edb00017-7c7c-4eae-fbb7-1e8dbc482fb6"
      },
      "outputs": [
        {
          "name": "stdout",
          "output_type": "stream",
          "text": [
            "None\n"
          ]
        }
      ],
      "source": [
        "pprint.pprint(posts.find_one({\"author\": \"Eliot\"}))"
      ]
    },
    {
      "cell_type": "markdown",
      "metadata": {
        "id": "XMNrWZdbpAiR"
      },
      "source": [
        "##### Querying By ObjectId\n",
        "We can also find a post by its _id, which in our example is an ObjectId:"
      ]
    },
    {
      "cell_type": "code",
      "execution_count": null,
      "metadata": {
        "colab": {
          "base_uri": "https://localhost:8080/"
        },
        "id": "ZjF4IFxspCir",
        "outputId": "0c76c896-5e26-4b7d-fe36-df3d9298be54"
      },
      "outputs": [
        {
          "name": "stdout",
          "output_type": "stream",
          "text": [
            "{'_id': ObjectId('6561c2824615117e21a1e4be'),\n",
            " 'author': 'Mike',\n",
            " 'date': datetime.datetime(2023, 11, 25, 9, 46, 39, 771000),\n",
            " 'tags': ['mongodb', 'python', 'pymongo'],\n",
            " 'text': 'My first blog post!'}\n"
          ]
        }
      ],
      "source": [
        "post_id\n",
        "pprint.pprint(posts.find_one({\"_id\": post_id}))"
      ]
    },
    {
      "cell_type": "markdown",
      "metadata": {
        "id": "IQkPeapVpNfY"
      },
      "source": [
        "Note that an ObjectId is not the same as its string representation:"
      ]
    },
    {
      "cell_type": "code",
      "execution_count": null,
      "metadata": {
        "colab": {
          "base_uri": "https://localhost:8080/"
        },
        "id": "c5JbnVxzpOWZ",
        "outputId": "89f8a755-5edc-4880-a1c1-e8f5a2c36c51"
      },
      "outputs": [
        {
          "name": "stdout",
          "output_type": "stream",
          "text": [
            "6561c2824615117e21a1e4be <class 'str'>\n",
            "6561c2824615117e21a1e4be <class 'bson.objectid.ObjectId'>\n",
            "None\n",
            "{'_id': ObjectId('6561c2824615117e21a1e4be'),\n",
            " 'author': 'Mike',\n",
            " 'date': datetime.datetime(2023, 11, 25, 9, 46, 39, 771000),\n",
            " 'tags': ['mongodb', 'python', 'pymongo'],\n",
            " 'text': 'My first blog post!'}\n"
          ]
        }
      ],
      "source": [
        "post_id_as_str = str(post_id)\n",
        "print(post_id_as_str, type(post_id_as_str))\n",
        "print(post_id, type(post_id))\n",
        "\n",
        "\n",
        "pprint.pprint(posts.find_one({\"_id\": post_id_as_str}))  # No result\n",
        "\n",
        "pprint.pprint(posts.find_one({\"_id\": post_id}))  # No result"
      ]
    },
    {
      "cell_type": "markdown",
      "metadata": {
        "id": "e6XBRg88pc20"
      },
      "source": [
        "A common task in web applications is to get an ObjectId from the request URL and find the matching document. It’s necessary in this case to convert the ObjectId from a string before passing it to find_one:"
      ]
    },
    {
      "cell_type": "code",
      "execution_count": null,
      "metadata": {
        "colab": {
          "base_uri": "https://localhost:8080/"
        },
        "id": "Y-oJ-BH3pd7y",
        "outputId": "e7c79399-883a-40e6-dc3f-bdcf031aa163"
      },
      "outputs": [
        {
          "name": "stdout",
          "output_type": "stream",
          "text": [
            "{'_id': ObjectId('6561c2824615117e21a1e4be'),\n",
            " 'author': 'Mike',\n",
            " 'date': datetime.datetime(2023, 11, 25, 9, 46, 39, 771000),\n",
            " 'tags': ['mongodb', 'python', 'pymongo'],\n",
            " 'text': 'My first blog post!'}\n"
          ]
        }
      ],
      "source": [
        "from bson.objectid import ObjectId\n",
        "\n",
        "pprint.pprint(posts.find_one({'_id': ObjectId(post_id_as_str)}))"
      ]
    },
    {
      "cell_type": "markdown",
      "metadata": {
        "id": "7uKLO1R2p0Rc"
      },
      "source": [
        "##### Bulk Inserts\n",
        "In order to make querying a little more interesting, let’s insert a few more documents. In addition to inserting a single document, we can also perform bulk insert operations, by passing a list as the first argument to insert_many(). This will insert each document in the list, sending only a single command to the server:"
      ]
    },
    {
      "cell_type": "code",
      "execution_count": null,
      "metadata": {
        "id": "MItz-_7Mpz0v"
      },
      "outputs": [],
      "source": [
        "new_posts = [\n",
        "    {\n",
        "        \"author\": \"Mike\",\n",
        "        \"text\": \"Another post!\",\n",
        "        \"tags\": [\"bulk\", \"insert\"],\n",
        "        \"date\": datetime.datetime(2009, 11, 12, 11, 14),\n",
        "    },\n",
        "    {\n",
        "        \"author\": \"Eliot\",\n",
        "        \"title\": \"MongoDB is fun\",\n",
        "        \"text\": \"and pretty easy too!\",\n",
        "        \"date\": datetime.datetime(2009, 11, 10, 10, 45),\n",
        "    },\n",
        "]\n",
        "result = posts.insert_many(new_posts)\n",
        "result.inserted_ids"
      ]
    },
    {
      "cell_type": "markdown",
      "metadata": {
        "id": "qn9Nqj1EqDiA"
      },
      "source": [
        "##### Querying for More Than One Document\n",
        "\n",
        "To get more than a single document as the result of a query we use the find() method. find() returns a Cursor instance, which allows us to iterate over all matching documents. For example, we can iterate over every document in the posts collection:"
      ]
    },
    {
      "cell_type": "code",
      "execution_count": null,
      "metadata": {
        "id": "brk96qA9qFrx"
      },
      "outputs": [],
      "source": [
        "for post in posts.find():\n",
        "    pprint.pprint(post)"
      ]
    },
    {
      "cell_type": "markdown",
      "metadata": {
        "id": "-HOz3OQbqKAB"
      },
      "source": [
        "Just like we did with find_one(), we can pass a document to find() to limit the returned results. Here, we get only those documents whose author is “Mike”:"
      ]
    },
    {
      "cell_type": "code",
      "execution_count": null,
      "metadata": {
        "id": "qhmLZ5FEqLB1"
      },
      "outputs": [],
      "source": [
        "for post in posts.find({\"author\": \"Mike\"}):\n",
        "    pprint.pprint(post)"
      ]
    },
    {
      "cell_type": "markdown",
      "metadata": {
        "id": "LwdT5PkmqSAa"
      },
      "source": [
        "##### Counting\n",
        "If we just want to know how many documents match a query we can perform a count_documents() operation instead of a full query. We can get a count of all of the documents in a collection:"
      ]
    },
    {
      "cell_type": "code",
      "execution_count": null,
      "metadata": {
        "id": "zB8nYavqqTit"
      },
      "outputs": [],
      "source": [
        "posts.count_documents({})"
      ]
    },
    {
      "cell_type": "markdown",
      "metadata": {
        "id": "mP4lU5hrqa4y"
      },
      "source": [
        "or just of those documents that match a specific query:"
      ]
    },
    {
      "cell_type": "code",
      "execution_count": null,
      "metadata": {
        "id": "aB_RXy0UqZ87"
      },
      "outputs": [],
      "source": [
        "posts.count_documents({\"author\": \"Mike\"})"
      ]
    },
    {
      "cell_type": "markdown",
      "metadata": {
        "id": "f0aBxWdSqeBK"
      },
      "source": [
        "##### Range Queries\n",
        "MongoDB supports many different types of advanced queries. As an example, lets perform a query where we limit results to posts older than a certain date, but also sort the results by author:"
      ]
    },
    {
      "cell_type": "code",
      "execution_count": null,
      "metadata": {
        "id": "9QRiaFLlqf4c"
      },
      "outputs": [],
      "source": [
        "d = datetime.datetime(2009, 11, 12, 12)\n",
        "for post in posts.find({\"date\": {\"$lt\": d}}).sort(\"author\"):\n",
        "    pprint.pprint(post)"
      ]
    },
    {
      "cell_type": "markdown",
      "metadata": {
        "id": "bvKYeK8pqkMh"
      },
      "source": [
        "Here we use the special \"$lt\" operator to do a range query, and also call sort() to sort the results by author."
      ]
    },
    {
      "cell_type": "markdown",
      "metadata": {
        "id": "hN0yqC6gqxjo"
      },
      "source": [
        "##### Indexing\n",
        "Adding indexes can help accelerate certain queries and can also add additional functionality to querying and storing documents. In this example, we’ll demonstrate how to create a unique index on a key that rejects documents whose value for that key already exists in the index.\n",
        "\n",
        "First, we’ll need to create the index:"
      ]
    },
    {
      "cell_type": "code",
      "execution_count": null,
      "metadata": {
        "id": "RVFjcp7iqztK"
      },
      "outputs": [],
      "source": [
        "from pymongo import ASCENDING\n",
        "\n",
        "\n",
        "result = db.profiles.create_index([(\"user_id\", ASCENDING)], unique=True)\n",
        "sorted(list(db.profiles.index_information()))"
      ]
    },
    {
      "cell_type": "markdown",
      "metadata": {
        "id": "wJflmgGlq9j-"
      },
      "source": [
        "Notice that we have two indexes now: one is the index on _id that MongoDB creates automatically, and the other is the index on user_id we just created.\n",
        "\n",
        "Now let’s set up some user profiles:"
      ]
    },
    {
      "cell_type": "code",
      "execution_count": null,
      "metadata": {
        "id": "sbpFvhNQrA42"
      },
      "outputs": [],
      "source": [
        "user_profiles = [{\"user_id\": 211, \"name\": \"Luke\"}, {\"user_id\": 212, \"name\": \"Ziltoid\"}]\n",
        "result = db.profiles.insert_many(user_profiles)"
      ]
    },
    {
      "cell_type": "markdown",
      "metadata": {
        "id": "v6xV8_MlrD88"
      },
      "source": [
        "The index prevents us from inserting a document whose user_id is already in the collection:"
      ]
    },
    {
      "cell_type": "code",
      "execution_count": null,
      "metadata": {
        "id": "EGIUr9y0rGqA"
      },
      "outputs": [],
      "source": [
        "new_profile = {\"user_id\": 213, \"name\": \"Drew\"}\n",
        "duplicate_profile = {\"user_id\": 212, \"name\": \"Tommy\"}\n",
        "result = db.profiles.insert_one(new_profile)  # This is fine.\n",
        "result = db.profiles.insert_one(duplicate_profile)"
      ]
    }
  ],
  "metadata": {
    "colab": {
      "provenance": []
    },
    "kernelspec": {
      "display_name": "Python 3",
      "name": "python3"
    },
    "language_info": {
      "name": "python"
    }
  },
  "nbformat": 4,
  "nbformat_minor": 0
}
